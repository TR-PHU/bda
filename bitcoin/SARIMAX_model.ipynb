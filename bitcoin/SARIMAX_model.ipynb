{
 "cells": [
  {
   "cell_type": "markdown",
   "id": "96ecf88a",
   "metadata": {},
   "source": [
    "## SARIMAX Model"
   ]
  },
  {
   "cell_type": "markdown",
   "id": "2ed631c2",
   "metadata": {},
   "source": [
    "### 1. Import libraries and get data"
   ]
  },
  {
   "cell_type": "code",
   "execution_count": 1,
   "id": "50dd5f6b",
   "metadata": {},
   "outputs": [],
   "source": [
    "import numpy as np\n",
    "import pandas as pd\n",
    "import matplotlib.pyplot as plt\n",
    "import pmdarima as pmd\n",
    "\n",
    "from sklearn.metrics import mean_squared_error, mean_absolute_error, mean_absolute_percentage_error\n",
    "from statsmodels.tsa.seasonal import seasonal_decompose\n",
    "from dateutil.parser import parse\n",
    "import statsmodels.api as sm"
   ]
  },
  {
   "cell_type": "code",
   "execution_count": 2,
   "id": "1f1895fc",
   "metadata": {},
   "outputs": [
    {
     "data": {
      "text/html": [
       "<div>\n",
       "<style scoped>\n",
       "    .dataframe tbody tr th:only-of-type {\n",
       "        vertical-align: middle;\n",
       "    }\n",
       "\n",
       "    .dataframe tbody tr th {\n",
       "        vertical-align: top;\n",
       "    }\n",
       "\n",
       "    .dataframe thead th {\n",
       "        text-align: right;\n",
       "    }\n",
       "</style>\n",
       "<table border=\"1\" class=\"dataframe\">\n",
       "  <thead>\n",
       "    <tr style=\"text-align: right;\">\n",
       "      <th></th>\n",
       "      <th>Price</th>\n",
       "    </tr>\n",
       "    <tr>\n",
       "      <th>Date</th>\n",
       "      <th></th>\n",
       "    </tr>\n",
       "  </thead>\n",
       "  <tbody>\n",
       "    <tr>\n",
       "      <th>2017-12-01</th>\n",
       "      <td>10861.5</td>\n",
       "    </tr>\n",
       "    <tr>\n",
       "      <th>2017-12-02</th>\n",
       "      <td>10912.7</td>\n",
       "    </tr>\n",
       "    <tr>\n",
       "      <th>2017-12-03</th>\n",
       "      <td>11246.2</td>\n",
       "    </tr>\n",
       "    <tr>\n",
       "      <th>2017-12-04</th>\n",
       "      <td>11623.9</td>\n",
       "    </tr>\n",
       "    <tr>\n",
       "      <th>2017-12-05</th>\n",
       "      <td>11667.1</td>\n",
       "    </tr>\n",
       "    <tr>\n",
       "      <th>...</th>\n",
       "      <td>...</td>\n",
       "    </tr>\n",
       "    <tr>\n",
       "      <th>2023-06-12</th>\n",
       "      <td>25906.8</td>\n",
       "    </tr>\n",
       "    <tr>\n",
       "      <th>2023-06-13</th>\n",
       "      <td>25929.4</td>\n",
       "    </tr>\n",
       "    <tr>\n",
       "      <th>2023-06-14</th>\n",
       "      <td>25129.5</td>\n",
       "    </tr>\n",
       "    <tr>\n",
       "      <th>2023-06-15</th>\n",
       "      <td>25591.3</td>\n",
       "    </tr>\n",
       "    <tr>\n",
       "      <th>2023-06-16</th>\n",
       "      <td>25599.1</td>\n",
       "    </tr>\n",
       "  </tbody>\n",
       "</table>\n",
       "<p>2024 rows × 1 columns</p>\n",
       "</div>"
      ],
      "text/plain": [
       "              Price\n",
       "Date               \n",
       "2017-12-01  10861.5\n",
       "2017-12-02  10912.7\n",
       "2017-12-03  11246.2\n",
       "2017-12-04  11623.9\n",
       "2017-12-05  11667.1\n",
       "...             ...\n",
       "2023-06-12  25906.8\n",
       "2023-06-13  25929.4\n",
       "2023-06-14  25129.5\n",
       "2023-06-15  25591.3\n",
       "2023-06-16  25599.1\n",
       "\n",
       "[2024 rows x 1 columns]"
      ]
     },
     "execution_count": 2,
     "metadata": {},
     "output_type": "execute_result"
    }
   ],
   "source": [
    "# Load the dataset\n",
    "df = pd.read_csv(\"./BTC.csv\")\n",
    "\n",
    "# Drop the unnecessary columns.\n",
    "df.drop(['Open', 'High', 'Low', 'Vol.', 'Change %'], axis=1, inplace=True)\n",
    "\n",
    "# Convert the \"Date\" column to datetime format\n",
    "df['Date'] = pd.to_datetime(df['Date'], format='%d-%b-%y')\n",
    "                                    \n",
    "# Sort the DataFrame by date\n",
    "df = df.sort_values('Date')\n",
    "\n",
    "# Set Date index\n",
    "df.set_index('Date', inplace=True)\n",
    "\n",
    "df"
   ]
  },
  {
   "cell_type": "markdown",
   "id": "74e04437",
   "metadata": {},
   "source": [
    "### 2. Split the data into training, test and validate sets"
   ]
  },
  {
   "cell_type": "code",
   "execution_count": 3,
   "id": "0c144c8d",
   "metadata": {},
   "outputs": [
    {
     "name": "stdout",
     "output_type": "stream",
     "text": [
      "Train shape: (1214, 1)\n",
      "Test shape: (607, 1)\n",
      "Validate shape: (203, 1)\n"
     ]
    }
   ],
   "source": [
    "train_size = int(0.6 * len(df))\n",
    "test_size = int(0.3 * len(df))\n",
    "val_size = len(df) - train_size - test_size\n",
    "\n",
    "train_data = df[:train_size]\n",
    "test_data = df[train_size:train_size+test_size]\n",
    "val_data = df[train_size+test_size:]\n",
    "\n",
    "print(\"Train shape:\", train_data.shape)\n",
    "print(\"Test shape:\", test_data.shape)\n",
    "print(\"Validate shape:\", val_data.shape)"
   ]
  },
  {
   "cell_type": "code",
   "execution_count": 4,
   "id": "081876c3",
   "metadata": {},
   "outputs": [
    {
     "name": "stdout",
     "output_type": "stream",
     "text": [
      "Train shape: (1416, 1)\n",
      "Test shape: (404, 1)\n",
      "Validate shape: (204, 1)\n"
     ]
    }
   ],
   "source": [
    "train_size = int(0.7 * len(df))\n",
    "test_size = int(0.2 * len(df))\n",
    "val_size = len(df) - train_size - test_size\n",
    "\n",
    "train_data = df[:train_size]\n",
    "test_data = df[train_size:train_size+test_size]\n",
    "val_data = df[train_size+test_size:]\n",
    "\n",
    "print(\"Train shape:\", train_data.shape)\n",
    "print(\"Test shape:\", test_data.shape)\n",
    "print(\"Validate shape:\", val_data.shape)"
   ]
  },
  {
   "cell_type": "code",
   "execution_count": 5,
   "id": "91ee204c",
   "metadata": {},
   "outputs": [
    {
     "name": "stdout",
     "output_type": "stream",
     "text": [
      "Train shape: (1214, 1)\n",
      "Test shape: (404, 1)\n",
      "Validate shape: (406, 1)\n"
     ]
    }
   ],
   "source": [
    "train_size = int(0.6 * len(df))\n",
    "test_size = int(0.2 * len(df))\n",
    "val_size = len(df) - train_size - test_size\n",
    "\n",
    "train_data = df[:train_size]\n",
    "test_data = df[train_size:train_size+test_size]\n",
    "val_data = df[train_size+test_size:]\n",
    "\n",
    "print(\"Train shape:\", train_data.shape)\n",
    "print(\"Test shape:\", test_data.shape)\n",
    "print(\"Validate shape:\", val_data.shape)"
   ]
  },
  {
   "cell_type": "markdown",
   "id": "467a515a",
   "metadata": {},
   "source": [
    "## 3. Perform SARIMAX Model"
   ]
  },
  {
   "cell_type": "markdown",
   "id": "5bc39fc6",
   "metadata": {},
   "source": [
    "Exogenous variable"
   ]
  },
  {
   "cell_type": "code",
   "execution_count": 6,
   "id": "c1df3e63",
   "metadata": {},
   "outputs": [
    {
     "name": "stderr",
     "output_type": "stream",
     "text": [
      "C:\\Users\\PHUTRAN\\AppData\\Local\\Temp\\ipykernel_14392\\586218167.py:1: SettingWithCopyWarning: \n",
      "A value is trying to be set on a copy of a slice from a DataFrame.\n",
      "Try using .loc[row_indexer,col_indexer] = value instead\n",
      "\n",
      "See the caveats in the documentation: https://pandas.pydata.org/pandas-docs/stable/user_guide/indexing.html#returning-a-view-versus-a-copy\n",
      "  train_data['seasonal_index'] = train_data.index.day\n"
     ]
    }
   ],
   "source": [
    "train_data['seasonal_index'] = train_data.index.day"
   ]
  },
  {
   "cell_type": "markdown",
   "id": "ed3028f4",
   "metadata": {},
   "source": [
    "### 3.1 Build the best SARIMAX Model from auto_arima"
   ]
  },
  {
   "cell_type": "code",
   "execution_count": 7,
   "id": "dfd38001",
   "metadata": {},
   "outputs": [
    {
     "name": "stdout",
     "output_type": "stream",
     "text": [
      "Performing stepwise search to minimize aic\n",
      " ARIMA(1,0,1)(0,1,1)[12] intercept   : AIC=inf, Time=4.72 sec\n",
      " ARIMA(0,0,0)(0,1,0)[12] intercept   : AIC=22299.096, Time=0.07 sec\n",
      " ARIMA(1,0,0)(1,1,0)[12] intercept   : AIC=19703.161, Time=2.49 sec\n",
      " ARIMA(0,0,1)(0,1,1)[12] intercept   : AIC=21140.131, Time=2.78 sec\n",
      " ARIMA(0,0,0)(0,1,0)[12]             : AIC=22328.312, Time=0.05 sec\n",
      " ARIMA(1,0,0)(0,1,0)[12] intercept   : AIC=19981.172, Time=0.46 sec\n",
      " ARIMA(1,0,0)(2,1,0)[12] intercept   : AIC=19493.663, Time=10.43 sec\n",
      " ARIMA(1,0,0)(2,1,1)[12] intercept   : AIC=inf, Time=17.24 sec\n",
      " ARIMA(1,0,0)(1,1,1)[12] intercept   : AIC=inf, Time=6.70 sec\n",
      " ARIMA(0,0,0)(2,1,0)[12] intercept   : AIC=22302.318, Time=4.20 sec\n",
      " ARIMA(2,0,0)(2,1,0)[12] intercept   : AIC=19495.662, Time=13.34 sec\n",
      " ARIMA(1,0,1)(2,1,0)[12] intercept   : AIC=19495.660, Time=16.04 sec\n",
      " ARIMA(0,0,1)(2,1,0)[12] intercept   : AIC=21141.760, Time=10.59 sec\n",
      " ARIMA(2,0,1)(2,1,0)[12] intercept   : AIC=inf, Time=23.30 sec\n",
      " ARIMA(1,0,0)(2,1,0)[12]             : AIC=19492.653, Time=5.13 sec\n",
      " ARIMA(1,0,0)(1,1,0)[12]             : AIC=19702.449, Time=1.92 sec\n",
      " ARIMA(1,0,0)(2,1,1)[12]             : AIC=inf, Time=17.57 sec\n",
      " ARIMA(1,0,0)(1,1,1)[12]             : AIC=inf, Time=3.66 sec\n",
      " ARIMA(0,0,0)(2,1,0)[12]             : AIC=22329.777, Time=5.70 sec\n",
      " ARIMA(2,0,0)(2,1,0)[12]             : AIC=19494.652, Time=6.72 sec\n",
      " ARIMA(1,0,1)(2,1,0)[12]             : AIC=19494.652, Time=7.83 sec\n",
      " ARIMA(0,0,1)(2,1,0)[12]             : AIC=21168.603, Time=8.85 sec\n",
      " ARIMA(2,0,1)(2,1,0)[12]             : AIC=19496.645, Time=7.24 sec\n",
      "\n",
      "Best model:  ARIMA(1,0,0)(2,1,0)[12]          \n",
      "Total fit time: 177.090 seconds\n"
     ]
    },
    {
     "data": {
      "text/html": [
       "<table class=\"simpletable\">\n",
       "<caption>SARIMAX Results</caption>\n",
       "<tr>\n",
       "  <th>Dep. Variable:</th>                  <td>y</td>               <th>  No. Observations:  </th>   <td>1214</td>   \n",
       "</tr>\n",
       "<tr>\n",
       "  <th>Model:</th>           <td>SARIMAX(1, 0, 0)x(2, 1, 0, 12)</td> <th>  Log Likelihood     </th> <td>-9742.327</td>\n",
       "</tr>\n",
       "<tr>\n",
       "  <th>Date:</th>                   <td>Fri, 16 Jun 2023</td>        <th>  AIC                </th> <td>19492.653</td>\n",
       "</tr>\n",
       "<tr>\n",
       "  <th>Time:</th>                       <td>23:29:36</td>            <th>  BIC                </th> <td>19513.020</td>\n",
       "</tr>\n",
       "<tr>\n",
       "  <th>Sample:</th>                    <td>12-01-2017</td>           <th>  HQIC               </th> <td>19500.325</td>\n",
       "</tr>\n",
       "<tr>\n",
       "  <th></th>                          <td>- 03-28-2021</td>          <th>                     </th>     <td> </td>    \n",
       "</tr>\n",
       "<tr>\n",
       "  <th>Covariance Type:</th>               <td>opg</td>              <th>                     </th>     <td> </td>    \n",
       "</tr>\n",
       "</table>\n",
       "<table class=\"simpletable\">\n",
       "<tr>\n",
       "      <td></td>        <th>coef</th>     <th>std err</th>      <th>z</th>      <th>P>|z|</th>  <th>[0.025</th>    <th>0.975]</th>  \n",
       "</tr>\n",
       "<tr>\n",
       "  <th>ar.L1</th>    <td>    0.9612</td> <td>    0.002</td> <td>  410.438</td> <td> 0.000</td> <td>    0.957</td> <td>    0.966</td>\n",
       "</tr>\n",
       "<tr>\n",
       "  <th>ar.S.L12</th> <td>   -0.6834</td> <td>    0.013</td> <td>  -52.141</td> <td> 0.000</td> <td>   -0.709</td> <td>   -0.658</td>\n",
       "</tr>\n",
       "<tr>\n",
       "  <th>ar.S.L24</th> <td>   -0.4621</td> <td>    0.013</td> <td>  -34.344</td> <td> 0.000</td> <td>   -0.488</td> <td>   -0.436</td>\n",
       "</tr>\n",
       "<tr>\n",
       "  <th>sigma2</th>   <td> 6.253e+05</td> <td> 8098.717</td> <td>   77.205</td> <td> 0.000</td> <td> 6.09e+05</td> <td> 6.41e+05</td>\n",
       "</tr>\n",
       "</table>\n",
       "<table class=\"simpletable\">\n",
       "<tr>\n",
       "  <th>Ljung-Box (L1) (Q):</th>     <td>0.00</td> <th>  Jarque-Bera (JB):  </th> <td>25358.30</td>\n",
       "</tr>\n",
       "<tr>\n",
       "  <th>Prob(Q):</th>                <td>0.95</td> <th>  Prob(JB):          </th>   <td>0.00</td>  \n",
       "</tr>\n",
       "<tr>\n",
       "  <th>Heteroskedasticity (H):</th> <td>3.77</td> <th>  Skew:              </th>   <td>0.65</td>  \n",
       "</tr>\n",
       "<tr>\n",
       "  <th>Prob(H) (two-sided):</th>    <td>0.00</td> <th>  Kurtosis:          </th>   <td>25.46</td> \n",
       "</tr>\n",
       "</table><br/><br/>Warnings:<br/>[1] Covariance matrix calculated using the outer product of gradients (complex-step)."
      ],
      "text/plain": [
       "<class 'statsmodels.iolib.summary.Summary'>\n",
       "\"\"\"\n",
       "                                     SARIMAX Results                                      \n",
       "==========================================================================================\n",
       "Dep. Variable:                                  y   No. Observations:                 1214\n",
       "Model:             SARIMAX(1, 0, 0)x(2, 1, 0, 12)   Log Likelihood               -9742.327\n",
       "Date:                            Fri, 16 Jun 2023   AIC                          19492.653\n",
       "Time:                                    23:29:36   BIC                          19513.020\n",
       "Sample:                                12-01-2017   HQIC                         19500.325\n",
       "                                     - 03-28-2021                                         \n",
       "Covariance Type:                              opg                                         \n",
       "==============================================================================\n",
       "                 coef    std err          z      P>|z|      [0.025      0.975]\n",
       "------------------------------------------------------------------------------\n",
       "ar.L1          0.9612      0.002    410.438      0.000       0.957       0.966\n",
       "ar.S.L12      -0.6834      0.013    -52.141      0.000      -0.709      -0.658\n",
       "ar.S.L24      -0.4621      0.013    -34.344      0.000      -0.488      -0.436\n",
       "sigma2      6.253e+05   8098.717     77.205      0.000    6.09e+05    6.41e+05\n",
       "===================================================================================\n",
       "Ljung-Box (L1) (Q):                   0.00   Jarque-Bera (JB):             25358.30\n",
       "Prob(Q):                              0.95   Prob(JB):                         0.00\n",
       "Heteroskedasticity (H):               3.77   Skew:                             0.65\n",
       "Prob(H) (two-sided):                  0.00   Kurtosis:                        25.46\n",
       "===================================================================================\n",
       "\n",
       "Warnings:\n",
       "[1] Covariance matrix calculated using the outer product of gradients (complex-step).\n",
       "\"\"\""
      ]
     },
     "execution_count": 7,
     "metadata": {},
     "output_type": "execute_result"
    }
   ],
   "source": [
    "# SARIMAX Model\n",
    "import pmdarima as pmd\n",
    "\n",
    "SARIMAX_model = pmd.auto_arima(train_data[['Price']], \n",
    "                        exogenous=train_data[['seasonal_index']],\n",
    "                           start_p=1, start_q=1,\n",
    "                           test='adf',\n",
    "                           max_p=3, max_q=3, m=12,\n",
    "                           start_P=0, seasonal=True,\n",
    "                           d=None, D=1, trace=True,\n",
    "                           error_action='ignore',  \n",
    "                           suppress_warnings=True, \n",
    "                           stepwise=True)\n",
    "\n",
    "SARIMAX_model.summary()"
   ]
  },
  {
   "cell_type": "markdown",
   "id": "fd73245e",
   "metadata": {},
   "source": [
    "### 3.2 Evaluate on Validate data"
   ]
  },
  {
   "cell_type": "code",
   "execution_count": 8,
   "id": "d634cdd2",
   "metadata": {},
   "outputs": [],
   "source": [
    "def evaluate_sarimax_model(y_data):\n",
    "    predictions = (SARIMAX_model.predict(n_periods=len(y_data))).values\n",
    "    mse = mean_squared_error(y_data, predictions)\n",
    "    mae = mean_absolute_error(y_data, predictions)\n",
    "    mape = mean_absolute_percentage_error(y_data, predictions)\n",
    "    rmse = mean_squared_error(y_data, predictions, squared=False)\n",
    "    return predictions, mse, mae, mape, rmse"
   ]
  },
  {
   "cell_type": "code",
   "execution_count": 9,
   "id": "41bee481",
   "metadata": {},
   "outputs": [
    {
     "name": "stdout",
     "output_type": "stream",
     "text": [
      "Price predict on validate data: [57137.98881512 55174.16754512 53335.52442547 53953.4793201\n",
      " 52978.04180799 51864.87316127 52255.95286791 50979.66329572\n",
      " 53546.01622223 53687.22268637 54093.18222996 53366.33956815\n",
      " 54388.43558264 53489.87991731 53959.564518   54744.77810017\n",
      " 55441.01612329 54800.6664133  55866.84529627 54723.22568839\n",
      " 57108.80448184 56993.34474567 55750.12964832 55987.33687452\n",
      " 57532.01455142 56214.58155465 56139.39365364 56511.30656494\n",
      " 56172.60500504 54218.27676782 54764.16093583 53123.11222406\n",
      " 53969.69935673 55668.02483491 55734.31750964 55591.79226084\n",
      " 56930.22817048 55396.08472707 54616.28191039 55183.46595253\n",
      " 54770.06494974 53486.11366902 54066.82375373 52695.97645545\n",
      " 54669.7778449  55239.3008677  55165.22504316 54829.51317374\n",
      " 56060.47934712 54861.3464526  54808.4869712  55427.04958827\n",
      " 55537.03810123 54396.4417048  55188.31653769 53857.41615301\n",
      " 55766.97176683 56264.93642347 55676.99214897 55644.30346401\n",
      " 57039.7135018  55707.62332694 55479.57209151 55968.95638372\n",
      " 55752.08253    54200.18892112 54828.25398107 53341.92282808\n",
      " 54771.3501915  55836.83135614 55662.04659528 55508.74608155\n",
      " 56838.7518759  55440.14160405 54993.41918758 55544.96570107\n",
      " 55307.33010395 53968.08657725 54608.4101687  53207.8143706\n",
      " 54993.11368596 55701.92554516 55480.43257496 55267.79867796\n",
      " 56564.84637518 55271.53700655 55053.67986335 55620.95705952\n",
      " 55547.13421057 54251.25511369 54957.58453656 53568.95700339\n",
      " 55331.69859193 56020.84908006 55639.23175018 55521.8059489\n",
      " 56870.56591461 55535.03375997 55260.85473607 55787.73510703\n",
      " 55610.66670114 54186.03323057 54840.7700748  53403.55852275\n",
      " 55016.51033153 55883.19246244 55631.8964102  55476.15023056\n",
      " 56804.1541289  55448.19865292 55106.15597365 55652.80344138\n",
      " 55470.04729491 54112.84126074 54771.8282619  53361.8016746\n",
      " 55087.07965264 55841.06508454 55574.26421121 55400.29415169\n",
      " 56718.18610606 55395.31504546 55125.30939546 55676.7592998\n",
      " 55545.25906086 54201.14064502 54880.7483956  53474.29010859\n",
      " 55191.72783572 55940.41456784 55623.71795608 55479.65171719\n",
      " 56813.79695726 55477.51321899 55189.40523383 55728.21721821\n",
      " 55564.10266027 54179.67652888 54843.03087532 53421.38266141\n",
      " 55092.09028677 55896.30202654 55620.70311525 55464.45983783\n",
      " 56792.01494171 55449.46039783 55140.29211421 55685.38448428\n",
      " 55519.74164934 54156.6882064  54821.49950918 53408.46626363\n",
      " 55114.6210419  55883.22520163 55602.49172043 55440.65162199\n",
      " 56765.10354717 55432.94022501 55146.44153467 55692.99623915\n",
      " 55543.38703605 54184.27429927 54855.52475978 53443.55014797\n",
      " 55147.00335321 55914.21691435 55617.93614053 55465.48590985\n",
      " 56795.04412451 55458.6193164  55166.30427033 55708.90416285\n",
      " 55548.99214086 54177.2605513  54843.38977414 53426.66521193\n",
      " 55115.54069444 55900.11727894 55616.7944796  55460.47448982\n",
      " 56787.93965937 55449.58962899 55150.73945792 55695.3333792\n",
      " 55535.02159017 54170.06257163 54836.68686834 53422.69115701\n",
      " 55122.75084664 55896.07747977 55611.05823533 55453.01974123\n",
      " 56779.53255374 55444.44530078 55152.72785542 55697.76598159\n",
      " 55542.46866748 54178.69332948 54847.32758665 53433.64432983\n",
      " 55132.77997554 55905.75539147 55615.891978   55460.80123959\n",
      " 56788.91774288 55452.47642009 55158.89086365 55702.69116214\n",
      " 55544.13923185 54176.41345019 54843.43390091 53428.26516404\n",
      " 55122.85352417 55901.25759429 55615.47910413 55459.15859098\n",
      " 56786.61021767 55449.57794991 55153.96475879 55698.39781074\n",
      " 55539.74532281 54174.16507623 54841.35257811 53427.04789621\n",
      " 55125.1645142  55900.01448849 55613.67673007 55456.82871214\n",
      " 56783.98809236 55447.98007402 55154.61076592 55699.17844073\n",
      " 55542.09391317 54176.86830277 54844.68300111 53430.47002908\n",
      " 55128.27260055 55903.0390391  55615.19207847 55459.26926424\n",
      " 56786.93215997 55450.49388871 55156.52482446 55700.70501906\n",
      " 55542.59240822 54176.13011729 54843.43624314 53428.75868283\n",
      " 55125.14292408 55901.60640927 55615.04700245 55458.73339798\n",
      " 56786.1850716  55449.56546675 55154.9673901  55699.34828052\n",
      " 55541.21189188 54175.42914473 54842.79131645 53428.38726065\n",
      " 55125.8843932  55901.22515435 55614.48175642 55458.00629443\n",
      " 56785.3683074  55449.07016962 55155.17789792 55699.59949572\n",
      " 55541.95330185 54176.27651441 54843.83434313 53429.45704112\n",
      " 55126.84803373 55902.17094575 55614.95740311 55458.77228206\n",
      " 56786.29234774 55449.85750449 55155.77276502 55700.07305986\n",
      " 55542.10212789 54176.03821821 54843.43577287 53428.91316695\n",
      " 55125.86181623 55901.71516501 55614.90739928 55458.59810684\n",
      " 56786.05106952 55449.56060544 55155.2807684  55699.64469519\n",
      " 55541.66873547 54175.82000904 54843.23627771 53428.80022218\n",
      " 55126.09985534 55901.59857147 55614.73039373 55458.37146049\n",
      " 56785.79692443 55449.40733713 55155.34948031 55699.72568836\n",
      " 55541.90295455 54176.08579321 54843.56308248 53429.13477786\n",
      " 55126.39871302 55901.8944525  55614.87983281 55458.61199839\n",
      " 56786.08706478 55449.65404546 55155.53445127 55699.87268339\n",
      " 55541.94738239 54176.00904623 54843.4358263  53428.96207715\n",
      " 55126.0880711  55901.74958373 55614.86282978 55458.55554537\n",
      " 56786.00929479 55449.55922281 55155.37912814 55699.73752859\n",
      " 55541.81141232 54175.94120264 54843.37420621 53428.92783938\n",
      " 55126.16451283 55901.71401887 55614.8074655  55458.48496454\n",
      " 56785.93028365 55449.51186203 55155.4015734  55699.76367047\n",
      " 55541.88544257 54176.02460543 54843.47663542 53429.03249628\n",
      " 55126.25721508 55901.80661088 55614.85444918 55458.56052789\n",
      " 56786.02141124 55449.58919265 55155.45910956 55699.80931758\n",
      " 55541.89869683 54175.99993288 54843.43604571 53428.97769404\n",
      " 55126.15940206 55901.76059876 55614.84872448 55458.54227146\n",
      " 56785.99638349 55449.55893958 55155.41009909 55699.76669771\n",
      " 55541.85606019 54175.97886106 54843.41703636 53428.96734592\n",
      " 55126.18395155 55901.74977575 55614.83142356 55458.5203089\n",
      " 56785.97183772 55449.5443228  55155.41743178 55699.77514037\n",
      " 55541.87946747 54176.00504126 54843.4491478  53429.00009162\n",
      " 55126.21270915 55901.77875746 55614.84620281 55458.54405307\n",
      " 56786.00046487 55449.5685677  55155.43533294 55699.78931951\n",
      " 55541.88341717 54175.99712107 54843.4362118  53428.98271095\n",
      " 55126.18191917 55901.76415217 55614.84428969 55458.53815972\n",
      " 56785.99242086 55449.55892349 55155.41987457 55699.77588559\n",
      " 55541.87005298 54175.99058189 54843.43035405 53428.97959229\n",
      " 55126.18980259 55901.76086582]\n"
     ]
    }
   ],
   "source": [
    "x_val= np.array(val_data.index).reshape(-1, 1)\n",
    "y_val = np.array(val_data)\n",
    "y_pred_val, val_mse, val_mae, val_mape, val_rmse = evaluate_sarimax_model(y_val)\n",
    "\n",
    "print(\"Price predict on validate data:\", y_pred_val)"
   ]
  },
  {
   "cell_type": "markdown",
   "id": "d89652c4",
   "metadata": {},
   "source": [
    "### 3.3 Evaluate on Test data"
   ]
  },
  {
   "cell_type": "code",
   "execution_count": 10,
   "id": "9b081a30",
   "metadata": {},
   "outputs": [
    {
     "name": "stdout",
     "output_type": "stream",
     "text": [
      "Price predict on test data: [57137.98881512 55174.16754512 53335.52442547 53953.4793201\n",
      " 52978.04180799 51864.87316127 52255.95286791 50979.66329572\n",
      " 53546.01622223 53687.22268637 54093.18222996 53366.33956815\n",
      " 54388.43558264 53489.87991731 53959.564518   54744.77810017\n",
      " 55441.01612329 54800.6664133  55866.84529627 54723.22568839\n",
      " 57108.80448184 56993.34474567 55750.12964832 55987.33687452\n",
      " 57532.01455142 56214.58155465 56139.39365364 56511.30656494\n",
      " 56172.60500504 54218.27676782 54764.16093583 53123.11222406\n",
      " 53969.69935673 55668.02483491 55734.31750964 55591.79226084\n",
      " 56930.22817048 55396.08472707 54616.28191039 55183.46595253\n",
      " 54770.06494974 53486.11366902 54066.82375373 52695.97645545\n",
      " 54669.7778449  55239.3008677  55165.22504316 54829.51317374\n",
      " 56060.47934712 54861.3464526  54808.4869712  55427.04958827\n",
      " 55537.03810123 54396.4417048  55188.31653769 53857.41615301\n",
      " 55766.97176683 56264.93642347 55676.99214897 55644.30346401\n",
      " 57039.7135018  55707.62332694 55479.57209151 55968.95638372\n",
      " 55752.08253    54200.18892112 54828.25398107 53341.92282808\n",
      " 54771.3501915  55836.83135614 55662.04659528 55508.74608155\n",
      " 56838.7518759  55440.14160405 54993.41918758 55544.96570107\n",
      " 55307.33010395 53968.08657725 54608.4101687  53207.8143706\n",
      " 54993.11368596 55701.92554516 55480.43257496 55267.79867796\n",
      " 56564.84637518 55271.53700655 55053.67986335 55620.95705952\n",
      " 55547.13421057 54251.25511369 54957.58453656 53568.95700339\n",
      " 55331.69859193 56020.84908006 55639.23175018 55521.8059489\n",
      " 56870.56591461 55535.03375997 55260.85473607 55787.73510703\n",
      " 55610.66670114 54186.03323057 54840.7700748  53403.55852275\n",
      " 55016.51033153 55883.19246244 55631.8964102  55476.15023056\n",
      " 56804.1541289  55448.19865292 55106.15597365 55652.80344138\n",
      " 55470.04729491 54112.84126074 54771.8282619  53361.8016746\n",
      " 55087.07965264 55841.06508454 55574.26421121 55400.29415169\n",
      " 56718.18610606 55395.31504546 55125.30939546 55676.7592998\n",
      " 55545.25906086 54201.14064502 54880.7483956  53474.29010859\n",
      " 55191.72783572 55940.41456784 55623.71795608 55479.65171719\n",
      " 56813.79695726 55477.51321899 55189.40523383 55728.21721821\n",
      " 55564.10266027 54179.67652888 54843.03087532 53421.38266141\n",
      " 55092.09028677 55896.30202654 55620.70311525 55464.45983783\n",
      " 56792.01494171 55449.46039783 55140.29211421 55685.38448428\n",
      " 55519.74164934 54156.6882064  54821.49950918 53408.46626363\n",
      " 55114.6210419  55883.22520163 55602.49172043 55440.65162199\n",
      " 56765.10354717 55432.94022501 55146.44153467 55692.99623915\n",
      " 55543.38703605 54184.27429927 54855.52475978 53443.55014797\n",
      " 55147.00335321 55914.21691435 55617.93614053 55465.48590985\n",
      " 56795.04412451 55458.6193164  55166.30427033 55708.90416285\n",
      " 55548.99214086 54177.2605513  54843.38977414 53426.66521193\n",
      " 55115.54069444 55900.11727894 55616.7944796  55460.47448982\n",
      " 56787.93965937 55449.58962899 55150.73945792 55695.3333792\n",
      " 55535.02159017 54170.06257163 54836.68686834 53422.69115701\n",
      " 55122.75084664 55896.07747977 55611.05823533 55453.01974123\n",
      " 56779.53255374 55444.44530078 55152.72785542 55697.76598159\n",
      " 55542.46866748 54178.69332948 54847.32758665 53433.64432983\n",
      " 55132.77997554 55905.75539147 55615.891978   55460.80123959\n",
      " 56788.91774288 55452.47642009 55158.89086365 55702.69116214\n",
      " 55544.13923185 54176.41345019 54843.43390091 53428.26516404\n",
      " 55122.85352417 55901.25759429 55615.47910413 55459.15859098\n",
      " 56786.61021767 55449.57794991 55153.96475879 55698.39781074\n",
      " 55539.74532281 54174.16507623 54841.35257811 53427.04789621\n",
      " 55125.1645142  55900.01448849 55613.67673007 55456.82871214\n",
      " 56783.98809236 55447.98007402 55154.61076592 55699.17844073\n",
      " 55542.09391317 54176.86830277 54844.68300111 53430.47002908\n",
      " 55128.27260055 55903.0390391  55615.19207847 55459.26926424\n",
      " 56786.93215997 55450.49388871 55156.52482446 55700.70501906\n",
      " 55542.59240822 54176.13011729 54843.43624314 53428.75868283\n",
      " 55125.14292408 55901.60640927 55615.04700245 55458.73339798\n",
      " 56786.1850716  55449.56546675 55154.9673901  55699.34828052\n",
      " 55541.21189188 54175.42914473 54842.79131645 53428.38726065\n",
      " 55125.8843932  55901.22515435 55614.48175642 55458.00629443\n",
      " 56785.3683074  55449.07016962 55155.17789792 55699.59949572\n",
      " 55541.95330185 54176.27651441 54843.83434313 53429.45704112\n",
      " 55126.84803373 55902.17094575 55614.95740311 55458.77228206\n",
      " 56786.29234774 55449.85750449 55155.77276502 55700.07305986\n",
      " 55542.10212789 54176.03821821 54843.43577287 53428.91316695\n",
      " 55125.86181623 55901.71516501 55614.90739928 55458.59810684\n",
      " 56786.05106952 55449.56060544 55155.2807684  55699.64469519\n",
      " 55541.66873547 54175.82000904 54843.23627771 53428.80022218\n",
      " 55126.09985534 55901.59857147 55614.73039373 55458.37146049\n",
      " 56785.79692443 55449.40733713 55155.34948031 55699.72568836\n",
      " 55541.90295455 54176.08579321 54843.56308248 53429.13477786\n",
      " 55126.39871302 55901.8944525  55614.87983281 55458.61199839\n",
      " 56786.08706478 55449.65404546 55155.53445127 55699.87268339\n",
      " 55541.94738239 54176.00904623 54843.4358263  53428.96207715\n",
      " 55126.0880711  55901.74958373 55614.86282978 55458.55554537\n",
      " 56786.00929479 55449.55922281 55155.37912814 55699.73752859\n",
      " 55541.81141232 54175.94120264 54843.37420621 53428.92783938\n",
      " 55126.16451283 55901.71401887 55614.8074655  55458.48496454\n",
      " 56785.93028365 55449.51186203 55155.4015734  55699.76367047\n",
      " 55541.88544257 54176.02460543 54843.47663542 53429.03249628\n",
      " 55126.25721508 55901.80661088 55614.85444918 55458.56052789\n",
      " 56786.02141124 55449.58919265 55155.45910956 55699.80931758\n",
      " 55541.89869683 54175.99993288 54843.43604571 53428.97769404\n",
      " 55126.15940206 55901.76059876 55614.84872448 55458.54227146\n",
      " 56785.99638349 55449.55893958 55155.41009909 55699.76669771\n",
      " 55541.85606019 54175.97886106 54843.41703636 53428.96734592\n",
      " 55126.18395155 55901.74977575 55614.83142356 55458.5203089\n",
      " 56785.97183772 55449.5443228  55155.41743178 55699.77514037\n",
      " 55541.87946747 54176.00504126 54843.4491478  53429.00009162\n",
      " 55126.21270915 55901.77875746 55614.84620281 55458.54405307\n",
      " 56786.00046487 55449.5685677  55155.43533294 55699.78931951\n",
      " 55541.88341717 54175.99712107 54843.4362118  53428.98271095\n",
      " 55126.18191917 55901.76415217 55614.84428969 55458.53815972\n",
      " 56785.99242086 55449.55892349 55155.41987457 55699.77588559\n",
      " 55541.87005298 54175.99058189 54843.43035405 53428.97959229]\n"
     ]
    }
   ],
   "source": [
    "x_test = np.array(test_data.index).reshape(-1, 1)\n",
    "y_test = np.array(test_data)\n",
    "y_pred_test, test_mse, test_mae, test_mape, test_rmse = evaluate_sarimax_model(y_test)\n",
    "\n",
    "print(\"Price predict on test data:\", y_pred_test)"
   ]
  },
  {
   "cell_type": "markdown",
   "id": "1b737492",
   "metadata": {},
   "source": [
    "### 3.4 Predict price for the next 30 days"
   ]
  },
  {
   "cell_type": "code",
   "execution_count": 11,
   "id": "7e206009",
   "metadata": {},
   "outputs": [
    {
     "name": "stdout",
     "output_type": "stream",
     "text": [
      "Predicted closing prices for the next 30 days:\n",
      "[57137.98881512 55174.16754512 53335.52442547 53953.4793201\n",
      " 52978.04180799 51864.87316127 52255.95286791 50979.66329572\n",
      " 53546.01622223 53687.22268637 54093.18222996 53366.33956815\n",
      " 54388.43558264 53489.87991731 53959.564518   54744.77810017\n",
      " 55441.01612329 54800.6664133  55866.84529627 54723.22568839\n",
      " 57108.80448184 56993.34474567 55750.12964832 55987.33687452\n",
      " 57532.01455142 56214.58155465 56139.39365364 56511.30656494\n",
      " 56172.60500504 54218.27676782]\n"
     ]
    }
   ],
   "source": [
    "last_index = len(df)\n",
    "date_range = pd.date_range(start=df.index[-1], periods=30, freq='D')\n",
    "\n",
    "# Create an array of 30 consecutive integers starting from last_index\n",
    "x_next_30_days = np.array(range(last_index+1, last_index+31)).reshape(-1, 1)\n",
    "\n",
    "# Predict the closing prices for the next 30 days\n",
    "y_next_30_days = (SARIMAX_model.predict(n_periods=len(x_next_30_days))).values\n",
    "\n",
    "# Print the predicted closing prices for the next 30 days\n",
    "print('Predicted closing prices for the next 30 days:')\n",
    "print(y_next_30_days)"
   ]
  },
  {
   "cell_type": "markdown",
   "id": "bbe5c0ad",
   "metadata": {},
   "source": [
    "### 4.  Evaluate accuracy validate, test data"
   ]
  },
  {
   "cell_type": "code",
   "execution_count": 12,
   "id": "1feec602",
   "metadata": {},
   "outputs": [
    {
     "name": "stdout",
     "output_type": "stream",
     "text": [
      "                   MSE           MAE      MAPE          RMSE\n",
      "Validate  1.063689e+09  32299.680233  1.499791  32614.244078\n",
      "Test      1.657067e+08  11299.816367  0.278596  12872.711410\n"
     ]
    }
   ],
   "source": [
    "metrics = {\n",
    "    'MSE': [val_mse, test_mse],\n",
    "    'MAE': [val_mae, test_mae],\n",
    "    'MAPE': [val_mape, test_mape],\n",
    "    'RMSE': [val_rmse, test_rmse],\n",
    "}\n",
    "\n",
    "df = pd.DataFrame(metrics, index=['Validate', 'Test'])\n",
    "\n",
    "print(df)\n"
   ]
  },
  {
   "cell_type": "code",
   "execution_count": 13,
   "id": "d6037eda",
   "metadata": {},
   "outputs": [
    {
     "data": {
      "image/png": "[encoded data removed]",
      "text/plain": [
       "<Figure size 640x480 with 1 Axes>"
      ]
     },
     "metadata": {},
     "output_type": "display_data"
    }
   ],
   "source": [
    "plt.plot(train_data.index, train_data['Price'])\n",
    "plt.plot(test_data.index, test_data['Price'])\n",
    "plt.plot(val_data.index, val_data['Price'])\n",
    "\n",
    "plt.plot(test_data.index, y_pred_test)\n",
    "plt.plot(val_data.index, y_pred_val)\n",
    "plt.plot(date_range, y_next_30_days)\n",
    "\n",
    "plt.legend(['Train', 'Test', 'Validate','PredictTestData', 'PredictValidateData','PredictNext30Day'])\n",
    "plt.show()"
   ]
  }
 ],
 "metadata": {
  "kernelspec": {
   "display_name": "Python 3 (ipykernel)",
   "language": "python",
   "name": "python3"
  },
  "language_info": {
   "codemirror_mode": {
    "name": "ipython",
    "version": 3
   },
   "file_extension": ".py",
   "mimetype": "text/x-python",
   "name": "python",
   "nbconvert_exporter": "python",
   "pygments_lexer": "ipython3",
   "version": "3.11.1"
  }
 },
 "nbformat": 4,
 "nbformat_minor": 5
}
