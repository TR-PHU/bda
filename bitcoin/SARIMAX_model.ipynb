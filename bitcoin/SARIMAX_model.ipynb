{
 "cells": [
  {
   "cell_type": "markdown",
   "id": "96ecf88a",
   "metadata": {},
   "source": [
    "## SARIMAX Model"
   ]
  },
  {
   "cell_type": "markdown",
   "id": "2ed631c2",
   "metadata": {},
   "source": [
    "### 1. Import libraries and get data"
   ]
  },
  {
   "cell_type": "code",
   "execution_count": 8,
   "id": "50dd5f6b",
   "metadata": {},
   "outputs": [],
   "source": [
    "import numpy as np\n",
    "import pandas as pd\n",
    "import matplotlib.pyplot as plt\n",
    "import pmdarima as pmd\n",
    "\n",
    "from sklearn.metrics import mean_squared_error, mean_absolute_error, mean_absolute_percentage_error\n",
    "from statsmodels.tsa.seasonal import seasonal_decompose\n",
    "from dateutil.parser import parse\n",
    "import statsmodels.api as sm"
   ]
  },
  {
   "cell_type": "code",
   "execution_count": 9,
   "id": "1f1895fc",
   "metadata": {},
   "outputs": [
    {
     "data": {
      "text/html": [
       "<div>\n",
       "<style scoped>\n",
       "    .dataframe tbody tr th:only-of-type {\n",
       "        vertical-align: middle;\n",
       "    }\n",
       "\n",
       "    .dataframe tbody tr th {\n",
       "        vertical-align: top;\n",
       "    }\n",
       "\n",
       "    .dataframe thead th {\n",
       "        text-align: right;\n",
       "    }\n",
       "</style>\n",
       "<table border=\"1\" class=\"dataframe\">\n",
       "  <thead>\n",
       "    <tr style=\"text-align: right;\">\n",
       "      <th></th>\n",
       "      <th>Price</th>\n",
       "    </tr>\n",
       "    <tr>\n",
       "      <th>Date</th>\n",
       "      <th></th>\n",
       "    </tr>\n",
       "  </thead>\n",
       "  <tbody>\n",
       "    <tr>\n",
       "      <th>2017-12-01</th>\n",
       "      <td>10861.5</td>\n",
       "    </tr>\n",
       "    <tr>\n",
       "      <th>2017-12-02</th>\n",
       "      <td>10912.7</td>\n",
       "    </tr>\n",
       "    <tr>\n",
       "      <th>2017-12-03</th>\n",
       "      <td>11246.2</td>\n",
       "    </tr>\n",
       "    <tr>\n",
       "      <th>2017-12-04</th>\n",
       "      <td>11623.9</td>\n",
       "    </tr>\n",
       "    <tr>\n",
       "      <th>2017-12-05</th>\n",
       "      <td>11667.1</td>\n",
       "    </tr>\n",
       "    <tr>\n",
       "      <th>...</th>\n",
       "      <td>...</td>\n",
       "    </tr>\n",
       "    <tr>\n",
       "      <th>2023-03-28</th>\n",
       "      <td>27262.2</td>\n",
       "    </tr>\n",
       "    <tr>\n",
       "      <th>2023-03-29</th>\n",
       "      <td>28350.4</td>\n",
       "    </tr>\n",
       "    <tr>\n",
       "      <th>2023-03-30</th>\n",
       "      <td>28029.5</td>\n",
       "    </tr>\n",
       "    <tr>\n",
       "      <th>2023-03-31</th>\n",
       "      <td>28473.7</td>\n",
       "    </tr>\n",
       "    <tr>\n",
       "      <th>2023-04-01</th>\n",
       "      <td>28456.1</td>\n",
       "    </tr>\n",
       "  </tbody>\n",
       "</table>\n",
       "<p>1948 rows × 1 columns</p>\n",
       "</div>"
      ],
      "text/plain": [
       "              Price\n",
       "Date               \n",
       "2017-12-01  10861.5\n",
       "2017-12-02  10912.7\n",
       "2017-12-03  11246.2\n",
       "2017-12-04  11623.9\n",
       "2017-12-05  11667.1\n",
       "...             ...\n",
       "2023-03-28  27262.2\n",
       "2023-03-29  28350.4\n",
       "2023-03-30  28029.5\n",
       "2023-03-31  28473.7\n",
       "2023-04-01  28456.1\n",
       "\n",
       "[1948 rows x 1 columns]"
      ]
     },
     "execution_count": 9,
     "metadata": {},
     "output_type": "execute_result"
    }
   ],
   "source": [
    "# Load the dataset\n",
    "df = pd.read_csv(\"./BTC.csv\")\n",
    "\n",
    "# Drop the unnecessary columns.\n",
    "df.drop(['Open', 'High', 'Low', 'Vol.', 'Change %'], axis=1, inplace=True)\n",
    "\n",
    "# Convert the \"Date\" column to datetime format\n",
    "df['Date'] = pd.to_datetime(df['Date'], format='%b %d, %Y')\n",
    "                                    \n",
    "# Sort the DataFrame by date\n",
    "df = df.sort_values('Date')\n",
    "\n",
    "# Set Date index\n",
    "df.set_index('Date', inplace=True)\n",
    "\n",
    "df"
   ]
  },
  {
   "cell_type": "markdown",
   "id": "74e04437",
   "metadata": {},
   "source": [
    "### 2. Split the data into training, test and validate sets"
   ]
  },
  {
   "cell_type": "code",
   "execution_count": 10,
   "id": "0c144c8d",
   "metadata": {},
   "outputs": [
    {
     "name": "stdout",
     "output_type": "stream",
     "text": [
      "Train shape: (1363, 1)\n",
      "Test shape: (292, 1)\n",
      "Validate shape: (293, 1)\n"
     ]
    }
   ],
   "source": [
    "train_size = int(0.7 * len(df))\n",
    "test_size = int(0.15 * len(df))\n",
    "val_size = len(df) - train_size - test_size\n",
    "\n",
    "train_data = df[:train_size]\n",
    "test_data = df[train_size:train_size+test_size]\n",
    "val_data = df[train_size+test_size:]\n",
    "\n",
    "print(\"Train shape:\", train_data.shape)\n",
    "print(\"Test shape:\", test_data.shape)\n",
    "print(\"Validate shape:\", val_data.shape)"
   ]
  },
  {
   "cell_type": "code",
   "execution_count": 11,
   "id": "91ee204c",
   "metadata": {},
   "outputs": [
    {
     "name": "stdout",
     "output_type": "stream",
     "text": [
      "Train shape: (1168, 1)\n",
      "Test shape: (389, 1)\n",
      "Validate shape: (391, 1)\n"
     ]
    }
   ],
   "source": [
    "train_size = int(0.6 * len(df))\n",
    "test_size = int(0.2 * len(df))\n",
    "val_size = len(df) - train_size - test_size\n",
    "\n",
    "train_data = df[:train_size]\n",
    "test_data = df[train_size:train_size+test_size]\n",
    "val_data = df[train_size+test_size:]\n",
    "\n",
    "print(\"Train shape:\", train_data.shape)\n",
    "print(\"Test shape:\", test_data.shape)\n",
    "print(\"Validate shape:\", val_data.shape)"
   ]
  },
  {
   "cell_type": "code",
   "execution_count": 12,
   "id": "081876c3",
   "metadata": {},
   "outputs": [
    {
     "name": "stdout",
     "output_type": "stream",
     "text": [
      "Train shape: (1363, 1)\n",
      "Test shape: (389, 1)\n",
      "Validate shape: (196, 1)\n"
     ]
    }
   ],
   "source": [
    "train_size = int(0.7 * len(df))\n",
    "test_size = int(0.2 * len(df))\n",
    "val_size = len(df) - train_size - test_size\n",
    "\n",
    "train_data = df[:train_size]\n",
    "test_data = df[train_size:train_size+test_size]\n",
    "val_data = df[train_size+test_size:]\n",
    "\n",
    "print(\"Train shape:\", train_data.shape)\n",
    "print(\"Test shape:\", test_data.shape)\n",
    "print(\"Validate shape:\", val_data.shape)"
   ]
  },
  {
   "cell_type": "markdown",
   "id": "467a515a",
   "metadata": {},
   "source": [
    "## 3. Perform SARIMAX Model"
   ]
  },
  {
   "cell_type": "markdown",
   "id": "5bc39fc6",
   "metadata": {},
   "source": [
    "Exogenous variable"
   ]
  },
  {
   "cell_type": "code",
   "execution_count": 13,
   "id": "c1df3e63",
   "metadata": {},
   "outputs": [
    {
     "name": "stderr",
     "output_type": "stream",
     "text": [
      "C:\\Users\\PHUTRAN\\AppData\\Local\\Temp\\ipykernel_30212\\586218167.py:1: SettingWithCopyWarning: \n",
      "A value is trying to be set on a copy of a slice from a DataFrame.\n",
      "Try using .loc[row_indexer,col_indexer] = value instead\n",
      "\n",
      "See the caveats in the documentation: https://pandas.pydata.org/pandas-docs/stable/user_guide/indexing.html#returning-a-view-versus-a-copy\n",
      "  train_data['seasonal_index'] = train_data.index.day\n"
     ]
    }
   ],
   "source": [
    "train_data['seasonal_index'] = train_data.index.day"
   ]
  },
  {
   "cell_type": "markdown",
   "id": "ed3028f4",
   "metadata": {},
   "source": [
    "### 3.1 Build the best SARIMAX Model from auto_arima"
   ]
  },
  {
   "cell_type": "code",
   "execution_count": 14,
   "id": "dfd38001",
   "metadata": {},
   "outputs": [
    {
     "name": "stdout",
     "output_type": "stream",
     "text": [
      "Performing stepwise search to minimize aic\n",
      " ARIMA(1,0,1)(0,1,1)[12] intercept   : AIC=inf, Time=6.40 sec\n",
      " ARIMA(0,0,0)(0,1,0)[12] intercept   : AIC=25700.352, Time=0.08 sec\n",
      " ARIMA(1,0,0)(1,1,0)[12] intercept   : AIC=22723.504, Time=4.36 sec\n",
      " ARIMA(0,0,1)(0,1,1)[12] intercept   : AIC=24552.697, Time=3.12 sec\n",
      " ARIMA(0,0,0)(0,1,0)[12]             : AIC=25709.580, Time=0.07 sec\n",
      " ARIMA(1,0,0)(0,1,0)[12] intercept   : AIC=23277.505, Time=0.56 sec\n",
      " ARIMA(1,0,0)(2,1,0)[12] intercept   : AIC=22627.473, Time=13.30 sec\n",
      " ARIMA(1,0,0)(2,1,1)[12] intercept   : AIC=inf, Time=18.50 sec\n",
      " ARIMA(1,0,0)(1,1,1)[12] intercept   : AIC=inf, Time=6.53 sec\n",
      " ARIMA(0,0,0)(2,1,0)[12] intercept   : AIC=25680.216, Time=4.05 sec\n",
      " ARIMA(2,0,0)(2,1,0)[12] intercept   : AIC=22625.702, Time=15.22 sec\n",
      " ARIMA(2,0,0)(1,1,0)[12] intercept   : AIC=22724.372, Time=5.56 sec\n",
      " ARIMA(2,0,0)(2,1,1)[12] intercept   : AIC=inf, Time=21.16 sec\n",
      " ARIMA(2,0,0)(1,1,1)[12] intercept   : AIC=inf, Time=7.22 sec\n",
      " ARIMA(3,0,0)(2,1,0)[12] intercept   : AIC=22624.212, Time=20.25 sec\n",
      " ARIMA(3,0,0)(1,1,0)[12] intercept   : AIC=22719.601, Time=6.90 sec\n",
      " ARIMA(3,0,0)(2,1,1)[12] intercept   : AIC=inf, Time=24.09 sec\n",
      " ARIMA(3,0,0)(1,1,1)[12] intercept   : AIC=inf, Time=10.22 sec\n",
      " ARIMA(3,0,1)(2,1,0)[12] intercept   : AIC=22627.114, Time=23.17 sec\n",
      " ARIMA(2,0,1)(2,1,0)[12] intercept   : AIC=22668.557, Time=18.98 sec\n",
      " ARIMA(3,0,0)(2,1,0)[12]             : AIC=22622.401, Time=19.45 sec\n",
      " ARIMA(3,0,0)(1,1,0)[12]             : AIC=22717.832, Time=5.98 sec\n",
      " ARIMA(3,0,0)(2,1,1)[12]             : AIC=inf, Time=17.96 sec\n",
      " ARIMA(3,0,0)(1,1,1)[12]             : AIC=inf, Time=9.01 sec\n",
      " ARIMA(2,0,0)(2,1,0)[12]             : AIC=22623.853, Time=14.02 sec\n",
      " ARIMA(3,0,1)(2,1,0)[12]             : AIC=inf, Time=27.76 sec\n",
      " ARIMA(2,0,1)(2,1,0)[12]             : AIC=22656.869, Time=16.90 sec\n",
      "\n",
      "Best model:  ARIMA(3,0,0)(2,1,0)[12]          \n",
      "Total fit time: 320.828 seconds\n"
     ]
    },
    {
     "data": {
      "text/html": [
       "<table class=\"simpletable\">\n",
       "<caption>SARIMAX Results</caption>\n",
       "<tr>\n",
       "  <th>Dep. Variable:</th>                  <td>y</td>               <th>  No. Observations:  </th>    <td>1363</td>   \n",
       "</tr>\n",
       "<tr>\n",
       "  <th>Model:</th>           <td>SARIMAX(3, 0, 0)x(2, 1, 0, 12)</td> <th>  Log Likelihood     </th> <td>-11305.200</td>\n",
       "</tr>\n",
       "<tr>\n",
       "  <th>Date:</th>                   <td>Mon, 12 Jun 2023</td>        <th>  AIC                </th>  <td>22622.401</td>\n",
       "</tr>\n",
       "<tr>\n",
       "  <th>Time:</th>                       <td>22:57:42</td>            <th>  BIC                </th>  <td>22653.653</td>\n",
       "</tr>\n",
       "<tr>\n",
       "  <th>Sample:</th>                    <td>12-01-2017</td>           <th>  HQIC               </th>  <td>22634.104</td>\n",
       "</tr>\n",
       "<tr>\n",
       "  <th></th>                          <td>- 08-24-2021</td>          <th>                     </th>      <td> </td>    \n",
       "</tr>\n",
       "<tr>\n",
       "  <th>Covariance Type:</th>               <td>opg</td>              <th>                     </th>      <td> </td>    \n",
       "</tr>\n",
       "</table>\n",
       "<table class=\"simpletable\">\n",
       "<tr>\n",
       "      <td></td>        <th>coef</th>     <th>std err</th>      <th>z</th>      <th>P>|z|</th>  <th>[0.025</th>    <th>0.975]</th>  \n",
       "</tr>\n",
       "<tr>\n",
       "  <th>ar.L1</th>    <td>    0.9116</td> <td>    0.017</td> <td>   53.592</td> <td> 0.000</td> <td>    0.878</td> <td>    0.945</td>\n",
       "</tr>\n",
       "<tr>\n",
       "  <th>ar.L2</th>    <td>    0.0998</td> <td>    0.022</td> <td>    4.519</td> <td> 0.000</td> <td>    0.056</td> <td>    0.143</td>\n",
       "</tr>\n",
       "<tr>\n",
       "  <th>ar.L3</th>    <td>   -0.0503</td> <td>    0.015</td> <td>   -3.462</td> <td> 0.001</td> <td>   -0.079</td> <td>   -0.022</td>\n",
       "</tr>\n",
       "<tr>\n",
       "  <th>ar.S.L12</th> <td>   -0.7629</td> <td>    0.014</td> <td>  -55.920</td> <td> 0.000</td> <td>   -0.790</td> <td>   -0.736</td>\n",
       "</tr>\n",
       "<tr>\n",
       "  <th>ar.S.L24</th> <td>   -0.2763</td> <td>    0.015</td> <td>  -18.930</td> <td> 0.000</td> <td>   -0.305</td> <td>   -0.248</td>\n",
       "</tr>\n",
       "<tr>\n",
       "  <th>sigma2</th>   <td> 1.072e+06</td> <td> 1.56e+04</td> <td>   68.583</td> <td> 0.000</td> <td> 1.04e+06</td> <td>  1.1e+06</td>\n",
       "</tr>\n",
       "</table>\n",
       "<table class=\"simpletable\">\n",
       "<tr>\n",
       "  <th>Ljung-Box (L1) (Q):</th>     <td>0.00</td> <th>  Jarque-Bera (JB):  </th> <td>10200.98</td>\n",
       "</tr>\n",
       "<tr>\n",
       "  <th>Prob(Q):</th>                <td>0.99</td> <th>  Prob(JB):          </th>   <td>0.00</td>  \n",
       "</tr>\n",
       "<tr>\n",
       "  <th>Heteroskedasticity (H):</th> <td>7.52</td> <th>  Skew:              </th>   <td>-0.07</td> \n",
       "</tr>\n",
       "<tr>\n",
       "  <th>Prob(H) (two-sided):</th>    <td>0.00</td> <th>  Kurtosis:          </th>   <td>16.46</td> \n",
       "</tr>\n",
       "</table><br/><br/>Warnings:<br/>[1] Covariance matrix calculated using the outer product of gradients (complex-step)."
      ],
      "text/plain": [
       "<class 'statsmodels.iolib.summary.Summary'>\n",
       "\"\"\"\n",
       "                                     SARIMAX Results                                      \n",
       "==========================================================================================\n",
       "Dep. Variable:                                  y   No. Observations:                 1363\n",
       "Model:             SARIMAX(3, 0, 0)x(2, 1, 0, 12)   Log Likelihood              -11305.200\n",
       "Date:                            Mon, 12 Jun 2023   AIC                          22622.401\n",
       "Time:                                    22:57:42   BIC                          22653.653\n",
       "Sample:                                12-01-2017   HQIC                         22634.104\n",
       "                                     - 08-24-2021                                         \n",
       "Covariance Type:                              opg                                         \n",
       "==============================================================================\n",
       "                 coef    std err          z      P>|z|      [0.025      0.975]\n",
       "------------------------------------------------------------------------------\n",
       "ar.L1          0.9116      0.017     53.592      0.000       0.878       0.945\n",
       "ar.L2          0.0998      0.022      4.519      0.000       0.056       0.143\n",
       "ar.L3         -0.0503      0.015     -3.462      0.001      -0.079      -0.022\n",
       "ar.S.L12      -0.7629      0.014    -55.920      0.000      -0.790      -0.736\n",
       "ar.S.L24      -0.2763      0.015    -18.930      0.000      -0.305      -0.248\n",
       "sigma2      1.072e+06   1.56e+04     68.583      0.000    1.04e+06     1.1e+06\n",
       "===================================================================================\n",
       "Ljung-Box (L1) (Q):                   0.00   Jarque-Bera (JB):             10200.98\n",
       "Prob(Q):                              0.99   Prob(JB):                         0.00\n",
       "Heteroskedasticity (H):               7.52   Skew:                            -0.07\n",
       "Prob(H) (two-sided):                  0.00   Kurtosis:                        16.46\n",
       "===================================================================================\n",
       "\n",
       "Warnings:\n",
       "[1] Covariance matrix calculated using the outer product of gradients (complex-step).\n",
       "\"\"\""
      ]
     },
     "execution_count": 14,
     "metadata": {},
     "output_type": "execute_result"
    }
   ],
   "source": [
    "# SARIMAX Model\n",
    "import pmdarima as pmd\n",
    "\n",
    "SARIMAX_model = pmd.auto_arima(train_data[['Price']], \n",
    "                        exogenous=train_data[['seasonal_index']],\n",
    "                           start_p=1, start_q=1,\n",
    "                           test='adf',\n",
    "                           max_p=3, max_q=3, m=12,\n",
    "                           start_P=0, seasonal=True,\n",
    "                           d=None, D=1, trace=True,\n",
    "                           error_action='ignore',  \n",
    "                           suppress_warnings=True, \n",
    "                           stepwise=True)\n",
    "\n",
    "SARIMAX_model.summary()"
   ]
  },
  {
   "cell_type": "markdown",
   "id": "fd73245e",
   "metadata": {},
   "source": [
    "### 3.2 Evaluate on Validate data"
   ]
  },
  {
   "cell_type": "code",
   "execution_count": 37,
   "id": "d634cdd2",
   "metadata": {},
   "outputs": [],
   "source": [
    "def evaluate_sarimax_model(y_data):\n",
    "    predictions = (SARIMAX_model.predict(n_periods=len(y_data))).values\n",
    "    mse = mean_squared_error(y_data, predictions)\n",
    "    mae = mean_absolute_error(y_data, predictions)\n",
    "    mape = mean_absolute_percentage_error(y_data, predictions)\n",
    "    rmse = mean_squared_error(y_data, predictions, squared=False)\n",
    "    return predictions, mse, mae, mape, rmse"
   ]
  },
  {
   "cell_type": "code",
   "execution_count": 38,
   "id": "41bee481",
   "metadata": {},
   "outputs": [
    {
     "name": "stdout",
     "output_type": "stream",
     "text": [
      "Price predict on validate data: [47095.23726167 46874.11835053 46092.33901451 46705.09626376\n",
      " 46726.87433611 47836.10612058 49465.16573053 50026.80768883\n",
      " 51046.19140875 50569.87702704 51010.85225631 49621.65425015\n",
      " 50465.28569669 49666.8587717  48962.60233245 48886.78828239\n",
      " 48395.60452815 49040.03812311 50757.16321226 51758.81486232\n",
      " 52322.61430701 52060.76291135 52159.11312584 50489.42960479\n",
      " 51202.60938353 50583.22554257 49894.20122223 49787.34619122\n",
      " 49213.24340453 49811.13860338 51472.91763301 52597.61037783\n",
      " 53011.60118429 52734.05438955 52965.88153664 51308.21803941\n",
      " 51638.32668823 50966.54602579 50172.11504241 50209.63365301\n",
      " 49773.67812778 50471.26906819 52089.22553227 52939.1843763\n",
      " 53536.33757378 53156.74761489 53328.78191048 51688.86759856\n",
      " 52298.65067112 51570.67410643 50807.56711457 50700.39651453\n",
      " 50140.51791444 50735.08575953 52363.49254791 53352.26589994\n",
      " 53815.73742638 53484.36684705 53632.50176472 51944.3636335\n",
      " 52416.48794785 51716.89551996 50931.18256545 50867.75828759\n",
      " 50338.54839668 50959.4675869  52568.2755908  53504.24750958\n",
      " 53997.17958247 53636.15475979 53798.80178157 52123.09894107\n",
      " 52604.28050967 51880.59983276 51086.21856402 51012.81030765\n",
      " 50478.50311427 51092.46651836 52698.62022416 53622.37736149\n",
      " 54116.17652821 53751.39079774 53897.01852244 52213.09097072\n",
      " 52713.80456532 51989.51993652 51197.29357865 51109.13002028\n",
      " 50560.3541931  51162.84535653 52767.3111399  53706.20319685\n",
      " 54182.77273005 53820.94906671 53967.76722588 52279.19861504\n",
      " 52755.32168653 52031.24557609 51233.13251998 51152.60510401\n",
      " 50610.14563161 51217.42002294 52818.24641358 53743.52778197\n",
      " 54227.77458255 53859.70724755 54005.49233438 52318.09797542\n",
      " 52803.12657946 52074.77474752 51276.4408043  51190.20896747\n",
      " 50643.12710357 51246.26921707 52846.82806673 53774.93790811\n",
      " 54254.84658606 53887.60896628 54030.85982862 52340.97531153\n",
      " 52823.23970388 52095.4356786  51296.34390765 51209.90102999\n",
      " 50662.24306305 51264.95076784 52864.5423381  53792.16287682\n",
      " 54271.2496721  53903.17231541 54046.78551173 52356.69233844\n",
      " 52836.89079015 52108.20280248 51308.16713628 51221.9400121\n",
      " 50674.53673302 51277.31268743 52876.36611038 53802.28120304\n",
      " 54281.94687994 53913.08292599 54055.96865003 52365.61635686\n",
      " 52847.09144877 52117.90486712 51317.8169237  51230.54011949\n",
      " 50682.19514243 51284.1678671  52883.06188773 53809.60869667\n",
      " 54288.28673827 53919.51193871 54062.13860603 52371.35558495\n",
      " 52851.76827441 52122.57273833 51322.17664786 51235.05596162\n",
      " 50686.79680666 51288.82317478 52887.46830688 53813.50547347\n",
      " 54292.29758796 53923.21137987 54065.79392652 52374.98563344\n",
      " 52855.44724505 52126.00340742 51325.47928819 51238.16669861\n",
      " 50689.7535958  51291.62591769 52890.18299797 53816.1250321\n",
      " 54294.80567068 53925.64668467 54068.05990391 52377.12605065\n",
      " 52857.59031862 52128.09473177 51327.5192821  51240.08496292\n",
      " 50691.54937929 51293.31662543 52891.80997828 53817.77352091\n",
      " 54296.32330642 53927.12869432 54069.51301233 52378.518308\n",
      " 52858.80980124 52129.27119786 51328.62508136 51241.19711544]\n"
     ]
    }
   ],
   "source": [
    "x_val= np.array(val_data.index).reshape(-1, 1)\n",
    "y_val = np.array(val_data)\n",
    "y_pred_val, val_mse, val_mae, val_mape, val_rmse = evaluate_sarimax_model(y_val)\n",
    "\n",
    "print(\"Price predict on validate data:\", y_pred_val)"
   ]
  },
  {
   "cell_type": "markdown",
   "id": "d89652c4",
   "metadata": {},
   "source": [
    "### 3.3 Evaluate on Test data"
   ]
  },
  {
   "cell_type": "code",
   "execution_count": 39,
   "id": "9b081a30",
   "metadata": {},
   "outputs": [
    {
     "name": "stdout",
     "output_type": "stream",
     "text": [
      "Price predict on test data: [47095.23726167 46874.11835053 46092.33901451 46705.09626376\n",
      " 46726.87433611 47836.10612058 49465.16573053 50026.80768883\n",
      " 51046.19140875 50569.87702704 51010.85225631 49621.65425015\n",
      " 50465.28569669 49666.8587717  48962.60233245 48886.78828239\n",
      " 48395.60452815 49040.03812311 50757.16321226 51758.81486232\n",
      " 52322.61430701 52060.76291135 52159.11312584 50489.42960479\n",
      " 51202.60938353 50583.22554257 49894.20122223 49787.34619122\n",
      " 49213.24340453 49811.13860338 51472.91763301 52597.61037783\n",
      " 53011.60118429 52734.05438955 52965.88153664 51308.21803941\n",
      " 51638.32668823 50966.54602579 50172.11504241 50209.63365301\n",
      " 49773.67812778 50471.26906819 52089.22553227 52939.1843763\n",
      " 53536.33757378 53156.74761489 53328.78191048 51688.86759856\n",
      " 52298.65067112 51570.67410643 50807.56711457 50700.39651453\n",
      " 50140.51791444 50735.08575953 52363.49254791 53352.26589994\n",
      " 53815.73742638 53484.36684705 53632.50176472 51944.3636335\n",
      " 52416.48794785 51716.89551996 50931.18256545 50867.75828759\n",
      " 50338.54839668 50959.4675869  52568.2755908  53504.24750958\n",
      " 53997.17958247 53636.15475979 53798.80178157 52123.09894107\n",
      " 52604.28050967 51880.59983276 51086.21856402 51012.81030765\n",
      " 50478.50311427 51092.46651836 52698.62022416 53622.37736149\n",
      " 54116.17652821 53751.39079774 53897.01852244 52213.09097072\n",
      " 52713.80456532 51989.51993652 51197.29357865 51109.13002028\n",
      " 50560.3541931  51162.84535653 52767.3111399  53706.20319685\n",
      " 54182.77273005 53820.94906671 53967.76722588 52279.19861504\n",
      " 52755.32168653 52031.24557609 51233.13251998 51152.60510401\n",
      " 50610.14563161 51217.42002294 52818.24641358 53743.52778197\n",
      " 54227.77458255 53859.70724755 54005.49233438 52318.09797542\n",
      " 52803.12657946 52074.77474752 51276.4408043  51190.20896747\n",
      " 50643.12710357 51246.26921707 52846.82806673 53774.93790811\n",
      " 54254.84658606 53887.60896628 54030.85982862 52340.97531153\n",
      " 52823.23970388 52095.4356786  51296.34390765 51209.90102999\n",
      " 50662.24306305 51264.95076784 52864.5423381  53792.16287682\n",
      " 54271.2496721  53903.17231541 54046.78551173 52356.69233844\n",
      " 52836.89079015 52108.20280248 51308.16713628 51221.9400121\n",
      " 50674.53673302 51277.31268743 52876.36611038 53802.28120304\n",
      " 54281.94687994 53913.08292599 54055.96865003 52365.61635686\n",
      " 52847.09144877 52117.90486712 51317.8169237  51230.54011949\n",
      " 50682.19514243 51284.1678671  52883.06188773 53809.60869667\n",
      " 54288.28673827 53919.51193871 54062.13860603 52371.35558495\n",
      " 52851.76827441 52122.57273833 51322.17664786 51235.05596162\n",
      " 50686.79680666 51288.82317478 52887.46830688 53813.50547347\n",
      " 54292.29758796 53923.21137987 54065.79392652 52374.98563344\n",
      " 52855.44724505 52126.00340742 51325.47928819 51238.16669861\n",
      " 50689.7535958  51291.62591769 52890.18299797 53816.1250321\n",
      " 54294.80567068 53925.64668467 54068.05990391 52377.12605065\n",
      " 52857.59031862 52128.09473177 51327.5192821  51240.08496292\n",
      " 50691.54937929 51293.31662543 52891.80997828 53817.77352091\n",
      " 54296.32330642 53927.12869432 54069.51301233 52378.518308\n",
      " 52858.80980124 52129.27119786 51328.62508136 51241.19711544\n",
      " 50692.66341834 51294.42453429 52892.8670104  53818.72144203\n",
      " 54297.28750815 53928.03030295 54070.37786125 52379.3628004\n",
      " 52859.68785736 52130.10266658 51329.43459807 51241.94888856\n",
      " 50693.36444054 51295.07935837 52893.50146747 53819.35940558\n",
      " 54297.87829549 53928.610543   54070.92864845 52379.88300434\n",
      " 52860.16972234 52130.57384828 51329.88621035 51242.38913635\n",
      " 50693.79131802 51295.49362003 52893.89770436 53819.73735301\n",
      " 54298.24376087 53928.95909089 54071.26921356 52380.21350227\n",
      " 52860.48269589 52130.87180761 51330.1705348  51242.66480679\n",
      " 50694.05923166 51295.75319171 52894.14712333 53819.97137817\n",
      " 54298.47307217 53929.17801667 54071.47718393 52380.41340265\n",
      " 52860.68330248 52131.06447257 51330.35753323 51242.84091036\n",
      " 50694.22511562 51295.90986811 52894.29821178 53820.12166491\n",
      " 54298.61349228 53929.31478241 54071.60889595 52380.53904522\n",
      " 52860.79882659 52131.17634479 51330.46417784 51242.94545963\n",
      " 50694.32730608 51296.00956942 52894.39362425 53820.21102857\n",
      " 54298.70119782 53929.39806704 54071.68937802 52380.61708045\n",
      " 52860.87544245 52131.24934645 51330.53447428 51243.01242819\n",
      " 50694.391271   51296.07064821 52894.4524759  53820.26794829\n",
      " 54298.75560471 53929.45060629 54071.73944563 52380.66492011\n",
      " 52860.92161426 52131.29395471 51330.57746893 51243.05361878\n",
      " 50694.43067509 51296.10839678 52894.48874085 53820.30316115\n",
      " 54298.7891594  53929.48293135 54071.77070601 52380.69497701\n",
      " 52860.94989624 52131.32112285 51330.6034393  51243.07883267\n",
      " 50694.45514867 51296.13211215 52894.51149483 53820.3246487\n",
      " 54298.81010497 53929.50292741 54071.78988741 52380.71347247\n",
      " 52860.96807359 52131.33853222 51330.62023855 51243.09481466\n",
      " 50694.47037009 51296.14662148 52894.5254678  53820.33826435\n",
      " 54298.8230411  53929.51543707 54071.80188033 52380.72494471\n",
      " 52860.97895616 52131.34903729 51330.6303185  51243.10455328\n",
      " 50694.47976548 51296.15568563 52894.5341651  53820.34658314\n",
      " 54298.83106611 53929.5231254  54071.80929966 52380.73209716\n",
      " 52860.98582606 52131.35561909 51330.63663568 51243.11062872\n",
      " 50694.48561338 51296.16131075 52894.5395723  53820.35175707\n",
      " 54298.83605537 53929.52791609 54071.81388747 52380.73650306\n",
      " 52860.99010173 52131.35973    51330.64059616 51243.1144165\n",
      " 50694.48923577 51296.16477774 52894.5429063  53820.35498865\n",
      " 54298.83913907 53929.53088879 54071.81674765 52380.73924748\n",
      " 52860.99270809 52131.3622385  51330.64300121 51243.11674014\n",
      " 50694.49147943 51296.16694298 52894.54498478 53820.35697098\n",
      " 54298.84105583 53929.53272463 54071.81851354 52380.74094836\n",
      " 52860.99435464 52131.36381722 51330.64451976 51243.1181949\n",
      " 50694.49287407 51296.16828006 52894.54627073 53820.35821053\n",
      " 54298.84224399 53929.53386847 54071.81961046 52380.7420006\n",
      " 52860.99536515 52131.36478993 51330.64545492 51243.11909356\n",
      " 50694.49373723 51296.16910938 52894.54706748 53820.35897743\n",
      " 54298.84297998 53929.53457585 54071.82029149 52380.74265538\n",
      " 52860.99599154 52131.3653916  51330.64603238 51243.11964972\n",
      " 50694.49427292]\n"
     ]
    }
   ],
   "source": [
    "x_test = np.array(test_data.index).reshape(-1, 1)\n",
    "y_test = np.array(test_data)\n",
    "y_pred_test, test_mse, test_mae, test_mape, test_rmse = evaluate_sarimax_model(y_test)\n",
    "\n",
    "print(\"Price predict on test data:\", y_pred_test)"
   ]
  },
  {
   "cell_type": "markdown",
   "id": "1b737492",
   "metadata": {},
   "source": [
    "### 3.4 Predict price for the next 30 days"
   ]
  },
  {
   "cell_type": "code",
   "execution_count": 40,
   "id": "7e206009",
   "metadata": {},
   "outputs": [
    {
     "name": "stdout",
     "output_type": "stream",
     "text": [
      "Predicted closing prices for the next 30 days:\n",
      "[47095.23726167 46874.11835053 46092.33901451 46705.09626376\n",
      " 46726.87433611 47836.10612058 49465.16573053 50026.80768883\n",
      " 51046.19140875 50569.87702704 51010.85225631 49621.65425015\n",
      " 50465.28569669 49666.8587717  48962.60233245 48886.78828239\n",
      " 48395.60452815 49040.03812311 50757.16321226 51758.81486232\n",
      " 52322.61430701 52060.76291135 52159.11312584 50489.42960479\n",
      " 51202.60938353 50583.22554257 49894.20122223 49787.34619122\n",
      " 49213.24340453 49811.13860338]\n"
     ]
    }
   ],
   "source": [
    "last_index = len(df)\n",
    "date_range = pd.date_range(start=df.index[-1], periods=30, freq='D')\n",
    "\n",
    "# Create an array of 30 consecutive integers starting from last_index\n",
    "x_next_30_days = np.array(range(last_index+1, last_index+31)).reshape(-1, 1)\n",
    "\n",
    "# Predict the closing prices for the next 30 days\n",
    "y_next_30_days = (SARIMAX_model.predict(n_periods=len(x_next_30_days))).values\n",
    "\n",
    "# Print the predicted closing prices for the next 30 days\n",
    "print('Predicted closing prices for the next 30 days:')\n",
    "print(y_next_30_days)"
   ]
  },
  {
   "cell_type": "markdown",
   "id": "bbe5c0ad",
   "metadata": {},
   "source": [
    "### 4.  Evaluate accuracy validate, test data"
   ]
  },
  {
   "cell_type": "code",
   "execution_count": 45,
   "id": "1feec602",
   "metadata": {},
   "outputs": [
    {
     "name": "stdout",
     "output_type": "stream",
     "text": [
      "                   MSE           MAE      MAPE          RMSE\n",
      "Validate  1.009086e+09  31570.274050  1.612253  31766.115346\n",
      "Test      3.519700e+08  15509.790536  0.563908  18760.862695\n"
     ]
    }
   ],
   "source": [
    "metrics = {\n",
    "    'MSE': [val_mse, test_mse],\n",
    "    'MAE': [val_mae, test_mae],\n",
    "    'MAPE': [val_mape, test_mape],\n",
    "    'RMSE': [val_rmse, test_rmse],\n",
    "}\n",
    "\n",
    "df = pd.DataFrame(metrics, index=['Validate', 'Test'])\n",
    "\n",
    "print(df)\n"
   ]
  },
  {
   "cell_type": "code",
   "execution_count": 46,
   "id": "d6037eda",
   "metadata": {},
   "outputs": [
    {
     "data": {
      "image/png": "[encoded data removed]",
      "text/plain": [
       "<Figure size 640x480 with 1 Axes>"
      ]
     },
     "metadata": {},
     "output_type": "display_data"
    }
   ],
   "source": [
    "plt.plot(train_data.index, train_data['Price'])\n",
    "plt.plot(test_data.index, test_data['Price'])\n",
    "plt.plot(val_data.index, val_data['Price'])\n",
    "\n",
    "plt.plot(test_data.index, y_pred_test)\n",
    "plt.plot(val_data.index, y_pred_val)\n",
    "plt.plot(date_range, y_next_30_days)\n",
    "\n",
    "plt.legend(['Train', 'Test', 'Validate','PredictTestData', 'PredictValidateData','PredictNext30Day'])\n",
    "plt.show()"
   ]
  }
 ],
 "metadata": {
  "kernelspec": {
   "display_name": "Python 3 (ipykernel)",
   "language": "python",
   "name": "python3"
  },
  "language_info": {
   "codemirror_mode": {
    "name": "ipython",
    "version": 3
   },
   "file_extension": ".py",
   "mimetype": "text/x-python",
   "name": "python",
   "nbconvert_exporter": "python",
   "pygments_lexer": "ipython3",
   "version": "3.11.1"
  }
 },
 "nbformat": 4,
 "nbformat_minor": 5
}
