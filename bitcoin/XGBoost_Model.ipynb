{
 "cells": [
  {
   "cell_type": "markdown",
   "id": "a06675ab",
   "metadata": {},
   "source": [
    "### 1. Import libraries and get data"
   ]
  },
  {
   "cell_type": "code",
   "execution_count": 4,
   "id": "8ce980f2",
   "metadata": {},
   "outputs": [],
   "source": [
    "import numpy as np\n",
    "import pandas as pd\n",
    "import matplotlib.pyplot as plt\n",
    "\n",
    "from sklearn.metrics import mean_squared_error, mean_absolute_error, mean_absolute_percentage_error\n",
    "from xgboost import XGBRegressor"
   ]
  },
  {
   "cell_type": "code",
   "execution_count": 5,
   "id": "f220def1",
   "metadata": {},
   "outputs": [
    {
     "data": {
      "text/html": [
       "<div>\n",
       "<style scoped>\n",
       "    .dataframe tbody tr th:only-of-type {\n",
       "        vertical-align: middle;\n",
       "    }\n",
       "\n",
       "    .dataframe tbody tr th {\n",
       "        vertical-align: top;\n",
       "    }\n",
       "\n",
       "    .dataframe thead th {\n",
       "        text-align: right;\n",
       "    }\n",
       "</style>\n",
       "<table border=\"1\" class=\"dataframe\">\n",
       "  <thead>\n",
       "    <tr style=\"text-align: right;\">\n",
       "      <th></th>\n",
       "      <th>Price</th>\n",
       "    </tr>\n",
       "    <tr>\n",
       "      <th>Date</th>\n",
       "      <th></th>\n",
       "    </tr>\n",
       "  </thead>\n",
       "  <tbody>\n",
       "    <tr>\n",
       "      <th>2017-12-01</th>\n",
       "      <td>10861.5</td>\n",
       "    </tr>\n",
       "    <tr>\n",
       "      <th>2017-12-02</th>\n",
       "      <td>10912.7</td>\n",
       "    </tr>\n",
       "    <tr>\n",
       "      <th>2017-12-03</th>\n",
       "      <td>11246.2</td>\n",
       "    </tr>\n",
       "    <tr>\n",
       "      <th>2017-12-04</th>\n",
       "      <td>11623.9</td>\n",
       "    </tr>\n",
       "    <tr>\n",
       "      <th>2017-12-05</th>\n",
       "      <td>11667.1</td>\n",
       "    </tr>\n",
       "    <tr>\n",
       "      <th>...</th>\n",
       "      <td>...</td>\n",
       "    </tr>\n",
       "    <tr>\n",
       "      <th>2023-03-28</th>\n",
       "      <td>27262.2</td>\n",
       "    </tr>\n",
       "    <tr>\n",
       "      <th>2023-03-29</th>\n",
       "      <td>28350.4</td>\n",
       "    </tr>\n",
       "    <tr>\n",
       "      <th>2023-03-30</th>\n",
       "      <td>28029.5</td>\n",
       "    </tr>\n",
       "    <tr>\n",
       "      <th>2023-03-31</th>\n",
       "      <td>28473.7</td>\n",
       "    </tr>\n",
       "    <tr>\n",
       "      <th>2023-04-01</th>\n",
       "      <td>28456.1</td>\n",
       "    </tr>\n",
       "  </tbody>\n",
       "</table>\n",
       "<p>1948 rows × 1 columns</p>\n",
       "</div>"
      ],
      "text/plain": [
       "              Price\n",
       "Date               \n",
       "2017-12-01  10861.5\n",
       "2017-12-02  10912.7\n",
       "2017-12-03  11246.2\n",
       "2017-12-04  11623.9\n",
       "2017-12-05  11667.1\n",
       "...             ...\n",
       "2023-03-28  27262.2\n",
       "2023-03-29  28350.4\n",
       "2023-03-30  28029.5\n",
       "2023-03-31  28473.7\n",
       "2023-04-01  28456.1\n",
       "\n",
       "[1948 rows x 1 columns]"
      ]
     },
     "execution_count": 5,
     "metadata": {},
     "output_type": "execute_result"
    }
   ],
   "source": [
    "# Load the dataset\n",
    "df = pd.read_csv(\"./BTC.csv\")\n",
    "\n",
    "# Drop the unnecessary columns.\n",
    "df.drop(['Open', 'High', 'Low', 'Vol.', 'Change %'], axis=1, inplace=True)\n",
    "\n",
    "# Convert the \"Date\" column to datetime format\n",
    "df['Date'] = pd.to_datetime(df['Date'], format='%b %d, %Y')\n",
    "                                    \n",
    "# Sort the DataFrame by date\n",
    "df = df.sort_values('Date')\n",
    "\n",
    "# Set Date index\n",
    "df.set_index('Date', inplace=True)\n",
    "\n",
    "df"
   ]
  },
  {
   "cell_type": "markdown",
   "id": "053acacc",
   "metadata": {},
   "source": [
    "Forecasting Horizon Explained"
   ]
  },
  {
   "cell_type": "code",
   "execution_count": 6,
   "id": "612a7e03",
   "metadata": {},
   "outputs": [],
   "source": [
    "def create_features(df):\n",
    "    \"\"\"\n",
    "    Create time series features based on time series index.\n",
    "    \"\"\"\n",
    "    df = df.copy()\n",
    "    df['hour'] = df.index.hour\n",
    "    df['dayofweek'] = df.index.dayofweek\n",
    "    df['quarter'] = df.index.quarter\n",
    "    df['month'] = df.index.month\n",
    "    df['year'] = df.index.year\n",
    "    df['dayofyear'] = df.index.dayofyear\n",
    "    df['dayofmonth'] = df.index.day\n",
    "    df['weekofyear'] = df.index.isocalendar().week\n",
    "    return df\n",
    "\n",
    "df = create_features(df)"
   ]
  },
  {
   "cell_type": "markdown",
   "id": "65942131",
   "metadata": {},
   "source": [
    "Lag features"
   ]
  },
  {
   "cell_type": "code",
   "execution_count": 7,
   "id": "96e712d9",
   "metadata": {},
   "outputs": [],
   "source": [
    "def add_lags(df):\n",
    "    target_map = df['Price'].to_dict()\n",
    "    df['lag1'] = (df.index - pd.Timedelta('364 days')).map(target_map)\n",
    "    df['lag2'] = (df.index - pd.Timedelta('728 days')).map(target_map)\n",
    "    df['lag3'] = (df.index - pd.Timedelta('1092 days')).map(target_map)\n",
    "    return df\n",
    "\n",
    "df = add_lags(df)"
   ]
  },
  {
   "cell_type": "markdown",
   "id": "104d6d19",
   "metadata": {},
   "source": [
    "### 2. Split the data into training, test and validate sets"
   ]
  },
  {
   "cell_type": "code",
   "execution_count": 8,
   "id": "d89ec53c",
   "metadata": {},
   "outputs": [
    {
     "name": "stdout",
     "output_type": "stream",
     "text": [
      "Train shape: (1363, 12)\n",
      "Test shape: (292, 12)\n",
      "Validate shape: (293, 12)\n"
     ]
    }
   ],
   "source": [
    "train_size = int(0.7 * len(df))\n",
    "test_size = int(0.15 * len(df))\n",
    "val_size = len(df) - train_size - test_size\n",
    "\n",
    "train_data = df[:train_size]\n",
    "test_data = df[train_size:train_size+test_size]\n",
    "val_data = df[train_size+test_size:]\n",
    "\n",
    "print(\"Train shape:\", train_data.shape)\n",
    "print(\"Test shape:\", test_data.shape)\n",
    "print(\"Validate shape:\", val_data.shape)"
   ]
  },
  {
   "cell_type": "code",
   "execution_count": 9,
   "id": "ee5099da",
   "metadata": {},
   "outputs": [
    {
     "name": "stdout",
     "output_type": "stream",
     "text": [
      "Train shape: (1168, 12)\n",
      "Test shape: (389, 12)\n",
      "Validate shape: (391, 12)\n"
     ]
    }
   ],
   "source": [
    "train_size = int(0.6 * len(df))\n",
    "test_size = int(0.2 * len(df))\n",
    "val_size = len(df) - train_size - test_size\n",
    "\n",
    "train_data = df[:train_size]\n",
    "test_data = df[train_size:train_size+test_size]\n",
    "val_data = df[train_size+test_size:]\n",
    "\n",
    "print(\"Train shape:\", train_data.shape)\n",
    "print(\"Test shape:\", test_data.shape)\n",
    "print(\"Validate shape:\", val_data.shape)"
   ]
  },
  {
   "cell_type": "code",
   "execution_count": 10,
   "id": "cbaa0a3b",
   "metadata": {},
   "outputs": [
    {
     "name": "stdout",
     "output_type": "stream",
     "text": [
      "Train shape: (1363, 12)\n",
      "Test shape: (389, 12)\n",
      "Validate shape: (196, 12)\n"
     ]
    }
   ],
   "source": [
    "train_size = int(0.7 * len(df))\n",
    "test_size = int(0.2 * len(df))\n",
    "val_size = len(df) - train_size - test_size\n",
    "\n",
    "train_data = df[:train_size]\n",
    "test_data = df[train_size:train_size+test_size]\n",
    "val_data = df[train_size+test_size:]\n",
    "\n",
    "print(\"Train shape:\", train_data.shape)\n",
    "print(\"Test shape:\", test_data.shape)\n",
    "print(\"Validate shape:\", val_data.shape)\n",
    "\n",
    "train_data = create_features(train_data)\n",
    "val_data = create_features(val_data)\n",
    "test_data = create_features(test_data)"
   ]
  },
  {
   "cell_type": "markdown",
   "id": "115e364e",
   "metadata": {},
   "source": [
    "## 3. Perform XGBoost Model"
   ]
  },
  {
   "cell_type": "markdown",
   "id": "ee69b186",
   "metadata": {},
   "source": [
    "### 3.1 Build and fit XGBoost Model with train data"
   ]
  },
  {
   "cell_type": "code",
   "execution_count": 11,
   "id": "ec8bfb2f",
   "metadata": {},
   "outputs": [
    {
     "name": "stdout",
     "output_type": "stream",
     "text": [
      "[01:34:10] WARNING: C:/Jenkins/workspace/xgboost-win64_release_0.90/src/objective/regression_obj.cu:152: reg:linear is now deprecated in favor of reg:squarederror.\n"
     ]
    },
    {
     "data": {
      "text/html": [
       "<style>#sk-container-id-1 {color: black;background-color: white;}#sk-container-id-1 pre{padding: 0;}#sk-container-id-1 div.sk-toggleable {background-color: white;}#sk-container-id-1 label.sk-toggleable__label {cursor: pointer;display: block;width: 100%;margin-bottom: 0;padding: 0.3em;box-sizing: border-box;text-align: center;}#sk-container-id-1 label.sk-toggleable__label-arrow:before {content: \"▸\";float: left;margin-right: 0.25em;color: #696969;}#sk-container-id-1 label.sk-toggleable__label-arrow:hover:before {color: black;}#sk-container-id-1 div.sk-estimator:hover label.sk-toggleable__label-arrow:before {color: black;}#sk-container-id-1 div.sk-toggleable__content {max-height: 0;max-width: 0;overflow: hidden;text-align: left;background-color: #f0f8ff;}#sk-container-id-1 div.sk-toggleable__content pre {margin: 0.2em;color: black;border-radius: 0.25em;background-color: #f0f8ff;}#sk-container-id-1 input.sk-toggleable__control:checked~div.sk-toggleable__content {max-height: 200px;max-width: 100%;overflow: auto;}#sk-container-id-1 input.sk-toggleable__control:checked~label.sk-toggleable__label-arrow:before {content: \"▾\";}#sk-container-id-1 div.sk-estimator input.sk-toggleable__control:checked~label.sk-toggleable__label {background-color: #d4ebff;}#sk-container-id-1 div.sk-label input.sk-toggleable__control:checked~label.sk-toggleable__label {background-color: #d4ebff;}#sk-container-id-1 input.sk-hidden--visually {border: 0;clip: rect(1px 1px 1px 1px);clip: rect(1px, 1px, 1px, 1px);height: 1px;margin: -1px;overflow: hidden;padding: 0;position: absolute;width: 1px;}#sk-container-id-1 div.sk-estimator {font-family: monospace;background-color: #f0f8ff;border: 1px dotted black;border-radius: 0.25em;box-sizing: border-box;margin-bottom: 0.5em;}#sk-container-id-1 div.sk-estimator:hover {background-color: #d4ebff;}#sk-container-id-1 div.sk-parallel-item::after {content: \"\";width: 100%;border-bottom: 1px solid gray;flex-grow: 1;}#sk-container-id-1 div.sk-label:hover label.sk-toggleable__label {background-color: #d4ebff;}#sk-container-id-1 div.sk-serial::before {content: \"\";position: absolute;border-left: 1px solid gray;box-sizing: border-box;top: 0;bottom: 0;left: 50%;z-index: 0;}#sk-container-id-1 div.sk-serial {display: flex;flex-direction: column;align-items: center;background-color: white;padding-right: 0.2em;padding-left: 0.2em;position: relative;}#sk-container-id-1 div.sk-item {position: relative;z-index: 1;}#sk-container-id-1 div.sk-parallel {display: flex;align-items: stretch;justify-content: center;background-color: white;position: relative;}#sk-container-id-1 div.sk-item::before, #sk-container-id-1 div.sk-parallel-item::before {content: \"\";position: absolute;border-left: 1px solid gray;box-sizing: border-box;top: 0;bottom: 0;left: 50%;z-index: -1;}#sk-container-id-1 div.sk-parallel-item {display: flex;flex-direction: column;z-index: 1;position: relative;background-color: white;}#sk-container-id-1 div.sk-parallel-item:first-child::after {align-self: flex-end;width: 50%;}#sk-container-id-1 div.sk-parallel-item:last-child::after {align-self: flex-start;width: 50%;}#sk-container-id-1 div.sk-parallel-item:only-child::after {width: 0;}#sk-container-id-1 div.sk-dashed-wrapped {border: 1px dashed gray;margin: 0 0.4em 0.5em 0.4em;box-sizing: border-box;padding-bottom: 0.4em;background-color: white;}#sk-container-id-1 div.sk-label label {font-family: monospace;font-weight: bold;display: inline-block;line-height: 1.2em;}#sk-container-id-1 div.sk-label-container {text-align: center;}#sk-container-id-1 div.sk-container {/* jupyter's `normalize.less` sets `[hidden] { display: none; }` but bootstrap.min.css set `[hidden] { display: none !important; }` so we also need the `!important` here to be able to override the default hidden behavior on the sphinx rendered scikit-learn.org. See: https://github.com/scikit-learn/scikit-learn/issues/21755 */display: inline-block !important;position: relative;}#sk-container-id-1 div.sk-text-repr-fallback {display: none;}</style><div id=\"sk-container-id-1\" class=\"sk-top-container\"><div class=\"sk-text-repr-fallback\"><pre>XGBRegressor(early_stopping_rounds=50, learning_rate=0.01, n_estimators=1000)</pre><b>In a Jupyter environment, please rerun this cell to show the HTML representation or trust the notebook. <br />On GitHub, the HTML representation is unable to render, please try loading this page with nbviewer.org.</b></div><div class=\"sk-container\" hidden><div class=\"sk-item\"><div class=\"sk-estimator sk-toggleable\"><input class=\"sk-toggleable__control sk-hidden--visually\" id=\"sk-estimator-id-1\" type=\"checkbox\" checked><label for=\"sk-estimator-id-1\" class=\"sk-toggleable__label sk-toggleable__label-arrow\">XGBRegressor</label><div class=\"sk-toggleable__content\"><pre>XGBRegressor(early_stopping_rounds=50, learning_rate=0.01, n_estimators=1000)</pre></div></div></div></div></div>"
      ],
      "text/plain": [
       "XGBRegressor(early_stopping_rounds=50, learning_rate=0.01, n_estimators=1000)"
      ]
     },
     "execution_count": 11,
     "metadata": {},
     "output_type": "execute_result"
    }
   ],
   "source": [
    "features = ['dayofyear', 'hour', 'dayofweek', 'quarter', 'month','year', 'lag1','lag2','lag3']\n",
    "target = 'Price'\n",
    "\n",
    "x_train = train_data[features]\n",
    "y_train = train_data[target]\n",
    "\n",
    "x_val = val_data[features]\n",
    "y_val = val_data[target]\n",
    "\n",
    "x_test = test_data[features]\n",
    "y_test = test_data[target]\n",
    "\n",
    "xgb_model = XGBRegressor(base_score=0.5,\n",
    "                       booster='gbtree',    \n",
    "                       n_estimators=1000,\n",
    "                       early_stopping_rounds=50,\n",
    "                       objective='reg:linear',\n",
    "                       max_depth=3,\n",
    "                       learning_rate=0.01)\n",
    "\n",
    "xgb_model.fit(x_train, y_train, eval_set=[(df[features], df[target])], early_stopping_rounds=50, verbose=False)"
   ]
  },
  {
   "cell_type": "markdown",
   "id": "b187f022",
   "metadata": {},
   "source": [
    "### 3.2 Evaluate on Validate data"
   ]
  },
  {
   "cell_type": "code",
   "execution_count": 12,
   "id": "799986d3",
   "metadata": {},
   "outputs": [],
   "source": [
    "def evaludate_xgb_model(x_data, y_data):\n",
    "    predictions = xgb_model.predict(x_data)\n",
    "    mse = mean_squared_error(y_data, predictions)\n",
    "    mae = mean_absolute_error(y_data, predictions)\n",
    "    mape = mean_absolute_percentage_error(y_data, predictions)\n",
    "    rmse = mean_squared_error(y_data, predictions, squared=False)\n",
    "    return predictions, mse, mae, mape, rmse"
   ]
  },
  {
   "cell_type": "code",
   "execution_count": 13,
   "id": "0087f1f8",
   "metadata": {},
   "outputs": [
    {
     "name": "stdout",
     "output_type": "stream",
     "text": [
      "Price predict on validate data: [36864.094 36864.094 36864.094 37215.285 36864.094 36864.094 36864.094\n",
      " 36864.094 36864.094 36864.094 36864.094 36864.094 36864.094 36864.094\n",
      " 36864.094 36864.094 36864.094 36864.094 36864.094 36864.094 36864.094\n",
      " 36864.094 36864.094 36864.094 36864.094 36864.094 36864.094 36864.094\n",
      " 36864.094 36864.094 36864.094 36864.094 36864.094 36864.094 36864.094\n",
      " 36864.094 36864.094 36864.094 36864.094 36864.094 36864.094 36864.094\n",
      " 36864.094 36864.094 36864.094 36864.094 36864.094 36864.094 36864.094\n",
      " 36864.094 36864.094 36864.094 36864.094 36864.094 36864.094 36864.094\n",
      " 36864.094 36864.094 36864.094 36864.094 36864.094 36864.094 36864.094\n",
      " 36864.094 36864.094 36864.094 36864.094 36864.094 36864.094 36864.094\n",
      " 36864.094 36864.094 36864.094 36864.094 36864.094 36864.094 36864.094\n",
      " 36864.094 36864.094 36864.094 36864.094 36864.094 36864.094 36864.094\n",
      " 36864.094 36864.094 36864.094 36864.094 36864.094 36864.094 36864.094\n",
      " 36864.094 36864.094 36864.094 36864.094 36864.094 36864.094 36864.094\n",
      " 36864.094 36864.094 36864.094 36864.094 36864.094 36864.094 36864.094\n",
      " 29826.852 29826.852 29826.852 29826.852 29826.852 29826.852 29826.852\n",
      " 29826.852 29826.852 29826.852 29826.852 29826.852 29826.852 29826.852\n",
      " 29826.852 29826.852 29826.852 29826.852 29826.852 29826.852 29826.852\n",
      " 29826.852 29826.852 29826.852 29826.852 29826.852 29826.852 29826.852\n",
      " 29826.852 29826.852 29826.852 29826.852 29826.852 30166.89  30166.89\n",
      " 30802.314 31502.219 31502.219 38225.574 38225.574 38225.574 39687.47\n",
      " 39687.47  39687.47  40350.656 40350.656 41149.605 41851.992 41851.992\n",
      " 41851.992 41851.992 41851.992 41851.992 41851.992 41851.992 41851.992\n",
      " 41851.992 41851.992 41851.992 41851.992 41851.992 41851.992 41851.992\n",
      " 41851.992 41851.992 42262.477 42746.85  42746.85  42746.85  42746.85\n",
      " 42746.85  42746.85  42746.85  42746.85  42746.85  42746.85  42746.85\n",
      " 42746.85  42746.85  42746.85  42746.85  42746.85  42746.85  42746.85\n",
      " 42746.85  42746.85  42746.85  42746.85  42746.85  42746.85  42746.85 ]\n"
     ]
    }
   ],
   "source": [
    "y_pred_val, val_mse, val_mae, val_mape, val_rmse = evaludate_xgb_model(x_val, y_val)\n",
    "\n",
    "print(\"Price predict on validate data:\", y_pred_val)"
   ]
  },
  {
   "cell_type": "markdown",
   "id": "2225f62f",
   "metadata": {},
   "source": [
    "### 3.3 Evaluate on Test data"
   ]
  },
  {
   "cell_type": "code",
   "execution_count": 14,
   "id": "2473094f",
   "metadata": {},
   "outputs": [
    {
     "name": "stdout",
     "output_type": "stream",
     "text": [
      "Price predict on test data: [37215.285 37215.285 37215.285 37215.285 37215.285 37215.285 36864.094\n",
      " 36864.094 34700.914 35052.098 34700.914 34700.914 35052.098 35052.098\n",
      " 35052.098 34700.914 35052.098 35052.098 35052.098 35205.293 35205.293\n",
      " 35205.293 35205.293 35205.293 35359.28  35205.293 35052.098 35052.098\n",
      " 35052.098 35205.293 35205.293 35205.293 35205.293 35205.293 35205.293\n",
      " 35205.293 35205.293 35205.293 35052.098 35205.293 35205.293 35205.293\n",
      " 35205.293 35205.293 35359.28  37215.285 37215.285 37215.285 37215.285\n",
      " 37215.285 37215.285 37215.285 37215.285 37215.285 37215.285 37215.285\n",
      " 37215.285 37215.285 37215.285 37215.285 37215.285 37215.285 37215.285\n",
      " 37215.285 37215.285 37215.285 37215.285 37215.285 37215.285 37215.285\n",
      " 37215.285 37215.285 37215.285 37215.285 37215.285 37215.285 37215.285\n",
      " 37215.285 37215.285 37215.285 37215.285 37215.285 37215.285 37215.285\n",
      " 37215.285 37215.285 37215.285 37215.285 37215.285 37215.285 37215.285\n",
      " 37215.285 37215.285 37215.285 37215.285 37215.285 37215.285 37215.285\n",
      " 37215.285 37215.285 37215.285 37215.285 37215.285 37215.285 37215.285\n",
      " 37215.285 37215.285 37215.285 37215.285 37215.285 37215.285 37215.285\n",
      " 37215.285 37215.285 37215.285 37215.285 37215.285 37215.285 37215.285\n",
      " 37215.285 37215.285 37215.285 37215.285 37215.285 37215.285 37215.285\n",
      " 37215.285 37215.285 37215.285 30161.887 30161.887 30161.887 30161.887\n",
      " 30161.887 30161.887 30161.887 30161.887 30161.887 30161.887 30161.887\n",
      " 30161.887 30161.887 30161.887 30161.887 30161.887 30161.887 30161.887\n",
      " 30161.887 30161.887 30161.887 30161.887 30161.887 30161.887 30161.887\n",
      " 30161.887 30161.887 30161.887 30161.887 30161.887 30161.887 30161.887\n",
      " 30161.887 30581.42  30581.42  31216.844 31916.748 31916.748 38640.105\n",
      " 38640.105 38640.105 40102.004 40102.004 40102.004 40765.19  40765.19\n",
      " 41564.14  42266.527 42266.527 42266.527 42266.527 42266.527 42266.527\n",
      " 42266.527 42266.527 42266.527 42266.527 42266.527 42266.527 42266.527\n",
      " 42266.527 42266.527 42266.527 42266.527 42266.527 42677.01  43161.383\n",
      " 43161.383 43161.383 43161.383 43161.383 43161.383 43161.383 43161.383\n",
      " 43161.383 43161.383 43161.383 43161.383 43161.383 43161.383 43161.383\n",
      " 43161.383 43161.383 43161.383 43161.383 43161.383 43161.383 43161.383\n",
      " 43161.383 43161.383 43161.383 43161.383 43161.383 43161.383 43161.383\n",
      " 43161.383 43161.383 43161.383 43161.383 43161.383 43161.383 43161.383\n",
      " 43161.383 43161.383 43161.383 43161.383 43161.383 43161.383 43161.383\n",
      " 43161.383 43161.383 43161.383 43161.383 43161.383 43161.383 43161.383\n",
      " 43161.383 43161.383 43161.383 43161.383 43161.383 43161.383 43161.383\n",
      " 43161.383 43161.383 43161.383 43161.383 43161.383 43161.383 43161.383\n",
      " 43161.383 42686.414 42686.414 42686.414 40348.387 40037.832 38298.29\n",
      " 37640.42  33863.68  33863.68  33512.91  33512.91  33512.91  33512.91\n",
      " 33512.91  33512.91  33512.91  33282.395 33282.395 33282.395 33282.395\n",
      " 33282.395 33282.395 33282.395 33282.395 33282.395 33282.395 33282.395\n",
      " 33282.395 33282.395 33282.395 33282.395 33282.395 33282.395 33282.395\n",
      " 33282.395 33282.395 33282.395 33282.395 33282.395 33282.395 33282.395\n",
      " 33282.395 33282.395 33282.395 33282.395 33282.395 33282.395 33282.395\n",
      " 33282.395 33282.395 33282.395 33282.395 33282.395 33282.395 33282.395\n",
      " 33282.395 33282.395 33282.395 33282.395 33282.395 33282.395 33282.395\n",
      " 33282.395 33282.395 33282.395 33282.395 33282.395 33282.395 33282.395\n",
      " 33282.395 33282.395 33282.395 33282.395 33282.395 32931.203 32931.203\n",
      " 34516.074 34516.074 34516.074 34516.074 34516.074 34516.074 34516.074\n",
      " 34516.074 34516.074 34516.074 35943.46  36864.094 36864.094 36864.094\n",
      " 36864.094 36864.094 36864.094 36864.094 36864.094 36864.094 36864.094\n",
      " 36864.094 36864.094 36864.094 36864.094 36864.094 36864.094 36864.094\n",
      " 36864.094 36864.094 36864.094 36864.094 36864.094 36864.094 36864.094\n",
      " 36864.094 37215.285 36864.094 37215.285 37215.285 37215.285 37215.285\n",
      " 37215.285 37215.285 37215.285 36864.094 37215.285 36864.094 36864.094\n",
      " 36864.094 36864.094 36864.094 36864.094]\n"
     ]
    }
   ],
   "source": [
    "y_pred_test, test_mse, test_mae, test_mape, test_rmse = evaludate_xgb_model(x_test, y_test)\n",
    "\n",
    "print(\"Price predict on test data:\", y_pred_test)"
   ]
  },
  {
   "cell_type": "markdown",
   "id": "f9b8e333",
   "metadata": {},
   "source": [
    "### 3.4 Predict price for the next 30 days"
   ]
  },
  {
   "cell_type": "code",
   "execution_count": 15,
   "id": "e7dd379d",
   "metadata": {},
   "outputs": [
    {
     "name": "stdout",
     "output_type": "stream",
     "text": [
      "Predicted closing prices for the next 30 days:\n",
      "[42746.85 42746.85 42746.85 42746.85 42746.85 42746.85 42746.85 42746.85\n",
      " 42746.85 42746.85 42746.85 42746.85 42746.85 42746.85 42746.85 42746.85\n",
      " 42746.85 42746.85 42746.85 42746.85 42746.85 42746.85 42746.85 42746.85\n",
      " 42746.85 42746.85 42746.85 42746.85 42746.85 42746.85]\n"
     ]
    }
   ],
   "source": [
    "future_range = pd.date_range(start=df.index[-1], periods=30, freq='D')\n",
    "future_df = pd.DataFrame(index=future_range)\n",
    "future_df['isFuture'] = True\n",
    "df['isFuture'] = False\n",
    "df_and_future = pd.concat([df, future_df])\n",
    "df_and_future = create_features(df_and_future)\n",
    "df_and_future = add_lags(df_and_future)\n",
    "\n",
    "future_w_features = df_and_future.query('isFuture').copy()\n",
    "\n",
    "\n",
    "# Predict the closing prices for the next 30 days\n",
    "y_next_30_days = xgb_model.predict(future_w_features[features])\n",
    "\n",
    "# Print the predicted closing prices for the next 30 days\n",
    "print('Predicted closing prices for the next 30 days:')\n",
    "print(y_next_30_days)"
   ]
  },
  {
   "cell_type": "code",
   "execution_count": 16,
   "id": "95dfb36e",
   "metadata": {},
   "outputs": [
    {
     "name": "stdout",
     "output_type": "stream",
     "text": [
      "                   MSE           MAE      MAPE          RMSE\n",
      "Validate  2.889153e+08  16490.984907  0.844044  16997.508236\n",
      "Test      1.715294e+08  11175.635325  0.320749  13096.923982\n"
     ]
    }
   ],
   "source": [
    "metrics = {\n",
    "    'MSE': [val_mse, test_mse],\n",
    "    'MAE': [val_mae, test_mae],\n",
    "    'MAPE': [val_mape, test_mape],\n",
    "    'RMSE': [val_rmse, test_rmse],\n",
    "}\n",
    "\n",
    "acc = pd.DataFrame(metrics, index=['Validate', 'Test'])\n",
    "\n",
    "print(acc)"
   ]
  },
  {
   "cell_type": "code",
   "execution_count": 17,
   "id": "37018b05",
   "metadata": {},
   "outputs": [
    {
     "data": {
      "image/png": "[encoded data removed]",
      "text/plain": [
       "<Figure size 640x480 with 1 Axes>"
      ]
     },
     "metadata": {},
     "output_type": "display_data"
    }
   ],
   "source": [
    "plt.plot(train_data.index, train_data['Price'])\n",
    "plt.plot(test_data.index, test_data['Price'])\n",
    "plt.plot(val_data.index, val_data['Price'])\n",
    "\n",
    "plt.plot(test_data.index, y_pred_test)\n",
    "plt.plot(val_data.index, y_pred_val)\n",
    "plt.plot(future_range, y_next_30_days)\n",
    "\n",
    "plt.legend(['Train', 'Test', 'Validate','PredictTestData', 'PredictValidateData','PredictNext30Day'])\n",
    "plt.show()"
   ]
  },
  {
   "cell_type": "code",
   "execution_count": null,
   "id": "b5294425",
   "metadata": {},
   "outputs": [],
   "source": []
  }
 ],
 "metadata": {
  "kernelspec": {
   "display_name": "Python 3 (ipykernel)",
   "language": "python",
   "name": "python3"
  },
  "language_info": {
   "codemirror_mode": {
    "name": "ipython",
    "version": 3
   },
   "file_extension": ".py",
   "mimetype": "text/x-python",
   "name": "python",
   "nbconvert_exporter": "python",
   "pygments_lexer": "ipython3",
   "version": "3.11.1"
  }
 },
 "nbformat": 4,
 "nbformat_minor": 5
}
