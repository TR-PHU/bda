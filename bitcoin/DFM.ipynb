{
 "cells": [
  {
   "cell_type": "code",
   "execution_count": 34,
   "id": "1488bcec",
   "metadata": {},
   "outputs": [],
   "source": [
    "import pandas as pd\n",
    "import numpy as np\n",
    "import matplotlib.pyplot as plt\n",
    "\n",
    "import pmdarima as pmd\n",
    "from statsmodels.tsa.api import DynamicFactorMQ\n",
    "from sklearn.metrics import mean_squared_error, mean_absolute_error, mean_absolute_percentage_error"
   ]
  },
  {
   "cell_type": "code",
   "execution_count": 35,
   "id": "fc673734",
   "metadata": {},
   "outputs": [
    {
     "data": {
      "text/html": [
       "<div>\n",
       "<style scoped>\n",
       "    .dataframe tbody tr th:only-of-type {\n",
       "        vertical-align: middle;\n",
       "    }\n",
       "\n",
       "    .dataframe tbody tr th {\n",
       "        vertical-align: top;\n",
       "    }\n",
       "\n",
       "    .dataframe thead th {\n",
       "        text-align: right;\n",
       "    }\n",
       "</style>\n",
       "<table border=\"1\" class=\"dataframe\">\n",
       "  <thead>\n",
       "    <tr style=\"text-align: right;\">\n",
       "      <th></th>\n",
       "      <th>Price</th>\n",
       "      <th>Vol.</th>\n",
       "    </tr>\n",
       "    <tr>\n",
       "      <th>Date</th>\n",
       "      <th></th>\n",
       "      <th></th>\n",
       "    </tr>\n",
       "  </thead>\n",
       "  <tbody>\n",
       "    <tr>\n",
       "      <th>2017-12-01</th>\n",
       "      <td>10861.5</td>\n",
       "      <td>131920.0</td>\n",
       "    </tr>\n",
       "    <tr>\n",
       "      <th>2017-12-02</th>\n",
       "      <td>10912.7</td>\n",
       "      <td>86830.0</td>\n",
       "    </tr>\n",
       "    <tr>\n",
       "      <th>2017-12-03</th>\n",
       "      <td>11246.2</td>\n",
       "      <td>122130.0</td>\n",
       "    </tr>\n",
       "    <tr>\n",
       "      <th>2017-12-04</th>\n",
       "      <td>11623.9</td>\n",
       "      <td>93170.0</td>\n",
       "    </tr>\n",
       "    <tr>\n",
       "      <th>2017-12-05</th>\n",
       "      <td>11667.1</td>\n",
       "      <td>89690.0</td>\n",
       "    </tr>\n",
       "    <tr>\n",
       "      <th>...</th>\n",
       "      <td>...</td>\n",
       "      <td>...</td>\n",
       "    </tr>\n",
       "    <tr>\n",
       "      <th>2023-06-12</th>\n",
       "      <td>25906.8</td>\n",
       "      <td>40750.0</td>\n",
       "    </tr>\n",
       "    <tr>\n",
       "      <th>2023-06-13</th>\n",
       "      <td>25929.4</td>\n",
       "      <td>56240.0</td>\n",
       "    </tr>\n",
       "    <tr>\n",
       "      <th>2023-06-14</th>\n",
       "      <td>25129.5</td>\n",
       "      <td>60820.0</td>\n",
       "    </tr>\n",
       "    <tr>\n",
       "      <th>2023-06-15</th>\n",
       "      <td>25591.3</td>\n",
       "      <td>68380.0</td>\n",
       "    </tr>\n",
       "    <tr>\n",
       "      <th>2023-06-16</th>\n",
       "      <td>25599.1</td>\n",
       "      <td>61210.0</td>\n",
       "    </tr>\n",
       "  </tbody>\n",
       "</table>\n",
       "<p>2024 rows × 2 columns</p>\n",
       "</div>"
      ],
      "text/plain": [
       "              Price      Vol.\n",
       "Date                         \n",
       "2017-12-01  10861.5  131920.0\n",
       "2017-12-02  10912.7   86830.0\n",
       "2017-12-03  11246.2  122130.0\n",
       "2017-12-04  11623.9   93170.0\n",
       "2017-12-05  11667.1   89690.0\n",
       "...             ...       ...\n",
       "2023-06-12  25906.8   40750.0\n",
       "2023-06-13  25929.4   56240.0\n",
       "2023-06-14  25129.5   60820.0\n",
       "2023-06-15  25591.3   68380.0\n",
       "2023-06-16  25599.1   61210.0\n",
       "\n",
       "[2024 rows x 2 columns]"
      ]
     },
     "execution_count": 35,
     "metadata": {},
     "output_type": "execute_result"
    }
   ],
   "source": [
    "# Load the dataset\n",
    "df = pd.read_csv(\"./BTC.csv\")\n",
    "\n",
    "# Drop the unnecessary columns.\n",
    "df.drop(['Open', 'High', 'Low', 'Change %'], axis=1, inplace=True)\n",
    "\n",
    "# Convert the \"Date\" column to datetime format\n",
    "df['Date'] = pd.to_datetime(df['Date'], format='%d-%b-%y')\n",
    "                                    \n",
    "# Sort the DataFrame by date\n",
    "df = df.sort_values('Date')\n",
    "\n",
    "# Set Date index\n",
    "df.set_index('Date', inplace=True)\n",
    "\n",
    "df['Vol.'] = df['Vol.'].str.replace('K', 'e3')\n",
    "df['Vol.'] = df['Vol.'].str.replace('M', 'e6')\n",
    "df['Vol.'] = pd.to_numeric(df['Vol.'], errors='coerce')\n",
    "df"
   ]
  },
  {
   "cell_type": "markdown",
   "id": "e614095b",
   "metadata": {},
   "source": [
    "### 2. Split the data into training, test and validate sets"
   ]
  },
  {
   "cell_type": "code",
   "execution_count": 36,
   "id": "a1ee70d2",
   "metadata": {},
   "outputs": [
    {
     "name": "stdout",
     "output_type": "stream",
     "text": [
      "Train shape: (1214, 2)\n",
      "Test shape: (607, 2)\n",
      "Validate shape: (203, 2)\n"
     ]
    }
   ],
   "source": [
    "train_size = int(0.6 * len(df))\n",
    "test_size = int(0.3 * len(df))\n",
    "val_size = len(df) - train_size - test_size\n",
    "\n",
    "train_data = df[:train_size]\n",
    "test_data = df[train_size:train_size+test_size]\n",
    "val_data = df[train_size+test_size:]\n",
    "\n",
    "print(\"Train shape:\", train_data.shape)\n",
    "print(\"Test shape:\", test_data.shape)\n",
    "print(\"Validate shape:\", val_data.shape)"
   ]
  },
  {
   "cell_type": "code",
   "execution_count": 37,
   "id": "bda103cb",
   "metadata": {},
   "outputs": [
    {
     "name": "stdout",
     "output_type": "stream",
     "text": [
      "Train shape: (1416, 2)\n",
      "Test shape: (404, 2)\n",
      "Validate shape: (204, 2)\n"
     ]
    }
   ],
   "source": [
    "train_size = int(0.7 * len(df))\n",
    "test_size = int(0.2 * len(df))\n",
    "val_size = len(df) - train_size - test_size\n",
    "\n",
    "train_data = df[:train_size]\n",
    "test_data = df[train_size:train_size+test_size]\n",
    "val_data = df[train_size+test_size:]\n",
    "\n",
    "print(\"Train shape:\", train_data.shape)\n",
    "print(\"Test shape:\", test_data.shape)\n",
    "print(\"Validate shape:\", val_data.shape)"
   ]
  },
  {
   "cell_type": "code",
   "execution_count": 38,
   "id": "10107d2c",
   "metadata": {},
   "outputs": [
    {
     "name": "stdout",
     "output_type": "stream",
     "text": [
      "Train shape: (1214, 2)\n",
      "Test shape: (404, 2)\n",
      "Validate shape: (406, 2)\n"
     ]
    }
   ],
   "source": [
    "train_size = int(0.6 * len(df))\n",
    "test_size = int(0.2 * len(df))\n",
    "val_size = len(df) - train_size - test_size\n",
    "\n",
    "train_data = df[:train_size]\n",
    "test_data = df[train_size:train_size+test_size]\n",
    "val_data = df[train_size+test_size:]\n",
    "\n",
    "print(\"Train shape:\", train_data.shape)\n",
    "print(\"Test shape:\", test_data.shape)\n",
    "print(\"Validate shape:\", val_data.shape)"
   ]
  },
  {
   "cell_type": "markdown",
   "id": "eca58923",
   "metadata": {},
   "source": [
    "## 3. Perform Dynamic Factor Model"
   ]
  },
  {
   "cell_type": "markdown",
   "id": "3e702968",
   "metadata": {},
   "source": [
    "### 3.1 Build and fit train data into Dynamic Factor Model"
   ]
  },
  {
   "cell_type": "code",
   "execution_count": 39,
   "id": "7b3f9d4c",
   "metadata": {},
   "outputs": [
    {
     "name": "stdout",
     "output_type": "stream",
     "text": [
      "EM start iterations, llf=-2921.4\n",
      "EM iteration 2, llf=-1614.7, convergence criterion=0.57612\n",
      "EM terminated at iteration 2, llf=-1614.7, convergence criterion=0.57612 (while specified tolerance was 1e-06)\n"
     ]
    },
    {
     "name": "stderr",
     "output_type": "stream",
     "text": [
      "C:\\Users\\PHUTRAN\\AppData\\Local\\Programs\\Python\\Python311\\Lib\\site-packages\\statsmodels\\tsa\\base\\tsa_model.py:471: ValueWarning: No frequency information was provided, so inferred frequency D will be used.\n",
      "  self._init_dates(dates, freq)\n",
      "C:\\Users\\PHUTRAN\\AppData\\Local\\Programs\\Python\\Python311\\Lib\\site-packages\\statsmodels\\tsa\\statespace\\dynamic_factor_mq.py:2648: UserWarning: Log-likelihood decreased at EM iteration 3. Reverting to the results from EM iteration 2 (prior to the decrease) and returning the solution.\n",
      "  warn(f'Log-likelihood decreased at EM iteration {i + 1}.'\n"
     ]
    },
    {
     "data": {
      "text/html": [
       "<table class=\"simpletable\">\n",
       "<caption>Dynamic Factor Results</caption>\n",
       "<tr>\n",
       "  <th>Dep. Variable:</th>      <td>['Price', 'Vol.']</td>    <th>  No. Observations:  </th>   <td>1214</td>   \n",
       "</tr>\n",
       "<tr>\n",
       "  <th>Model:</th>            <td>Dynamic Factor Model</td>   <th>  Log Likelihood     </th> <td>-1649.558</td>\n",
       "</tr>\n",
       "<tr>\n",
       "  <th></th>                 <td>+ 2 factors in 2 blocks</td> <th>  AIC                </th> <td>3323.116</td> \n",
       "</tr>\n",
       "<tr>\n",
       "  <th></th>                  <td>+ AR(1) idiosyncratic</td>  <th>  BIC                </th> <td>3384.336</td> \n",
       "</tr>\n",
       "<tr>\n",
       "  <th>Date:</th>               <td>Fri, 16 Jun 2023</td>     <th>  HQIC               </th> <td>3346.164</td> \n",
       "</tr>\n",
       "<tr>\n",
       "  <th>Time:</th>                   <td>23:46:22</td>         <th>  EM Iterations      </th>     <td>2</td>    \n",
       "</tr>\n",
       "<tr>\n",
       "  <th>Sample:</th>                <td>12-01-2017</td>        <th>                     </th>     <td> </td>    \n",
       "</tr>\n",
       "<tr>\n",
       "  <th></th>                      <td>- 03-28-2021</td>       <th>                     </th>     <td> </td>    \n",
       "</tr>\n",
       "<tr>\n",
       "  <th>Covariance Type:</th>      <td>Not computed</td>       <th>                     </th>     <td> </td>    \n",
       "</tr>\n",
       "</table>\n",
       "<table class=\"simpletable\">\n",
       "<caption>Observation equation:</caption>\n",
       "<tr>\n",
       "  <th>Factor loadings:</th>   <th>0</th>     <th>1</th>  <th>   idiosyncratic: AR(1)</th> <th>var.</th>\n",
       "</tr>\n",
       "<tr>\n",
       "        <td>Price</td>      <td>-0.71</td> <td>0.45</td>          <td>-0.00</td>          <td>0.00</td>\n",
       "</tr>\n",
       "<tr>\n",
       "        <td>Vol.</td>       <td>0.71</td>  <td>0.45</td>          <td>-0.00</td>          <td>0.00</td>\n",
       "</tr>\n",
       "</table>\n",
       "<table class=\"simpletable\">\n",
       "<caption>Transition: Factor block 0</caption>\n",
       "<tr>\n",
       "  <th></th>  <th>L1.0</th> <th>   error variance</th>\n",
       "</tr>\n",
       "<tr>\n",
       "  <td>0</td> <td>0.90</td>       <td>0.23</td>       \n",
       "</tr>\n",
       "</table>\n",
       "<table class=\"simpletable\">\n",
       "<caption>Transition: Factor block 1</caption>\n",
       "<tr>\n",
       "  <th></th>  <th>L1.1</th> <th>   error variance</th>\n",
       "</tr>\n",
       "<tr>\n",
       "  <td>1</td> <td>0.86</td>       <td>0.55</td>       \n",
       "</tr>\n",
       "</table><br/><br/>Warnings:<br/>[1] Covariance matrix not calculated."
      ],
      "text/plain": [
       "<class 'statsmodels.iolib.summary.Summary'>\n",
       "\"\"\"\n",
       "                               Dynamic Factor Results                              \n",
       "===================================================================================\n",
       "Dep. Variable:           ['Price', 'Vol.']   No. Observations:                 1214\n",
       "Model:                Dynamic Factor Model   Log Likelihood               -1649.558\n",
       "                   + 2 factors in 2 blocks   AIC                           3323.116\n",
       "                     + AR(1) idiosyncratic   BIC                           3384.336\n",
       "Date:                     Fri, 16 Jun 2023   HQIC                          3346.164\n",
       "Time:                             23:46:22   EM Iterations                        2\n",
       "Sample:                         12-01-2017                                         \n",
       "                              - 03-28-2021                                         \n",
       "Covariance Type:              Not computed                                         \n",
       "                          Observation equation:                           \n",
       "==========================================================================\n",
       "Factor loadings:          0          1    idiosyncratic: AR(1)        var.\n",
       "--------------------------------------------------------------------------\n",
       "           Price      -0.71       0.45                   -0.00        0.00\n",
       "            Vol.       0.71       0.45                   -0.00        0.00\n",
       "       Transition: Factor block 0      \n",
       "=======================================\n",
       "                 L1.0    error variance\n",
       "---------------------------------------\n",
       "         0       0.90              0.23\n",
       "       Transition: Factor block 1      \n",
       "=======================================\n",
       "                 L1.1    error variance\n",
       "---------------------------------------\n",
       "         1       0.86              0.55\n",
       "=======================================\n",
       "\n",
       "Warnings:\n",
       "[1] Covariance matrix not calculated.\n",
       "\"\"\""
      ]
     },
     "execution_count": 39,
     "metadata": {},
     "output_type": "execute_result"
    }
   ],
   "source": [
    "features = ['Price']\n",
    "df_model = DynamicFactorMQ(endog=train_data, factors=2, factor_orders=1, idiosyncratic_ar1=True)\n",
    "df_model_fit = df_model.fit(maxiter=100, disp=True)\n",
    "df_model_fit.summary()"
   ]
  },
  {
   "cell_type": "code",
   "execution_count": 40,
   "id": "6413f5e9",
   "metadata": {},
   "outputs": [],
   "source": [
    "def evaluate_dynamic_factor_model(data):\n",
    "    pred = df_model_fit.predict(start=data.index[0], end=data.index[len(data)-1])\n",
    "    data = data[features]\n",
    "    pred = pred[features]\n",
    "    mse = mean_squared_error(data, pred)\n",
    "    mae = mean_absolute_error(data, pred)\n",
    "    mape = mean_absolute_percentage_error(data, pred)\n",
    "    rmse = mean_squared_error(data, pred, squared=False)\n",
    "    return pred, mse, mae, mape, rmse"
   ]
  },
  {
   "cell_type": "markdown",
   "id": "2d39317e",
   "metadata": {},
   "source": [
    "### 3.2 Evaluate on Validate data"
   ]
  },
  {
   "cell_type": "code",
   "execution_count": 41,
   "id": "3bc8fdd2",
   "metadata": {},
   "outputs": [
    {
     "name": "stdout",
     "output_type": "stream",
     "text": [
      "Price predict on validate data:                    Price\n",
      "2022-05-07  11432.605848\n",
      "2022-05-08  11432.605848\n",
      "2022-05-09  11432.605848\n",
      "2022-05-10  11432.605848\n",
      "2022-05-11  11432.605848\n",
      "...                  ...\n",
      "2023-06-12  11432.605848\n",
      "2023-06-13  11432.605848\n",
      "2023-06-14  11432.605848\n",
      "2023-06-15  11432.605848\n",
      "2023-06-16  11432.605848\n",
      "\n",
      "[406 rows x 1 columns]\n"
     ]
    }
   ],
   "source": [
    "y_pred_val, val_mse, val_mae, val_mape, val_rmse = evaluate_dynamic_factor_model(val_data)\n",
    "\n",
    "print(\"Price predict on validate data:\", y_pred_val)"
   ]
  },
  {
   "cell_type": "markdown",
   "id": "0e3cf769",
   "metadata": {},
   "source": [
    "### 3.3 Evaluate on Test data"
   ]
  },
  {
   "cell_type": "code",
   "execution_count": 42,
   "id": "e2172fba",
   "metadata": {},
   "outputs": [
    {
     "name": "stdout",
     "output_type": "stream",
     "text": [
      "Price predict on test data:                    Price\n",
      "2021-03-29  50457.327080\n",
      "2021-03-30  45807.122046\n",
      "2021-03-31  41730.271477\n",
      "2021-04-01  38153.753882\n",
      "2021-04-02  35014.120182\n",
      "...                  ...\n",
      "2022-05-02  11432.605848\n",
      "2022-05-03  11432.605848\n",
      "2022-05-04  11432.605848\n",
      "2022-05-05  11432.605848\n",
      "2022-05-06  11432.605848\n",
      "\n",
      "[404 rows x 1 columns]\n"
     ]
    }
   ],
   "source": [
    "y_pred_test, test_mse, test_mae, test_mape, test_rmse = evaluate_dynamic_factor_model(test_data)\n",
    "print(\"Price predict on test data:\", y_pred_test)"
   ]
  },
  {
   "cell_type": "markdown",
   "id": "d32d3434",
   "metadata": {},
   "source": [
    "### 3.4 Predict price for the next 30 days"
   ]
  },
  {
   "cell_type": "code",
   "execution_count": 43,
   "id": "b085c1a8",
   "metadata": {},
   "outputs": [
    {
     "name": "stdout",
     "output_type": "stream",
     "text": [
      "Predicted closing prices for the next 30 days:\n",
      "                   Price\n",
      "2023-06-16  11432.605848\n",
      "2023-06-17  11432.605848\n",
      "2023-06-18  11432.605848\n",
      "2023-06-19  11432.605848\n",
      "2023-06-20  11432.605848\n",
      "2023-06-21  11432.605848\n",
      "2023-06-22  11432.605848\n",
      "2023-06-23  11432.605848\n",
      "2023-06-24  11432.605848\n",
      "2023-06-25  11432.605848\n",
      "2023-06-26  11432.605848\n",
      "2023-06-27  11432.605848\n",
      "2023-06-28  11432.605848\n",
      "2023-06-29  11432.605848\n",
      "2023-06-30  11432.605848\n",
      "2023-07-01  11432.605848\n",
      "2023-07-02  11432.605848\n",
      "2023-07-03  11432.605848\n",
      "2023-07-04  11432.605848\n",
      "2023-07-05  11432.605848\n",
      "2023-07-06  11432.605848\n",
      "2023-07-07  11432.605848\n",
      "2023-07-08  11432.605848\n",
      "2023-07-09  11432.605848\n",
      "2023-07-10  11432.605848\n",
      "2023-07-11  11432.605848\n",
      "2023-07-12  11432.605848\n",
      "2023-07-13  11432.605848\n",
      "2023-07-14  11432.605848\n",
      "2023-07-15  11432.605848\n"
     ]
    }
   ],
   "source": [
    "last_index = len(df)\n",
    "\n",
    "date_range = pd.date_range(start=df.index[-1], periods=30, freq='D')\n",
    "\n",
    "y_next_30_days = df_model_fit.predict(start=date_range[0], end=date_range[len(date_range)-1])[features]\n",
    "\n",
    "print('Predicted closing prices for the next 30 days:')\n",
    "print(y_next_30_days)"
   ]
  },
  {
   "cell_type": "markdown",
   "id": "e56bf5db",
   "metadata": {},
   "source": [
    "### 4.  Evaluate accuracy validate, test data"
   ]
  },
  {
   "cell_type": "code",
   "execution_count": 44,
   "id": "557457e3",
   "metadata": {},
   "outputs": [
    {
     "name": "stdout",
     "output_type": "stream",
     "text": [
      "                   MSE           MAE      MAPE          RMSE\n",
      "Validate  1.507023e+08  11469.858191  0.482355  12276.087685\n",
      "Test      1.213646e+09  33744.945164  0.727981  34837.422465\n"
     ]
    }
   ],
   "source": [
    "metrics = {\n",
    "    'MSE': [val_mse, test_mse],\n",
    "    'MAE': [val_mae, test_mae],\n",
    "    'MAPE': [val_mape, test_mape],\n",
    "    'RMSE': [val_rmse, test_rmse],\n",
    "}\n",
    "\n",
    "acc = pd.DataFrame(metrics, index=['Validate', 'Test'])\n",
    "\n",
    "print(acc)"
   ]
  },
  {
   "cell_type": "code",
   "execution_count": 45,
   "id": "fa6c959e",
   "metadata": {},
   "outputs": [
    {
     "data": {
      "image/png": "[encoded data removed]",
      "text/plain": [
       "<Figure size 640x480 with 1 Axes>"
      ]
     },
     "metadata": {},
     "output_type": "display_data"
    }
   ],
   "source": [
    "plt.plot(train_data.index, train_data['Price'])\n",
    "plt.plot(test_data.index, test_data['Price'])\n",
    "plt.plot(val_data.index, val_data['Price'])\n",
    "\n",
    "plt.plot(test_data.index, y_pred_test)\n",
    "plt.plot(val_data.index, y_pred_val)\n",
    "plt.plot(date_range, y_next_30_days)\n",
    "\n",
    "plt.legend(['Train', 'Test', 'Validate','PredictTestData', 'PredictValidateData','PredictNext30Day'])\n",
    "plt.show()"
   ]
  }
 ],
 "metadata": {
  "kernelspec": {
   "display_name": "Python 3 (ipykernel)",
   "language": "python",
   "name": "python3"
  },
  "language_info": {
   "codemirror_mode": {
    "name": "ipython",
    "version": 3
   },
   "file_extension": ".py",
   "mimetype": "text/x-python",
   "name": "python",
   "nbconvert_exporter": "python",
   "pygments_lexer": "ipython3",
   "version": "3.11.1"
  }
 },
 "nbformat": 4,
 "nbformat_minor": 5
}
