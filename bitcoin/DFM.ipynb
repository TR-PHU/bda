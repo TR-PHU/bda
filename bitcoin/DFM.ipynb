{
 "cells": [
  {
   "cell_type": "code",
   "execution_count": 1,
   "id": "1488bcec",
   "metadata": {},
   "outputs": [],
   "source": [
    "import pandas as pd\n",
    "import numpy as np\n",
    "import matplotlib.pyplot as plt\n",
    "\n",
    "import pmdarima as pmd\n",
    "from statsmodels.tsa.statespace.dynamic_factor import DynamicFactor\n",
    "from sklearn.metrics import mean_squared_error, mean_absolute_error, mean_absolute_percentage_error"
   ]
  },
  {
   "cell_type": "code",
   "execution_count": 2,
   "id": "fc673734",
   "metadata": {},
   "outputs": [
    {
     "data": {
      "text/html": [
       "<div>\n",
       "<style scoped>\n",
       "    .dataframe tbody tr th:only-of-type {\n",
       "        vertical-align: middle;\n",
       "    }\n",
       "\n",
       "    .dataframe tbody tr th {\n",
       "        vertical-align: top;\n",
       "    }\n",
       "\n",
       "    .dataframe thead th {\n",
       "        text-align: right;\n",
       "    }\n",
       "</style>\n",
       "<table border=\"1\" class=\"dataframe\">\n",
       "  <thead>\n",
       "    <tr style=\"text-align: right;\">\n",
       "      <th></th>\n",
       "      <th>Price</th>\n",
       "      <th>Vol.</th>\n",
       "    </tr>\n",
       "    <tr>\n",
       "      <th>Date</th>\n",
       "      <th></th>\n",
       "      <th></th>\n",
       "    </tr>\n",
       "  </thead>\n",
       "  <tbody>\n",
       "    <tr>\n",
       "      <th>2017-12-01</th>\n",
       "      <td>10861.5</td>\n",
       "      <td>131920.0</td>\n",
       "    </tr>\n",
       "    <tr>\n",
       "      <th>2017-12-02</th>\n",
       "      <td>10912.7</td>\n",
       "      <td>86830.0</td>\n",
       "    </tr>\n",
       "    <tr>\n",
       "      <th>2017-12-03</th>\n",
       "      <td>11246.2</td>\n",
       "      <td>122130.0</td>\n",
       "    </tr>\n",
       "    <tr>\n",
       "      <th>2017-12-04</th>\n",
       "      <td>11623.9</td>\n",
       "      <td>93170.0</td>\n",
       "    </tr>\n",
       "    <tr>\n",
       "      <th>2017-12-05</th>\n",
       "      <td>11667.1</td>\n",
       "      <td>89690.0</td>\n",
       "    </tr>\n",
       "    <tr>\n",
       "      <th>...</th>\n",
       "      <td>...</td>\n",
       "      <td>...</td>\n",
       "    </tr>\n",
       "    <tr>\n",
       "      <th>2023-03-28</th>\n",
       "      <td>27262.2</td>\n",
       "      <td>94160.0</td>\n",
       "    </tr>\n",
       "    <tr>\n",
       "      <th>2023-03-29</th>\n",
       "      <td>28350.4</td>\n",
       "      <td>109320.0</td>\n",
       "    </tr>\n",
       "    <tr>\n",
       "      <th>2023-03-30</th>\n",
       "      <td>28029.5</td>\n",
       "      <td>122510.0</td>\n",
       "    </tr>\n",
       "    <tr>\n",
       "      <th>2023-03-31</th>\n",
       "      <td>28473.7</td>\n",
       "      <td>98440.0</td>\n",
       "    </tr>\n",
       "    <tr>\n",
       "      <th>2023-04-01</th>\n",
       "      <td>28456.1</td>\n",
       "      <td>38090.0</td>\n",
       "    </tr>\n",
       "  </tbody>\n",
       "</table>\n",
       "<p>1948 rows × 2 columns</p>\n",
       "</div>"
      ],
      "text/plain": [
       "              Price      Vol.\n",
       "Date                         \n",
       "2017-12-01  10861.5  131920.0\n",
       "2017-12-02  10912.7   86830.0\n",
       "2017-12-03  11246.2  122130.0\n",
       "2017-12-04  11623.9   93170.0\n",
       "2017-12-05  11667.1   89690.0\n",
       "...             ...       ...\n",
       "2023-03-28  27262.2   94160.0\n",
       "2023-03-29  28350.4  109320.0\n",
       "2023-03-30  28029.5  122510.0\n",
       "2023-03-31  28473.7   98440.0\n",
       "2023-04-01  28456.1   38090.0\n",
       "\n",
       "[1948 rows x 2 columns]"
      ]
     },
     "execution_count": 2,
     "metadata": {},
     "output_type": "execute_result"
    }
   ],
   "source": [
    "# Load the dataset\n",
    "df = pd.read_csv(\"./BTC.csv\")\n",
    "\n",
    "# Drop the unnecessary columns.\n",
    "df.drop(['Open', 'High', 'Low', 'Change %'], axis=1, inplace=True)\n",
    "\n",
    "# Convert the \"Date\" column to datetime format\n",
    "df['Date'] = pd.to_datetime(df['Date'], format='%d-%b-%y')\n",
    "                                    \n",
    "# Sort the DataFrame by date\n",
    "df = df.sort_values('Date')\n",
    "\n",
    "# Set Date index\n",
    "df.set_index('Date', inplace=True)\n",
    "\n",
    "df['Vol.'] = df['Vol.'].str.replace('K', 'e3')\n",
    "df['Vol.'] = df['Vol.'].str.replace('M', 'e6')\n",
    "df['Vol.'] = pd.to_numeric(df['Vol.'], errors='coerce')\n",
    "df"
   ]
  },
  {
   "cell_type": "markdown",
   "id": "e614095b",
   "metadata": {},
   "source": [
    "### 2. Split the data into training, test and validate sets"
   ]
  },
  {
   "cell_type": "code",
   "execution_count": 3,
   "id": "a1ee70d2",
   "metadata": {},
   "outputs": [
    {
     "name": "stdout",
     "output_type": "stream",
     "text": [
      "Train shape: (1363, 2)\n",
      "Test shape: (292, 2)\n",
      "Validate shape: (293, 2)\n"
     ]
    }
   ],
   "source": [
    "train_size = int(0.7 * len(df))\n",
    "test_size = int(0.15 * len(df))\n",
    "val_size = len(df) - train_size - test_size\n",
    "\n",
    "train_data = df[:train_size]\n",
    "test_data = df[train_size:train_size+test_size]\n",
    "val_data = df[train_size+test_size:]\n",
    "\n",
    "print(\"Train shape:\", train_data.shape)\n",
    "print(\"Test shape:\", test_data.shape)\n",
    "print(\"Validate shape:\", val_data.shape)"
   ]
  },
  {
   "cell_type": "code",
   "execution_count": 4,
   "id": "10107d2c",
   "metadata": {},
   "outputs": [
    {
     "name": "stdout",
     "output_type": "stream",
     "text": [
      "Train shape: (1168, 2)\n",
      "Test shape: (389, 2)\n",
      "Validate shape: (391, 2)\n"
     ]
    }
   ],
   "source": [
    "train_size = int(0.6 * len(df))\n",
    "test_size = int(0.2 * len(df))\n",
    "val_size = len(df) - train_size - test_size\n",
    "\n",
    "train_data = df[:train_size]\n",
    "test_data = df[train_size:train_size+test_size]\n",
    "val_data = df[train_size+test_size:]\n",
    "\n",
    "print(\"Train shape:\", train_data.shape)\n",
    "print(\"Test shape:\", test_data.shape)\n",
    "print(\"Validate shape:\", val_data.shape)"
   ]
  },
  {
   "cell_type": "code",
   "execution_count": 5,
   "id": "bda103cb",
   "metadata": {},
   "outputs": [
    {
     "name": "stdout",
     "output_type": "stream",
     "text": [
      "Train shape: (1363, 2)\n",
      "Test shape: (389, 2)\n",
      "Validate shape: (196, 2)\n"
     ]
    }
   ],
   "source": [
    "train_size = int(0.7 * len(df))\n",
    "test_size = int(0.2 * len(df))\n",
    "val_size = len(df) - train_size - test_size\n",
    "\n",
    "train_data = df[:train_size]\n",
    "test_data = df[train_size:train_size+test_size]\n",
    "val_data = df[train_size+test_size:]\n",
    "\n",
    "print(\"Train shape:\", train_data.shape)\n",
    "print(\"Test shape:\", test_data.shape)\n",
    "print(\"Validate shape:\", val_data.shape)"
   ]
  },
  {
   "cell_type": "markdown",
   "id": "eca58923",
   "metadata": {},
   "source": [
    "## 3. Perform Dynamic Factor Model"
   ]
  },
  {
   "cell_type": "markdown",
   "id": "3e702968",
   "metadata": {},
   "source": [
    "### 3.1 Find factor_order from p order of ARIMA Model and perform Dynamic Factor Model"
   ]
  },
  {
   "cell_type": "code",
   "execution_count": 6,
   "id": "997cb31b",
   "metadata": {},
   "outputs": [
    {
     "name": "stdout",
     "output_type": "stream",
     "text": [
      "Performing stepwise search to minimize aic\n"
     ]
    },
    {
     "name": "stderr",
     "output_type": "stream",
     "text": [
      "C:\\Users\\PHUTRAN\\AppData\\Local\\Programs\\Python\\Python311\\Lib\\site-packages\\pmdarima\\arima\\_validation.py:62: UserWarning: m (12) set for non-seasonal fit. Setting to 0\n",
      "  warnings.warn(\"m (%i) set for non-seasonal fit. Setting to 0\" % m)\n"
     ]
    },
    {
     "name": "stdout",
     "output_type": "stream",
     "text": [
      " ARIMA(1,1,1)(0,0,0)[0] intercept   : AIC=22395.474, Time=0.30 sec\n",
      " ARIMA(0,1,0)(0,0,0)[0] intercept   : AIC=22399.786, Time=0.04 sec\n",
      " ARIMA(1,1,0)(0,0,0)[0] intercept   : AIC=22396.362, Time=0.07 sec\n",
      " ARIMA(0,1,1)(0,0,0)[0] intercept   : AIC=22397.037, Time=0.08 sec\n",
      " ARIMA(0,1,0)(0,0,0)[0]             : AIC=22399.016, Time=0.02 sec\n",
      " ARIMA(2,1,1)(0,0,0)[0] intercept   : AIC=22391.747, Time=0.28 sec\n",
      " ARIMA(2,1,0)(0,0,0)[0] intercept   : AIC=22392.217, Time=0.10 sec\n",
      " ARIMA(3,1,1)(0,0,0)[0] intercept   : AIC=22393.134, Time=0.42 sec\n",
      " ARIMA(2,1,2)(0,0,0)[0] intercept   : AIC=22393.161, Time=0.56 sec\n",
      " ARIMA(1,1,2)(0,0,0)[0] intercept   : AIC=22391.175, Time=0.34 sec\n",
      " ARIMA(0,1,2)(0,0,0)[0] intercept   : AIC=22391.702, Time=0.12 sec\n",
      " ARIMA(1,1,3)(0,0,0)[0] intercept   : AIC=22393.227, Time=0.55 sec\n",
      " ARIMA(0,1,3)(0,0,0)[0] intercept   : AIC=22392.038, Time=0.16 sec\n",
      " ARIMA(2,1,3)(0,0,0)[0] intercept   : AIC=22394.669, Time=0.84 sec\n",
      " ARIMA(1,1,2)(0,0,0)[0]             : AIC=22389.776, Time=0.21 sec\n",
      " ARIMA(0,1,2)(0,0,0)[0]             : AIC=22390.890, Time=0.06 sec\n",
      " ARIMA(1,1,1)(0,0,0)[0]             : AIC=22394.699, Time=0.12 sec\n",
      " ARIMA(2,1,2)(0,0,0)[0]             : AIC=22391.759, Time=0.32 sec\n",
      " ARIMA(1,1,3)(0,0,0)[0]             : AIC=22391.778, Time=0.35 sec\n",
      " ARIMA(0,1,1)(0,0,0)[0]             : AIC=22396.441, Time=0.04 sec\n",
      " ARIMA(0,1,3)(0,0,0)[0]             : AIC=22391.154, Time=0.09 sec\n",
      " ARIMA(2,1,1)(0,0,0)[0]             : AIC=22389.772, Time=0.15 sec\n",
      " ARIMA(2,1,0)(0,0,0)[0]             : AIC=22391.433, Time=0.05 sec\n",
      " ARIMA(3,1,1)(0,0,0)[0]             : AIC=22391.713, Time=0.29 sec\n",
      " ARIMA(1,1,0)(0,0,0)[0]             : AIC=22395.783, Time=0.04 sec\n",
      " ARIMA(3,1,0)(0,0,0)[0]             : AIC=22390.824, Time=0.07 sec\n",
      " ARIMA(3,1,2)(0,0,0)[0]             : AIC=22393.851, Time=0.28 sec\n",
      "\n",
      "Best model:  ARIMA(2,1,1)(0,0,0)[0]          \n",
      "Total fit time: 5.983 seconds\n"
     ]
    }
   ],
   "source": [
    "features = ['Price']\n",
    "\n",
    "arima_model = pmd.auto_arima(train_data[features], start_p=1, start_q=1,\n",
    "                         test='adf',\n",
    "                         max_p=3, max_q=3, m=12,\n",
    "                         start_P=0, seasonal=False,\n",
    "                         d=None, D=0, trace=True,\n",
    "                         error_action='ignore',  \n",
    "                         suppress_warnings=True, \n",
    "                         stepwise=True)\n",
    "\n",
    "factor_order = arima_model.order[0]"
   ]
  },
  {
   "cell_type": "code",
   "execution_count": 7,
   "id": "7b3f9d4c",
   "metadata": {},
   "outputs": [
    {
     "name": "stderr",
     "output_type": "stream",
     "text": [
      "C:\\Users\\PHUTRAN\\AppData\\Local\\Programs\\Python\\Python311\\Lib\\site-packages\\statsmodels\\tsa\\base\\tsa_model.py:471: ValueWarning: No frequency information was provided, so inferred frequency D will be used.\n",
      "  self._init_dates(dates, freq)\n",
      "C:\\Users\\PHUTRAN\\AppData\\Local\\Programs\\Python\\Python311\\Lib\\site-packages\\statsmodels\\base\\model.py:604: ConvergenceWarning: Maximum Likelihood optimization failed to converge. Check mle_retvals\n",
      "  warnings.warn(\"Maximum Likelihood optimization failed to \"\n"
     ]
    },
    {
     "data": {
      "text/html": [
       "<table class=\"simpletable\">\n",
       "<caption>Statespace Model Results</caption>\n",
       "<tr>\n",
       "  <th>Dep. Variable:</th>           <td>['Price', 'Vol.']</td>         <th>  No. Observations:  </th>    <td>1363</td>   \n",
       "</tr>\n",
       "<tr>\n",
       "  <th>Model:</th>           <td>DynamicFactor(factors=1, order=2)</td> <th>  Log Likelihood     </th> <td>-41356.254</td>\n",
       "</tr>\n",
       "<tr>\n",
       "  <th>Date:</th>                    <td>Thu, 15 Jun 2023</td>          <th>  AIC                </th>  <td>82724.508</td>\n",
       "</tr>\n",
       "<tr>\n",
       "  <th>Time:</th>                        <td>18:32:30</td>              <th>  BIC                </th>  <td>82755.813</td>\n",
       "</tr>\n",
       "<tr>\n",
       "  <th>Sample:</th>                     <td>12-01-2017</td>             <th>  HQIC               </th>  <td>82736.226</td>\n",
       "</tr>\n",
       "<tr>\n",
       "  <th></th>                           <td>- 08-24-2021</td>            <th>                     </th>      <td> </td>    \n",
       "</tr>\n",
       "<tr>\n",
       "  <th>Covariance Type:</th>                <td>opg</td>                <th>                     </th>      <td> </td>    \n",
       "</tr>\n",
       "</table>\n",
       "<table class=\"simpletable\">\n",
       "<tr>\n",
       "  <th>Ljung-Box (L1) (Q):</th>     <td>1171.51, 980.17</td> <th>  Jarque-Bera (JB):  </th> <td>2689.60, 13546.56</td>\n",
       "</tr>\n",
       "<tr>\n",
       "  <th>Prob(Q):</th>                  <td>0.00, 0.00</td>    <th>  Prob(JB):          </th>    <td>0.00, 0.00</td>    \n",
       "</tr>\n",
       "<tr>\n",
       "  <th>Heteroskedasticity (H):</th>   <td>4.09, 3.07</td>    <th>  Skew:              </th>    <td>2.08, 2.95</td>    \n",
       "</tr>\n",
       "<tr>\n",
       "  <th>Prob(H) (two-sided):</th>      <td>0.00, 0.00</td>    <th>  Kurtosis:          </th>    <td>8.48, 17.28</td>   \n",
       "</tr>\n",
       "</table>\n",
       "<table class=\"simpletable\">\n",
       "<caption>Results for equation Price</caption>\n",
       "<tr>\n",
       "       <td></td>         <th>coef</th>     <th>std err</th>      <th>z</th>      <th>P>|z|</th>  <th>[0.025</th>    <th>0.975]</th>  \n",
       "</tr>\n",
       "<tr>\n",
       "  <th>loading.f1</th> <td> 4.149e+05</td> <td> 1.31e+04</td> <td>   31.601</td> <td> 0.000</td> <td> 3.89e+05</td> <td> 4.41e+05</td>\n",
       "</tr>\n",
       "</table>\n",
       "<table class=\"simpletable\">\n",
       "<caption>Results for equation Vol.</caption>\n",
       "<tr>\n",
       "         <td></td>           <th>coef</th>     <th>std err</th>      <th>z</th>      <th>P>|z|</th>  <th>[0.025</th>    <th>0.975]</th>  \n",
       "</tr>\n",
       "<tr>\n",
       "  <th>loading.f1.Vol</th> <td>-4.582e+07</td> <td> 1.27e+06</td> <td>  -36.206</td> <td> 0.000</td> <td>-4.83e+07</td> <td>-4.33e+07</td>\n",
       "</tr>\n",
       "</table>\n",
       "<table class=\"simpletable\">\n",
       "<caption>Results for factor equation f1</caption>\n",
       "<tr>\n",
       "    <td></td>       <th>coef</th>     <th>std err</th>      <th>z</th>      <th>P>|z|</th>  <th>[0.025</th>    <th>0.975]</th>  \n",
       "</tr>\n",
       "<tr>\n",
       "  <th>L1.f1</th> <td>    0.1770</td> <td>    0.857</td> <td>    0.207</td> <td> 0.836</td> <td>   -1.503</td> <td>    1.857</td>\n",
       "</tr>\n",
       "<tr>\n",
       "  <th>L2.f1</th> <td>    0.6946</td> <td>    0.746</td> <td>    0.931</td> <td> 0.352</td> <td>   -0.767</td> <td>    2.157</td>\n",
       "</tr>\n",
       "</table>\n",
       "<table class=\"simpletable\">\n",
       "<caption>Error covariance matrix</caption>\n",
       "<tr>\n",
       "        <td></td>          <th>coef</th>     <th>std err</th>      <th>z</th>      <th>P>|z|</th>  <th>[0.025</th>    <th>0.975]</th>  \n",
       "</tr>\n",
       "<tr>\n",
       "  <th>sigma2.Price</th> <td> 2.378e+08</td> <td> 7.31e+06</td> <td>   32.556</td> <td> 0.000</td> <td> 2.24e+08</td> <td> 2.52e+08</td>\n",
       "</tr>\n",
       "<tr>\n",
       "  <th>sigma2.Vol.</th>  <td> 2.529e+12</td> <td>  599.482</td> <td> 4.22e+09</td> <td> 0.000</td> <td> 2.53e+12</td> <td> 2.53e+12</td>\n",
       "</tr>\n",
       "</table><br/><br/>Warnings:<br/>[1] Covariance matrix calculated using the outer product of gradients (complex-step).<br/>[2] Covariance matrix is singular or near-singular, with condition number 1.14e+24. Standard errors may be unstable."
      ],
      "text/plain": [
       "<class 'statsmodels.iolib.summary.Summary'>\n",
       "\"\"\"\n",
       "                                   Statespace Model Results                                  \n",
       "=============================================================================================\n",
       "Dep. Variable:                     ['Price', 'Vol.']   No. Observations:                 1363\n",
       "Model:             DynamicFactor(factors=1, order=2)   Log Likelihood              -41356.254\n",
       "Date:                               Thu, 15 Jun 2023   AIC                          82724.508\n",
       "Time:                                       18:32:30   BIC                          82755.813\n",
       "Sample:                                   12-01-2017   HQIC                         82736.226\n",
       "                                        - 08-24-2021                                         \n",
       "Covariance Type:                                 opg                                         \n",
       "===================================================================================\n",
       "Ljung-Box (L1) (Q):        1171.51, 980.17   Jarque-Bera (JB):    2689.60, 13546.56\n",
       "Prob(Q):                        0.00, 0.00   Prob(JB):                   0.00, 0.00\n",
       "Heteroskedasticity (H):         4.09, 3.07   Skew:                       2.08, 2.95\n",
       "Prob(H) (two-sided):            0.00, 0.00   Kurtosis:                  8.48, 17.28\n",
       "                          Results for equation Price                          \n",
       "==============================================================================\n",
       "                 coef    std err          z      P>|z|      [0.025      0.975]\n",
       "------------------------------------------------------------------------------\n",
       "loading.f1  4.149e+05   1.31e+04     31.601      0.000    3.89e+05    4.41e+05\n",
       "                            Results for equation Vol.                             \n",
       "==================================================================================\n",
       "                     coef    std err          z      P>|z|      [0.025      0.975]\n",
       "----------------------------------------------------------------------------------\n",
       "loading.f1.Vol -4.582e+07   1.27e+06    -36.206      0.000   -4.83e+07   -4.33e+07\n",
       "                        Results for factor equation f1                        \n",
       "==============================================================================\n",
       "                 coef    std err          z      P>|z|      [0.025      0.975]\n",
       "------------------------------------------------------------------------------\n",
       "L1.f1          0.1770      0.857      0.207      0.836      -1.503       1.857\n",
       "L2.f1          0.6946      0.746      0.931      0.352      -0.767       2.157\n",
       "                            Error covariance matrix                             \n",
       "================================================================================\n",
       "                   coef    std err          z      P>|z|      [0.025      0.975]\n",
       "--------------------------------------------------------------------------------\n",
       "sigma2.Price  2.378e+08   7.31e+06     32.556      0.000    2.24e+08    2.52e+08\n",
       "sigma2.Vol.   2.529e+12    599.482   4.22e+09      0.000    2.53e+12    2.53e+12\n",
       "================================================================================\n",
       "\n",
       "Warnings:\n",
       "[1] Covariance matrix calculated using the outer product of gradients (complex-step).\n",
       "[2] Covariance matrix is singular or near-singular, with condition number 1.14e+24. Standard errors may be unstable.\n",
       "\"\"\""
      ]
     },
     "execution_count": 7,
     "metadata": {},
     "output_type": "execute_result"
    }
   ],
   "source": [
    "df_model = DynamicFactor(endog=train_data, k_factors=1, factor_order=factor_order, enforce_stationarity=False)\n",
    "df_model_fit = df_model.fit(disp=False)\n",
    "df_model_fit.summary()"
   ]
  },
  {
   "cell_type": "code",
   "execution_count": 24,
   "id": "6413f5e9",
   "metadata": {},
   "outputs": [
    {
     "name": "stdout",
     "output_type": "stream",
     "text": [
      "                   Price          Vol.\n",
      "2017-12-01      0.000000  0.000000e+00\n",
      "2017-12-02   2562.279644 -2.829383e+05\n",
      "2017-12-03   3896.160347 -4.302313e+05\n",
      "2017-12-04   4061.502912 -4.484891e+05\n",
      "2017-12-05   4106.902885 -4.535024e+05\n",
      "...                  ...           ...\n",
      "2021-08-20  18183.620416 -2.007916e+06\n",
      "2021-08-21  18861.108423 -2.082727e+06\n",
      "2021-08-22  19692.659503 -2.174551e+06\n",
      "2021-08-23  19770.861618 -2.183186e+06\n",
      "2021-08-24  19790.407857 -2.185344e+06\n",
      "\n",
      "[1363 rows x 2 columns]\n"
     ]
    }
   ],
   "source": [
    "def evaluate_dynamic_factor_model(data):\n",
    "    predictions = df_model_fit.predict(start=data.index[0], end=data.index[len(data)-1])\n",
    "    data = data[features]\n",
    "    predictions = predictions[features]\n",
    "    mse = mean_squared_error(data, predictions)\n",
    "    mae = mean_absolute_error(data, predictions)\n",
    "    mape = mean_absolute_percentage_error(data, predictions)\n",
    "    rmse = mean_squared_error(data, predictions, squared=False)\n",
    "    return predictions, mse, mae, mape, rmse\n",
    "predictions = df_model_fit.predict(start=train_data.index[0], end=train_data.index[len(train_data)-1])\n",
    "print(predictions)"
   ]
  },
  {
   "cell_type": "markdown",
   "id": "2d39317e",
   "metadata": {},
   "source": [
    "### 3.2 Evaluate on Validate data"
   ]
  },
  {
   "cell_type": "code",
   "execution_count": 21,
   "id": "3bc8fdd2",
   "metadata": {},
   "outputs": [
    {
     "name": "stdout",
     "output_type": "stream",
     "text": [
      "Price predict on validate data: 15445.22712483379\n"
     ]
    }
   ],
   "source": [
    "y_pred_val, val_mse, val_mae, val_mape, val_rmse = evaluate_dynamic_factor_model(train_data)\n",
    "\n",
    "print(\"Price predict on validate data:\", val_rmse)"
   ]
  },
  {
   "cell_type": "code",
   "execution_count": null,
   "id": "7b1d56b4",
   "metadata": {},
   "outputs": [],
   "source": []
  }
 ],
 "metadata": {
  "kernelspec": {
   "display_name": "Python 3 (ipykernel)",
   "language": "python",
   "name": "python3"
  },
  "language_info": {
   "codemirror_mode": {
    "name": "ipython",
    "version": 3
   },
   "file_extension": ".py",
   "mimetype": "text/x-python",
   "name": "python",
   "nbconvert_exporter": "python",
   "pygments_lexer": "ipython3",
   "version": "3.11.1"
  }
 },
 "nbformat": 4,
 "nbformat_minor": 5
}
