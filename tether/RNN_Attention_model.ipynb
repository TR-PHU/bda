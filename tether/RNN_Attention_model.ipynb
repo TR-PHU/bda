{
  "cells": [
    {
      "cell_type": "code",
      "source": [
        "!pip install attention"
      ],
      "metadata": {
        "colab": {
          "base_uri": "https://localhost:8080/"
        },
        "id": "N4EWloUT7NPt",
        "outputId": "888c57ab-4e6e-4655-c4cb-39608bc54239"
      },
      "id": "N4EWloUT7NPt",
      "execution_count": 15,
      "outputs": [
        {
          "output_type": "stream",
          "name": "stdout",
          "text": [
            "Looking in indexes: https://pypi.org/simple, https://us-python.pkg.dev/colab-wheels/public/simple/\n",
            "Collecting attention\n",
            "  Downloading attention-5.0.0-py3-none-any.whl (9.0 kB)\n",
            "Requirement already satisfied: tensorflow>=2.1 in /usr/local/lib/python3.10/dist-packages (from attention) (2.12.0)\n",
            "Requirement already satisfied: numpy>=1.18.1 in /usr/local/lib/python3.10/dist-packages (from attention) (1.22.4)\n",
            "Requirement already satisfied: typing-extensions>=3.6.6 in /usr/local/lib/python3.10/dist-packages (from tensorflow>=2.1->attention) (4.5.0)\n",
            "Requirement already satisfied: keras<2.13,>=2.12.0 in /usr/local/lib/python3.10/dist-packages (from tensorflow>=2.1->attention) (2.12.0)\n",
            "Requirement already satisfied: h5py>=2.9.0 in /usr/local/lib/python3.10/dist-packages (from tensorflow>=2.1->attention) (3.8.0)\n",
            "Requirement already satisfied: gast<=0.4.0,>=0.2.1 in /usr/local/lib/python3.10/dist-packages (from tensorflow>=2.1->attention) (0.4.0)\n",
            "Requirement already satisfied: setuptools in /usr/local/lib/python3.10/dist-packages (from tensorflow>=2.1->attention) (67.7.2)\n",
            "Requirement already satisfied: flatbuffers>=2.0 in /usr/local/lib/python3.10/dist-packages (from tensorflow>=2.1->attention) (23.3.3)\n",
            "Requirement already satisfied: opt-einsum>=2.3.2 in /usr/local/lib/python3.10/dist-packages (from tensorflow>=2.1->attention) (3.3.0)\n",
            "Requirement already satisfied: tensorboard<2.13,>=2.12 in /usr/local/lib/python3.10/dist-packages (from tensorflow>=2.1->attention) (2.12.2)\n",
            "Requirement already satisfied: packaging in /usr/local/lib/python3.10/dist-packages (from tensorflow>=2.1->attention) (23.1)\n",
            "Requirement already satisfied: google-pasta>=0.1.1 in /usr/local/lib/python3.10/dist-packages (from tensorflow>=2.1->attention) (0.2.0)\n",
            "Requirement already satisfied: grpcio<2.0,>=1.24.3 in /usr/local/lib/python3.10/dist-packages (from tensorflow>=2.1->attention) (1.54.0)\n",
            "Requirement already satisfied: wrapt<1.15,>=1.11.0 in /usr/local/lib/python3.10/dist-packages (from tensorflow>=2.1->attention) (1.14.1)\n",
            "Requirement already satisfied: libclang>=13.0.0 in /usr/local/lib/python3.10/dist-packages (from tensorflow>=2.1->attention) (16.0.0)\n",
            "Requirement already satisfied: absl-py>=1.0.0 in /usr/local/lib/python3.10/dist-packages (from tensorflow>=2.1->attention) (1.4.0)\n",
            "Requirement already satisfied: six>=1.12.0 in /usr/local/lib/python3.10/dist-packages (from tensorflow>=2.1->attention) (1.16.0)\n",
            "Requirement already satisfied: tensorflow-estimator<2.13,>=2.12.0 in /usr/local/lib/python3.10/dist-packages (from tensorflow>=2.1->attention) (2.12.0)\n",
            "Requirement already satisfied: jax>=0.3.15 in /usr/local/lib/python3.10/dist-packages (from tensorflow>=2.1->attention) (0.4.8)\n",
            "Requirement already satisfied: protobuf!=4.21.0,!=4.21.1,!=4.21.2,!=4.21.3,!=4.21.4,!=4.21.5,<5.0.0dev,>=3.20.3 in /usr/local/lib/python3.10/dist-packages (from tensorflow>=2.1->attention) (3.20.3)\n",
            "Requirement already satisfied: tensorflow-io-gcs-filesystem>=0.23.1 in /usr/local/lib/python3.10/dist-packages (from tensorflow>=2.1->attention) (0.32.0)\n",
            "Requirement already satisfied: astunparse>=1.6.0 in /usr/local/lib/python3.10/dist-packages (from tensorflow>=2.1->attention) (1.6.3)\n",
            "Requirement already satisfied: termcolor>=1.1.0 in /usr/local/lib/python3.10/dist-packages (from tensorflow>=2.1->attention) (2.3.0)\n",
            "Requirement already satisfied: wheel<1.0,>=0.23.0 in /usr/local/lib/python3.10/dist-packages (from astunparse>=1.6.0->tensorflow>=2.1->attention) (0.40.0)\n",
            "Requirement already satisfied: ml-dtypes>=0.0.3 in /usr/local/lib/python3.10/dist-packages (from jax>=0.3.15->tensorflow>=2.1->attention) (0.1.0)\n",
            "Requirement already satisfied: scipy>=1.7 in /usr/local/lib/python3.10/dist-packages (from jax>=0.3.15->tensorflow>=2.1->attention) (1.10.1)\n",
            "Requirement already satisfied: tensorboard-data-server<0.8.0,>=0.7.0 in /usr/local/lib/python3.10/dist-packages (from tensorboard<2.13,>=2.12->tensorflow>=2.1->attention) (0.7.0)\n",
            "Requirement already satisfied: markdown>=2.6.8 in /usr/local/lib/python3.10/dist-packages (from tensorboard<2.13,>=2.12->tensorflow>=2.1->attention) (3.4.3)\n",
            "Requirement already satisfied: werkzeug>=1.0.1 in /usr/local/lib/python3.10/dist-packages (from tensorboard<2.13,>=2.12->tensorflow>=2.1->attention) (2.3.0)\n",
            "Requirement already satisfied: google-auth<3,>=1.6.3 in /usr/local/lib/python3.10/dist-packages (from tensorboard<2.13,>=2.12->tensorflow>=2.1->attention) (2.17.3)\n",
            "Requirement already satisfied: google-auth-oauthlib<1.1,>=0.5 in /usr/local/lib/python3.10/dist-packages (from tensorboard<2.13,>=2.12->tensorflow>=2.1->attention) (1.0.0)\n",
            "Requirement already satisfied: requests<3,>=2.21.0 in /usr/local/lib/python3.10/dist-packages (from tensorboard<2.13,>=2.12->tensorflow>=2.1->attention) (2.27.1)\n",
            "Requirement already satisfied: tensorboard-plugin-wit>=1.6.0 in /usr/local/lib/python3.10/dist-packages (from tensorboard<2.13,>=2.12->tensorflow>=2.1->attention) (1.8.1)\n",
            "Requirement already satisfied: cachetools<6.0,>=2.0.0 in /usr/local/lib/python3.10/dist-packages (from google-auth<3,>=1.6.3->tensorboard<2.13,>=2.12->tensorflow>=2.1->attention) (5.3.0)\n",
            "Requirement already satisfied: pyasn1-modules>=0.2.1 in /usr/local/lib/python3.10/dist-packages (from google-auth<3,>=1.6.3->tensorboard<2.13,>=2.12->tensorflow>=2.1->attention) (0.3.0)\n",
            "Requirement already satisfied: rsa<5,>=3.1.4 in /usr/local/lib/python3.10/dist-packages (from google-auth<3,>=1.6.3->tensorboard<2.13,>=2.12->tensorflow>=2.1->attention) (4.9)\n",
            "Requirement already satisfied: requests-oauthlib>=0.7.0 in /usr/local/lib/python3.10/dist-packages (from google-auth-oauthlib<1.1,>=0.5->tensorboard<2.13,>=2.12->tensorflow>=2.1->attention) (1.3.1)\n",
            "Requirement already satisfied: urllib3<1.27,>=1.21.1 in /usr/local/lib/python3.10/dist-packages (from requests<3,>=2.21.0->tensorboard<2.13,>=2.12->tensorflow>=2.1->attention) (1.26.15)\n",
            "Requirement already satisfied: idna<4,>=2.5 in /usr/local/lib/python3.10/dist-packages (from requests<3,>=2.21.0->tensorboard<2.13,>=2.12->tensorflow>=2.1->attention) (3.4)\n",
            "Requirement already satisfied: charset-normalizer~=2.0.0 in /usr/local/lib/python3.10/dist-packages (from requests<3,>=2.21.0->tensorboard<2.13,>=2.12->tensorflow>=2.1->attention) (2.0.12)\n",
            "Requirement already satisfied: certifi>=2017.4.17 in /usr/local/lib/python3.10/dist-packages (from requests<3,>=2.21.0->tensorboard<2.13,>=2.12->tensorflow>=2.1->attention) (2022.12.7)\n",
            "Requirement already satisfied: MarkupSafe>=2.1.1 in /usr/local/lib/python3.10/dist-packages (from werkzeug>=1.0.1->tensorboard<2.13,>=2.12->tensorflow>=2.1->attention) (2.1.2)\n",
            "Requirement already satisfied: pyasn1<0.6.0,>=0.4.6 in /usr/local/lib/python3.10/dist-packages (from pyasn1-modules>=0.2.1->google-auth<3,>=1.6.3->tensorboard<2.13,>=2.12->tensorflow>=2.1->attention) (0.5.0)\n",
            "Requirement already satisfied: oauthlib>=3.0.0 in /usr/local/lib/python3.10/dist-packages (from requests-oauthlib>=0.7.0->google-auth-oauthlib<1.1,>=0.5->tensorboard<2.13,>=2.12->tensorflow>=2.1->attention) (3.2.2)\n",
            "Installing collected packages: attention\n",
            "Successfully installed attention-5.0.0\n"
          ]
        }
      ]
    },
    {
      "cell_type": "code",
      "execution_count": 69,
      "id": "e189f100",
      "metadata": {
        "id": "e189f100"
      },
      "outputs": [],
      "source": [
        "import numpy as np\n",
        "import pandas as pd\n",
        "import matplotlib.pyplot as plt\n",
        "\n",
        "from sklearn.metrics import mean_squared_error, mean_absolute_error\n",
        "\n",
        "from sklearn.preprocessing import MinMaxScaler\n",
        "\n",
        "from keras.models import Sequential\n",
        "from keras.layers import Dense, SimpleRNN, Dropout\n",
        "from attention import Attention"
      ]
    },
    {
      "cell_type": "code",
      "execution_count": 40,
      "id": "e0ae2c98",
      "metadata": {
        "colab": {
          "base_uri": "https://localhost:8080/",
          "height": 424
        },
        "id": "e0ae2c98",
        "outputId": "9545ff1a-8c47-43e9-bfd8-db047c128cd9"
      },
      "outputs": [
        {
          "output_type": "execute_result",
          "data": {
            "text/plain": [
              "            Date   Price\n",
              "0     2017-12-01  1.0100\n",
              "1     2017-12-02  0.9959\n",
              "2     2017-12-03  0.9977\n",
              "3     2017-12-04  1.0000\n",
              "4     2017-12-05  1.0000\n",
              "...          ...     ...\n",
              "1942  2023-03-28  1.0001\n",
              "1943  2023-03-29  0.9999\n",
              "1944  2023-03-30  1.0000\n",
              "1945  2023-03-31  1.0001\n",
              "1946  2023-04-01  1.0002\n",
              "\n",
              "[1947 rows x 2 columns]"
            ],
            "text/html": [
              "\n",
              "  <div id=\"df-97dfba5c-6c05-41d0-906a-42a68120334d\">\n",
              "    <div class=\"colab-df-container\">\n",
              "      <div>\n",
              "<style scoped>\n",
              "    .dataframe tbody tr th:only-of-type {\n",
              "        vertical-align: middle;\n",
              "    }\n",
              "\n",
              "    .dataframe tbody tr th {\n",
              "        vertical-align: top;\n",
              "    }\n",
              "\n",
              "    .dataframe thead th {\n",
              "        text-align: right;\n",
              "    }\n",
              "</style>\n",
              "<table border=\"1\" class=\"dataframe\">\n",
              "  <thead>\n",
              "    <tr style=\"text-align: right;\">\n",
              "      <th></th>\n",
              "      <th>Date</th>\n",
              "      <th>Price</th>\n",
              "    </tr>\n",
              "  </thead>\n",
              "  <tbody>\n",
              "    <tr>\n",
              "      <th>0</th>\n",
              "      <td>2017-12-01</td>\n",
              "      <td>1.0100</td>\n",
              "    </tr>\n",
              "    <tr>\n",
              "      <th>1</th>\n",
              "      <td>2017-12-02</td>\n",
              "      <td>0.9959</td>\n",
              "    </tr>\n",
              "    <tr>\n",
              "      <th>2</th>\n",
              "      <td>2017-12-03</td>\n",
              "      <td>0.9977</td>\n",
              "    </tr>\n",
              "    <tr>\n",
              "      <th>3</th>\n",
              "      <td>2017-12-04</td>\n",
              "      <td>1.0000</td>\n",
              "    </tr>\n",
              "    <tr>\n",
              "      <th>4</th>\n",
              "      <td>2017-12-05</td>\n",
              "      <td>1.0000</td>\n",
              "    </tr>\n",
              "    <tr>\n",
              "      <th>...</th>\n",
              "      <td>...</td>\n",
              "      <td>...</td>\n",
              "    </tr>\n",
              "    <tr>\n",
              "      <th>1942</th>\n",
              "      <td>2023-03-28</td>\n",
              "      <td>1.0001</td>\n",
              "    </tr>\n",
              "    <tr>\n",
              "      <th>1943</th>\n",
              "      <td>2023-03-29</td>\n",
              "      <td>0.9999</td>\n",
              "    </tr>\n",
              "    <tr>\n",
              "      <th>1944</th>\n",
              "      <td>2023-03-30</td>\n",
              "      <td>1.0000</td>\n",
              "    </tr>\n",
              "    <tr>\n",
              "      <th>1945</th>\n",
              "      <td>2023-03-31</td>\n",
              "      <td>1.0001</td>\n",
              "    </tr>\n",
              "    <tr>\n",
              "      <th>1946</th>\n",
              "      <td>2023-04-01</td>\n",
              "      <td>1.0002</td>\n",
              "    </tr>\n",
              "  </tbody>\n",
              "</table>\n",
              "<p>1947 rows × 2 columns</p>\n",
              "</div>\n",
              "      <button class=\"colab-df-convert\" onclick=\"convertToInteractive('df-97dfba5c-6c05-41d0-906a-42a68120334d')\"\n",
              "              title=\"Convert this dataframe to an interactive table.\"\n",
              "              style=\"display:none;\">\n",
              "        \n",
              "  <svg xmlns=\"http://www.w3.org/2000/svg\" height=\"24px\"viewBox=\"0 0 24 24\"\n",
              "       width=\"24px\">\n",
              "    <path d=\"M0 0h24v24H0V0z\" fill=\"none\"/>\n",
              "    <path d=\"M18.56 5.44l.94 2.06.94-2.06 2.06-.94-2.06-.94-.94-2.06-.94 2.06-2.06.94zm-11 1L8.5 8.5l.94-2.06 2.06-.94-2.06-.94L8.5 2.5l-.94 2.06-2.06.94zm10 10l.94 2.06.94-2.06 2.06-.94-2.06-.94-.94-2.06-.94 2.06-2.06.94z\"/><path d=\"M17.41 7.96l-1.37-1.37c-.4-.4-.92-.59-1.43-.59-.52 0-1.04.2-1.43.59L10.3 9.45l-7.72 7.72c-.78.78-.78 2.05 0 2.83L4 21.41c.39.39.9.59 1.41.59.51 0 1.02-.2 1.41-.59l7.78-7.78 2.81-2.81c.8-.78.8-2.07 0-2.86zM5.41 20L4 18.59l7.72-7.72 1.47 1.35L5.41 20z\"/>\n",
              "  </svg>\n",
              "      </button>\n",
              "      \n",
              "  <style>\n",
              "    .colab-df-container {\n",
              "      display:flex;\n",
              "      flex-wrap:wrap;\n",
              "      gap: 12px;\n",
              "    }\n",
              "\n",
              "    .colab-df-convert {\n",
              "      background-color: #E8F0FE;\n",
              "      border: none;\n",
              "      border-radius: 50%;\n",
              "      cursor: pointer;\n",
              "      display: none;\n",
              "      fill: #1967D2;\n",
              "      height: 32px;\n",
              "      padding: 0 0 0 0;\n",
              "      width: 32px;\n",
              "    }\n",
              "\n",
              "    .colab-df-convert:hover {\n",
              "      background-color: #E2EBFA;\n",
              "      box-shadow: 0px 1px 2px rgba(60, 64, 67, 0.3), 0px 1px 3px 1px rgba(60, 64, 67, 0.15);\n",
              "      fill: #174EA6;\n",
              "    }\n",
              "\n",
              "    [theme=dark] .colab-df-convert {\n",
              "      background-color: #3B4455;\n",
              "      fill: #D2E3FC;\n",
              "    }\n",
              "\n",
              "    [theme=dark] .colab-df-convert:hover {\n",
              "      background-color: #434B5C;\n",
              "      box-shadow: 0px 1px 3px 1px rgba(0, 0, 0, 0.15);\n",
              "      filter: drop-shadow(0px 1px 2px rgba(0, 0, 0, 0.3));\n",
              "      fill: #FFFFFF;\n",
              "    }\n",
              "  </style>\n",
              "\n",
              "      <script>\n",
              "        const buttonEl =\n",
              "          document.querySelector('#df-97dfba5c-6c05-41d0-906a-42a68120334d button.colab-df-convert');\n",
              "        buttonEl.style.display =\n",
              "          google.colab.kernel.accessAllowed ? 'block' : 'none';\n",
              "\n",
              "        async function convertToInteractive(key) {\n",
              "          const element = document.querySelector('#df-97dfba5c-6c05-41d0-906a-42a68120334d');\n",
              "          const dataTable =\n",
              "            await google.colab.kernel.invokeFunction('convertToInteractive',\n",
              "                                                     [key], {});\n",
              "          if (!dataTable) return;\n",
              "\n",
              "          const docLinkHtml = 'Like what you see? Visit the ' +\n",
              "            '<a target=\"_blank\" href=https://colab.research.google.com/notebooks/data_table.ipynb>data table notebook</a>'\n",
              "            + ' to learn more about interactive tables.';\n",
              "          element.innerHTML = '';\n",
              "          dataTable['output_type'] = 'display_data';\n",
              "          await google.colab.output.renderOutput(dataTable, element);\n",
              "          const docLink = document.createElement('div');\n",
              "          docLink.innerHTML = docLinkHtml;\n",
              "          element.appendChild(docLink);\n",
              "        }\n",
              "      </script>\n",
              "    </div>\n",
              "  </div>\n",
              "  "
            ]
          },
          "metadata": {},
          "execution_count": 40
        }
      ],
      "source": [
        "# Load the dataset\n",
        "df = pd.read_csv(\"./USDT.csv\")\n",
        "\n",
        "# Drop the unnecessary columns.\n",
        "df.drop(['Open', 'High', 'Low', 'Vol.', 'Change %'], axis=1, inplace=True)\n",
        "\n",
        "# Convert the \"Date\" column to datetime format\n",
        "df['Date'] = pd.to_datetime(df['Date'], format='%d-%b-%y')\n",
        "\n",
        "# Format the 'Date' column\n",
        "df['Date'] = df['Date'].dt.strftime('%Y-%m-%d')\n",
        "                                    \n",
        "# Sort the DataFrame by date\n",
        "df = df.sort_values('Date')\n",
        "df.index = np.arange(0, len(df))\n",
        "df"
      ]
    },
    {
      "cell_type": "code",
      "source": [
        "# Illustrated diagram\n",
        "\n",
        "plt.figure(figsize = (12,6))\n",
        "plt.plot(price)\n",
        "plt.xticks(range(0, df.shape[0],50), df['Date'].loc[::50],rotation=45)\n",
        "plt.title(\"USDT Price\",fontsize=18, fontweight='bold')\n",
        "plt.xlabel('Date',fontsize=18)\n",
        "plt.ylabel('Price',fontsize=18)\n",
        "plt.show()"
      ],
      "metadata": {
        "colab": {
          "base_uri": "https://localhost:8080/",
          "height": 632
        },
        "id": "6qWJaLW0Cylt",
        "outputId": "af37e932-f878-4e8b-cd3d-94d4fc5df90b"
      },
      "id": "6qWJaLW0Cylt",
      "execution_count": 39,
      "outputs": [
        {
          "output_type": "display_data",
          "data": {
            "text/plain": [
              "<Figure size 1200x600 with 1 Axes>"
            ],
            "image/png": "[encoded data removed]"
          },
          "metadata": {}
        }
      ]
    },
    {
      "cell_type": "code",
      "source": [
        "price = np.array(df[['Price']])\n",
        "price"
      ],
      "metadata": {
        "colab": {
          "base_uri": "https://localhost:8080/"
        },
        "id": "i2WTZAO3DNXu",
        "outputId": "3b4a0d85-53b2-4b87-bb13-26320edf849f"
      },
      "id": "i2WTZAO3DNXu",
      "execution_count": 41,
      "outputs": [
        {
          "output_type": "execute_result",
          "data": {
            "text/plain": [
              "array([[1.01  ],\n",
              "       [0.9959],\n",
              "       [0.9977],\n",
              "       ...,\n",
              "       [1.    ],\n",
              "       [1.0001],\n",
              "       [1.0002]])"
            ]
          },
          "metadata": {},
          "execution_count": 41
        }
      ]
    },
    {
      "cell_type": "code",
      "source": [
        "train_size = int(len(df) * 0.80)\n",
        "test_size = len(df) - train_size\n",
        "\n",
        "train, test = price[0:train_size,:], price[train_size:len(df),:]\n",
        "print(len(train), len(test))"
      ],
      "metadata": {
        "colab": {
          "base_uri": "https://localhost:8080/"
        },
        "id": "5LlVg98rCXB6",
        "outputId": "3663b418-d027-4911-b270-c84e4878c049"
      },
      "id": "5LlVg98rCXB6",
      "execution_count": 43,
      "outputs": [
        {
          "output_type": "stream",
          "name": "stdout",
          "text": [
            "1557 390\n"
          ]
        }
      ]
    },
    {
      "cell_type": "code",
      "source": [
        "# Convert the array of values to the matrix of dataset\n",
        "def create_dataset(dataset, look_back=1):\n",
        "\tdataX, dataY = [], []\n",
        "\tfor i in range(len(dataset)-look_back-1):\n",
        "\t\ta = dataset[i:(i+look_back), 0]\n",
        "\t\tdataX.append(a)\n",
        "\t\tdataY.append(dataset[i + look_back, 0])\n",
        "\treturn np.array(dataX), np.array(dataY)"
      ],
      "metadata": {
        "id": "RexiMuBnDl-N"
      },
      "id": "RexiMuBnDl-N",
      "execution_count": 44,
      "outputs": []
    },
    {
      "cell_type": "code",
      "source": [
        "look_back = 3\n",
        "trainX, trainY = create_dataset(train, look_back)\n",
        "testX, testY = create_dataset(test, look_back)\n",
        "print(trainX.shape)\n",
        "print(trainY.shape)\n",
        "print(testX.shape)\n",
        "print(testY.shape)"
      ],
      "metadata": {
        "colab": {
          "base_uri": "https://localhost:8080/"
        },
        "id": "w9YQkHz8Doi_",
        "outputId": "7bcd1a64-a271-468d-ca89-d952281c7c85"
      },
      "id": "w9YQkHz8Doi_",
      "execution_count": 45,
      "outputs": [
        {
          "output_type": "stream",
          "name": "stdout",
          "text": [
            "(1553, 3)\n",
            "(1553,)\n",
            "(386, 3)\n",
            "(386,)\n"
          ]
        }
      ]
    },
    {
      "cell_type": "code",
      "source": [
        "n_features = 1\n",
        "trainX = trainX.reshape((trainX.shape[0], trainX.shape[1], n_features))\n",
        "testX = testX.reshape((testX.shape[0], testX.shape[1], n_features))\n",
        "print(\"Train shape: \", trainX.shape)\n",
        "print(\"Test shape:\", testX.shape)"
      ],
      "metadata": {
        "colab": {
          "base_uri": "https://localhost:8080/"
        },
        "id": "DS0uif1gDtTC",
        "outputId": "4b9dee41-4edb-4795-f04e-fa826dc7c90e"
      },
      "id": "DS0uif1gDtTC",
      "execution_count": 48,
      "outputs": [
        {
          "output_type": "stream",
          "name": "stdout",
          "text": [
            "Train shape:  (1553, 3, 1)\n",
            "Test shape: (386, 3, 1)\n"
          ]
        }
      ]
    },
    {
      "cell_type": "code",
      "execution_count": 82,
      "id": "0543b379",
      "metadata": {
        "colab": {
          "base_uri": "https://localhost:8080/"
        },
        "id": "0543b379",
        "outputId": "61cfb4c0-1b2f-4599-c5b4-d6bc96fba78f"
      },
      "outputs": [
        {
          "output_type": "stream",
          "name": "stdout",
          "text": [
            "Model: \"sequential_11\"\n",
            "_________________________________________________________________\n",
            " Layer (type)                Output Shape              Param #   \n",
            "=================================================================\n",
            " simple_rnn_15 (SimpleRNN)   (None, 3, 100)            10200     \n",
            "                                                                 \n",
            " attention_9 (Attention)     (None, 128)               35600     \n",
            "                                                                 \n",
            " dense_20 (Dense)            (None, 32)                4128      \n",
            "                                                                 \n",
            " dense_21 (Dense)            (None, 1)                 33        \n",
            "                                                                 \n",
            "=================================================================\n",
            "Total params: 49,961\n",
            "Trainable params: 49,961\n",
            "Non-trainable params: 0\n",
            "_________________________________________________________________\n"
          ]
        }
      ],
      "source": [
        "model = Sequential([\n",
        "    SimpleRNN(100, return_sequences=True, input_shape=(look_back, n_features)),\n",
        "    Attention(),\n",
        "    Dense(32, activation='relu'),\n",
        "    Dense(1, activation='linear')\n",
        "])\n",
        "\n",
        "model.summary()"
      ]
    },
    {
      "cell_type": "code",
      "execution_count": 83,
      "id": "34a06337",
      "metadata": {
        "colab": {
          "base_uri": "https://localhost:8080/"
        },
        "id": "34a06337",
        "outputId": "4722614d-f586-4f0b-8899-4af7c4404aae"
      },
      "outputs": [
        {
          "output_type": "stream",
          "name": "stdout",
          "text": [
            "Epoch 1/10\n",
            "1553/1553 [==============================] - 8s 4ms/step - loss: 0.0013 - accuracy: 0.0451\n",
            "Epoch 2/10\n",
            "1553/1553 [==============================] - 6s 4ms/step - loss: 1.0299e-04 - accuracy: 0.0451\n",
            "Epoch 3/10\n",
            "1553/1553 [==============================] - 5s 4ms/step - loss: 1.0264e-04 - accuracy: 0.0451\n",
            "Epoch 4/10\n",
            "1553/1553 [==============================] - 7s 4ms/step - loss: 9.3091e-05 - accuracy: 0.0451\n",
            "Epoch 5/10\n",
            "1553/1553 [==============================] - 6s 4ms/step - loss: 8.3403e-05 - accuracy: 0.0451\n",
            "Epoch 6/10\n",
            "1553/1553 [==============================] - 7s 4ms/step - loss: 8.1450e-05 - accuracy: 0.0451\n",
            "Epoch 7/10\n",
            "1553/1553 [==============================] - 6s 4ms/step - loss: 6.6395e-05 - accuracy: 0.0451\n",
            "Epoch 8/10\n",
            "1553/1553 [==============================] - 7s 4ms/step - loss: 5.7360e-05 - accuracy: 0.0451\n",
            "Epoch 9/10\n",
            "1553/1553 [==============================] - 5s 4ms/step - loss: 7.3090e-05 - accuracy: 0.0451\n",
            "Epoch 10/10\n",
            "1553/1553 [==============================] - 7s 4ms/step - loss: 5.8827e-05 - accuracy: 0.0451\n"
          ]
        }
      ],
      "source": [
        "model.compile(optimizer='adam', loss='mean_squared_error', metrics=['accuracy'])\n",
        "history = model.fit(trainX, trainY, batch_size=1, epochs=10)"
      ]
    },
    {
      "cell_type": "code",
      "source": [
        "rnn_predict = model.predict(testX)\n",
        "rnn_predict.reshape(-1,1)"
      ],
      "metadata": {
        "colab": {
          "base_uri": "https://localhost:8080/"
        },
        "id": "h-LXlx1eAse6",
        "outputId": "028f7a08-0432-4491-884b-4c8b5837430d"
      },
      "id": "h-LXlx1eAse6",
      "execution_count": 84,
      "outputs": [
        {
          "output_type": "stream",
          "name": "stdout",
          "text": [
            "13/13 [==============================] - 0s 3ms/step\n"
          ]
        },
        {
          "output_type": "execute_result",
          "data": {
            "text/plain": [
              "array([[1.0057263],\n",
              "       [1.0056505],\n",
              "       [1.0056906],\n",
              "       [1.0056117],\n",
              "       [1.005694 ],\n",
              "       [1.0057263],\n",
              "       [1.005733 ],\n",
              "       [1.005764 ],\n",
              "       [1.0057377],\n",
              "       [1.0057377],\n",
              "       [1.0057377],\n",
              "       [1.0056553],\n",
              "       [1.0057056],\n",
              "       [1.0056484],\n",
              "       [1.0057158],\n",
              "       [1.0057113],\n",
              "       [1.0057377],\n",
              "       [1.0056553],\n",
              "       [1.0057056],\n",
              "       [1.0056896],\n",
              "       [1.00567  ],\n",
              "       [1.005701 ],\n",
              "       [1.0057158],\n",
              "       [1.00567  ],\n",
              "       [1.0056597],\n",
              "       [1.0056384],\n",
              "       [1.0056117],\n",
              "       [1.0056529],\n",
              "       [1.0056072],\n",
              "       [1.0056794],\n",
              "       [1.0056484],\n",
              "       [1.0057572],\n",
              "       [1.0056655],\n",
              "       [1.0056862],\n",
              "       [1.0056384],\n",
              "       [1.0055704],\n",
              "       [1.0056161],\n",
              "       [1.0055853],\n",
              "       [1.0056529],\n",
              "       [1.005566 ],\n",
              "       [1.0056013],\n",
              "       [1.0055901],\n",
              "       [1.0055441],\n",
              "       [1.0055338],\n",
              "       [1.0055945],\n",
              "       [1.0055591],\n",
              "       [1.0055293],\n",
              "       [1.0055382],\n",
              "       [1.0054855],\n",
              "       [1.0054855],\n",
              "       [1.0054855],\n",
              "       [1.0056095],\n",
              "       [1.0055544],\n",
              "       [1.0055556],\n",
              "       [1.0055382],\n",
              "       [1.0054443],\n",
              "       [1.005449 ],\n",
              "       [1.0054227],\n",
              "       [1.0054227],\n",
              "       [1.0055051],\n",
              "       [1.0054547],\n",
              "       [1.0055945],\n",
              "       [1.0041548],\n",
              "       [1.0049834],\n",
              "       [1.0042242],\n",
              "       [1.0046797],\n",
              "       [1.0048435],\n",
              "       [1.0048089],\n",
              "       [1.0049272],\n",
              "       [1.0047413],\n",
              "       [1.0050144],\n",
              "       [1.0048296],\n",
              "       [1.0050948],\n",
              "       [1.0050284],\n",
              "       [1.0049837],\n",
              "       [1.0049971],\n",
              "       [1.0049181],\n",
              "       [1.0049593],\n",
              "       [1.0049548],\n",
              "       [1.0051049],\n",
              "       [1.0050501],\n",
              "       [1.005175 ],\n",
              "       [1.0051026],\n",
              "       [1.0052989],\n",
              "       [1.0052541],\n",
              "       [1.0051944],\n",
              "       [1.005419 ],\n",
              "       [1.005291 ],\n",
              "       [1.0052161],\n",
              "       [1.0052803],\n",
              "       [1.005144 ],\n",
              "       [1.0051291],\n",
              "       [1.0051336],\n",
              "       [1.0053138],\n",
              "       [1.0054147],\n",
              "       [1.0051198],\n",
              "       [1.0052447],\n",
              "       [1.0050637],\n",
              "       [1.0049307],\n",
              "       [1.0046667],\n",
              "       [1.0049136],\n",
              "       [1.0045875],\n",
              "       [1.0047816],\n",
              "       [1.00477  ],\n",
              "       [1.0047655],\n",
              "       [1.0048332],\n",
              "       [1.0049524],\n",
              "       [1.005089 ],\n",
              "       [1.0053608],\n",
              "       [1.0050039],\n",
              "       [1.0051403],\n",
              "       [1.0048813],\n",
              "       [1.0048549],\n",
              "       [1.0048962],\n",
              "       [1.0048504],\n",
              "       [1.0048813],\n",
              "       [1.0048137],\n",
              "       [1.0048594],\n",
              "       [1.0048286],\n",
              "       [1.0050203],\n",
              "       [1.0050018],\n",
              "       [1.0051899],\n",
              "       [1.0051806],\n",
              "       [1.0051095],\n",
              "       [1.0049994],\n",
              "       [1.0051405],\n",
              "       [1.0049973],\n",
              "       [1.0052989],\n",
              "       [1.0052955],\n",
              "       [1.0053962],\n",
              "       [1.0054227],\n",
              "       [1.0054638],\n",
              "       [1.0054593],\n",
              "       [1.0055269],\n",
              "       [1.0055224],\n",
              "       [1.0055073],\n",
              "       [1.0055534],\n",
              "       [1.005481 ],\n",
              "       [1.0055534],\n",
              "       [1.005605 ],\n",
              "       [1.0055809],\n",
              "       [1.0057205],\n",
              "       [1.0056025],\n",
              "       [1.0056643],\n",
              "       [1.0056117],\n",
              "       [1.0055704],\n",
              "       [1.005575 ],\n",
              "       [1.0055486],\n",
              "       [1.0055073],\n",
              "       [1.0054709],\n",
              "       [1.0055314],\n",
              "       [1.0055373],\n",
              "       [1.0055853],\n",
              "       [1.0056117],\n",
              "       [1.005694 ],\n",
              "       [1.0056851],\n",
              "       [1.0056964],\n",
              "       [1.0056597],\n",
              "       [1.0055968],\n",
              "       [1.005575 ],\n",
              "       [1.0055073],\n",
              "       [1.0055119],\n",
              "       [1.0054855],\n",
              "       [1.0054443],\n",
              "       [1.0054901],\n",
              "       [1.0054178],\n",
              "       [1.005449 ],\n",
              "       [1.0054227],\n",
              "       [1.0054638],\n",
              "       [1.0055007],\n",
              "       [1.0055636],\n",
              "       [1.0056267],\n",
              "       [1.0055246],\n",
              "       [1.0056059],\n",
              "       [1.005481 ],\n",
              "       [1.0055534],\n",
              "       [1.0055224],\n",
              "       [1.0055073],\n",
              "       [1.0055119],\n",
              "       [1.0054443],\n",
              "       [1.005449 ],\n",
              "       [1.0054638],\n",
              "       [1.0055007],\n",
              "       [1.005605 ],\n",
              "       [1.005622 ],\n",
              "       [1.0056335],\n",
              "       [1.0056384],\n",
              "       [1.0055704],\n",
              "       [1.0056161],\n",
              "       [1.0055441],\n",
              "       [1.005575 ],\n",
              "       [1.00559  ],\n",
              "       [1.0055028],\n",
              "       [1.0056208],\n",
              "       [1.0055178],\n",
              "       [1.005575 ],\n",
              "       [1.0055486],\n",
              "       [1.0055901],\n",
              "       [1.0055853],\n",
              "       [1.0055704],\n",
              "       [1.0056161],\n",
              "       [1.0054616],\n",
              "       [1.0055015],\n",
              "       [1.0055051],\n",
              "       [1.0055373],\n",
              "       [1.0055028],\n",
              "       [1.0055795],\n",
              "       [1.0055224],\n",
              "       [1.0055901],\n",
              "       [1.0055853],\n",
              "       [1.0055704],\n",
              "       [1.0056161],\n",
              "       [1.0055441],\n",
              "       [1.0056161],\n",
              "       [1.0054616],\n",
              "       [1.0055015],\n",
              "       [1.0054638],\n",
              "       [1.0054593],\n",
              "       [1.0054855],\n",
              "       [1.0054855],\n",
              "       [1.0055269],\n",
              "       [1.0055224],\n",
              "       [1.0055487],\n",
              "       [1.0055073],\n",
              "       [1.0055119],\n",
              "       [1.0055683],\n",
              "       [1.0055178],\n",
              "       [1.005575 ],\n",
              "       [1.0054661],\n",
              "       [1.005599 ],\n",
              "       [1.0055739],\n",
              "       [1.0056072],\n",
              "       [1.0056384],\n",
              "       [1.0056529],\n",
              "       [1.0056484],\n",
              "       [1.0055509],\n",
              "       [1.0055647],\n",
              "       [1.0055269],\n",
              "       [1.005481 ],\n",
              "       [1.0055945],\n",
              "       [1.0056002],\n",
              "       [1.0056484],\n",
              "       [1.0055922],\n",
              "       [1.0056427],\n",
              "       [1.0051314],\n",
              "       [1.0048366],\n",
              "       [1.0046701],\n",
              "       [1.0045061],\n",
              "       [1.0046324],\n",
              "       [1.0048   ],\n",
              "       [1.0047976],\n",
              "       [1.0049641],\n",
              "       [1.0049285],\n",
              "       [1.0048572],\n",
              "       [1.0048709],\n",
              "       [1.0046678],\n",
              "       [1.0047643],\n",
              "       [1.004676 ],\n",
              "       [1.0048113],\n",
              "       [1.0048847],\n",
              "       [1.0049697],\n",
              "       [1.005018 ],\n",
              "       [1.0050856],\n",
              "       [1.0051222],\n",
              "       [1.0052266],\n",
              "       [1.0054916],\n",
              "       [1.0054343],\n",
              "       [1.00556  ],\n",
              "       [1.0055534],\n",
              "       [1.0055636],\n",
              "       [1.0054616],\n",
              "       [1.005543 ],\n",
              "       [1.0055007],\n",
              "       [1.0055636],\n",
              "       [1.0055441],\n",
              "       [1.005575 ],\n",
              "       [1.0056725],\n",
              "       [1.0055763],\n",
              "       [1.0054994],\n",
              "       [1.0055885],\n",
              "       [1.005511 ],\n",
              "       [1.0055853],\n",
              "       [1.0056529],\n",
              "       [1.0056072],\n",
              "       [1.0055556],\n",
              "       [1.0056208],\n",
              "       [1.0055177],\n",
              "       [1.0055337],\n",
              "       [1.0055945],\n",
              "       [1.0056002],\n",
              "       [1.0056896],\n",
              "       [1.0055463],\n",
              "       [1.0055084],\n",
              "       [1.0054122],\n",
              "       [1.0053183],\n",
              "       [1.0053229],\n",
              "       [1.005379 ],\n",
              "       [1.0053287],\n",
              "       [1.0054271],\n",
              "       [1.0053549],\n",
              "       [1.0053445],\n",
              "       [1.0053229],\n",
              "       [1.0053377],\n",
              "       [1.0053743],\n",
              "       [1.0055201],\n",
              "       [1.0054501],\n",
              "       [1.0055795],\n",
              "       [1.0054398],\n",
              "       [1.0055578],\n",
              "       [1.0054959],\n",
              "       [1.0055901],\n",
              "       [1.0055853],\n",
              "       [1.0055704],\n",
              "       [1.0056161],\n",
              "       [1.0054616],\n",
              "       [1.005543 ],\n",
              "       [1.0055007],\n",
              "       [1.0055224],\n",
              "       [1.00559  ],\n",
              "       [1.0055441],\n",
              "       [1.0056161],\n",
              "       [1.0055853],\n",
              "       [1.0055293],\n",
              "       [1.0056208],\n",
              "       [1.0055591],\n",
              "       [1.0055293],\n",
              "       [1.0055795],\n",
              "       [1.0055224],\n",
              "       [1.0055486],\n",
              "       [1.0055486],\n",
              "       [1.0055486],\n",
              "       [1.0055073],\n",
              "       [1.0055945],\n",
              "       [1.0054765],\n",
              "       [1.0055795],\n",
              "       [1.005481 ],\n",
              "       [1.0055119],\n",
              "       [1.0055269],\n",
              "       [1.0055224],\n",
              "       [1.0055901],\n",
              "       [1.0057092],\n",
              "       [1.0056393],\n",
              "       [1.0056448],\n",
              "       [1.0056013],\n",
              "       [1.0055901],\n",
              "       [1.0055441],\n",
              "       [1.0056576],\n",
              "       [1.0054983],\n",
              "       [1.0056473],\n",
              "       [1.0054765],\n",
              "       [1.0055796],\n",
              "       [1.0055223],\n",
              "       [1.0055901],\n",
              "       [1.0055441],\n",
              "       [1.0055338],\n",
              "       [1.0055534],\n",
              "       [1.0055224],\n",
              "       [1.0055073],\n",
              "       [1.0055534],\n",
              "       [1.005481 ],\n",
              "       [1.0055119],\n",
              "       [1.0054443],\n",
              "       [1.005449 ],\n",
              "       [1.0054227],\n",
              "       [1.0055051],\n",
              "       [1.0068158],\n",
              "       [1.0081644],\n",
              "       [1.0089253],\n",
              "       [1.0086422],\n",
              "       [1.0083323],\n",
              "       [1.0079135],\n",
              "       [1.006909 ],\n",
              "       [1.0070829],\n",
              "       [1.0065482],\n",
              "       [1.0065918],\n",
              "       [1.0064626],\n",
              "       [1.0064785],\n",
              "       [1.0064569],\n",
              "       [1.0062244],\n",
              "       [1.0062472],\n",
              "       [1.0059508],\n",
              "       [1.00601  ],\n",
              "       [1.0056942],\n",
              "       [1.005702 ],\n",
              "       [1.0054923],\n",
              "       [1.0055165]], dtype=float32)"
            ]
          },
          "metadata": {},
          "execution_count": 84
        }
      ]
    },
    {
      "cell_type": "code",
      "source": [
        "testY = testY.reshape(-1,1)\n",
        "testY.shape"
      ],
      "metadata": {
        "colab": {
          "base_uri": "https://localhost:8080/"
        },
        "id": "0aaw3AhUFssg",
        "outputId": "f9135bab-3bbb-49c9-e536-893807c320c4"
      },
      "id": "0aaw3AhUFssg",
      "execution_count": 85,
      "outputs": [
        {
          "output_type": "execute_result",
          "data": {
            "text/plain": [
              "(386, 1)"
            ]
          },
          "metadata": {},
          "execution_count": 85
        }
      ]
    },
    {
      "cell_type": "code",
      "source": [
        "date = pd.to_datetime(df.Date)\n",
        "date = date[(len(date)-len(testY)):]\n",
        "date"
      ],
      "metadata": {
        "colab": {
          "base_uri": "https://localhost:8080/"
        },
        "id": "EbjCqW6PFv_p",
        "outputId": "7bb2ff2c-38ba-4eea-d471-c2316c0a800a"
      },
      "id": "EbjCqW6PFv_p",
      "execution_count": 86,
      "outputs": [
        {
          "output_type": "execute_result",
          "data": {
            "text/plain": [
              "1561   2022-03-12\n",
              "1562   2022-03-13\n",
              "1563   2022-03-14\n",
              "1564   2022-03-15\n",
              "1565   2022-03-16\n",
              "          ...    \n",
              "1942   2023-03-28\n",
              "1943   2023-03-29\n",
              "1944   2023-03-30\n",
              "1945   2023-03-31\n",
              "1946   2023-04-01\n",
              "Name: Date, Length: 386, dtype: datetime64[ns]"
            ]
          },
          "metadata": {},
          "execution_count": 86
        }
      ]
    },
    {
      "cell_type": "code",
      "source": [
        "fig= plt.figure(figsize=(12,6))\n",
        "plt.plot(date,rnn_predict,color='blue', label='Predicted value')\n",
        "plt.plot(date,testY,color='red', label='Actual value')\n",
        "plt.legend()\n",
        "plt.show()"
      ],
      "metadata": {
        "colab": {
          "base_uri": "https://localhost:8080/",
          "height": 522
        },
        "id": "Kx97GngwFzYA",
        "outputId": "355602b2-7a7c-4df8-b514-934622da0cbe"
      },
      "id": "Kx97GngwFzYA",
      "execution_count": 87,
      "outputs": [
        {
          "output_type": "display_data",
          "data": {
            "text/plain": [
              "<Figure size 1200x600 with 1 Axes>"
            ],
            "image/png": "[encoded data removed]"
          },
          "metadata": {}
        }
      ]
    },
    {
      "cell_type": "code",
      "source": [
        "def mean_absolute_percentage_error(y_true, y_pred): \n",
        "    y_true, y_pred = np.array(y_true), np.array(y_pred)\n",
        "    return np.mean(np.abs((y_true - y_pred) / y_true)) * 100"
      ],
      "metadata": {
        "id": "XJCfI5GWNxjJ"
      },
      "id": "XJCfI5GWNxjJ",
      "execution_count": 88,
      "outputs": []
    },
    {
      "cell_type": "code",
      "source": [
        "#MAPE\n",
        "mean_absolute_percentage_error(testY, rnn_predict)"
      ],
      "metadata": {
        "colab": {
          "base_uri": "https://localhost:8080/"
        },
        "id": "6acq6uBbNzI-",
        "outputId": "f6cbca38-ff65-4fda-915c-3359e253dbab"
      },
      "id": "6acq6uBbNzI-",
      "execution_count": 91,
      "outputs": [
        {
          "output_type": "execute_result",
          "data": {
            "text/plain": [
              "0.5485239389358594"
            ]
          },
          "metadata": {},
          "execution_count": 91
        }
      ]
    },
    {
      "cell_type": "code",
      "source": [
        "#RMSE\n",
        "import math\n",
        "from sklearn.metrics import mean_squared_error\n",
        "MSE = mean_squared_error(testY, rnn_predict)\n",
        "RMSE = math.sqrt(MSE)\n",
        "print(RMSE)"
      ],
      "metadata": {
        "colab": {
          "base_uri": "https://localhost:8080/"
        },
        "id": "kE5WmMklN2nt",
        "outputId": "a290e8b1-1e96-4f9e-903a-078a07db164b"
      },
      "id": "kE5WmMklN2nt",
      "execution_count": 90,
      "outputs": [
        {
          "output_type": "stream",
          "name": "stdout",
          "text": [
            "0.005507111029514553\n"
          ]
        }
      ]
    }
  ],
  "metadata": {
    "kernelspec": {
      "display_name": "Python 3 (ipykernel)",
      "language": "python",
      "name": "python3"
    },
    "language_info": {
      "codemirror_mode": {
        "name": "ipython",
        "version": 3
      },
      "file_extension": ".py",
      "mimetype": "text/x-python",
      "name": "python",
      "nbconvert_exporter": "python",
      "pygments_lexer": "ipython3",
      "version": "3.11.1"
    },
    "colab": {
      "provenance": []
    }
  },
  "nbformat": 4,
  "nbformat_minor": 5
}