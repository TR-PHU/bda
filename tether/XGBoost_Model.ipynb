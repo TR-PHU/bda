{
 "cells": [
  {
   "cell_type": "markdown",
   "id": "a06675ab",
   "metadata": {},
   "source": [
    "### 1. Import libraries and get data"
   ]
  },
  {
   "cell_type": "code",
   "execution_count": 1,
   "id": "8ce980f2",
   "metadata": {},
   "outputs": [],
   "source": [
    "import numpy as np\n",
    "import pandas as pd\n",
    "import matplotlib.pyplot as plt\n",
    "\n",
    "from sklearn.metrics import mean_squared_error, mean_absolute_error, mean_absolute_percentage_error\n",
    "from xgboost import XGBRegressor"
   ]
  },
  {
   "cell_type": "code",
   "execution_count": 2,
   "id": "f220def1",
   "metadata": {},
   "outputs": [
    {
     "data": {
      "text/html": [
       "<div>\n",
       "<style scoped>\n",
       "    .dataframe tbody tr th:only-of-type {\n",
       "        vertical-align: middle;\n",
       "    }\n",
       "\n",
       "    .dataframe tbody tr th {\n",
       "        vertical-align: top;\n",
       "    }\n",
       "\n",
       "    .dataframe thead th {\n",
       "        text-align: right;\n",
       "    }\n",
       "</style>\n",
       "<table border=\"1\" class=\"dataframe\">\n",
       "  <thead>\n",
       "    <tr style=\"text-align: right;\">\n",
       "      <th></th>\n",
       "      <th>Price</th>\n",
       "    </tr>\n",
       "    <tr>\n",
       "      <th>Date</th>\n",
       "      <th></th>\n",
       "    </tr>\n",
       "  </thead>\n",
       "  <tbody>\n",
       "    <tr>\n",
       "      <th>2017-12-01</th>\n",
       "      <td>1.0100</td>\n",
       "    </tr>\n",
       "    <tr>\n",
       "      <th>2017-12-02</th>\n",
       "      <td>0.9959</td>\n",
       "    </tr>\n",
       "    <tr>\n",
       "      <th>2017-12-03</th>\n",
       "      <td>0.9977</td>\n",
       "    </tr>\n",
       "    <tr>\n",
       "      <th>2017-12-04</th>\n",
       "      <td>1.0000</td>\n",
       "    </tr>\n",
       "    <tr>\n",
       "      <th>2017-12-05</th>\n",
       "      <td>1.0000</td>\n",
       "    </tr>\n",
       "    <tr>\n",
       "      <th>...</th>\n",
       "      <td>...</td>\n",
       "    </tr>\n",
       "    <tr>\n",
       "      <th>2023-03-28</th>\n",
       "      <td>1.0001</td>\n",
       "    </tr>\n",
       "    <tr>\n",
       "      <th>2023-03-29</th>\n",
       "      <td>0.9999</td>\n",
       "    </tr>\n",
       "    <tr>\n",
       "      <th>2023-03-30</th>\n",
       "      <td>1.0000</td>\n",
       "    </tr>\n",
       "    <tr>\n",
       "      <th>2023-03-31</th>\n",
       "      <td>1.0001</td>\n",
       "    </tr>\n",
       "    <tr>\n",
       "      <th>2023-04-01</th>\n",
       "      <td>1.0002</td>\n",
       "    </tr>\n",
       "  </tbody>\n",
       "</table>\n",
       "<p>1947 rows × 1 columns</p>\n",
       "</div>"
      ],
      "text/plain": [
       "             Price\n",
       "Date              \n",
       "2017-12-01  1.0100\n",
       "2017-12-02  0.9959\n",
       "2017-12-03  0.9977\n",
       "2017-12-04  1.0000\n",
       "2017-12-05  1.0000\n",
       "...            ...\n",
       "2023-03-28  1.0001\n",
       "2023-03-29  0.9999\n",
       "2023-03-30  1.0000\n",
       "2023-03-31  1.0001\n",
       "2023-04-01  1.0002\n",
       "\n",
       "[1947 rows x 1 columns]"
      ]
     },
     "execution_count": 2,
     "metadata": {},
     "output_type": "execute_result"
    }
   ],
   "source": [
    "# Load the dataset\n",
    "df = pd.read_csv(\"./USDT.csv\")\n",
    "\n",
    "# Drop the unnecessary columns.\n",
    "df.drop(['Open', 'High', 'Low', 'Vol.', 'Change %'], axis=1, inplace=True)\n",
    "\n",
    "# Convert the \"Date\" column to datetime format\n",
    "df['Date'] = pd.to_datetime(df['Date'], format='%d-%b-%y')\n",
    "                                    \n",
    "# Sort the DataFrame by date\n",
    "df = df.sort_values('Date')\n",
    "\n",
    "# Set Date index\n",
    "df.set_index('Date', inplace=True)\n",
    "\n",
    "df"
   ]
  },
  {
   "cell_type": "markdown",
   "id": "053acacc",
   "metadata": {},
   "source": [
    "Forecasting Horizon Explained"
   ]
  },
  {
   "cell_type": "code",
   "execution_count": 3,
   "id": "612a7e03",
   "metadata": {},
   "outputs": [],
   "source": [
    "def create_features(df):\n",
    "    \"\"\"\n",
    "    Create time series features based on time series index.\n",
    "    \"\"\"\n",
    "    df = df.copy()\n",
    "    df['hour'] = df.index.hour\n",
    "    df['dayofweek'] = df.index.dayofweek\n",
    "    df['quarter'] = df.index.quarter\n",
    "    df['month'] = df.index.month\n",
    "    df['year'] = df.index.year\n",
    "    df['dayofyear'] = df.index.dayofyear\n",
    "    df['dayofmonth'] = df.index.day\n",
    "    df['weekofyear'] = df.index.isocalendar().week\n",
    "    return df\n",
    "\n",
    "df = create_features(df)"
   ]
  },
  {
   "cell_type": "markdown",
   "id": "65942131",
   "metadata": {},
   "source": [
    "Lag features"
   ]
  },
  {
   "cell_type": "code",
   "execution_count": 4,
   "id": "96e712d9",
   "metadata": {},
   "outputs": [],
   "source": [
    "def add_lags(df):\n",
    "    target_map = df['Price'].to_dict()\n",
    "    df['lag1'] = (df.index - pd.Timedelta('364 days')).map(target_map)\n",
    "    df['lag2'] = (df.index - pd.Timedelta('728 days')).map(target_map)\n",
    "    df['lag3'] = (df.index - pd.Timedelta('1092 days')).map(target_map)\n",
    "    return df\n",
    "\n",
    "df = add_lags(df)"
   ]
  },
  {
   "cell_type": "markdown",
   "id": "104d6d19",
   "metadata": {},
   "source": [
    "### 2. Split the data into training, test and validate sets"
   ]
  },
  {
   "cell_type": "code",
   "execution_count": 37,
   "id": "d89ec53c",
   "metadata": {},
   "outputs": [],
   "source": [
    "train_size = int(0.7 * len(df))\n",
    "test_size = int(0.15 * len(df))\n",
    "val_size = len(df) - train_size - test_size\n",
    "\n",
    "train_data = df[:train_size]\n",
    "test_data = df[train_size:train_size+test_size]\n",
    "val_data = df[train_size+test_size:]\n",
    "\n",
    "print(\"Train shape:\", train_data.shape)\n",
    "print(\"Test shape:\", test_data.shape)\n",
    "print(\"Validate shape:\", val_data.shape)"
   ]
  },
  {
   "cell_type": "code",
   "execution_count": 38,
   "id": "ee5099da",
   "metadata": {},
   "outputs": [],
   "source": [
    "train_size = int(0.6 * len(df))\n",
    "test_size = int(0.2 * len(df))\n",
    "val_size = len(df) - train_size - test_size\n",
    "\n",
    "train_data = df[:train_size]\n",
    "test_data = df[train_size:train_size+test_size]\n",
    "val_data = df[train_size+test_size:]\n",
    "\n",
    "print(\"Train shape:\", train_data.shape)\n",
    "print(\"Test shape:\", test_data.shape)\n",
    "print(\"Validate shape:\", val_data.shape)"
   ]
  },
  {
   "cell_type": "code",
   "execution_count": 5,
   "id": "cbaa0a3b",
   "metadata": {},
   "outputs": [
    {
     "name": "stdout",
     "output_type": "stream",
     "text": [
      "Train shape: (1362, 12)\n",
      "Test shape: (389, 12)\n",
      "Validate shape: (196, 12)\n"
     ]
    }
   ],
   "source": [
    "train_size = int(0.7 * len(df))\n",
    "test_size = int(0.2 * len(df))\n",
    "val_size = len(df) - train_size - test_size\n",
    "\n",
    "train_data = df[:train_size]\n",
    "test_data = df[train_size:train_size+test_size]\n",
    "val_data = df[train_size+test_size:]\n",
    "\n",
    "print(\"Train shape:\", train_data.shape)\n",
    "print(\"Test shape:\", test_data.shape)\n",
    "print(\"Validate shape:\", val_data.shape)\n",
    "\n",
    "train_data = create_features(train_data)\n",
    "val_data = create_features(val_data)\n",
    "test_data = create_features(test_data)"
   ]
  },
  {
   "cell_type": "markdown",
   "id": "115e364e",
   "metadata": {},
   "source": [
    "## 3. Perform XGBoost Model"
   ]
  },
  {
   "cell_type": "markdown",
   "id": "ee69b186",
   "metadata": {},
   "source": [
    "### 3.1 Build and fit XGBoost Model with train data"
   ]
  },
  {
   "cell_type": "code",
   "execution_count": 6,
   "id": "ec8bfb2f",
   "metadata": {},
   "outputs": [
    {
     "name": "stdout",
     "output_type": "stream",
     "text": [
      "[01:14:05] WARNING: C:/Jenkins/workspace/xgboost-win64_release_0.90/src/objective/regression_obj.cu:152: reg:linear is now deprecated in favor of reg:squarederror.\n"
     ]
    },
    {
     "data": {
      "text/html": [
       "<style>#sk-container-id-1 {color: black;background-color: white;}#sk-container-id-1 pre{padding: 0;}#sk-container-id-1 div.sk-toggleable {background-color: white;}#sk-container-id-1 label.sk-toggleable__label {cursor: pointer;display: block;width: 100%;margin-bottom: 0;padding: 0.3em;box-sizing: border-box;text-align: center;}#sk-container-id-1 label.sk-toggleable__label-arrow:before {content: \"▸\";float: left;margin-right: 0.25em;color: #696969;}#sk-container-id-1 label.sk-toggleable__label-arrow:hover:before {color: black;}#sk-container-id-1 div.sk-estimator:hover label.sk-toggleable__label-arrow:before {color: black;}#sk-container-id-1 div.sk-toggleable__content {max-height: 0;max-width: 0;overflow: hidden;text-align: left;background-color: #f0f8ff;}#sk-container-id-1 div.sk-toggleable__content pre {margin: 0.2em;color: black;border-radius: 0.25em;background-color: #f0f8ff;}#sk-container-id-1 input.sk-toggleable__control:checked~div.sk-toggleable__content {max-height: 200px;max-width: 100%;overflow: auto;}#sk-container-id-1 input.sk-toggleable__control:checked~label.sk-toggleable__label-arrow:before {content: \"▾\";}#sk-container-id-1 div.sk-estimator input.sk-toggleable__control:checked~label.sk-toggleable__label {background-color: #d4ebff;}#sk-container-id-1 div.sk-label input.sk-toggleable__control:checked~label.sk-toggleable__label {background-color: #d4ebff;}#sk-container-id-1 input.sk-hidden--visually {border: 0;clip: rect(1px 1px 1px 1px);clip: rect(1px, 1px, 1px, 1px);height: 1px;margin: -1px;overflow: hidden;padding: 0;position: absolute;width: 1px;}#sk-container-id-1 div.sk-estimator {font-family: monospace;background-color: #f0f8ff;border: 1px dotted black;border-radius: 0.25em;box-sizing: border-box;margin-bottom: 0.5em;}#sk-container-id-1 div.sk-estimator:hover {background-color: #d4ebff;}#sk-container-id-1 div.sk-parallel-item::after {content: \"\";width: 100%;border-bottom: 1px solid gray;flex-grow: 1;}#sk-container-id-1 div.sk-label:hover label.sk-toggleable__label {background-color: #d4ebff;}#sk-container-id-1 div.sk-serial::before {content: \"\";position: absolute;border-left: 1px solid gray;box-sizing: border-box;top: 0;bottom: 0;left: 50%;z-index: 0;}#sk-container-id-1 div.sk-serial {display: flex;flex-direction: column;align-items: center;background-color: white;padding-right: 0.2em;padding-left: 0.2em;position: relative;}#sk-container-id-1 div.sk-item {position: relative;z-index: 1;}#sk-container-id-1 div.sk-parallel {display: flex;align-items: stretch;justify-content: center;background-color: white;position: relative;}#sk-container-id-1 div.sk-item::before, #sk-container-id-1 div.sk-parallel-item::before {content: \"\";position: absolute;border-left: 1px solid gray;box-sizing: border-box;top: 0;bottom: 0;left: 50%;z-index: -1;}#sk-container-id-1 div.sk-parallel-item {display: flex;flex-direction: column;z-index: 1;position: relative;background-color: white;}#sk-container-id-1 div.sk-parallel-item:first-child::after {align-self: flex-end;width: 50%;}#sk-container-id-1 div.sk-parallel-item:last-child::after {align-self: flex-start;width: 50%;}#sk-container-id-1 div.sk-parallel-item:only-child::after {width: 0;}#sk-container-id-1 div.sk-dashed-wrapped {border: 1px dashed gray;margin: 0 0.4em 0.5em 0.4em;box-sizing: border-box;padding-bottom: 0.4em;background-color: white;}#sk-container-id-1 div.sk-label label {font-family: monospace;font-weight: bold;display: inline-block;line-height: 1.2em;}#sk-container-id-1 div.sk-label-container {text-align: center;}#sk-container-id-1 div.sk-container {/* jupyter's `normalize.less` sets `[hidden] { display: none; }` but bootstrap.min.css set `[hidden] { display: none !important; }` so we also need the `!important` here to be able to override the default hidden behavior on the sphinx rendered scikit-learn.org. See: https://github.com/scikit-learn/scikit-learn/issues/21755 */display: inline-block !important;position: relative;}#sk-container-id-1 div.sk-text-repr-fallback {display: none;}</style><div id=\"sk-container-id-1\" class=\"sk-top-container\"><div class=\"sk-text-repr-fallback\"><pre>XGBRegressor(early_stopping_rounds=50, learning_rate=0.01, n_estimators=1000)</pre><b>In a Jupyter environment, please rerun this cell to show the HTML representation or trust the notebook. <br />On GitHub, the HTML representation is unable to render, please try loading this page with nbviewer.org.</b></div><div class=\"sk-container\" hidden><div class=\"sk-item\"><div class=\"sk-estimator sk-toggleable\"><input class=\"sk-toggleable__control sk-hidden--visually\" id=\"sk-estimator-id-1\" type=\"checkbox\" checked><label for=\"sk-estimator-id-1\" class=\"sk-toggleable__label sk-toggleable__label-arrow\">XGBRegressor</label><div class=\"sk-toggleable__content\"><pre>XGBRegressor(early_stopping_rounds=50, learning_rate=0.01, n_estimators=1000)</pre></div></div></div></div></div>"
      ],
      "text/plain": [
       "XGBRegressor(early_stopping_rounds=50, learning_rate=0.01, n_estimators=1000)"
      ]
     },
     "execution_count": 6,
     "metadata": {},
     "output_type": "execute_result"
    }
   ],
   "source": [
    "features = ['dayofyear', 'hour', 'dayofweek', 'quarter', 'month','year', 'lag1','lag2','lag3']\n",
    "target = 'Price'\n",
    "\n",
    "x_train = train_data[features]\n",
    "y_train = train_data[target]\n",
    "\n",
    "x_val = val_data[features]\n",
    "y_val = val_data[target]\n",
    "\n",
    "x_test = test_data[features]\n",
    "y_test = test_data[target]\n",
    "\n",
    "xgb_model = XGBRegressor(base_score=0.5,\n",
    "                       booster='gbtree',    \n",
    "                       n_estimators=1000,\n",
    "                       early_stopping_rounds=50,\n",
    "                       objective='reg:linear',\n",
    "                       max_depth=3,\n",
    "                       learning_rate=0.01)\n",
    "\n",
    "xgb_model.fit(x_train, y_train, eval_set=[(df[features], df[target])], early_stopping_rounds=50, verbose=False)"
   ]
  },
  {
   "cell_type": "markdown",
   "id": "b187f022",
   "metadata": {},
   "source": [
    "### 3.2 Evaluate on Validate data"
   ]
  },
  {
   "cell_type": "code",
   "execution_count": 10,
   "id": "799986d3",
   "metadata": {},
   "outputs": [],
   "source": [
    "def evaludate_xgb_model(x_data, y_data):\n",
    "    predictions = xgb_model.predict(x_data)\n",
    "    mse = mean_squared_error(y_data, predictions)\n",
    "    mae = mean_absolute_error(y_data, predictions)\n",
    "    mape = mean_absolute_percentage_error(y_data, predictions)\n",
    "    rmse = mean_squared_error(y_data, predictions, squared=False)\n",
    "    return predictions, mse, mae, mape, rmse"
   ]
  },
  {
   "cell_type": "code",
   "execution_count": 11,
   "id": "0087f1f8",
   "metadata": {},
   "outputs": [
    {
     "name": "stdout",
     "output_type": "stream",
     "text": [
      "Price predict on validate data: [1.0008036  1.0014582  1.0014582  1.0008036  1.0004344  1.0002881\n",
      " 1.0002881  1.0002881  1.0008036  1.0014582  1.0014582  1.0014582\n",
      " 1.0007329  1.0005574  1.0005574  1.0005574  1.0005574  1.0005574\n",
      " 1.0005574  1.0012121  0.99991775 0.99978375 0.9989008  0.99895364\n",
      " 0.99893916 0.99879146 0.9974052  0.9972513  0.9972513  0.9972513\n",
      " 0.9972513  0.9989083  0.9989083  0.9989083  0.9989083  0.9991871\n",
      " 0.9991871  0.9991871  0.9982238  0.99971944 1.0006824  0.99971944\n",
      " 0.99971944 0.99971944 0.99971944 0.99971944 0.99971944 0.9995768\n",
      " 0.9995768  0.9995768  0.99971944 1.0006824  1.0005956  0.9996327\n",
      " 1.0005956  1.0005996  1.0004508  1.0004508  1.0004508  0.99891806\n",
      " 0.9990208  0.9988782  0.9992725  0.99871033 0.99871033 0.99885297\n",
      " 0.99885297 0.99871033 0.99871033 0.99871033 0.99881464 0.9990463\n",
      " 0.9990463  0.99918896 0.9990463  0.9992281  0.9990854  0.99911416\n",
      " 0.9990463  0.9990463  0.9989693  0.99911195 0.99909407 0.99895144\n",
      " 0.9991228  0.9989143  0.9990549  0.9990549  0.9990549  0.9992047\n",
      " 1.000318   1.000222   1.000592   0.99989843 0.99989843 1.0004554\n",
      " 1.0005925  1.0011294  1.0004413  1.0004014  1.0017015  1.0010006\n",
      " 1.0010006  1.0013165  1.001121   1.0023059  1.0023059  1.0015991\n",
      " 1.0017147  1.0031178  1.0031178  1.001234   1.0027025  1.0016894\n",
      " 1.0005903  1.0011815  1.0016398  1.00126    1.0010419  1.0006297\n",
      " 1.000593   1.0014565  1.000593   1.0016353  1.0006909  1.0006626\n",
      " 1.0003134  1.0008167  0.99991983 0.9999989  1.000328   0.9987722\n",
      " 0.9986701  0.9985113  0.9985113  0.9985113  0.9985113  0.9985113\n",
      " 0.99803853 0.998185   0.998185   0.99844134 0.99829483 0.9984932\n",
      " 0.9984323  0.99890506 0.99894774 0.99894774 0.99894774 0.99889535\n",
      " 0.9990812  0.9987468  0.99918926 0.9991959  0.99882686 0.99868035\n",
      " 0.99882686 0.99955475 0.9995668  0.9997133  0.9997133  1.0000815\n",
      " 1.0000815  1.0000815  1.0000815  1.0009184  1.0000815  1.0000815\n",
      " 1.0000815  1.0009184  1.0012672  1.0004305  1.0004305  1.0013161\n",
      " 1.0013161  1.0013161  1.0004795  1.0004795  1.0004795  1.0004795\n",
      " 1.0004795  1.0004795  1.0004795  1.0013161  1.0004795  1.0004795\n",
      " 1.0004795  1.0004795  1.0004795  1.0013161  1.0004795  1.0004795\n",
      " 1.0004795  1.0004795  1.0012428  1.0012428 ]\n"
     ]
    }
   ],
   "source": [
    "y_pred_val, val_mse, val_mae, val_mape, val_rmse = evaludate_xgb_model(x_val, y_val)\n",
    "\n",
    "print(\"Price predict on validate data:\", y_pred_val)"
   ]
  },
  {
   "cell_type": "markdown",
   "id": "2225f62f",
   "metadata": {},
   "source": [
    "### 3.3 Evaluate on Test data"
   ]
  },
  {
   "cell_type": "code",
   "execution_count": 12,
   "id": "2473094f",
   "metadata": {},
   "outputs": [
    {
     "name": "stdout",
     "output_type": "stream",
     "text": [
      "Price predict on test data: [1.0002881  1.0002881  1.0002153  1.0002153  1.0002153  1.0002153\n",
      " 1.0002881  1.0002881  1.0002842  1.0002842  1.0002114  1.0002153\n",
      " 1.0002842  1.0002881  1.0002153  1.0002881  1.0002153  1.0002153\n",
      " 1.0007305  1.0002881  1.0008036  1.0002881  1.0002153  1.0004344\n",
      " 1.0002153  1.0002153  1.0002881  1.0002153  1.0007305  1.0002153\n",
      " 1.0002114  1.0002114  1.0002114  1.0002153  1.0002153  1.0002153\n",
      " 1.0001445  0.9999697  0.9999697  0.9999659  0.9999697  1.0004845\n",
      " 1.0000422  0.9999659  0.99951077 0.9987025  0.9973503  0.997517\n",
      " 0.9974334  0.9975495  0.9962263  0.9960723  0.9960723  0.9960723\n",
      " 0.9960723  0.9977293  0.9977293  0.9977293  0.9977293  0.99800813\n",
      " 0.9982238  0.99808115 0.9981508  0.9996464  1.0006824  0.9995038\n",
      " 1.0006824  1.0006824  0.9996464  0.99971944 0.9995768  1.0006824\n",
      " 1.0006824  0.9995768  0.9995038  0.99971944 0.9994901  0.9994901\n",
      " 0.9996327  1.0005996  1.0004508  0.9987807  0.9988537  0.9987024\n",
      " 1.0006181  0.99894786 0.99878    1.0013535  1.0006201  1.0004501\n",
      " 1.0006201  1.0004501  0.9986373  0.9986373  0.9987129  0.9990412\n",
      " 0.99911594 0.9989733  0.99911594 0.9989733  1.0000886  0.99915516\n",
      " 0.9990412  0.99911594 0.99993426 0.99911195 0.99905694 0.99902314\n",
      " 0.99902314 0.9999472  0.99987924 0.9988413  0.99987924 0.99995995\n",
      " 1.0001048  1.0010152  1.0009779  1.0006557  1.0007483  1.001036\n",
      " 1.0010705  1.0004294  1.0016294  1.0011852  1.0015392  1.0014409\n",
      " 1.0001918  1.0001918  1.0002553  1.0011144  1.0017512  1.0016336\n",
      " 1.0010332  1.0009515  1.0024835  1.0021756  1.0006387  1.0011631\n",
      " 1.0005472  1.001314   1.0029058  1.0023048  1.003042   1.0012207\n",
      " 1.0010228  1.0004847  1.000593   1.0004847  1.0016501  1.0000012\n",
      " 1.0002077  0.9998355  1.002429   0.99985313 0.9996619  0.99833673\n",
      " 0.9985113  0.99803853 0.99803853 0.99803853 0.9980346  0.99803853\n",
      " 0.99870014 1.0002557  0.99803853 0.99829483 0.99829483 0.9984932\n",
      " 0.9985788  0.99906385 0.9984284  0.99894774 0.9984323  0.9990541\n",
      " 0.9990812  0.9992746  1.0009325  1.0010257  1.0009763  1.0000949\n",
      " 1.0011082  1.0013082  0.9995668  1.0000815  1.0018358  0.99949384\n",
      " 0.99948996 1.0000815  0.99949384 1.0000086  1.0009184  0.99949384\n",
      " 1.0009184  1.0000086  1.0003575  0.99984264 0.99984264 1.0000374\n",
      " 1.0004065  1.0020771  1.0020771  1.0004065  1.0020771  1.0021527\n",
      " 1.0020771  1.0013161  1.0020771  1.0013161  1.0004065  1.0020771\n",
      " 1.0013161  1.0004065  1.0013161  1.0004065  1.0020771  1.0013161\n",
      " 0.9998915  1.0013161  1.002323   1.002323   1.0026746  1.0017623\n",
      " 1.002599   1.002599   1.002599   1.002599   1.002599   1.002599\n",
      " 1.002599   1.002599   1.002599   1.002599   1.0012467  1.0012467\n",
      " 1.002599   1.0012467  1.0013932  1.0012467  1.002599   1.0017623\n",
      " 1.0012467  1.0012429  1.0012467  1.0012467  1.0013932  1.0013932\n",
      " 1.0017623  1.0035511  1.0035511  1.0017623  1.0035511  1.0017623\n",
      " 1.0012467  1.0017623  1.0012467  1.0012467  1.0012467  1.000793\n",
      " 1.000255   1.0004013  1.0007704  1.000255   1.000255   1.000251\n",
      " 1.0012807  1.0004013  1.000251   1.000251   1.000251   1.000251\n",
      " 1.000251   1.000255   1.000255   1.000251   1.0004013  1.0007704\n",
      " 1.0012807  1.0012807  1.0012807  1.0012807  1.0012807  1.0012807\n",
      " 1.0007704  1.0007704  1.0012807  1.0007704  1.000255   1.0012807\n",
      " 1.0007704  1.0012807  1.0007704  1.0012807  1.0012807  1.0012807\n",
      " 1.0012807  1.0012807  1.0007704  1.000255   1.000255   1.000251\n",
      " 1.000255   1.0007704  1.0012807  1.0012807  1.000255   1.0007704\n",
      " 1.0007704  1.0012807  1.0007704  1.0012807  1.0007704  1.0007704\n",
      " 1.0012807  1.0007704  1.0012807  1.0007704  1.0013562  1.0013562\n",
      " 1.0012807  1.0012807  1.0012807  1.0012807  1.0012807  1.0012807\n",
      " 1.0007704  1.0004013  1.000255   1.0007704  1.0007704  1.0007704\n",
      " 1.0007704  1.0007704  1.000255   1.000255   1.0007704  1.0007704\n",
      " 1.0007704  1.0012807  1.0007704  1.0012807  1.0007704  1.0007704\n",
      " 1.0007704  1.0012807  1.0007704  1.0007704  1.0012807  1.0012807\n",
      " 1.0007704  1.0012807  1.0007704  1.0007704  1.0007704  1.0007704\n",
      " 1.0004344  1.0008036  1.0013301  1.0008036  1.0013301  1.0008036\n",
      " 1.0008036  1.0008036  1.0008036  1.0008036  1.0014188  1.0008036\n",
      " 1.0008036  1.0008036  1.0004344  1.0008036  1.0008036  1.0008036\n",
      " 1.0008036  1.0014582  1.0008036  1.0008036  1.0008036  1.0008036\n",
      " 1.0008036  1.0014582  1.0014582  1.0008036  1.0014582  1.0014582\n",
      " 1.0008036  1.0008036  1.0008036  1.0014582  1.0014582 ]\n"
     ]
    }
   ],
   "source": [
    "y_pred_test, test_mse, test_mae, test_mape, test_rmse = evaludate_xgb_model(x_test, y_test)\n",
    "\n",
    "print(\"Price predict on test data:\", y_pred_test)"
   ]
  },
  {
   "cell_type": "markdown",
   "id": "f9b8e333",
   "metadata": {},
   "source": [
    "### 3.4 Predict price for the next 30 days"
   ]
  },
  {
   "cell_type": "code",
   "execution_count": 15,
   "id": "e7dd379d",
   "metadata": {},
   "outputs": [
    {
     "name": "stdout",
     "output_type": "stream",
     "text": [
      "Predicted closing prices for the next 30 days:\n",
      "[1.0012428 1.002599  1.002599  1.002599  1.0017623 1.002599  1.0017623\n",
      " 1.0017623 1.0017623 1.0017623 1.002599  1.002599  1.002599  1.002599\n",
      " 1.002599  1.0017623 1.002599  1.002599  1.002599  1.002599  1.002599\n",
      " 1.002599  1.002599  1.002599  1.002599  1.002599  1.002599  1.0035511\n",
      " 1.0017623 1.0035511]\n"
     ]
    }
   ],
   "source": [
    "future_range = pd.date_range(start=df.index[-1], periods=30, freq='D')\n",
    "future_df = pd.DataFrame(index=future_range)\n",
    "future_df['isFuture'] = True\n",
    "df['isFuture'] = False\n",
    "df_and_future = pd.concat([df, future_df])\n",
    "df_and_future = create_features(df_and_future)\n",
    "df_and_future = add_lags(df_and_future)\n",
    "\n",
    "future_w_features = df_and_future.query('isFuture').copy()\n",
    "\n",
    "\n",
    "# Predict the closing prices for the next 30 days\n",
    "y_next_30_days = xgb_model.predict(future_w_features[features])\n",
    "\n",
    "# Print the predicted closing prices for the next 30 days\n",
    "print('Predicted closing prices for the next 30 days:')\n",
    "print(y_next_30_days)"
   ]
  },
  {
   "cell_type": "code",
   "execution_count": 16,
   "id": "95dfb36e",
   "metadata": {},
   "outputs": [
    {
     "name": "stdout",
     "output_type": "stream",
     "text": [
      "               MSE       MAE      MAPE      RMSE\n",
      "Validate  0.000002  0.001053  0.001052  0.001361\n",
      "Test      0.000002  0.001188  0.001188  0.001446\n"
     ]
    }
   ],
   "source": [
    "metrics = {\n",
    "    'MSE': [val_mse, test_mse],\n",
    "    'MAE': [val_mae, test_mae],\n",
    "    'MAPE': [val_mape, test_mape],\n",
    "    'RMSE': [val_rmse, test_rmse],\n",
    "}\n",
    "\n",
    "acc = pd.DataFrame(metrics, index=['Validate', 'Test'])\n",
    "\n",
    "print(acc)"
   ]
  },
  {
   "cell_type": "code",
   "execution_count": 17,
   "id": "37018b05",
   "metadata": {},
   "outputs": [
    {
     "data": {
      "image/png": "[encoded data removed]",
      "text/plain": [
       "<Figure size 640x480 with 1 Axes>"
      ]
     },
     "metadata": {},
     "output_type": "display_data"
    }
   ],
   "source": [
    "plt.plot(train_data.index, train_data['Price'])\n",
    "plt.plot(test_data.index, test_data['Price'])\n",
    "plt.plot(val_data.index, val_data['Price'])\n",
    "\n",
    "plt.plot(test_data.index, y_pred_test)\n",
    "plt.plot(val_data.index, y_pred_val)\n",
    "plt.plot(date_range, y_next_30_days)\n",
    "\n",
    "plt.legend(['Train', 'Test', 'Validate','PredictTestData', 'PredictValidateData','PredictNext30Day'])\n",
    "plt.show()"
   ]
  }
 ],
 "metadata": {
  "kernelspec": {
   "display_name": "Python 3 (ipykernel)",
   "language": "python",
   "name": "python3"
  },
  "language_info": {
   "codemirror_mode": {
    "name": "ipython",
    "version": 3
   },
   "file_extension": ".py",
   "mimetype": "text/x-python",
   "name": "python",
   "nbconvert_exporter": "python",
   "pygments_lexer": "ipython3",
   "version": "3.11.1"
  }
 },
 "nbformat": 4,
 "nbformat_minor": 5
}
