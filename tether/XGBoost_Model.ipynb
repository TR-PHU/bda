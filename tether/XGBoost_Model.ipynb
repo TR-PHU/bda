{
 "cells": [
  {
   "cell_type": "markdown",
   "id": "a06675ab",
   "metadata": {},
   "source": [
    "### 1. Import libraries and get data"
   ]
  },
  {
   "cell_type": "code",
   "execution_count": 33,
   "id": "8ce980f2",
   "metadata": {},
   "outputs": [],
   "source": [
    "import numpy as np\n",
    "import pandas as pd\n",
    "import matplotlib.pyplot as plt\n",
    "\n",
    "from sklearn.metrics import mean_squared_error, mean_absolute_error, mean_absolute_percentage_error\n",
    "from xgboost import XGBRegressor\n",
    "from sklearn.preprocessing import MinMaxScaler"
   ]
  },
  {
   "cell_type": "code",
   "execution_count": 34,
   "id": "f220def1",
   "metadata": {},
   "outputs": [
    {
     "data": {
      "text/plain": [
       "0       0.9999\n",
       "1       0.9993\n",
       "2       0.9998\n",
       "3       0.9999\n",
       "4       1.0000\n",
       "         ...  \n",
       "2018    1.0000\n",
       "2019    1.0000\n",
       "2020    0.9977\n",
       "2021    0.9959\n",
       "2022    1.0100\n",
       "Name: Price, Length: 2023, dtype: float64"
      ]
     },
     "execution_count": 34,
     "metadata": {},
     "output_type": "execute_result"
    }
   ],
   "source": [
    "df = pd.read_csv(\"./USDT.csv\")\n",
    "df = df.reset_index()['Price']\n",
    "df"
   ]
  },
  {
   "cell_type": "code",
   "execution_count": 35,
   "id": "05ddedb1",
   "metadata": {},
   "outputs": [
    {
     "name": "stdout",
     "output_type": "stream",
     "text": [
      "(2023, 1)\n"
     ]
    }
   ],
   "source": [
    "scaler = MinMaxScaler(feature_range=(0,1))\n",
    "df = scaler.fit_transform(np.array(df).reshape(-1,1))\n",
    "print(df.shape)"
   ]
  },
  {
   "cell_type": "markdown",
   "id": "104d6d19",
   "metadata": {},
   "source": [
    "### 2. Split the data into training, test and validate sets"
   ]
  },
  {
   "cell_type": "code",
   "execution_count": 36,
   "id": "ee5099da",
   "metadata": {},
   "outputs": [
    {
     "name": "stdout",
     "output_type": "stream",
     "text": [
      "Train shape: (1213, 1)\n",
      "Test shape: (404, 1)\n",
      "Validate shape: (406, 1)\n"
     ]
    }
   ],
   "source": [
    "train_size = int(0.6 * len(df))\n",
    "test_size = int(0.2 * len(df))\n",
    "val_size = len(df) - train_size - test_size\n",
    "\n",
    "train_data = df[:train_size]\n",
    "test_data = df[train_size:train_size+test_size]\n",
    "val_data = df[train_size+test_size:]\n",
    "\n",
    "print(\"Train shape:\", train_data.shape)\n",
    "print(\"Test shape:\", test_data.shape)\n",
    "print(\"Validate shape:\", val_data.shape)"
   ]
  },
  {
   "cell_type": "code",
   "execution_count": 37,
   "id": "cbaa0a3b",
   "metadata": {},
   "outputs": [
    {
     "name": "stdout",
     "output_type": "stream",
     "text": [
      "Train shape: (1416, 1)\n",
      "Test shape: (404, 1)\n",
      "Validate shape: (203, 1)\n"
     ]
    }
   ],
   "source": [
    "train_size = int(0.7 * len(df))\n",
    "test_size = int(0.2 * len(df))\n",
    "val_size = len(df) - train_size - test_size\n",
    "\n",
    "train_data = df[:train_size]\n",
    "test_data = df[train_size:train_size+test_size]\n",
    "val_data = df[train_size+test_size:]\n",
    "\n",
    "print(\"Train shape:\", train_data.shape)\n",
    "print(\"Test shape:\", test_data.shape)\n",
    "print(\"Validate shape:\", val_data.shape)"
   ]
  },
  {
   "cell_type": "code",
   "execution_count": 38,
   "id": "d89ec53c",
   "metadata": {},
   "outputs": [
    {
     "name": "stdout",
     "output_type": "stream",
     "text": [
      "Train shape: (1213, 1)\n",
      "Test shape: (606, 1)\n",
      "Validate shape: (204, 1)\n"
     ]
    }
   ],
   "source": [
    "train_size = int(0.6 * len(df))\n",
    "test_size = int(0.3 * len(df))\n",
    "val_size = len(df) - train_size - test_size\n",
    "\n",
    "train_data = df[:train_size]\n",
    "test_data = df[train_size:train_size+test_size]\n",
    "val_data = df[train_size+test_size:]\n",
    "\n",
    "print(\"Train shape:\", train_data.shape)\n",
    "print(\"Test shape:\", test_data.shape)\n",
    "print(\"Validate shape:\", val_data.shape)"
   ]
  },
  {
   "cell_type": "code",
   "execution_count": 39,
   "id": "e17466e2",
   "metadata": {},
   "outputs": [],
   "source": [
    "# convert an array of values into a dataset matrix\n",
    "def create_dataset(dataset, time_step=1):\n",
    "    dataX, dataY = [], []\n",
    "    for i in range(len(dataset)-time_step-1):\n",
    "        a = dataset[i:(i+time_step), 0]   ###i=0, 0,1,2,3-----99   100 \n",
    "        dataX.append(a)\n",
    "        dataY.append(dataset[i + time_step, 0])\n",
    "    return np.array(dataX), np.array(dataY)"
   ]
  },
  {
   "cell_type": "code",
   "execution_count": 40,
   "id": "613fd8b1",
   "metadata": {},
   "outputs": [
    {
     "name": "stdout",
     "output_type": "stream",
     "text": [
      "X_train:  (1112, 100)\n",
      "y_train:  (1112,)\n",
      "X_val:  (103, 100)\n",
      "y_val:  (103,)\n",
      "X_test:  (505, 100)\n",
      "y_test (505,)\n"
     ]
    }
   ],
   "source": [
    "time_step = 100\n",
    "x_train, y_train = create_dataset(train_data, time_step)\n",
    "x_val, y_val = create_dataset(val_data, time_step)\n",
    "x_test, y_test = create_dataset(test_data, time_step)\n",
    "\n",
    "print(\"X_train: \", x_train.shape)\n",
    "print(\"y_train: \", y_train.shape)\n",
    "print(\"X_val: \", x_val.shape)\n",
    "print(\"y_val: \", y_val.shape)\n",
    "print(\"X_test: \", x_test.shape)\n",
    "print(\"y_test\", y_test.shape)"
   ]
  },
  {
   "cell_type": "markdown",
   "id": "115e364e",
   "metadata": {},
   "source": [
    "## 3. Perform XGBoost Model"
   ]
  },
  {
   "cell_type": "markdown",
   "id": "ee69b186",
   "metadata": {},
   "source": [
    "### 3.1 Build and fit XGBoost Model with train data"
   ]
  },
  {
   "cell_type": "code",
   "execution_count": 41,
   "id": "ec8bfb2f",
   "metadata": {},
   "outputs": [
    {
     "name": "stdout",
     "output_type": "stream",
     "text": [
      "[10:37:16] WARNING: C:/Jenkins/workspace/xgboost-win64_release_0.90/src/objective/regression_obj.cu:152: reg:linear is now deprecated in favor of reg:squarederror.\n"
     ]
    },
    {
     "data": {
      "text/html": [
       "<style>#sk-container-id-3 {color: black;background-color: white;}#sk-container-id-3 pre{padding: 0;}#sk-container-id-3 div.sk-toggleable {background-color: white;}#sk-container-id-3 label.sk-toggleable__label {cursor: pointer;display: block;width: 100%;margin-bottom: 0;padding: 0.3em;box-sizing: border-box;text-align: center;}#sk-container-id-3 label.sk-toggleable__label-arrow:before {content: \"▸\";float: left;margin-right: 0.25em;color: #696969;}#sk-container-id-3 label.sk-toggleable__label-arrow:hover:before {color: black;}#sk-container-id-3 div.sk-estimator:hover label.sk-toggleable__label-arrow:before {color: black;}#sk-container-id-3 div.sk-toggleable__content {max-height: 0;max-width: 0;overflow: hidden;text-align: left;background-color: #f0f8ff;}#sk-container-id-3 div.sk-toggleable__content pre {margin: 0.2em;color: black;border-radius: 0.25em;background-color: #f0f8ff;}#sk-container-id-3 input.sk-toggleable__control:checked~div.sk-toggleable__content {max-height: 200px;max-width: 100%;overflow: auto;}#sk-container-id-3 input.sk-toggleable__control:checked~label.sk-toggleable__label-arrow:before {content: \"▾\";}#sk-container-id-3 div.sk-estimator input.sk-toggleable__control:checked~label.sk-toggleable__label {background-color: #d4ebff;}#sk-container-id-3 div.sk-label input.sk-toggleable__control:checked~label.sk-toggleable__label {background-color: #d4ebff;}#sk-container-id-3 input.sk-hidden--visually {border: 0;clip: rect(1px 1px 1px 1px);clip: rect(1px, 1px, 1px, 1px);height: 1px;margin: -1px;overflow: hidden;padding: 0;position: absolute;width: 1px;}#sk-container-id-3 div.sk-estimator {font-family: monospace;background-color: #f0f8ff;border: 1px dotted black;border-radius: 0.25em;box-sizing: border-box;margin-bottom: 0.5em;}#sk-container-id-3 div.sk-estimator:hover {background-color: #d4ebff;}#sk-container-id-3 div.sk-parallel-item::after {content: \"\";width: 100%;border-bottom: 1px solid gray;flex-grow: 1;}#sk-container-id-3 div.sk-label:hover label.sk-toggleable__label {background-color: #d4ebff;}#sk-container-id-3 div.sk-serial::before {content: \"\";position: absolute;border-left: 1px solid gray;box-sizing: border-box;top: 0;bottom: 0;left: 50%;z-index: 0;}#sk-container-id-3 div.sk-serial {display: flex;flex-direction: column;align-items: center;background-color: white;padding-right: 0.2em;padding-left: 0.2em;position: relative;}#sk-container-id-3 div.sk-item {position: relative;z-index: 1;}#sk-container-id-3 div.sk-parallel {display: flex;align-items: stretch;justify-content: center;background-color: white;position: relative;}#sk-container-id-3 div.sk-item::before, #sk-container-id-3 div.sk-parallel-item::before {content: \"\";position: absolute;border-left: 1px solid gray;box-sizing: border-box;top: 0;bottom: 0;left: 50%;z-index: -1;}#sk-container-id-3 div.sk-parallel-item {display: flex;flex-direction: column;z-index: 1;position: relative;background-color: white;}#sk-container-id-3 div.sk-parallel-item:first-child::after {align-self: flex-end;width: 50%;}#sk-container-id-3 div.sk-parallel-item:last-child::after {align-self: flex-start;width: 50%;}#sk-container-id-3 div.sk-parallel-item:only-child::after {width: 0;}#sk-container-id-3 div.sk-dashed-wrapped {border: 1px dashed gray;margin: 0 0.4em 0.5em 0.4em;box-sizing: border-box;padding-bottom: 0.4em;background-color: white;}#sk-container-id-3 div.sk-label label {font-family: monospace;font-weight: bold;display: inline-block;line-height: 1.2em;}#sk-container-id-3 div.sk-label-container {text-align: center;}#sk-container-id-3 div.sk-container {/* jupyter's `normalize.less` sets `[hidden] { display: none; }` but bootstrap.min.css set `[hidden] { display: none !important; }` so we also need the `!important` here to be able to override the default hidden behavior on the sphinx rendered scikit-learn.org. See: https://github.com/scikit-learn/scikit-learn/issues/21755 */display: inline-block !important;position: relative;}#sk-container-id-3 div.sk-text-repr-fallback {display: none;}</style><div id=\"sk-container-id-3\" class=\"sk-top-container\"><div class=\"sk-text-repr-fallback\"><pre>XGBRegressor(early_stopping_rounds=50, learning_rate=0.01, n_estimators=1000)</pre><b>In a Jupyter environment, please rerun this cell to show the HTML representation or trust the notebook. <br />On GitHub, the HTML representation is unable to render, please try loading this page with nbviewer.org.</b></div><div class=\"sk-container\" hidden><div class=\"sk-item\"><div class=\"sk-estimator sk-toggleable\"><input class=\"sk-toggleable__control sk-hidden--visually\" id=\"sk-estimator-id-3\" type=\"checkbox\" checked><label for=\"sk-estimator-id-3\" class=\"sk-toggleable__label sk-toggleable__label-arrow\">XGBRegressor</label><div class=\"sk-toggleable__content\"><pre>XGBRegressor(early_stopping_rounds=50, learning_rate=0.01, n_estimators=1000)</pre></div></div></div></div></div>"
      ],
      "text/plain": [
       "XGBRegressor(early_stopping_rounds=50, learning_rate=0.01, n_estimators=1000)"
      ]
     },
     "execution_count": 41,
     "metadata": {},
     "output_type": "execute_result"
    }
   ],
   "source": [
    "xgb_model = XGBRegressor(base_score=0.5,\n",
    "                       booster='gbtree',    \n",
    "                       n_estimators=1000,\n",
    "                       early_stopping_rounds=50,\n",
    "                       objective='reg:linear',\n",
    "                       max_depth=3,\n",
    "                       learning_rate=0.01)\n",
    "\n",
    "xgb_model.fit(x_train, y_train, eval_set=[(x_test, y_test)], early_stopping_rounds=50, verbose=False)"
   ]
  },
  {
   "cell_type": "markdown",
   "id": "b187f022",
   "metadata": {},
   "source": [
    "### 3.2 Evaluate on Validate data"
   ]
  },
  {
   "cell_type": "code",
   "execution_count": 42,
   "id": "799986d3",
   "metadata": {},
   "outputs": [],
   "source": [
    "def evaludate_xgb_model(x_data, y_data):\n",
    "    predictions = xgb_model.predict(x_data)\n",
    "    mse = mean_squared_error(y_data, predictions)\n",
    "    mae = mean_absolute_error(y_data, predictions)\n",
    "    mape = mean_absolute_percentage_error(y_data, predictions)\n",
    "    rmse = mean_squared_error(y_data, predictions, squared=False)\n",
    "    return predictions, mse, mae, mape, rmse"
   ]
  },
  {
   "cell_type": "code",
   "execution_count": 43,
   "id": "0087f1f8",
   "metadata": {},
   "outputs": [],
   "source": [
    "y_pred_val, val_mse, val_mae, val_mape, val_rmse = evaludate_xgb_model(x_val, y_val)"
   ]
  },
  {
   "cell_type": "markdown",
   "id": "2225f62f",
   "metadata": {},
   "source": [
    "### 3.3 Evaluate on Test data"
   ]
  },
  {
   "cell_type": "code",
   "execution_count": 44,
   "id": "2473094f",
   "metadata": {},
   "outputs": [],
   "source": [
    "y_pred_test, test_mse, test_mae, test_mape, test_rmse = evaludate_xgb_model(x_test, y_test)"
   ]
  },
  {
   "cell_type": "markdown",
   "id": "f9b8e333",
   "metadata": {},
   "source": [
    "### 3.4 Predict price for the next 30 days"
   ]
  },
  {
   "cell_type": "code",
   "execution_count": 45,
   "id": "e7dd379d",
   "metadata": {},
   "outputs": [
    {
     "name": "stdout",
     "output_type": "stream",
     "text": [
      "1 day output [0.6183112]\n",
      "2 day output [0.61386466]\n",
      "3 day output [0.60627186]\n",
      "4 day output [0.603682]\n",
      "5 day output [0.5914736]\n",
      "6 day output [0.59688085]\n",
      "7 day output [0.5961244]\n",
      "8 day output [0.6006832]\n",
      "9 day output [0.60064363]\n",
      "10 day output [0.5911783]\n",
      "11 day output [0.60059386]\n",
      "12 day output [0.6006832]\n",
      "13 day output [0.60063344]\n",
      "14 day output [0.6000888]\n",
      "15 day output [0.59635854]\n",
      "16 day output [0.60059386]\n",
      "17 day output [0.59457076]\n",
      "18 day output [0.5958534]\n",
      "19 day output [0.6000888]\n",
      "20 day output [0.5903354]\n",
      "21 day output [0.5903354]\n",
      "22 day output [0.5908405]\n",
      "23 day output [0.59457076]\n",
      "24 day output [0.5903354]\n",
      "25 day output [0.59635854]\n",
      "26 day output [0.59457076]\n",
      "27 day output [0.5908405]\n",
      "28 day output [0.6000888]\n",
      "29 day output [0.5855218]\n",
      "Output of predicted next days:  [0.6308135390281677, 0.6183112263679504, 0.6138646602630615, 0.6062718629837036, 0.6036819815635681, 0.5914735794067383, 0.5968808531761169, 0.5961244106292725, 0.6006832122802734, 0.6006436347961426, 0.591178297996521, 0.6005938649177551, 0.6006832122802734, 0.600633442401886, 0.6000887751579285, 0.5963585376739502, 0.6005938649177551, 0.5945707559585571, 0.5958533883094788, 0.6000887751579285, 0.5903354287147522, 0.5903354287147522, 0.5908405184745789, 0.5945707559585571, 0.5903354287147522, 0.5963585376739502, 0.5945707559585571, 0.5908405184745789, 0.6000887751579285, 0.5855218172073364]\n"
     ]
    }
   ],
   "source": [
    "x_input = test_data[len(test_data)-time_step:].reshape(1,-1)\n",
    "temp_input = list(x_input)\n",
    "temp_input = temp_input[0].tolist()\n",
    "\n",
    "from numpy import array\n",
    "\n",
    "lst_output = []\n",
    "n_steps = time_step\n",
    "i = 0\n",
    "pred_days = 30\n",
    "while(i < pred_days):\n",
    "    \n",
    "    if(len(temp_input) > time_step):\n",
    "        \n",
    "        x_input = np.array(temp_input[1:])\n",
    "        x_input = x_input.reshape(1,-1)\n",
    "        \n",
    "        yhat = xgb_model.predict(x_input)\n",
    "        print(\"{} day output {}\".format(i,yhat))\n",
    "        temp_input.extend(yhat.tolist())\n",
    "        temp_input=temp_input[1:]\n",
    "       \n",
    "        lst_output.extend(yhat.tolist())\n",
    "        i = i+1\n",
    "        \n",
    "    else:\n",
    "        yhat = xgb_model.predict(x_input)\n",
    "        \n",
    "        temp_input.extend(yhat.tolist())\n",
    "        lst_output.extend(yhat.tolist())\n",
    "        \n",
    "        i = i+1\n",
    "        \n",
    "print(\"Output of predicted next days: \", lst_output)"
   ]
  },
  {
   "cell_type": "code",
   "execution_count": 46,
   "id": "75a545a0",
   "metadata": {},
   "outputs": [
    {
     "name": "stdout",
     "output_type": "stream",
     "text": [
      "Test data prediction: (505, 1)\n",
      "Val data prediction: (103, 1)\n"
     ]
    }
   ],
   "source": [
    "y_pred_test = y_pred_test.reshape(-1,1)\n",
    "y_pred_val = y_pred_val.reshape(-1,1)\n",
    "y_pred_test = scaler.inverse_transform(y_pred_test)\n",
    "y_pred_val = scaler.inverse_transform(y_pred_val)\n",
    "\n",
    "print(\"Test data prediction:\", y_pred_test.shape)\n",
    "print(\"Val data prediction:\", y_pred_val.shape)"
   ]
  },
  {
   "cell_type": "code",
   "execution_count": 47,
   "id": "95dfb36e",
   "metadata": {},
   "outputs": [
    {
     "name": "stdout",
     "output_type": "stream",
     "text": [
      "               MSE       MAE          MAPE      RMSE\n",
      "Validate  0.013021  0.077022  1.120862e-01  0.114110\n",
      "Test      0.011029  0.057597  5.356687e+12  0.105019\n"
     ]
    }
   ],
   "source": [
    "metrics = {\n",
    "    'MSE': [val_mse, test_mse],\n",
    "    'MAE': [val_mae, test_mae],\n",
    "    'MAPE': [val_mape, test_mape],\n",
    "    'RMSE': [val_rmse, test_rmse],\n",
    "}\n",
    "\n",
    "acc = pd.DataFrame(metrics, index=['Validate', 'Test'])\n",
    "\n",
    "print(acc)"
   ]
  },
  {
   "cell_type": "code",
   "execution_count": 48,
   "id": "37018b05",
   "metadata": {},
   "outputs": [
    {
     "data": {
      "image/png": "[encoded data removed]",
      "text/plain": [
       "<Figure size 640x480 with 1 Axes>"
      ]
     },
     "metadata": {},
     "output_type": "display_data"
    }
   ],
   "source": [
    "train_data_index = pd.RangeIndex(start=0, stop=train_size, step=1)\n",
    "plt.plot(scaler.inverse_transform(train_data))\n",
    "\n",
    "test_data_index = pd.RangeIndex(start=train_size, stop=train_size+test_size, step=1)\n",
    "plt.plot(test_data_index,scaler.inverse_transform(test_data))\n",
    "test_data_index = pd.RangeIndex(start=train_size+101, stop=train_size+test_size, step=1)\n",
    "plt.plot(test_data_index,y_pred_test)\n",
    "\n",
    "val_data_index = pd.RangeIndex(start=train_size+test_size, stop=train_size+test_size+val_size, step=1)\n",
    "plt.plot(val_data_index,scaler.inverse_transform(val_data))\n",
    "val_data_index = pd.RangeIndex(start=train_size+test_size+101, stop=train_size+test_size+val_size, step=1)\n",
    "plt.plot(val_data_index,y_pred_val)\n",
    "prediect_data_index = pd.RangeIndex(start=len(df)-1, stop=len(df)+29, step=1)\n",
    "\n",
    "plt.plot(prediect_data_index,scaler.inverse_transform(np.array(lst_output).reshape(-1,1)))\n",
    "plt.legend(['Train','Test','Predict','Validate','ValidatePred','Predict30days'])\n",
    "plt.show()"
   ]
  }
 ],
 "metadata": {
  "kernelspec": {
   "display_name": "Python 3 (ipykernel)",
   "language": "python",
   "name": "python3"
  },
  "language_info": {
   "codemirror_mode": {
    "name": "ipython",
    "version": 3
   },
   "file_extension": ".py",
   "mimetype": "text/x-python",
   "name": "python",
   "nbconvert_exporter": "python",
   "pygments_lexer": "ipython3",
   "version": "3.11.1"
  }
 },
 "nbformat": 4,
 "nbformat_minor": 5
}
