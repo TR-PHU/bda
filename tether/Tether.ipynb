{
  "cells": [
    {
      "cell_type": "markdown",
      "id": "f8047eaf",
      "metadata": {
        "id": "f8047eaf"
      },
      "source": [
        "### Import libraries and get data"
      ]
    },
    {
      "cell_type": "code",
      "execution_count": 32,
      "id": "253f387d",
      "metadata": {
        "id": "253f387d"
      },
      "outputs": [],
      "source": [
        "import numpy as np\n",
        "import pandas as pd\n",
        "import matplotlib.pyplot as plt\n",
        "import pmdarima as pmd\n",
        "\n",
        "from sklearn.metrics import mean_squared_error, mean_absolute_error\n",
        "\n",
        "from statsmodels.tsa.seasonal import seasonal_decompose\n",
        "from dateutil.parser import parse\n",
        "\n"
      ]
    },
    {
      "cell_type": "code",
      "execution_count": 39,
      "id": "38e633bd",
      "metadata": {
        "colab": {
          "base_uri": "https://localhost:8080/"
        },
        "id": "38e633bd",
        "outputId": "6070a0bb-a462-4f73-c27f-61cd8291913b"
      },
      "outputs": [
        {
          "output_type": "execute_result",
          "data": {
            "text/plain": [
              "DatetimeIndex(['2017-12-01', '2017-12-02', '2017-12-03', '2017-12-04',\n",
              "               '2017-12-05', '2017-12-06', '2017-12-07', '2017-12-08',\n",
              "               '2017-12-09', '2017-12-10',\n",
              "               ...\n",
              "               '2023-03-23', '2023-03-24', '2023-03-25', '2023-03-26',\n",
              "               '2023-03-27', '2023-03-28', '2023-03-29', '2023-03-30',\n",
              "               '2023-03-31', '2023-04-01'],\n",
              "              dtype='datetime64[ns]', name='Date', length=1947, freq=None)"
            ]
          },
          "metadata": {},
          "execution_count": 39
        }
      ],
      "source": [
        "# Load the dataset\n",
        "df = pd.read_csv(\"./USDT.csv\")\n",
        "\n",
        "# Drop the unnecessary columns.\n",
        "df.drop(['Open', 'High', 'Low', 'Vol.', 'Change %'], axis=1, inplace=True)\n",
        "\n",
        "# Convert the \"Date\" column to datetime format\n",
        "df['Date'] = pd.to_datetime(df['Date'], format='%b %d, %Y')\n",
        "\n",
        "\n",
        "# Sort the DataFrame by date\n",
        "df = df.sort_values('Date')\n",
        "\n",
        "# Set Date index\n",
        "df.set_index('Date', inplace=True)\n",
        "\n",
        "df.asfreq(\"D\")\n",
        "\n",
        "df.index"
      ]
    },
    {
      "cell_type": "code",
      "execution_count": 40,
      "id": "1a5272e2",
      "metadata": {
        "colab": {
          "base_uri": "https://localhost:8080/"
        },
        "id": "1a5272e2",
        "outputId": "72f841c6-8b62-496f-db00-dd0a911d40c7"
      },
      "outputs": [
        {
          "output_type": "stream",
          "name": "stdout",
          "text": [
            "Train shape: (1362, 1)\n",
            "Test shape: (585, 1)\n"
          ]
        }
      ],
      "source": [
        "# Split the data into training (70%) and test (30%) sets\n",
        "train_size = int(0.7 * len(df))\n",
        "\n",
        "train = df[:train_size]\n",
        "test = df[train_size:]\n",
        "\n",
        "# Check the sizes of the data sets\n",
        "print(\"Train shape:\", train.shape)\n",
        "print(\"Test shape:\", test.shape)"
      ]
    },
    {
      "cell_type": "markdown",
      "source": [
        "## ARIMA Model"
      ],
      "metadata": {
        "id": "CDT4u80EuyHT"
      },
      "id": "CDT4u80EuyHT"
    },
    {
      "cell_type": "markdown",
      "source": [
        "### 3. Perfom ARIMA Model "
      ],
      "metadata": {
        "id": "aZhec0PShHNJ"
      },
      "id": "aZhec0PShHNJ"
    },
    {
      "cell_type": "code",
      "source": [
        "!pip install pmdarima"
      ],
      "metadata": {
        "colab": {
          "base_uri": "https://localhost:8080/"
        },
        "id": "xluIDn_CVZil",
        "outputId": "b9f31564-f0f5-4586-d1fe-08efea1ab71b"
      },
      "id": "xluIDn_CVZil",
      "execution_count": 12,
      "outputs": [
        {
          "output_type": "stream",
          "name": "stdout",
          "text": [
            "Looking in indexes: https://pypi.org/simple, https://us-python.pkg.dev/colab-wheels/public/simple/\n",
            "Requirement already satisfied: pmdarima in /usr/local/lib/python3.10/dist-packages (2.0.3)\n",
            "Requirement already satisfied: pandas>=0.19 in /usr/local/lib/python3.10/dist-packages (from pmdarima) (1.5.3)\n",
            "Requirement already satisfied: numpy>=1.21.2 in /usr/local/lib/python3.10/dist-packages (from pmdarima) (1.22.4)\n",
            "Requirement already satisfied: urllib3 in /usr/local/lib/python3.10/dist-packages (from pmdarima) (1.26.15)\n",
            "Requirement already satisfied: Cython!=0.29.18,!=0.29.31,>=0.29 in /usr/local/lib/python3.10/dist-packages (from pmdarima) (0.29.34)\n",
            "Requirement already satisfied: joblib>=0.11 in /usr/local/lib/python3.10/dist-packages (from pmdarima) (1.2.0)\n",
            "Requirement already satisfied: statsmodels>=0.13.2 in /usr/local/lib/python3.10/dist-packages (from pmdarima) (0.13.5)\n",
            "Requirement already satisfied: scikit-learn>=0.22 in /usr/local/lib/python3.10/dist-packages (from pmdarima) (1.2.2)\n",
            "Requirement already satisfied: scipy>=1.3.2 in /usr/local/lib/python3.10/dist-packages (from pmdarima) (1.10.1)\n",
            "Requirement already satisfied: setuptools!=50.0.0,>=38.6.0 in /usr/local/lib/python3.10/dist-packages (from pmdarima) (67.7.2)\n",
            "Requirement already satisfied: python-dateutil>=2.8.1 in /usr/local/lib/python3.10/dist-packages (from pandas>=0.19->pmdarima) (2.8.2)\n",
            "Requirement already satisfied: pytz>=2020.1 in /usr/local/lib/python3.10/dist-packages (from pandas>=0.19->pmdarima) (2022.7.1)\n",
            "Requirement already satisfied: threadpoolctl>=2.0.0 in /usr/local/lib/python3.10/dist-packages (from scikit-learn>=0.22->pmdarima) (3.1.0)\n",
            "Requirement already satisfied: packaging>=21.3 in /usr/local/lib/python3.10/dist-packages (from statsmodels>=0.13.2->pmdarima) (23.1)\n",
            "Requirement already satisfied: patsy>=0.5.2 in /usr/local/lib/python3.10/dist-packages (from statsmodels>=0.13.2->pmdarima) (0.5.3)\n",
            "Requirement already satisfied: six in /usr/local/lib/python3.10/dist-packages (from patsy>=0.5.2->statsmodels>=0.13.2->pmdarima) (1.16.0)\n"
          ]
        }
      ]
    },
    {
      "cell_type": "code",
      "source": [
        "arima_model = pmd.auto_arima(train, start_p=1, start_q=1,\n",
        "                         test='adf',\n",
        "                         max_p=3, max_q=3, m=12,\n",
        "                         start_P=0, seasonal=False,\n",
        "                         d=None, D=0, trace=True,\n",
        "                         error_action='ignore',  \n",
        "                         suppress_warnings=True, \n",
        "                         stepwise=True)"
      ],
      "metadata": {
        "colab": {
          "base_uri": "https://localhost:8080/"
        },
        "id": "7AiUw0UsU_iT",
        "outputId": "bc9e0412-0e81-4954-c761-de3f42841501"
      },
      "id": "7AiUw0UsU_iT",
      "execution_count": 29,
      "outputs": [
        {
          "output_type": "stream",
          "name": "stderr",
          "text": [
            "/usr/local/lib/python3.10/dist-packages/pmdarima/arima/_validation.py:62: UserWarning: m (12) set for non-seasonal fit. Setting to 0\n",
            "  warnings.warn(\"m (%i) set for non-seasonal fit. Setting to 0\" % m)\n"
          ]
        },
        {
          "output_type": "stream",
          "name": "stdout",
          "text": [
            "Performing stepwise search to minimize aic\n",
            " ARIMA(1,0,1)(0,0,0)[0]             : AIC=-11684.760, Time=0.34 sec\n",
            " ARIMA(0,0,0)(0,0,0)[0]             : AIC=3868.101, Time=0.04 sec\n",
            " ARIMA(1,0,0)(0,0,0)[0]             : AIC=inf, Time=0.14 sec\n",
            " ARIMA(0,0,1)(0,0,0)[0]             : AIC=inf, Time=0.37 sec\n",
            " ARIMA(2,0,1)(0,0,0)[0]             : AIC=inf, Time=1.31 sec\n",
            " ARIMA(1,0,2)(0,0,0)[0]             : AIC=-11723.739, Time=0.37 sec\n",
            " ARIMA(0,0,2)(0,0,0)[0]             : AIC=inf, Time=0.72 sec\n",
            " ARIMA(2,0,2)(0,0,0)[0]             : AIC=-11721.681, Time=0.96 sec\n",
            " ARIMA(1,0,3)(0,0,0)[0]             : AIC=-11723.605, Time=0.46 sec\n",
            " ARIMA(0,0,3)(0,0,0)[0]             : AIC=inf, Time=1.64 sec\n",
            " ARIMA(2,0,3)(0,0,0)[0]             : AIC=-11721.615, Time=0.23 sec\n",
            " ARIMA(1,0,2)(0,0,0)[0] intercept   : AIC=-11756.317, Time=0.76 sec\n",
            " ARIMA(0,0,2)(0,0,0)[0] intercept   : AIC=-11102.504, Time=1.85 sec\n",
            " ARIMA(1,0,1)(0,0,0)[0] intercept   : AIC=-11738.216, Time=0.75 sec\n",
            " ARIMA(2,0,2)(0,0,0)[0] intercept   : AIC=-11748.509, Time=1.12 sec\n",
            " ARIMA(1,0,3)(0,0,0)[0] intercept   : AIC=-11755.754, Time=1.94 sec\n",
            " ARIMA(0,0,1)(0,0,0)[0] intercept   : AIC=-10766.414, Time=0.76 sec\n",
            " ARIMA(0,0,3)(0,0,0)[0] intercept   : AIC=-11356.173, Time=1.59 sec\n",
            " ARIMA(2,0,1)(0,0,0)[0] intercept   : AIC=-11587.954, Time=2.90 sec\n",
            " ARIMA(2,0,3)(0,0,0)[0] intercept   : AIC=-11752.540, Time=1.83 sec\n",
            "\n",
            "Best model:  ARIMA(1,0,2)(0,0,0)[0] intercept\n",
            "Total fit time: 20.127 seconds\n"
          ]
        }
      ]
    },
    {
      "cell_type": "markdown",
      "id": "65c61900",
      "metadata": {
        "id": "65c61900"
      },
      "source": [
        "### 3.1 Build the ARIMA Model"
      ]
    },
    {
      "cell_type": "code",
      "execution_count": 7,
      "id": "8de76475",
      "metadata": {
        "colab": {
          "base_uri": "https://localhost:8080/"
        },
        "id": "8de76475",
        "outputId": "983bdfaa-ab1f-4791-860d-b06e6ee2a95e"
      },
      "outputs": [
        {
          "output_type": "stream",
          "name": "stderr",
          "text": [
            "/usr/local/lib/python3.10/dist-packages/statsmodels/tsa/base/tsa_model.py:471: ValueWarning: A date index has been provided, but it has no associated frequency information and so will be ignored when e.g. forecasting.\n",
            "  self._init_dates(dates, freq)\n",
            "/usr/local/lib/python3.10/dist-packages/statsmodels/tsa/base/tsa_model.py:471: ValueWarning: A date index has been provided, but it has no associated frequency information and so will be ignored when e.g. forecasting.\n",
            "  self._init_dates(dates, freq)\n",
            "/usr/local/lib/python3.10/dist-packages/statsmodels/tsa/base/tsa_model.py:471: ValueWarning: A date index has been provided, but it has no associated frequency information and so will be ignored when e.g. forecasting.\n",
            "  self._init_dates(dates, freq)\n"
          ]
        },
        {
          "output_type": "stream",
          "name": "stdout",
          "text": [
            "                               SARIMAX Results                                \n",
            "==============================================================================\n",
            "Dep. Variable:                  Price   No. Observations:                 1362\n",
            "Model:                 ARIMA(1, 0, 2)   Log Likelihood                5888.000\n",
            "Date:                Wed, 03 May 2023   AIC                         -11765.999\n",
            "Time:                        02:00:47   BIC                         -11739.916\n",
            "Sample:                             0   HQIC                        -11756.235\n",
            "                               - 1362                                         \n",
            "Covariance Type:                  opg                                         \n",
            "==============================================================================\n",
            "                 coef    std err          z      P>|z|      [0.025      0.975]\n",
            "------------------------------------------------------------------------------\n",
            "const          1.0003      0.001    918.580      0.000       0.998       1.002\n",
            "ar.L1          0.9526      0.005    187.338      0.000       0.943       0.963\n",
            "ma.L1         -0.2626      0.013    -19.787      0.000      -0.289      -0.237\n",
            "ma.L2         -0.1415      0.013    -10.720      0.000      -0.167      -0.116\n",
            "sigma2      1.025e-05   1.16e-07     88.719      0.000       1e-05    1.05e-05\n",
            "===================================================================================\n",
            "Ljung-Box (L1) (Q):                   0.01   Jarque-Bera (JB):             28357.07\n",
            "Prob(Q):                              0.91   Prob(JB):                         0.00\n",
            "Heteroskedasticity (H):               0.01   Skew:                             0.40\n",
            "Prob(H) (two-sided):                  0.00   Kurtosis:                        25.34\n",
            "===================================================================================\n",
            "\n",
            "Warnings:\n",
            "[1] Covariance matrix calculated using the outer product of gradients (complex-step).\n"
          ]
        }
      ],
      "source": [
        "from statsmodels.tsa.arima.model import ARIMA\n",
        "\n",
        "# ARMIA(1,0,2)\n",
        "model = ARIMA(train, order=(1,0,2))\n",
        "model_fit = model.fit()\n",
        "print(model_fit.summary())"
      ]
    },
    {
      "cell_type": "markdown",
      "source": [],
      "metadata": {
        "id": "E_Fl_Jf7uewf"
      },
      "id": "E_Fl_Jf7uewf"
    },
    {
      "cell_type": "markdown",
      "source": [
        "### 3.2 Predict on Test data"
      ],
      "metadata": {
        "id": "F1b6EiskiVot"
      },
      "id": "F1b6EiskiVot"
    },
    {
      "cell_type": "code",
      "execution_count": 28,
      "id": "461adc13",
      "metadata": {
        "colab": {
          "base_uri": "https://localhost:8080/",
          "height": 785
        },
        "id": "461adc13",
        "outputId": "4fb808c0-096c-42fd-d60c-bca34cb18791"
      },
      "outputs": [
        {
          "output_type": "stream",
          "name": "stderr",
          "text": [
            "/usr/local/lib/python3.10/dist-packages/statsmodels/tsa/base/tsa_model.py:834: ValueWarning: No supported index is available. Prediction results will be given with an integer index beginning at `start`.\n",
            "  return get_prediction_index(\n",
            "/usr/local/lib/python3.10/dist-packages/statsmodels/tsa/base/tsa_model.py:834: ValueWarning: No supported index is available. Prediction results will be given with an integer index beginning at `start`.\n",
            "  return get_prediction_index(\n"
          ]
        },
        {
          "output_type": "stream",
          "name": "stdout",
          "text": [
            "1363    1.000350\n",
            "1364    1.000349\n",
            "1365    1.000347\n",
            "1366    1.000345\n",
            "1367    1.000344\n",
            "          ...   \n",
            "1943    1.000313\n",
            "1944    1.000313\n",
            "1945    1.000313\n",
            "1946    1.000313\n",
            "1947    1.000313\n",
            "Name: predicted_mean, Length: 585, dtype: float64\n"
          ]
        },
        {
          "output_type": "display_data",
          "data": {
            "text/plain": [
              "<Figure size 1200x500 with 1 Axes>"
            ],
            "image/png": "[encoded data removed]"
          },
          "metadata": {}
        }
      ],
      "source": [
        "# Forecast\n",
        "predict_price = model_fit.predict(start=1363, end=1947)\n",
        "predict_results = model_fit.get_forecast(585)\n",
        "\n",
        "print(predict_price)\n",
        "\n",
        "# Confidence\n",
        "conf = predict_results.conf_int(alpha=0.05)\n",
        "\n",
        "# Make as pandas series\n",
        "predict = pd.Series(predict_price.values, index=test.index)\n",
        "lower = pd.Series(conf['lower Price'].values, index=test.index)\n",
        "upper = pd.Series(conf['upper Price'].values, index=test.index)\n",
        "\n",
        "\n",
        "# Plot\n",
        "plt.figure(figsize=(12,5), dpi=100)\n",
        "plt.plot(predict, label='predict')\n",
        "plt.plot(test, label='actual')\n",
        "plt.fill_between(lower.index, lower, upper, color='k', alpha=.15)\n",
        "plt.title('Forecast vs Actuals')\n",
        "plt.xlabel(\"Date\")\n",
        "plt.ylabel(\"Price\")\n",
        "plt.legend(loc='upper left', fontsize=8)\n",
        "plt.show()"
      ]
    },
    {
      "cell_type": "markdown",
      "source": [
        "### 3.3 Predict 10 days later"
      ],
      "metadata": {
        "id": "T-klU1u3iRGA"
      },
      "id": "T-klU1u3iRGA"
    },
    {
      "cell_type": "code",
      "source": [
        "price_30_days_later = model_fit.predict(start=1948, end=1978)\n",
        "price_30_days_later"
      ],
      "metadata": {
        "colab": {
          "base_uri": "https://localhost:8080/"
        },
        "id": "R4r5BckljBBe",
        "outputId": "502ae446-ae4d-435e-8edf-962a4ec8535e"
      },
      "id": "R4r5BckljBBe",
      "execution_count": 30,
      "outputs": [
        {
          "output_type": "stream",
          "name": "stderr",
          "text": [
            "/usr/local/lib/python3.10/dist-packages/statsmodels/tsa/base/tsa_model.py:834: ValueWarning: No supported index is available. Prediction results will be given with an integer index beginning at `start`.\n",
            "  return get_prediction_index(\n"
          ]
        },
        {
          "output_type": "execute_result",
          "data": {
            "text/plain": [
              "1948    1.000313\n",
              "1949    1.000313\n",
              "1950    1.000313\n",
              "1951    1.000313\n",
              "1952    1.000313\n",
              "1953    1.000313\n",
              "1954    1.000313\n",
              "1955    1.000313\n",
              "1956    1.000313\n",
              "1957    1.000313\n",
              "1958    1.000313\n",
              "1959    1.000313\n",
              "1960    1.000313\n",
              "1961    1.000313\n",
              "1962    1.000313\n",
              "1963    1.000313\n",
              "1964    1.000313\n",
              "1965    1.000313\n",
              "1966    1.000313\n",
              "1967    1.000313\n",
              "1968    1.000313\n",
              "1969    1.000313\n",
              "1970    1.000313\n",
              "1971    1.000313\n",
              "1972    1.000313\n",
              "1973    1.000313\n",
              "1974    1.000313\n",
              "1975    1.000313\n",
              "1976    1.000313\n",
              "1977    1.000313\n",
              "1978    1.000313\n",
              "Name: predicted_mean, dtype: float64"
            ]
          },
          "metadata": {},
          "execution_count": 30
        }
      ]
    },
    {
      "cell_type": "markdown",
      "source": [
        "### 4.  Evaluate ARIMA Model"
      ],
      "metadata": {
        "id": "uLQMBilbWM0b"
      },
      "id": "uLQMBilbWM0b"
    },
    {
      "cell_type": "code",
      "execution_count": null,
      "id": "25b0b45a",
      "metadata": {
        "id": "25b0b45a",
        "outputId": "4ee886aa-8f5e-438a-8948-13e07b942fd1"
      },
      "outputs": [
        {
          "data": {
            "text/plain": [
              "0.0004200786309264163"
            ]
          },
          "execution_count": 51,
          "metadata": {},
          "output_type": "execute_result"
        }
      ],
      "source": [
        "#MAPE\n",
        "def mean_absolute_percentage_error(predict, actual):\n",
        "    return np.mean(np.abs(predict - actual)/np.abs(actual))\n",
        "\n",
        "mean_absolute_percentage_error(predict, test['Price'])"
      ]
    },
    {
      "cell_type": "code",
      "execution_count": null,
      "id": "bc9eeeb1",
      "metadata": {
        "id": "bc9eeeb1",
        "outputId": "0f158c7e-67c0-4d8a-eec0-66f9d860aff2"
      },
      "outputs": [
        {
          "data": {
            "text/plain": [
              "0.00042020880033603116"
            ]
          },
          "execution_count": 14,
          "metadata": {},
          "output_type": "execute_result"
        }
      ],
      "source": [
        "#MAE\n",
        "mean_absolute_error(test['Price'], predict)"
      ]
    },
    {
      "cell_type": "code",
      "execution_count": null,
      "id": "ae35b2ab",
      "metadata": {
        "id": "ae35b2ab",
        "outputId": "05babbdb-8c7c-4ba0-924f-f4182c034a61"
      },
      "outputs": [
        {
          "data": {
            "text/plain": [
              "5.328105955115118e-07"
            ]
          },
          "execution_count": 39,
          "metadata": {},
          "output_type": "execute_result"
        }
      ],
      "source": [
        "#MSE\n",
        "mean_squared_error(test['Price'], predict)"
      ]
    },
    {
      "cell_type": "code",
      "execution_count": 9,
      "id": "59f3704c",
      "metadata": {
        "colab": {
          "base_uri": "https://localhost:8080/",
          "height": 495
        },
        "id": "59f3704c",
        "outputId": "effc05db-90d3-4721-e6c3-4215b9943fee"
      },
      "outputs": [
        {
          "output_type": "display_data",
          "data": {
            "text/plain": [
              "<Figure size 1000x500 with 2 Axes>"
            ],
            "image/png": "[encoded data removed]"
          },
          "metadata": {}
        }
      ],
      "source": [
        "# Plot\n",
        "fig, axes = plt.subplots(2, 1, figsize=(10,5), dpi=100, sharex=True)\n",
        "\n",
        "# Usual Differencing\n",
        "axes[0].plot(df[:], label='Original Series')\n",
        "axes[0].plot(df[:].diff(1), label='Usual Differencing')\n",
        "axes[0].set_title('Usual Differencing')\n",
        "axes[0].legend(loc='upper left', fontsize=10)\n",
        "\n",
        "\n",
        "# Seasonal Differencing\n",
        "axes[1].plot(df[:], label='Original Series')\n",
        "axes[1].plot(df[:].diff(12), label='Seasonal Differencing', color='green')\n",
        "axes[1].set_title('Seasonal Differencing')\n",
        "plt.legend(loc='upper left', fontsize=10)\n",
        "plt.suptitle('Drug Sales - Time Series Dataset', fontsize=16)\n",
        "plt.show()"
      ]
    },
    {
      "cell_type": "markdown",
      "id": "c1838a60",
      "metadata": {
        "id": "c1838a60"
      },
      "source": [
        "## SARIMAX Model"
      ]
    },
    {
      "cell_type": "code",
      "execution_count": 10,
      "id": "f10cf35e",
      "metadata": {
        "colab": {
          "base_uri": "https://localhost:8080/",
          "height": 1000
        },
        "id": "f10cf35e",
        "outputId": "93bebb42-8cf1-429b-cf30-25c6c70fb438"
      },
      "outputs": [
        {
          "output_type": "stream",
          "name": "stdout",
          "text": [
            "Performing stepwise search to minimize aic\n",
            " ARIMA(1,0,1)(0,1,1)[12] intercept   : AIC=-11250.862, Time=12.45 sec\n",
            " ARIMA(0,0,0)(0,1,0)[12] intercept   : AIC=-9624.032, Time=0.76 sec\n",
            " ARIMA(1,0,0)(1,1,0)[12] intercept   : AIC=-11167.070, Time=12.18 sec\n",
            " ARIMA(0,0,1)(0,1,1)[12] intercept   : AIC=-10615.909, Time=10.01 sec\n",
            " ARIMA(0,0,0)(0,1,0)[12]             : AIC=-9625.977, Time=0.21 sec\n",
            " ARIMA(1,0,1)(0,1,0)[12] intercept   : AIC=-10737.082, Time=3.62 sec\n",
            " ARIMA(1,0,1)(1,1,1)[12] intercept   : AIC=-11229.075, Time=6.08 sec\n",
            " ARIMA(1,0,1)(0,1,2)[12] intercept   : AIC=-11265.275, Time=29.57 sec\n",
            " ARIMA(1,0,1)(1,1,2)[12] intercept   : AIC=-11239.144, Time=41.68 sec\n",
            " ARIMA(0,0,1)(0,1,2)[12] intercept   : AIC=-10702.796, Time=54.16 sec\n",
            " ARIMA(1,0,0)(0,1,2)[12] intercept   : AIC=-11434.052, Time=65.39 sec\n",
            " ARIMA(1,0,0)(0,1,1)[12] intercept   : AIC=-11204.118, Time=7.98 sec\n",
            " ARIMA(1,0,0)(1,1,2)[12] intercept   : AIC=-11179.966, Time=53.06 sec\n",
            " ARIMA(1,0,0)(1,1,1)[12] intercept   : AIC=-11193.704, Time=11.17 sec\n",
            " ARIMA(0,0,0)(0,1,2)[12] intercept   : AIC=-9952.103, Time=22.63 sec\n",
            " ARIMA(2,0,0)(0,1,2)[12] intercept   : AIC=-11446.241, Time=35.61 sec\n",
            " ARIMA(2,0,0)(0,1,1)[12] intercept   : AIC=-11249.559, Time=11.11 sec\n",
            " ARIMA(2,0,0)(1,1,2)[12] intercept   : AIC=-11237.464, Time=34.40 sec\n",
            " ARIMA(2,0,0)(1,1,1)[12] intercept   : AIC=-11383.601, Time=20.80 sec\n",
            " ARIMA(3,0,0)(0,1,2)[12] intercept   : AIC=-11466.350, Time=62.04 sec\n",
            " ARIMA(3,0,0)(0,1,1)[12] intercept   : AIC=-11248.065, Time=19.59 sec\n",
            " ARIMA(3,0,0)(1,1,2)[12] intercept   : AIC=-11236.342, Time=40.08 sec\n",
            " ARIMA(3,0,0)(1,1,1)[12] intercept   : AIC=-11226.067, Time=24.31 sec\n",
            " ARIMA(3,0,1)(0,1,2)[12] intercept   : AIC=-11506.591, Time=91.49 sec\n",
            " ARIMA(3,0,1)(0,1,1)[12] intercept   : AIC=-11455.663, Time=34.68 sec\n",
            " ARIMA(3,0,1)(1,1,2)[12] intercept   : AIC=-11504.089, Time=91.91 sec\n",
            " ARIMA(3,0,1)(1,1,1)[12] intercept   : AIC=-11224.053, Time=36.18 sec\n",
            " ARIMA(2,0,1)(0,1,2)[12] intercept   : AIC=-11458.114, Time=61.06 sec\n",
            " ARIMA(3,0,2)(0,1,2)[12] intercept   : AIC=-11484.461, Time=75.69 sec\n",
            " ARIMA(2,0,2)(0,1,2)[12] intercept   : AIC=-11450.232, Time=62.95 sec\n",
            " ARIMA(3,0,1)(0,1,2)[12]             : AIC=-11495.775, Time=18.87 sec\n",
            "\n",
            "Best model:  ARIMA(3,0,1)(0,1,2)[12] intercept\n",
            "Total fit time: 1051.748 seconds\n"
          ]
        },
        {
          "output_type": "execute_result",
          "data": {
            "text/plain": [
              "<class 'statsmodels.iolib.summary.Summary'>\n",
              "\"\"\"\n",
              "                                        SARIMAX Results                                        \n",
              "===============================================================================================\n",
              "Dep. Variable:                                       y   No. Observations:                 1362\n",
              "Model:             SARIMAX(3, 0, 1)x(0, 1, [1, 2], 12)   Log Likelihood                5761.295\n",
              "Date:                                 Wed, 03 May 2023   AIC                         -11506.591\n",
              "Time:                                         02:43:16   BIC                         -11464.928\n",
              "Sample:                                              0   HQIC                        -11490.988\n",
              "                                                - 1362                                         \n",
              "Covariance Type:                                   opg                                         \n",
              "==============================================================================\n",
              "                 coef    std err          z      P>|z|      [0.025      0.975]\n",
              "------------------------------------------------------------------------------\n",
              "intercept  -1.272e-05   4.33e-05     -0.294      0.769   -9.77e-05    7.22e-05\n",
              "ar.L1          0.3227      0.109      2.952      0.003       0.108       0.537\n",
              "ar.L2          0.3346      0.076      4.391      0.000       0.185       0.484\n",
              "ar.L3          0.1799      0.022      8.012      0.000       0.136       0.224\n",
              "ma.L1          0.3344      0.108      3.087      0.002       0.122       0.547\n",
              "ma.S.L12      -0.9113      0.015    -60.773      0.000      -0.941      -0.882\n",
              "ma.S.L24       0.2349      0.015     15.980      0.000       0.206       0.264\n",
              "sigma2      1.142e-05   1.74e-07     65.697      0.000    1.11e-05    1.18e-05\n",
              "===================================================================================\n",
              "Ljung-Box (L1) (Q):                   6.24   Jarque-Bera (JB):             12848.34\n",
              "Prob(Q):                              0.01   Prob(JB):                         0.00\n",
              "Heteroskedasticity (H):               0.01   Skew:                            -0.50\n",
              "Prob(H) (two-sided):                  0.00   Kurtosis:                        18.08\n",
              "===================================================================================\n",
              "\n",
              "Warnings:\n",
              "[1] Covariance matrix calculated using the outer product of gradients (complex-step).\n",
              "\"\"\""
            ],
            "text/html": [
              "<table class=\"simpletable\">\n",
              "<caption>SARIMAX Results</caption>\n",
              "<tr>\n",
              "  <th>Dep. Variable:</th>                    <td>y</td>                  <th>  No. Observations:  </th>    <td>1362</td>   \n",
              "</tr>\n",
              "<tr>\n",
              "  <th>Model:</th>           <td>SARIMAX(3, 0, 1)x(0, 1, [1, 2], 12)</td> <th>  Log Likelihood     </th>  <td>5761.295</td> \n",
              "</tr>\n",
              "<tr>\n",
              "  <th>Date:</th>                     <td>Wed, 03 May 2023</td>           <th>  AIC                </th> <td>-11506.591</td>\n",
              "</tr>\n",
              "<tr>\n",
              "  <th>Time:</th>                         <td>02:43:16</td>               <th>  BIC                </th> <td>-11464.928</td>\n",
              "</tr>\n",
              "<tr>\n",
              "  <th>Sample:</th>                           <td>0</td>                  <th>  HQIC               </th> <td>-11490.988</td>\n",
              "</tr>\n",
              "<tr>\n",
              "  <th></th>                               <td> - 1362</td>               <th>                     </th>      <td> </td>    \n",
              "</tr>\n",
              "<tr>\n",
              "  <th>Covariance Type:</th>                 <td>opg</td>                 <th>                     </th>      <td> </td>    \n",
              "</tr>\n",
              "</table>\n",
              "<table class=\"simpletable\">\n",
              "<tr>\n",
              "      <td></td>         <th>coef</th>     <th>std err</th>      <th>z</th>      <th>P>|z|</th>  <th>[0.025</th>    <th>0.975]</th>  \n",
              "</tr>\n",
              "<tr>\n",
              "  <th>intercept</th> <td>-1.272e-05</td> <td> 4.33e-05</td> <td>   -0.294</td> <td> 0.769</td> <td>-9.77e-05</td> <td> 7.22e-05</td>\n",
              "</tr>\n",
              "<tr>\n",
              "  <th>ar.L1</th>     <td>    0.3227</td> <td>    0.109</td> <td>    2.952</td> <td> 0.003</td> <td>    0.108</td> <td>    0.537</td>\n",
              "</tr>\n",
              "<tr>\n",
              "  <th>ar.L2</th>     <td>    0.3346</td> <td>    0.076</td> <td>    4.391</td> <td> 0.000</td> <td>    0.185</td> <td>    0.484</td>\n",
              "</tr>\n",
              "<tr>\n",
              "  <th>ar.L3</th>     <td>    0.1799</td> <td>    0.022</td> <td>    8.012</td> <td> 0.000</td> <td>    0.136</td> <td>    0.224</td>\n",
              "</tr>\n",
              "<tr>\n",
              "  <th>ma.L1</th>     <td>    0.3344</td> <td>    0.108</td> <td>    3.087</td> <td> 0.002</td> <td>    0.122</td> <td>    0.547</td>\n",
              "</tr>\n",
              "<tr>\n",
              "  <th>ma.S.L12</th>  <td>   -0.9113</td> <td>    0.015</td> <td>  -60.773</td> <td> 0.000</td> <td>   -0.941</td> <td>   -0.882</td>\n",
              "</tr>\n",
              "<tr>\n",
              "  <th>ma.S.L24</th>  <td>    0.2349</td> <td>    0.015</td> <td>   15.980</td> <td> 0.000</td> <td>    0.206</td> <td>    0.264</td>\n",
              "</tr>\n",
              "<tr>\n",
              "  <th>sigma2</th>    <td> 1.142e-05</td> <td> 1.74e-07</td> <td>   65.697</td> <td> 0.000</td> <td> 1.11e-05</td> <td> 1.18e-05</td>\n",
              "</tr>\n",
              "</table>\n",
              "<table class=\"simpletable\">\n",
              "<tr>\n",
              "  <th>Ljung-Box (L1) (Q):</th>     <td>6.24</td> <th>  Jarque-Bera (JB):  </th> <td>12848.34</td>\n",
              "</tr>\n",
              "<tr>\n",
              "  <th>Prob(Q):</th>                <td>0.01</td> <th>  Prob(JB):          </th>   <td>0.00</td>  \n",
              "</tr>\n",
              "<tr>\n",
              "  <th>Heteroskedasticity (H):</th> <td>0.01</td> <th>  Skew:              </th>   <td>-0.50</td> \n",
              "</tr>\n",
              "<tr>\n",
              "  <th>Prob(H) (two-sided):</th>    <td>0.00</td> <th>  Kurtosis:          </th>   <td>18.08</td> \n",
              "</tr>\n",
              "</table><br/><br/>Warnings:<br/>[1] Covariance matrix calculated using the outer product of gradients (complex-step)."
            ]
          },
          "metadata": {},
          "execution_count": 10
        }
      ],
      "source": [
        "# Seasonal - fit stepwise auto-ARIMA\n",
        "smodel = pmd.auto_arima(train, start_p=1, start_q=1,\n",
        "                         test='adf',\n",
        "                         max_p=3, max_q=3, m=12,\n",
        "                         start_P=0, seasonal=True,\n",
        "                         d=None, D=1, trace=True,\n",
        "                         error_action='ignore',  \n",
        "                         suppress_warnings=True, \n",
        "                         stepwise=True)\n",
        "\n",
        "smodel.summary()"
      ]
    },
    {
      "cell_type": "code",
      "execution_count": 34,
      "id": "1865ec74",
      "metadata": {
        "colab": {
          "base_uri": "https://localhost:8080/",
          "height": 356
        },
        "id": "1865ec74",
        "outputId": "e8f0d379-554a-476b-c88d-09ac5112002c"
      },
      "outputs": [
        {
          "output_type": "error",
          "ename": "ValueError",
          "evalue": "ignored",
          "traceback": [
            "\u001b[0;31m---------------------------------------------------------------------------\u001b[0m",
            "\u001b[0;31mValueError\u001b[0m                                Traceback (most recent call last)",
            "\u001b[0;32m<ipython-input-34-0957d1ad56ed>\u001b[0m in \u001b[0;36m<cell line: 2>\u001b[0;34m()\u001b[0m\n\u001b[1;32m      1\u001b[0m \u001b[0;31m# Multiplicative seasonal component\u001b[0m\u001b[0;34m\u001b[0m\u001b[0;34m\u001b[0m\u001b[0m\n\u001b[0;32m----> 2\u001b[0;31m result_mul = seasonal_decompose(train['Price'][-36:],   # 3 years\n\u001b[0m\u001b[1;32m      3\u001b[0m                                 \u001b[0mmodel\u001b[0m\u001b[0;34m=\u001b[0m\u001b[0;34m'multiplicative'\u001b[0m\u001b[0;34m,\u001b[0m\u001b[0;34m\u001b[0m\u001b[0;34m\u001b[0m\u001b[0m\n\u001b[1;32m      4\u001b[0m                                 extrapolate_trend='freq')\n\u001b[1;32m      5\u001b[0m \u001b[0;34m\u001b[0m\u001b[0m\n",
            "\u001b[0;32m/usr/local/lib/python3.10/dist-packages/statsmodels/tsa/seasonal.py\u001b[0m in \u001b[0;36mseasonal_decompose\u001b[0;34m(x, model, filt, period, two_sided, extrapolate_trend)\u001b[0m\n\u001b[1;32m    157\u001b[0m             \u001b[0mperiod\u001b[0m \u001b[0;34m=\u001b[0m \u001b[0mpfreq\u001b[0m\u001b[0;34m\u001b[0m\u001b[0;34m\u001b[0m\u001b[0m\n\u001b[1;32m    158\u001b[0m         \u001b[0;32melse\u001b[0m\u001b[0;34m:\u001b[0m\u001b[0;34m\u001b[0m\u001b[0;34m\u001b[0m\u001b[0m\n\u001b[0;32m--> 159\u001b[0;31m             raise ValueError(\n\u001b[0m\u001b[1;32m    160\u001b[0m                 \u001b[0;34m\"You must specify a period or x must be a pandas object with \"\u001b[0m\u001b[0;34m\u001b[0m\u001b[0;34m\u001b[0m\u001b[0m\n\u001b[1;32m    161\u001b[0m                 \u001b[0;34m\"a PeriodIndex or a DatetimeIndex with a freq not set to None\"\u001b[0m\u001b[0;34m\u001b[0m\u001b[0;34m\u001b[0m\u001b[0m\n",
            "\u001b[0;31mValueError\u001b[0m: You must specify a period or x must be a pandas object with a PeriodIndex or a DatetimeIndex with a freq not set to None"
          ]
        }
      ],
      "source": [
        "# Multiplicative seasonal component\n",
        "result_mul = seasonal_decompose(train['Price'][-36:], model='multiplicative', extrapolate_trend='freq')\n",
        "\n",
        "seasonal_index = result_mul.seasonal[-12:].to_frame()\n",
        "seasonal_index['month'] = pd.to_datetime(seasonal_index.index).month\n",
        "\n",
        "# merge with the base data\n",
        "train['month'] = train.index.month\n",
        "df = pd.merge(train, seasonal_index, how='left', on='month')\n",
        "df.columns = ['value', 'month', 'seasonal_index']\n",
        "df.index = train.index  # reassign the index"
      ]
    },
    {
      "cell_type": "code",
      "execution_count": null,
      "id": "d9c52d05",
      "metadata": {
        "id": "d9c52d05"
      },
      "outputs": [],
      "source": []
    }
  ],
  "metadata": {
    "kernelspec": {
      "display_name": "Python 3 (ipykernel)",
      "language": "python",
      "name": "python3"
    },
    "language_info": {
      "codemirror_mode": {
        "name": "ipython",
        "version": 3
      },
      "file_extension": ".py",
      "mimetype": "text/x-python",
      "name": "python",
      "nbconvert_exporter": "python",
      "pygments_lexer": "ipython3",
      "version": "3.11.1"
    },
    "colab": {
      "provenance": [],
      "collapsed_sections": [
        "d1f40c31",
        "41ca6858"
      ]
    }
  },
  "nbformat": 4,
  "nbformat_minor": 5
}