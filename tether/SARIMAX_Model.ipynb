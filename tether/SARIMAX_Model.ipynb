{
 "cells": [
  {
   "cell_type": "markdown",
   "id": "96ecf88a",
   "metadata": {},
   "source": [
    "## SARIMAX Model"
   ]
  },
  {
   "cell_type": "markdown",
   "id": "2ed631c2",
   "metadata": {},
   "source": [
    "### 1. Import libraries and get data"
   ]
  },
  {
   "cell_type": "code",
   "execution_count": 29,
   "id": "50dd5f6b",
   "metadata": {},
   "outputs": [],
   "source": [
    "import numpy as np\n",
    "import pandas as pd\n",
    "import matplotlib.pyplot as plt\n",
    "import pmdarima as pmd\n",
    "\n",
    "from sklearn.metrics import mean_squared_error, mean_absolute_error, mean_absolute_percentage_error\n",
    "from statsmodels.tsa.seasonal import seasonal_decompose\n",
    "from dateutil.parser import parse\n",
    "import statsmodels.api as sm"
   ]
  },
  {
   "cell_type": "code",
   "execution_count": 30,
   "id": "1f1895fc",
   "metadata": {},
   "outputs": [
    {
     "data": {
      "text/html": [
       "<div>\n",
       "<style scoped>\n",
       "    .dataframe tbody tr th:only-of-type {\n",
       "        vertical-align: middle;\n",
       "    }\n",
       "\n",
       "    .dataframe tbody tr th {\n",
       "        vertical-align: top;\n",
       "    }\n",
       "\n",
       "    .dataframe thead th {\n",
       "        text-align: right;\n",
       "    }\n",
       "</style>\n",
       "<table border=\"1\" class=\"dataframe\">\n",
       "  <thead>\n",
       "    <tr style=\"text-align: right;\">\n",
       "      <th></th>\n",
       "      <th>Price</th>\n",
       "    </tr>\n",
       "    <tr>\n",
       "      <th>Date</th>\n",
       "      <th></th>\n",
       "    </tr>\n",
       "  </thead>\n",
       "  <tbody>\n",
       "    <tr>\n",
       "      <th>2017-12-01</th>\n",
       "      <td>1.0100</td>\n",
       "    </tr>\n",
       "    <tr>\n",
       "      <th>2017-12-02</th>\n",
       "      <td>0.9959</td>\n",
       "    </tr>\n",
       "    <tr>\n",
       "      <th>2017-12-03</th>\n",
       "      <td>0.9977</td>\n",
       "    </tr>\n",
       "    <tr>\n",
       "      <th>2017-12-04</th>\n",
       "      <td>1.0000</td>\n",
       "    </tr>\n",
       "    <tr>\n",
       "      <th>2017-12-05</th>\n",
       "      <td>1.0000</td>\n",
       "    </tr>\n",
       "    <tr>\n",
       "      <th>...</th>\n",
       "      <td>...</td>\n",
       "    </tr>\n",
       "    <tr>\n",
       "      <th>2023-06-12</th>\n",
       "      <td>1.0000</td>\n",
       "    </tr>\n",
       "    <tr>\n",
       "      <th>2023-06-13</th>\n",
       "      <td>0.9999</td>\n",
       "    </tr>\n",
       "    <tr>\n",
       "      <th>2023-06-14</th>\n",
       "      <td>0.9998</td>\n",
       "    </tr>\n",
       "    <tr>\n",
       "      <th>2023-06-15</th>\n",
       "      <td>0.9993</td>\n",
       "    </tr>\n",
       "    <tr>\n",
       "      <th>2023-06-16</th>\n",
       "      <td>0.9999</td>\n",
       "    </tr>\n",
       "  </tbody>\n",
       "</table>\n",
       "<p>2023 rows × 1 columns</p>\n",
       "</div>"
      ],
      "text/plain": [
       "             Price\n",
       "Date              \n",
       "2017-12-01  1.0100\n",
       "2017-12-02  0.9959\n",
       "2017-12-03  0.9977\n",
       "2017-12-04  1.0000\n",
       "2017-12-05  1.0000\n",
       "...            ...\n",
       "2023-06-12  1.0000\n",
       "2023-06-13  0.9999\n",
       "2023-06-14  0.9998\n",
       "2023-06-15  0.9993\n",
       "2023-06-16  0.9999\n",
       "\n",
       "[2023 rows x 1 columns]"
      ]
     },
     "execution_count": 30,
     "metadata": {},
     "output_type": "execute_result"
    }
   ],
   "source": [
    "# Load the dataset\n",
    "df = pd.read_csv(\"./USDT.csv\")\n",
    "\n",
    "# Drop the unnecessary columns.\n",
    "df.drop(['Open', 'High', 'Low', 'Vol.', 'Change %'], axis=1, inplace=True)\n",
    "\n",
    "# Convert the \"Date\" column to datetime format\n",
    "df['Date'] = pd.to_datetime(df['Date'], format='%b %d, %Y')\n",
    "                                    \n",
    "# Sort the DataFrame by date\n",
    "df = df.sort_values('Date')\n",
    "\n",
    "# Set Date index\n",
    "df.set_index('Date', inplace=True)\n",
    "\n",
    "df"
   ]
  },
  {
   "cell_type": "markdown",
   "id": "74e04437",
   "metadata": {},
   "source": [
    "### 2. Split the data into training, test and validate sets"
   ]
  },
  {
   "cell_type": "code",
   "execution_count": 31,
   "id": "0c144c8d",
   "metadata": {},
   "outputs": [
    {
     "name": "stdout",
     "output_type": "stream",
     "text": [
      "Train shape: (1213, 1)\n",
      "Test shape: (606, 1)\n",
      "Validate shape: (204, 1)\n"
     ]
    }
   ],
   "source": [
    "train_size = int(0.6 * len(df))\n",
    "test_size = int(0.3 * len(df))\n",
    "val_size = len(df) - train_size - test_size\n",
    "\n",
    "train_data = df[:train_size]\n",
    "test_data = df[train_size:train_size+test_size]\n",
    "val_data = df[train_size+test_size:]\n",
    "\n",
    "print(\"Train shape:\", train_data.shape)\n",
    "print(\"Test shape:\", test_data.shape)\n",
    "print(\"Validate shape:\", val_data.shape)"
   ]
  },
  {
   "cell_type": "code",
   "execution_count": 32,
   "id": "081876c3",
   "metadata": {},
   "outputs": [
    {
     "name": "stdout",
     "output_type": "stream",
     "text": [
      "Train shape: (1416, 1)\n",
      "Test shape: (404, 1)\n",
      "Validate shape: (203, 1)\n"
     ]
    }
   ],
   "source": [
    "train_size = int(0.7 * len(df))\n",
    "test_size = int(0.2 * len(df))\n",
    "val_size = len(df) - train_size - test_size\n",
    "\n",
    "train_data = df[:train_size]\n",
    "test_data = df[train_size:train_size+test_size]\n",
    "val_data = df[train_size+test_size:]\n",
    "\n",
    "print(\"Train shape:\", train_data.shape)\n",
    "print(\"Test shape:\", test_data.shape)\n",
    "print(\"Validate shape:\", val_data.shape)"
   ]
  },
  {
   "cell_type": "code",
   "execution_count": 33,
   "id": "91ee204c",
   "metadata": {},
   "outputs": [
    {
     "name": "stdout",
     "output_type": "stream",
     "text": [
      "Train shape: (1213, 1)\n",
      "Test shape: (404, 1)\n",
      "Validate shape: (406, 1)\n"
     ]
    }
   ],
   "source": [
    "train_size = int(0.6 * len(df))\n",
    "test_size = int(0.2 * len(df))\n",
    "val_size = len(df) - train_size - test_size\n",
    "\n",
    "train_data = df[:train_size]\n",
    "test_data = df[train_size:train_size+test_size]\n",
    "val_data = df[train_size+test_size:]\n",
    "\n",
    "print(\"Train shape:\", train_data.shape)\n",
    "print(\"Test shape:\", test_data.shape)\n",
    "print(\"Validate shape:\", val_data.shape)"
   ]
  },
  {
   "cell_type": "markdown",
   "id": "467a515a",
   "metadata": {},
   "source": [
    "## 3. Perform SARIMAX Model"
   ]
  },
  {
   "cell_type": "markdown",
   "id": "5bc39fc6",
   "metadata": {},
   "source": [
    "Exogenous variable"
   ]
  },
  {
   "cell_type": "code",
   "execution_count": 34,
   "id": "c1df3e63",
   "metadata": {},
   "outputs": [
    {
     "name": "stderr",
     "output_type": "stream",
     "text": [
      "C:\\Users\\PHUTRAN\\AppData\\Local\\Temp\\ipykernel_9376\\586218167.py:1: SettingWithCopyWarning: \n",
      "A value is trying to be set on a copy of a slice from a DataFrame.\n",
      "Try using .loc[row_indexer,col_indexer] = value instead\n",
      "\n",
      "See the caveats in the documentation: https://pandas.pydata.org/pandas-docs/stable/user_guide/indexing.html#returning-a-view-versus-a-copy\n",
      "  train_data['seasonal_index'] = train_data.index.day\n"
     ]
    }
   ],
   "source": [
    "train_data['seasonal_index'] = train_data.index.day"
   ]
  },
  {
   "cell_type": "markdown",
   "id": "ed3028f4",
   "metadata": {},
   "source": [
    "### 3.1 Build the best SARIMAX Model from auto_arima"
   ]
  },
  {
   "cell_type": "code",
   "execution_count": 35,
   "id": "dfd38001",
   "metadata": {},
   "outputs": [
    {
     "name": "stdout",
     "output_type": "stream",
     "text": [
      "Performing stepwise search to minimize aic\n",
      " ARIMA(1,0,1)(0,1,1)[12] intercept   : AIC=-9868.896, Time=8.58 sec\n",
      " ARIMA(0,0,0)(0,1,0)[12] intercept   : AIC=-8422.396, Time=1.18 sec\n",
      " ARIMA(1,0,0)(1,1,0)[12] intercept   : AIC=-9794.992, Time=7.04 sec\n",
      " ARIMA(0,0,1)(0,1,1)[12] intercept   : AIC=-9303.856, Time=4.24 sec\n",
      " ARIMA(0,0,0)(0,1,0)[12]             : AIC=-8424.333, Time=0.59 sec\n",
      " ARIMA(1,0,1)(0,1,0)[12] intercept   : AIC=-9412.594, Time=3.64 sec\n",
      " ARIMA(1,0,1)(1,1,1)[12] intercept   : AIC=-10063.515, Time=24.40 sec\n",
      " ARIMA(1,0,1)(1,1,0)[12] intercept   : AIC=-9824.882, Time=8.27 sec\n",
      " ARIMA(1,0,1)(2,1,1)[12] intercept   : AIC=-10012.334, Time=30.53 sec\n",
      " ARIMA(1,0,1)(1,1,2)[12] intercept   : AIC=-9857.359, Time=23.62 sec\n",
      " ARIMA(1,0,1)(0,1,2)[12] intercept   : AIC=-9880.856, Time=21.88 sec\n",
      " ARIMA(1,0,1)(2,1,0)[12] intercept   : AIC=-9864.294, Time=24.90 sec\n",
      " ARIMA(1,0,1)(2,1,2)[12] intercept   : AIC=-10058.857, Time=18.13 sec\n",
      " ARIMA(0,0,1)(1,1,1)[12] intercept   : AIC=-9322.411, Time=3.97 sec\n",
      " ARIMA(1,0,0)(1,1,1)[12] intercept   : AIC=-9818.103, Time=6.39 sec\n",
      " ARIMA(2,0,1)(1,1,1)[12] intercept   : AIC=-9846.540, Time=8.89 sec\n",
      " ARIMA(1,0,2)(1,1,1)[12] intercept   : AIC=-9983.919, Time=17.70 sec\n",
      " ARIMA(0,0,0)(1,1,1)[12] intercept   : AIC=-8640.259, Time=1.54 sec\n",
      " ARIMA(0,0,2)(1,1,1)[12] intercept   : AIC=-9610.872, Time=13.99 sec\n",
      " ARIMA(2,0,0)(1,1,1)[12] intercept   : AIC=-10025.032, Time=14.03 sec\n",
      " ARIMA(2,0,2)(1,1,1)[12] intercept   : AIC=-9999.205, Time=23.79 sec\n",
      " ARIMA(1,0,1)(1,1,1)[12]             : AIC=-10023.011, Time=5.69 sec\n",
      "\n",
      "Best model:  ARIMA(1,0,1)(1,1,1)[12] intercept\n",
      "Total fit time: 273.042 seconds\n"
     ]
    },
    {
     "data": {
      "text/html": [
       "<table class=\"simpletable\">\n",
       "<caption>SARIMAX Results</caption>\n",
       "<tr>\n",
       "  <th>Dep. Variable:</th>                  <td>y</td>               <th>  No. Observations:  </th>    <td>1213</td>   \n",
       "</tr>\n",
       "<tr>\n",
       "  <th>Model:</th>           <td>SARIMAX(1, 0, 1)x(1, 1, 1, 12)</td> <th>  Log Likelihood     </th>  <td>5037.757</td> \n",
       "</tr>\n",
       "<tr>\n",
       "  <th>Date:</th>                   <td>Fri, 16 Jun 2023</td>        <th>  AIC                </th> <td>-10063.515</td>\n",
       "</tr>\n",
       "<tr>\n",
       "  <th>Time:</th>                       <td>23:21:46</td>            <th>  BIC                </th> <td>-10032.969</td>\n",
       "</tr>\n",
       "<tr>\n",
       "  <th>Sample:</th>                         <td>0</td>               <th>  HQIC               </th> <td>-10052.009</td>\n",
       "</tr>\n",
       "<tr>\n",
       "  <th></th>                             <td> - 1213</td>            <th>                     </th>      <td> </td>    \n",
       "</tr>\n",
       "<tr>\n",
       "  <th>Covariance Type:</th>               <td>opg</td>              <th>                     </th>      <td> </td>    \n",
       "</tr>\n",
       "</table>\n",
       "<table class=\"simpletable\">\n",
       "<tr>\n",
       "      <td></td>         <th>coef</th>     <th>std err</th>      <th>z</th>      <th>P>|z|</th>  <th>[0.025</th>    <th>0.975]</th>  \n",
       "</tr>\n",
       "<tr>\n",
       "  <th>intercept</th> <td>-1.772e-05</td> <td>  5.4e-05</td> <td>   -0.328</td> <td> 0.743</td> <td>   -0.000</td> <td> 8.82e-05</td>\n",
       "</tr>\n",
       "<tr>\n",
       "  <th>ar.L1</th>     <td>    0.8626</td> <td>    0.011</td> <td>   81.995</td> <td> 0.000</td> <td>    0.842</td> <td>    0.883</td>\n",
       "</tr>\n",
       "<tr>\n",
       "  <th>ma.L1</th>     <td>   -0.0609</td> <td>    0.018</td> <td>   -3.373</td> <td> 0.001</td> <td>   -0.096</td> <td>   -0.026</td>\n",
       "</tr>\n",
       "<tr>\n",
       "  <th>ar.S.L12</th>  <td>   -0.4279</td> <td>    0.016</td> <td>  -27.051</td> <td> 0.000</td> <td>   -0.459</td> <td>   -0.397</td>\n",
       "</tr>\n",
       "<tr>\n",
       "  <th>ma.S.L12</th>  <td>   -0.4788</td> <td>    0.022</td> <td>  -21.490</td> <td> 0.000</td> <td>   -0.522</td> <td>   -0.435</td>\n",
       "</tr>\n",
       "<tr>\n",
       "  <th>sigma2</th>    <td> 1.314e-05</td> <td> 2.24e-07</td> <td>   58.650</td> <td> 0.000</td> <td> 1.27e-05</td> <td> 1.36e-05</td>\n",
       "</tr>\n",
       "</table>\n",
       "<table class=\"simpletable\">\n",
       "<tr>\n",
       "  <th>Ljung-Box (L1) (Q):</th>     <td>3.40</td> <th>  Jarque-Bera (JB):  </th> <td>6648.06</td>\n",
       "</tr>\n",
       "<tr>\n",
       "  <th>Prob(Q):</th>                <td>0.07</td> <th>  Prob(JB):          </th>  <td>0.00</td>  \n",
       "</tr>\n",
       "<tr>\n",
       "  <th>Heteroskedasticity (H):</th> <td>0.04</td> <th>  Skew:              </th>  <td>-0.26</td> \n",
       "</tr>\n",
       "<tr>\n",
       "  <th>Prob(H) (two-sided):</th>    <td>0.00</td> <th>  Kurtosis:          </th>  <td>14.51</td> \n",
       "</tr>\n",
       "</table><br/><br/>Warnings:<br/>[1] Covariance matrix calculated using the outer product of gradients (complex-step)."
      ],
      "text/plain": [
       "<class 'statsmodels.iolib.summary.Summary'>\n",
       "\"\"\"\n",
       "                                     SARIMAX Results                                      \n",
       "==========================================================================================\n",
       "Dep. Variable:                                  y   No. Observations:                 1213\n",
       "Model:             SARIMAX(1, 0, 1)x(1, 1, 1, 12)   Log Likelihood                5037.757\n",
       "Date:                            Fri, 16 Jun 2023   AIC                         -10063.515\n",
       "Time:                                    23:21:46   BIC                         -10032.969\n",
       "Sample:                                         0   HQIC                        -10052.009\n",
       "                                           - 1213                                         \n",
       "Covariance Type:                              opg                                         \n",
       "==============================================================================\n",
       "                 coef    std err          z      P>|z|      [0.025      0.975]\n",
       "------------------------------------------------------------------------------\n",
       "intercept  -1.772e-05    5.4e-05     -0.328      0.743      -0.000    8.82e-05\n",
       "ar.L1          0.8626      0.011     81.995      0.000       0.842       0.883\n",
       "ma.L1         -0.0609      0.018     -3.373      0.001      -0.096      -0.026\n",
       "ar.S.L12      -0.4279      0.016    -27.051      0.000      -0.459      -0.397\n",
       "ma.S.L12      -0.4788      0.022    -21.490      0.000      -0.522      -0.435\n",
       "sigma2      1.314e-05   2.24e-07     58.650      0.000    1.27e-05    1.36e-05\n",
       "===================================================================================\n",
       "Ljung-Box (L1) (Q):                   3.40   Jarque-Bera (JB):              6648.06\n",
       "Prob(Q):                              0.07   Prob(JB):                         0.00\n",
       "Heteroskedasticity (H):               0.04   Skew:                            -0.26\n",
       "Prob(H) (two-sided):                  0.00   Kurtosis:                        14.51\n",
       "===================================================================================\n",
       "\n",
       "Warnings:\n",
       "[1] Covariance matrix calculated using the outer product of gradients (complex-step).\n",
       "\"\"\""
      ]
     },
     "execution_count": 35,
     "metadata": {},
     "output_type": "execute_result"
    }
   ],
   "source": [
    "# SARIMAX Model\n",
    "import pmdarima as pmd\n",
    "\n",
    "SARIMAX_model = pmd.auto_arima(train_data[['Price']], \n",
    "                        exogenous=train_data[['seasonal_index']],\n",
    "                           start_p=1, start_q=1,\n",
    "                           test='adf',\n",
    "                           max_p=3, max_q=3, m=12,\n",
    "                           start_P=0, seasonal=True,\n",
    "                           d=None, D=1, trace=True,\n",
    "                           error_action='ignore',  \n",
    "                           suppress_warnings=True, \n",
    "                           stepwise=True)\n",
    "\n",
    "SARIMAX_model.summary()"
   ]
  },
  {
   "cell_type": "markdown",
   "id": "fd73245e",
   "metadata": {},
   "source": [
    "### 3.2 Evaluate on Validate data"
   ]
  },
  {
   "cell_type": "code",
   "execution_count": 36,
   "id": "d634cdd2",
   "metadata": {},
   "outputs": [],
   "source": [
    "def evaluate_sarimax_model(y_data):\n",
    "    predictions = (SARIMAX_model.predict(n_periods=len(y_data))).values\n",
    "    mse = mean_squared_error(y_data, predictions)\n",
    "    mae = mean_absolute_error(y_data, predictions)\n",
    "    mape = mean_absolute_percentage_error(y_data, predictions)\n",
    "    rmse = mean_squared_error(y_data, predictions, squared=False)\n",
    "    return predictions, mse, mae, mape, rmse"
   ]
  },
  {
   "cell_type": "code",
   "execution_count": 37,
   "id": "41bee481",
   "metadata": {},
   "outputs": [
    {
     "name": "stdout",
     "output_type": "stream",
     "text": [
      "Price predict on validate data: [1.00036286 0.99991462 1.00002611 1.00028584 1.00031991 1.00028025\n",
      " 1.00045737 1.00062732 0.99987287 0.99995151 1.00026621 0.99984986\n",
      " 0.99984678 0.99980088 0.99994729 0.99992217 1.00011062 1.00021441\n",
      " 1.00014294 1.00032434 0.99997709 0.99989266 1.00020016 0.99974724\n",
      " 0.99994286 0.99972422 0.99985518 0.99995152 1.00007354 1.00011562\n",
      " 1.00015025 1.00032651 0.99980481 0.99978998 1.00010041 0.999663\n",
      " 0.99977348 0.99962866 0.99976615 0.99981044 0.99996082 1.00002926\n",
      " 1.00001843 1.00019685 0.99974977 0.99970512 1.00001427 0.99957021\n",
      " 0.9997171  0.99954067 0.99967535 0.9997419  0.99988014 0.99993729\n",
      " 0.9999459  1.0001234  0.99964437 0.99961248 0.99992217 0.99948095\n",
      " 0.99961226 0.99944935 0.99958524 0.99964226 0.99978569 0.99984767\n",
      " 0.99984796 1.00002585 0.9995605  0.99952314 0.99983261 0.99939017\n",
      " 0.99952814 0.99935945 0.99949482 0.99955591 0.99969713 0.99975704\n",
      " 0.99976089 0.99993861 0.99946741 0.99943239 0.99974195 0.99930003\n",
      " 0.99943516 0.99926894 0.99940453 0.99946388 0.99960604 0.99966683\n",
      " 0.99966917 0.99984696 0.99937826 0.99934224 0.99965176 0.99920962\n",
      " 0.99934596 0.99917868 0.99931418 0.99937428 0.99951603 0.99957645\n",
      " 0.99957943 0.99975719 0.99928742 0.99925183 0.99956137 0.99911932\n",
      " 0.99925515 0.99908832 0.99922386 0.99928364 0.99942557 0.99948614\n",
      " 0.99948885 0.99966662 0.99919731 0.99916154 0.99947106 0.99902898\n",
      " 0.99916502 0.998998   0.99913352 0.99919344 0.9993353  0.9993958\n",
      " 0.99939863 0.9995764  0.99910688 0.99907119 0.99938072 0.99893865\n",
      " 0.99907461 0.99890767 0.99904319 0.99910305 0.99924494 0.99930548\n",
      " 0.99930825 0.99948602 0.99901659 0.99898087 0.9992904  0.99884832\n",
      " 0.99898431 0.99881734 0.99895286 0.99901275 0.99915462 0.99921514\n",
      " 0.99921794 0.99939571 0.99892625 0.99889053 0.99920007 0.99875799\n",
      " 0.99889397 0.99872701 0.99886253 0.9989224  0.99906429 0.99912481\n",
      " 0.9991276  0.99930537 0.99883592 0.99880021 0.99910974 0.99866766\n",
      " 0.99880364 0.99863668 0.9987722  0.99883208 0.99897396 0.99903448\n",
      " 0.99903727 0.99921504 0.99874559 0.99870987 0.99901941 0.99857733\n",
      " 0.99871331 0.99854635 0.99868187 0.99874175 0.99888363 0.99894415\n",
      " 0.99894694 0.99912471 0.99865526 0.99861954 0.99892908 0.998487\n",
      " 0.99862298 0.99845602 0.99859154 0.99865142 0.9987933  0.99885382\n",
      " 0.99885661 0.99903438 0.99856493 0.99852921 0.99883875 0.99839667\n",
      " 0.99853265 0.99836569 0.99850121 0.99856109 0.99870297 0.99876349\n",
      " 0.99876628 0.99894405 0.9984746  0.99843888 0.99874841 0.99830634\n",
      " 0.99844232 0.99827536 0.99841088 0.99847076 0.99861264 0.99867316\n",
      " 0.99867595 0.99885372 0.99838427 0.99834855 0.99865808 0.99821601\n",
      " 0.99835199 0.99818503 0.99832055 0.99838043 0.9985223  0.99858283\n",
      " 0.99858562 0.99876339 0.99829394 0.99825822 0.99856775 0.99812568\n",
      " 0.99826166 0.9980947  0.99823022 0.9982901  0.99843197 0.9984925\n",
      " 0.99849529 0.99867306 0.99820361 0.99816789 0.99847742 0.99803535\n",
      " 0.99817133 0.99800437 0.99813989 0.99819977 0.99834164 0.99840217\n",
      " 0.99840496 0.99858273 0.99811328 0.99807756 0.99838709 0.99794502\n",
      " 0.998081   0.99791404 0.99804956 0.99810943 0.99825131 0.99831184\n",
      " 0.99831463 0.9984924  0.99802295 0.99798723 0.99829676 0.99785469\n",
      " 0.99799067 0.99782371 0.99795923 0.9980191  0.99816098 0.99822151\n",
      " 0.9982243  0.99840207 0.99793262 0.9978969  0.99820643 0.99776436\n",
      " 0.99790034 0.99773338 0.9978689  0.99792877 0.99807065 0.99813118\n",
      " 0.99813397 0.99831174 0.99784229 0.99780657 0.9981161  0.99767403\n",
      " 0.99781001 0.99764305 0.99777857 0.99783844 0.99798032 0.99804085\n",
      " 0.99804364 0.99822141 0.99775196 0.99771624 0.99802577 0.9975837\n",
      " 0.99771968 0.99755272 0.99768824 0.99774811 0.99788999 0.99795052\n",
      " 0.99795331 0.99813108 0.99766163 0.99762591 0.99793544 0.99749337\n",
      " 0.99762935 0.99746239 0.99759791 0.99765778 0.99779966 0.99786019\n",
      " 0.99786298 0.99804075 0.9975713  0.99753558 0.99784511 0.99740304\n",
      " 0.99753902 0.99737205 0.99750758 0.99756745 0.99770933 0.99776986\n",
      " 0.99777265 0.99795042 0.99748097 0.99744525 0.99775478 0.99731271\n",
      " 0.99744869 0.99728172 0.99741725 0.99747712 0.997619   0.99767953\n",
      " 0.99768232 0.99786009 0.99739064 0.99735492 0.99766445 0.99722238\n",
      " 0.99735836 0.99719139 0.99732692 0.99738679 0.99752867 0.9975892\n",
      " 0.99759199 0.99776976 0.99730031 0.99726459 0.99757412 0.99713205\n",
      " 0.99726803 0.99710106 0.99723659 0.99729646 0.99743834 0.99749887\n",
      " 0.99750166 0.99767943 0.99720998 0.99717426 0.99748379 0.99704172\n",
      " 0.9971777  0.99701073 0.99714626 0.99720613 0.99734801 0.99740854\n",
      " 0.99741133 0.9975891  0.99711965 0.99708393 0.99739346 0.99695139\n",
      " 0.99708737 0.9969204  0.99705593 0.9971158  0.99725768 0.99731821\n",
      " 0.997321   0.99749877 0.99702932 0.9969936 ]\n"
     ]
    },
    {
     "name": "stderr",
     "output_type": "stream",
     "text": [
      "C:\\Users\\PHUTRAN\\AppData\\Local\\Programs\\Python\\Python311\\Lib\\site-packages\\statsmodels\\tsa\\base\\tsa_model.py:834: ValueWarning: No supported index is available. Prediction results will be given with an integer index beginning at `start`.\n",
      "  return get_prediction_index(\n"
     ]
    }
   ],
   "source": [
    "x_val= np.array(val_data.index).reshape(-1, 1)\n",
    "y_val = np.array(val_data)\n",
    "y_pred_val, val_mse, val_mae, val_mape, val_rmse = evaluate_sarimax_model(y_val)\n",
    "\n",
    "print(\"Price predict on validate data:\", y_pred_val)"
   ]
  },
  {
   "cell_type": "markdown",
   "id": "d89652c4",
   "metadata": {},
   "source": [
    "### 3.3 Evaluate on Test data"
   ]
  },
  {
   "cell_type": "code",
   "execution_count": 38,
   "id": "9b081a30",
   "metadata": {},
   "outputs": [
    {
     "name": "stdout",
     "output_type": "stream",
     "text": [
      "Price predict on test data: [1.00036286 0.99991462 1.00002611 1.00028584 1.00031991 1.00028025\n",
      " 1.00045737 1.00062732 0.99987287 0.99995151 1.00026621 0.99984986\n",
      " 0.99984678 0.99980088 0.99994729 0.99992217 1.00011062 1.00021441\n",
      " 1.00014294 1.00032434 0.99997709 0.99989266 1.00020016 0.99974724\n",
      " 0.99994286 0.99972422 0.99985518 0.99995152 1.00007354 1.00011562\n",
      " 1.00015025 1.00032651 0.99980481 0.99978998 1.00010041 0.999663\n",
      " 0.99977348 0.99962866 0.99976615 0.99981044 0.99996082 1.00002926\n",
      " 1.00001843 1.00019685 0.99974977 0.99970512 1.00001427 0.99957021\n",
      " 0.9997171  0.99954067 0.99967535 0.9997419  0.99988014 0.99993729\n",
      " 0.9999459  1.0001234  0.99964437 0.99961248 0.99992217 0.99948095\n",
      " 0.99961226 0.99944935 0.99958524 0.99964226 0.99978569 0.99984767\n",
      " 0.99984796 1.00002585 0.9995605  0.99952314 0.99983261 0.99939017\n",
      " 0.99952814 0.99935945 0.99949482 0.99955591 0.99969713 0.99975704\n",
      " 0.99976089 0.99993861 0.99946741 0.99943239 0.99974195 0.99930003\n",
      " 0.99943516 0.99926894 0.99940453 0.99946388 0.99960604 0.99966683\n",
      " 0.99966917 0.99984696 0.99937826 0.99934224 0.99965176 0.99920962\n",
      " 0.99934596 0.99917868 0.99931418 0.99937428 0.99951603 0.99957645\n",
      " 0.99957943 0.99975719 0.99928742 0.99925183 0.99956137 0.99911932\n",
      " 0.99925515 0.99908832 0.99922386 0.99928364 0.99942557 0.99948614\n",
      " 0.99948885 0.99966662 0.99919731 0.99916154 0.99947106 0.99902898\n",
      " 0.99916502 0.998998   0.99913352 0.99919344 0.9993353  0.9993958\n",
      " 0.99939863 0.9995764  0.99910688 0.99907119 0.99938072 0.99893865\n",
      " 0.99907461 0.99890767 0.99904319 0.99910305 0.99924494 0.99930548\n",
      " 0.99930825 0.99948602 0.99901659 0.99898087 0.9992904  0.99884832\n",
      " 0.99898431 0.99881734 0.99895286 0.99901275 0.99915462 0.99921514\n",
      " 0.99921794 0.99939571 0.99892625 0.99889053 0.99920007 0.99875799\n",
      " 0.99889397 0.99872701 0.99886253 0.9989224  0.99906429 0.99912481\n",
      " 0.9991276  0.99930537 0.99883592 0.99880021 0.99910974 0.99866766\n",
      " 0.99880364 0.99863668 0.9987722  0.99883208 0.99897396 0.99903448\n",
      " 0.99903727 0.99921504 0.99874559 0.99870987 0.99901941 0.99857733\n",
      " 0.99871331 0.99854635 0.99868187 0.99874175 0.99888363 0.99894415\n",
      " 0.99894694 0.99912471 0.99865526 0.99861954 0.99892908 0.998487\n",
      " 0.99862298 0.99845602 0.99859154 0.99865142 0.9987933  0.99885382\n",
      " 0.99885661 0.99903438 0.99856493 0.99852921 0.99883875 0.99839667\n",
      " 0.99853265 0.99836569 0.99850121 0.99856109 0.99870297 0.99876349\n",
      " 0.99876628 0.99894405 0.9984746  0.99843888 0.99874841 0.99830634\n",
      " 0.99844232 0.99827536 0.99841088 0.99847076 0.99861264 0.99867316\n",
      " 0.99867595 0.99885372 0.99838427 0.99834855 0.99865808 0.99821601\n",
      " 0.99835199 0.99818503 0.99832055 0.99838043 0.9985223  0.99858283\n",
      " 0.99858562 0.99876339 0.99829394 0.99825822 0.99856775 0.99812568\n",
      " 0.99826166 0.9980947  0.99823022 0.9982901  0.99843197 0.9984925\n",
      " 0.99849529 0.99867306 0.99820361 0.99816789 0.99847742 0.99803535\n",
      " 0.99817133 0.99800437 0.99813989 0.99819977 0.99834164 0.99840217\n",
      " 0.99840496 0.99858273 0.99811328 0.99807756 0.99838709 0.99794502\n",
      " 0.998081   0.99791404 0.99804956 0.99810943 0.99825131 0.99831184\n",
      " 0.99831463 0.9984924  0.99802295 0.99798723 0.99829676 0.99785469\n",
      " 0.99799067 0.99782371 0.99795923 0.9980191  0.99816098 0.99822151\n",
      " 0.9982243  0.99840207 0.99793262 0.9978969  0.99820643 0.99776436\n",
      " 0.99790034 0.99773338 0.9978689  0.99792877 0.99807065 0.99813118\n",
      " 0.99813397 0.99831174 0.99784229 0.99780657 0.9981161  0.99767403\n",
      " 0.99781001 0.99764305 0.99777857 0.99783844 0.99798032 0.99804085\n",
      " 0.99804364 0.99822141 0.99775196 0.99771624 0.99802577 0.9975837\n",
      " 0.99771968 0.99755272 0.99768824 0.99774811 0.99788999 0.99795052\n",
      " 0.99795331 0.99813108 0.99766163 0.99762591 0.99793544 0.99749337\n",
      " 0.99762935 0.99746239 0.99759791 0.99765778 0.99779966 0.99786019\n",
      " 0.99786298 0.99804075 0.9975713  0.99753558 0.99784511 0.99740304\n",
      " 0.99753902 0.99737205 0.99750758 0.99756745 0.99770933 0.99776986\n",
      " 0.99777265 0.99795042 0.99748097 0.99744525 0.99775478 0.99731271\n",
      " 0.99744869 0.99728172 0.99741725 0.99747712 0.997619   0.99767953\n",
      " 0.99768232 0.99786009 0.99739064 0.99735492 0.99766445 0.99722238\n",
      " 0.99735836 0.99719139 0.99732692 0.99738679 0.99752867 0.9975892\n",
      " 0.99759199 0.99776976 0.99730031 0.99726459 0.99757412 0.99713205\n",
      " 0.99726803 0.99710106 0.99723659 0.99729646 0.99743834 0.99749887\n",
      " 0.99750166 0.99767943 0.99720998 0.99717426 0.99748379 0.99704172\n",
      " 0.9971777  0.99701073 0.99714626 0.99720613 0.99734801 0.99740854\n",
      " 0.99741133 0.9975891  0.99711965 0.99708393 0.99739346 0.99695139\n",
      " 0.99708737 0.9969204  0.99705593 0.9971158  0.99725768 0.99731821\n",
      " 0.997321   0.99749877]\n"
     ]
    },
    {
     "name": "stderr",
     "output_type": "stream",
     "text": [
      "C:\\Users\\PHUTRAN\\AppData\\Local\\Programs\\Python\\Python311\\Lib\\site-packages\\statsmodels\\tsa\\base\\tsa_model.py:834: ValueWarning: No supported index is available. Prediction results will be given with an integer index beginning at `start`.\n",
      "  return get_prediction_index(\n"
     ]
    }
   ],
   "source": [
    "x_test = np.array(test_data.index).reshape(-1, 1)\n",
    "y_test = np.array(test_data)\n",
    "y_pred_test, test_mse, test_mae, test_mape, test_rmse = evaluate_sarimax_model(y_test)\n",
    "\n",
    "print(\"Price predict on test data:\", y_pred_test)"
   ]
  },
  {
   "cell_type": "markdown",
   "id": "1b737492",
   "metadata": {},
   "source": [
    "### 3.4 Predict price for the next 30 days"
   ]
  },
  {
   "cell_type": "code",
   "execution_count": 39,
   "id": "7e206009",
   "metadata": {},
   "outputs": [
    {
     "name": "stdout",
     "output_type": "stream",
     "text": [
      "Predicted closing prices for the next 30 days:\n",
      "[1.00036286 0.99991462 1.00002611 1.00028584 1.00031991 1.00028025\n",
      " 1.00045737 1.00062732 0.99987287 0.99995151 1.00026621 0.99984986\n",
      " 0.99984678 0.99980088 0.99994729 0.99992217 1.00011062 1.00021441\n",
      " 1.00014294 1.00032434 0.99997709 0.99989266 1.00020016 0.99974724\n",
      " 0.99994286 0.99972422 0.99985518 0.99995152 1.00007354 1.00011562]\n"
     ]
    },
    {
     "name": "stderr",
     "output_type": "stream",
     "text": [
      "C:\\Users\\PHUTRAN\\AppData\\Local\\Programs\\Python\\Python311\\Lib\\site-packages\\statsmodels\\tsa\\base\\tsa_model.py:834: ValueWarning: No supported index is available. Prediction results will be given with an integer index beginning at `start`.\n",
      "  return get_prediction_index(\n"
     ]
    }
   ],
   "source": [
    "last_index = len(df)\n",
    "date_range = pd.date_range(start=df.index[-1], periods=30, freq='D')\n",
    "\n",
    "# Create an array of 30 consecutive integers starting from last_index\n",
    "x_next_30_days = np.array(range(last_index+1, last_index+31)).reshape(-1, 1)\n",
    "\n",
    "# Predict the closing prices for the next 30 days\n",
    "y_next_30_days = (SARIMAX_model.predict(n_periods=len(x_next_30_days))).values\n",
    "\n",
    "# Print the predicted closing prices for the next 30 days\n",
    "print('Predicted closing prices for the next 30 days:')\n",
    "print(y_next_30_days)"
   ]
  },
  {
   "cell_type": "markdown",
   "id": "bbe5c0ad",
   "metadata": {},
   "source": [
    "### 4.  Evaluate accuracy validate, test data"
   ]
  },
  {
   "cell_type": "code",
   "execution_count": 40,
   "id": "1feec602",
   "metadata": {},
   "outputs": [
    {
     "name": "stdout",
     "output_type": "stream",
     "text": [
      "               MSE       MAE      MAPE      RMSE\n",
      "Validate  0.000004  0.001624  0.001624  0.002003\n",
      "Test      0.000004  0.001763  0.001762  0.001975\n"
     ]
    }
   ],
   "source": [
    "metrics = {\n",
    "    'MSE': [val_mse, test_mse],\n",
    "    'MAE': [val_mae, test_mae],\n",
    "    'MAPE': [val_mape, test_mape],\n",
    "    'RMSE': [val_rmse, test_rmse],\n",
    "}\n",
    "\n",
    "df = pd.DataFrame(metrics, index=['Validate', 'Test'])\n",
    "\n",
    "print(df)\n"
   ]
  },
  {
   "cell_type": "code",
   "execution_count": 41,
   "id": "d6037eda",
   "metadata": {},
   "outputs": [
    {
     "data": {
      "image/png": "[encoded data removed]",
      "text/plain": [
       "<Figure size 640x480 with 1 Axes>"
      ]
     },
     "metadata": {},
     "output_type": "display_data"
    }
   ],
   "source": [
    "plt.plot(train_data.index, train_data['Price'])\n",
    "plt.plot(test_data.index, test_data['Price'])\n",
    "plt.plot(val_data.index, val_data['Price'])\n",
    "\n",
    "plt.plot(test_data.index, y_pred_test)\n",
    "plt.plot(val_data.index, y_pred_val)\n",
    "plt.plot(date_range, y_next_30_days)\n",
    "\n",
    "plt.legend(['Train', 'Test', 'Validate','PredictTestData', 'PredictValidateData','PredictNext30Day'])\n",
    "plt.show()"
   ]
  }
 ],
 "metadata": {
  "kernelspec": {
   "display_name": "Python 3 (ipykernel)",
   "language": "python",
   "name": "python3"
  },
  "language_info": {
   "codemirror_mode": {
    "name": "ipython",
    "version": 3
   },
   "file_extension": ".py",
   "mimetype": "text/x-python",
   "name": "python",
   "nbconvert_exporter": "python",
   "pygments_lexer": "ipython3",
   "version": "3.11.1"
  }
 },
 "nbformat": 4,
 "nbformat_minor": 5
}
