{
 "cells": [
  {
   "cell_type": "markdown",
   "id": "96ecf88a",
   "metadata": {},
   "source": [
    "## SARIMAX Model"
   ]
  },
  {
   "cell_type": "markdown",
   "id": "2ed631c2",
   "metadata": {},
   "source": [
    "### 1. Import libraries and get data"
   ]
  },
  {
   "cell_type": "code",
   "execution_count": 2,
   "id": "50dd5f6b",
   "metadata": {},
   "outputs": [],
   "source": [
    "import numpy as np\n",
    "import pandas as pd\n",
    "import matplotlib.pyplot as plt\n",
    "import pmdarima as pmd\n",
    "\n",
    "from sklearn.metrics import mean_squared_error, mean_absolute_error\n",
    "from statsmodels.tsa.seasonal import seasonal_decompose\n",
    "from dateutil.parser import parse"
   ]
  },
  {
   "cell_type": "code",
   "execution_count": 3,
   "id": "1f1895fc",
   "metadata": {},
   "outputs": [
    {
     "data": {
      "text/html": [
       "<div>\n",
       "<style scoped>\n",
       "    .dataframe tbody tr th:only-of-type {\n",
       "        vertical-align: middle;\n",
       "    }\n",
       "\n",
       "    .dataframe tbody tr th {\n",
       "        vertical-align: top;\n",
       "    }\n",
       "\n",
       "    .dataframe thead th {\n",
       "        text-align: right;\n",
       "    }\n",
       "</style>\n",
       "<table border=\"1\" class=\"dataframe\">\n",
       "  <thead>\n",
       "    <tr style=\"text-align: right;\">\n",
       "      <th></th>\n",
       "      <th>Close</th>\n",
       "    </tr>\n",
       "    <tr>\n",
       "      <th>Date</th>\n",
       "      <th></th>\n",
       "    </tr>\n",
       "  </thead>\n",
       "  <tbody>\n",
       "    <tr>\n",
       "      <th>2017-12-01</th>\n",
       "      <td>1.012260</td>\n",
       "    </tr>\n",
       "    <tr>\n",
       "      <th>2018-01-01</th>\n",
       "      <td>0.990274</td>\n",
       "    </tr>\n",
       "    <tr>\n",
       "      <th>2018-02-01</th>\n",
       "      <td>0.998903</td>\n",
       "    </tr>\n",
       "    <tr>\n",
       "      <th>2018-03-01</th>\n",
       "      <td>1.000770</td>\n",
       "    </tr>\n",
       "    <tr>\n",
       "      <th>2018-04-01</th>\n",
       "      <td>0.998919</td>\n",
       "    </tr>\n",
       "    <tr>\n",
       "      <th>...</th>\n",
       "      <td>...</td>\n",
       "    </tr>\n",
       "    <tr>\n",
       "      <th>2022-12-01</th>\n",
       "      <td>0.999674</td>\n",
       "    </tr>\n",
       "    <tr>\n",
       "      <th>2023-01-01</th>\n",
       "      <td>1.000117</td>\n",
       "    </tr>\n",
       "    <tr>\n",
       "      <th>2023-02-01</th>\n",
       "      <td>1.000154</td>\n",
       "    </tr>\n",
       "    <tr>\n",
       "      <th>2023-03-01</th>\n",
       "      <td>1.000124</td>\n",
       "    </tr>\n",
       "    <tr>\n",
       "      <th>2023-04-01</th>\n",
       "      <td>1.000438</td>\n",
       "    </tr>\n",
       "  </tbody>\n",
       "</table>\n",
       "<p>65 rows × 1 columns</p>\n",
       "</div>"
      ],
      "text/plain": [
       "               Close\n",
       "Date                \n",
       "2017-12-01  1.012260\n",
       "2018-01-01  0.990274\n",
       "2018-02-01  0.998903\n",
       "2018-03-01  1.000770\n",
       "2018-04-01  0.998919\n",
       "...              ...\n",
       "2022-12-01  0.999674\n",
       "2023-01-01  1.000117\n",
       "2023-02-01  1.000154\n",
       "2023-03-01  1.000124\n",
       "2023-04-01  1.000438\n",
       "\n",
       "[65 rows x 1 columns]"
      ]
     },
     "execution_count": 3,
     "metadata": {},
     "output_type": "execute_result"
    }
   ],
   "source": [
    "# Load the dataset\n",
    "df = pd.read_csv(\"./USDT-Monthly.csv\")\n",
    "\n",
    "# Drop the unnecessary columns.\n",
    "df.drop(['Open', 'High', 'Low', 'Adj Close', 'Volume'], axis=1, inplace=True)\n",
    "\n",
    "# Convert the \"Date\" column to datetime format\n",
    "df['Date'] = pd.to_datetime(df['Date'], format='%Y-%m-%d')\n",
    "\n",
    "# Format the 'Date' column\n",
    "# df['Date'] = df['Date'].dt.strftime('%Y-%m-%d')\n",
    "                                    \n",
    "# Sort the DataFrame by date\n",
    "df = df.sort_values('Date')\n",
    "\n",
    "# Set Date index\n",
    "df.set_index('Date', inplace=True)\n",
    "\n",
    "df"
   ]
  },
  {
   "cell_type": "markdown",
   "id": "74e04437",
   "metadata": {},
   "source": [
    "### 2. Split data train/test"
   ]
  },
  {
   "cell_type": "code",
   "execution_count": 4,
   "id": "0c144c8d",
   "metadata": {},
   "outputs": [
    {
     "name": "stdout",
     "output_type": "stream",
     "text": [
      "Train shape: (39, 1)\n",
      "Test shape:                Close\n",
      "Date                \n",
      "2021-03-01  1.000020\n",
      "2021-04-01  1.000009\n",
      "2021-05-01  1.000533\n",
      "2021-06-01  1.000216\n",
      "2021-07-01  1.000272\n",
      "2021-08-01  1.000529\n",
      "2021-09-01  1.000155\n",
      "2021-10-01  1.000376\n",
      "2021-11-01  1.000286\n",
      "2021-12-01  1.000189\n",
      "2022-01-01  1.000485\n",
      "2022-02-01  1.000351\n",
      "2022-03-01  1.000304\n",
      "2022-04-01  1.000155\n",
      "2022-05-01  0.999388\n",
      "2022-06-01  0.998819\n",
      "2022-07-01  1.000328\n",
      "2022-08-01  1.000016\n",
      "2022-09-01  1.000049\n",
      "2022-10-01  0.999947\n",
      "2022-11-01  1.000015\n",
      "2022-12-01  0.999674\n",
      "2023-01-01  1.000117\n",
      "2023-02-01  1.000154\n",
      "2023-03-01  1.000124\n",
      "2023-04-01  1.000438\n"
     ]
    }
   ],
   "source": [
    "# Split the data into training (60%) and test (40%) sets\n",
    "train_size = int(0.6 * len(df))\n",
    "\n",
    "train = df[:train_size][['Close']]\n",
    "test = df[train_size:][['Close']]\n",
    "\n",
    "# Check the sizes of the data sets\n",
    "print(\"Train shape:\", train.shape)\n",
    "print(\"Test shape:\", test)"
   ]
  },
  {
   "cell_type": "markdown",
   "id": "467a515a",
   "metadata": {},
   "source": [
    "## 3. Perform SARIMAX Model"
   ]
  },
  {
   "cell_type": "markdown",
   "id": "5bc39fc6",
   "metadata": {},
   "source": [
    "### 3.1 Seasonal train data"
   ]
  },
  {
   "cell_type": "code",
   "execution_count": 5,
   "id": "c1df3e63",
   "metadata": {},
   "outputs": [],
   "source": [
    "result_mul = seasonal_decompose(train.Close[-36:], model='multiplicative', extrapolate_trend='freq')\n",
    "\n",
    "seasonal_index = result_mul.seasonal[-12:].to_frame()\n",
    "seasonal_index['month'] = pd.to_datetime(seasonal_index.index).month\n",
    "\n",
    "train['month'] = train.index.month\n",
    "train = pd.merge(train, seasonal_index, how='left', on='month')\n",
    "train.columns = ['Close', 'month', 'seasonal_index']"
   ]
  },
  {
   "cell_type": "markdown",
   "id": "ed3028f4",
   "metadata": {},
   "source": [
    "### 3.2 Build model"
   ]
  },
  {
   "cell_type": "code",
   "execution_count": 6,
   "id": "dfd38001",
   "metadata": {},
   "outputs": [
    {
     "name": "stdout",
     "output_type": "stream",
     "text": [
      "Performing stepwise search to minimize aic\n",
      " ARIMA(1,1,1)(0,1,1)[12]             : AIC=-175.267, Time=0.98 sec\n",
      " ARIMA(0,1,0)(0,1,0)[12]             : AIC=-169.430, Time=0.04 sec\n",
      " ARIMA(1,1,0)(1,1,0)[12]             : AIC=-169.556, Time=0.35 sec\n",
      " ARIMA(0,1,1)(0,1,1)[12]             : AIC=-176.423, Time=0.39 sec\n",
      " ARIMA(0,1,1)(0,1,0)[12]             : AIC=-177.260, Time=0.27 sec\n",
      " ARIMA(0,1,1)(1,1,0)[12]             : AIC=-176.887, Time=0.55 sec\n",
      " ARIMA(0,1,1)(1,1,1)[12]             : AIC=-175.288, Time=1.58 sec\n",
      " ARIMA(1,1,1)(0,1,0)[12]             : AIC=-173.119, Time=0.25 sec\n",
      " ARIMA(0,1,2)(0,1,0)[12]             : AIC=-176.494, Time=0.37 sec\n",
      " ARIMA(1,1,0)(0,1,0)[12]             : AIC=-169.550, Time=0.04 sec\n",
      " ARIMA(1,1,2)(0,1,0)[12]             : AIC=-175.734, Time=0.22 sec\n",
      " ARIMA(0,1,1)(0,1,0)[12] intercept   : AIC=-178.202, Time=0.47 sec\n",
      " ARIMA(0,1,1)(1,1,0)[12] intercept   : AIC=-177.828, Time=0.71 sec\n",
      " ARIMA(0,1,1)(0,1,1)[12] intercept   : AIC=-175.943, Time=0.80 sec\n",
      " ARIMA(0,1,1)(1,1,1)[12] intercept   : AIC=-171.269, Time=1.43 sec\n",
      " ARIMA(0,1,0)(0,1,0)[12] intercept   : AIC=-167.446, Time=0.04 sec\n",
      " ARIMA(1,1,1)(0,1,0)[12] intercept   : AIC=-176.080, Time=0.69 sec\n",
      " ARIMA(0,1,2)(0,1,0)[12] intercept   : AIC=inf, Time=0.52 sec\n",
      " ARIMA(1,1,0)(0,1,0)[12] intercept   : AIC=-167.605, Time=0.18 sec\n",
      " ARIMA(1,1,2)(0,1,0)[12] intercept   : AIC=-176.854, Time=0.35 sec\n",
      "\n",
      "Best model:  ARIMA(0,1,1)(0,1,0)[12] intercept\n",
      "Total fit time: 10.248 seconds\n"
     ]
    },
    {
     "data": {
      "text/html": [
       "<table class=\"simpletable\">\n",
       "<caption>SARIMAX Results</caption>\n",
       "<tr>\n",
       "  <th>Dep. Variable:</th>                  <td>y</td>                <th>  No. Observations:  </th>    <td>39</td>   \n",
       "</tr>\n",
       "<tr>\n",
       "  <th>Model:</th>           <td>SARIMAX(0, 1, 1)x(0, 1, [], 12)</td> <th>  Log Likelihood     </th>  <td>92.101</td> \n",
       "</tr>\n",
       "<tr>\n",
       "  <th>Date:</th>                   <td>Wed, 03 May 2023</td>         <th>  AIC                </th> <td>-178.202</td>\n",
       "</tr>\n",
       "<tr>\n",
       "  <th>Time:</th>                       <td>23:06:10</td>             <th>  BIC                </th> <td>-174.427</td>\n",
       "</tr>\n",
       "<tr>\n",
       "  <th>Sample:</th>                         <td>0</td>                <th>  HQIC               </th> <td>-177.115</td>\n",
       "</tr>\n",
       "<tr>\n",
       "  <th></th>                              <td> - 39</td>              <th>                     </th>     <td> </td>   \n",
       "</tr>\n",
       "<tr>\n",
       "  <th>Covariance Type:</th>               <td>opg</td>               <th>                     </th>     <td> </td>   \n",
       "</tr>\n",
       "</table>\n",
       "<table class=\"simpletable\">\n",
       "<tr>\n",
       "      <td></td>         <th>coef</th>     <th>std err</th>      <th>z</th>      <th>P>|z|</th>  <th>[0.025</th>    <th>0.975]</th>  \n",
       "</tr>\n",
       "<tr>\n",
       "  <th>intercept</th> <td>   -0.0004</td> <td>    0.000</td> <td>   -1.649</td> <td> 0.099</td> <td>   -0.001</td> <td>  7.5e-05</td>\n",
       "</tr>\n",
       "<tr>\n",
       "  <th>ma.L1</th>     <td>   -0.9227</td> <td>    0.356</td> <td>   -2.590</td> <td> 0.010</td> <td>   -1.621</td> <td>   -0.225</td>\n",
       "</tr>\n",
       "<tr>\n",
       "  <th>sigma2</th>    <td> 4.554e-05</td> <td> 2.13e-05</td> <td>    2.133</td> <td> 0.033</td> <td>  3.7e-06</td> <td> 8.74e-05</td>\n",
       "</tr>\n",
       "</table>\n",
       "<table class=\"simpletable\">\n",
       "<tr>\n",
       "  <th>Ljung-Box (L1) (Q):</th>     <td>0.21</td> <th>  Jarque-Bera (JB):  </th> <td>0.98</td> \n",
       "</tr>\n",
       "<tr>\n",
       "  <th>Prob(Q):</th>                <td>0.65</td> <th>  Prob(JB):          </th> <td>0.61</td> \n",
       "</tr>\n",
       "<tr>\n",
       "  <th>Heteroskedasticity (H):</th> <td>0.41</td> <th>  Skew:              </th> <td>-0.17</td>\n",
       "</tr>\n",
       "<tr>\n",
       "  <th>Prob(H) (two-sided):</th>    <td>0.20</td> <th>  Kurtosis:          </th> <td>3.89</td> \n",
       "</tr>\n",
       "</table><br/><br/>Warnings:<br/>[1] Covariance matrix calculated using the outer product of gradients (complex-step)."
      ],
      "text/plain": [
       "<class 'statsmodels.iolib.summary.Summary'>\n",
       "\"\"\"\n",
       "                                      SARIMAX Results                                      \n",
       "===========================================================================================\n",
       "Dep. Variable:                                   y   No. Observations:                   39\n",
       "Model:             SARIMAX(0, 1, 1)x(0, 1, [], 12)   Log Likelihood                  92.101\n",
       "Date:                             Wed, 03 May 2023   AIC                           -178.202\n",
       "Time:                                     23:06:10   BIC                           -174.427\n",
       "Sample:                                          0   HQIC                          -177.115\n",
       "                                              - 39                                         \n",
       "Covariance Type:                               opg                                         \n",
       "==============================================================================\n",
       "                 coef    std err          z      P>|z|      [0.025      0.975]\n",
       "------------------------------------------------------------------------------\n",
       "intercept     -0.0004      0.000     -1.649      0.099      -0.001     7.5e-05\n",
       "ma.L1         -0.9227      0.356     -2.590      0.010      -1.621      -0.225\n",
       "sigma2      4.554e-05   2.13e-05      2.133      0.033     3.7e-06    8.74e-05\n",
       "===================================================================================\n",
       "Ljung-Box (L1) (Q):                   0.21   Jarque-Bera (JB):                 0.98\n",
       "Prob(Q):                              0.65   Prob(JB):                         0.61\n",
       "Heteroskedasticity (H):               0.41   Skew:                            -0.17\n",
       "Prob(H) (two-sided):                  0.20   Kurtosis:                         3.89\n",
       "===================================================================================\n",
       "\n",
       "Warnings:\n",
       "[1] Covariance matrix calculated using the outer product of gradients (complex-step).\n",
       "\"\"\""
      ]
     },
     "execution_count": 6,
     "metadata": {},
     "output_type": "execute_result"
    }
   ],
   "source": [
    "# SARIMAX Model\n",
    "import pmdarima as pmd\n",
    "\n",
    "SARIMAX_model = pmd.auto_arima(train[['Close']], exogenous=train[['seasonal_index']],\n",
    "                           start_p=1, start_q=1,\n",
    "                           test='adf',\n",
    "                           max_p=3, max_q=3, m=12,\n",
    "                           start_P=0, seasonal=True,\n",
    "                           d=None, D=1, trace=True,\n",
    "                           error_action='ignore',  \n",
    "                           suppress_warnings=True, \n",
    "                           stepwise=True)\n",
    "\n",
    "SARIMAX_model.summary()"
   ]
  },
  {
   "cell_type": "markdown",
   "id": "fd73245e",
   "metadata": {},
   "source": [
    "### 3.3 Seasonal Test data"
   ]
  },
  {
   "cell_type": "code",
   "execution_count": 8,
   "id": "3a179007",
   "metadata": {},
   "outputs": [],
   "source": [
    "result_mul = seasonal_decompose(test.Close[-24:], model='multiplicative', extrapolate_trend='freq')\n",
    "\n",
    "seasonal_index = result_mul.seasonal[-12:].to_frame()\n",
    "seasonal_index['month'] = pd.to_datetime(seasonal_index.index).month\n",
    "\n",
    "test['month'] = test.index.month\n",
    "test_seasonal = pd.merge(test, seasonal_index, how='left', on='month')\n",
    "test_seasonal.columns = ['Close', 'month', 'seasonal_index']\n",
    "test_seasonal.index = test.index"
   ]
  },
  {
   "cell_type": "code",
   "execution_count": 18,
   "id": "41bee481",
   "metadata": {},
   "outputs": [
    {
     "data": {
      "image/png": "[encoded data removed]",
      "text/plain": [
       "<Figure size 1200x500 with 1 Axes>"
      ]
     },
     "metadata": {},
     "output_type": "display_data"
    }
   ],
   "source": [
    "fitted, confint = SARIMAX_model.predict(n_periods=26, \n",
    "                                            return_conf_int=True,\n",
    "                                            exogenous=test_seasonal[['seasonal_index']])\n",
    "\n",
    "\n",
    "# make series for plotting purpose\n",
    "fitted_series = pd.Series(fitted.values, index=test.index)\n",
    "lower_series = pd.Series(confint[:, 0], index=test.index)\n",
    "upper_series = pd.Series(confint[:, 1], index=test.index)\n",
    "\n",
    "\n",
    "# Plot\n",
    "plt.figure(figsize=(12,5), dpi=100)\n",
    "plt.plot(fitted_series, label='predict')\n",
    "plt.plot(test.Close, label='actual')\n",
    "plt.fill_between(lower_series.index, lower_series, upper_series, color='k', alpha=.15)\n",
    "plt.title('Forecast vs Actuals')\n",
    "plt.xlabel(\"Date\")\n",
    "plt.ylabel(\"Price\")\n",
    "plt.legend(loc='upper left', fontsize=8)\n",
    "plt.show()\n"
   ]
  },
  {
   "cell_type": "code",
   "execution_count": null,
   "id": "5cdf3651",
   "metadata": {},
   "outputs": [],
   "source": []
  }
 ],
 "metadata": {
  "kernelspec": {
   "display_name": "Python 3 (ipykernel)",
   "language": "python",
   "name": "python3"
  },
  "language_info": {
   "codemirror_mode": {
    "name": "ipython",
    "version": 3
   },
   "file_extension": ".py",
   "mimetype": "text/x-python",
   "name": "python",
   "nbconvert_exporter": "python",
   "pygments_lexer": "ipython3",
   "version": "3.11.1"
  }
 },
 "nbformat": 4,
 "nbformat_minor": 5
}
