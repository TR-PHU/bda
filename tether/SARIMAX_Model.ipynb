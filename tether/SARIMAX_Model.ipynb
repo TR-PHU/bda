{
 "cells": [
  {
   "cell_type": "markdown",
   "id": "96ecf88a",
   "metadata": {},
   "source": [
    "## SARIMAX Model"
   ]
  },
  {
   "cell_type": "markdown",
   "id": "2ed631c2",
   "metadata": {},
   "source": [
    "### 1. Import libraries and get data"
   ]
  },
  {
   "cell_type": "code",
   "execution_count": 1,
   "id": "50dd5f6b",
   "metadata": {},
   "outputs": [],
   "source": [
    "import numpy as np\n",
    "import pandas as pd\n",
    "import matplotlib.pyplot as plt\n",
    "import pmdarima as pmd\n",
    "\n",
    "from sklearn.metrics import mean_squared_error, mean_absolute_error, mean_absolute_percentage_error\n",
    "from statsmodels.tsa.seasonal import seasonal_decompose\n",
    "from dateutil.parser import parse\n",
    "import statsmodels.api as sm"
   ]
  },
  {
   "cell_type": "code",
   "execution_count": 2,
   "id": "1f1895fc",
   "metadata": {},
   "outputs": [
    {
     "data": {
      "text/html": [
       "<div>\n",
       "<style scoped>\n",
       "    .dataframe tbody tr th:only-of-type {\n",
       "        vertical-align: middle;\n",
       "    }\n",
       "\n",
       "    .dataframe tbody tr th {\n",
       "        vertical-align: top;\n",
       "    }\n",
       "\n",
       "    .dataframe thead th {\n",
       "        text-align: right;\n",
       "    }\n",
       "</style>\n",
       "<table border=\"1\" class=\"dataframe\">\n",
       "  <thead>\n",
       "    <tr style=\"text-align: right;\">\n",
       "      <th></th>\n",
       "      <th>Price</th>\n",
       "    </tr>\n",
       "    <tr>\n",
       "      <th>Date</th>\n",
       "      <th></th>\n",
       "    </tr>\n",
       "  </thead>\n",
       "  <tbody>\n",
       "    <tr>\n",
       "      <th>2017-12-01</th>\n",
       "      <td>1.0100</td>\n",
       "    </tr>\n",
       "    <tr>\n",
       "      <th>2017-12-02</th>\n",
       "      <td>0.9959</td>\n",
       "    </tr>\n",
       "    <tr>\n",
       "      <th>2017-12-03</th>\n",
       "      <td>0.9977</td>\n",
       "    </tr>\n",
       "    <tr>\n",
       "      <th>2017-12-04</th>\n",
       "      <td>1.0000</td>\n",
       "    </tr>\n",
       "    <tr>\n",
       "      <th>2017-12-05</th>\n",
       "      <td>1.0000</td>\n",
       "    </tr>\n",
       "    <tr>\n",
       "      <th>...</th>\n",
       "      <td>...</td>\n",
       "    </tr>\n",
       "    <tr>\n",
       "      <th>2023-03-28</th>\n",
       "      <td>1.0001</td>\n",
       "    </tr>\n",
       "    <tr>\n",
       "      <th>2023-03-29</th>\n",
       "      <td>0.9999</td>\n",
       "    </tr>\n",
       "    <tr>\n",
       "      <th>2023-03-30</th>\n",
       "      <td>1.0000</td>\n",
       "    </tr>\n",
       "    <tr>\n",
       "      <th>2023-03-31</th>\n",
       "      <td>1.0001</td>\n",
       "    </tr>\n",
       "    <tr>\n",
       "      <th>2023-04-01</th>\n",
       "      <td>1.0002</td>\n",
       "    </tr>\n",
       "  </tbody>\n",
       "</table>\n",
       "<p>1947 rows × 1 columns</p>\n",
       "</div>"
      ],
      "text/plain": [
       "             Price\n",
       "Date              \n",
       "2017-12-01  1.0100\n",
       "2017-12-02  0.9959\n",
       "2017-12-03  0.9977\n",
       "2017-12-04  1.0000\n",
       "2017-12-05  1.0000\n",
       "...            ...\n",
       "2023-03-28  1.0001\n",
       "2023-03-29  0.9999\n",
       "2023-03-30  1.0000\n",
       "2023-03-31  1.0001\n",
       "2023-04-01  1.0002\n",
       "\n",
       "[1947 rows x 1 columns]"
      ]
     },
     "execution_count": 2,
     "metadata": {},
     "output_type": "execute_result"
    }
   ],
   "source": [
    "# Load the dataset\n",
    "df = pd.read_csv(\"./USDT.csv\")\n",
    "\n",
    "# Drop the unnecessary columns.\n",
    "df.drop(['Open', 'High', 'Low', 'Vol.', 'Change %'], axis=1, inplace=True)\n",
    "\n",
    "# Convert the \"Date\" column to datetime format\n",
    "df['Date'] = pd.to_datetime(df['Date'], format='%d-%b-%y')\n",
    "                                    \n",
    "# Sort the DataFrame by date\n",
    "df = df.sort_values('Date')\n",
    "\n",
    "# Set Date index\n",
    "df.set_index('Date', inplace=True)\n",
    "\n",
    "df"
   ]
  },
  {
   "cell_type": "markdown",
   "id": "74e04437",
   "metadata": {},
   "source": [
    "### 2. Split the data into training, test and validate sets"
   ]
  },
  {
   "cell_type": "code",
   "execution_count": 3,
   "id": "0c144c8d",
   "metadata": {},
   "outputs": [
    {
     "name": "stdout",
     "output_type": "stream",
     "text": [
      "Train shape: (1362, 1)\n",
      "Test shape: (292, 1)\n",
      "Validate shape: (293, 1)\n"
     ]
    }
   ],
   "source": [
    "train_size = int(0.7 * len(df))\n",
    "test_size = int(0.15 * len(df))\n",
    "val_size = len(df) - train_size - test_size\n",
    "\n",
    "train_data = df[:train_size]\n",
    "test_data = df[train_size:train_size+test_size]\n",
    "val_data = df[train_size+test_size:]\n",
    "\n",
    "print(\"Train shape:\", train_data.shape)\n",
    "print(\"Test shape:\", test_data.shape)\n",
    "print(\"Validate shape:\", val_data.shape)"
   ]
  },
  {
   "cell_type": "code",
   "execution_count": 4,
   "id": "91ee204c",
   "metadata": {},
   "outputs": [
    {
     "name": "stdout",
     "output_type": "stream",
     "text": [
      "Train shape: (1168, 1)\n",
      "Test shape: (389, 1)\n",
      "Validate shape: (390, 1)\n"
     ]
    }
   ],
   "source": [
    "train_size = int(0.6 * len(df))\n",
    "test_size = int(0.2 * len(df))\n",
    "val_size = len(df) - train_size - test_size\n",
    "\n",
    "train_data = df[:train_size]\n",
    "test_data = df[train_size:train_size+test_size]\n",
    "val_data = df[train_size+test_size:]\n",
    "\n",
    "print(\"Train shape:\", train_data.shape)\n",
    "print(\"Test shape:\", test_data.shape)\n",
    "print(\"Validate shape:\", val_data.shape)"
   ]
  },
  {
   "cell_type": "code",
   "execution_count": 5,
   "id": "081876c3",
   "metadata": {},
   "outputs": [
    {
     "name": "stdout",
     "output_type": "stream",
     "text": [
      "Train shape: (1362, 1)\n",
      "Test shape: (389, 1)\n",
      "Validate shape: (196, 1)\n"
     ]
    }
   ],
   "source": [
    "train_size = int(0.7 * len(df))\n",
    "test_size = int(0.2 * len(df))\n",
    "val_size = len(df) - train_size - test_size\n",
    "\n",
    "train_data = df[:train_size]\n",
    "test_data = df[train_size:train_size+test_size]\n",
    "val_data = df[train_size+test_size:]\n",
    "\n",
    "print(\"Train shape:\", train_data.shape)\n",
    "print(\"Test shape:\", test_data.shape)\n",
    "print(\"Validate shape:\", val_data.shape)"
   ]
  },
  {
   "cell_type": "markdown",
   "id": "467a515a",
   "metadata": {},
   "source": [
    "## 3. Perform SARIMAX Model"
   ]
  },
  {
   "cell_type": "markdown",
   "id": "5bc39fc6",
   "metadata": {},
   "source": [
    "Exogenous variable"
   ]
  },
  {
   "cell_type": "code",
   "execution_count": 6,
   "id": "c1df3e63",
   "metadata": {},
   "outputs": [
    {
     "name": "stderr",
     "output_type": "stream",
     "text": [
      "C:\\Users\\PHUTRAN\\AppData\\Local\\Temp\\ipykernel_23344\\586218167.py:1: SettingWithCopyWarning: \n",
      "A value is trying to be set on a copy of a slice from a DataFrame.\n",
      "Try using .loc[row_indexer,col_indexer] = value instead\n",
      "\n",
      "See the caveats in the documentation: https://pandas.pydata.org/pandas-docs/stable/user_guide/indexing.html#returning-a-view-versus-a-copy\n",
      "  train_data['seasonal_index'] = train_data.index.day\n"
     ]
    }
   ],
   "source": [
    "train_data['seasonal_index'] = train_data.index.day"
   ]
  },
  {
   "cell_type": "markdown",
   "id": "ed3028f4",
   "metadata": {},
   "source": [
    "### 3.1 Build the best SARIMAX Model from auto_arima"
   ]
  },
  {
   "cell_type": "code",
   "execution_count": 7,
   "id": "dfd38001",
   "metadata": {},
   "outputs": [
    {
     "name": "stdout",
     "output_type": "stream",
     "text": [
      "Performing stepwise search to minimize aic\n",
      " ARIMA(1,0,1)(0,1,1)[12] intercept   : AIC=-11250.862, Time=5.85 sec\n",
      " ARIMA(0,0,0)(0,1,0)[12] intercept   : AIC=-9624.032, Time=0.76 sec\n",
      " ARIMA(1,0,0)(1,1,0)[12] intercept   : AIC=-11167.070, Time=6.60 sec\n",
      " ARIMA(0,0,1)(0,1,1)[12] intercept   : AIC=-10615.909, Time=4.26 sec\n",
      " ARIMA(0,0,0)(0,1,0)[12]             : AIC=-9625.977, Time=0.14 sec\n",
      " ARIMA(1,0,1)(0,1,0)[12] intercept   : AIC=-10737.082, Time=3.03 sec\n",
      " ARIMA(1,0,1)(1,1,1)[12] intercept   : AIC=-11229.075, Time=2.39 sec\n",
      " ARIMA(1,0,1)(0,1,2)[12] intercept   : AIC=-11265.275, Time=16.37 sec\n",
      " ARIMA(1,0,1)(1,1,2)[12] intercept   : AIC=-11239.144, Time=23.10 sec\n",
      " ARIMA(0,0,1)(0,1,2)[12] intercept   : AIC=-10702.796, Time=31.10 sec\n",
      " ARIMA(1,0,0)(0,1,2)[12] intercept   : AIC=-11435.833, Time=24.34 sec\n",
      " ARIMA(1,0,0)(0,1,1)[12] intercept   : AIC=-11204.118, Time=4.30 sec\n",
      " ARIMA(1,0,0)(1,1,2)[12] intercept   : AIC=-11179.966, Time=32.38 sec\n",
      " ARIMA(1,0,0)(1,1,1)[12] intercept   : AIC=-11193.704, Time=5.43 sec\n",
      " ARIMA(0,0,0)(0,1,2)[12] intercept   : AIC=-9952.103, Time=14.48 sec\n",
      " ARIMA(2,0,0)(0,1,2)[12] intercept   : AIC=-11446.241, Time=19.74 sec\n",
      " ARIMA(2,0,0)(0,1,1)[12] intercept   : AIC=-11249.561, Time=10.50 sec\n",
      " ARIMA(2,0,0)(1,1,2)[12] intercept   : AIC=-11237.464, Time=22.16 sec\n",
      " ARIMA(2,0,0)(1,1,1)[12] intercept   : AIC=-11386.034, Time=11.42 sec\n",
      " ARIMA(3,0,0)(0,1,2)[12] intercept   : AIC=-11466.349, Time=24.18 sec\n",
      " ARIMA(3,0,0)(0,1,1)[12] intercept   : AIC=-11248.065, Time=12.19 sec\n",
      " ARIMA(3,0,0)(1,1,2)[12] intercept   : AIC=-11236.342, Time=22.55 sec\n",
      " ARIMA(3,0,0)(1,1,1)[12] intercept   : AIC=-11226.067, Time=15.03 sec\n",
      " ARIMA(3,0,1)(0,1,2)[12] intercept   : AIC=-11446.596, Time=33.02 sec\n",
      " ARIMA(2,0,1)(0,1,2)[12] intercept   : AIC=-11458.114, Time=31.29 sec\n",
      " ARIMA(3,0,0)(0,1,2)[12]             : AIC=-11485.508, Time=9.28 sec\n",
      " ARIMA(3,0,0)(0,1,1)[12]             : AIC=-11250.004, Time=1.98 sec\n",
      " ARIMA(3,0,0)(1,1,2)[12]             : AIC=-11506.194, Time=9.97 sec\n",
      " ARIMA(3,0,0)(1,1,1)[12]             : AIC=-11397.319, Time=6.98 sec\n",
      " ARIMA(3,0,0)(2,1,2)[12]             : AIC=-11518.523, Time=15.56 sec\n",
      " ARIMA(3,0,0)(2,1,1)[12]             : AIC=-11227.898, Time=8.69 sec\n",
      " ARIMA(2,0,0)(2,1,2)[12]             : AIC=-11424.475, Time=11.95 sec\n",
      " ARIMA(3,0,1)(2,1,2)[12]             : AIC=-11527.922, Time=39.47 sec\n",
      " ARIMA(3,0,1)(1,1,2)[12]             : AIC=-11493.892, Time=21.06 sec\n",
      " ARIMA(3,0,1)(2,1,1)[12]             : AIC=-11399.460, Time=20.25 sec\n",
      " ARIMA(3,0,1)(1,1,1)[12]             : AIC=-11411.924, Time=7.58 sec\n",
      " ARIMA(2,0,1)(2,1,2)[12]             : AIC=-11444.812, Time=18.69 sec\n",
      " ARIMA(3,0,2)(2,1,2)[12]             : AIC=-11427.544, Time=22.69 sec\n",
      " ARIMA(2,0,2)(2,1,2)[12]             : AIC=-11541.378, Time=30.73 sec\n",
      " ARIMA(2,0,2)(1,1,2)[12]             : AIC=-11474.628, Time=17.21 sec\n",
      " ARIMA(2,0,2)(2,1,1)[12]             : AIC=-11439.334, Time=17.16 sec\n",
      " ARIMA(2,0,2)(1,1,1)[12]             : AIC=-11225.120, Time=4.47 sec\n",
      " ARIMA(1,0,2)(2,1,2)[12]             : AIC=-11511.550, Time=19.96 sec\n",
      " ARIMA(2,0,3)(2,1,2)[12]             : AIC=-11469.778, Time=19.26 sec\n",
      " ARIMA(1,0,1)(2,1,2)[12]             : AIC=-11551.397, Time=25.49 sec\n",
      " ARIMA(1,0,1)(1,1,2)[12]             : AIC=-11546.908, Time=19.64 sec\n",
      " ARIMA(1,0,1)(2,1,1)[12]             : AIC=-11443.341, Time=13.84 sec\n",
      " ARIMA(1,0,1)(1,1,1)[12]             : AIC=-11480.214, Time=6.69 sec\n",
      " ARIMA(0,0,1)(2,1,2)[12]             : AIC=-10695.915, Time=9.39 sec\n",
      " ARIMA(1,0,0)(2,1,2)[12]             : AIC=-11463.321, Time=12.36 sec\n",
      " ARIMA(0,0,0)(2,1,2)[12]             : AIC=-9909.526, Time=3.78 sec\n",
      " ARIMA(0,0,2)(2,1,2)[12]             : AIC=-10953.661, Time=5.70 sec\n",
      " ARIMA(1,0,1)(2,1,2)[12] intercept   : AIC=-11201.101, Time=21.49 sec\n",
      "\n",
      "Best model:  ARIMA(1,0,1)(2,1,2)[12]          \n",
      "Total fit time: 798.001 seconds\n"
     ]
    },
    {
     "data": {
      "text/html": [
       "<table class=\"simpletable\">\n",
       "<caption>SARIMAX Results</caption>\n",
       "<tr>\n",
       "  <th>Dep. Variable:</th>                    <td>y</td>                  <th>  No. Observations:  </th>    <td>1362</td>   \n",
       "</tr>\n",
       "<tr>\n",
       "  <th>Model:</th>           <td>SARIMAX(1, 0, 1)x(2, 1, [1, 2], 12)</td> <th>  Log Likelihood     </th>  <td>5782.699</td> \n",
       "</tr>\n",
       "<tr>\n",
       "  <th>Date:</th>                     <td>Tue, 13 Jun 2023</td>           <th>  AIC                </th> <td>-11551.397</td>\n",
       "</tr>\n",
       "<tr>\n",
       "  <th>Time:</th>                         <td>00:08:43</td>               <th>  BIC                </th> <td>-11514.942</td>\n",
       "</tr>\n",
       "<tr>\n",
       "  <th>Sample:</th>                           <td>0</td>                  <th>  HQIC               </th> <td>-11537.745</td>\n",
       "</tr>\n",
       "<tr>\n",
       "  <th></th>                               <td> - 1362</td>               <th>                     </th>      <td> </td>    \n",
       "</tr>\n",
       "<tr>\n",
       "  <th>Covariance Type:</th>                 <td>opg</td>                 <th>                     </th>      <td> </td>    \n",
       "</tr>\n",
       "</table>\n",
       "<table class=\"simpletable\">\n",
       "<tr>\n",
       "      <td></td>        <th>coef</th>     <th>std err</th>      <th>z</th>      <th>P>|z|</th>  <th>[0.025</th>    <th>0.975]</th>  \n",
       "</tr>\n",
       "<tr>\n",
       "  <th>ar.L1</th>    <td>    0.8708</td> <td>    0.009</td> <td>  100.025</td> <td> 0.000</td> <td>    0.854</td> <td>    0.888</td>\n",
       "</tr>\n",
       "<tr>\n",
       "  <th>ma.L1</th>    <td>   -0.0395</td> <td>    0.016</td> <td>   -2.467</td> <td> 0.014</td> <td>   -0.071</td> <td>   -0.008</td>\n",
       "</tr>\n",
       "<tr>\n",
       "  <th>ar.S.L12</th> <td>   -0.5357</td> <td>    0.554</td> <td>   -0.966</td> <td> 0.334</td> <td>   -1.622</td> <td>    0.551</td>\n",
       "</tr>\n",
       "<tr>\n",
       "  <th>ar.S.L24</th> <td>   -0.0407</td> <td>    0.163</td> <td>   -0.250</td> <td> 0.803</td> <td>   -0.360</td> <td>    0.278</td>\n",
       "</tr>\n",
       "<tr>\n",
       "  <th>ma.S.L12</th> <td>   -0.4939</td> <td>    0.558</td> <td>   -0.885</td> <td> 0.376</td> <td>   -1.588</td> <td>    0.600</td>\n",
       "</tr>\n",
       "<tr>\n",
       "  <th>ma.S.L24</th> <td>   -0.2136</td> <td>    0.417</td> <td>   -0.513</td> <td> 0.608</td> <td>   -1.030</td> <td>    0.603</td>\n",
       "</tr>\n",
       "<tr>\n",
       "  <th>sigma2</th>   <td> 1.098e-05</td> <td> 1.65e-07</td> <td>   66.652</td> <td> 0.000</td> <td> 1.07e-05</td> <td> 1.13e-05</td>\n",
       "</tr>\n",
       "</table>\n",
       "<table class=\"simpletable\">\n",
       "<tr>\n",
       "  <th>Ljung-Box (L1) (Q):</th>     <td>6.87</td> <th>  Jarque-Bera (JB):  </th> <td>10714.08</td>\n",
       "</tr>\n",
       "<tr>\n",
       "  <th>Prob(Q):</th>                <td>0.01</td> <th>  Prob(JB):          </th>   <td>0.00</td>  \n",
       "</tr>\n",
       "<tr>\n",
       "  <th>Heteroskedasticity (H):</th> <td>0.02</td> <th>  Skew:              </th>   <td>-0.46</td> \n",
       "</tr>\n",
       "<tr>\n",
       "  <th>Prob(H) (two-sided):</th>    <td>0.00</td> <th>  Kurtosis:          </th>   <td>16.77</td> \n",
       "</tr>\n",
       "</table><br/><br/>Warnings:<br/>[1] Covariance matrix calculated using the outer product of gradients (complex-step)."
      ],
      "text/plain": [
       "<class 'statsmodels.iolib.summary.Summary'>\n",
       "\"\"\"\n",
       "                                        SARIMAX Results                                        \n",
       "===============================================================================================\n",
       "Dep. Variable:                                       y   No. Observations:                 1362\n",
       "Model:             SARIMAX(1, 0, 1)x(2, 1, [1, 2], 12)   Log Likelihood                5782.699\n",
       "Date:                                 Tue, 13 Jun 2023   AIC                         -11551.397\n",
       "Time:                                         00:08:43   BIC                         -11514.942\n",
       "Sample:                                              0   HQIC                        -11537.745\n",
       "                                                - 1362                                         \n",
       "Covariance Type:                                   opg                                         \n",
       "==============================================================================\n",
       "                 coef    std err          z      P>|z|      [0.025      0.975]\n",
       "------------------------------------------------------------------------------\n",
       "ar.L1          0.8708      0.009    100.025      0.000       0.854       0.888\n",
       "ma.L1         -0.0395      0.016     -2.467      0.014      -0.071      -0.008\n",
       "ar.S.L12      -0.5357      0.554     -0.966      0.334      -1.622       0.551\n",
       "ar.S.L24      -0.0407      0.163     -0.250      0.803      -0.360       0.278\n",
       "ma.S.L12      -0.4939      0.558     -0.885      0.376      -1.588       0.600\n",
       "ma.S.L24      -0.2136      0.417     -0.513      0.608      -1.030       0.603\n",
       "sigma2      1.098e-05   1.65e-07     66.652      0.000    1.07e-05    1.13e-05\n",
       "===================================================================================\n",
       "Ljung-Box (L1) (Q):                   6.87   Jarque-Bera (JB):             10714.08\n",
       "Prob(Q):                              0.01   Prob(JB):                         0.00\n",
       "Heteroskedasticity (H):               0.02   Skew:                            -0.46\n",
       "Prob(H) (two-sided):                  0.00   Kurtosis:                        16.77\n",
       "===================================================================================\n",
       "\n",
       "Warnings:\n",
       "[1] Covariance matrix calculated using the outer product of gradients (complex-step).\n",
       "\"\"\""
      ]
     },
     "execution_count": 7,
     "metadata": {},
     "output_type": "execute_result"
    }
   ],
   "source": [
    "# SARIMAX Model\n",
    "import pmdarima as pmd\n",
    "\n",
    "SARIMAX_model = pmd.auto_arima(train_data[['Price']], \n",
    "                        exogenous=train_data[['seasonal_index']],\n",
    "                           start_p=1, start_q=1,\n",
    "                           test='adf',\n",
    "                           max_p=3, max_q=3, m=12,\n",
    "                           start_P=0, seasonal=True,\n",
    "                           d=None, D=1, trace=True,\n",
    "                           error_action='ignore',  \n",
    "                           suppress_warnings=True, \n",
    "                           stepwise=True)\n",
    "\n",
    "SARIMAX_model.summary()"
   ]
  },
  {
   "cell_type": "markdown",
   "id": "fd73245e",
   "metadata": {},
   "source": [
    "### 3.2 Evaluate on Validate data"
   ]
  },
  {
   "cell_type": "code",
   "execution_count": 8,
   "id": "d634cdd2",
   "metadata": {},
   "outputs": [],
   "source": [
    "def evaluate_sarimax_model(y_data):\n",
    "    predictions = (SARIMAX_model.predict(n_periods=len(y_data))).values\n",
    "    mse = mean_squared_error(y_data, predictions)\n",
    "    mae = mean_absolute_error(y_data, predictions)\n",
    "    mape = mean_absolute_percentage_error(y_data, predictions)\n",
    "    rmse = mean_squared_error(y_data, predictions, squared=False)\n",
    "    return predictions, mse, mae, mape, rmse"
   ]
  },
  {
   "cell_type": "code",
   "execution_count": 9,
   "id": "41bee481",
   "metadata": {},
   "outputs": [
    {
     "name": "stdout",
     "output_type": "stream",
     "text": [
      "Price predict on validate data: [1.00050559 1.00030796 1.00032323 1.00026183 1.00042078 1.00056695\n",
      " 1.00039745 1.00041891 1.00038674 1.00033173 1.00043008 1.0003249\n",
      " 1.00044149 1.00036418 1.00043215 1.0002796  1.00036287 1.00049789\n",
      " 1.00034718 1.00042494 1.00044881 1.00041111 1.00039495 1.00031263\n",
      " 1.00046604 1.00034064 1.00038805 1.0002707  1.00038409 1.00052331\n",
      " 1.00036546 1.0004204  1.00042377 1.00037909 1.00040812 1.00031788\n",
      " 1.00045523 1.00035073 1.00040704 1.00027456 1.00037493 1.00051237\n",
      " 1.00035759 1.00042248 1.00043457 1.00039294 1.00040242 1.00031551\n",
      " 1.00045997 1.00034624 1.00039862 1.00027282 1.00037894 1.00051717\n",
      " 1.00036104 1.00042153 1.00042978 1.00038681 1.00040492 1.00031655\n",
      " 1.00045786 1.00034822 1.00040235 1.00027359 1.00037716 1.00051504\n",
      " 1.00035951 1.00042195 1.0004319  1.00038952 1.00040381 1.00031609\n",
      " 1.00045879 1.00034734 1.0004007  1.00027325 1.00037795 1.00051598\n",
      " 1.00036019 1.00042177 1.00043096 1.00038832 1.00040431 1.00031629\n",
      " 1.00045838 1.00034773 1.00040143 1.0002734  1.0003776  1.00051556\n",
      " 1.00035989 1.00042185 1.00043138 1.00038885 1.00040409 1.0003162\n",
      " 1.00045856 1.00034756 1.0004011  1.00027333 1.00037775 1.00051575\n",
      " 1.00036002 1.00042181 1.00043119 1.00038862 1.00040418 1.00031624\n",
      " 1.00045848 1.00034763 1.00040125 1.00027336 1.00037769 1.00051567\n",
      " 1.00035996 1.00042183 1.00043128 1.00038872 1.00040414 1.00031622\n",
      " 1.00045852 1.0003476  1.00040119 1.00027335 1.00037772 1.0005157\n",
      " 1.00035999 1.00042182 1.00043124 1.00038867 1.00040416 1.00031623\n",
      " 1.0004585  1.00034762 1.00040121 1.00027336 1.0003777  1.00051569\n",
      " 1.00035998 1.00042183 1.00043126 1.0003887  1.00040415 1.00031623\n",
      " 1.00045851 1.00034761 1.0004012  1.00027335 1.00037771 1.00051569\n",
      " 1.00035998 1.00042182 1.00043125 1.00038869 1.00040416 1.00031623\n",
      " 1.00045851 1.00034761 1.00040121 1.00027335 1.00037771 1.00051569\n",
      " 1.00035998 1.00042183 1.00043125 1.00038869 1.00040415 1.00031623\n",
      " 1.00045851 1.00034761 1.0004012  1.00027335 1.00037771 1.00051569\n",
      " 1.00035998 1.00042182 1.00043125 1.00038869 1.00040415 1.00031623\n",
      " 1.00045851 1.00034761 1.00040121 1.00027335 1.00037771 1.00051569\n",
      " 1.00035998 1.00042182 1.00043125 1.00038869 1.00040415 1.00031623\n",
      " 1.00045851 1.00034761 1.0004012  1.00027335]\n"
     ]
    },
    {
     "name": "stderr",
     "output_type": "stream",
     "text": [
      "C:\\Users\\PHUTRAN\\AppData\\Local\\Programs\\Python\\Python311\\Lib\\site-packages\\statsmodels\\tsa\\base\\tsa_model.py:834: ValueWarning: No supported index is available. Prediction results will be given with an integer index beginning at `start`.\n",
      "  return get_prediction_index(\n"
     ]
    }
   ],
   "source": [
    "x_val= np.array(val_data.index).reshape(-1, 1)\n",
    "y_val = np.array(val_data)\n",
    "y_pred_val, val_mse, val_mae, val_mape, val_rmse = evaluate_sarimax_model(y_val)\n",
    "\n",
    "print(\"Price predict on validate data:\", y_pred_val)"
   ]
  },
  {
   "cell_type": "markdown",
   "id": "d89652c4",
   "metadata": {},
   "source": [
    "### 3.3 Evaluate on Test data"
   ]
  },
  {
   "cell_type": "code",
   "execution_count": 10,
   "id": "9b081a30",
   "metadata": {},
   "outputs": [
    {
     "name": "stdout",
     "output_type": "stream",
     "text": [
      "Price predict on test data: [1.00050559 1.00030796 1.00032323 1.00026183 1.00042078 1.00056695\n",
      " 1.00039745 1.00041891 1.00038674 1.00033173 1.00043008 1.0003249\n",
      " 1.00044149 1.00036418 1.00043215 1.0002796  1.00036287 1.00049789\n",
      " 1.00034718 1.00042494 1.00044881 1.00041111 1.00039495 1.00031263\n",
      " 1.00046604 1.00034064 1.00038805 1.0002707  1.00038409 1.00052331\n",
      " 1.00036546 1.0004204  1.00042377 1.00037909 1.00040812 1.00031788\n",
      " 1.00045523 1.00035073 1.00040704 1.00027456 1.00037493 1.00051237\n",
      " 1.00035759 1.00042248 1.00043457 1.00039294 1.00040242 1.00031551\n",
      " 1.00045997 1.00034624 1.00039862 1.00027282 1.00037894 1.00051717\n",
      " 1.00036104 1.00042153 1.00042978 1.00038681 1.00040492 1.00031655\n",
      " 1.00045786 1.00034822 1.00040235 1.00027359 1.00037716 1.00051504\n",
      " 1.00035951 1.00042195 1.0004319  1.00038952 1.00040381 1.00031609\n",
      " 1.00045879 1.00034734 1.0004007  1.00027325 1.00037795 1.00051598\n",
      " 1.00036019 1.00042177 1.00043096 1.00038832 1.00040431 1.00031629\n",
      " 1.00045838 1.00034773 1.00040143 1.0002734  1.0003776  1.00051556\n",
      " 1.00035989 1.00042185 1.00043138 1.00038885 1.00040409 1.0003162\n",
      " 1.00045856 1.00034756 1.0004011  1.00027333 1.00037775 1.00051575\n",
      " 1.00036002 1.00042181 1.00043119 1.00038862 1.00040418 1.00031624\n",
      " 1.00045848 1.00034763 1.00040125 1.00027336 1.00037769 1.00051567\n",
      " 1.00035996 1.00042183 1.00043128 1.00038872 1.00040414 1.00031622\n",
      " 1.00045852 1.0003476  1.00040119 1.00027335 1.00037772 1.0005157\n",
      " 1.00035999 1.00042182 1.00043124 1.00038867 1.00040416 1.00031623\n",
      " 1.0004585  1.00034762 1.00040121 1.00027336 1.0003777  1.00051569\n",
      " 1.00035998 1.00042183 1.00043126 1.0003887  1.00040415 1.00031623\n",
      " 1.00045851 1.00034761 1.0004012  1.00027335 1.00037771 1.00051569\n",
      " 1.00035998 1.00042182 1.00043125 1.00038869 1.00040416 1.00031623\n",
      " 1.00045851 1.00034761 1.00040121 1.00027335 1.00037771 1.00051569\n",
      " 1.00035998 1.00042183 1.00043125 1.00038869 1.00040415 1.00031623\n",
      " 1.00045851 1.00034761 1.0004012  1.00027335 1.00037771 1.00051569\n",
      " 1.00035998 1.00042182 1.00043125 1.00038869 1.00040415 1.00031623\n",
      " 1.00045851 1.00034761 1.00040121 1.00027335 1.00037771 1.00051569\n",
      " 1.00035998 1.00042182 1.00043125 1.00038869 1.00040415 1.00031623\n",
      " 1.00045851 1.00034761 1.0004012  1.00027335 1.00037771 1.00051569\n",
      " 1.00035998 1.00042182 1.00043125 1.00038869 1.00040415 1.00031623\n",
      " 1.00045851 1.00034761 1.0004012  1.00027335 1.00037771 1.00051569\n",
      " 1.00035998 1.00042182 1.00043125 1.00038869 1.00040415 1.00031623\n",
      " 1.00045851 1.00034761 1.0004012  1.00027335 1.00037771 1.00051569\n",
      " 1.00035998 1.00042182 1.00043125 1.00038869 1.00040415 1.00031623\n",
      " 1.00045851 1.00034761 1.0004012  1.00027335 1.00037771 1.00051569\n",
      " 1.00035998 1.00042182 1.00043125 1.00038869 1.00040415 1.00031623\n",
      " 1.00045851 1.00034761 1.0004012  1.00027335 1.00037771 1.00051569\n",
      " 1.00035998 1.00042182 1.00043125 1.00038869 1.00040415 1.00031623\n",
      " 1.00045851 1.00034761 1.0004012  1.00027335 1.00037771 1.00051569\n",
      " 1.00035998 1.00042182 1.00043125 1.00038869 1.00040415 1.00031623\n",
      " 1.00045851 1.00034761 1.0004012  1.00027335 1.00037771 1.00051569\n",
      " 1.00035998 1.00042182 1.00043125 1.00038869 1.00040415 1.00031623\n",
      " 1.00045851 1.00034761 1.0004012  1.00027335 1.00037771 1.00051569\n",
      " 1.00035998 1.00042182 1.00043125 1.00038869 1.00040415 1.00031623\n",
      " 1.00045851 1.00034761 1.0004012  1.00027335 1.00037771 1.00051569\n",
      " 1.00035998 1.00042182 1.00043125 1.00038869 1.00040415 1.00031623\n",
      " 1.00045851 1.00034761 1.0004012  1.00027335 1.00037771 1.00051569\n",
      " 1.00035998 1.00042182 1.00043125 1.00038869 1.00040415 1.00031623\n",
      " 1.00045851 1.00034761 1.0004012  1.00027335 1.00037771 1.00051569\n",
      " 1.00035998 1.00042182 1.00043125 1.00038869 1.00040415 1.00031623\n",
      " 1.00045851 1.00034761 1.0004012  1.00027335 1.00037771 1.00051569\n",
      " 1.00035998 1.00042182 1.00043125 1.00038869 1.00040415 1.00031623\n",
      " 1.00045851 1.00034761 1.0004012  1.00027335 1.00037771 1.00051569\n",
      " 1.00035998 1.00042182 1.00043125 1.00038869 1.00040415 1.00031623\n",
      " 1.00045851 1.00034761 1.0004012  1.00027335 1.00037771 1.00051569\n",
      " 1.00035998 1.00042182 1.00043125 1.00038869 1.00040415 1.00031623\n",
      " 1.00045851 1.00034761 1.0004012  1.00027335 1.00037771 1.00051569\n",
      " 1.00035998 1.00042182 1.00043125 1.00038869 1.00040415 1.00031623\n",
      " 1.00045851 1.00034761 1.0004012  1.00027335 1.00037771 1.00051569\n",
      " 1.00035998 1.00042182 1.00043125 1.00038869 1.00040415 1.00031623\n",
      " 1.00045851 1.00034761 1.0004012  1.00027335 1.00037771]\n"
     ]
    },
    {
     "name": "stderr",
     "output_type": "stream",
     "text": [
      "C:\\Users\\PHUTRAN\\AppData\\Local\\Programs\\Python\\Python311\\Lib\\site-packages\\statsmodels\\tsa\\base\\tsa_model.py:834: ValueWarning: No supported index is available. Prediction results will be given with an integer index beginning at `start`.\n",
      "  return get_prediction_index(\n"
     ]
    }
   ],
   "source": [
    "x_test = np.array(test_data.index).reshape(-1, 1)\n",
    "y_test = np.array(test_data)\n",
    "y_pred_test, test_mse, test_mae, test_mape, test_rmse = evaluate_sarimax_model(y_test)\n",
    "\n",
    "print(\"Price predict on test data:\", y_pred_test)"
   ]
  },
  {
   "cell_type": "markdown",
   "id": "1b737492",
   "metadata": {},
   "source": [
    "### 3.4 Predict price for the next 30 days"
   ]
  },
  {
   "cell_type": "code",
   "execution_count": 11,
   "id": "7e206009",
   "metadata": {},
   "outputs": [
    {
     "name": "stdout",
     "output_type": "stream",
     "text": [
      "Predicted closing prices for the next 30 days:\n",
      "[1.00050559 1.00030796 1.00032323 1.00026183 1.00042078 1.00056695\n",
      " 1.00039745 1.00041891 1.00038674 1.00033173 1.00043008 1.0003249\n",
      " 1.00044149 1.00036418 1.00043215 1.0002796  1.00036287 1.00049789\n",
      " 1.00034718 1.00042494 1.00044881 1.00041111 1.00039495 1.00031263\n",
      " 1.00046604 1.00034064 1.00038805 1.0002707  1.00038409 1.00052331]\n"
     ]
    },
    {
     "name": "stderr",
     "output_type": "stream",
     "text": [
      "C:\\Users\\PHUTRAN\\AppData\\Local\\Programs\\Python\\Python311\\Lib\\site-packages\\statsmodels\\tsa\\base\\tsa_model.py:834: ValueWarning: No supported index is available. Prediction results will be given with an integer index beginning at `start`.\n",
      "  return get_prediction_index(\n"
     ]
    }
   ],
   "source": [
    "last_index = len(df)\n",
    "date_range = pd.date_range(start=df.index[-1], periods=30, freq='D')\n",
    "\n",
    "# Create an array of 30 consecutive integers starting from last_index\n",
    "x_next_30_days = np.array(range(last_index+1, last_index+31)).reshape(-1, 1)\n",
    "\n",
    "# Predict the closing prices for the next 30 days\n",
    "y_next_30_days = (SARIMAX_model.predict(n_periods=len(x_next_30_days))).values\n",
    "\n",
    "# Print the predicted closing prices for the next 30 days\n",
    "print('Predicted closing prices for the next 30 days:')\n",
    "print(y_next_30_days)"
   ]
  },
  {
   "cell_type": "markdown",
   "id": "bbe5c0ad",
   "metadata": {},
   "source": [
    "### 4.  Evaluate accuracy validate, test data"
   ]
  },
  {
   "cell_type": "code",
   "execution_count": 12,
   "id": "1feec602",
   "metadata": {},
   "outputs": [
    {
     "name": "stdout",
     "output_type": "stream",
     "text": [
      "                   MSE       MAE      MAPE      RMSE\n",
      "Validate  1.006635e-06  0.000580  0.000579  0.001003\n",
      "Test      3.471282e-07  0.000404  0.000404  0.000589\n"
     ]
    }
   ],
   "source": [
    "metrics = {\n",
    "    'MSE': [val_mse, test_mse],\n",
    "    'MAE': [val_mae, test_mae],\n",
    "    'MAPE': [val_mape, test_mape],\n",
    "    'RMSE': [val_rmse, test_rmse],\n",
    "}\n",
    "\n",
    "df = pd.DataFrame(metrics, index=['Validate', 'Test'])\n",
    "\n",
    "print(df)\n"
   ]
  },
  {
   "cell_type": "code",
   "execution_count": 13,
   "id": "d6037eda",
   "metadata": {},
   "outputs": [
    {
     "data": {
      "image/png": "[encoded data removed]",
      "text/plain": [
       "<Figure size 640x480 with 1 Axes>"
      ]
     },
     "metadata": {},
     "output_type": "display_data"
    }
   ],
   "source": [
    "plt.plot(train_data.index, train_data['Price'])\n",
    "plt.plot(test_data.index, test_data['Price'])\n",
    "plt.plot(val_data.index, val_data['Price'])\n",
    "\n",
    "plt.plot(test_data.index, y_pred_test)\n",
    "plt.plot(val_data.index, y_pred_val)\n",
    "plt.plot(date_range, y_next_30_days)\n",
    "\n",
    "plt.legend(['Train', 'Test', 'Validate','PredictTestData', 'PredictValidateData','PredictNext30Day'])\n",
    "plt.show()"
   ]
  }
 ],
 "metadata": {
  "kernelspec": {
   "display_name": "Python 3 (ipykernel)",
   "language": "python",
   "name": "python3"
  },
  "language_info": {
   "codemirror_mode": {
    "name": "ipython",
    "version": 3
   },
   "file_extension": ".py",
   "mimetype": "text/x-python",
   "name": "python",
   "nbconvert_exporter": "python",
   "pygments_lexer": "ipython3",
   "version": "3.11.1"
  }
 },
 "nbformat": 4,
 "nbformat_minor": 5
}
