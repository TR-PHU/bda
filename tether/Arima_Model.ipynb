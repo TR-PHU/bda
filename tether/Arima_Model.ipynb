{
 "cells": [
  {
   "cell_type": "markdown",
   "id": "f8047eaf",
   "metadata": {
    "id": "f8047eaf"
   },
   "source": [
    "### Import libraries and get data"
   ]
  },
  {
   "cell_type": "code",
   "execution_count": 16,
   "id": "253f387d",
   "metadata": {
    "id": "253f387d"
   },
   "outputs": [],
   "source": [
    "import numpy as np\n",
    "import pandas as pd\n",
    "import matplotlib.pyplot as plt\n",
    "import pmdarima as pmd\n",
    "\n",
    "from sklearn.metrics import mean_squared_error, mean_absolute_error, mean_absolute_percentage_error\n",
    "\n",
    "from statsmodels.tsa.seasonal import seasonal_decompose\n",
    "from dateutil.parser import parse\n",
    "from statsmodels.tsa.arima.model import ARIMA"
   ]
  },
  {
   "cell_type": "markdown",
   "id": "58ee460a",
   "metadata": {},
   "source": [
    "## Load the dataset"
   ]
  },
  {
   "cell_type": "code",
   "execution_count": 17,
   "id": "38e633bd",
   "metadata": {
    "colab": {
     "base_uri": "https://localhost:8080/"
    },
    "id": "38e633bd",
    "outputId": "6070a0bb-a462-4f73-c27f-61cd8291913b"
   },
   "outputs": [
    {
     "data": {
      "text/html": [
       "<div>\n",
       "<style scoped>\n",
       "    .dataframe tbody tr th:only-of-type {\n",
       "        vertical-align: middle;\n",
       "    }\n",
       "\n",
       "    .dataframe tbody tr th {\n",
       "        vertical-align: top;\n",
       "    }\n",
       "\n",
       "    .dataframe thead th {\n",
       "        text-align: right;\n",
       "    }\n",
       "</style>\n",
       "<table border=\"1\" class=\"dataframe\">\n",
       "  <thead>\n",
       "    <tr style=\"text-align: right;\">\n",
       "      <th></th>\n",
       "      <th>Price</th>\n",
       "    </tr>\n",
       "    <tr>\n",
       "      <th>Date</th>\n",
       "      <th></th>\n",
       "    </tr>\n",
       "  </thead>\n",
       "  <tbody>\n",
       "    <tr>\n",
       "      <th>2017-12-01</th>\n",
       "      <td>1.0100</td>\n",
       "    </tr>\n",
       "    <tr>\n",
       "      <th>2017-12-02</th>\n",
       "      <td>0.9959</td>\n",
       "    </tr>\n",
       "    <tr>\n",
       "      <th>2017-12-03</th>\n",
       "      <td>0.9977</td>\n",
       "    </tr>\n",
       "    <tr>\n",
       "      <th>2017-12-04</th>\n",
       "      <td>1.0000</td>\n",
       "    </tr>\n",
       "    <tr>\n",
       "      <th>2017-12-05</th>\n",
       "      <td>1.0000</td>\n",
       "    </tr>\n",
       "    <tr>\n",
       "      <th>...</th>\n",
       "      <td>...</td>\n",
       "    </tr>\n",
       "    <tr>\n",
       "      <th>2023-06-12</th>\n",
       "      <td>1.0000</td>\n",
       "    </tr>\n",
       "    <tr>\n",
       "      <th>2023-06-13</th>\n",
       "      <td>0.9999</td>\n",
       "    </tr>\n",
       "    <tr>\n",
       "      <th>2023-06-14</th>\n",
       "      <td>0.9998</td>\n",
       "    </tr>\n",
       "    <tr>\n",
       "      <th>2023-06-15</th>\n",
       "      <td>0.9993</td>\n",
       "    </tr>\n",
       "    <tr>\n",
       "      <th>2023-06-16</th>\n",
       "      <td>0.9999</td>\n",
       "    </tr>\n",
       "  </tbody>\n",
       "</table>\n",
       "<p>2023 rows × 1 columns</p>\n",
       "</div>"
      ],
      "text/plain": [
       "             Price\n",
       "Date              \n",
       "2017-12-01  1.0100\n",
       "2017-12-02  0.9959\n",
       "2017-12-03  0.9977\n",
       "2017-12-04  1.0000\n",
       "2017-12-05  1.0000\n",
       "...            ...\n",
       "2023-06-12  1.0000\n",
       "2023-06-13  0.9999\n",
       "2023-06-14  0.9998\n",
       "2023-06-15  0.9993\n",
       "2023-06-16  0.9999\n",
       "\n",
       "[2023 rows x 1 columns]"
      ]
     },
     "execution_count": 17,
     "metadata": {},
     "output_type": "execute_result"
    }
   ],
   "source": [
    "# Load the dataset\n",
    "df = pd.read_csv(\"./USDT.csv\")\n",
    "\n",
    "# Drop the unnecessary columns.\n",
    "df.drop(['Open', 'High', 'Low', 'Vol.', 'Change %'], axis=1, inplace=True)\n",
    "\n",
    "# Convert the \"Date\" column to datetime format\n",
    "df['Date'] = pd.to_datetime(df['Date'], format='%b %d, %Y')\n",
    "                                    \n",
    "# Sort the DataFrame by date\n",
    "df = df.sort_values('Date')\n",
    "\n",
    "# Set Date index\n",
    "df.set_index('Date', inplace=True)\n",
    "\n",
    "df"
   ]
  },
  {
   "cell_type": "markdown",
   "id": "0c4050e5",
   "metadata": {},
   "source": [
    "### Split the data into training, test and validate sets"
   ]
  },
  {
   "cell_type": "code",
   "execution_count": 18,
   "id": "f2b6b53f",
   "metadata": {},
   "outputs": [
    {
     "name": "stdout",
     "output_type": "stream",
     "text": [
      "Train shape: (1213, 1)\n",
      "Test shape: (606, 1)\n",
      "Validate shape: (204, 1)\n"
     ]
    }
   ],
   "source": [
    "train_size = int(0.6 * len(df))\n",
    "test_size = int(0.3 * len(df))\n",
    "val_size = len(df) - train_size - test_size\n",
    "\n",
    "train_data = df[:train_size]\n",
    "test_data = df[train_size:train_size+test_size]\n",
    "val_data = df[train_size+test_size:]\n",
    "\n",
    "print(\"Train shape:\", train_data.shape)\n",
    "print(\"Test shape:\", test_data.shape)\n",
    "print(\"Validate shape:\", val_data.shape)"
   ]
  },
  {
   "cell_type": "code",
   "execution_count": 19,
   "id": "1a5272e2",
   "metadata": {
    "colab": {
     "base_uri": "https://localhost:8080/"
    },
    "id": "1a5272e2",
    "outputId": "72f841c6-8b62-496f-db00-dd0a911d40c7"
   },
   "outputs": [
    {
     "name": "stdout",
     "output_type": "stream",
     "text": [
      "Train shape: (1416, 1)\n",
      "Test shape: (404, 1)\n",
      "Validate shape: (203, 1)\n"
     ]
    }
   ],
   "source": [
    "train_size = int(0.7 * len(df))\n",
    "test_size = int(0.2 * len(df))\n",
    "val_size = len(df) - train_size - test_size\n",
    "\n",
    "train_data = df[:train_size]\n",
    "test_data = df[train_size:train_size+test_size]\n",
    "val_data = df[train_size+test_size:]\n",
    "\n",
    "print(\"Train shape:\", train_data.shape)\n",
    "print(\"Test shape:\", test_data.shape)\n",
    "print(\"Validate shape:\", val_data.shape)"
   ]
  },
  {
   "cell_type": "code",
   "execution_count": 20,
   "id": "f3e50554",
   "metadata": {},
   "outputs": [
    {
     "name": "stdout",
     "output_type": "stream",
     "text": [
      "Train shape: (1213, 1)\n",
      "Test shape: (404, 1)\n",
      "Validate shape: (406, 1)\n"
     ]
    }
   ],
   "source": [
    "train_size = int(0.6 * len(df))\n",
    "test_size = int(0.2 * len(df))\n",
    "val_size = len(df) - train_size - test_size\n",
    "\n",
    "train_data = df[:train_size]\n",
    "test_data = df[train_size:train_size+test_size]\n",
    "val_data = df[train_size+test_size:]\n",
    "\n",
    "print(\"Train shape:\", train_data.shape)\n",
    "print(\"Test shape:\", test_data.shape)\n",
    "print(\"Validate shape:\", val_data.shape)"
   ]
  },
  {
   "cell_type": "markdown",
   "id": "CDT4u80EuyHT",
   "metadata": {
    "id": "CDT4u80EuyHT"
   },
   "source": [
    "## ARIMA Model"
   ]
  },
  {
   "cell_type": "markdown",
   "id": "aZhec0PShHNJ",
   "metadata": {
    "id": "aZhec0PShHNJ"
   },
   "source": [
    "### 3. Perfom ARIMA Model "
   ]
  },
  {
   "cell_type": "code",
   "execution_count": 21,
   "id": "xluIDn_CVZil",
   "metadata": {
    "colab": {
     "base_uri": "https://localhost:8080/"
    },
    "id": "xluIDn_CVZil",
    "outputId": "b9f31564-f0f5-4586-d1fe-08efea1ab71b"
   },
   "outputs": [
    {
     "name": "stdout",
     "output_type": "stream",
     "text": [
      "Requirement already satisfied: pmdarima in c:\\users\\phutran\\appdata\\local\\programs\\python\\python311\\lib\\site-packages (2.0.3)\n",
      "Requirement already satisfied: joblib>=0.11 in c:\\users\\phutran\\appdata\\local\\programs\\python\\python311\\lib\\site-packages (from pmdarima) (1.2.0)\n",
      "Requirement already satisfied: Cython!=0.29.18,!=0.29.31,>=0.29 in c:\\users\\phutran\\appdata\\local\\programs\\python\\python311\\lib\\site-packages (from pmdarima) (0.29.34)\n",
      "Requirement already satisfied: numpy>=1.21.2 in c:\\users\\phutran\\appdata\\local\\programs\\python\\python311\\lib\\site-packages (from pmdarima) (1.23.5)\n",
      "Requirement already satisfied: pandas>=0.19 in c:\\users\\phutran\\appdata\\local\\programs\\python\\python311\\lib\\site-packages (from pmdarima) (1.5.3)\n",
      "Requirement already satisfied: scikit-learn>=0.22 in c:\\users\\phutran\\appdata\\local\\programs\\python\\python311\\lib\\site-packages (from pmdarima) (1.2.2)\n",
      "Requirement already satisfied: scipy>=1.3.2 in c:\\users\\phutran\\appdata\\local\\programs\\python\\python311\\lib\\site-packages (from pmdarima) (1.10.1)\n",
      "Requirement already satisfied: statsmodels>=0.13.2 in c:\\users\\phutran\\appdata\\local\\programs\\python\\python311\\lib\\site-packages (from pmdarima) (0.13.5)\n",
      "Requirement already satisfied: urllib3 in c:\\users\\phutran\\appdata\\local\\programs\\python\\python311\\lib\\site-packages (from pmdarima) (1.26.5)\n",
      "Requirement already satisfied: setuptools!=50.0.0,>=38.6.0 in c:\\users\\phutran\\appdata\\local\\programs\\python\\python311\\lib\\site-packages (from pmdarima) (65.5.0)\n",
      "Requirement already satisfied: python-dateutil>=2.8.1 in c:\\users\\phutran\\appdata\\local\\programs\\python\\python311\\lib\\site-packages (from pandas>=0.19->pmdarima) (2.8.1)\n",
      "Requirement already satisfied: pytz>=2020.1 in c:\\users\\phutran\\appdata\\local\\programs\\python\\python311\\lib\\site-packages (from pandas>=0.19->pmdarima) (2022.7.1)\n",
      "Requirement already satisfied: threadpoolctl>=2.0.0 in c:\\users\\phutran\\appdata\\local\\programs\\python\\python311\\lib\\site-packages (from scikit-learn>=0.22->pmdarima) (3.1.0)\n",
      "Requirement already satisfied: patsy>=0.5.2 in c:\\users\\phutran\\appdata\\local\\programs\\python\\python311\\lib\\site-packages (from statsmodels>=0.13.2->pmdarima) (0.5.3)\n",
      "Requirement already satisfied: packaging>=21.3 in c:\\users\\phutran\\appdata\\local\\programs\\python\\python311\\lib\\site-packages (from statsmodels>=0.13.2->pmdarima) (23.0)\n",
      "Requirement already satisfied: six in c:\\users\\phutran\\appdata\\local\\programs\\python\\python311\\lib\\site-packages (from patsy>=0.5.2->statsmodels>=0.13.2->pmdarima) (1.16.0)\n"
     ]
    }
   ],
   "source": [
    "!pip install pmdarima"
   ]
  },
  {
   "cell_type": "code",
   "execution_count": 22,
   "id": "b0235031",
   "metadata": {},
   "outputs": [],
   "source": [
    "x_train = np.array(train_data.index).reshape(-1, 1)\n",
    "y_train = np.array(train_data['Price'])"
   ]
  },
  {
   "cell_type": "markdown",
   "id": "c4e5a807",
   "metadata": {},
   "source": [
    "### 3.1 Build the best ARIMA Model using p,d,q from auto_arima"
   ]
  },
  {
   "cell_type": "code",
   "execution_count": 23,
   "id": "7AiUw0UsU_iT",
   "metadata": {
    "colab": {
     "base_uri": "https://localhost:8080/"
    },
    "id": "7AiUw0UsU_iT",
    "outputId": "bc9e0412-0e81-4954-c761-de3f42841501"
   },
   "outputs": [
    {
     "name": "stdout",
     "output_type": "stream",
     "text": [
      "Performing stepwise search to minimize aic\n"
     ]
    },
    {
     "name": "stderr",
     "output_type": "stream",
     "text": [
      "C:\\Users\\PHUTRAN\\AppData\\Local\\Programs\\Python\\Python311\\Lib\\site-packages\\pmdarima\\arima\\_validation.py:62: UserWarning: m (12) set for non-seasonal fit. Setting to 0\n",
      "  warnings.warn(\"m (%i) set for non-seasonal fit. Setting to 0\" % m)\n"
     ]
    },
    {
     "name": "stdout",
     "output_type": "stream",
     "text": [
      " ARIMA(1,0,1)(0,0,0)[0]             : AIC=-10272.066, Time=0.19 sec\n",
      " ARIMA(0,0,0)(0,0,0)[0]             : AIC=3445.122, Time=0.02 sec\n",
      " ARIMA(1,0,0)(0,0,0)[0]             : AIC=inf, Time=0.08 sec\n",
      " ARIMA(0,0,1)(0,0,0)[0]             : AIC=inf, Time=0.17 sec\n",
      " ARIMA(2,0,1)(0,0,0)[0]             : AIC=inf, Time=0.56 sec\n",
      " ARIMA(1,0,2)(0,0,0)[0]             : AIC=-10300.053, Time=0.18 sec\n",
      " ARIMA(0,0,2)(0,0,0)[0]             : AIC=inf, Time=0.32 sec\n",
      " ARIMA(2,0,2)(0,0,0)[0]             : AIC=-10297.819, Time=0.21 sec\n",
      " ARIMA(1,0,3)(0,0,0)[0]             : AIC=-10300.040, Time=0.34 sec\n",
      " ARIMA(0,0,3)(0,0,0)[0]             : AIC=-1293.132, Time=0.50 sec\n",
      " ARIMA(2,0,3)(0,0,0)[0]             : AIC=-10298.051, Time=0.38 sec\n",
      " ARIMA(1,0,2)(0,0,0)[0] intercept   : AIC=-10330.379, Time=0.51 sec\n",
      " ARIMA(0,0,2)(0,0,0)[0] intercept   : AIC=-9747.749, Time=1.01 sec\n",
      " ARIMA(1,0,1)(0,0,0)[0] intercept   : AIC=-10314.470, Time=0.31 sec\n",
      " ARIMA(2,0,2)(0,0,0)[0] intercept   : AIC=-10323.308, Time=0.54 sec\n",
      " ARIMA(1,0,3)(0,0,0)[0] intercept   : AIC=-10329.649, Time=0.61 sec\n",
      " ARIMA(0,0,1)(0,0,0)[0] intercept   : AIC=-9448.528, Time=0.64 sec\n",
      " ARIMA(0,0,3)(0,0,0)[0] intercept   : AIC=-9975.823, Time=1.00 sec\n",
      " ARIMA(2,0,1)(0,0,0)[0] intercept   : AIC=-10180.469, Time=0.52 sec\n",
      " ARIMA(2,0,3)(0,0,0)[0] intercept   : AIC=-10326.614, Time=0.83 sec\n",
      "\n",
      "Best model:  ARIMA(1,0,2)(0,0,0)[0] intercept\n",
      "Total fit time: 8.954 seconds\n"
     ]
    }
   ],
   "source": [
    "arima_model = pmd.auto_arima(y_train, start_p=1, start_q=1,\n",
    "                         test='adf',\n",
    "                         max_p=3, max_q=3, m=12,\n",
    "                         start_P=0, seasonal=False,\n",
    "                         d=None, D=0, trace=True,\n",
    "                         error_action='ignore',  \n",
    "                         suppress_warnings=True, \n",
    "                         stepwise=True)"
   ]
  },
  {
   "cell_type": "code",
   "execution_count": 24,
   "id": "f8b5f93f",
   "metadata": {},
   "outputs": [
    {
     "name": "stdout",
     "output_type": "stream",
     "text": [
      "(1, 0, 2)\n"
     ]
    }
   ],
   "source": [
    "order = (arima_model.order[0], arima_model.order[1], arima_model.order[2])\n",
    "print(order)"
   ]
  },
  {
   "cell_type": "code",
   "execution_count": 25,
   "id": "12490ece",
   "metadata": {},
   "outputs": [],
   "source": [
    "def evaluate_ariama_model(x_data, y_data, order):\n",
    "    y_preds = list()\n",
    "    history = [x for x in y_train]\n",
    "    for t in range(len(y_data)):\n",
    "        model = ARIMA(history, order=order)\n",
    "        model_fit = model.fit()\n",
    "        output = model_fit.forecast()\n",
    "        yhat = output[0]\n",
    "        y_preds.append(yhat)\n",
    "        obs = y_data[t]\n",
    "        history.append(obs)\n",
    "    mse = mean_squared_error(y_data, y_preds)\n",
    "    mae = mean_absolute_error(y_data, y_preds)\n",
    "    mape = mean_absolute_percentage_error(y_data, y_preds)\n",
    "    rmse = mean_squared_error(y_data, y_preds, squared=False)\n",
    "    return y_preds, mse, mae, mape, rmse"
   ]
  },
  {
   "cell_type": "markdown",
   "id": "bbd93e27",
   "metadata": {},
   "source": [
    "### 3.2 Evaluate on Validate data"
   ]
  },
  {
   "cell_type": "code",
   "execution_count": 26,
   "id": "d07d09d3",
   "metadata": {},
   "outputs": [
    {
     "name": "stderr",
     "output_type": "stream",
     "text": [
      "C:\\Users\\PHUTRAN\\AppData\\Local\\Programs\\Python\\Python311\\Lib\\site-packages\\statsmodels\\base\\model.py:604: ConvergenceWarning: Maximum Likelihood optimization failed to converge. Check mle_retvals\n",
      "  warnings.warn(\"Maximum Likelihood optimization failed to \"\n",
      "C:\\Users\\PHUTRAN\\AppData\\Local\\Programs\\Python\\Python311\\Lib\\site-packages\\statsmodels\\base\\model.py:604: ConvergenceWarning: Maximum Likelihood optimization failed to converge. Check mle_retvals\n",
      "  warnings.warn(\"Maximum Likelihood optimization failed to \"\n",
      "C:\\Users\\PHUTRAN\\AppData\\Local\\Programs\\Python\\Python311\\Lib\\site-packages\\statsmodels\\base\\model.py:604: ConvergenceWarning: Maximum Likelihood optimization failed to converge. Check mle_retvals\n",
      "  warnings.warn(\"Maximum Likelihood optimization failed to \"\n",
      "C:\\Users\\PHUTRAN\\AppData\\Local\\Programs\\Python\\Python311\\Lib\\site-packages\\statsmodels\\base\\model.py:604: ConvergenceWarning: Maximum Likelihood optimization failed to converge. Check mle_retvals\n",
      "  warnings.warn(\"Maximum Likelihood optimization failed to \"\n",
      "C:\\Users\\PHUTRAN\\AppData\\Local\\Programs\\Python\\Python311\\Lib\\site-packages\\statsmodels\\base\\model.py:604: ConvergenceWarning: Maximum Likelihood optimization failed to converge. Check mle_retvals\n",
      "  warnings.warn(\"Maximum Likelihood optimization failed to \"\n",
      "C:\\Users\\PHUTRAN\\AppData\\Local\\Programs\\Python\\Python311\\Lib\\site-packages\\statsmodels\\base\\model.py:604: ConvergenceWarning: Maximum Likelihood optimization failed to converge. Check mle_retvals\n",
      "  warnings.warn(\"Maximum Likelihood optimization failed to \"\n",
      "C:\\Users\\PHUTRAN\\AppData\\Local\\Programs\\Python\\Python311\\Lib\\site-packages\\statsmodels\\base\\model.py:604: ConvergenceWarning: Maximum Likelihood optimization failed to converge. Check mle_retvals\n",
      "  warnings.warn(\"Maximum Likelihood optimization failed to \"\n",
      "C:\\Users\\PHUTRAN\\AppData\\Local\\Programs\\Python\\Python311\\Lib\\site-packages\\statsmodels\\base\\model.py:604: ConvergenceWarning: Maximum Likelihood optimization failed to converge. Check mle_retvals\n",
      "  warnings.warn(\"Maximum Likelihood optimization failed to \"\n",
      "C:\\Users\\PHUTRAN\\AppData\\Local\\Programs\\Python\\Python311\\Lib\\site-packages\\statsmodels\\base\\model.py:604: ConvergenceWarning: Maximum Likelihood optimization failed to converge. Check mle_retvals\n",
      "  warnings.warn(\"Maximum Likelihood optimization failed to \"\n",
      "C:\\Users\\PHUTRAN\\AppData\\Local\\Programs\\Python\\Python311\\Lib\\site-packages\\statsmodels\\base\\model.py:604: ConvergenceWarning: Maximum Likelihood optimization failed to converge. Check mle_retvals\n",
      "  warnings.warn(\"Maximum Likelihood optimization failed to \"\n",
      "C:\\Users\\PHUTRAN\\AppData\\Local\\Programs\\Python\\Python311\\Lib\\site-packages\\statsmodels\\base\\model.py:604: ConvergenceWarning: Maximum Likelihood optimization failed to converge. Check mle_retvals\n",
      "  warnings.warn(\"Maximum Likelihood optimization failed to \"\n",
      "C:\\Users\\PHUTRAN\\AppData\\Local\\Programs\\Python\\Python311\\Lib\\site-packages\\statsmodels\\base\\model.py:604: ConvergenceWarning: Maximum Likelihood optimization failed to converge. Check mle_retvals\n",
      "  warnings.warn(\"Maximum Likelihood optimization failed to \"\n",
      "C:\\Users\\PHUTRAN\\AppData\\Local\\Programs\\Python\\Python311\\Lib\\site-packages\\statsmodels\\base\\model.py:604: ConvergenceWarning: Maximum Likelihood optimization failed to converge. Check mle_retvals\n",
      "  warnings.warn(\"Maximum Likelihood optimization failed to \"\n",
      "C:\\Users\\PHUTRAN\\AppData\\Local\\Programs\\Python\\Python311\\Lib\\site-packages\\statsmodels\\base\\model.py:604: ConvergenceWarning: Maximum Likelihood optimization failed to converge. Check mle_retvals\n",
      "  warnings.warn(\"Maximum Likelihood optimization failed to \"\n",
      "C:\\Users\\PHUTRAN\\AppData\\Local\\Programs\\Python\\Python311\\Lib\\site-packages\\statsmodels\\base\\model.py:604: ConvergenceWarning: Maximum Likelihood optimization failed to converge. Check mle_retvals\n",
      "  warnings.warn(\"Maximum Likelihood optimization failed to \"\n",
      "C:\\Users\\PHUTRAN\\AppData\\Local\\Programs\\Python\\Python311\\Lib\\site-packages\\statsmodels\\base\\model.py:604: ConvergenceWarning: Maximum Likelihood optimization failed to converge. Check mle_retvals\n",
      "  warnings.warn(\"Maximum Likelihood optimization failed to \"\n",
      "C:\\Users\\PHUTRAN\\AppData\\Local\\Programs\\Python\\Python311\\Lib\\site-packages\\statsmodels\\base\\model.py:604: ConvergenceWarning: Maximum Likelihood optimization failed to converge. Check mle_retvals\n",
      "  warnings.warn(\"Maximum Likelihood optimization failed to \"\n",
      "C:\\Users\\PHUTRAN\\AppData\\Local\\Programs\\Python\\Python311\\Lib\\site-packages\\statsmodels\\base\\model.py:604: ConvergenceWarning: Maximum Likelihood optimization failed to converge. Check mle_retvals\n",
      "  warnings.warn(\"Maximum Likelihood optimization failed to \"\n",
      "C:\\Users\\PHUTRAN\\AppData\\Local\\Programs\\Python\\Python311\\Lib\\site-packages\\statsmodels\\base\\model.py:604: ConvergenceWarning: Maximum Likelihood optimization failed to converge. Check mle_retvals\n",
      "  warnings.warn(\"Maximum Likelihood optimization failed to \"\n",
      "C:\\Users\\PHUTRAN\\AppData\\Local\\Programs\\Python\\Python311\\Lib\\site-packages\\statsmodels\\base\\model.py:604: ConvergenceWarning: Maximum Likelihood optimization failed to converge. Check mle_retvals\n",
      "  warnings.warn(\"Maximum Likelihood optimization failed to \"\n",
      "C:\\Users\\PHUTRAN\\AppData\\Local\\Programs\\Python\\Python311\\Lib\\site-packages\\statsmodels\\base\\model.py:604: ConvergenceWarning: Maximum Likelihood optimization failed to converge. Check mle_retvals\n",
      "  warnings.warn(\"Maximum Likelihood optimization failed to \"\n",
      "C:\\Users\\PHUTRAN\\AppData\\Local\\Programs\\Python\\Python311\\Lib\\site-packages\\statsmodels\\base\\model.py:604: ConvergenceWarning: Maximum Likelihood optimization failed to converge. Check mle_retvals\n",
      "  warnings.warn(\"Maximum Likelihood optimization failed to \"\n",
      "C:\\Users\\PHUTRAN\\AppData\\Local\\Programs\\Python\\Python311\\Lib\\site-packages\\statsmodels\\base\\model.py:604: ConvergenceWarning: Maximum Likelihood optimization failed to converge. Check mle_retvals\n",
      "  warnings.warn(\"Maximum Likelihood optimization failed to \"\n",
      "C:\\Users\\PHUTRAN\\AppData\\Local\\Programs\\Python\\Python311\\Lib\\site-packages\\statsmodels\\base\\model.py:604: ConvergenceWarning: Maximum Likelihood optimization failed to converge. Check mle_retvals\n",
      "  warnings.warn(\"Maximum Likelihood optimization failed to \"\n",
      "C:\\Users\\PHUTRAN\\AppData\\Local\\Programs\\Python\\Python311\\Lib\\site-packages\\statsmodels\\base\\model.py:604: ConvergenceWarning: Maximum Likelihood optimization failed to converge. Check mle_retvals\n",
      "  warnings.warn(\"Maximum Likelihood optimization failed to \"\n",
      "C:\\Users\\PHUTRAN\\AppData\\Local\\Programs\\Python\\Python311\\Lib\\site-packages\\statsmodels\\base\\model.py:604: ConvergenceWarning: Maximum Likelihood optimization failed to converge. Check mle_retvals\n",
      "  warnings.warn(\"Maximum Likelihood optimization failed to \"\n",
      "C:\\Users\\PHUTRAN\\AppData\\Local\\Programs\\Python\\Python311\\Lib\\site-packages\\statsmodels\\base\\model.py:604: ConvergenceWarning: Maximum Likelihood optimization failed to converge. Check mle_retvals\n",
      "  warnings.warn(\"Maximum Likelihood optimization failed to \"\n",
      "C:\\Users\\PHUTRAN\\AppData\\Local\\Programs\\Python\\Python311\\Lib\\site-packages\\statsmodels\\base\\model.py:604: ConvergenceWarning: Maximum Likelihood optimization failed to converge. Check mle_retvals\n",
      "  warnings.warn(\"Maximum Likelihood optimization failed to \"\n",
      "C:\\Users\\PHUTRAN\\AppData\\Local\\Programs\\Python\\Python311\\Lib\\site-packages\\statsmodels\\base\\model.py:604: ConvergenceWarning: Maximum Likelihood optimization failed to converge. Check mle_retvals\n",
      "  warnings.warn(\"Maximum Likelihood optimization failed to \"\n",
      "C:\\Users\\PHUTRAN\\AppData\\Local\\Programs\\Python\\Python311\\Lib\\site-packages\\statsmodels\\base\\model.py:604: ConvergenceWarning: Maximum Likelihood optimization failed to converge. Check mle_retvals\n",
      "  warnings.warn(\"Maximum Likelihood optimization failed to \"\n"
     ]
    },
    {
     "name": "stdout",
     "output_type": "stream",
     "text": [
      "Price predict on validate data: [1.0000019722181992, 1.0000102775883397, 1.0001001393482307, 1.0000275960967917, 1.0001734205271509, 0.9978269594798539, 0.9987470866285273, 0.9987896885719991, 0.9989982033283166, 0.9990996846114388, 0.999003658050631, 0.9991590081011922, 0.9989509245545615, 0.9993055660089576, 0.9991605935163664, 0.9994078741499652, 0.9994099011220989, 0.9992383870559493, 0.9992359778673526, 0.9992110401962675, 0.9992730932864474, 0.9992716900280858, 0.9994870392691483, 0.9994319874159918, 0.9995310782987025, 0.9994661700344372, 0.9997532048749852, 0.9997628797598335, 0.9995300263026458, 0.999871689912166, 0.9998578319217256, 0.9995575396930355, 0.9996163296654431, 0.9995751321952072, 0.9995035983449533, 0.9994930796163751, 0.9998251235098834, 1.0000471534961695, 0.9994201142933713, 0.9994281467709019, 0.9994794818594916, 0.9992588062587457, 0.9986985001055253, 0.9991160987227071, 0.9989094976989976, 0.9989425108188392, 0.9989908971692634, 0.9989940868158067, 0.9990707133060389, 0.9992840948653496, 0.999515531436335, 0.9999090733807069, 0.9992845575022049, 0.9992485287305655, 0.999164792303263, 0.9991376377164798, 0.9991875994634642, 0.9991137027538641, 0.9991154484412218, 0.9990364082073755, 0.9990989714643825, 0.9990900366957141, 0.9993724748918689, 0.9993888255258964, 0.9995710433780611, 0.9995929318907683, 0.999417456510779, 0.9992098550370336, 0.9995178323610626, 0.9994296455437243, 0.9997401320318642, 0.9998216564336115, 0.9998728516320117, 0.9998978279216221, 0.9999806154576468, 0.9999917531397845, 1.000075376592793, 1.0000847800078696, 1.0000300842804593, 1.0001001687326052, 1.0000277078249928, 1.000101707262621, 1.0002347391732131, 1.0001828906930024, 1.0003402130768901, 1.0002079578307652, 1.0002237426243368, 1.0002091802120665, 1.0001385923095925, 1.0001321198901634, 1.0001204277358073, 1.000047441891261, 0.9999717494190025, 1.0000936476697961, 1.0001556741273765, 1.0001750744215738, 1.0001889469779168, 1.0003333208310439, 1.000344943896163, 1.0002994365195, 1.0002342759126293, 1.0001558638845933, 1.0001401774167702, 1.0000559641247655, 1.000045748462105, 1.0000311416226098, 0.99995685618962, 1.0000183917453305, 0.9999409095340936, 0.9999433835569423, 0.9999330607600497, 0.9999996782979995, 1.0000705657763986, 1.0001534636297875, 1.0002401258969658, 1.0000535081544446, 1.000128140373102, 1.0000382137404977, 1.000108265092547, 1.0000998056219745, 1.0000384946200065, 1.0000353205046066, 0.999956812351558, 0.9999498623812524, 1.0000059105989936, 1.0000744975706581, 1.000224288473411, 1.0002450720969707, 1.0002027332278833, 1.0002086895694822, 1.0001352720103887, 1.0001999516503706, 1.0001234266688839, 1.0001266037658425, 1.0001856015370898, 1.0000494259446369, 1.0001882474670516, 1.0001081877272462, 1.0001209228388817, 1.000112940467211, 1.000181631407373, 1.0001844103794708, 1.0001258642364703, 1.000194001922198, 0.9999825073735569, 0.9999789803446371, 1.0000861093332, 1.0001544648530143, 1.0000354544305605, 1.0001111185111815, 1.0001000207030328, 1.0001767944972175, 1.000181257141272, 1.0001242973824784, 1.0001930901349936, 1.000119975836898, 1.0001936223455883, 0.9999815163092143, 0.9999786075502146, 1.0000168197523445, 1.0000122990507727, 1.000016508264497, 1.0000169671873684, 1.0000866670193231, 1.0000909021497502, 1.0001018702919096, 1.0000363560825667, 1.0000348251791296, 1.00016313076479, 1.000099354891729, 1.0001148826099029, 0.9999719550034807, 1.0001718369455175, 1.000230711449499, 1.0001913266583784, 1.0002034471117773, 1.000270051735119, 1.0002751298071286, 1.0000789150710507, 1.000070488726754, 1.0001095009160919, 1.0000354217102667, 1.0001735896346424, 1.000240125979444, 1.0002630167346678, 1.0001404649358352, 1.0002087698571611, 0.9994363419151283, 0.9987774833124567, 0.9987602977968599, 0.9987722672258788, 0.9988826698654901, 0.999092060712496, 0.9990512044749721, 0.999222203359806, 0.9992330247880075, 0.9990529913894067, 0.9990496106630211, 0.9988161887990856, 0.9989347796861935, 0.998904585992244, 0.9990513957074312, 0.9991953847108214, 0.9992946623279216, 0.9993269301145551, 0.9994184226645823, 0.9995018579666952, 0.9996605632346327, 1.000099802102756, 1.00001475920075, 1.0000138007095263, 1.0000846632896818, 1.0001580034291828, 0.9999661269629602, 1.0000375168569204, 1.0000839941861863, 1.0001611598096407, 1.0001048533018257, 1.0001151126388257, 1.0003168604994659, 1.0001908748369481, 0.9999385679317673, 1.0001180515704455, 1.0001560916707373, 1.0001773246917063, 1.0002572875367426, 1.0001981487866407, 1.0000700528367725, 1.0001943322103306, 1.0001115699323737, 1.0000525395651143, 1.000177476652355, 1.000242666610776, 1.0003323267858766, 1.000074936974248, 0.999938559481934, 0.999894605347864, 0.9997947514296591, 0.9997764335412103, 0.9998954987742157, 0.9998268798769929, 0.9999088315644196, 0.9998374933426235, 0.9997754673740894, 0.9997632120888185, 0.999820211853736, 0.9998883020535353, 1.0001071183737895, 0.9999937798969099, 1.0000922412665394, 0.9999499159878943, 1.0000927430936488, 1.0000818446571451, 1.0001681835221399, 1.0001751787135515, 1.000120219214932, 1.0001899169093638, 0.9999792919201156, 1.0000452442356687, 1.000087640483589, 1.0000939587374085, 1.0001706165887807, 1.0001084978931312, 1.0001861658849849, 1.0001836408060227, 1.0000559487737435, 1.000188338920302, 1.0001767733867981, 1.000054445759894, 1.000117960640556, 1.0001032000282282, 1.0001083017550485, 1.0001075510727684, 1.0001080720634166, 1.00003909370193, 1.0001731951400248, 1.0000323712823336, 1.0001116259926417, 1.0000293800287055, 1.0000331183351634, 1.0000914685154414, 1.0000931799964168, 1.0001708830894203, 1.000384411340584, 1.0002710621602746, 1.0001617582149827, 1.0001452973522706, 1.0001945186981844, 1.0001219729621138, 1.0002620268111218, 1.0000532616210547, 1.0001986554278672, 1.00004103558529, 1.0001174700101563, 1.0001011162960423, 1.0001766298381531, 1.0001110088168572, 1.0000495819634185, 1.000107305266626, 1.0000996386370054, 1.0000367797326264, 1.0001023219125709, 1.0000275024509235, 1.0000312506336573, 0.9999526447816498, 0.9999466571877346, 0.9999339597396245, 1.0000677770207176, 1.0022811139107966, 1.0048492734907057, 1.0054815402790735, 1.0039713251663127, 1.0032471123014162, 1.0034993367645793, 1.0022561005463295, 1.0020557663556315, 1.0016483752603167, 1.0016947778791112, 1.0015518466318445, 1.0014661674216774, 1.0014378041393364, 1.0010724486325833, 1.0010439543081235, 1.000708161187896, 1.0007423708836864, 1.0003437922858638, 1.000246275062912, 1.000040277856887, 1.0000702485188855, 1.000103961671652, 1.0001720167203614, 1.000042031597871, 1.0000460500149793, 1.0000978842174442, 0.999959469800872, 1.00009734250164, 1.0000854204478613, 0.9999634569163832, 1.000234948150173, 1.000024386136107, 1.0002578215134663, 1.0002464800719202, 1.0006223953487798, 1.0005097548631208, 1.0003543092152534, 1.0002019395534958, 1.0003760415041314, 1.0002882932577306, 1.0004425230581566, 1.0002345325713113, 1.0002445388210717, 1.000286911872657, 1.0002160635402457, 1.0002177252366469, 1.0001389689477163, 1.0002711539077265, 1.0001278565265912, 1.0004141494018717, 1.0003428030694375, 1.0003788229514017, 1.0003781303295025, 1.0004522181971776, 1.0003189610683765, 1.0003921475535198, 1.000793280298086, 1.0014459783648657, 1.0012688937792444, 1.0009565402678806, 1.0005890724733666, 1.0007273992805112, 1.0005307123418261, 1.0005964851208686, 1.0005716850682187, 1.000436180602876, 1.000287293803303, 1.0001884360211106, 1.0001557584873753, 1.0002024388847084, 1.000195841588178, 1.0002698994099617, 1.0002741268215254, 1.000216525109269, 1.0000778973290925, 1.0000619016068193, 1.0000381242283745, 1.0003063694004948, 1.0003855293641497, 1.0003607774271885, 1.0002413100849459, 1.0002349598444833, 1.0002164107856766, 1.000072322767641, 1.0003371384672568, 1.0001908588550243, 1.000080111948518, 1.0001971972393782, 1.0001145880205502, 1.0001237550372655, 1.0004603437705988, 1.0002019495675607, 1.0004462981101194, 1.0002235043206642, 1.0001040564667159, 1.0000005216607672, 0.9999016047096507, 0.9995294268219713]\n"
     ]
    }
   ],
   "source": [
    "x_val= np.array(val_data.index).reshape(-1, 1)\n",
    "y_val = np.array(val_data['Price'])\n",
    "y_pred_val, val_mse, val_mae, val_mape, val_rmse = evaluate_ariama_model(x_val, y_val, order)\n",
    "\n",
    "print(\"Price predict on validate data:\", y_pred_val)"
   ]
  },
  {
   "cell_type": "markdown",
   "id": "F1b6EiskiVot",
   "metadata": {
    "id": "F1b6EiskiVot"
   },
   "source": [
    "### 3.3 Evaluate on Test data"
   ]
  },
  {
   "cell_type": "code",
   "execution_count": 27,
   "id": "461adc13",
   "metadata": {
    "colab": {
     "base_uri": "https://localhost:8080/",
     "height": 785
    },
    "id": "461adc13",
    "outputId": "4fb808c0-096c-42fd-d60c-bca34cb18791"
   },
   "outputs": [
    {
     "name": "stderr",
     "output_type": "stream",
     "text": [
      "C:\\Users\\PHUTRAN\\AppData\\Local\\Programs\\Python\\Python311\\Lib\\site-packages\\statsmodels\\base\\model.py:604: ConvergenceWarning: Maximum Likelihood optimization failed to converge. Check mle_retvals\n",
      "  warnings.warn(\"Maximum Likelihood optimization failed to \"\n",
      "C:\\Users\\PHUTRAN\\AppData\\Local\\Programs\\Python\\Python311\\Lib\\site-packages\\statsmodels\\base\\model.py:604: ConvergenceWarning: Maximum Likelihood optimization failed to converge. Check mle_retvals\n",
      "  warnings.warn(\"Maximum Likelihood optimization failed to \"\n",
      "C:\\Users\\PHUTRAN\\AppData\\Local\\Programs\\Python\\Python311\\Lib\\site-packages\\statsmodels\\base\\model.py:604: ConvergenceWarning: Maximum Likelihood optimization failed to converge. Check mle_retvals\n",
      "  warnings.warn(\"Maximum Likelihood optimization failed to \"\n",
      "C:\\Users\\PHUTRAN\\AppData\\Local\\Programs\\Python\\Python311\\Lib\\site-packages\\statsmodels\\base\\model.py:604: ConvergenceWarning: Maximum Likelihood optimization failed to converge. Check mle_retvals\n",
      "  warnings.warn(\"Maximum Likelihood optimization failed to \"\n",
      "C:\\Users\\PHUTRAN\\AppData\\Local\\Programs\\Python\\Python311\\Lib\\site-packages\\statsmodels\\base\\model.py:604: ConvergenceWarning: Maximum Likelihood optimization failed to converge. Check mle_retvals\n",
      "  warnings.warn(\"Maximum Likelihood optimization failed to \"\n",
      "C:\\Users\\PHUTRAN\\AppData\\Local\\Programs\\Python\\Python311\\Lib\\site-packages\\statsmodels\\base\\model.py:604: ConvergenceWarning: Maximum Likelihood optimization failed to converge. Check mle_retvals\n",
      "  warnings.warn(\"Maximum Likelihood optimization failed to \"\n",
      "C:\\Users\\PHUTRAN\\AppData\\Local\\Programs\\Python\\Python311\\Lib\\site-packages\\statsmodels\\base\\model.py:604: ConvergenceWarning: Maximum Likelihood optimization failed to converge. Check mle_retvals\n",
      "  warnings.warn(\"Maximum Likelihood optimization failed to \"\n",
      "C:\\Users\\PHUTRAN\\AppData\\Local\\Programs\\Python\\Python311\\Lib\\site-packages\\statsmodels\\base\\model.py:604: ConvergenceWarning: Maximum Likelihood optimization failed to converge. Check mle_retvals\n",
      "  warnings.warn(\"Maximum Likelihood optimization failed to \"\n",
      "C:\\Users\\PHUTRAN\\AppData\\Local\\Programs\\Python\\Python311\\Lib\\site-packages\\statsmodels\\base\\model.py:604: ConvergenceWarning: Maximum Likelihood optimization failed to converge. Check mle_retvals\n",
      "  warnings.warn(\"Maximum Likelihood optimization failed to \"\n",
      "C:\\Users\\PHUTRAN\\AppData\\Local\\Programs\\Python\\Python311\\Lib\\site-packages\\statsmodels\\base\\model.py:604: ConvergenceWarning: Maximum Likelihood optimization failed to converge. Check mle_retvals\n",
      "  warnings.warn(\"Maximum Likelihood optimization failed to \"\n",
      "C:\\Users\\PHUTRAN\\AppData\\Local\\Programs\\Python\\Python311\\Lib\\site-packages\\statsmodels\\base\\model.py:604: ConvergenceWarning: Maximum Likelihood optimization failed to converge. Check mle_retvals\n",
      "  warnings.warn(\"Maximum Likelihood optimization failed to \"\n",
      "C:\\Users\\PHUTRAN\\AppData\\Local\\Programs\\Python\\Python311\\Lib\\site-packages\\statsmodels\\base\\model.py:604: ConvergenceWarning: Maximum Likelihood optimization failed to converge. Check mle_retvals\n",
      "  warnings.warn(\"Maximum Likelihood optimization failed to \"\n",
      "C:\\Users\\PHUTRAN\\AppData\\Local\\Programs\\Python\\Python311\\Lib\\site-packages\\statsmodels\\base\\model.py:604: ConvergenceWarning: Maximum Likelihood optimization failed to converge. Check mle_retvals\n",
      "  warnings.warn(\"Maximum Likelihood optimization failed to \"\n",
      "C:\\Users\\PHUTRAN\\AppData\\Local\\Programs\\Python\\Python311\\Lib\\site-packages\\statsmodels\\base\\model.py:604: ConvergenceWarning: Maximum Likelihood optimization failed to converge. Check mle_retvals\n",
      "  warnings.warn(\"Maximum Likelihood optimization failed to \"\n",
      "C:\\Users\\PHUTRAN\\AppData\\Local\\Programs\\Python\\Python311\\Lib\\site-packages\\statsmodels\\base\\model.py:604: ConvergenceWarning: Maximum Likelihood optimization failed to converge. Check mle_retvals\n",
      "  warnings.warn(\"Maximum Likelihood optimization failed to \"\n",
      "C:\\Users\\PHUTRAN\\AppData\\Local\\Programs\\Python\\Python311\\Lib\\site-packages\\statsmodels\\base\\model.py:604: ConvergenceWarning: Maximum Likelihood optimization failed to converge. Check mle_retvals\n",
      "  warnings.warn(\"Maximum Likelihood optimization failed to \"\n",
      "C:\\Users\\PHUTRAN\\AppData\\Local\\Programs\\Python\\Python311\\Lib\\site-packages\\statsmodels\\base\\model.py:604: ConvergenceWarning: Maximum Likelihood optimization failed to converge. Check mle_retvals\n",
      "  warnings.warn(\"Maximum Likelihood optimization failed to \"\n",
      "C:\\Users\\PHUTRAN\\AppData\\Local\\Programs\\Python\\Python311\\Lib\\site-packages\\statsmodels\\base\\model.py:604: ConvergenceWarning: Maximum Likelihood optimization failed to converge. Check mle_retvals\n",
      "  warnings.warn(\"Maximum Likelihood optimization failed to \"\n",
      "C:\\Users\\PHUTRAN\\AppData\\Local\\Programs\\Python\\Python311\\Lib\\site-packages\\statsmodels\\base\\model.py:604: ConvergenceWarning: Maximum Likelihood optimization failed to converge. Check mle_retvals\n",
      "  warnings.warn(\"Maximum Likelihood optimization failed to \"\n",
      "C:\\Users\\PHUTRAN\\AppData\\Local\\Programs\\Python\\Python311\\Lib\\site-packages\\statsmodels\\base\\model.py:604: ConvergenceWarning: Maximum Likelihood optimization failed to converge. Check mle_retvals\n",
      "  warnings.warn(\"Maximum Likelihood optimization failed to \"\n",
      "C:\\Users\\PHUTRAN\\AppData\\Local\\Programs\\Python\\Python311\\Lib\\site-packages\\statsmodels\\base\\model.py:604: ConvergenceWarning: Maximum Likelihood optimization failed to converge. Check mle_retvals\n",
      "  warnings.warn(\"Maximum Likelihood optimization failed to \"\n",
      "C:\\Users\\PHUTRAN\\AppData\\Local\\Programs\\Python\\Python311\\Lib\\site-packages\\statsmodels\\base\\model.py:604: ConvergenceWarning: Maximum Likelihood optimization failed to converge. Check mle_retvals\n",
      "  warnings.warn(\"Maximum Likelihood optimization failed to \"\n",
      "C:\\Users\\PHUTRAN\\AppData\\Local\\Programs\\Python\\Python311\\Lib\\site-packages\\statsmodels\\base\\model.py:604: ConvergenceWarning: Maximum Likelihood optimization failed to converge. Check mle_retvals\n",
      "  warnings.warn(\"Maximum Likelihood optimization failed to \"\n",
      "C:\\Users\\PHUTRAN\\AppData\\Local\\Programs\\Python\\Python311\\Lib\\site-packages\\statsmodels\\base\\model.py:604: ConvergenceWarning: Maximum Likelihood optimization failed to converge. Check mle_retvals\n",
      "  warnings.warn(\"Maximum Likelihood optimization failed to \"\n"
     ]
    },
    {
     "name": "stdout",
     "output_type": "stream",
     "text": [
      "Price predict on test data: [1.0000019722181992, 1.0002173048768777, 1.0006641551275601, 1.0002298759144563, 1.0000020867202826, 0.99993738354998, 0.9997501023249281, 1.000203115129358, 1.0000584904561698, 1.000112925636545, 0.9999687271752906, 1.0000358584913893, 0.9998808981306804, 1.0000850120268683, 1.0001432336462637, 1.0000352409037607, 0.9998363855172737, 0.9998803172927145, 1.0006086329232167, 1.0005814459190923, 1.0002085071841882, 1.0008958861841184, 1.0006060722643098, 1.0007529099605867, 1.0003222969571781, 1.0004528891946431, 1.000673952005672, 1.0013839737274075, 1.001046229911674, 1.0009359905871176, 1.000763698416702, 1.0007311610490226, 1.0004222073541167, 1.0003240621978289, 1.0002686957746203, 1.000378269494586, 1.0002328934097686, 1.0005145476631534, 1.000718361979577, 1.000562304140567, 1.0007306587425204, 1.0007935026646646, 1.0007507032741443, 1.0007625324293012, 1.0008286064977234, 1.00069548982567, 1.0006291977519028, 1.000883134668038, 1.0008838526091708, 1.001541093370364, 1.0002755133329828, 1.0007877768642544, 1.0013342536034178, 1.0015468699289836, 1.0018588941471236, 1.0018595866839841, 1.0016421376647744, 1.0010897250145387, 1.0011650989703615, 1.0012854340259028, 1.0008022592814043, 1.000515455243989, 1.0002212909998134, 0.9999388370498737, 1.0001414970137321, 0.9998910998256397, 1.0001034720716129, 1.0000813492316452, 1.0003816103887604, 1.0004007470152185, 1.0001032462232562, 1.0003055818636393, 1.0006191848566648, 1.000176411209472, 1.0003415814678893, 1.0000869761921416, 1.00029292545347, 0.9999925288204422, 1.0001373544943106, 1.0000355771968956, 0.9999054722753237, 1.0000231763183627, 1.0004213803908635, 1.0009407926523428, 1.0008275344442605, 1.001396841558766, 1.0010863297915777, 1.0006730127362922, 1.000274512353123, 1.0000440648015156, 1.0009216339864424, 1.0005073667343185, 1.0004696348226987, 1.0002913989077828, 1.0003365470906695, 1.0002400278945087, 1.0003042162435023, 1.0002932669600952, 1.0000924610949955, 1.0002876205214364, 1.0001990106406575, 1.0003555051116935, 0.9998037578884763, 0.9996561284553789, 0.9999125753995785, 0.9999572744810755, 0.9998531345561961, 1.0001364081531554, 1.0001394647874449, 1.0001803530777165, 1.0004675376714818, 1.000561165762136, 1.0007502757686253, 1.0004398852354788, 1.0004558788931912, 1.0003471545865248, 1.0003350115005167, 1.000385441398737, 1.0007278446814576, 1.000685175132057, 1.0004605680476335, 1.0004521479796193, 1.0003491477011672, 1.000266049576206, 1.0003818068760744, 1.0002341400025028, 1.000516053353894, 1.0003055971552186, 1.0003326632681866, 1.0001719834852527, 1.000368913222898, 1.0003554551317422, 1.0002417825997987, 1.0001693140574688, 1.0002863442939411, 1.0002095239032398, 1.0002890564968403, 1.0003539284336787, 1.0002990713968605, 1.0004459986150045, 1.0005865410020702, 1.000339945029835, 1.0002826617582845, 1.0003158699500019, 1.0002333315151826, 1.0003685049735793, 1.0005020373333462, 1.0005279476621418, 1.000346648211736, 1.000345149431205, 1.000250094450984, 1.0003080668315372, 1.0005027009994223, 1.0005195821555337, 1.0006205749379715, 1.000428339644114, 1.0003655935198104, 1.0003360592683554, 1.000319422278939, 1.000241868707499, 1.0003022963022, 1.0003620447992447, 1.0003721408690947, 1.0003832508475068, 1.000318596533166, 1.0002483341961101, 1.0002348776588699, 1.0002904003563111, 1.0001509193394573, 1.0002194413170349, 1.0002725485441046, 1.000351046370684, 1.0002960267358916, 1.0002378315415863, 1.0002289079384732, 1.0002873286701388, 1.0000112431819783, 1.0002105978964748, 1.0003884417429558, 1.000558926716393, 1.000807603006806, 1.0010616396093361, 1.0008450894698955, 1.0005357503107863, 1.0003566101418333, 1.0001560645436762, 1.0001753572151915, 1.0003449206456796, 1.0003497261616812, 1.0005130037293635, 1.0003212388372633, 1.0004744547860527, 1.0003902516150005, 1.0003349639247874, 1.000253671780189, 1.0003076572274978, 1.0001581634782937, 1.000154838579012, 1.0000637969328525, 1.0001225679820636, 1.0001109626322022, 0.9999782062564875, 1.0000389974911144, 1.000022016753649, 0.9999571401738842, 1.0001588633038037, 1.0001602024002332, 1.0000510747780509, 0.9999128795181107, 1.0000274505191402, 0.9998716540819391, 1.000013253718239, 0.999931075455044, 1.000426721005355, 1.000239199978028, 1.0001645074820131, 1.0003536730013798, 1.0004193448114387, 1.0004492128605176, 1.000535361316285, 1.0003410487038775, 1.0004826701103977, 1.0007401045237538, 1.0006331526845527, 1.000669804547325, 1.0003882808852493, 1.000238117473703, 1.0001181318305785, 1.000286545172951, 1.000202337652871, 1.000149191480088, 1.000137463050352, 0.9999888410921592, 1.000183462101006, 1.000309104949309, 1.0004793575036863, 1.0007205830738315, 1.0006965750618961, 1.0009455944477892, 1.0007581366597158, 1.00044154858274, 1.0004026406325965, 1.0006236809138178, 1.000619629139956, 1.0007878730917423, 1.0008031963653374, 1.0009000541966142, 1.0008445154724475, 1.0006507702816085, 1.000703509209069, 1.0005377864163212, 1.0010131073371642, 1.00108447190897, 1.0009493078105904, 1.0008283609385387, 1.0008748070653113, 1.0006487240531634, 1.0005693799751694, 1.0006687388275335, 1.000586302868101, 1.000730896431157, 1.000452873838954, 1.000594949024256, 1.0003576029685632, 1.0004268337766222, 1.0004662992588456, 1.0003342962095636, 1.0002645043374925, 1.0003106572439648, 1.0002987537850847, 1.0003021572568738, 1.0004393846442061, 1.0005166179127847, 1.0004731625903895, 1.000348813250133, 1.0002002905238372, 1.0001719896578083, 1.0000745292219837, 1.000059074142079, 1.000179239298277, 1.0001803044339856, 1.000059559913153, 0.9999872829553699, 1.0000343686058233, 0.9999533375564683, 0.9999528584218038, 1.0000792764790345, 1.0000150876370004, 1.0001682779182075, 1.0002401294986174, 1.0003355298366094, 1.000287586519965, 1.0003716521816668, 1.0003037861914668, 1.000312007067124, 1.000304563771878, 1.0002347617782537, 1.0002985357007923, 1.0001532370843642, 1.0003594265738167, 1.0003505707092957, 1.0005154372002312, 1.0004601770444643, 1.0006901718470398, 1.0006313094323536, 1.0003174952672895, 1.000435524104594, 1.0003938295994745, 1.00046859159887, 1.0004681820090684, 1.0005476658134411, 1.0004853296387062, 1.0004943585846626, 1.0006949453808716, 1.0006374543779757, 1.0006648937671825, 1.0006639768230545, 1.0008746592476807, 1.000818418362092, 1.0007786098413094, 1.0006363422466236, 1.000621658666354, 1.0005976865377253, 1.0005203141199805, 1.0005797702251165, 1.0005702979772857, 1.000645240238019, 1.0005114227054246, 1.0005151870886162, 1.0006352704047712, 1.0007080606464174, 1.000661017930468, 1.0006041117584434, 1.000734690581598, 1.0006636363111399, 1.0006776110988955, 1.0006022300332236, 1.0003915399182488, 1.00050601715455, 1.0004089713626543, 1.0002758152347782, 1.0003244244435026, 1.0003042031187837, 1.0003057697826254, 1.0002343102009625, 1.0002299122378717, 1.0003566638462598, 1.0004300401752015, 1.0002460662150547, 1.0002505797157406, 1.0002257341006466, 1.00035786457713, 1.0004297596141718, 1.0003841773178845, 1.0003965295370727, 1.0003933262552447, 1.0003942349658987, 1.0003940226153012, 1.000256078628822, 1.0003171302109939, 1.0002994969606311, 1.000372512995805, 1.0003750446051596, 1.0003860411203171, 1.0002512698086743, 1.0003147397334455, 1.0003671997800643, 1.0003067987292478, 1.000312507768533, 1.0003744701505168, 1.000308392445475, 1.0002449462072345, 1.000233083027892, 1.0002209886728606, 1.0002851406143805, 1.0002171160031479, 1.0002914839307298, 1.00028723841826, 1.0004346624574558, 1.0003064622841897, 1.0002529421505615, 1.0002348964443353, 1.0001535739698093, 1.0002128187853945, 1.0002027187329219, 1.0002774537974244, 1.0001434815506363, 1.0001471655930396, 1.0001981822286459, 1.0001289388262848, 1.0000631068215553, 1.0001881816973641, 1.0001834102492573, 1.000061830282497, 1.0000575180777356, 1.0000391757949443, 1.0000337403947106, 1.000029708833638, 1.0002348994547758, 1.000176752178614, 1.0000666393741002, 1.0000577873527832, 0.9999708659350415, 0.9999609267299463]\n"
     ]
    }
   ],
   "source": [
    "x_test = np.array(test_data.index).reshape(-1, 1)\n",
    "y_test = np.array(test_data['Price'])\n",
    "y_pred_test, test_mse, test_mae, test_mape, test_rmse = evaluate_ariama_model(x_test, y_test, order)\n",
    "\n",
    "print(\"Price predict on test data:\", y_pred_test)"
   ]
  },
  {
   "cell_type": "markdown",
   "id": "T-klU1u3iRGA",
   "metadata": {
    "id": "T-klU1u3iRGA"
   },
   "source": [
    "### 3.4 Predict price for the next 30 days"
   ]
  },
  {
   "cell_type": "code",
   "execution_count": 28,
   "id": "R4r5BckljBBe",
   "metadata": {
    "colab": {
     "base_uri": "https://localhost:8080/"
    },
    "id": "R4r5BckljBBe",
    "outputId": "502ae446-ae4d-435e-8edf-962a4ec8535e"
   },
   "outputs": [
    {
     "name": "stderr",
     "output_type": "stream",
     "text": [
      "C:\\Users\\PHUTRAN\\AppData\\Local\\Programs\\Python\\Python311\\Lib\\site-packages\\statsmodels\\base\\model.py:604: ConvergenceWarning: Maximum Likelihood optimization failed to converge. Check mle_retvals\n",
      "  warnings.warn(\"Maximum Likelihood optimization failed to \"\n",
      "C:\\Users\\PHUTRAN\\AppData\\Local\\Programs\\Python\\Python311\\Lib\\site-packages\\statsmodels\\base\\model.py:604: ConvergenceWarning: Maximum Likelihood optimization failed to converge. Check mle_retvals\n",
      "  warnings.warn(\"Maximum Likelihood optimization failed to \"\n",
      "C:\\Users\\PHUTRAN\\AppData\\Local\\Programs\\Python\\Python311\\Lib\\site-packages\\statsmodels\\base\\model.py:604: ConvergenceWarning: Maximum Likelihood optimization failed to converge. Check mle_retvals\n",
      "  warnings.warn(\"Maximum Likelihood optimization failed to \"\n",
      "C:\\Users\\PHUTRAN\\AppData\\Local\\Programs\\Python\\Python311\\Lib\\site-packages\\statsmodels\\base\\model.py:604: ConvergenceWarning: Maximum Likelihood optimization failed to converge. Check mle_retvals\n",
      "  warnings.warn(\"Maximum Likelihood optimization failed to \"\n",
      "C:\\Users\\PHUTRAN\\AppData\\Local\\Programs\\Python\\Python311\\Lib\\site-packages\\statsmodels\\base\\model.py:604: ConvergenceWarning: Maximum Likelihood optimization failed to converge. Check mle_retvals\n",
      "  warnings.warn(\"Maximum Likelihood optimization failed to \"\n",
      "C:\\Users\\PHUTRAN\\AppData\\Local\\Programs\\Python\\Python311\\Lib\\site-packages\\statsmodels\\base\\model.py:604: ConvergenceWarning: Maximum Likelihood optimization failed to converge. Check mle_retvals\n",
      "  warnings.warn(\"Maximum Likelihood optimization failed to \"\n",
      "C:\\Users\\PHUTRAN\\AppData\\Local\\Programs\\Python\\Python311\\Lib\\site-packages\\statsmodels\\base\\model.py:604: ConvergenceWarning: Maximum Likelihood optimization failed to converge. Check mle_retvals\n",
      "  warnings.warn(\"Maximum Likelihood optimization failed to \"\n",
      "C:\\Users\\PHUTRAN\\AppData\\Local\\Programs\\Python\\Python311\\Lib\\site-packages\\statsmodels\\base\\model.py:604: ConvergenceWarning: Maximum Likelihood optimization failed to converge. Check mle_retvals\n",
      "  warnings.warn(\"Maximum Likelihood optimization failed to \"\n",
      "C:\\Users\\PHUTRAN\\AppData\\Local\\Programs\\Python\\Python311\\Lib\\site-packages\\statsmodels\\base\\model.py:604: ConvergenceWarning: Maximum Likelihood optimization failed to converge. Check mle_retvals\n",
      "  warnings.warn(\"Maximum Likelihood optimization failed to \"\n",
      "C:\\Users\\PHUTRAN\\AppData\\Local\\Programs\\Python\\Python311\\Lib\\site-packages\\statsmodels\\base\\model.py:604: ConvergenceWarning: Maximum Likelihood optimization failed to converge. Check mle_retvals\n",
      "  warnings.warn(\"Maximum Likelihood optimization failed to \"\n",
      "C:\\Users\\PHUTRAN\\AppData\\Local\\Programs\\Python\\Python311\\Lib\\site-packages\\statsmodels\\base\\model.py:604: ConvergenceWarning: Maximum Likelihood optimization failed to converge. Check mle_retvals\n",
      "  warnings.warn(\"Maximum Likelihood optimization failed to \"\n",
      "C:\\Users\\PHUTRAN\\AppData\\Local\\Programs\\Python\\Python311\\Lib\\site-packages\\statsmodels\\base\\model.py:604: ConvergenceWarning: Maximum Likelihood optimization failed to converge. Check mle_retvals\n",
      "  warnings.warn(\"Maximum Likelihood optimization failed to \"\n",
      "C:\\Users\\PHUTRAN\\AppData\\Local\\Programs\\Python\\Python311\\Lib\\site-packages\\statsmodels\\base\\model.py:604: ConvergenceWarning: Maximum Likelihood optimization failed to converge. Check mle_retvals\n",
      "  warnings.warn(\"Maximum Likelihood optimization failed to \"\n",
      "C:\\Users\\PHUTRAN\\AppData\\Local\\Programs\\Python\\Python311\\Lib\\site-packages\\statsmodels\\base\\model.py:604: ConvergenceWarning: Maximum Likelihood optimization failed to converge. Check mle_retvals\n",
      "  warnings.warn(\"Maximum Likelihood optimization failed to \"\n",
      "C:\\Users\\PHUTRAN\\AppData\\Local\\Programs\\Python\\Python311\\Lib\\site-packages\\statsmodels\\base\\model.py:604: ConvergenceWarning: Maximum Likelihood optimization failed to converge. Check mle_retvals\n",
      "  warnings.warn(\"Maximum Likelihood optimization failed to \"\n",
      "C:\\Users\\PHUTRAN\\AppData\\Local\\Programs\\Python\\Python311\\Lib\\site-packages\\statsmodels\\base\\model.py:604: ConvergenceWarning: Maximum Likelihood optimization failed to converge. Check mle_retvals\n",
      "  warnings.warn(\"Maximum Likelihood optimization failed to \"\n",
      "C:\\Users\\PHUTRAN\\AppData\\Local\\Programs\\Python\\Python311\\Lib\\site-packages\\statsmodels\\base\\model.py:604: ConvergenceWarning: Maximum Likelihood optimization failed to converge. Check mle_retvals\n",
      "  warnings.warn(\"Maximum Likelihood optimization failed to \"\n"
     ]
    },
    {
     "name": "stdout",
     "output_type": "stream",
     "text": [
      "Predicted closing prices for the next 30 days:\n",
      "[1.0001519510248618, 0.9998001733906315, 1.0001950608610575, 0.9999258137139502, 1.000268195702468, 0.996296174633157, 0.9991371580935315, 0.9988265349069022, 0.9992038191071325, 0.9992134664974115, 0.9990239047042444, 0.9992730648571221, 0.9988981992722408, 0.9995049023589705, 0.9991447464386253, 0.9995579531391885, 0.9994493261375375, 0.9991891743876974, 0.9992426402481024, 0.9992162584770283, 0.9993245980670589, 0.9992983309247601, 0.9996129641442133, 0.9994398336171322, 0.9995953536612533, 0.9994514808882482, 0.999894625343803, 0.9997892166726048, 0.9994313724961923, 1.0000099134512765]\n"
     ]
    },
    {
     "name": "stderr",
     "output_type": "stream",
     "text": [
      "C:\\Users\\PHUTRAN\\AppData\\Local\\Programs\\Python\\Python311\\Lib\\site-packages\\statsmodels\\base\\model.py:604: ConvergenceWarning: Maximum Likelihood optimization failed to converge. Check mle_retvals\n",
      "  warnings.warn(\"Maximum Likelihood optimization failed to \"\n"
     ]
    }
   ],
   "source": [
    "last_index = len(df)\n",
    "\n",
    "date_range = pd.date_range(start=df.index[-1], periods=30, freq='D')\n",
    "\n",
    "# Create an array of 30 consecutive integers starting from last_index\n",
    "x_next_30_days = np.array(range(last_index+1, last_index+31)).reshape(-1, 1)\n",
    "\n",
    "# Predict the closing prices for the next 30 days\n",
    "y_next_30_days = list()\n",
    "history = [x for x in y_val]\n",
    "for t in range(len(x_next_30_days)):\n",
    "    model = ARIMA(history, order=order)\n",
    "    model_fit = model.fit()\n",
    "    output = model_fit.forecast()\n",
    "    yhat = output[0]\n",
    "    y_next_30_days.append(yhat)\n",
    "    obs = y_val[t]\n",
    "    history.append(obs)\n",
    "    \n",
    "# Print the predicted closing prices for the next 30 days\n",
    "print('Predicted closing prices for the next 30 days:')\n",
    "print(y_next_30_days)"
   ]
  },
  {
   "cell_type": "markdown",
   "id": "uLQMBilbWM0b",
   "metadata": {
    "id": "uLQMBilbWM0b"
   },
   "source": [
    "### 4.  Evaluate accuracy validate, test data"
   ]
  },
  {
   "cell_type": "code",
   "execution_count": 29,
   "id": "9701c7a8",
   "metadata": {},
   "outputs": [
    {
     "name": "stdout",
     "output_type": "stream",
     "text": [
      "                   MSE       MAE      MAPE      RMSE\n",
      "Validate  1.769459e-07  0.000191  0.000191  0.000421\n",
      "Test      7.457321e-08  0.000189  0.000189  0.000273\n"
     ]
    }
   ],
   "source": [
    "metrics = {\n",
    "    'MSE': [val_mse, test_mse],\n",
    "    'MAE': [val_mae, test_mae],\n",
    "    'MAPE': [val_mape, test_mape],\n",
    "    'RMSE': [val_rmse, test_rmse],\n",
    "}\n",
    "\n",
    "acc = pd.DataFrame(metrics, index=['Validate', 'Test'])\n",
    "\n",
    "print(acc)"
   ]
  },
  {
   "cell_type": "code",
   "execution_count": 30,
   "id": "8461f167",
   "metadata": {},
   "outputs": [
    {
     "data": {
      "image/png": "[encoded data removed]",
      "text/plain": [
       "<Figure size 640x480 with 1 Axes>"
      ]
     },
     "metadata": {},
     "output_type": "display_data"
    }
   ],
   "source": [
    "plt.plot(train_data.index, train_data['Price'])\n",
    "plt.plot(test_data.index, test_data['Price'])\n",
    "plt.plot(val_data.index, val_data['Price'])\n",
    "\n",
    "plt.plot(test_data.index, y_pred_test)\n",
    "plt.plot(val_data.index, y_pred_val)\n",
    "plt.plot(date_range, y_next_30_days)\n",
    "\n",
    "plt.legend(['Train', 'Test', 'Validate','PredictTestData', 'PredictValidateData','PredictNext30Day'])\n",
    "plt.show()"
   ]
  }
 ],
 "metadata": {
  "colab": {
   "collapsed_sections": [
    "d1f40c31",
    "41ca6858"
   ],
   "provenance": []
  },
  "kernelspec": {
   "display_name": "Python 3 (ipykernel)",
   "language": "python",
   "name": "python3"
  },
  "language_info": {
   "codemirror_mode": {
    "name": "ipython",
    "version": 3
   },
   "file_extension": ".py",
   "mimetype": "text/x-python",
   "name": "python",
   "nbconvert_exporter": "python",
   "pygments_lexer": "ipython3",
   "version": "3.11.1"
  }
 },
 "nbformat": 4,
 "nbformat_minor": 5
}
