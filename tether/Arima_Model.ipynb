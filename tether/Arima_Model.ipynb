{
 "cells": [
  {
   "cell_type": "markdown",
   "id": "f8047eaf",
   "metadata": {
    "id": "f8047eaf"
   },
   "source": [
    "### Import libraries and get data"
   ]
  },
  {
   "cell_type": "code",
   "execution_count": 41,
   "id": "253f387d",
   "metadata": {
    "id": "253f387d"
   },
   "outputs": [],
   "source": [
    "import numpy as np\n",
    "import pandas as pd\n",
    "import matplotlib.pyplot as plt\n",
    "import pmdarima as pmd\n",
    "\n",
    "from sklearn.metrics import mean_squared_error, mean_absolute_error, mean_absolute_percentage_error\n",
    "\n",
    "from statsmodels.tsa.seasonal import seasonal_decompose\n",
    "from dateutil.parser import parse\n",
    "from statsmodels.tsa.arima.model import ARIMA"
   ]
  },
  {
   "cell_type": "markdown",
   "id": "58ee460a",
   "metadata": {},
   "source": [
    "## Load the dataset"
   ]
  },
  {
   "cell_type": "code",
   "execution_count": 42,
   "id": "38e633bd",
   "metadata": {
    "colab": {
     "base_uri": "https://localhost:8080/"
    },
    "id": "38e633bd",
    "outputId": "6070a0bb-a462-4f73-c27f-61cd8291913b"
   },
   "outputs": [
    {
     "data": {
      "text/html": [
       "<div>\n",
       "<style scoped>\n",
       "    .dataframe tbody tr th:only-of-type {\n",
       "        vertical-align: middle;\n",
       "    }\n",
       "\n",
       "    .dataframe tbody tr th {\n",
       "        vertical-align: top;\n",
       "    }\n",
       "\n",
       "    .dataframe thead th {\n",
       "        text-align: right;\n",
       "    }\n",
       "</style>\n",
       "<table border=\"1\" class=\"dataframe\">\n",
       "  <thead>\n",
       "    <tr style=\"text-align: right;\">\n",
       "      <th></th>\n",
       "      <th>Price</th>\n",
       "    </tr>\n",
       "    <tr>\n",
       "      <th>Date</th>\n",
       "      <th></th>\n",
       "    </tr>\n",
       "  </thead>\n",
       "  <tbody>\n",
       "    <tr>\n",
       "      <th>2017-12-01</th>\n",
       "      <td>1.0100</td>\n",
       "    </tr>\n",
       "    <tr>\n",
       "      <th>2017-12-02</th>\n",
       "      <td>0.9959</td>\n",
       "    </tr>\n",
       "    <tr>\n",
       "      <th>2017-12-03</th>\n",
       "      <td>0.9977</td>\n",
       "    </tr>\n",
       "    <tr>\n",
       "      <th>2017-12-04</th>\n",
       "      <td>1.0000</td>\n",
       "    </tr>\n",
       "    <tr>\n",
       "      <th>2017-12-05</th>\n",
       "      <td>1.0000</td>\n",
       "    </tr>\n",
       "    <tr>\n",
       "      <th>...</th>\n",
       "      <td>...</td>\n",
       "    </tr>\n",
       "    <tr>\n",
       "      <th>2023-03-28</th>\n",
       "      <td>1.0001</td>\n",
       "    </tr>\n",
       "    <tr>\n",
       "      <th>2023-03-29</th>\n",
       "      <td>0.9999</td>\n",
       "    </tr>\n",
       "    <tr>\n",
       "      <th>2023-03-30</th>\n",
       "      <td>1.0000</td>\n",
       "    </tr>\n",
       "    <tr>\n",
       "      <th>2023-03-31</th>\n",
       "      <td>1.0001</td>\n",
       "    </tr>\n",
       "    <tr>\n",
       "      <th>2023-04-01</th>\n",
       "      <td>1.0002</td>\n",
       "    </tr>\n",
       "  </tbody>\n",
       "</table>\n",
       "<p>1947 rows × 1 columns</p>\n",
       "</div>"
      ],
      "text/plain": [
       "             Price\n",
       "Date              \n",
       "2017-12-01  1.0100\n",
       "2017-12-02  0.9959\n",
       "2017-12-03  0.9977\n",
       "2017-12-04  1.0000\n",
       "2017-12-05  1.0000\n",
       "...            ...\n",
       "2023-03-28  1.0001\n",
       "2023-03-29  0.9999\n",
       "2023-03-30  1.0000\n",
       "2023-03-31  1.0001\n",
       "2023-04-01  1.0002\n",
       "\n",
       "[1947 rows x 1 columns]"
      ]
     },
     "execution_count": 42,
     "metadata": {},
     "output_type": "execute_result"
    }
   ],
   "source": [
    "# Load the dataset\n",
    "df = pd.read_csv(\"./USDT.csv\")\n",
    "\n",
    "# Drop the unnecessary columns.\n",
    "df.drop(['Open', 'High', 'Low', 'Vol.', 'Change %'], axis=1, inplace=True)\n",
    "\n",
    "# Convert the \"Date\" column to datetime format\n",
    "df['Date'] = pd.to_datetime(df['Date'], format='%d-%b-%y')\n",
    "                                    \n",
    "# Sort the DataFrame by date\n",
    "df = df.sort_values('Date')\n",
    "\n",
    "# Set Date index\n",
    "df.set_index('Date', inplace=True)\n",
    "\n",
    "df"
   ]
  },
  {
   "cell_type": "markdown",
   "id": "0c4050e5",
   "metadata": {},
   "source": [
    "### Split the data into training, test and validate sets"
   ]
  },
  {
   "cell_type": "code",
   "execution_count": 43,
   "id": "1a5272e2",
   "metadata": {
    "colab": {
     "base_uri": "https://localhost:8080/"
    },
    "id": "1a5272e2",
    "outputId": "72f841c6-8b62-496f-db00-dd0a911d40c7"
   },
   "outputs": [
    {
     "name": "stdout",
     "output_type": "stream",
     "text": [
      "Train shape: (1362, 1)\n",
      "Test shape: (389, 1)\n",
      "Validate shape: (196, 1)\n"
     ]
    }
   ],
   "source": [
    "train_size = int(0.7 * len(df))\n",
    "test_size = int(0.2 * len(df))\n",
    "val_size = len(df) - train_size - test_size\n",
    "\n",
    "train_data = df[:train_size]\n",
    "test_data = df[train_size:train_size+test_size]\n",
    "val_data = df[train_size+test_size:]\n",
    "\n",
    "print(\"Train shape:\", train_data.shape)\n",
    "print(\"Test shape:\", test_data.shape)\n",
    "print(\"Validate shape:\", val_data.shape)"
   ]
  },
  {
   "cell_type": "code",
   "execution_count": null,
   "id": "27db3c74",
   "metadata": {},
   "outputs": [],
   "source": [
    "train_size = int(0.7 * len(df))\n",
    "test_size = int(0.2 * len(df))\n",
    "val_size = len(df) - train_size - test_size\n",
    "\n",
    "train_data = df[:train_size]\n",
    "test_data = df[train_size:train_size+test_size]\n",
    "val_data = df[train_size+test_size:]\n",
    "\n",
    "print(\"Train shape:\", train_data.shape)\n",
    "print(\"Test shape:\", test_data.shape)\n",
    "print(\"Validate shape:\", val_data.shape)"
   ]
  },
  {
   "cell_type": "code",
   "execution_count": null,
   "id": "2e47d731",
   "metadata": {},
   "outputs": [],
   "source": [
    "train_size = int(0.7 * len(df))\n",
    "test_size = int(0.2 * len(df))\n",
    "val_size = len(df) - train_size - test_size\n",
    "\n",
    "train_data = df[:train_size]\n",
    "test_data = df[train_size:train_size+test_size]\n",
    "val_data = df[train_size+test_size:]\n",
    "\n",
    "print(\"Train shape:\", train_data.shape)\n",
    "print(\"Test shape:\", test_data.shape)\n",
    "print(\"Validate shape:\", val_data.shape)"
   ]
  },
  {
   "cell_type": "markdown",
   "id": "CDT4u80EuyHT",
   "metadata": {
    "id": "CDT4u80EuyHT"
   },
   "source": [
    "## ARIMA Model"
   ]
  },
  {
   "cell_type": "markdown",
   "id": "aZhec0PShHNJ",
   "metadata": {
    "id": "aZhec0PShHNJ"
   },
   "source": [
    "### 3. Perfom ARIMA Model "
   ]
  },
  {
   "cell_type": "code",
   "execution_count": 44,
   "id": "xluIDn_CVZil",
   "metadata": {
    "colab": {
     "base_uri": "https://localhost:8080/"
    },
    "id": "xluIDn_CVZil",
    "outputId": "b9f31564-f0f5-4586-d1fe-08efea1ab71b"
   },
   "outputs": [
    {
     "name": "stdout",
     "output_type": "stream",
     "text": [
      "Requirement already satisfied: pmdarima in c:\\users\\phutran\\appdata\\local\\programs\\python\\python311\\lib\\site-packages (2.0.3)\n",
      "Requirement already satisfied: joblib>=0.11 in c:\\users\\phutran\\appdata\\local\\programs\\python\\python311\\lib\\site-packages (from pmdarima) (1.2.0)\n",
      "Requirement already satisfied: Cython!=0.29.18,!=0.29.31,>=0.29 in c:\\users\\phutran\\appdata\\local\\programs\\python\\python311\\lib\\site-packages (from pmdarima) (0.29.34)\n",
      "Requirement already satisfied: numpy>=1.21.2 in c:\\users\\phutran\\appdata\\local\\programs\\python\\python311\\lib\\site-packages (from pmdarima) (1.23.5)\n",
      "Requirement already satisfied: pandas>=0.19 in c:\\users\\phutran\\appdata\\local\\programs\\python\\python311\\lib\\site-packages (from pmdarima) (1.5.3)\n",
      "Requirement already satisfied: scikit-learn>=0.22 in c:\\users\\phutran\\appdata\\local\\programs\\python\\python311\\lib\\site-packages (from pmdarima) (1.2.2)\n",
      "Requirement already satisfied: scipy>=1.3.2 in c:\\users\\phutran\\appdata\\local\\programs\\python\\python311\\lib\\site-packages (from pmdarima) (1.10.1)\n",
      "Requirement already satisfied: statsmodels>=0.13.2 in c:\\users\\phutran\\appdata\\local\\programs\\python\\python311\\lib\\site-packages (from pmdarima) (0.13.5)\n",
      "Requirement already satisfied: urllib3 in c:\\users\\phutran\\appdata\\local\\programs\\python\\python311\\lib\\site-packages (from pmdarima) (1.26.5)\n",
      "Requirement already satisfied: setuptools!=50.0.0,>=38.6.0 in c:\\users\\phutran\\appdata\\local\\programs\\python\\python311\\lib\\site-packages (from pmdarima) (65.5.0)\n",
      "Requirement already satisfied: python-dateutil>=2.8.1 in c:\\users\\phutran\\appdata\\local\\programs\\python\\python311\\lib\\site-packages (from pandas>=0.19->pmdarima) (2.8.1)\n",
      "Requirement already satisfied: pytz>=2020.1 in c:\\users\\phutran\\appdata\\local\\programs\\python\\python311\\lib\\site-packages (from pandas>=0.19->pmdarima) (2022.7.1)\n",
      "Requirement already satisfied: threadpoolctl>=2.0.0 in c:\\users\\phutran\\appdata\\local\\programs\\python\\python311\\lib\\site-packages (from scikit-learn>=0.22->pmdarima) (3.1.0)\n",
      "Requirement already satisfied: patsy>=0.5.2 in c:\\users\\phutran\\appdata\\local\\programs\\python\\python311\\lib\\site-packages (from statsmodels>=0.13.2->pmdarima) (0.5.3)\n",
      "Requirement already satisfied: packaging>=21.3 in c:\\users\\phutran\\appdata\\local\\programs\\python\\python311\\lib\\site-packages (from statsmodels>=0.13.2->pmdarima) (23.0)\n",
      "Requirement already satisfied: six in c:\\users\\phutran\\appdata\\local\\programs\\python\\python311\\lib\\site-packages (from patsy>=0.5.2->statsmodels>=0.13.2->pmdarima) (1.16.0)\n"
     ]
    }
   ],
   "source": [
    "!pip install pmdarima"
   ]
  },
  {
   "cell_type": "code",
   "execution_count": 45,
   "id": "b0235031",
   "metadata": {},
   "outputs": [],
   "source": [
    "x_train = np.array(train_data.index).reshape(-1, 1)\n",
    "y_train = np.array(train_data['Price'])"
   ]
  },
  {
   "cell_type": "markdown",
   "id": "c4e5a807",
   "metadata": {},
   "source": [
    "### 3.1 Build the best ARIMA Model using p,d,q from auto_arima"
   ]
  },
  {
   "cell_type": "code",
   "execution_count": 46,
   "id": "7AiUw0UsU_iT",
   "metadata": {
    "colab": {
     "base_uri": "https://localhost:8080/"
    },
    "id": "7AiUw0UsU_iT",
    "outputId": "bc9e0412-0e81-4954-c761-de3f42841501"
   },
   "outputs": [
    {
     "name": "stdout",
     "output_type": "stream",
     "text": [
      "Performing stepwise search to minimize aic\n"
     ]
    },
    {
     "name": "stderr",
     "output_type": "stream",
     "text": [
      "C:\\Users\\PHUTRAN\\AppData\\Local\\Programs\\Python\\Python311\\Lib\\site-packages\\pmdarima\\arima\\_validation.py:62: UserWarning: m (12) set for non-seasonal fit. Setting to 0\n",
      "  warnings.warn(\"m (%i) set for non-seasonal fit. Setting to 0\" % m)\n"
     ]
    },
    {
     "name": "stdout",
     "output_type": "stream",
     "text": [
      " ARIMA(1,0,1)(0,0,0)[0]             : AIC=-11684.760, Time=0.18 sec\n",
      " ARIMA(0,0,0)(0,0,0)[0]             : AIC=3868.101, Time=0.02 sec\n",
      " ARIMA(1,0,0)(0,0,0)[0]             : AIC=inf, Time=0.12 sec\n",
      " ARIMA(0,0,1)(0,0,0)[0]             : AIC=inf, Time=0.28 sec\n",
      " ARIMA(2,0,1)(0,0,0)[0]             : AIC=inf, Time=0.98 sec\n",
      " ARIMA(1,0,2)(0,0,0)[0]             : AIC=-11723.739, Time=0.38 sec\n",
      " ARIMA(0,0,2)(0,0,0)[0]             : AIC=inf, Time=0.40 sec\n",
      " ARIMA(2,0,2)(0,0,0)[0]             : AIC=-11721.681, Time=0.20 sec\n",
      " ARIMA(1,0,3)(0,0,0)[0]             : AIC=-11723.605, Time=0.14 sec\n",
      " ARIMA(0,0,3)(0,0,0)[0]             : AIC=inf, Time=0.67 sec\n",
      " ARIMA(2,0,3)(0,0,0)[0]             : AIC=-11721.615, Time=0.26 sec\n",
      " ARIMA(1,0,2)(0,0,0)[0] intercept   : AIC=-11756.317, Time=0.41 sec\n",
      " ARIMA(0,0,2)(0,0,0)[0] intercept   : AIC=-11102.504, Time=1.49 sec\n",
      " ARIMA(1,0,1)(0,0,0)[0] intercept   : AIC=-11738.216, Time=0.48 sec\n",
      " ARIMA(2,0,2)(0,0,0)[0] intercept   : AIC=-11748.509, Time=1.31 sec\n",
      " ARIMA(1,0,3)(0,0,0)[0] intercept   : AIC=-11755.754, Time=0.90 sec\n",
      " ARIMA(0,0,1)(0,0,0)[0] intercept   : AIC=-10766.414, Time=0.38 sec\n",
      " ARIMA(0,0,3)(0,0,0)[0] intercept   : AIC=-11356.173, Time=0.98 sec\n",
      " ARIMA(2,0,1)(0,0,0)[0] intercept   : AIC=-11587.954, Time=0.56 sec\n",
      " ARIMA(2,0,3)(0,0,0)[0] intercept   : AIC=-11752.540, Time=1.40 sec\n",
      "\n",
      "Best model:  ARIMA(1,0,2)(0,0,0)[0] intercept\n",
      "Total fit time: 11.539 seconds\n"
     ]
    }
   ],
   "source": [
    "arima_model = pmd.auto_arima(y_train, start_p=1, start_q=1,\n",
    "                         test='adf',\n",
    "                         max_p=3, max_q=3, m=12,\n",
    "                         start_P=0, seasonal=False,\n",
    "                         d=None, D=0, trace=True,\n",
    "                         error_action='ignore',  \n",
    "                         suppress_warnings=True, \n",
    "                         stepwise=True)"
   ]
  },
  {
   "cell_type": "code",
   "execution_count": 47,
   "id": "24e9f9a4",
   "metadata": {},
   "outputs": [
    {
     "name": "stdout",
     "output_type": "stream",
     "text": [
      "(1, 0, 2)\n"
     ]
    }
   ],
   "source": [
    "order = (arima_model.order[0], arima_model.order[1], arima_model.order[2])\n",
    "print(order)"
   ]
  },
  {
   "cell_type": "code",
   "execution_count": 48,
   "id": "2386f99b",
   "metadata": {},
   "outputs": [],
   "source": [
    "def evaluate_ariama_model(x_data, y_data, order):\n",
    "    y_preds = list()\n",
    "    for t in range(len(y_data)):\n",
    "        model = ARIMA(y_train, order=order)\n",
    "        model_fit = model.fit()\n",
    "        output = model_fit.forecast()\n",
    "        yhat = output[0]\n",
    "        y_preds.append(yhat)\n",
    "    mse = mean_squared_error(y_data, y_preds)\n",
    "    mae = mean_absolute_error(y_data, y_preds)\n",
    "    mape = mean_absolute_percentage_error(y_data, y_preds)\n",
    "    rmse = mean_squared_error(y_data, y_preds, squared=False)\n",
    "    return y_preds, mse, mae, mape, rmse"
   ]
  },
  {
   "cell_type": "markdown",
   "id": "bbd93e27",
   "metadata": {},
   "source": [
    "### 3.2 Evaluate on Validate data"
   ]
  },
  {
   "cell_type": "code",
   "execution_count": 49,
   "id": "d07d09d3",
   "metadata": {},
   "outputs": [
    {
     "name": "stdout",
     "output_type": "stream",
     "text": [
      "Price predict on validate data: [1.000345149431205, 1.000345149431205, 1.000345149431205, 1.000345149431205, 1.000345149431205, 1.000345149431205, 1.000345149431205, 1.000345149431205, 1.000345149431205, 1.000345149431205, 1.000345149431205, 1.000345149431205, 1.000345149431205, 1.000345149431205, 1.000345149431205, 1.000345149431205, 1.000345149431205, 1.000345149431205, 1.000345149431205, 1.000345149431205, 1.000345149431205, 1.000345149431205, 1.000345149431205, 1.000345149431205, 1.000345149431205, 1.000345149431205, 1.000345149431205, 1.000345149431205, 1.000345149431205, 1.000345149431205, 1.000345149431205, 1.000345149431205, 1.000345149431205, 1.000345149431205, 1.000345149431205, 1.000345149431205, 1.000345149431205, 1.000345149431205, 1.000345149431205, 1.000345149431205, 1.000345149431205, 1.000345149431205, 1.000345149431205, 1.000345149431205, 1.000345149431205, 1.000345149431205, 1.000345149431205, 1.000345149431205, 1.000345149431205, 1.000345149431205, 1.000345149431205, 1.000345149431205, 1.000345149431205, 1.000345149431205, 1.000345149431205, 1.000345149431205, 1.000345149431205, 1.000345149431205, 1.000345149431205, 1.000345149431205, 1.000345149431205, 1.000345149431205, 1.000345149431205, 1.000345149431205, 1.000345149431205, 1.000345149431205, 1.000345149431205, 1.000345149431205, 1.000345149431205, 1.000345149431205, 1.000345149431205, 1.000345149431205, 1.000345149431205, 1.000345149431205, 1.000345149431205, 1.000345149431205, 1.000345149431205, 1.000345149431205, 1.000345149431205, 1.000345149431205, 1.000345149431205, 1.000345149431205, 1.000345149431205, 1.000345149431205, 1.000345149431205, 1.000345149431205, 1.000345149431205, 1.000345149431205, 1.000345149431205, 1.000345149431205, 1.000345149431205, 1.000345149431205, 1.000345149431205, 1.000345149431205, 1.000345149431205, 1.000345149431205, 1.000345149431205, 1.000345149431205, 1.000345149431205, 1.000345149431205, 1.000345149431205, 1.000345149431205, 1.000345149431205, 1.000345149431205, 1.000345149431205, 1.000345149431205, 1.000345149431205, 1.000345149431205, 1.000345149431205, 1.000345149431205, 1.000345149431205, 1.000345149431205, 1.000345149431205, 1.000345149431205, 1.000345149431205, 1.000345149431205, 1.000345149431205, 1.000345149431205, 1.000345149431205, 1.000345149431205, 1.000345149431205, 1.000345149431205, 1.000345149431205, 1.000345149431205, 1.000345149431205, 1.000345149431205, 1.000345149431205, 1.000345149431205, 1.000345149431205, 1.000345149431205, 1.000345149431205, 1.000345149431205, 1.000345149431205, 1.000345149431205, 1.000345149431205, 1.000345149431205, 1.000345149431205, 1.000345149431205, 1.000345149431205, 1.000345149431205, 1.000345149431205, 1.000345149431205, 1.000345149431205, 1.000345149431205, 1.000345149431205, 1.000345149431205, 1.000345149431205, 1.000345149431205, 1.000345149431205, 1.000345149431205, 1.000345149431205, 1.000345149431205, 1.000345149431205, 1.000345149431205, 1.000345149431205, 1.000345149431205, 1.000345149431205, 1.000345149431205, 1.000345149431205, 1.000345149431205, 1.000345149431205, 1.000345149431205, 1.000345149431205, 1.000345149431205, 1.000345149431205, 1.000345149431205, 1.000345149431205, 1.000345149431205, 1.000345149431205, 1.000345149431205, 1.000345149431205, 1.000345149431205, 1.000345149431205, 1.000345149431205, 1.000345149431205, 1.000345149431205, 1.000345149431205, 1.000345149431205, 1.000345149431205, 1.000345149431205, 1.000345149431205, 1.000345149431205, 1.000345149431205, 1.000345149431205, 1.000345149431205, 1.000345149431205, 1.000345149431205, 1.000345149431205, 1.000345149431205, 1.000345149431205, 1.000345149431205, 1.000345149431205, 1.000345149431205, 1.000345149431205, 1.000345149431205, 1.000345149431205]\n"
     ]
    }
   ],
   "source": [
    "x_val= np.array(val_data.index).reshape(-1, 1)\n",
    "y_val = np.array(val_data['Price'])\n",
    "y_pred_val, val_mse, val_mae, val_mape, val_rmse = evaluate_ariama_model(x_val, y_val, order)\n",
    "\n",
    "print(\"Price predict on validate data:\", y_pred_val)"
   ]
  },
  {
   "cell_type": "markdown",
   "id": "F1b6EiskiVot",
   "metadata": {
    "id": "F1b6EiskiVot"
   },
   "source": [
    "### 3.3 Evaluate on Test data"
   ]
  },
  {
   "cell_type": "code",
   "execution_count": 50,
   "id": "461adc13",
   "metadata": {
    "colab": {
     "base_uri": "https://localhost:8080/",
     "height": 785
    },
    "id": "461adc13",
    "outputId": "4fb808c0-096c-42fd-d60c-bca34cb18791"
   },
   "outputs": [
    {
     "name": "stdout",
     "output_type": "stream",
     "text": [
      "Price predict on test data: [1.000345149431205, 1.000345149431205, 1.000345149431205, 1.000345149431205, 1.000345149431205, 1.000345149431205, 1.000345149431205, 1.000345149431205, 1.000345149431205, 1.000345149431205, 1.000345149431205, 1.000345149431205, 1.000345149431205, 1.000345149431205, 1.000345149431205, 1.000345149431205, 1.000345149431205, 1.000345149431205, 1.000345149431205, 1.000345149431205, 1.000345149431205, 1.000345149431205, 1.000345149431205, 1.000345149431205, 1.000345149431205, 1.000345149431205, 1.000345149431205, 1.000345149431205, 1.000345149431205, 1.000345149431205, 1.000345149431205, 1.000345149431205, 1.000345149431205, 1.000345149431205, 1.000345149431205, 1.000345149431205, 1.000345149431205, 1.000345149431205, 1.000345149431205, 1.000345149431205, 1.000345149431205, 1.000345149431205, 1.000345149431205, 1.000345149431205, 1.000345149431205, 1.000345149431205, 1.000345149431205, 1.000345149431205, 1.000345149431205, 1.000345149431205, 1.000345149431205, 1.000345149431205, 1.000345149431205, 1.000345149431205, 1.000345149431205, 1.000345149431205, 1.000345149431205, 1.000345149431205, 1.000345149431205, 1.000345149431205, 1.000345149431205, 1.000345149431205, 1.000345149431205, 1.000345149431205, 1.000345149431205, 1.000345149431205, 1.000345149431205, 1.000345149431205, 1.000345149431205, 1.000345149431205, 1.000345149431205, 1.000345149431205, 1.000345149431205, 1.000345149431205, 1.000345149431205, 1.000345149431205, 1.000345149431205, 1.000345149431205, 1.000345149431205, 1.000345149431205, 1.000345149431205, 1.000345149431205, 1.000345149431205, 1.000345149431205, 1.000345149431205, 1.000345149431205, 1.000345149431205, 1.000345149431205, 1.000345149431205, 1.000345149431205, 1.000345149431205, 1.000345149431205, 1.000345149431205, 1.000345149431205, 1.000345149431205, 1.000345149431205, 1.000345149431205, 1.000345149431205, 1.000345149431205, 1.000345149431205, 1.000345149431205, 1.000345149431205, 1.000345149431205, 1.000345149431205, 1.000345149431205, 1.000345149431205, 1.000345149431205, 1.000345149431205, 1.000345149431205, 1.000345149431205, 1.000345149431205, 1.000345149431205, 1.000345149431205, 1.000345149431205, 1.000345149431205, 1.000345149431205, 1.000345149431205, 1.000345149431205, 1.000345149431205, 1.000345149431205, 1.000345149431205, 1.000345149431205, 1.000345149431205, 1.000345149431205, 1.000345149431205, 1.000345149431205, 1.000345149431205, 1.000345149431205, 1.000345149431205, 1.000345149431205, 1.000345149431205, 1.000345149431205, 1.000345149431205, 1.000345149431205, 1.000345149431205, 1.000345149431205, 1.000345149431205, 1.000345149431205, 1.000345149431205, 1.000345149431205, 1.000345149431205, 1.000345149431205, 1.000345149431205, 1.000345149431205, 1.000345149431205, 1.000345149431205, 1.000345149431205, 1.000345149431205, 1.000345149431205, 1.000345149431205, 1.000345149431205, 1.000345149431205, 1.000345149431205, 1.000345149431205, 1.000345149431205, 1.000345149431205, 1.000345149431205, 1.000345149431205, 1.000345149431205, 1.000345149431205, 1.000345149431205, 1.000345149431205, 1.000345149431205, 1.000345149431205, 1.000345149431205, 1.000345149431205, 1.000345149431205, 1.000345149431205, 1.000345149431205, 1.000345149431205, 1.000345149431205, 1.000345149431205, 1.000345149431205, 1.000345149431205, 1.000345149431205, 1.000345149431205, 1.000345149431205, 1.000345149431205, 1.000345149431205, 1.000345149431205, 1.000345149431205, 1.000345149431205, 1.000345149431205, 1.000345149431205, 1.000345149431205, 1.000345149431205, 1.000345149431205, 1.000345149431205, 1.000345149431205, 1.000345149431205, 1.000345149431205, 1.000345149431205, 1.000345149431205, 1.000345149431205, 1.000345149431205, 1.000345149431205, 1.000345149431205, 1.000345149431205, 1.000345149431205, 1.000345149431205, 1.000345149431205, 1.000345149431205, 1.000345149431205, 1.000345149431205, 1.000345149431205, 1.000345149431205, 1.000345149431205, 1.000345149431205, 1.000345149431205, 1.000345149431205, 1.000345149431205, 1.000345149431205, 1.000345149431205, 1.000345149431205, 1.000345149431205, 1.000345149431205, 1.000345149431205, 1.000345149431205, 1.000345149431205, 1.000345149431205, 1.000345149431205, 1.000345149431205, 1.000345149431205, 1.000345149431205, 1.000345149431205, 1.000345149431205, 1.000345149431205, 1.000345149431205, 1.000345149431205, 1.000345149431205, 1.000345149431205, 1.000345149431205, 1.000345149431205, 1.000345149431205, 1.000345149431205, 1.000345149431205, 1.000345149431205, 1.000345149431205, 1.000345149431205, 1.000345149431205, 1.000345149431205, 1.000345149431205, 1.000345149431205, 1.000345149431205, 1.000345149431205, 1.000345149431205, 1.000345149431205, 1.000345149431205, 1.000345149431205, 1.000345149431205, 1.000345149431205, 1.000345149431205, 1.000345149431205, 1.000345149431205, 1.000345149431205, 1.000345149431205, 1.000345149431205, 1.000345149431205, 1.000345149431205, 1.000345149431205, 1.000345149431205, 1.000345149431205, 1.000345149431205, 1.000345149431205, 1.000345149431205, 1.000345149431205, 1.000345149431205, 1.000345149431205, 1.000345149431205, 1.000345149431205, 1.000345149431205, 1.000345149431205, 1.000345149431205, 1.000345149431205, 1.000345149431205, 1.000345149431205, 1.000345149431205, 1.000345149431205, 1.000345149431205, 1.000345149431205, 1.000345149431205, 1.000345149431205, 1.000345149431205, 1.000345149431205, 1.000345149431205, 1.000345149431205, 1.000345149431205, 1.000345149431205, 1.000345149431205, 1.000345149431205, 1.000345149431205, 1.000345149431205, 1.000345149431205, 1.000345149431205, 1.000345149431205, 1.000345149431205, 1.000345149431205, 1.000345149431205, 1.000345149431205, 1.000345149431205, 1.000345149431205, 1.000345149431205, 1.000345149431205, 1.000345149431205, 1.000345149431205, 1.000345149431205, 1.000345149431205, 1.000345149431205, 1.000345149431205, 1.000345149431205, 1.000345149431205, 1.000345149431205, 1.000345149431205, 1.000345149431205, 1.000345149431205, 1.000345149431205, 1.000345149431205, 1.000345149431205, 1.000345149431205, 1.000345149431205, 1.000345149431205, 1.000345149431205, 1.000345149431205, 1.000345149431205, 1.000345149431205, 1.000345149431205, 1.000345149431205, 1.000345149431205, 1.000345149431205, 1.000345149431205, 1.000345149431205, 1.000345149431205, 1.000345149431205, 1.000345149431205, 1.000345149431205, 1.000345149431205, 1.000345149431205, 1.000345149431205, 1.000345149431205, 1.000345149431205, 1.000345149431205, 1.000345149431205, 1.000345149431205, 1.000345149431205, 1.000345149431205, 1.000345149431205, 1.000345149431205, 1.000345149431205, 1.000345149431205, 1.000345149431205, 1.000345149431205, 1.000345149431205, 1.000345149431205, 1.000345149431205, 1.000345149431205, 1.000345149431205, 1.000345149431205, 1.000345149431205, 1.000345149431205, 1.000345149431205, 1.000345149431205, 1.000345149431205, 1.000345149431205, 1.000345149431205, 1.000345149431205, 1.000345149431205, 1.000345149431205, 1.000345149431205, 1.000345149431205, 1.000345149431205, 1.000345149431205, 1.000345149431205, 1.000345149431205, 1.000345149431205, 1.000345149431205, 1.000345149431205, 1.000345149431205, 1.000345149431205, 1.000345149431205, 1.000345149431205, 1.000345149431205, 1.000345149431205, 1.000345149431205, 1.000345149431205, 1.000345149431205, 1.000345149431205, 1.000345149431205, 1.000345149431205, 1.000345149431205]\n"
     ]
    }
   ],
   "source": [
    "x_test = np.array(test_data.index).reshape(-1, 1)\n",
    "y_test = np.array(test_data['Price'])\n",
    "y_pred_test, test_mse, test_mae, test_mape, test_rmse = evaluate_ariama_model(x_test, y_test, order)\n",
    "\n",
    "print(\"Price predict on test data:\", y_pred_test)"
   ]
  },
  {
   "cell_type": "markdown",
   "id": "T-klU1u3iRGA",
   "metadata": {
    "id": "T-klU1u3iRGA"
   },
   "source": [
    "### 3.4 Predict price for the next 30 days"
   ]
  },
  {
   "cell_type": "code",
   "execution_count": 51,
   "id": "R4r5BckljBBe",
   "metadata": {
    "colab": {
     "base_uri": "https://localhost:8080/"
    },
    "id": "R4r5BckljBBe",
    "outputId": "502ae446-ae4d-435e-8edf-962a4ec8535e"
   },
   "outputs": [
    {
     "name": "stdout",
     "output_type": "stream",
     "text": [
      "Predicted closing prices for the next 30 days:\n",
      "[1.00033935 1.00034279 1.00034079 1.00033895 1.00033726 1.00033571\n",
      " 1.00033429 1.00033299 1.00033179 1.00033069 1.00032968 1.00032876\n",
      " 1.00032791 1.00032713 1.00032642 1.00032576 1.00032516 1.0003246\n",
      " 1.0003241  1.00032363 1.00032321 1.00032281 1.00032245 1.00032213\n",
      " 1.00032182 1.00032154 1.00032129 1.00032106 1.00032084 1.00032064]\n"
     ]
    }
   ],
   "source": [
    "last_index = len(df)\n",
    "\n",
    "date_range = pd.date_range(start=df.index[-1], periods=30, freq='D')\n",
    "\n",
    "# Create an array of 30 consecutive integers starting from last_index\n",
    "x_next_30_days = np.array(range(last_index+1, last_index+31)).reshape(-1, 1)\n",
    "\n",
    "# Predict the closing prices for the next 30 days\n",
    "y_next_30_days = arima_model.predict(n_periods=len(x_next_30_days))\n",
    "\n",
    "# Print the predicted closing prices for the next 30 days\n",
    "print('Predicted closing prices for the next 30 days:')\n",
    "print(y_next_30_days)"
   ]
  },
  {
   "cell_type": "markdown",
   "id": "uLQMBilbWM0b",
   "metadata": {
    "id": "uLQMBilbWM0b"
   },
   "source": [
    "### 4.  Evaluate accuracy validate, test data"
   ]
  },
  {
   "cell_type": "code",
   "execution_count": 52,
   "id": "1723b786",
   "metadata": {},
   "outputs": [
    {
     "name": "stdout",
     "output_type": "stream",
     "text": [
      "                   MSE       MAE      MAPE      RMSE\n",
      "Validate  9.892179e-07  0.000545  0.000545  0.000995\n",
      "Test      3.208393e-07  0.000382  0.000382  0.000566\n"
     ]
    }
   ],
   "source": [
    "metrics = {\n",
    "    'MSE': [val_mse, test_mse],\n",
    "    'MAE': [val_mae, test_mae],\n",
    "    'MAPE': [val_mape, test_mape],\n",
    "    'RMSE': [val_rmse, test_rmse],\n",
    "}\n",
    "\n",
    "acc = pd.DataFrame(metrics, index=['Validate', 'Test'])\n",
    "\n",
    "print(acc)"
   ]
  },
  {
   "cell_type": "code",
   "execution_count": 53,
   "id": "8461f167",
   "metadata": {},
   "outputs": [
    {
     "data": {
      "image/png": "[encoded data removed]",
      "text/plain": [
       "<Figure size 640x480 with 1 Axes>"
      ]
     },
     "metadata": {},
     "output_type": "display_data"
    }
   ],
   "source": [
    "plt.plot(train_data.index, train_data['Price'])\n",
    "plt.plot(test_data.index, test_data['Price'])\n",
    "plt.plot(val_data.index, val_data['Price'])\n",
    "\n",
    "plt.plot(test_data.index, y_pred_test)\n",
    "plt.plot(val_data.index, y_pred_val)\n",
    "plt.plot(date_range, y_next_30_days)\n",
    "\n",
    "plt.legend(['Train', 'Test', 'Validate','PredictTestData', 'PredictValidateData','PredictNext30Day'])\n",
    "plt.show()"
   ]
  }
 ],
 "metadata": {
  "colab": {
   "collapsed_sections": [
    "d1f40c31",
    "41ca6858"
   ],
   "provenance": []
  },
  "kernelspec": {
   "display_name": "Python 3 (ipykernel)",
   "language": "python",
   "name": "python3"
  },
  "language_info": {
   "codemirror_mode": {
    "name": "ipython",
    "version": 3
   },
   "file_extension": ".py",
   "mimetype": "text/x-python",
   "name": "python",
   "nbconvert_exporter": "python",
   "pygments_lexer": "ipython3",
   "version": "3.11.1"
  }
 },
 "nbformat": 4,
 "nbformat_minor": 5
}
