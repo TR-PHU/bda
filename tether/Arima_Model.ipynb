{
 "cells": [
  {
   "cell_type": "markdown",
   "id": "f8047eaf",
   "metadata": {
    "id": "f8047eaf"
   },
   "source": [
    "### Import libraries and get data"
   ]
  },
  {
   "cell_type": "code",
   "execution_count": 2,
   "id": "253f387d",
   "metadata": {
    "id": "253f387d"
   },
   "outputs": [],
   "source": [
    "import numpy as np\n",
    "import pandas as pd\n",
    "import matplotlib.pyplot as plt\n",
    "import pmdarima as pmd\n",
    "\n",
    "from sklearn.metrics import mean_squared_error, mean_absolute_error\n",
    "\n",
    "from statsmodels.tsa.seasonal import seasonal_decompose\n",
    "from dateutil.parser import parse"
   ]
  },
  {
   "cell_type": "markdown",
   "id": "58ee460a",
   "metadata": {},
   "source": [
    "## Preprocessing data"
   ]
  },
  {
   "cell_type": "code",
   "execution_count": 11,
   "id": "38e633bd",
   "metadata": {
    "colab": {
     "base_uri": "https://localhost:8080/"
    },
    "id": "38e633bd",
    "outputId": "6070a0bb-a462-4f73-c27f-61cd8291913b"
   },
   "outputs": [
    {
     "data": {
      "text/html": [
       "<div>\n",
       "<style scoped>\n",
       "    .dataframe tbody tr th:only-of-type {\n",
       "        vertical-align: middle;\n",
       "    }\n",
       "\n",
       "    .dataframe tbody tr th {\n",
       "        vertical-align: top;\n",
       "    }\n",
       "\n",
       "    .dataframe thead th {\n",
       "        text-align: right;\n",
       "    }\n",
       "</style>\n",
       "<table border=\"1\" class=\"dataframe\">\n",
       "  <thead>\n",
       "    <tr style=\"text-align: right;\">\n",
       "      <th></th>\n",
       "      <th>Price</th>\n",
       "    </tr>\n",
       "    <tr>\n",
       "      <th>Date</th>\n",
       "      <th></th>\n",
       "    </tr>\n",
       "  </thead>\n",
       "  <tbody>\n",
       "    <tr>\n",
       "      <th>2017-12-01</th>\n",
       "      <td>1.0100</td>\n",
       "    </tr>\n",
       "    <tr>\n",
       "      <th>2017-12-02</th>\n",
       "      <td>0.9959</td>\n",
       "    </tr>\n",
       "    <tr>\n",
       "      <th>2017-12-03</th>\n",
       "      <td>0.9977</td>\n",
       "    </tr>\n",
       "    <tr>\n",
       "      <th>2017-12-04</th>\n",
       "      <td>1.0000</td>\n",
       "    </tr>\n",
       "    <tr>\n",
       "      <th>2017-12-05</th>\n",
       "      <td>1.0000</td>\n",
       "    </tr>\n",
       "    <tr>\n",
       "      <th>...</th>\n",
       "      <td>...</td>\n",
       "    </tr>\n",
       "    <tr>\n",
       "      <th>2023-03-28</th>\n",
       "      <td>1.0001</td>\n",
       "    </tr>\n",
       "    <tr>\n",
       "      <th>2023-03-29</th>\n",
       "      <td>0.9999</td>\n",
       "    </tr>\n",
       "    <tr>\n",
       "      <th>2023-03-30</th>\n",
       "      <td>1.0000</td>\n",
       "    </tr>\n",
       "    <tr>\n",
       "      <th>2023-03-31</th>\n",
       "      <td>1.0001</td>\n",
       "    </tr>\n",
       "    <tr>\n",
       "      <th>2023-04-01</th>\n",
       "      <td>1.0002</td>\n",
       "    </tr>\n",
       "  </tbody>\n",
       "</table>\n",
       "<p>1947 rows × 1 columns</p>\n",
       "</div>"
      ],
      "text/plain": [
       "             Price\n",
       "Date              \n",
       "2017-12-01  1.0100\n",
       "2017-12-02  0.9959\n",
       "2017-12-03  0.9977\n",
       "2017-12-04  1.0000\n",
       "2017-12-05  1.0000\n",
       "...            ...\n",
       "2023-03-28  1.0001\n",
       "2023-03-29  0.9999\n",
       "2023-03-30  1.0000\n",
       "2023-03-31  1.0001\n",
       "2023-04-01  1.0002\n",
       "\n",
       "[1947 rows x 1 columns]"
      ]
     },
     "execution_count": 11,
     "metadata": {},
     "output_type": "execute_result"
    }
   ],
   "source": [
    "# Load the dataset\n",
    "df = pd.read_csv(\"./USDT.csv\")\n",
    "\n",
    "# Drop the unnecessary columns.\n",
    "df.drop(['Open', 'High', 'Low', 'Vol.', 'Change %'], axis=1, inplace=True)\n",
    "\n",
    "# Convert the \"Date\" column to datetime format\n",
    "df['Date'] = pd.to_datetime(df['Date'], format='%d-%b-%y')\n",
    "                                    \n",
    "# Sort the DataFrame by date\n",
    "df = df.sort_values('Date')\n",
    "\n",
    "# Set Date index\n",
    "df.set_index('Date', inplace=True)\n",
    "\n",
    "df"
   ]
  },
  {
   "cell_type": "markdown",
   "id": "bd5bc7a3",
   "metadata": {},
   "source": [
    "### Split the data into training (70%), test (20%) and validate (10%) sets"
   ]
  },
  {
   "cell_type": "code",
   "execution_count": 12,
   "id": "1a5272e2",
   "metadata": {
    "colab": {
     "base_uri": "https://localhost:8080/"
    },
    "id": "1a5272e2",
    "outputId": "72f841c6-8b62-496f-db00-dd0a911d40c7"
   },
   "outputs": [
    {
     "name": "stdout",
     "output_type": "stream",
     "text": [
      "Train shape: (1362, 1)\n",
      "Test shape: (389, 1)\n",
      "Validate shape: (196, 1)\n"
     ]
    }
   ],
   "source": [
    "train_size = int(0.7 * len(df))\n",
    "test_size = int(0.2 * len(df))\n",
    "val_size = len(df) - train_size - test_size\n",
    "\n",
    "train_data = df[:train_size]\n",
    "test_data = df[train_size:train_size+test_size]\n",
    "val_data = df[train_size+test_size:]\n",
    "\n",
    "print(\"Train shape:\", train_data.shape)\n",
    "print(\"Test shape:\", test_data.shape)\n",
    "print(\"Validate shape:\", val_data.shape)"
   ]
  },
  {
   "cell_type": "markdown",
   "id": "CDT4u80EuyHT",
   "metadata": {
    "id": "CDT4u80EuyHT"
   },
   "source": [
    "## ARIMA Model"
   ]
  },
  {
   "cell_type": "markdown",
   "id": "aZhec0PShHNJ",
   "metadata": {
    "id": "aZhec0PShHNJ"
   },
   "source": [
    "### 3. Perfom ARIMA Model "
   ]
  },
  {
   "cell_type": "code",
   "execution_count": 5,
   "id": "xluIDn_CVZil",
   "metadata": {
    "colab": {
     "base_uri": "https://localhost:8080/"
    },
    "id": "xluIDn_CVZil",
    "outputId": "b9f31564-f0f5-4586-d1fe-08efea1ab71b"
   },
   "outputs": [
    {
     "name": "stdout",
     "output_type": "stream",
     "text": [
      "Requirement already satisfied: pmdarima in c:\\users\\phutran\\appdata\\local\\programs\\python\\python311\\lib\\site-packages (2.0.3)"
     ]
    },
    {
     "name": "stderr",
     "output_type": "stream",
     "text": [
      "\n",
      "[notice] A new release of pip available: 22.3.1 -> 23.1.2\n",
      "[notice] To update, run: python.exe -m pip install --upgrade pip\n"
     ]
    },
    {
     "name": "stdout",
     "output_type": "stream",
     "text": [
      "\n",
      "Requirement already satisfied: joblib>=0.11 in c:\\users\\phutran\\appdata\\local\\programs\\python\\python311\\lib\\site-packages (from pmdarima) (1.2.0)\n",
      "Requirement already satisfied: Cython!=0.29.18,!=0.29.31,>=0.29 in c:\\users\\phutran\\appdata\\local\\programs\\python\\python311\\lib\\site-packages (from pmdarima) (0.29.34)\n",
      "Requirement already satisfied: numpy>=1.21.2 in c:\\users\\phutran\\appdata\\local\\programs\\python\\python311\\lib\\site-packages (from pmdarima) (1.23.5)\n",
      "Requirement already satisfied: pandas>=0.19 in c:\\users\\phutran\\appdata\\local\\programs\\python\\python311\\lib\\site-packages (from pmdarima) (1.5.3)\n",
      "Requirement already satisfied: scikit-learn>=0.22 in c:\\users\\phutran\\appdata\\local\\programs\\python\\python311\\lib\\site-packages (from pmdarima) (1.2.2)\n",
      "Requirement already satisfied: scipy>=1.3.2 in c:\\users\\phutran\\appdata\\local\\programs\\python\\python311\\lib\\site-packages (from pmdarima) (1.10.1)\n",
      "Requirement already satisfied: statsmodels>=0.13.2 in c:\\users\\phutran\\appdata\\local\\programs\\python\\python311\\lib\\site-packages (from pmdarima) (0.13.5)\n",
      "Requirement already satisfied: urllib3 in c:\\users\\phutran\\appdata\\local\\programs\\python\\python311\\lib\\site-packages (from pmdarima) (1.26.15)\n",
      "Requirement already satisfied: setuptools!=50.0.0,>=38.6.0 in c:\\users\\phutran\\appdata\\local\\programs\\python\\python311\\lib\\site-packages (from pmdarima) (65.5.0)\n",
      "Requirement already satisfied: python-dateutil>=2.8.1 in c:\\users\\phutran\\appdata\\local\\programs\\python\\python311\\lib\\site-packages (from pandas>=0.19->pmdarima) (2.8.2)\n",
      "Requirement already satisfied: pytz>=2020.1 in c:\\users\\phutran\\appdata\\local\\programs\\python\\python311\\lib\\site-packages (from pandas>=0.19->pmdarima) (2022.7.1)\n",
      "Requirement already satisfied: threadpoolctl>=2.0.0 in c:\\users\\phutran\\appdata\\local\\programs\\python\\python311\\lib\\site-packages (from scikit-learn>=0.22->pmdarima) (3.1.0)\n",
      "Requirement already satisfied: patsy>=0.5.2 in c:\\users\\phutran\\appdata\\local\\programs\\python\\python311\\lib\\site-packages (from statsmodels>=0.13.2->pmdarima) (0.5.3)\n",
      "Requirement already satisfied: packaging>=21.3 in c:\\users\\phutran\\appdata\\local\\programs\\python\\python311\\lib\\site-packages (from statsmodels>=0.13.2->pmdarima) (23.0)\n",
      "Requirement already satisfied: six in c:\\users\\phutran\\appdata\\local\\programs\\python\\python311\\lib\\site-packages (from patsy>=0.5.2->statsmodels>=0.13.2->pmdarima) (1.16.0)\n"
     ]
    }
   ],
   "source": [
    "!pip install pmdarima"
   ]
  },
  {
   "cell_type": "code",
   "execution_count": 14,
   "id": "69e12307",
   "metadata": {},
   "outputs": [],
   "source": [
    "x_train = np.array(train_data.index).reshape(-1, 1)\n",
    "y_train = np.array(train_data['Price'])"
   ]
  },
  {
   "cell_type": "markdown",
   "id": "f9817317",
   "metadata": {},
   "source": [
    "### 3.1 Build the best ARIMA Model using p,d,q from auto_arima"
   ]
  },
  {
   "cell_type": "code",
   "execution_count": 15,
   "id": "7AiUw0UsU_iT",
   "metadata": {
    "colab": {
     "base_uri": "https://localhost:8080/"
    },
    "id": "7AiUw0UsU_iT",
    "outputId": "bc9e0412-0e81-4954-c761-de3f42841501"
   },
   "outputs": [
    {
     "name": "stderr",
     "output_type": "stream",
     "text": [
      "C:\\Users\\PHUTRAN\\AppData\\Local\\Programs\\Python\\Python311\\Lib\\site-packages\\pmdarima\\arima\\_validation.py:62: UserWarning: m (12) set for non-seasonal fit. Setting to 0\n",
      "  warnings.warn(\"m (%i) set for non-seasonal fit. Setting to 0\" % m)\n"
     ]
    },
    {
     "name": "stdout",
     "output_type": "stream",
     "text": [
      "Performing stepwise search to minimize aic\n",
      " ARIMA(1,0,1)(0,0,0)[0]             : AIC=-11684.760, Time=0.19 sec\n",
      " ARIMA(0,0,0)(0,0,0)[0]             : AIC=3868.101, Time=0.02 sec\n",
      " ARIMA(1,0,0)(0,0,0)[0]             : AIC=inf, Time=0.13 sec\n",
      " ARIMA(0,0,1)(0,0,0)[0]             : AIC=inf, Time=0.19 sec\n",
      " ARIMA(2,0,1)(0,0,0)[0]             : AIC=inf, Time=1.01 sec\n",
      " ARIMA(1,0,2)(0,0,0)[0]             : AIC=-11723.739, Time=0.39 sec\n",
      " ARIMA(0,0,2)(0,0,0)[0]             : AIC=inf, Time=0.32 sec\n",
      " ARIMA(2,0,2)(0,0,0)[0]             : AIC=-11721.681, Time=0.21 sec\n",
      " ARIMA(1,0,3)(0,0,0)[0]             : AIC=-11723.605, Time=0.14 sec\n",
      " ARIMA(0,0,3)(0,0,0)[0]             : AIC=inf, Time=0.58 sec\n",
      " ARIMA(2,0,3)(0,0,0)[0]             : AIC=-11721.615, Time=0.15 sec\n",
      " ARIMA(1,0,2)(0,0,0)[0] intercept   : AIC=-11756.317, Time=0.39 sec\n",
      " ARIMA(0,0,2)(0,0,0)[0] intercept   : AIC=-11102.504, Time=1.19 sec\n",
      " ARIMA(1,0,1)(0,0,0)[0] intercept   : AIC=-11738.216, Time=0.38 sec\n",
      " ARIMA(2,0,2)(0,0,0)[0] intercept   : AIC=-11748.509, Time=1.09 sec\n",
      " ARIMA(1,0,3)(0,0,0)[0] intercept   : AIC=-11755.754, Time=0.68 sec\n",
      " ARIMA(0,0,1)(0,0,0)[0] intercept   : AIC=-10766.414, Time=0.34 sec\n",
      " ARIMA(0,0,3)(0,0,0)[0] intercept   : AIC=-11356.173, Time=0.89 sec\n",
      " ARIMA(2,0,1)(0,0,0)[0] intercept   : AIC=-11587.954, Time=0.54 sec\n",
      " ARIMA(2,0,3)(0,0,0)[0] intercept   : AIC=-11752.540, Time=1.36 sec\n",
      "\n",
      "Best model:  ARIMA(1,0,2)(0,0,0)[0] intercept\n",
      "Total fit time: 10.192 seconds\n"
     ]
    }
   ],
   "source": [
    "arima_model = pmd.auto_arima(y_train, start_p=1, start_q=1,\n",
    "                         test='adf',\n",
    "                         max_p=3, max_q=3, m=12,\n",
    "                         start_P=0, seasonal=False,\n",
    "                         d=None, D=0, trace=True,\n",
    "                         error_action='ignore',  \n",
    "                         suppress_warnings=True, \n",
    "                         stepwise=True)"
   ]
  },
  {
   "cell_type": "markdown",
   "id": "F1b6EiskiVot",
   "metadata": {
    "id": "F1b6EiskiVot"
   },
   "source": [
    "### 3.2 Evaluate on Test data"
   ]
  },
  {
   "cell_type": "code",
   "execution_count": 19,
   "id": "461adc13",
   "metadata": {
    "colab": {
     "base_uri": "https://localhost:8080/",
     "height": 785
    },
    "id": "461adc13",
    "outputId": "4fb808c0-096c-42fd-d60c-bca34cb18791"
   },
   "outputs": [
    {
     "name": "stdout",
     "output_type": "stream",
     "text": [
      "Price predict on test data: [1.00033935 1.00034279 1.00034079 1.00033895 1.00033726 1.00033571\n",
      " 1.00033429 1.00033299 1.00033179 1.00033069 1.00032968 1.00032876\n",
      " 1.00032791 1.00032713 1.00032642 1.00032576 1.00032516 1.0003246\n",
      " 1.0003241  1.00032363 1.00032321 1.00032281 1.00032245 1.00032213\n",
      " 1.00032182 1.00032154 1.00032129 1.00032106 1.00032084 1.00032064\n",
      " 1.00032046 1.0003203  1.00032015 1.00032001 1.00031988 1.00031976\n",
      " 1.00031965 1.00031955 1.00031946 1.00031938 1.0003193  1.00031923\n",
      " 1.00031917 1.00031911 1.00031905 1.000319   1.00031896 1.00031892\n",
      " 1.00031888 1.00031884 1.00031881 1.00031878 1.00031875 1.00031873\n",
      " 1.00031871 1.00031868 1.00031866 1.00031865 1.00031863 1.00031862\n",
      " 1.0003186  1.00031859 1.00031858 1.00031857 1.00031856 1.00031855\n",
      " 1.00031854 1.00031853 1.00031853 1.00031852 1.00031851 1.00031851\n",
      " 1.0003185  1.0003185  1.0003185  1.00031849 1.00031849 1.00031848\n",
      " 1.00031848 1.00031848 1.00031848 1.00031847 1.00031847 1.00031847\n",
      " 1.00031847 1.00031847 1.00031847 1.00031846 1.00031846 1.00031846\n",
      " 1.00031846 1.00031846 1.00031846 1.00031846 1.00031846 1.00031846\n",
      " 1.00031846 1.00031846 1.00031846 1.00031845 1.00031845 1.00031845\n",
      " 1.00031845 1.00031845 1.00031845 1.00031845 1.00031845 1.00031845\n",
      " 1.00031845 1.00031845 1.00031845 1.00031845 1.00031845 1.00031845\n",
      " 1.00031845 1.00031845 1.00031845 1.00031845 1.00031845 1.00031845\n",
      " 1.00031845 1.00031845 1.00031845 1.00031845 1.00031845 1.00031845\n",
      " 1.00031845 1.00031845 1.00031845 1.00031845 1.00031845 1.00031845\n",
      " 1.00031845 1.00031845 1.00031845 1.00031845 1.00031845 1.00031845\n",
      " 1.00031845 1.00031845 1.00031845 1.00031845 1.00031845 1.00031845\n",
      " 1.00031845 1.00031845 1.00031845 1.00031845 1.00031845 1.00031845\n",
      " 1.00031845 1.00031845 1.00031845 1.00031845 1.00031845 1.00031845\n",
      " 1.00031845 1.00031845 1.00031845 1.00031845 1.00031845 1.00031845\n",
      " 1.00031845 1.00031845 1.00031845 1.00031845 1.00031845 1.00031845\n",
      " 1.00031845 1.00031845 1.00031845 1.00031845 1.00031845 1.00031845\n",
      " 1.00031845 1.00031845 1.00031845 1.00031845 1.00031845 1.00031845\n",
      " 1.00031845 1.00031845 1.00031845 1.00031845 1.00031845 1.00031845\n",
      " 1.00031845 1.00031845 1.00031845 1.00031845 1.00031845 1.00031845\n",
      " 1.00031845 1.00031845 1.00031845 1.00031845 1.00031845 1.00031845\n",
      " 1.00031845 1.00031845 1.00031845 1.00031845 1.00031845 1.00031845\n",
      " 1.00031845 1.00031845 1.00031845 1.00031845 1.00031845 1.00031845\n",
      " 1.00031845 1.00031845 1.00031845 1.00031845 1.00031845 1.00031845\n",
      " 1.00031845 1.00031845 1.00031845 1.00031845 1.00031845 1.00031845\n",
      " 1.00031845 1.00031845 1.00031845 1.00031845 1.00031845 1.00031845\n",
      " 1.00031845 1.00031845 1.00031845 1.00031845 1.00031845 1.00031845\n",
      " 1.00031845 1.00031845 1.00031845 1.00031845 1.00031845 1.00031845\n",
      " 1.00031845 1.00031845 1.00031845 1.00031845 1.00031845 1.00031845\n",
      " 1.00031845 1.00031845 1.00031845 1.00031845 1.00031845 1.00031845\n",
      " 1.00031845 1.00031845 1.00031845 1.00031845 1.00031845 1.00031845\n",
      " 1.00031845 1.00031845 1.00031845 1.00031845 1.00031845 1.00031845\n",
      " 1.00031845 1.00031845 1.00031845 1.00031845 1.00031845 1.00031845\n",
      " 1.00031845 1.00031845 1.00031845 1.00031845 1.00031845 1.00031845\n",
      " 1.00031845 1.00031845 1.00031845 1.00031845 1.00031845 1.00031845\n",
      " 1.00031845 1.00031845 1.00031845 1.00031845 1.00031845 1.00031845\n",
      " 1.00031845 1.00031845 1.00031845 1.00031845 1.00031845 1.00031845\n",
      " 1.00031845 1.00031845 1.00031845 1.00031845 1.00031845 1.00031845\n",
      " 1.00031845 1.00031845 1.00031845 1.00031845 1.00031845 1.00031845\n",
      " 1.00031845 1.00031845 1.00031845 1.00031845 1.00031845 1.00031845\n",
      " 1.00031845 1.00031845 1.00031845 1.00031845 1.00031845 1.00031845\n",
      " 1.00031845 1.00031845 1.00031845 1.00031845 1.00031845 1.00031845\n",
      " 1.00031845 1.00031845 1.00031845 1.00031845 1.00031845 1.00031845\n",
      " 1.00031845 1.00031845 1.00031845 1.00031845 1.00031845 1.00031845\n",
      " 1.00031845 1.00031845 1.00031845 1.00031845 1.00031845 1.00031845\n",
      " 1.00031845 1.00031845 1.00031845 1.00031845 1.00031845 1.00031845\n",
      " 1.00031845 1.00031845 1.00031845 1.00031845 1.00031845 1.00031845\n",
      " 1.00031845 1.00031845 1.00031845 1.00031845 1.00031845 1.00031845\n",
      " 1.00031845 1.00031845 1.00031845 1.00031845 1.00031845 1.00031845\n",
      " 1.00031845 1.00031845 1.00031845 1.00031845 1.00031845 1.00031845\n",
      " 1.00031845 1.00031845 1.00031845 1.00031845 1.00031845 1.00031845\n",
      " 1.00031845 1.00031845 1.00031845 1.00031845 1.00031845 1.00031845\n",
      " 1.00031845 1.00031845 1.00031845 1.00031845 1.00031845]\n"
     ]
    }
   ],
   "source": [
    "x_test = np.array(test_data.index).reshape(-1, 1)\n",
    "y_test = np.array(test_data['Price'])\n",
    "y_pred_test = arima_model.predict(n_periods=len(y_test))\n",
    "\n",
    "print(\"Price predict on test data:\", y_pred_test)\n",
    "\n",
    "# # Plot\n",
    "# plt.figure(figsize=(12,5), dpi=100)\n",
    "# plt.plot(predict, label='predict')\n",
    "# plt.plot(test, label='actual')\n",
    "# plt.fill_between(lower.index, lower, upper, color='k', alpha=.15)\n",
    "# plt.title('Forecast vs Actuals')\n",
    "# plt.xlabel(\"Date\")\n",
    "# plt.ylabel(\"Price\")\n",
    "# plt.legend(loc='upper left', fontsize=8)\n",
    "# plt.show()"
   ]
  },
  {
   "cell_type": "markdown",
   "id": "1eaad439",
   "metadata": {},
   "source": [
    "### 3.3 Evaluate on Validate data"
   ]
  },
  {
   "cell_type": "code",
   "execution_count": 20,
   "id": "6ea6ddb5",
   "metadata": {},
   "outputs": [
    {
     "name": "stdout",
     "output_type": "stream",
     "text": [
      "Price predict on validate data: [1.00033935 1.00034279 1.00034079 1.00033895 1.00033726 1.00033571\n",
      " 1.00033429 1.00033299 1.00033179 1.00033069 1.00032968 1.00032876\n",
      " 1.00032791 1.00032713 1.00032642 1.00032576 1.00032516 1.0003246\n",
      " 1.0003241  1.00032363 1.00032321 1.00032281 1.00032245 1.00032213\n",
      " 1.00032182 1.00032154 1.00032129 1.00032106 1.00032084 1.00032064\n",
      " 1.00032046 1.0003203  1.00032015 1.00032001 1.00031988 1.00031976\n",
      " 1.00031965 1.00031955 1.00031946 1.00031938 1.0003193  1.00031923\n",
      " 1.00031917 1.00031911 1.00031905 1.000319   1.00031896 1.00031892\n",
      " 1.00031888 1.00031884 1.00031881 1.00031878 1.00031875 1.00031873\n",
      " 1.00031871 1.00031868 1.00031866 1.00031865 1.00031863 1.00031862\n",
      " 1.0003186  1.00031859 1.00031858 1.00031857 1.00031856 1.00031855\n",
      " 1.00031854 1.00031853 1.00031853 1.00031852 1.00031851 1.00031851\n",
      " 1.0003185  1.0003185  1.0003185  1.00031849 1.00031849 1.00031848\n",
      " 1.00031848 1.00031848 1.00031848 1.00031847 1.00031847 1.00031847\n",
      " 1.00031847 1.00031847 1.00031847 1.00031846 1.00031846 1.00031846\n",
      " 1.00031846 1.00031846 1.00031846 1.00031846 1.00031846 1.00031846\n",
      " 1.00031846 1.00031846 1.00031846 1.00031845 1.00031845 1.00031845\n",
      " 1.00031845 1.00031845 1.00031845 1.00031845 1.00031845 1.00031845\n",
      " 1.00031845 1.00031845 1.00031845 1.00031845 1.00031845 1.00031845\n",
      " 1.00031845 1.00031845 1.00031845 1.00031845 1.00031845 1.00031845\n",
      " 1.00031845 1.00031845 1.00031845 1.00031845 1.00031845 1.00031845\n",
      " 1.00031845 1.00031845 1.00031845 1.00031845 1.00031845 1.00031845\n",
      " 1.00031845 1.00031845 1.00031845 1.00031845 1.00031845 1.00031845\n",
      " 1.00031845 1.00031845 1.00031845 1.00031845 1.00031845 1.00031845\n",
      " 1.00031845 1.00031845 1.00031845 1.00031845 1.00031845 1.00031845\n",
      " 1.00031845 1.00031845 1.00031845 1.00031845 1.00031845 1.00031845\n",
      " 1.00031845 1.00031845 1.00031845 1.00031845 1.00031845 1.00031845\n",
      " 1.00031845 1.00031845 1.00031845 1.00031845 1.00031845 1.00031845\n",
      " 1.00031845 1.00031845 1.00031845 1.00031845 1.00031845 1.00031845\n",
      " 1.00031845 1.00031845 1.00031845 1.00031845 1.00031845 1.00031845\n",
      " 1.00031845 1.00031845 1.00031845 1.00031845 1.00031845 1.00031845\n",
      " 1.00031845 1.00031845 1.00031845 1.00031845 1.00031845 1.00031845\n",
      " 1.00031845 1.00031845 1.00031845 1.00031845]\n"
     ]
    }
   ],
   "source": [
    "x_val= np.array(val_data.index).reshape(-1, 1)\n",
    "y_val = np.array(val_data['Price'])\n",
    "y_pred_val =  arima_model.predict(n_periods=len(y_val))\n",
    "\n",
    "print(\"Price predict on validate data:\", y_pred_val)"
   ]
  },
  {
   "cell_type": "markdown",
   "id": "T-klU1u3iRGA",
   "metadata": {
    "id": "T-klU1u3iRGA"
   },
   "source": [
    "### 3.4 Predict price for the next 30 days"
   ]
  },
  {
   "cell_type": "code",
   "execution_count": 50,
   "id": "R4r5BckljBBe",
   "metadata": {
    "colab": {
     "base_uri": "https://localhost:8080/"
    },
    "id": "R4r5BckljBBe",
    "outputId": "502ae446-ae4d-435e-8edf-962a4ec8535e"
   },
   "outputs": [
    {
     "name": "stdout",
     "output_type": "stream",
     "text": [
      "[[1948]\n",
      " [1949]\n",
      " [1950]\n",
      " [1951]\n",
      " [1952]\n",
      " [1953]\n",
      " [1954]\n",
      " [1955]\n",
      " [1956]\n",
      " [1957]\n",
      " [1958]\n",
      " [1959]\n",
      " [1960]\n",
      " [1961]\n",
      " [1962]\n",
      " [1963]\n",
      " [1964]\n",
      " [1965]\n",
      " [1966]\n",
      " [1967]\n",
      " [1968]\n",
      " [1969]\n",
      " [1970]\n",
      " [1971]\n",
      " [1972]\n",
      " [1973]\n",
      " [1974]\n",
      " [1975]\n",
      " [1976]\n",
      " [1977]]\n",
      "Predicted closing prices for the next 30 days:\n",
      "[1.00033935 1.00034279 1.00034079 1.00033895 1.00033726 1.00033571\n",
      " 1.00033429 1.00033299 1.00033179 1.00033069 1.00032968 1.00032876\n",
      " 1.00032791 1.00032713 1.00032642 1.00032576 1.00032516 1.0003246\n",
      " 1.0003241  1.00032363 1.00032321 1.00032281 1.00032245 1.00032213\n",
      " 1.00032182 1.00032154 1.00032129 1.00032106 1.00032084 1.00032064]\n"
     ]
    }
   ],
   "source": [
    "# 6. Quá trình tạo index predict 30 ngày tiếp theo\n",
    "last_index = len(df)\n",
    "last_data = pd.RangeIndex(start=last_index, stop=last_index+30, step=1)\n",
    "\n",
    "# Create an array of 30 consecutive integers starting from last_index\n",
    "x_next_30_days = np.array(range(last_index+1, last_index+31)).reshape(-1, 1)\n",
    "\n",
    "# Predict the closing prices for the next 30 days\n",
    "y_next_30_days = arima_model.predict(n_periods=len(x_next_30_days))\n",
    "\n",
    "# Print the predicted closing prices for the next 30 days\n",
    "print('Predicted closing prices for the next 30 days:')\n",
    "print(y_next_30_days)"
   ]
  },
  {
   "cell_type": "markdown",
   "id": "uLQMBilbWM0b",
   "metadata": {
    "id": "uLQMBilbWM0b"
   },
   "source": [
    "### 4.  Evaluate accuracy validate, test data"
   ]
  },
  {
   "cell_type": "code",
   "execution_count": 18,
   "id": "25b0b45a",
   "metadata": {
    "id": "25b0b45a",
    "outputId": "4ee886aa-8f5e-438a-8948-13e07b942fd1"
   },
   "outputs": [
    {
     "ename": "NameError",
     "evalue": "name 'predict' is not defined",
     "output_type": "error",
     "traceback": [
      "\u001b[1;31m---------------------------------------------------------------------------\u001b[0m",
      "\u001b[1;31mNameError\u001b[0m                                 Traceback (most recent call last)",
      "Cell \u001b[1;32mIn[18], line 6\u001b[0m\n\u001b[0;32m      3\u001b[0m \u001b[38;5;28;01mdef\u001b[39;00m \u001b[38;5;21mmean_absolute_percentage_error\u001b[39m(predict, actual):\n\u001b[0;32m      4\u001b[0m     \u001b[38;5;28;01mreturn\u001b[39;00m np\u001b[38;5;241m.\u001b[39mmean(np\u001b[38;5;241m.\u001b[39mabs(predict \u001b[38;5;241m-\u001b[39m actual)\u001b[38;5;241m/\u001b[39mnp\u001b[38;5;241m.\u001b[39mabs(actual))\n\u001b[1;32m----> 6\u001b[0m mean_absolute_percentage_error(\u001b[43mpredict\u001b[49m, test[\u001b[38;5;124m'\u001b[39m\u001b[38;5;124mPrice\u001b[39m\u001b[38;5;124m'\u001b[39m])\n",
      "\u001b[1;31mNameError\u001b[0m: name 'predict' is not defined"
     ]
    }
   ],
   "source": [
    "# Calculate MAPE\n",
    "\n",
    "def mean_absolute_percentage_error(predict, actual):\n",
    "    return np.mean(np.abs(predict - actual)/np.abs(actual))\n",
    "\n",
    "val_mape = mean_absolute_percentage_error(y_pred_val, y_val)\n",
    "test_mape= mean_absolute_percentage_error(y_pred_test, y_test)\n",
    "\n",
    "print(\"Validation MAPE: \", val_mape)\n",
    "print(\"Test MAPE: \", test_mape)"
   ]
  },
  {
   "cell_type": "code",
   "execution_count": 12,
   "id": "bc9eeeb1",
   "metadata": {
    "id": "bc9eeeb1",
    "outputId": "0f158c7e-67c0-4d8a-eec0-66f9d860aff2"
   },
   "outputs": [
    {
     "data": {
      "text/plain": [
       "0.00042020880033603116"
      ]
     },
     "execution_count": 12,
     "metadata": {},
     "output_type": "execute_result"
    }
   ],
   "source": [
    "# Calculate MAE\n",
    "val_mae  = mean_absolute_error(y_pred_val, y_val)\n",
    "test_mae = mean_absolute_error(y_pred_test, y_test)\n",
    "\n",
    "print(\"Validation MAE: \", val_mae)\n",
    "print(\"Test MAE: \", test_mae)"
   ]
  },
  {
   "cell_type": "code",
   "execution_count": 13,
   "id": "ae35b2ab",
   "metadata": {
    "id": "ae35b2ab",
    "outputId": "05babbdb-8c7c-4ba0-924f-f4182c034a61"
   },
   "outputs": [
    {
     "data": {
      "text/plain": [
       "5.328163254338276e-07"
      ]
     },
     "execution_count": 13,
     "metadata": {},
     "output_type": "execute_result"
    }
   ],
   "source": [
    "# Calculate MSE\n",
    "val_mse  = mean_squared_error(y_pred_val, y_val)\n",
    "test_mse = mean_squared_error(y_pred_test, y_test)\n",
    "\n",
    "print(\"Validation MSE: \", val_mae)\n",
    "print(\"Test MSE: \", test_mae)"
   ]
  },
  {
   "cell_type": "code",
   "execution_count": null,
   "id": "cef61df5",
   "metadata": {},
   "outputs": [],
   "source": [
    "# Calculate RMSE\n",
    "valid_rmse = np.sqrt(np.mean((y_pred_val - y_val)**2))\n",
    "test_rmse = np.sqrt(np.mean((y_pred_test - y_test)**2))\n",
    "\n",
    "print('Validation RMSE:', valid_rmse)\n",
    "print('Testing RMSE:', test_rmse)"
   ]
  }
 ],
 "metadata": {
  "colab": {
   "collapsed_sections": [
    "d1f40c31",
    "41ca6858"
   ],
   "provenance": []
  },
  "kernelspec": {
   "display_name": "Python 3 (ipykernel)",
   "language": "python",
   "name": "python3"
  },
  "language_info": {
   "codemirror_mode": {
    "name": "ipython",
    "version": 3
   },
   "file_extension": ".py",
   "mimetype": "text/x-python",
   "name": "python",
   "nbconvert_exporter": "python",
   "pygments_lexer": "ipython3",
   "version": "3.11.1"
  }
 },
 "nbformat": 4,
 "nbformat_minor": 5
}
