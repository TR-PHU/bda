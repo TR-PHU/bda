{
 "cells": [
  {
   "attachments": {},
   "cell_type": "markdown",
   "id": "f8047eaf",
   "metadata": {
    "id": "f8047eaf"
   },
   "source": [
    "### Import libraries and get data"
   ]
  },
  {
   "cell_type": "code",
   "execution_count": 3,
   "id": "253f387d",
   "metadata": {
    "id": "253f387d"
   },
   "outputs": [],
   "source": [
    "import numpy as np\n",
    "import pandas as pd\n",
    "import matplotlib.pyplot as plt\n",
    "import pmdarima as pmd\n",
    "\n",
    "from sklearn.metrics import mean_squared_error, mean_absolute_error\n",
    "\n",
    "from statsmodels.tsa.seasonal import seasonal_decompose\n",
    "from dateutil.parser import parse"
   ]
  },
  {
   "attachments": {},
   "cell_type": "markdown",
   "id": "58ee460a",
   "metadata": {},
   "source": [
    "## Preprocessing data"
   ]
  },
  {
   "cell_type": "code",
   "execution_count": 4,
   "id": "38e633bd",
   "metadata": {
    "colab": {
     "base_uri": "https://localhost:8080/"
    },
    "id": "38e633bd",
    "outputId": "6070a0bb-a462-4f73-c27f-61cd8291913b"
   },
   "outputs": [
    {
     "data": {
      "text/html": [
       "<div>\n",
       "<style scoped>\n",
       "    .dataframe tbody tr th:only-of-type {\n",
       "        vertical-align: middle;\n",
       "    }\n",
       "\n",
       "    .dataframe tbody tr th {\n",
       "        vertical-align: top;\n",
       "    }\n",
       "\n",
       "    .dataframe thead th {\n",
       "        text-align: right;\n",
       "    }\n",
       "</style>\n",
       "<table border=\"1\" class=\"dataframe\">\n",
       "  <thead>\n",
       "    <tr style=\"text-align: right;\">\n",
       "      <th></th>\n",
       "      <th>Price</th>\n",
       "      <th>Vol.</th>\n",
       "    </tr>\n",
       "    <tr>\n",
       "      <th>Date</th>\n",
       "      <th></th>\n",
       "      <th></th>\n",
       "    </tr>\n",
       "  </thead>\n",
       "  <tbody>\n",
       "    <tr>\n",
       "      <th>2017-12-01</th>\n",
       "      <td>1.0100</td>\n",
       "      <td>457.32K</td>\n",
       "    </tr>\n",
       "    <tr>\n",
       "      <th>2017-12-02</th>\n",
       "      <td>0.9959</td>\n",
       "      <td>970.82K</td>\n",
       "    </tr>\n",
       "    <tr>\n",
       "      <th>2017-12-03</th>\n",
       "      <td>0.9977</td>\n",
       "      <td>1.30M</td>\n",
       "    </tr>\n",
       "    <tr>\n",
       "      <th>2017-12-04</th>\n",
       "      <td>1.0000</td>\n",
       "      <td>2.91M</td>\n",
       "    </tr>\n",
       "    <tr>\n",
       "      <th>2017-12-05</th>\n",
       "      <td>1.0000</td>\n",
       "      <td>1.74M</td>\n",
       "    </tr>\n",
       "    <tr>\n",
       "      <th>...</th>\n",
       "      <td>...</td>\n",
       "      <td>...</td>\n",
       "    </tr>\n",
       "    <tr>\n",
       "      <th>2023-03-28</th>\n",
       "      <td>1.0001</td>\n",
       "      <td>135.75M</td>\n",
       "    </tr>\n",
       "    <tr>\n",
       "      <th>2023-03-29</th>\n",
       "      <td>0.9999</td>\n",
       "      <td>169.26M</td>\n",
       "    </tr>\n",
       "    <tr>\n",
       "      <th>2023-03-30</th>\n",
       "      <td>1.0000</td>\n",
       "      <td>139.94M</td>\n",
       "    </tr>\n",
       "    <tr>\n",
       "      <th>2023-03-31</th>\n",
       "      <td>1.0001</td>\n",
       "      <td>143.86M</td>\n",
       "    </tr>\n",
       "    <tr>\n",
       "      <th>2023-04-01</th>\n",
       "      <td>1.0002</td>\n",
       "      <td>51.66M</td>\n",
       "    </tr>\n",
       "  </tbody>\n",
       "</table>\n",
       "<p>1947 rows × 2 columns</p>\n",
       "</div>"
      ],
      "text/plain": [
       "             Price     Vol.\n",
       "Date                       \n",
       "2017-12-01  1.0100  457.32K\n",
       "2017-12-02  0.9959  970.82K\n",
       "2017-12-03  0.9977    1.30M\n",
       "2017-12-04  1.0000    2.91M\n",
       "2017-12-05  1.0000    1.74M\n",
       "...            ...      ...\n",
       "2023-03-28  1.0001  135.75M\n",
       "2023-03-29  0.9999  169.26M\n",
       "2023-03-30  1.0000  139.94M\n",
       "2023-03-31  1.0001  143.86M\n",
       "2023-04-01  1.0002   51.66M\n",
       "\n",
       "[1947 rows x 2 columns]"
      ]
     },
     "execution_count": 4,
     "metadata": {},
     "output_type": "execute_result"
    }
   ],
   "source": [
    "# Load the dataset\n",
    "df = pd.read_csv(\"./USDT.csv\")\n",
    "\n",
    "# Drop the unnecessary columns.\n",
    "df.drop(['Open', 'High', 'Low', 'Change %'], axis=1, inplace=True)\n",
    "\n",
    "# Convert the \"Date\" column to datetime format\n",
    "df['Date'] = pd.to_datetime(df['Date'], format='%d-%b-%y')\n",
    "\n",
    "# Format the 'Date' column\n",
    "# df['Date'] = df['Date'].dt.strftime('%Y-%m-%d')\n",
    "                                    \n",
    "# Sort the DataFrame by date\n",
    "df = df.sort_values('Date')\n",
    "\n",
    "# Set Date index\n",
    "df.set_index('Date', inplace=True)\n",
    "\n",
    "df"
   ]
  },
  {
   "cell_type": "code",
   "execution_count": 5,
   "id": "1a5272e2",
   "metadata": {
    "colab": {
     "base_uri": "https://localhost:8080/"
    },
    "id": "1a5272e2",
    "outputId": "72f841c6-8b62-496f-db00-dd0a911d40c7"
   },
   "outputs": [
    {
     "name": "stdout",
     "output_type": "stream",
     "text": [
      "Train shape: (1362, 1)\n",
      "Test shape: (585, 1)\n"
     ]
    }
   ],
   "source": [
    "# Split the data into training (70%) and test (30%) sets\n",
    "train_size = int(0.7 * len(df))\n",
    "\n",
    "train = df[:train_size][['Price']]\n",
    "test = df[train_size:][['Price']]\n",
    "\n",
    "# Check the sizes of the data sets\n",
    "print(\"Train shape:\", train.shape)\n",
    "print(\"Test shape:\", test.shape)"
   ]
  },
  {
   "attachments": {},
   "cell_type": "markdown",
   "id": "CDT4u80EuyHT",
   "metadata": {
    "id": "CDT4u80EuyHT"
   },
   "source": [
    "## ARIMA Model"
   ]
  },
  {
   "attachments": {},
   "cell_type": "markdown",
   "id": "aZhec0PShHNJ",
   "metadata": {
    "id": "aZhec0PShHNJ"
   },
   "source": [
    "### 3. Perfom ARIMA Model "
   ]
  },
  {
   "cell_type": "code",
   "execution_count": 6,
   "id": "xluIDn_CVZil",
   "metadata": {
    "colab": {
     "base_uri": "https://localhost:8080/"
    },
    "id": "xluIDn_CVZil",
    "outputId": "b9f31564-f0f5-4586-d1fe-08efea1ab71b"
   },
   "outputs": [
    {
     "name": "stdout",
     "output_type": "stream",
     "text": [
      "Requirement already satisfied: pmdarima in c:\\users\\phutran\\appdata\\local\\programs\\python\\python311\\lib\\site-packages (2.0.3)\n",
      "Requirement already satisfied: joblib>=0.11 in c:\\users\\phutran\\appdata\\local\\programs\\python\\python311\\lib\\site-packages (from pmdarima) (1.2.0)\n",
      "Requirement already satisfied: Cython!=0.29.18,!=0.29.31,>=0.29 in c:\\users\\phutran\\appdata\\local\\programs\\python\\python311\\lib\\site-packages (from pmdarima) (0.29.34)\n",
      "Requirement already satisfied: numpy>=1.21.2 in c:\\users\\phutran\\appdata\\local\\programs\\python\\python311\\lib\\site-packages (from pmdarima) (1.24.2)\n",
      "Requirement already satisfied: pandas>=0.19 in c:\\users\\phutran\\appdata\\local\\programs\\python\\python311\\lib\\site-packages (from pmdarima) (1.5.3)\n",
      "Requirement already satisfied: scikit-learn>=0.22 in c:\\users\\phutran\\appdata\\local\\programs\\python\\python311\\lib\\site-packages (from pmdarima) (1.2.2)\n",
      "Requirement already satisfied: scipy>=1.3.2 in c:\\users\\phutran\\appdata\\local\\programs\\python\\python311\\lib\\site-packages (from pmdarima) (1.10.1)\n",
      "Requirement already satisfied: statsmodels>=0.13.2 in c:\\users\\phutran\\appdata\\local\\programs\\python\\python311\\lib\\site-packages (from pmdarima) (0.13.5)\n",
      "Requirement already satisfied: urllib3 in c:\\users\\phutran\\appdata\\local\\programs\\python\\python311\\lib\\site-packages (from pmdarima) (1.26.15)\n",
      "Requirement already satisfied: setuptools!=50.0.0,>=38.6.0 in c:\\users\\phutran\\appdata\\local\\programs\\python\\python311\\lib\\site-packages (from pmdarima) (65.5.0)\n",
      "Requirement already satisfied: python-dateutil>=2.8.1 in c:\\users\\phutran\\appdata\\local\\programs\\python\\python311\\lib\\site-packages (from pandas>=0.19->pmdarima) (2.8.2)\n",
      "Requirement already satisfied: pytz>=2020.1 in c:\\users\\phutran\\appdata\\local\\programs\\python\\python311\\lib\\site-packages (from pandas>=0.19->pmdarima) (2022.7.1)\n",
      "Requirement already satisfied: threadpoolctl>=2.0.0 in c:\\users\\phutran\\appdata\\local\\programs\\python\\python311\\lib\\site-packages (from scikit-learn>=0.22->pmdarima) (3.1.0)\n",
      "Requirement already satisfied: patsy>=0.5.2 in c:\\users\\phutran\\appdata\\local\\programs\\python\\python311\\lib\\site-packages (from statsmodels>=0.13.2->pmdarima) (0.5.3)\n",
      "Requirement already satisfied: packaging>=21.3 in c:\\users\\phutran\\appdata\\local\\programs\\python\\python311\\lib\\site-packages (from statsmodels>=0.13.2->pmdarima) (23.0)\n",
      "Requirement already satisfied: six in c:\\users\\phutran\\appdata\\local\\programs\\python\\python311\\lib\\site-packages (from patsy>=0.5.2->statsmodels>=0.13.2->pmdarima) (1.16.0)\n"
     ]
    },
    {
     "name": "stderr",
     "output_type": "stream",
     "text": [
      "\n",
      "[notice] A new release of pip available: 22.3.1 -> 23.1.2\n",
      "[notice] To update, run: python.exe -m pip install --upgrade pip\n"
     ]
    }
   ],
   "source": [
    "!pip install pmdarima"
   ]
  },
  {
   "cell_type": "code",
   "execution_count": 7,
   "id": "7AiUw0UsU_iT",
   "metadata": {
    "colab": {
     "base_uri": "https://localhost:8080/"
    },
    "id": "7AiUw0UsU_iT",
    "outputId": "bc9e0412-0e81-4954-c761-de3f42841501"
   },
   "outputs": [
    {
     "name": "stdout",
     "output_type": "stream",
     "text": [
      "Performing stepwise search to minimize aic\n"
     ]
    },
    {
     "name": "stderr",
     "output_type": "stream",
     "text": [
      "C:\\Users\\PHUTRAN\\AppData\\Local\\Programs\\Python\\Python311\\Lib\\site-packages\\pmdarima\\arima\\_validation.py:62: UserWarning: m (12) set for non-seasonal fit. Setting to 0\n",
      "  warnings.warn(\"m (%i) set for non-seasonal fit. Setting to 0\" % m)\n"
     ]
    },
    {
     "name": "stdout",
     "output_type": "stream",
     "text": [
      " ARIMA(1,0,1)(0,0,0)[0]             : AIC=-11684.760, Time=0.20 sec\n",
      " ARIMA(0,0,0)(0,0,0)[0]             : AIC=3868.101, Time=0.02 sec\n",
      " ARIMA(1,0,0)(0,0,0)[0]             : AIC=inf, Time=0.11 sec\n",
      " ARIMA(0,0,1)(0,0,0)[0]             : AIC=inf, Time=0.23 sec\n",
      " ARIMA(2,0,1)(0,0,0)[0]             : AIC=inf, Time=0.81 sec\n",
      " ARIMA(1,0,2)(0,0,0)[0]             : AIC=-11723.739, Time=0.26 sec\n",
      " ARIMA(0,0,2)(0,0,0)[0]             : AIC=inf, Time=0.36 sec\n",
      " ARIMA(2,0,2)(0,0,0)[0]             : AIC=-11721.681, Time=0.52 sec\n",
      " ARIMA(1,0,3)(0,0,0)[0]             : AIC=-11723.605, Time=0.16 sec\n",
      " ARIMA(0,0,3)(0,0,0)[0]             : AIC=inf, Time=0.65 sec\n",
      " ARIMA(2,0,3)(0,0,0)[0]             : AIC=-11721.615, Time=0.17 sec\n",
      " ARIMA(1,0,2)(0,0,0)[0] intercept   : AIC=-11756.317, Time=0.40 sec\n",
      " ARIMA(0,0,2)(0,0,0)[0] intercept   : AIC=-11102.504, Time=1.06 sec\n",
      " ARIMA(1,0,1)(0,0,0)[0] intercept   : AIC=-11738.216, Time=0.43 sec\n",
      " ARIMA(2,0,2)(0,0,0)[0] intercept   : AIC=-11748.509, Time=0.62 sec\n",
      " ARIMA(1,0,3)(0,0,0)[0] intercept   : AIC=-11755.754, Time=0.77 sec\n",
      " ARIMA(0,0,1)(0,0,0)[0] intercept   : AIC=-10766.414, Time=0.39 sec\n",
      " ARIMA(0,0,3)(0,0,0)[0] intercept   : AIC=-11356.173, Time=1.13 sec\n",
      " ARIMA(2,0,1)(0,0,0)[0] intercept   : AIC=-11587.954, Time=0.63 sec\n",
      " ARIMA(2,0,3)(0,0,0)[0] intercept   : AIC=-11752.540, Time=0.86 sec\n",
      "\n",
      "Best model:  ARIMA(1,0,2)(0,0,0)[0] intercept\n",
      "Total fit time: 9.809 seconds\n"
     ]
    }
   ],
   "source": [
    "arima_model = pmd.auto_arima(train, start_p=1, start_q=1,\n",
    "                         test='adf',\n",
    "                         max_p=3, max_q=3, m=12,\n",
    "                         start_P=0, seasonal=False,\n",
    "                         d=None, D=0, trace=True,\n",
    "                         error_action='ignore',  \n",
    "                         suppress_warnings=True, \n",
    "                         stepwise=True)"
   ]
  },
  {
   "attachments": {},
   "cell_type": "markdown",
   "id": "65c61900",
   "metadata": {
    "id": "65c61900"
   },
   "source": [
    "### 3.1 Build the ARIMA Model"
   ]
  },
  {
   "cell_type": "code",
   "execution_count": 8,
   "id": "8de76475",
   "metadata": {
    "colab": {
     "base_uri": "https://localhost:8080/"
    },
    "id": "8de76475",
    "outputId": "983bdfaa-ab1f-4791-860d-b06e6ee2a95e"
   },
   "outputs": [
    {
     "name": "stderr",
     "output_type": "stream",
     "text": [
      "C:\\Users\\PHUTRAN\\AppData\\Local\\Programs\\Python\\Python311\\Lib\\site-packages\\statsmodels\\tsa\\base\\tsa_model.py:471: ValueWarning: A date index has been provided, but it has no associated frequency information and so will be ignored when e.g. forecasting.\n",
      "  self._init_dates(dates, freq)\n",
      "C:\\Users\\PHUTRAN\\AppData\\Local\\Programs\\Python\\Python311\\Lib\\site-packages\\statsmodels\\tsa\\base\\tsa_model.py:471: ValueWarning: A date index has been provided, but it has no associated frequency information and so will be ignored when e.g. forecasting.\n",
      "  self._init_dates(dates, freq)\n",
      "C:\\Users\\PHUTRAN\\AppData\\Local\\Programs\\Python\\Python311\\Lib\\site-packages\\statsmodels\\tsa\\base\\tsa_model.py:471: ValueWarning: A date index has been provided, but it has no associated frequency information and so will be ignored when e.g. forecasting.\n",
      "  self._init_dates(dates, freq)\n"
     ]
    },
    {
     "name": "stdout",
     "output_type": "stream",
     "text": [
      "                               SARIMAX Results                                \n",
      "==============================================================================\n",
      "Dep. Variable:                  Price   No. Observations:                 1362\n",
      "Model:                 ARIMA(1, 0, 2)   Log Likelihood                5888.000\n",
      "Date:                Wed, 03 May 2023   AIC                         -11765.999\n",
      "Time:                        15:55:58   BIC                         -11739.916\n",
      "Sample:                             0   HQIC                        -11756.235\n",
      "                               - 1362                                         \n",
      "Covariance Type:                  opg                                         \n",
      "==============================================================================\n",
      "                 coef    std err          z      P>|z|      [0.025      0.975]\n",
      "------------------------------------------------------------------------------\n",
      "const          1.0003      0.001    918.580      0.000       0.998       1.002\n",
      "ar.L1          0.9526      0.005    187.338      0.000       0.943       0.963\n",
      "ma.L1         -0.2626      0.013    -19.787      0.000      -0.289      -0.237\n",
      "ma.L2         -0.1415      0.013    -10.720      0.000      -0.167      -0.116\n",
      "sigma2      1.025e-05   1.16e-07     88.719      0.000       1e-05    1.05e-05\n",
      "===================================================================================\n",
      "Ljung-Box (L1) (Q):                   0.01   Jarque-Bera (JB):             28357.07\n",
      "Prob(Q):                              0.91   Prob(JB):                         0.00\n",
      "Heteroskedasticity (H):               0.01   Skew:                             0.40\n",
      "Prob(H) (two-sided):                  0.00   Kurtosis:                        25.34\n",
      "===================================================================================\n",
      "\n",
      "Warnings:\n",
      "[1] Covariance matrix calculated using the outer product of gradients (complex-step).\n"
     ]
    }
   ],
   "source": [
    "from statsmodels.tsa.arima.model import ARIMA\n",
    "\n",
    "# ARMIA(1,0,2)\n",
    "model = ARIMA(train, order=(1,0,2))\n",
    "model_fit = model.fit()\n",
    "print(model_fit.summary())"
   ]
  },
  {
   "attachments": {},
   "cell_type": "markdown",
   "id": "F1b6EiskiVot",
   "metadata": {
    "id": "F1b6EiskiVot"
   },
   "source": [
    "### 3.2 Predict on Test data"
   ]
  },
  {
   "cell_type": "code",
   "execution_count": 9,
   "id": "461adc13",
   "metadata": {
    "colab": {
     "base_uri": "https://localhost:8080/",
     "height": 785
    },
    "id": "461adc13",
    "outputId": "4fb808c0-096c-42fd-d60c-bca34cb18791"
   },
   "outputs": [
    {
     "name": "stdout",
     "output_type": "stream",
     "text": [
      "1363    1.000350\n",
      "1364    1.000349\n",
      "1365    1.000347\n",
      "1366    1.000345\n",
      "1367    1.000344\n",
      "          ...   \n",
      "1943    1.000313\n",
      "1944    1.000313\n",
      "1945    1.000313\n",
      "1946    1.000313\n",
      "1947    1.000313\n",
      "Name: predicted_mean, Length: 585, dtype: float64\n"
     ]
    },
    {
     "name": "stderr",
     "output_type": "stream",
     "text": [
      "C:\\Users\\PHUTRAN\\AppData\\Local\\Programs\\Python\\Python311\\Lib\\site-packages\\statsmodels\\tsa\\base\\tsa_model.py:834: ValueWarning: No supported index is available. Prediction results will be given with an integer index beginning at `start`.\n",
      "  return get_prediction_index(\n",
      "C:\\Users\\PHUTRAN\\AppData\\Local\\Programs\\Python\\Python311\\Lib\\site-packages\\statsmodels\\tsa\\base\\tsa_model.py:834: ValueWarning: No supported index is available. Prediction results will be given with an integer index beginning at `start`.\n",
      "  return get_prediction_index(\n"
     ]
    },
    {
     "data": {
      "image/png": "[encoded data removed]",
      "text/plain": [
       "<Figure size 1200x500 with 1 Axes>"
      ]
     },
     "metadata": {},
     "output_type": "display_data"
    }
   ],
   "source": [
    "# Forecast\n",
    "for t in range(len(test)):\n",
    "    model = ARIMA(train, order=(1,0,2))\n",
    "    model_fit = model.fit()\n",
    "    yhat_f = model_fit.forecast()[0][0]\n",
    "    yhat_p = model_fit.predict(start=len(history), end=len(history))[0]\n",
    "    predictions_f.append(yhat_f)\n",
    "    predictions_p.append(yhat_p)\n",
    "    history.append(test[t])\n",
    "\n",
    "predict_results = model_fit.get_forecast(585)\n",
    "\n",
    "\n",
    "# Confidence\n",
    "conf = predict_results.conf_int(alpha=0.05)\n",
    "\n",
    "# Make as pandas series\n",
    "predict = pd.Series(predict_price.values, index=test.index)\n",
    "lower = pd.Series(conf['lower Price'].values, index=test.index)\n",
    "upper = pd.Series(conf['upper Price'].values, index=test.index)\n",
    "\n",
    "\n",
    "# Plot\n",
    "plt.figure(figsize=(12,5), dpi=100)\n",
    "plt.plot(predict, label='predict')\n",
    "plt.plot(test, label='actual')\n",
    "plt.fill_between(lower.index, lower, upper, color='k', alpha=.15)\n",
    "plt.title('Forecast vs Actuals')\n",
    "plt.xlabel(\"Date\")\n",
    "plt.ylabel(\"Price\")\n",
    "plt.legend(loc='upper left', fontsize=8)\n",
    "plt.show()"
   ]
  },
  {
   "attachments": {},
   "cell_type": "markdown",
   "id": "T-klU1u3iRGA",
   "metadata": {
    "id": "T-klU1u3iRGA"
   },
   "source": [
    "### 3.3 Predict 10 days later"
   ]
  },
  {
   "cell_type": "code",
   "execution_count": 10,
   "id": "R4r5BckljBBe",
   "metadata": {
    "colab": {
     "base_uri": "https://localhost:8080/"
    },
    "id": "R4r5BckljBBe",
    "outputId": "502ae446-ae4d-435e-8edf-962a4ec8535e"
   },
   "outputs": [
    {
     "name": "stderr",
     "output_type": "stream",
     "text": [
      "C:\\Users\\PHUTRAN\\AppData\\Local\\Programs\\Python\\Python311\\Lib\\site-packages\\statsmodels\\tsa\\base\\tsa_model.py:834: ValueWarning: No supported index is available. Prediction results will be given with an integer index beginning at `start`.\n",
      "  return get_prediction_index(\n"
     ]
    },
    {
     "data": {
      "text/plain": [
       "1948    1.000313\n",
       "1949    1.000313\n",
       "1950    1.000313\n",
       "1951    1.000313\n",
       "1952    1.000313\n",
       "1953    1.000313\n",
       "1954    1.000313\n",
       "1955    1.000313\n",
       "1956    1.000313\n",
       "1957    1.000313\n",
       "1958    1.000313\n",
       "1959    1.000313\n",
       "1960    1.000313\n",
       "1961    1.000313\n",
       "1962    1.000313\n",
       "1963    1.000313\n",
       "1964    1.000313\n",
       "1965    1.000313\n",
       "1966    1.000313\n",
       "1967    1.000313\n",
       "1968    1.000313\n",
       "1969    1.000313\n",
       "1970    1.000313\n",
       "1971    1.000313\n",
       "1972    1.000313\n",
       "1973    1.000313\n",
       "1974    1.000313\n",
       "1975    1.000313\n",
       "1976    1.000313\n",
       "1977    1.000313\n",
       "1978    1.000313\n",
       "Name: predicted_mean, dtype: float64"
      ]
     },
     "execution_count": 10,
     "metadata": {},
     "output_type": "execute_result"
    }
   ],
   "source": [
    "price_30_days_later = model_fit.predict(start=1948, end=1978)\n",
    "price_30_days_later"
   ]
  },
  {
   "attachments": {},
   "cell_type": "markdown",
   "id": "uLQMBilbWM0b",
   "metadata": {
    "id": "uLQMBilbWM0b"
   },
   "source": [
    "### 4.  Evaluate ARIMA Model"
   ]
  },
  {
   "cell_type": "code",
   "execution_count": 11,
   "id": "25b0b45a",
   "metadata": {
    "id": "25b0b45a",
    "outputId": "4ee886aa-8f5e-438a-8948-13e07b942fd1"
   },
   "outputs": [
    {
     "data": {
      "text/plain": [
       "0.00042007528036060285"
      ]
     },
     "execution_count": 11,
     "metadata": {},
     "output_type": "execute_result"
    }
   ],
   "source": [
    "#MAPE\n",
    "def mean_absolute_percentage_error(predict, actual):\n",
    "    return np.mean(np.abs(predict - actual)/np.abs(actual))\n",
    "\n",
    "mean_absolute_percentage_error(predict, test['Price'])"
   ]
  },
  {
   "cell_type": "code",
   "execution_count": 12,
   "id": "bc9eeeb1",
   "metadata": {
    "id": "bc9eeeb1",
    "outputId": "0f158c7e-67c0-4d8a-eec0-66f9d860aff2"
   },
   "outputs": [
    {
     "data": {
      "text/plain": [
       "0.00042020880033603116"
      ]
     },
     "execution_count": 12,
     "metadata": {},
     "output_type": "execute_result"
    }
   ],
   "source": [
    "#MAE\n",
    "mean_absolute_error(test['Price'], predict)"
   ]
  },
  {
   "cell_type": "code",
   "execution_count": 13,
   "id": "ae35b2ab",
   "metadata": {
    "id": "ae35b2ab",
    "outputId": "05babbdb-8c7c-4ba0-924f-f4182c034a61"
   },
   "outputs": [
    {
     "data": {
      "text/plain": [
       "5.328163254338276e-07"
      ]
     },
     "execution_count": 13,
     "metadata": {},
     "output_type": "execute_result"
    }
   ],
   "source": [
    "#MSE\n",
    "mean_squared_error(test['Price'], predict)"
   ]
  }
 ],
 "metadata": {
  "colab": {
   "collapsed_sections": [
    "d1f40c31",
    "41ca6858"
   ],
   "provenance": []
  },
  "kernelspec": {
   "display_name": "Python 3 (ipykernel)",
   "language": "python",
   "name": "python3"
  },
  "language_info": {
   "codemirror_mode": {
    "name": "ipython",
    "version": 3
   },
   "file_extension": ".py",
   "mimetype": "text/x-python",
   "name": "python",
   "nbconvert_exporter": "python",
   "pygments_lexer": "ipython3",
   "version": "3.11.1"
  }
 },
 "nbformat": 4,
 "nbformat_minor": 5
}
