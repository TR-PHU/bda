{
 "cells": [
  {
   "cell_type": "markdown",
   "id": "6d4ac658",
   "metadata": {},
   "source": [
    "## 1. Import libraries and load the dataset "
   ]
  },
  {
   "cell_type": "code",
   "execution_count": 59,
   "id": "1488bcec",
   "metadata": {},
   "outputs": [],
   "source": [
    "import pandas as pd\n",
    "import numpy as np\n",
    "import matplotlib.pyplot as plt\n",
    "\n",
    "import pmdarima as pmd\n",
    "from statsmodels.tsa.api import DynamicFactorMQ\n",
    "from sklearn.metrics import mean_squared_error, mean_absolute_error, mean_absolute_percentage_error"
   ]
  },
  {
   "cell_type": "code",
   "execution_count": 60,
   "id": "fc673734",
   "metadata": {},
   "outputs": [
    {
     "data": {
      "text/html": [
       "<div>\n",
       "<style scoped>\n",
       "    .dataframe tbody tr th:only-of-type {\n",
       "        vertical-align: middle;\n",
       "    }\n",
       "\n",
       "    .dataframe tbody tr th {\n",
       "        vertical-align: top;\n",
       "    }\n",
       "\n",
       "    .dataframe thead th {\n",
       "        text-align: right;\n",
       "    }\n",
       "</style>\n",
       "<table border=\"1\" class=\"dataframe\">\n",
       "  <thead>\n",
       "    <tr style=\"text-align: right;\">\n",
       "      <th></th>\n",
       "      <th>Price</th>\n",
       "      <th>Vol.</th>\n",
       "    </tr>\n",
       "    <tr>\n",
       "      <th>Date</th>\n",
       "      <th></th>\n",
       "      <th></th>\n",
       "    </tr>\n",
       "  </thead>\n",
       "  <tbody>\n",
       "    <tr>\n",
       "      <th>2017-12-01</th>\n",
       "      <td>1.0100</td>\n",
       "      <td>457320.0</td>\n",
       "    </tr>\n",
       "    <tr>\n",
       "      <th>2017-12-02</th>\n",
       "      <td>0.9959</td>\n",
       "      <td>970820.0</td>\n",
       "    </tr>\n",
       "    <tr>\n",
       "      <th>2017-12-03</th>\n",
       "      <td>0.9977</td>\n",
       "      <td>1300000.0</td>\n",
       "    </tr>\n",
       "    <tr>\n",
       "      <th>2017-12-04</th>\n",
       "      <td>1.0000</td>\n",
       "      <td>2910000.0</td>\n",
       "    </tr>\n",
       "    <tr>\n",
       "      <th>2017-12-05</th>\n",
       "      <td>1.0000</td>\n",
       "      <td>1740000.0</td>\n",
       "    </tr>\n",
       "    <tr>\n",
       "      <th>...</th>\n",
       "      <td>...</td>\n",
       "      <td>...</td>\n",
       "    </tr>\n",
       "    <tr>\n",
       "      <th>2023-06-12</th>\n",
       "      <td>1.0000</td>\n",
       "      <td>111560000.0</td>\n",
       "    </tr>\n",
       "    <tr>\n",
       "      <th>2023-06-13</th>\n",
       "      <td>0.9999</td>\n",
       "      <td>80350000.0</td>\n",
       "    </tr>\n",
       "    <tr>\n",
       "      <th>2023-06-14</th>\n",
       "      <td>0.9998</td>\n",
       "      <td>96430000.0</td>\n",
       "    </tr>\n",
       "    <tr>\n",
       "      <th>2023-06-15</th>\n",
       "      <td>0.9993</td>\n",
       "      <td>231700000.0</td>\n",
       "    </tr>\n",
       "    <tr>\n",
       "      <th>2023-06-16</th>\n",
       "      <td>0.9999</td>\n",
       "      <td>40820000.0</td>\n",
       "    </tr>\n",
       "  </tbody>\n",
       "</table>\n",
       "<p>2023 rows × 2 columns</p>\n",
       "</div>"
      ],
      "text/plain": [
       "             Price         Vol.\n",
       "Date                           \n",
       "2017-12-01  1.0100     457320.0\n",
       "2017-12-02  0.9959     970820.0\n",
       "2017-12-03  0.9977    1300000.0\n",
       "2017-12-04  1.0000    2910000.0\n",
       "2017-12-05  1.0000    1740000.0\n",
       "...            ...          ...\n",
       "2023-06-12  1.0000  111560000.0\n",
       "2023-06-13  0.9999   80350000.0\n",
       "2023-06-14  0.9998   96430000.0\n",
       "2023-06-15  0.9993  231700000.0\n",
       "2023-06-16  0.9999   40820000.0\n",
       "\n",
       "[2023 rows x 2 columns]"
      ]
     },
     "execution_count": 60,
     "metadata": {},
     "output_type": "execute_result"
    }
   ],
   "source": [
    "# Load the dataset\n",
    "df = pd.read_csv(\"./USDT.csv\")\n",
    "\n",
    "# Drop the unnecessary columns.\n",
    "df.drop(['Open', 'High', 'Low', 'Change %'], axis=1, inplace=True)\n",
    "\n",
    "# Convert the \"Date\" column to datetime format\n",
    "df['Date'] = pd.to_datetime(df['Date'], format='%b %d, %Y')\n",
    "                                    \n",
    "# Sort the DataFrame by date\n",
    "df = df.sort_values('Date')\n",
    "\n",
    "# Set Date index\n",
    "df.set_index('Date', inplace=True)\n",
    "\n",
    "df['Vol.'] = df['Vol.'].str.replace('K', 'e3')\n",
    "df['Vol.'] = df['Vol.'].str.replace('M', 'e6')\n",
    "df['Vol.'] = pd.to_numeric(df['Vol.'], errors='coerce')\n",
    "df"
   ]
  },
  {
   "cell_type": "markdown",
   "id": "e614095b",
   "metadata": {},
   "source": [
    "## 2. Split the data into training, test and validate sets"
   ]
  },
  {
   "cell_type": "code",
   "execution_count": 61,
   "id": "a1ee70d2",
   "metadata": {},
   "outputs": [
    {
     "name": "stdout",
     "output_type": "stream",
     "text": [
      "Train shape: (1416, 2)\n",
      "Test shape: (303, 2)\n",
      "Validate shape: (304, 2)\n"
     ]
    }
   ],
   "source": [
    "train_size = int(0.7 * len(df))\n",
    "test_size = int(0.15 * len(df))\n",
    "val_size = len(df) - train_size - test_size\n",
    "\n",
    "train_data = df[:train_size]\n",
    "test_data = df[train_size:train_size+test_size]\n",
    "val_data = df[train_size+test_size:]\n",
    "\n",
    "print(\"Train shape:\", train_data.shape)\n",
    "print(\"Test shape:\", test_data.shape)\n",
    "print(\"Validate shape:\", val_data.shape)"
   ]
  },
  {
   "cell_type": "code",
   "execution_count": 62,
   "id": "10107d2c",
   "metadata": {},
   "outputs": [
    {
     "name": "stdout",
     "output_type": "stream",
     "text": [
      "Train shape: (1213, 2)\n",
      "Test shape: (404, 2)\n",
      "Validate shape: (406, 2)\n"
     ]
    }
   ],
   "source": [
    "train_size = int(0.6 * len(df))\n",
    "test_size = int(0.2 * len(df))\n",
    "val_size = len(df) - train_size - test_size\n",
    "\n",
    "train_data = df[:train_size]\n",
    "test_data = df[train_size:train_size+test_size]\n",
    "val_data = df[train_size+test_size:]\n",
    "\n",
    "print(\"Train shape:\", train_data.shape)\n",
    "print(\"Test shape:\", test_data.shape)\n",
    "print(\"Validate shape:\", val_data.shape)"
   ]
  },
  {
   "cell_type": "code",
   "execution_count": 63,
   "id": "bda103cb",
   "metadata": {},
   "outputs": [
    {
     "name": "stdout",
     "output_type": "stream",
     "text": [
      "Train shape: (1416, 2)\n",
      "Test shape: (404, 2)\n",
      "Validate shape: (203, 2)\n"
     ]
    }
   ],
   "source": [
    "train_size = int(0.7 * len(df))\n",
    "test_size = int(0.2 * len(df))\n",
    "val_size = len(df) - train_size - test_size\n",
    "\n",
    "train_data = df[:train_size]\n",
    "test_data = df[train_size:train_size+test_size]\n",
    "val_data = df[train_size+test_size:]\n",
    "\n",
    "print(\"Train shape:\", train_data.shape)\n",
    "print(\"Test shape:\", test_data.shape)\n",
    "print(\"Validate shape:\", val_data.shape)"
   ]
  },
  {
   "cell_type": "markdown",
   "id": "eca58923",
   "metadata": {},
   "source": [
    "## 3. Perform Dynamic Factor Model"
   ]
  },
  {
   "cell_type": "markdown",
   "id": "3e702968",
   "metadata": {},
   "source": [
    "### 3.1 Build and fit train data into Dynamic Factor Model"
   ]
  },
  {
   "cell_type": "code",
   "execution_count": 64,
   "id": "7b3f9d4c",
   "metadata": {},
   "outputs": [
    {
     "name": "stdout",
     "output_type": "stream",
     "text": [
      "EM start iterations, llf=-3435.7\n",
      "EM iteration 2, llf=-2034.1, convergence criterion=0.51252\n",
      "EM terminated at iteration 2, llf=-2034.1, convergence criterion=0.51252 (while specified tolerance was 1e-06)\n"
     ]
    },
    {
     "name": "stderr",
     "output_type": "stream",
     "text": [
      "C:\\Users\\PHUTRAN\\AppData\\Local\\Programs\\Python\\Python311\\Lib\\site-packages\\statsmodels\\tsa\\base\\tsa_model.py:471: ValueWarning: A date index has been provided, but it has no associated frequency information and so will be ignored when e.g. forecasting.\n",
      "  self._init_dates(dates, freq)\n",
      "C:\\Users\\PHUTRAN\\AppData\\Local\\Programs\\Python\\Python311\\Lib\\site-packages\\statsmodels\\tsa\\statespace\\dynamic_factor_mq.py:2648: UserWarning: Log-likelihood decreased at EM iteration 3. Reverting to the results from EM iteration 2 (prior to the decrease) and returning the solution.\n",
      "  warn(f'Log-likelihood decreased at EM iteration {i + 1}.'\n"
     ]
    },
    {
     "data": {
      "text/html": [
       "<table class=\"simpletable\">\n",
       "<caption>Dynamic Factor Results</caption>\n",
       "<tr>\n",
       "  <th>Dep. Variable:</th>      <td>['Price', 'Vol.']</td>    <th>  No. Observations:  </th>   <td>1416</td>   \n",
       "</tr>\n",
       "<tr>\n",
       "  <th>Model:</th>            <td>Dynamic Factor Model</td>   <th>  Log Likelihood     </th> <td>-2059.543</td>\n",
       "</tr>\n",
       "<tr>\n",
       "  <th></th>                 <td>+ 2 factors in 2 blocks</td> <th>  AIC                </th> <td>4143.085</td> \n",
       "</tr>\n",
       "<tr>\n",
       "  <th></th>                  <td>+ AR(1) idiosyncratic</td>  <th>  BIC                </th> <td>4206.152</td> \n",
       "</tr>\n",
       "<tr>\n",
       "  <th>Date:</th>               <td>Fri, 16 Jun 2023</td>     <th>  HQIC               </th> <td>4166.648</td> \n",
       "</tr>\n",
       "<tr>\n",
       "  <th>Time:</th>                   <td>15:24:55</td>         <th>  EM Iterations      </th>     <td>2</td>    \n",
       "</tr>\n",
       "<tr>\n",
       "  <th>Sample:</th>                     <td>0</td>            <th>                     </th>     <td> </td>    \n",
       "</tr>\n",
       "<tr>\n",
       "  <th></th>                         <td> - 1416</td>         <th>                     </th>     <td> </td>    \n",
       "</tr>\n",
       "<tr>\n",
       "  <th>Covariance Type:</th>      <td>Not computed</td>       <th>                     </th>     <td> </td>    \n",
       "</tr>\n",
       "</table>\n",
       "<table class=\"simpletable\">\n",
       "<caption>Observation equation:</caption>\n",
       "<tr>\n",
       "  <th>Factor loadings:</th>   <th>0</th>     <th>1</th>   <th>   idiosyncratic: AR(1)</th> <th>var.</th>\n",
       "</tr>\n",
       "<tr>\n",
       "        <td>Price</td>      <td>-0.71</td> <td>-0.50</td>          <td>-0.00</td>          <td>0.00</td>\n",
       "</tr>\n",
       "<tr>\n",
       "        <td>Vol.</td>       <td>-0.71</td> <td>0.50</td>           <td>0.86</td>           <td>0.00</td>\n",
       "</tr>\n",
       "</table>\n",
       "<table class=\"simpletable\">\n",
       "<caption>Transition: Factor block 0</caption>\n",
       "<tr>\n",
       "  <th></th>  <th>L1.0</th> <th>   error variance</th>\n",
       "</tr>\n",
       "<tr>\n",
       "  <td>0</td> <td>0.87</td>       <td>0.25</td>       \n",
       "</tr>\n",
       "</table>\n",
       "<table class=\"simpletable\">\n",
       "<caption>Transition: Factor block 1</caption>\n",
       "<tr>\n",
       "  <th></th>  <th>L1.1</th> <th>   error variance</th>\n",
       "</tr>\n",
       "<tr>\n",
       "  <td>1</td> <td>0.86</td>       <td>0.52</td>       \n",
       "</tr>\n",
       "</table><br/><br/>Warnings:<br/>[1] Covariance matrix not calculated."
      ],
      "text/plain": [
       "<class 'statsmodels.iolib.summary.Summary'>\n",
       "\"\"\"\n",
       "                               Dynamic Factor Results                              \n",
       "===================================================================================\n",
       "Dep. Variable:           ['Price', 'Vol.']   No. Observations:                 1416\n",
       "Model:                Dynamic Factor Model   Log Likelihood               -2059.543\n",
       "                   + 2 factors in 2 blocks   AIC                           4143.085\n",
       "                     + AR(1) idiosyncratic   BIC                           4206.152\n",
       "Date:                     Fri, 16 Jun 2023   HQIC                          4166.648\n",
       "Time:                             15:24:55   EM Iterations                        2\n",
       "Sample:                                  0                                         \n",
       "                                    - 1416                                         \n",
       "Covariance Type:              Not computed                                         \n",
       "                          Observation equation:                           \n",
       "==========================================================================\n",
       "Factor loadings:          0          1    idiosyncratic: AR(1)        var.\n",
       "--------------------------------------------------------------------------\n",
       "           Price      -0.71      -0.50                   -0.00        0.00\n",
       "            Vol.      -0.71       0.50                    0.86        0.00\n",
       "       Transition: Factor block 0      \n",
       "=======================================\n",
       "                 L1.0    error variance\n",
       "---------------------------------------\n",
       "         0       0.87              0.25\n",
       "       Transition: Factor block 1      \n",
       "=======================================\n",
       "                 L1.1    error variance\n",
       "---------------------------------------\n",
       "         1       0.86              0.52\n",
       "=======================================\n",
       "\n",
       "Warnings:\n",
       "[1] Covariance matrix not calculated.\n",
       "\"\"\""
      ]
     },
     "execution_count": 64,
     "metadata": {},
     "output_type": "execute_result"
    }
   ],
   "source": [
    "features = ['Price']\n",
    "df_model = DynamicFactorMQ(endog=train_data, factors=2, factor_orders=1, idiosyncratic_ar1=True)\n",
    "df_model_fit = df_model.fit(maxiter=100, disp=True)\n",
    "df_model_fit.summary()"
   ]
  },
  {
   "cell_type": "code",
   "execution_count": 65,
   "id": "6413f5e9",
   "metadata": {},
   "outputs": [],
   "source": [
    "def evaluate_dynamic_factor_model(data, start, end):\n",
    "    pred = df_model_fit.predict(start=start, end=end)\n",
    "    data = data[features]\n",
    "    pred = pred[features]\n",
    "    mse = mean_squared_error(data, pred)\n",
    "    mae = mean_absolute_error(data, pred)\n",
    "    mape = mean_absolute_percentage_error(data, pred)\n",
    "    rmse = mean_squared_error(data, pred, squared=False)\n",
    "    return pred, mse, mae, mape, rmse"
   ]
  },
  {
   "cell_type": "markdown",
   "id": "2d39317e",
   "metadata": {},
   "source": [
    "### 3.2 Evaluate on Validate data"
   ]
  },
  {
   "cell_type": "code",
   "execution_count": 66,
   "id": "3bc8fdd2",
   "metadata": {},
   "outputs": [
    {
     "name": "stdout",
     "output_type": "stream",
     "text": [
      "Price predict on validate data:          Price\n",
      "1821  1.000313\n",
      "1822  1.000313\n",
      "1823  1.000313\n",
      "1824  1.000313\n",
      "1825  1.000313\n",
      "...        ...\n",
      "2019  1.000313\n",
      "2020  1.000313\n",
      "2021  1.000313\n",
      "2022  1.000313\n",
      "2023  1.000313\n",
      "\n",
      "[203 rows x 1 columns]\n"
     ]
    },
    {
     "name": "stderr",
     "output_type": "stream",
     "text": [
      "C:\\Users\\PHUTRAN\\AppData\\Local\\Programs\\Python\\Python311\\Lib\\site-packages\\statsmodels\\tsa\\base\\tsa_model.py:834: ValueWarning: No supported index is available. Prediction results will be given with an integer index beginning at `start`.\n",
      "  return get_prediction_index(\n"
     ]
    }
   ],
   "source": [
    "y_pred_val, val_mse, val_mae, val_mape, val_rmse = evaluate_dynamic_factor_model(val_data, start=len(df)-val_size+1, end=len(df))\n",
    "\n",
    "print(\"Price predict on validate data:\", y_pred_val)"
   ]
  },
  {
   "cell_type": "markdown",
   "id": "0e3cf769",
   "metadata": {},
   "source": [
    "### 3.3 Evaluate on Test data"
   ]
  },
  {
   "cell_type": "code",
   "execution_count": 67,
   "id": "7b4d4acd",
   "metadata": {},
   "outputs": [
    {
     "name": "stderr",
     "output_type": "stream",
     "text": [
      "C:\\Users\\PHUTRAN\\AppData\\Local\\Programs\\Python\\Python311\\Lib\\site-packages\\statsmodels\\tsa\\base\\tsa_model.py:834: ValueWarning: No supported index is available. Prediction results will be given with an integer index beginning at `start`.\n",
      "  return get_prediction_index(\n"
     ]
    },
    {
     "name": "stdout",
     "output_type": "stream",
     "text": [
      "Price predict on test data:          Price\n",
      "1417  1.000104\n",
      "1418  1.000143\n",
      "1419  1.000176\n",
      "1420  1.000202\n",
      "1421  1.000224\n",
      "...        ...\n",
      "1816  1.000313\n",
      "1817  1.000313\n",
      "1818  1.000313\n",
      "1819  1.000313\n",
      "1820  1.000313\n",
      "\n",
      "[404 rows x 1 columns]\n"
     ]
    }
   ],
   "source": [
    "y_pred_test, test_mse, test_mae, test_mape, test_rmse = evaluate_dynamic_factor_model(test_data, start=train_size+1, end=train_size+test_size)\n",
    "print(\"Price predict on test data:\", y_pred_test)"
   ]
  },
  {
   "cell_type": "markdown",
   "id": "d32d3434",
   "metadata": {},
   "source": [
    "### 3.4 Predict price for the next 30 days"
   ]
  },
  {
   "cell_type": "code",
   "execution_count": 68,
   "id": "b085c1a8",
   "metadata": {},
   "outputs": [
    {
     "name": "stdout",
     "output_type": "stream",
     "text": [
      "Predicted closing prices for the next 30 days:\n",
      "         Price\n",
      "2024  1.000313\n",
      "2025  1.000313\n",
      "2026  1.000313\n",
      "2027  1.000313\n",
      "2028  1.000313\n",
      "2029  1.000313\n",
      "2030  1.000313\n",
      "2031  1.000313\n",
      "2032  1.000313\n",
      "2033  1.000313\n",
      "2034  1.000313\n",
      "2035  1.000313\n",
      "2036  1.000313\n",
      "2037  1.000313\n",
      "2038  1.000313\n",
      "2039  1.000313\n",
      "2040  1.000313\n",
      "2041  1.000313\n",
      "2042  1.000313\n",
      "2043  1.000313\n",
      "2044  1.000313\n",
      "2045  1.000313\n",
      "2046  1.000313\n",
      "2047  1.000313\n",
      "2048  1.000313\n",
      "2049  1.000313\n",
      "2050  1.000313\n",
      "2051  1.000313\n",
      "2052  1.000313\n",
      "2053  1.000313\n"
     ]
    },
    {
     "name": "stderr",
     "output_type": "stream",
     "text": [
      "C:\\Users\\PHUTRAN\\AppData\\Local\\Programs\\Python\\Python311\\Lib\\site-packages\\statsmodels\\tsa\\base\\tsa_model.py:834: ValueWarning: No supported index is available. Prediction results will be given with an integer index beginning at `start`.\n",
      "  return get_prediction_index(\n"
     ]
    }
   ],
   "source": [
    "last_index = len(df)\n",
    "\n",
    "date_range = pd.date_range(start=df.index[-1], periods=30, freq='D')\n",
    "\n",
    "y_next_30_days = df_model_fit.predict(start=len(df)+1, end=len(df)+30)[features]\n",
    "\n",
    "print('Predicted closing prices for the next 30 days:')\n",
    "print(y_next_30_days)"
   ]
  },
  {
   "cell_type": "markdown",
   "id": "e56bf5db",
   "metadata": {},
   "source": [
    "### 4.  Evaluate accuracy validate, test data"
   ]
  },
  {
   "cell_type": "code",
   "execution_count": 69,
   "id": "557457e3",
   "metadata": {},
   "outputs": [
    {
     "name": "stdout",
     "output_type": "stream",
     "text": [
      "                   MSE       MAE      MAPE      RMSE\n",
      "Validate  7.999174e-07  0.000419  0.000418  0.000894\n",
      "Test      3.824939e-07  0.000416  0.000417  0.000618\n"
     ]
    }
   ],
   "source": [
    "metrics = {\n",
    "    'MSE': [val_mse, test_mse],\n",
    "    'MAE': [val_mae, test_mae],\n",
    "    'MAPE': [val_mape, test_mape],\n",
    "    'RMSE': [val_rmse, test_rmse],\n",
    "}\n",
    "\n",
    "acc = pd.DataFrame(metrics, index=['Validate', 'Test'])\n",
    "\n",
    "print(acc)"
   ]
  },
  {
   "cell_type": "code",
   "execution_count": 70,
   "id": "fa6c959e",
   "metadata": {},
   "outputs": [
    {
     "data": {
      "image/png": "[encoded data removed]",
      "text/plain": [
       "<Figure size 640x480 with 1 Axes>"
      ]
     },
     "metadata": {},
     "output_type": "display_data"
    }
   ],
   "source": [
    "plt.plot(train_data.index, train_data['Price'])\n",
    "plt.plot(test_data.index, test_data['Price'])\n",
    "plt.plot(val_data.index, val_data['Price'])\n",
    "\n",
    "plt.plot(test_data.index, y_pred_test)\n",
    "plt.plot(val_data.index, y_pred_val)\n",
    "plt.plot(date_range, y_next_30_days)\n",
    "\n",
    "plt.legend(['Train', 'Test', 'Validate','PredictTestData', 'PredictValidateData','PredictNext30Day'])\n",
    "plt.show()"
   ]
  }
 ],
 "metadata": {
  "kernelspec": {
   "display_name": "Python 3 (ipykernel)",
   "language": "python",
   "name": "python3"
  },
  "language_info": {
   "codemirror_mode": {
    "name": "ipython",
    "version": 3
   },
   "file_extension": ".py",
   "mimetype": "text/x-python",
   "name": "python",
   "nbconvert_exporter": "python",
   "pygments_lexer": "ipython3",
   "version": "3.11.1"
  }
 },
 "nbformat": 4,
 "nbformat_minor": 5
}
