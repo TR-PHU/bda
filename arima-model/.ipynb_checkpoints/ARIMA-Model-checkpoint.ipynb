{
 "cells": [
  {
   "cell_type": "code",
   "execution_count": 1,
   "metadata": {},
   "outputs": [],
   "source": [
    "#Tài liệu tham khảo: https://phamdinhkhanh.github.io/2019/12/12/ARIMAmodel.html"
   ]
  },
  {
   "cell_type": "markdown",
   "metadata": {},
   "source": [
    "## 1. Lý thuyết mô hình ARIMA\n"
   ]
  },
  {
   "cell_type": "markdown",
   "metadata": {},
   "source": [
    "- Dựa vào dữ liệu quá khứ dựa trên các giả định có thể lặp lại ở tương lai\n",
    "- Các yếu tố thường thấy trong chuỗi thời gian: Tính mùa vụ, tính chu kỳ, tính xu thế\n",
    "- Các mô hình dự báo trong kinh tế lượng có những đặc trưng rất riêng như ARIMA, SARIMA, ARIMAX,... "
   ]
  },
  {
   "cell_type": "markdown",
   "metadata": {},
   "source": [
    "### 1.1 ***Mô hình ARIMA***: \n",
    "+ Dựa vào lý thuyết chuỗi dừng và phương sai không đổi. \n",
    "        - Nó bao gồm chuỗi tự hồi quy AR(p)\n",
    "        - Chuỗi trung bình trượt MA(q)\n",
    "+ Hầu hết các chuỗi thời gian sẽ có xu hướng tăng hoặc giảm theo thời gian, do đó yếu tố chuỗi dừng thường không đạt   được. Trong trường hợp chuỗi không dừng thì ta sẽ cần biến đổi sang chuỗi dừng bằng sai phân\n",
    "+ Khi đó tham số của mô hình sẽ thêm phần sai phân"
   ]
  },
  {
   "cell_type": "markdown",
   "metadata": {},
   "source": [
    "### 1.2 Mô hình SARIMA"
   ]
  },
  {
   "cell_type": "markdown",
   "metadata": {},
   "source": [
    "+ Về bản chất đây là mô hình ARIMA nhưng được điều chỉnh đặc biệt để áp dụng cho những chuỗi thời gian có yếu tố mùa vụ. Như chúng ta đã biết về bản chất ARIMA chính là mô hình hồi qui tuyến tính nhưng mối quan hệ tuyến tính thường không giải thích tốt chuỗi trong trường hợp chuỗi xuất hiện yếu tố mùa vụ. Chính vì thế, bằng cách tìm ra chu kì của qui luật mùa vụ và loại bỏ nó khỏi chuỗi ta sẽ dễ dàng hồi qui mô hình theo phương pháp ARIMA."
   ]
  },
  {
   "cell_type": "markdown",
   "metadata": {},
   "source": [
    "## 2. Thực hành"
   ]
  },
  {
   "cell_type": "markdown",
   "metadata": {},
   "source": [
    "### 2.1 Chuẩn bị thư viện và dữ liệu"
   ]
  },
  {
   "cell_type": "code",
   "execution_count": 3,
   "metadata": {},
   "outputs": [],
   "source": [
    "import numpy as np\n",
    "import pandas as pd\n",
    "import matplotlib.pyplot as plt\n",
    "from statsmodels.tsa.arima_model import ARIMA\n",
    "from sklearn.metrics import mean_squared_error\n",
    "from statsmodels.tsa.stattools import adfuller"
   ]
  },
  {
   "cell_type": "code",
   "execution_count": 6,
   "metadata": {},
   "outputs": [
    {
     "data": {
      "text/html": [
       "<div>\n",
       "<style scoped>\n",
       "    .dataframe tbody tr th:only-of-type {\n",
       "        vertical-align: middle;\n",
       "    }\n",
       "\n",
       "    .dataframe tbody tr th {\n",
       "        vertical-align: top;\n",
       "    }\n",
       "\n",
       "    .dataframe thead th {\n",
       "        text-align: right;\n",
       "    }\n",
       "</style>\n",
       "<table border=\"1\" class=\"dataframe\">\n",
       "  <thead>\n",
       "    <tr style=\"text-align: right;\">\n",
       "      <th></th>\n",
       "      <th>Date</th>\n",
       "      <th>Closing_Price</th>\n",
       "    </tr>\n",
       "  </thead>\n",
       "  <tbody>\n",
       "    <tr>\n",
       "      <th>0</th>\n",
       "      <td>2020-05-21</td>\n",
       "      <td>0.954089</td>\n",
       "    </tr>\n",
       "    <tr>\n",
       "      <th>1</th>\n",
       "      <td>2020-05-22</td>\n",
       "      <td>0.914115</td>\n",
       "    </tr>\n",
       "    <tr>\n",
       "      <th>2</th>\n",
       "      <td>2020-05-23</td>\n",
       "      <td>0.919285</td>\n",
       "    </tr>\n",
       "    <tr>\n",
       "      <th>3</th>\n",
       "      <td>2020-05-24</td>\n",
       "      <td>0.922008</td>\n",
       "    </tr>\n",
       "    <tr>\n",
       "      <th>4</th>\n",
       "      <td>2020-05-25</td>\n",
       "      <td>0.904872</td>\n",
       "    </tr>\n",
       "    <tr>\n",
       "      <th>...</th>\n",
       "      <td>...</td>\n",
       "      <td>...</td>\n",
       "    </tr>\n",
       "    <tr>\n",
       "      <th>362</th>\n",
       "      <td>2021-05-18</td>\n",
       "      <td>4.314447</td>\n",
       "    </tr>\n",
       "    <tr>\n",
       "      <th>363</th>\n",
       "      <td>2021-05-19</td>\n",
       "      <td>4.319605</td>\n",
       "    </tr>\n",
       "    <tr>\n",
       "      <th>364</th>\n",
       "      <td>2021-05-20</td>\n",
       "      <td>3.943924</td>\n",
       "    </tr>\n",
       "    <tr>\n",
       "      <th>365</th>\n",
       "      <td>2021-05-21</td>\n",
       "      <td>3.975609</td>\n",
       "    </tr>\n",
       "    <tr>\n",
       "      <th>366</th>\n",
       "      <td>2021-05-22</td>\n",
       "      <td>3.692177</td>\n",
       "    </tr>\n",
       "  </tbody>\n",
       "</table>\n",
       "<p>367 rows × 2 columns</p>\n",
       "</div>"
      ],
      "text/plain": [
       "           Date  Closing_Price\n",
       "0    2020-05-21       0.954089\n",
       "1    2020-05-22       0.914115\n",
       "2    2020-05-23       0.919285\n",
       "3    2020-05-24       0.922008\n",
       "4    2020-05-25       0.904872\n",
       "..          ...            ...\n",
       "362  2021-05-18       4.314447\n",
       "363  2021-05-19       4.319605\n",
       "364  2021-05-20       3.943924\n",
       "365  2021-05-21       3.975609\n",
       "366  2021-05-22       3.692177\n",
       "\n",
       "[367 rows x 2 columns]"
      ]
     },
     "execution_count": 6,
     "metadata": {},
     "output_type": "execute_result"
    }
   ],
   "source": [
    "df = pd.read_csv('BTC_CSV5.csv')\n",
    "df.pop('Currency')\n",
    "df.pop('24h Open (USD)')\n",
    "df.pop('24h High (USD)')\n",
    "df.pop('24h Low (USD)')\n",
    "df.pop('Closing Price (USD)')\n",
    "df"
   ]
  },
  {
   "cell_type": "markdown",
   "metadata": {},
   "source": [
    "**Import dữ liệu và loại bỏ những trường không cần thiết**"
   ]
  },
  {
   "cell_type": "markdown",
   "metadata": {},
   "source": [
    "**Lấy cột Date làm cột Index**"
   ]
  },
  {
   "cell_type": "code",
   "execution_count": 7,
   "metadata": {},
   "outputs": [],
   "source": [
    "df['Date'] = pd.to_datetime(df['Date'])\n",
    "df.set_index(\"Date\",inplace=True)"
   ]
  },
  {
   "cell_type": "code",
   "execution_count": 45,
   "metadata": {},
   "outputs": [
    {
     "data": {
      "text/html": [
       "<div>\n",
       "<style scoped>\n",
       "    .dataframe tbody tr th:only-of-type {\n",
       "        vertical-align: middle;\n",
       "    }\n",
       "\n",
       "    .dataframe tbody tr th {\n",
       "        vertical-align: top;\n",
       "    }\n",
       "\n",
       "    .dataframe thead th {\n",
       "        text-align: right;\n",
       "    }\n",
       "</style>\n",
       "<table border=\"1\" class=\"dataframe\">\n",
       "  <thead>\n",
       "    <tr style=\"text-align: right;\">\n",
       "      <th></th>\n",
       "      <th>Closing_Price</th>\n",
       "    </tr>\n",
       "    <tr>\n",
       "      <th>Date</th>\n",
       "      <th></th>\n",
       "    </tr>\n",
       "  </thead>\n",
       "  <tbody>\n",
       "    <tr>\n",
       "      <th>2020-05-21</th>\n",
       "      <td>0.954089</td>\n",
       "    </tr>\n",
       "    <tr>\n",
       "      <th>2020-05-22</th>\n",
       "      <td>0.914115</td>\n",
       "    </tr>\n",
       "    <tr>\n",
       "      <th>2020-05-23</th>\n",
       "      <td>0.919285</td>\n",
       "    </tr>\n",
       "    <tr>\n",
       "      <th>2020-05-24</th>\n",
       "      <td>0.922008</td>\n",
       "    </tr>\n",
       "    <tr>\n",
       "      <th>2020-05-25</th>\n",
       "      <td>0.904872</td>\n",
       "    </tr>\n",
       "    <tr>\n",
       "      <th>...</th>\n",
       "      <td>...</td>\n",
       "    </tr>\n",
       "    <tr>\n",
       "      <th>2021-05-18</th>\n",
       "      <td>4.314447</td>\n",
       "    </tr>\n",
       "    <tr>\n",
       "      <th>2021-05-19</th>\n",
       "      <td>4.319605</td>\n",
       "    </tr>\n",
       "    <tr>\n",
       "      <th>2021-05-20</th>\n",
       "      <td>3.943924</td>\n",
       "    </tr>\n",
       "    <tr>\n",
       "      <th>2021-05-21</th>\n",
       "      <td>3.975609</td>\n",
       "    </tr>\n",
       "    <tr>\n",
       "      <th>2021-05-22</th>\n",
       "      <td>3.692177</td>\n",
       "    </tr>\n",
       "  </tbody>\n",
       "</table>\n",
       "<p>367 rows × 1 columns</p>\n",
       "</div>"
      ],
      "text/plain": [
       "            Closing_Price\n",
       "Date                     \n",
       "2020-05-21       0.954089\n",
       "2020-05-22       0.914115\n",
       "2020-05-23       0.919285\n",
       "2020-05-24       0.922008\n",
       "2020-05-25       0.904872\n",
       "...                   ...\n",
       "2021-05-18       4.314447\n",
       "2021-05-19       4.319605\n",
       "2021-05-20       3.943924\n",
       "2021-05-21       3.975609\n",
       "2021-05-22       3.692177\n",
       "\n",
       "[367 rows x 1 columns]"
      ]
     },
     "execution_count": 45,
     "metadata": {},
     "output_type": "execute_result"
    }
   ],
   "source": [
    "df"
   ]
  },
  {
   "cell_type": "markdown",
   "metadata": {},
   "source": [
    "**Vẽ đồ thị minh họa**"
   ]
  },
  {
   "cell_type": "code",
   "execution_count": 8,
   "metadata": {},
   "outputs": [
    {
     "data": {
      "image/png": "[encoded data removed]",
      "text/plain": [
       "<Figure size 2000x1000 with 1 Axes>"
      ]
     },
     "metadata": {},
     "output_type": "display_data"
    }
   ],
   "source": [
    "df['Closing_Price'].plot(kind='line',figsize=(20, 10))\n",
    "\n",
    "plt.show()"
   ]
  },
  {
   "cell_type": "markdown",
   "metadata": {},
   "source": [
    "=> Nhìn vào đồ thị ta thấy giá BTC từ tháng 1 đến tháng 11 năm 2020 tăng giảm những không đồng đều\n",
    "\n",
    "=> Từ tháng 12 năm 2020 đến tháng 4 năm 2021 giá BTC tăng mạnh, đến cuối tháng 5 thì giá BTC giảm sâu.\n",
    "\n",
    "=> Đều này cho biết 1 điều đồ thị là một chuỗi không dừng "
   ]
  },
  {
   "cell_type": "markdown",
   "metadata": {},
   "source": [
    "**Chia Train/Test**"
   ]
  },
  {
   "cell_type": "code",
   "execution_count": 47,
   "metadata": {},
   "outputs": [
    {
     "name": "stdout",
     "output_type": "stream",
     "text": [
      "train shape:  (225, 1)\n",
      "test shape:  (142, 1)\n"
     ]
    }
   ],
   "source": [
    "train, test = df[df.index < '2021-01-01'], df[df.index >= '2021-01-01']\n",
    "print('train shape: ', train.shape)\n",
    "print('test shape: ', test.shape)"
   ]
  },
  {
   "cell_type": "markdown",
   "metadata": {},
   "source": [
    "### 2.2 Kiểm tra tính dừng của chuỗi thời gian và đưa về chuỗi dừng"
   ]
  },
  {
   "cell_type": "markdown",
   "metadata": {},
   "source": [
    "- Một chuỗi thời gian có tính dừng là một chuỗi thời gian có trung bình, phương sai, hiệp phương sai không đổi theo thời gian"
   ]
  },
  {
   "cell_type": "markdown",
   "metadata": {},
   "source": [
    "![\"Chuoi Dung, Chuoi Khong Dung\"](https://miro.medium.com/max/1147/1*xdblkZyg6YmmReAkZHUksw.png)"
   ]
  },
  {
   "cell_type": "markdown",
   "metadata": {},
   "source": [
    "- Chuỗi thời gian có tính xu thế thì ta không biết xu thế là gì để chúng ta dự báo đây là yếu tố ngẫu nhiên"
   ]
  },
  {
   "cell_type": "markdown",
   "metadata": {},
   "source": [
    "- Kiểm tra chuỗi dừng"
   ]
  },
  {
   "cell_type": "code",
   "execution_count": 48,
   "metadata": {},
   "outputs": [
    {
     "name": "stdout",
     "output_type": "stream",
     "text": [
      "p-value: 1.0\n"
     ]
    }
   ],
   "source": [
    "print(\"p-value:\", adfuller(train.dropna())[1])"
   ]
  },
  {
   "cell_type": "code",
   "execution_count": 49,
   "metadata": {},
   "outputs": [],
   "source": [
    "#Link tham khảo: https://www.youtube.com/watch?v=1opjnegd_hA"
   ]
  },
  {
   "cell_type": "markdown",
   "metadata": {},
   "source": [
    "- Vì p-value > 0.05 nên chuỗi thời gian là không dừng"
   ]
  },
  {
   "cell_type": "markdown",
   "metadata": {},
   "source": [
    "- Đưa về chuỗi dừng"
   ]
  },
  {
   "cell_type": "code",
   "execution_count": 50,
   "metadata": {},
   "outputs": [
    {
     "name": "stdout",
     "output_type": "stream",
     "text": [
      "p-value: 5.314274119928386e-24\n"
     ]
    }
   ],
   "source": [
    "diff_1 = train.diff().dropna()\n",
    "print(\"p-value:\", adfuller(diff_1.dropna())[1])"
   ]
  },
  {
   "cell_type": "code",
   "execution_count": 51,
   "metadata": {},
   "outputs": [
    {
     "data": {
      "text/html": [
       "<div>\n",
       "<style scoped>\n",
       "    .dataframe tbody tr th:only-of-type {\n",
       "        vertical-align: middle;\n",
       "    }\n",
       "\n",
       "    .dataframe tbody tr th {\n",
       "        vertical-align: top;\n",
       "    }\n",
       "\n",
       "    .dataframe thead th {\n",
       "        text-align: right;\n",
       "    }\n",
       "</style>\n",
       "<table border=\"1\" class=\"dataframe\">\n",
       "  <thead>\n",
       "    <tr style=\"text-align: right;\">\n",
       "      <th></th>\n",
       "      <th>Closing_Price</th>\n",
       "    </tr>\n",
       "    <tr>\n",
       "      <th>Date</th>\n",
       "      <th></th>\n",
       "    </tr>\n",
       "  </thead>\n",
       "  <tbody>\n",
       "    <tr>\n",
       "      <th>2020-05-22</th>\n",
       "      <td>-0.039974</td>\n",
       "    </tr>\n",
       "    <tr>\n",
       "      <th>2020-05-23</th>\n",
       "      <td>0.005169</td>\n",
       "    </tr>\n",
       "    <tr>\n",
       "      <th>2020-05-24</th>\n",
       "      <td>0.002723</td>\n",
       "    </tr>\n",
       "    <tr>\n",
       "      <th>2020-05-25</th>\n",
       "      <td>-0.017136</td>\n",
       "    </tr>\n",
       "    <tr>\n",
       "      <th>2020-05-26</th>\n",
       "      <td>-0.014293</td>\n",
       "    </tr>\n",
       "    <tr>\n",
       "      <th>...</th>\n",
       "      <td>...</td>\n",
       "    </tr>\n",
       "    <tr>\n",
       "      <th>2020-12-27</th>\n",
       "      <td>0.180029</td>\n",
       "    </tr>\n",
       "    <tr>\n",
       "      <th>2020-12-28</th>\n",
       "      <td>0.000799</td>\n",
       "    </tr>\n",
       "    <tr>\n",
       "      <th>2020-12-29</th>\n",
       "      <td>0.032874</td>\n",
       "    </tr>\n",
       "    <tr>\n",
       "      <th>2020-12-30</th>\n",
       "      <td>0.025770</td>\n",
       "    </tr>\n",
       "    <tr>\n",
       "      <th>2020-12-31</th>\n",
       "      <td>0.179311</td>\n",
       "    </tr>\n",
       "  </tbody>\n",
       "</table>\n",
       "<p>224 rows × 1 columns</p>\n",
       "</div>"
      ],
      "text/plain": [
       "            Closing_Price\n",
       "Date                     \n",
       "2020-05-22      -0.039974\n",
       "2020-05-23       0.005169\n",
       "2020-05-24       0.002723\n",
       "2020-05-25      -0.017136\n",
       "2020-05-26      -0.014293\n",
       "...                   ...\n",
       "2020-12-27       0.180029\n",
       "2020-12-28       0.000799\n",
       "2020-12-29       0.032874\n",
       "2020-12-30       0.025770\n",
       "2020-12-31       0.179311\n",
       "\n",
       "[224 rows x 1 columns]"
      ]
     },
     "execution_count": 51,
     "metadata": {},
     "output_type": "execute_result"
    }
   ],
   "source": [
    "diff_1"
   ]
  },
  {
   "cell_type": "markdown",
   "metadata": {},
   "source": [
    "### 2.3 Thực hiện Mô Hình ARIMA"
   ]
  },
  {
   "cell_type": "code",
   "execution_count": 52,
   "metadata": {},
   "outputs": [],
   "source": [
    "import pmdarima as pmd\n",
    "\n",
    "def arimamodel(timeseriesarray):\n",
    "    autoarima_model = pmd.auto_arima(timeseriesarray, \n",
    "                              start_p=0, \n",
    "                              start_q=0)\n",
    "    return autoarima_model"
   ]
  },
  {
   "cell_type": "code",
   "execution_count": 53,
   "metadata": {},
   "outputs": [
    {
     "data": {
      "text/html": [
       "<table class=\"simpletable\">\n",
       "<caption>SARIMAX Results</caption>\n",
       "<tr>\n",
       "  <th>Dep. Variable:</th>           <td>y</td>        <th>  No. Observations:  </th>    <td>225</td>  \n",
       "</tr>\n",
       "<tr>\n",
       "  <th>Model:</th>           <td>SARIMAX(0, 2, 1)</td> <th>  Log Likelihood     </th>  <td>400.807</td>\n",
       "</tr>\n",
       "<tr>\n",
       "  <th>Date:</th>            <td>Sun, 27 Jun 2021</td> <th>  AIC                </th> <td>-795.613</td>\n",
       "</tr>\n",
       "<tr>\n",
       "  <th>Time:</th>                <td>18:52:16</td>     <th>  BIC                </th> <td>-785.392</td>\n",
       "</tr>\n",
       "<tr>\n",
       "  <th>Sample:</th>                  <td>0</td>        <th>  HQIC               </th> <td>-791.487</td>\n",
       "</tr>\n",
       "<tr>\n",
       "  <th></th>                      <td> - 225</td>      <th>                     </th>     <td> </td>   \n",
       "</tr>\n",
       "<tr>\n",
       "  <th>Covariance Type:</th>        <td>opg</td>       <th>                     </th>     <td> </td>   \n",
       "</tr>\n",
       "</table>\n",
       "<table class=\"simpletable\">\n",
       "<tr>\n",
       "      <td></td>         <th>coef</th>     <th>std err</th>      <th>z</th>      <th>P>|z|</th>  <th>[0.025</th>    <th>0.975]</th>  \n",
       "</tr>\n",
       "<tr>\n",
       "  <th>intercept</th> <td>    0.0002</td> <td> 9.84e-05</td> <td>    1.804</td> <td> 0.071</td> <td>-1.53e-05</td> <td>    0.000</td>\n",
       "</tr>\n",
       "<tr>\n",
       "  <th>ma.L1</th>     <td>   -0.9676</td> <td>    0.024</td> <td>  -39.926</td> <td> 0.000</td> <td>   -1.015</td> <td>   -0.920</td>\n",
       "</tr>\n",
       "<tr>\n",
       "  <th>sigma2</th>    <td>    0.0016</td> <td> 8.56e-05</td> <td>   18.550</td> <td> 0.000</td> <td>    0.001</td> <td>    0.002</td>\n",
       "</tr>\n",
       "</table>\n",
       "<table class=\"simpletable\">\n",
       "<tr>\n",
       "  <th>Ljung-Box (L1) (Q):</th>     <td>0.33</td> <th>  Jarque-Bera (JB):  </th> <td>256.47</td>\n",
       "</tr>\n",
       "<tr>\n",
       "  <th>Prob(Q):</th>                <td>0.57</td> <th>  Prob(JB):          </th>  <td>0.00</td> \n",
       "</tr>\n",
       "<tr>\n",
       "  <th>Heteroskedasticity (H):</th> <td>4.68</td> <th>  Skew:              </th>  <td>0.85</td> \n",
       "</tr>\n",
       "<tr>\n",
       "  <th>Prob(H) (two-sided):</th>    <td>0.00</td> <th>  Kurtosis:          </th>  <td>7.97</td> \n",
       "</tr>\n",
       "</table><br/><br/>Warnings:<br/>[1] Covariance matrix calculated using the outer product of gradients (complex-step)."
      ],
      "text/plain": [
       "<class 'statsmodels.iolib.summary.Summary'>\n",
       "\"\"\"\n",
       "                               SARIMAX Results                                \n",
       "==============================================================================\n",
       "Dep. Variable:                      y   No. Observations:                  225\n",
       "Model:               SARIMAX(0, 2, 1)   Log Likelihood                 400.807\n",
       "Date:                Sun, 27 Jun 2021   AIC                           -795.613\n",
       "Time:                        18:52:16   BIC                           -785.392\n",
       "Sample:                             0   HQIC                          -791.487\n",
       "                                - 225                                         \n",
       "Covariance Type:                  opg                                         \n",
       "==============================================================================\n",
       "                 coef    std err          z      P>|z|      [0.025      0.975]\n",
       "------------------------------------------------------------------------------\n",
       "intercept      0.0002   9.84e-05      1.804      0.071   -1.53e-05       0.000\n",
       "ma.L1         -0.9676      0.024    -39.926      0.000      -1.015      -0.920\n",
       "sigma2         0.0016   8.56e-05     18.550      0.000       0.001       0.002\n",
       "===================================================================================\n",
       "Ljung-Box (L1) (Q):                   0.33   Jarque-Bera (JB):               256.47\n",
       "Prob(Q):                              0.57   Prob(JB):                         0.00\n",
       "Heteroskedasticity (H):               4.68   Skew:                             0.85\n",
       "Prob(H) (two-sided):                  0.00   Kurtosis:                         7.97\n",
       "===================================================================================\n",
       "\n",
       "Warnings:\n",
       "[1] Covariance matrix calculated using the outer product of gradients (complex-step).\n",
       "\"\"\""
      ]
     },
     "execution_count": 53,
     "metadata": {},
     "output_type": "execute_result"
    }
   ],
   "source": [
    "arima_model = arimamodel(train)\n",
    "arima_model.summary()"
   ]
  },
  {
   "cell_type": "markdown",
   "metadata": {},
   "source": [
    "=> Theo Formula ARIMA nếu mô hình nào có AIC nhỏ nhất và tốc độ thực hiện nhanh nhất thì chọn mô hình đó"
   ]
  },
  {
   "cell_type": "markdown",
   "metadata": {},
   "source": [
    "**Chỉ số AIC** \n"
   ]
  },
  {
   "cell_type": "markdown",
   "metadata": {},
   "source": [
    "Một trong những tiêu chí thường được sử dụng để lựa chọn mô hình đó là chỉ số AIC (Akaike Information Criteria). Tiêu chí thông tin này là một công cụ ước tính lỗi dự báo và do đó đánh giá chất lượng tương đối của các mô hình thống kê trên một tập hợp dữ liệu nhất định. Gỉa sử có một tập hợp các mô hình được xây dựng trên cùng một bộ dữ liệu, AIC ước tính chất lượng của từng mô hình trong mối liên quan đến từng mô hình khác. Do đó, AIC cung cấp một phương tiện để lựa chọn mô hình. AIC được hình thành dựa trên lý thuyết thông tin (information theory). Khi một mô hình thống kê được sử dụng để dự báo, kết quả sẽ gần như không bao giờ chính xác hoàn toàn. Vì vậy một số thông tin sẽ bị mất do không thể dự báo từ mô hình. AIC ước tính lượng thông tin tương đối bị mất bởi một mô hình nhất định: mô hình mất càng ít thông tin thì chất lượng của mô hình đó càng cao. Giả sử rằng chúng ta có một mô hình thống kê tương ứng với một bộ dữ liệu. Gọi  là số lượng tham số ước tính trong mô hình. Đặt \n",
    " là giá trị tối đa của hàm hợp lý (maximum likelihood function) của mô hình. "
   ]
  },
  {
   "cell_type": "markdown",
   "metadata": {},
   "source": [
    "$AIC= $$2k-$$2ln(L)$"
   ]
  },
  {
   "cell_type": "code",
   "execution_count": 25,
   "metadata": {},
   "outputs": [],
   "source": [
    "#Tài liệu tham khảo: https://luanvanhay.org/huong-dan/r-cach-tinh-loglikelihood-aic-bic/\n",
    "# Tham khảo: https://viblo.asia/p/so-luoc-ve-maximum-likelihood-estimation-1Je5EvrYKnL"
   ]
  },
  {
   "cell_type": "markdown",
   "metadata": {},
   "source": [
    "Thực ra,  LogLikelihood = ln(Likelihood). Nên trong ví dụ này chúng ta nói là LogLikelihood hay Likelihood cũng được.\n",
    "\n",
    "Trong thống kê , hàm Likelihood (thường được gọi đơn giản là khả năng, một số nơi gọi là ước lượng hợp lí ) đo lường mức độ phù hợp của mô hình thống kê với một mẫu dữ liệu cho các giá trị đã cho của các tham số chưa biết . Nó được hình thành từ phân phối xác suất chung của mẫu, nhưng chỉ được xem và sử dụng như một hàm của các tham số, do đó xử lý các biến ngẫu nhiên là cố định tại các giá trị quan sát được.\n",
    "\n",
    "Hàm LogLikelihood  mô tả một siêu mặt có đỉnh, nếu nó tồn tại, biểu thị sự kết hợp của các giá trị tham số mô hình nhằm tối đa hóa xác suất vẽ mẫu thu được.  Quy trình lấy các đối số này của ước lượng hợp lí cực đại  tối đa được gọi là ước lượng khả năng tối đa , để thuận tiện cho việc tính toán thường được thực hiện bằng cách sử dụng logarit tự nhiên của khả năng, được gọi là hàm khả năng log . Ngoài ra, hình dạng và độ cong của bề mặt khả năng thể hiện thông tin về độ ổn định của các ước tính, đó là lý do tại sao hàm khả năng thường được vẽ như là một phần của phân tích thống kê.\n",
    "\n",
    "Trường hợp sử dụng khả năng lần đầu tiên được thực hiện bởi RA Fisher ,  người tin rằng đây là một khuôn khổ khép kín cho mô hình thống kê và suy luận. Sau đó, Barnard và Birnbaum đã lãnh đạo một trường phái tư tưởng ủng hộ nguyên tắc khả năng , quy định rằng tất cả các thông tin liên quan để suy luận được chứa trong hàm khả năng. Nhưng ngay cả trong thống kê thường xuyên và Bayes , chức năng khả năng đóng vai trò cơ bản\n",
    "\n",
    "Công thức để tính Likelihood bằng tay là quá phực tạp, tuỳ từng model mà có cách tính khác nhau, trong ví dụ này chúng tôi hướng dẫn dẫn các bạn dùng hàm logLik() trong R cách tính LogLikelihood tương đối đơn giản và nhanh chóng."
   ]
  },
  {
   "cell_type": "markdown",
   "metadata": {},
   "source": [
    "### 2.4 Đánh giá mô hình ARIMA"
   ]
  },
  {
   "cell_type": "code",
   "execution_count": 54,
   "metadata": {},
   "outputs": [],
   "source": [
    "def mean_absolute_percentage_error(y_true, y_pred): \n",
    "    y_true, y_pred = np.array(y_true), np.array(y_pred)\n",
    "    return np.mean(np.abs((y_true - y_pred) / y_true)) * 100"
   ]
  },
  {
   "cell_type": "code",
   "execution_count": 55,
   "metadata": {},
   "outputs": [
    {
     "name": "stderr",
     "output_type": "stream",
     "text": [
      "<ipython-input-55-f5c5986f8dbb>:1: SettingWithCopyWarning: \n",
      "A value is trying to be set on a copy of a slice from a DataFrame.\n",
      "Try using .loc[row_indexer,col_indexer] = value instead\n",
      "\n",
      "See the caveats in the documentation: https://pandas.pydata.org/pandas-docs/stable/user_guide/indexing.html#returning-a-view-versus-a-copy\n",
      "  test['ARIMA'] = arima_model.predict(len(test))\n"
     ]
    },
    {
     "data": {
      "text/html": [
       "<div>\n",
       "<style scoped>\n",
       "    .dataframe tbody tr th:only-of-type {\n",
       "        vertical-align: middle;\n",
       "    }\n",
       "\n",
       "    .dataframe tbody tr th {\n",
       "        vertical-align: top;\n",
       "    }\n",
       "\n",
       "    .dataframe thead th {\n",
       "        text-align: right;\n",
       "    }\n",
       "</style>\n",
       "<table border=\"1\" class=\"dataframe\">\n",
       "  <thead>\n",
       "    <tr style=\"text-align: right;\">\n",
       "      <th></th>\n",
       "      <th>Closing_Price</th>\n",
       "      <th>ARIMA</th>\n",
       "    </tr>\n",
       "    <tr>\n",
       "      <th>Date</th>\n",
       "      <th></th>\n",
       "      <th></th>\n",
       "    </tr>\n",
       "  </thead>\n",
       "  <tbody>\n",
       "    <tr>\n",
       "      <th>2021-01-01</th>\n",
       "      <td>2.911152</td>\n",
       "      <td>2.912486</td>\n",
       "    </tr>\n",
       "    <tr>\n",
       "      <th>2021-01-02</th>\n",
       "      <td>2.933361</td>\n",
       "      <td>2.948265</td>\n",
       "    </tr>\n",
       "    <tr>\n",
       "      <th>2021-01-03</th>\n",
       "      <td>3.215417</td>\n",
       "      <td>2.984222</td>\n",
       "    </tr>\n",
       "    <tr>\n",
       "      <th>2021-01-04</th>\n",
       "      <td>3.300254</td>\n",
       "      <td>3.020356</td>\n",
       "    </tr>\n",
       "    <tr>\n",
       "      <th>2021-01-05</th>\n",
       "      <td>3.143161</td>\n",
       "      <td>3.056668</td>\n",
       "    </tr>\n",
       "    <tr>\n",
       "      <th>...</th>\n",
       "      <td>...</td>\n",
       "      <td>...</td>\n",
       "    </tr>\n",
       "    <tr>\n",
       "      <th>2021-05-18</th>\n",
       "      <td>4.314447</td>\n",
       "      <td>9.467893</td>\n",
       "    </tr>\n",
       "    <tr>\n",
       "      <th>2021-05-19</th>\n",
       "      <td>4.319605</td>\n",
       "      <td>9.527991</td>\n",
       "    </tr>\n",
       "    <tr>\n",
       "      <th>2021-05-20</th>\n",
       "      <td>3.943924</td>\n",
       "      <td>9.588265</td>\n",
       "    </tr>\n",
       "    <tr>\n",
       "      <th>2021-05-21</th>\n",
       "      <td>3.975609</td>\n",
       "      <td>9.648718</td>\n",
       "    </tr>\n",
       "    <tr>\n",
       "      <th>2021-05-22</th>\n",
       "      <td>3.692177</td>\n",
       "      <td>9.709348</td>\n",
       "    </tr>\n",
       "  </tbody>\n",
       "</table>\n",
       "<p>142 rows × 2 columns</p>\n",
       "</div>"
      ],
      "text/plain": [
       "            Closing_Price     ARIMA\n",
       "Date                               \n",
       "2021-01-01       2.911152  2.912486\n",
       "2021-01-02       2.933361  2.948265\n",
       "2021-01-03       3.215417  2.984222\n",
       "2021-01-04       3.300254  3.020356\n",
       "2021-01-05       3.143161  3.056668\n",
       "...                   ...       ...\n",
       "2021-05-18       4.314447  9.467893\n",
       "2021-05-19       4.319605  9.527991\n",
       "2021-05-20       3.943924  9.588265\n",
       "2021-05-21       3.975609  9.648718\n",
       "2021-05-22       3.692177  9.709348\n",
       "\n",
       "[142 rows x 2 columns]"
      ]
     },
     "execution_count": 55,
     "metadata": {},
     "output_type": "execute_result"
    }
   ],
   "source": [
    "test['ARIMA'] = arima_model.predict(len(test))\n",
    "test"
   ]
  },
  {
   "cell_type": "code",
   "execution_count": 56,
   "metadata": {},
   "outputs": [],
   "source": [
    "def inverse_difference(history, yhat, interval=1):\n",
    "    return yhat + history[-interval]"
   ]
  },
  {
   "cell_type": "code",
   "execution_count": 57,
   "metadata": {},
   "outputs": [
    {
     "data": {
      "text/plain": [
       "array([2.91248551, 2.9482649 , 2.9842218 , 3.02035621, 3.05666811,\n",
       "       3.09315752, 3.12982444, 3.16666886, 3.20369079, 3.24089021,\n",
       "       3.27826715, 3.31582159, 3.35355353, 3.39146297, 3.42954992,\n",
       "       3.46781438, 3.50625634, 3.5448758 , 3.58367277, 3.62264724,\n",
       "       3.66179922, 3.7011287 , 3.74063569, 3.78032018, 3.82018217,\n",
       "       3.86022167, 3.90043867, 3.94083318, 3.98140519, 4.02215471,\n",
       "       4.06308173, 4.10418625, 4.14546828, 4.18692781, 4.22856485,\n",
       "       4.27037939, 4.31237144, 4.35454099, 4.39688804, 4.4394126 ,\n",
       "       4.48211467, 4.52499423, 4.56805131, 4.61128588, 4.65469796,\n",
       "       4.69828755, 4.74205464, 4.78599923, 4.83012133, 4.87442094,\n",
       "       4.91889804, 4.96355265, 5.00838477, 5.05339439, 5.09858151,\n",
       "       5.14394614, 5.18948828, 5.23520791, 5.28110506, 5.3271797 ,\n",
       "       5.37343185, 5.41986151, 5.46646867, 5.51325333, 5.5602155 ,\n",
       "       5.60735517, 5.65467235, 5.70216703, 5.74983921, 5.7976889 ,\n",
       "       5.8457161 , 5.8939208 , 5.942303  , 5.99086271, 6.03959992,\n",
       "       6.08851463, 6.13760685, 6.18687658, 6.23632381, 6.28594854,\n",
       "       6.33575078, 6.38573052, 6.43588777, 6.48622252, 6.53673477,\n",
       "       6.58742453, 6.6382918 , 6.68933656, 6.74055884, 6.79195861,\n",
       "       6.84353589, 6.89529068, 6.94722297, 6.99933276, 7.05162006,\n",
       "       7.10408487, 7.15672717, 7.20954698, 7.2625443 , 7.31571912,\n",
       "       7.36907144, 7.42260127, 7.47630861, 7.53019344, 7.58425579,\n",
       "       7.63849563, 7.69291298, 7.74750784, 7.8022802 , 7.85723006,\n",
       "       7.91235743, 7.9676623 , 8.02314468, 8.07880456, 8.13464194,\n",
       "       8.19065683, 8.24684923, 8.30321913, 8.35976653, 8.41649144,\n",
       "       8.47339385, 8.53047376, 8.58773119, 8.64516611, 8.70277854,\n",
       "       8.76056847, 8.81853591, 8.87668085, 8.9350033 , 8.99350325,\n",
       "       9.0521807 , 9.11103566, 9.17006813, 9.22927809, 9.28866557,\n",
       "       9.34823054, 9.40797302, 9.46789301, 9.5279905 , 9.58826549,\n",
       "       9.64871799, 9.709348  ])"
      ]
     },
     "execution_count": 57,
     "metadata": {},
     "output_type": "execute_result"
    }
   ],
   "source": [
    "dubao = test['ARIMA'].values\n",
    "dubao"
   ]
  },
  {
   "cell_type": "code",
   "execution_count": 58,
   "metadata": {},
   "outputs": [
    {
     "data": {
      "image/png": "[encoded data removed]",
      "text/plain": [
       "<Figure size 1332x756 with 1 Axes>"
      ]
     },
     "metadata": {
      "needs_background": "light"
     },
     "output_type": "display_data"
    }
   ],
   "source": [
    "import matplotlib\n",
    "import matplotlib.pyplot as plt\n",
    "\n",
    "\n",
    "fig = matplotlib.pyplot.gcf()\n",
    "fig.set_size_inches(18.5, 10.5)\n",
    "plt.plot(test['Closing_Price'].values, color='green', label = \"Test\")\n",
    "plt.plot(dubao, color='red', label = \"Prediction\")\n",
    "plt.legend()\n",
    "plt.savefig(\"PassengerPrediction.png\")"
   ]
  },
  {
   "cell_type": "code",
   "execution_count": 59,
   "metadata": {},
   "outputs": [
    {
     "data": {
      "text/plain": [
       "26.561815837155095"
      ]
     },
     "execution_count": 59,
     "metadata": {},
     "output_type": "execute_result"
    }
   ],
   "source": [
    "#MAPE\n",
    "mean_absolute_percentage_error(test.Closing_Price, test.ARIMA)"
   ]
  },
  {
   "cell_type": "code",
   "execution_count": 60,
   "metadata": {},
   "outputs": [
    {
     "data": {
      "text/plain": [
       "1.3075117529490505"
      ]
     },
     "execution_count": 60,
     "metadata": {},
     "output_type": "execute_result"
    }
   ],
   "source": [
    "#MAE\n",
    "from sklearn.metrics import mean_absolute_error\n",
    "mean_absolute_error(test.Closing_Price,  test.ARIMA)"
   ]
  },
  {
   "cell_type": "code",
   "execution_count": 61,
   "metadata": {},
   "outputs": [
    {
     "data": {
      "text/plain": [
       "3.6623862955169324"
      ]
     },
     "execution_count": 61,
     "metadata": {},
     "output_type": "execute_result"
    }
   ],
   "source": [
    "    #MSE\n",
    "    from sklearn.metrics import mean_squared_error\n",
    "    mean_squared_error(test.Closing_Price,  test.ARIMA)"
   ]
  },
  {
   "cell_type": "code",
   "execution_count": 62,
   "metadata": {},
   "outputs": [],
   "source": [
    "# multi-step out-of-sample forecast\n",
    "\n",
    "forecast = arima_model.predict(len(test))"
   ]
  },
  {
   "cell_type": "code",
   "execution_count": 63,
   "metadata": {},
   "outputs": [
    {
     "data": {
      "text/plain": [
       "array([2.91248551, 2.9482649 , 2.9842218 , 3.02035621, 3.05666811,\n",
       "       3.09315752, 3.12982444, 3.16666886, 3.20369079, 3.24089021,\n",
       "       3.27826715, 3.31582159, 3.35355353, 3.39146297, 3.42954992,\n",
       "       3.46781438, 3.50625634, 3.5448758 , 3.58367277, 3.62264724,\n",
       "       3.66179922, 3.7011287 , 3.74063569, 3.78032018, 3.82018217,\n",
       "       3.86022167, 3.90043867, 3.94083318, 3.98140519, 4.02215471,\n",
       "       4.06308173, 4.10418625, 4.14546828, 4.18692781, 4.22856485,\n",
       "       4.27037939, 4.31237144, 4.35454099, 4.39688804, 4.4394126 ,\n",
       "       4.48211467, 4.52499423, 4.56805131, 4.61128588, 4.65469796,\n",
       "       4.69828755, 4.74205464, 4.78599923, 4.83012133, 4.87442094,\n",
       "       4.91889804, 4.96355265, 5.00838477, 5.05339439, 5.09858151,\n",
       "       5.14394614, 5.18948828, 5.23520791, 5.28110506, 5.3271797 ,\n",
       "       5.37343185, 5.41986151, 5.46646867, 5.51325333, 5.5602155 ,\n",
       "       5.60735517, 5.65467235, 5.70216703, 5.74983921, 5.7976889 ,\n",
       "       5.8457161 , 5.8939208 , 5.942303  , 5.99086271, 6.03959992,\n",
       "       6.08851463, 6.13760685, 6.18687658, 6.23632381, 6.28594854,\n",
       "       6.33575078, 6.38573052, 6.43588777, 6.48622252, 6.53673477,\n",
       "       6.58742453, 6.6382918 , 6.68933656, 6.74055884, 6.79195861,\n",
       "       6.84353589, 6.89529068, 6.94722297, 6.99933276, 7.05162006,\n",
       "       7.10408487, 7.15672717, 7.20954698, 7.2625443 , 7.31571912,\n",
       "       7.36907144, 7.42260127, 7.47630861, 7.53019344, 7.58425579,\n",
       "       7.63849563, 7.69291298, 7.74750784, 7.8022802 , 7.85723006,\n",
       "       7.91235743, 7.9676623 , 8.02314468, 8.07880456, 8.13464194,\n",
       "       8.19065683, 8.24684923, 8.30321913, 8.35976653, 8.41649144,\n",
       "       8.47339385, 8.53047376, 8.58773119, 8.64516611, 8.70277854,\n",
       "       8.76056847, 8.81853591, 8.87668085, 8.9350033 , 8.99350325,\n",
       "       9.0521807 , 9.11103566, 9.17006813, 9.22927809, 9.28866557,\n",
       "       9.34823054, 9.40797302, 9.46789301, 9.5279905 , 9.58826549,\n",
       "       9.64871799, 9.709348  ])"
      ]
     },
     "execution_count": 63,
     "metadata": {},
     "output_type": "execute_result"
    }
   ],
   "source": [
    "forecast"
   ]
  },
  {
   "cell_type": "code",
   "execution_count": 64,
   "metadata": {},
   "outputs": [
    {
     "data": {
      "image/png": "[encoded data removed]",
      "text/plain": [
       "<Figure size 432x288 with 1 Axes>"
      ]
     },
     "metadata": {
      "needs_background": "light"
     },
     "output_type": "display_data"
    }
   ],
   "source": [
    "x = np.arange(df.shape[0])\n",
    "plt.plot(x[:225], train, c='blue')\n",
    "plt.plot(x[225:], forecast, c='red')\n",
    "plt.plot(x[225:], test, c='green')\n",
    "plt.show()"
   ]
  },
  {
   "cell_type": "code",
   "execution_count": 65,
   "metadata": {},
   "outputs": [],
   "source": [
    "test = test.append({'Closing_Price':0},ignore_index=True)"
   ]
  },
  {
   "cell_type": "code",
   "execution_count": 66,
   "metadata": {},
   "outputs": [
    {
     "data": {
      "text/html": [
       "<div>\n",
       "<style scoped>\n",
       "    .dataframe tbody tr th:only-of-type {\n",
       "        vertical-align: middle;\n",
       "    }\n",
       "\n",
       "    .dataframe tbody tr th {\n",
       "        vertical-align: top;\n",
       "    }\n",
       "\n",
       "    .dataframe thead th {\n",
       "        text-align: right;\n",
       "    }\n",
       "</style>\n",
       "<table border=\"1\" class=\"dataframe\">\n",
       "  <thead>\n",
       "    <tr style=\"text-align: right;\">\n",
       "      <th></th>\n",
       "      <th>Closing_Price</th>\n",
       "      <th>ARIMA</th>\n",
       "    </tr>\n",
       "  </thead>\n",
       "  <tbody>\n",
       "    <tr>\n",
       "      <th>0</th>\n",
       "      <td>2.911152</td>\n",
       "      <td>2.912486</td>\n",
       "    </tr>\n",
       "    <tr>\n",
       "      <th>1</th>\n",
       "      <td>2.933361</td>\n",
       "      <td>2.948265</td>\n",
       "    </tr>\n",
       "    <tr>\n",
       "      <th>2</th>\n",
       "      <td>3.215417</td>\n",
       "      <td>2.984222</td>\n",
       "    </tr>\n",
       "    <tr>\n",
       "      <th>3</th>\n",
       "      <td>3.300254</td>\n",
       "      <td>3.020356</td>\n",
       "    </tr>\n",
       "    <tr>\n",
       "      <th>4</th>\n",
       "      <td>3.143161</td>\n",
       "      <td>3.056668</td>\n",
       "    </tr>\n",
       "    <tr>\n",
       "      <th>...</th>\n",
       "      <td>...</td>\n",
       "      <td>...</td>\n",
       "    </tr>\n",
       "    <tr>\n",
       "      <th>138</th>\n",
       "      <td>4.319605</td>\n",
       "      <td>9.527991</td>\n",
       "    </tr>\n",
       "    <tr>\n",
       "      <th>139</th>\n",
       "      <td>3.943924</td>\n",
       "      <td>9.588265</td>\n",
       "    </tr>\n",
       "    <tr>\n",
       "      <th>140</th>\n",
       "      <td>3.975609</td>\n",
       "      <td>9.648718</td>\n",
       "    </tr>\n",
       "    <tr>\n",
       "      <th>141</th>\n",
       "      <td>3.692177</td>\n",
       "      <td>9.709348</td>\n",
       "    </tr>\n",
       "    <tr>\n",
       "      <th>142</th>\n",
       "      <td>0.000000</td>\n",
       "      <td>NaN</td>\n",
       "    </tr>\n",
       "  </tbody>\n",
       "</table>\n",
       "<p>143 rows × 2 columns</p>\n",
       "</div>"
      ],
      "text/plain": [
       "     Closing_Price     ARIMA\n",
       "0         2.911152  2.912486\n",
       "1         2.933361  2.948265\n",
       "2         3.215417  2.984222\n",
       "3         3.300254  3.020356\n",
       "4         3.143161  3.056668\n",
       "..             ...       ...\n",
       "138       4.319605  9.527991\n",
       "139       3.943924  9.588265\n",
       "140       3.975609  9.648718\n",
       "141       3.692177  9.709348\n",
       "142       0.000000       NaN\n",
       "\n",
       "[143 rows x 2 columns]"
      ]
     },
     "execution_count": 66,
     "metadata": {},
     "output_type": "execute_result"
    }
   ],
   "source": [
    "test"
   ]
  },
  {
   "cell_type": "code",
   "execution_count": 67,
   "metadata": {},
   "outputs": [],
   "source": [
    "test['ARIMA'] = arima_model.predict(len(test))"
   ]
  },
  {
   "cell_type": "code",
   "execution_count": 41,
   "metadata": {},
   "outputs": [
    {
     "data": {
      "text/html": [
       "<div>\n",
       "<style scoped>\n",
       "    .dataframe tbody tr th:only-of-type {\n",
       "        vertical-align: middle;\n",
       "    }\n",
       "\n",
       "    .dataframe tbody tr th {\n",
       "        vertical-align: top;\n",
       "    }\n",
       "\n",
       "    .dataframe thead th {\n",
       "        text-align: right;\n",
       "    }\n",
       "</style>\n",
       "<table border=\"1\" class=\"dataframe\">\n",
       "  <thead>\n",
       "    <tr style=\"text-align: right;\">\n",
       "      <th></th>\n",
       "      <th>Closing_Price</th>\n",
       "      <th>ARIMA</th>\n",
       "    </tr>\n",
       "  </thead>\n",
       "  <tbody>\n",
       "    <tr>\n",
       "      <th>0</th>\n",
       "      <td>2.911152</td>\n",
       "      <td>2.912486</td>\n",
       "    </tr>\n",
       "    <tr>\n",
       "      <th>1</th>\n",
       "      <td>2.933361</td>\n",
       "      <td>2.948265</td>\n",
       "    </tr>\n",
       "    <tr>\n",
       "      <th>2</th>\n",
       "      <td>3.215417</td>\n",
       "      <td>2.984222</td>\n",
       "    </tr>\n",
       "    <tr>\n",
       "      <th>3</th>\n",
       "      <td>3.300254</td>\n",
       "      <td>3.020356</td>\n",
       "    </tr>\n",
       "    <tr>\n",
       "      <th>4</th>\n",
       "      <td>3.143161</td>\n",
       "      <td>3.056668</td>\n",
       "    </tr>\n",
       "    <tr>\n",
       "      <th>...</th>\n",
       "      <td>...</td>\n",
       "      <td>...</td>\n",
       "    </tr>\n",
       "    <tr>\n",
       "      <th>138</th>\n",
       "      <td>4.319605</td>\n",
       "      <td>9.527991</td>\n",
       "    </tr>\n",
       "    <tr>\n",
       "      <th>139</th>\n",
       "      <td>3.943924</td>\n",
       "      <td>9.588265</td>\n",
       "    </tr>\n",
       "    <tr>\n",
       "      <th>140</th>\n",
       "      <td>3.975609</td>\n",
       "      <td>9.648718</td>\n",
       "    </tr>\n",
       "    <tr>\n",
       "      <th>141</th>\n",
       "      <td>3.692177</td>\n",
       "      <td>9.709348</td>\n",
       "    </tr>\n",
       "    <tr>\n",
       "      <th>142</th>\n",
       "      <td>0.000000</td>\n",
       "      <td>9.770156</td>\n",
       "    </tr>\n",
       "  </tbody>\n",
       "</table>\n",
       "<p>143 rows × 2 columns</p>\n",
       "</div>"
      ],
      "text/plain": [
       "     Closing_Price     ARIMA\n",
       "0         2.911152  2.912486\n",
       "1         2.933361  2.948265\n",
       "2         3.215417  2.984222\n",
       "3         3.300254  3.020356\n",
       "4         3.143161  3.056668\n",
       "..             ...       ...\n",
       "138       4.319605  9.527991\n",
       "139       3.943924  9.588265\n",
       "140       3.975609  9.648718\n",
       "141       3.692177  9.709348\n",
       "142       0.000000  9.770156\n",
       "\n",
       "[143 rows x 2 columns]"
      ]
     },
     "execution_count": 41,
     "metadata": {},
     "output_type": "execute_result"
    }
   ],
   "source": [
    "test"
   ]
  }
 ],
 "metadata": {
  "kernelspec": {
   "display_name": "Python 3 (ipykernel)",
   "language": "python",
   "name": "python3"
  },
  "language_info": {
   "codemirror_mode": {
    "name": "ipython",
    "version": 3
   },
   "file_extension": ".py",
   "mimetype": "text/x-python",
   "name": "python",
   "nbconvert_exporter": "python",
   "pygments_lexer": "ipython3",
   "version": "3.11.1"
  }
 },
 "nbformat": 4,
 "nbformat_minor": 4
}
