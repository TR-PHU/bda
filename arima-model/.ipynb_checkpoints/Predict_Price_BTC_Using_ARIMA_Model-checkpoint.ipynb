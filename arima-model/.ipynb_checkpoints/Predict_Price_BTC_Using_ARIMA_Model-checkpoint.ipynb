{
 "cells": [
  {
   "cell_type": "markdown",
   "id": "35c19d09",
   "metadata": {},
   "source": [
    "### 1. Import libraries and get data"
   ]
  },
  {
   "cell_type": "code",
   "execution_count": 111,
   "id": "5f887325",
   "metadata": {},
   "outputs": [],
   "source": [
    "import numpy as np\n",
    "import pandas as pd\n",
    "import matplotlib.pyplot as plt"
   ]
  },
  {
   "cell_type": "code",
   "execution_count": 121,
   "id": "c7b4ea7b",
   "metadata": {},
   "outputs": [
    {
     "data": {
      "text/html": [
       "<div>\n",
       "<style scoped>\n",
       "    .dataframe tbody tr th:only-of-type {\n",
       "        vertical-align: middle;\n",
       "    }\n",
       "\n",
       "    .dataframe tbody tr th {\n",
       "        vertical-align: top;\n",
       "    }\n",
       "\n",
       "    .dataframe thead th {\n",
       "        text-align: right;\n",
       "    }\n",
       "</style>\n",
       "<table border=\"1\" class=\"dataframe\">\n",
       "  <thead>\n",
       "    <tr style=\"text-align: right;\">\n",
       "      <th></th>\n",
       "      <th>Price</th>\n",
       "    </tr>\n",
       "    <tr>\n",
       "      <th>Date</th>\n",
       "      <th></th>\n",
       "    </tr>\n",
       "  </thead>\n",
       "  <tbody>\n",
       "    <tr>\n",
       "      <th>2017-12-01</th>\n",
       "      <td>10869.0</td>\n",
       "    </tr>\n",
       "    <tr>\n",
       "      <th>2017-12-02</th>\n",
       "      <td>10881.0</td>\n",
       "    </tr>\n",
       "    <tr>\n",
       "      <th>2017-12-03</th>\n",
       "      <td>11157.0</td>\n",
       "    </tr>\n",
       "    <tr>\n",
       "      <th>2017-12-04</th>\n",
       "      <td>11595.0</td>\n",
       "    </tr>\n",
       "    <tr>\n",
       "      <th>2017-12-05</th>\n",
       "      <td>11595.0</td>\n",
       "    </tr>\n",
       "    <tr>\n",
       "      <th>...</th>\n",
       "      <td>...</td>\n",
       "    </tr>\n",
       "    <tr>\n",
       "      <th>2023-04-26</th>\n",
       "      <td>28433.0</td>\n",
       "    </tr>\n",
       "    <tr>\n",
       "      <th>2023-04-27</th>\n",
       "      <td>29479.0</td>\n",
       "    </tr>\n",
       "    <tr>\n",
       "      <th>2023-04-28</th>\n",
       "      <td>29338.0</td>\n",
       "    </tr>\n",
       "    <tr>\n",
       "      <th>2023-04-29</th>\n",
       "      <td>29253.0</td>\n",
       "    </tr>\n",
       "    <tr>\n",
       "      <th>2023-04-30</th>\n",
       "      <td>29255.0</td>\n",
       "    </tr>\n",
       "  </tbody>\n",
       "</table>\n",
       "<p>1977 rows × 1 columns</p>\n",
       "</div>"
      ],
      "text/plain": [
       "              Price\n",
       "Date               \n",
       "2017-12-01  10869.0\n",
       "2017-12-02  10881.0\n",
       "2017-12-03  11157.0\n",
       "2017-12-04  11595.0\n",
       "2017-12-05  11595.0\n",
       "...             ...\n",
       "2023-04-26  28433.0\n",
       "2023-04-27  29479.0\n",
       "2023-04-28  29338.0\n",
       "2023-04-29  29253.0\n",
       "2023-04-30  29255.0\n",
       "\n",
       "[1977 rows x 1 columns]"
      ]
     },
     "execution_count": 121,
     "metadata": {},
     "output_type": "execute_result"
    }
   ],
   "source": [
    "# Load the dataset\n",
    "df = pd.read_csv(\"./BTC.csv\")\n",
    "\n",
    "# Drop the unnecessary columns.\n",
    "df.drop(['Open', 'High', 'Low', 'Vol.', 'Change %'], axis=1, inplace=True)\n",
    "\n",
    "# Convert the \"Date\" column to datetime format\n",
    "df['Date'] = pd.to_datetime(df['Date'], format='%m/%d/%Y')\n",
    "\n",
    "# Format the 'Date' column in the 'dd-mm-yyyy' format\n",
    "df['Date'] = df['Date'].dt.strftime('%Y-%m-%d')\n",
    "\n",
    "# Sort the DataFrame by date\n",
    "df = df.sort_values('Date')\n",
    "\n",
    "# Set Date index\n",
    "df.set_index('Date', inplace=True)\n",
    "\n",
    "df"
   ]
  },
  {
   "cell_type": "markdown",
   "id": "770ba2ab",
   "metadata": {},
   "source": [
    "**Split Train/Test**"
   ]
  },
  {
   "cell_type": "code",
   "execution_count": 281,
   "id": "1ec24df4",
   "metadata": {},
   "outputs": [
    {
     "name": "stdout",
     "output_type": "stream",
     "text": [
      "Train shape: (1383, 1)\n",
      "Test shape: (594, 1)\n"
     ]
    }
   ],
   "source": [
    "# Split the data into training (80%) and test (20%) sets\n",
    "train_size = int(0.7 * len(df))\n",
    "test_size = len(df) - train_size\n",
    "\n",
    "train = df[:train_size]\n",
    "test = df[train_size:]\n",
    "\n",
    "# Check the sizes of the data sets\n",
    "print(\"Train shape:\", train.shape)\n",
    "print(\"Test shape:\", test.shape)"
   ]
  },
  {
   "cell_type": "markdown",
   "id": "1e41e20c",
   "metadata": {},
   "source": [
    "### 2. Find the order of differencing (d) in ARIMA model "
   ]
  },
  {
   "cell_type": "markdown",
   "id": "bd0a2724",
   "metadata": {},
   "source": [
    "First, I will check if the series is stationary using the Augmented Dickey Fuller test (ADF Test), from the statsmodels package. The reason being is that we need differencing only if the series is non-stationary. Else, no differencing is needed, that is, d=0.\n",
    "\n",
    "The null hypothesis (Ho) of the ADF test is that the time series is non-stationary. So, if the p-value of the test is less than the significance level (0.05) then we reject the null hypothesis and infer that the time series is indeed stationary."
   ]
  },
  {
   "cell_type": "code",
   "execution_count": 282,
   "id": "f46a7896",
   "metadata": {},
   "outputs": [
    {
     "name": "stdout",
     "output_type": "stream",
     "text": [
      "p-value: 0.9306871548472804\n"
     ]
    }
   ],
   "source": [
    "from statsmodels.tsa.stattools import adfuller\n",
    "print('p-value:', adfuller(train.dropna())[1])"
   ]
  },
  {
   "cell_type": "markdown",
   "id": "26c33d5d",
   "metadata": {},
   "source": [
    "- Since p-value(0.8592610381826621) > 0.05 we go ahead with finding the order of differencing."
   ]
  },
  {
   "cell_type": "code",
   "execution_count": 283,
   "id": "0321bc5e",
   "metadata": {},
   "outputs": [
    {
     "data": {
      "text/html": [
       "<div>\n",
       "<style scoped>\n",
       "    .dataframe tbody tr th:only-of-type {\n",
       "        vertical-align: middle;\n",
       "    }\n",
       "\n",
       "    .dataframe tbody tr th {\n",
       "        vertical-align: top;\n",
       "    }\n",
       "\n",
       "    .dataframe thead th {\n",
       "        text-align: right;\n",
       "    }\n",
       "</style>\n",
       "<table border=\"1\" class=\"dataframe\">\n",
       "  <thead>\n",
       "    <tr style=\"text-align: right;\">\n",
       "      <th></th>\n",
       "      <th>Price</th>\n",
       "    </tr>\n",
       "    <tr>\n",
       "      <th>Date</th>\n",
       "      <th></th>\n",
       "    </tr>\n",
       "  </thead>\n",
       "  <tbody>\n",
       "    <tr>\n",
       "      <th>2017-12-02</th>\n",
       "      <td>12.0</td>\n",
       "    </tr>\n",
       "    <tr>\n",
       "      <th>2017-12-03</th>\n",
       "      <td>276.0</td>\n",
       "    </tr>\n",
       "    <tr>\n",
       "      <th>2017-12-04</th>\n",
       "      <td>438.0</td>\n",
       "    </tr>\n",
       "    <tr>\n",
       "      <th>2017-12-05</th>\n",
       "      <td>0.0</td>\n",
       "    </tr>\n",
       "    <tr>\n",
       "      <th>2017-12-06</th>\n",
       "      <td>1932.0</td>\n",
       "    </tr>\n",
       "    <tr>\n",
       "      <th>...</th>\n",
       "      <td>...</td>\n",
       "    </tr>\n",
       "    <tr>\n",
       "      <th>2021-09-09</th>\n",
       "      <td>301.0</td>\n",
       "    </tr>\n",
       "    <tr>\n",
       "      <th>2021-09-10</th>\n",
       "      <td>-1537.0</td>\n",
       "    </tr>\n",
       "    <tr>\n",
       "      <th>2021-09-11</th>\n",
       "      <td>317.0</td>\n",
       "    </tr>\n",
       "    <tr>\n",
       "      <th>2021-09-12</th>\n",
       "      <td>900.0</td>\n",
       "    </tr>\n",
       "    <tr>\n",
       "      <th>2021-09-13</th>\n",
       "      <td>-1109.0</td>\n",
       "    </tr>\n",
       "  </tbody>\n",
       "</table>\n",
       "<p>1382 rows × 1 columns</p>\n",
       "</div>"
      ],
      "text/plain": [
       "             Price\n",
       "Date              \n",
       "2017-12-02    12.0\n",
       "2017-12-03   276.0\n",
       "2017-12-04   438.0\n",
       "2017-12-05     0.0\n",
       "2017-12-06  1932.0\n",
       "...            ...\n",
       "2021-09-09   301.0\n",
       "2021-09-10 -1537.0\n",
       "2021-09-11   317.0\n",
       "2021-09-12   900.0\n",
       "2021-09-13 -1109.0\n",
       "\n",
       "[1382 rows x 1 columns]"
      ]
     },
     "execution_count": 283,
     "metadata": {},
     "output_type": "execute_result"
    }
   ],
   "source": [
    "train.diff().dropna()"
   ]
  },
  {
   "cell_type": "code",
   "execution_count": 220,
   "id": "5f64a34f",
   "metadata": {},
   "outputs": [
    {
     "name": "stdout",
     "output_type": "stream",
     "text": [
      "p-value: 6.607296666657139e-21\n"
     ]
    }
   ],
   "source": [
    "print('p-value:', adfuller(train.diff().dropna())[1])"
   ]
  },
  {
   "cell_type": "markdown",
   "id": "9b4969b0",
   "metadata": {},
   "source": [
    "=> p-value(6.607296666657139e-21) < 0.05. The time series reaches stationarity with one order of differencing."
   ]
  },
  {
   "cell_type": "markdown",
   "id": "219ba6cc",
   "metadata": {},
   "source": [
    "### 8. Build the ARIMA Model"
   ]
  },
  {
   "cell_type": "markdown",
   "id": "cec93fa5",
   "metadata": {},
   "source": [
    "- In Python, the pmdarima package provides auto_arima() function which can be used to automate the process of ARIMA Forecasting in Python.\n",
    "\n",
    "- auto_arima() uses a stepwise approach to search multiple combinations of p,d,q parameters and chooses the best model that has the least AIC."
   ]
  },
  {
   "cell_type": "code",
   "execution_count": 284,
   "id": "98337dd9",
   "metadata": {},
   "outputs": [
    {
     "name": "stdout",
     "output_type": "stream",
     "text": [
      "Performing stepwise search to minimize aic\n",
      " ARIMA(0,1,0)(0,0,0)[0] intercept   : AIC=22782.261, Time=0.06 sec\n",
      " ARIMA(1,1,0)(0,0,0)[0] intercept   : AIC=22777.312, Time=0.09 sec\n",
      " ARIMA(0,1,1)(0,0,0)[0] intercept   : AIC=22778.085, Time=0.18 sec\n",
      " ARIMA(0,1,0)(0,0,0)[0]             : AIC=22781.259, Time=0.03 sec\n",
      " ARIMA(2,1,0)(0,0,0)[0] intercept   : AIC=22774.679, Time=0.17 sec\n",
      " ARIMA(3,1,0)(0,0,0)[0] intercept   : AIC=22774.223, Time=0.19 sec\n",
      " ARIMA(3,1,1)(0,0,0)[0] intercept   : AIC=22775.789, Time=0.68 sec\n",
      " ARIMA(2,1,1)(0,0,0)[0] intercept   : AIC=22773.699, Time=0.75 sec\n",
      " ARIMA(1,1,1)(0,0,0)[0] intercept   : AIC=22777.075, Time=0.42 sec\n",
      " ARIMA(2,1,2)(0,0,0)[0] intercept   : AIC=22775.813, Time=0.43 sec\n",
      " ARIMA(1,1,2)(0,0,0)[0] intercept   : AIC=22773.860, Time=0.36 sec\n",
      " ARIMA(3,1,2)(0,0,0)[0] intercept   : AIC=22777.728, Time=0.61 sec\n",
      " ARIMA(2,1,1)(0,0,0)[0]             : AIC=22772.554, Time=0.16 sec\n",
      " ARIMA(1,1,1)(0,0,0)[0]             : AIC=22776.110, Time=0.15 sec\n",
      " ARIMA(2,1,0)(0,0,0)[0]             : AIC=22773.708, Time=0.07 sec\n",
      " ARIMA(3,1,1)(0,0,0)[0]             : AIC=22774.408, Time=0.26 sec\n",
      " ARIMA(2,1,2)(0,0,0)[0]             : AIC=22774.435, Time=0.30 sec\n",
      " ARIMA(1,1,0)(0,0,0)[0]             : AIC=22776.485, Time=0.07 sec\n",
      " ARIMA(1,1,2)(0,0,0)[0]             : AIC=22772.435, Time=0.20 sec\n",
      " ARIMA(0,1,2)(0,0,0)[0]             : AIC=22773.034, Time=0.07 sec\n",
      " ARIMA(1,1,3)(0,0,0)[0]             : AIC=22774.449, Time=0.46 sec\n",
      " ARIMA(0,1,1)(0,0,0)[0]             : AIC=22777.245, Time=0.09 sec\n",
      " ARIMA(0,1,3)(0,0,0)[0]             : AIC=22773.299, Time=0.11 sec\n",
      " ARIMA(2,1,3)(0,0,0)[0]             : AIC=22776.389, Time=0.44 sec\n",
      "\n",
      "Best model:  ARIMA(1,1,2)(0,0,0)[0]          \n",
      "Total fit time: 6.394 seconds\n",
      "                               SARIMAX Results                                \n",
      "==============================================================================\n",
      "Dep. Variable:                      y   No. Observations:                 1383\n",
      "Model:               SARIMAX(1, 1, 2)   Log Likelihood              -11382.218\n",
      "Date:                Tue, 02 May 2023   AIC                          22772.435\n",
      "Time:                        13:54:59   BIC                          22793.360\n",
      "Sample:                    12-01-2017   HQIC                         22780.262\n",
      "                         - 09-13-2021                                         \n",
      "Covariance Type:                  opg                                         \n",
      "==============================================================================\n",
      "                 coef    std err          z      P>|z|      [0.025      0.975]\n",
      "------------------------------------------------------------------------------\n",
      "ar.L1          0.5474      0.125      4.378      0.000       0.302       0.792\n",
      "ma.L1         -0.6161      0.124     -4.963      0.000      -0.859      -0.373\n",
      "ma.L2          0.1018      0.013      7.605      0.000       0.076       0.128\n",
      "sigma2      8.274e+05   1.14e+04     72.749      0.000    8.05e+05     8.5e+05\n",
      "===================================================================================\n",
      "Ljung-Box (L1) (Q):                   0.01   Jarque-Bera (JB):             10855.78\n",
      "Prob(Q):                              0.93   Prob(JB):                         0.00\n",
      "Heteroskedasticity (H):               9.51   Skew:                            -0.12\n",
      "Prob(H) (two-sided):                  0.00   Kurtosis:                        16.73\n",
      "===================================================================================\n",
      "\n",
      "Warnings:\n",
      "[1] Covariance matrix calculated using the outer product of gradients (complex-step).\n"
     ]
    }
   ],
   "source": [
    "import pmdarima as pmd\n",
    "\n",
    "def build_arima_model(series):\n",
    "    return pmd.auto_arima(train, start_p=0, start_q=0,\n",
    "                      test='adf',       # use adftest to find optimal 'd'\n",
    "                      max_p=3, max_q=3, # maximum p and q\n",
    "                      m=1,              # frequency of series\n",
    "                      d=None,           # let model determine 'd'\n",
    "                      seasonal=False,   # No Seasonality\n",
    "                      start_P=0, \n",
    "                      D=0, \n",
    "                      trace=True,\n",
    "                      error_action='ignore',  \n",
    "                      suppress_warnings=True, \n",
    "                      stepwise=True)\n",
    "\n",
    "arima_model = build_arima_model(train)\n",
    "print(arima_model.summary())"
   ]
  },
  {
   "cell_type": "markdown",
   "id": "fb72a70c",
   "metadata": {},
   "source": [
    "### 10. Accuracy Metrics for Time Series Forecast"
   ]
  },
  {
   "cell_type": "code",
   "execution_count": 285,
   "id": "19467991",
   "metadata": {},
   "outputs": [
    {
     "name": "stderr",
     "output_type": "stream",
     "text": [
      "C:\\Users\\PHUTRAN\\AppData\\Local\\Temp\\ipykernel_15488\\235965756.py:3: SettingWithCopyWarning: \n",
      "A value is trying to be set on a copy of a slice from a DataFrame.\n",
      "Try using .loc[row_indexer,col_indexer] = value instead\n",
      "\n",
      "See the caveats in the documentation: https://pandas.pydata.org/pandas-docs/stable/user_guide/indexing.html#returning-a-view-versus-a-copy\n",
      "  test['forecast'] = arima_model.predict(len(test))\n"
     ]
    },
    {
     "data": {
      "text/plain": [
       "Date\n",
       "2021-09-14    45066.426393\n",
       "2021-09-15    45024.582855\n",
       "2021-09-16    45001.678746\n",
       "2021-09-17    44989.141607\n",
       "2021-09-18    44982.279091\n",
       "                  ...     \n",
       "2023-04-26    44973.980010\n",
       "2023-04-27    44973.980010\n",
       "2023-04-28    44973.980010\n",
       "2023-04-29    44973.980010\n",
       "2023-04-30    44973.980010\n",
       "Name: forecast, Length: 594, dtype: float64"
      ]
     },
     "execution_count": 285,
     "metadata": {},
     "output_type": "execute_result"
    }
   ],
   "source": [
    "test['forecast'] = arima_model.predict(len(test))\n",
    "test['forecast']"
   ]
  },
  {
   "cell_type": "code",
   "execution_count": 286,
   "id": "681c5f9d",
   "metadata": {},
   "outputs": [
    {
     "data": {
      "text/plain": [
       "<matplotlib.legend.Legend at 0x229850b3390>"
      ]
     },
     "execution_count": 286,
     "metadata": {},
     "output_type": "execute_result"
    },
    {
     "data": {
      "image/png": "[encoded data removed]",
      "text/plain": [
       "<Figure size 640x480 with 1 Axes>"
      ]
     },
     "metadata": {},
     "output_type": "display_data"
    }
   ],
   "source": [
    "plt.plot(test['Price'].values, label = \"Actual\", color='blue')\n",
    "plt.plot(test['forecast'], label = \"Forecast\", color='red')\n",
    "plt.legend()"
   ]
  },
  {
   "cell_type": "code",
   "execution_count": 287,
   "id": "2e52c7bd",
   "metadata": {},
   "outputs": [
    {
     "data": {
      "text/plain": [
       "70.82410230823083"
      ]
     },
     "execution_count": 287,
     "metadata": {},
     "output_type": "execute_result"
    }
   ],
   "source": [
    "#MAPE\n",
    "\n",
    "def MAPE(forecast, actual):\n",
    "    return np.mean(np.abs(forecast - actual)/np.abs(actual)) * 100\n",
    "\n",
    "MAPE(test['forecast'], test['Price'])"
   ]
  },
  {
   "cell_type": "code",
   "execution_count": 288,
   "id": "444c66b8",
   "metadata": {},
   "outputs": [
    {
     "data": {
      "text/plain": [
       "16314.958302223284"
      ]
     },
     "execution_count": 288,
     "metadata": {},
     "output_type": "execute_result"
    }
   ],
   "source": [
    "#MAE\n",
    "\n",
    "from sklearn.metrics import mean_absolute_error\n",
    "mean_absolute_error(test['Price'],  test['forecast'])"
   ]
  },
  {
   "cell_type": "code",
   "execution_count": 289,
   "id": "5c1da59b",
   "metadata": {},
   "outputs": [
    {
     "data": {
      "text/plain": [
       "350086477.6270226"
      ]
     },
     "execution_count": 289,
     "metadata": {},
     "output_type": "execute_result"
    }
   ],
   "source": [
    "#MSE\n",
    "from sklearn.metrics import mean_squared_error\n",
    "mean_squared_error(test['Price'],  test['forecast'])"
   ]
  }
 ],
 "metadata": {
  "kernelspec": {
   "display_name": "Python 3 (ipykernel)",
   "language": "python",
   "name": "python3"
  },
  "language_info": {
   "codemirror_mode": {
    "name": "ipython",
    "version": 3
   },
   "file_extension": ".py",
   "mimetype": "text/x-python",
   "name": "python",
   "nbconvert_exporter": "python",
   "pygments_lexer": "ipython3",
   "version": "3.11.1"
  }
 },
 "nbformat": 4,
 "nbformat_minor": 5
}
