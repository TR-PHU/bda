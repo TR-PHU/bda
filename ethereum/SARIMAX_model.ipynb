{
 "cells": [
  {
   "cell_type": "markdown",
   "id": "96ecf88a",
   "metadata": {},
   "source": [
    "## SARIMAX Model"
   ]
  },
  {
   "cell_type": "markdown",
   "id": "2ed631c2",
   "metadata": {},
   "source": [
    "### 1. Import libraries and get data"
   ]
  },
  {
   "cell_type": "code",
   "execution_count": 27,
   "id": "50dd5f6b",
   "metadata": {},
   "outputs": [],
   "source": [
    "import numpy as np\n",
    "import pandas as pd\n",
    "import matplotlib.pyplot as plt\n",
    "import pmdarima as pmd\n",
    "\n",
    "from sklearn.metrics import mean_squared_error, mean_absolute_error, mean_absolute_percentage_error\n",
    "from statsmodels.tsa.seasonal import seasonal_decompose\n",
    "from dateutil.parser import parse\n",
    "import statsmodels.api as sm"
   ]
  },
  {
   "cell_type": "code",
   "execution_count": 28,
   "id": "1f1895fc",
   "metadata": {},
   "outputs": [
    {
     "data": {
      "text/html": [
       "<div>\n",
       "<style scoped>\n",
       "    .dataframe tbody tr th:only-of-type {\n",
       "        vertical-align: middle;\n",
       "    }\n",
       "\n",
       "    .dataframe tbody tr th {\n",
       "        vertical-align: top;\n",
       "    }\n",
       "\n",
       "    .dataframe thead th {\n",
       "        text-align: right;\n",
       "    }\n",
       "</style>\n",
       "<table border=\"1\" class=\"dataframe\">\n",
       "  <thead>\n",
       "    <tr style=\"text-align: right;\">\n",
       "      <th></th>\n",
       "      <th>Price</th>\n",
       "    </tr>\n",
       "    <tr>\n",
       "      <th>Date</th>\n",
       "      <th></th>\n",
       "    </tr>\n",
       "  </thead>\n",
       "  <tbody>\n",
       "    <tr>\n",
       "      <th>2017-12-01</th>\n",
       "      <td>460.67</td>\n",
       "    </tr>\n",
       "    <tr>\n",
       "      <th>2017-12-02</th>\n",
       "      <td>455.51</td>\n",
       "    </tr>\n",
       "    <tr>\n",
       "      <th>2017-12-03</th>\n",
       "      <td>459.49</td>\n",
       "    </tr>\n",
       "    <tr>\n",
       "      <th>2017-12-04</th>\n",
       "      <td>465.00</td>\n",
       "    </tr>\n",
       "    <tr>\n",
       "      <th>2017-12-05</th>\n",
       "      <td>451.87</td>\n",
       "    </tr>\n",
       "    <tr>\n",
       "      <th>...</th>\n",
       "      <td>...</td>\n",
       "    </tr>\n",
       "    <tr>\n",
       "      <th>2023-06-12</th>\n",
       "      <td>1742.60</td>\n",
       "    </tr>\n",
       "    <tr>\n",
       "      <th>2023-06-13</th>\n",
       "      <td>1739.60</td>\n",
       "    </tr>\n",
       "    <tr>\n",
       "      <th>2023-06-14</th>\n",
       "      <td>1650.96</td>\n",
       "    </tr>\n",
       "    <tr>\n",
       "      <th>2023-06-15</th>\n",
       "      <td>1666.96</td>\n",
       "    </tr>\n",
       "    <tr>\n",
       "      <th>2023-06-16</th>\n",
       "      <td>1675.16</td>\n",
       "    </tr>\n",
       "  </tbody>\n",
       "</table>\n",
       "<p>2024 rows × 1 columns</p>\n",
       "</div>"
      ],
      "text/plain": [
       "              Price\n",
       "Date               \n",
       "2017-12-01   460.67\n",
       "2017-12-02   455.51\n",
       "2017-12-03   459.49\n",
       "2017-12-04   465.00\n",
       "2017-12-05   451.87\n",
       "...             ...\n",
       "2023-06-12  1742.60\n",
       "2023-06-13  1739.60\n",
       "2023-06-14  1650.96\n",
       "2023-06-15  1666.96\n",
       "2023-06-16  1675.16\n",
       "\n",
       "[2024 rows x 1 columns]"
      ]
     },
     "execution_count": 28,
     "metadata": {},
     "output_type": "execute_result"
    }
   ],
   "source": [
    "# Load the dataset\n",
    "df = pd.read_csv(\"./ETH.csv\")\n",
    "\n",
    "# Drop the unnecessary columns.\n",
    "df.drop(['Open', 'High', 'Low', 'Vol.', 'Change %'], axis=1, inplace=True)\n",
    "\n",
    "# Convert the \"Date\" column to datetime format\n",
    "df['Date'] = pd.to_datetime(df['Date'], format='%d-%b-%y')\n",
    "                                    \n",
    "# Sort the DataFrame by date\n",
    "df = df.sort_values('Date')\n",
    "\n",
    "# Set Date index\n",
    "df.set_index('Date', inplace=True)\n",
    "\n",
    "df"
   ]
  },
  {
   "cell_type": "markdown",
   "id": "74e04437",
   "metadata": {},
   "source": [
    "### 2. Split the data into training, test and validate sets"
   ]
  },
  {
   "cell_type": "code",
   "execution_count": 29,
   "id": "081876c3",
   "metadata": {},
   "outputs": [
    {
     "name": "stdout",
     "output_type": "stream",
     "text": [
      "Train shape: (1416, 1)\n",
      "Test shape: (404, 1)\n",
      "Validate shape: (204, 1)\n"
     ]
    }
   ],
   "source": [
    "train_size = int(0.7 * len(df))\n",
    "test_size = int(0.2 * len(df))\n",
    "val_size = len(df) - train_size - test_size\n",
    "\n",
    "train_data = df[:train_size]\n",
    "test_data = df[train_size:train_size+test_size]\n",
    "val_data = df[train_size+test_size:]\n",
    "\n",
    "print(\"Train shape:\", train_data.shape)\n",
    "print(\"Test shape:\", test_data.shape)\n",
    "print(\"Validate shape:\", val_data.shape)"
   ]
  },
  {
   "cell_type": "code",
   "execution_count": 30,
   "id": "0c144c8d",
   "metadata": {},
   "outputs": [
    {
     "name": "stdout",
     "output_type": "stream",
     "text": [
      "Train shape: (1214, 1)\n",
      "Test shape: (607, 1)\n",
      "Validate shape: (203, 1)\n"
     ]
    }
   ],
   "source": [
    "train_size = int(0.6 * len(df))\n",
    "test_size = int(0.3 * len(df))\n",
    "val_size = len(df) - train_size - test_size\n",
    "\n",
    "train_data = df[:train_size]\n",
    "test_data = df[train_size:train_size+test_size]\n",
    "val_data = df[train_size+test_size:]\n",
    "\n",
    "print(\"Train shape:\", train_data.shape)\n",
    "print(\"Test shape:\", test_data.shape)\n",
    "print(\"Validate shape:\", val_data.shape)"
   ]
  },
  {
   "cell_type": "code",
   "execution_count": 31,
   "id": "91ee204c",
   "metadata": {},
   "outputs": [
    {
     "name": "stdout",
     "output_type": "stream",
     "text": [
      "Train shape: (1214, 1)\n",
      "Test shape: (404, 1)\n",
      "Validate shape: (406, 1)\n"
     ]
    }
   ],
   "source": [
    "train_size = int(0.6 * len(df))\n",
    "test_size = int(0.2 * len(df))\n",
    "val_size = len(df) - train_size - test_size\n",
    "\n",
    "train_data = df[:train_size]\n",
    "test_data = df[train_size:train_size+test_size]\n",
    "val_data = df[train_size+test_size:]\n",
    "\n",
    "print(\"Train shape:\", train_data.shape)\n",
    "print(\"Test shape:\", test_data.shape)\n",
    "print(\"Validate shape:\", val_data.shape)"
   ]
  },
  {
   "cell_type": "markdown",
   "id": "467a515a",
   "metadata": {},
   "source": [
    "## 3. Perform SARIMAX Model"
   ]
  },
  {
   "cell_type": "markdown",
   "id": "5bc39fc6",
   "metadata": {},
   "source": [
    "Exogenous variable"
   ]
  },
  {
   "cell_type": "code",
   "execution_count": 32,
   "id": "c1df3e63",
   "metadata": {},
   "outputs": [
    {
     "name": "stderr",
     "output_type": "stream",
     "text": [
      "C:\\Users\\PHUTRAN\\AppData\\Local\\Temp\\ipykernel_24584\\586218167.py:1: SettingWithCopyWarning: \n",
      "A value is trying to be set on a copy of a slice from a DataFrame.\n",
      "Try using .loc[row_indexer,col_indexer] = value instead\n",
      "\n",
      "See the caveats in the documentation: https://pandas.pydata.org/pandas-docs/stable/user_guide/indexing.html#returning-a-view-versus-a-copy\n",
      "  train_data['seasonal_index'] = train_data.index.day\n"
     ]
    }
   ],
   "source": [
    "train_data['seasonal_index'] = train_data.index.day"
   ]
  },
  {
   "cell_type": "markdown",
   "id": "ed3028f4",
   "metadata": {},
   "source": [
    "### 3.1 Build the best SARIMAX Model from auto_arima"
   ]
  },
  {
   "cell_type": "code",
   "execution_count": 33,
   "id": "dfd38001",
   "metadata": {},
   "outputs": [
    {
     "name": "stdout",
     "output_type": "stream",
     "text": [
      "Performing stepwise search to minimize aic\n",
      " ARIMA(1,0,1)(0,1,1)[12] intercept   : AIC=inf, Time=10.17 sec\n",
      " ARIMA(0,0,0)(0,1,0)[12] intercept   : AIC=14861.194, Time=0.10 sec\n",
      " ARIMA(1,0,0)(1,1,0)[12] intercept   : AIC=12306.190, Time=3.92 sec\n",
      " ARIMA(0,0,1)(0,1,1)[12] intercept   : AIC=13759.298, Time=5.03 sec\n",
      " ARIMA(0,0,0)(0,1,0)[12]             : AIC=14872.836, Time=0.06 sec\n",
      " ARIMA(1,0,0)(0,1,0)[12] intercept   : AIC=12640.446, Time=0.52 sec\n",
      " ARIMA(1,0,0)(2,1,0)[12] intercept   : AIC=12059.935, Time=24.18 sec\n",
      " ARIMA(1,0,0)(2,1,1)[12] intercept   : AIC=inf, Time=35.25 sec\n",
      " ARIMA(1,0,0)(1,1,1)[12] intercept   : AIC=inf, Time=12.63 sec\n",
      " ARIMA(0,0,0)(2,1,0)[12] intercept   : AIC=14843.804, Time=13.57 sec\n",
      " ARIMA(2,0,0)(2,1,0)[12] intercept   : AIC=12060.101, Time=30.26 sec\n",
      " ARIMA(1,0,1)(2,1,0)[12] intercept   : AIC=12060.220, Time=28.73 sec\n",
      " ARIMA(0,0,1)(2,1,0)[12] intercept   : AIC=13758.627, Time=17.27 sec\n",
      " ARIMA(2,0,1)(2,1,0)[12] intercept   : AIC=inf, Time=34.30 sec\n",
      " ARIMA(1,0,0)(2,1,0)[12]             : AIC=12058.411, Time=4.42 sec\n",
      " ARIMA(1,0,0)(1,1,0)[12]             : AIC=12304.915, Time=1.20 sec\n",
      " ARIMA(1,0,0)(2,1,1)[12]             : AIC=inf, Time=16.18 sec\n",
      " ARIMA(1,0,0)(1,1,1)[12]             : AIC=inf, Time=7.12 sec\n",
      " ARIMA(0,0,0)(2,1,0)[12]             : AIC=14853.270, Time=2.57 sec\n",
      " ARIMA(2,0,0)(2,1,0)[12]             : AIC=12058.607, Time=8.31 sec\n",
      " ARIMA(1,0,1)(2,1,0)[12]             : AIC=12058.722, Time=8.27 sec\n",
      " ARIMA(0,0,1)(2,1,0)[12]             : AIC=13768.289, Time=6.23 sec\n",
      " ARIMA(2,0,1)(2,1,0)[12]             : AIC=inf, Time=30.59 sec\n",
      "\n",
      "Best model:  ARIMA(1,0,0)(2,1,0)[12]          \n",
      "Total fit time: 300.993 seconds\n"
     ]
    },
    {
     "data": {
      "text/html": [
       "<table class=\"simpletable\">\n",
       "<caption>SARIMAX Results</caption>\n",
       "<tr>\n",
       "  <th>Dep. Variable:</th>                  <td>y</td>               <th>  No. Observations:  </th>   <td>1214</td>   \n",
       "</tr>\n",
       "<tr>\n",
       "  <th>Model:</th>           <td>SARIMAX(1, 0, 0)x(2, 1, 0, 12)</td> <th>  Log Likelihood     </th> <td>-6025.205</td>\n",
       "</tr>\n",
       "<tr>\n",
       "  <th>Date:</th>                   <td>Fri, 16 Jun 2023</td>        <th>  AIC                </th> <td>12058.411</td>\n",
       "</tr>\n",
       "<tr>\n",
       "  <th>Time:</th>                       <td>23:09:58</td>            <th>  BIC                </th> <td>12078.778</td>\n",
       "</tr>\n",
       "<tr>\n",
       "  <th>Sample:</th>                    <td>12-01-2017</td>           <th>  HQIC               </th> <td>12066.082</td>\n",
       "</tr>\n",
       "<tr>\n",
       "  <th></th>                          <td>- 03-28-2021</td>          <th>                     </th>     <td> </td>    \n",
       "</tr>\n",
       "<tr>\n",
       "  <th>Covariance Type:</th>               <td>opg</td>              <th>                     </th>     <td> </td>    \n",
       "</tr>\n",
       "</table>\n",
       "<table class=\"simpletable\">\n",
       "<tr>\n",
       "      <td></td>        <th>coef</th>     <th>std err</th>      <th>z</th>      <th>P>|z|</th>  <th>[0.025</th>    <th>0.975]</th>  \n",
       "</tr>\n",
       "<tr>\n",
       "  <th>ar.L1</th>    <td>    0.9762</td> <td>    0.003</td> <td>  348.061</td> <td> 0.000</td> <td>    0.971</td> <td>    0.982</td>\n",
       "</tr>\n",
       "<tr>\n",
       "  <th>ar.S.L12</th> <td>   -0.7425</td> <td>    0.011</td> <td>  -65.357</td> <td> 0.000</td> <td>   -0.765</td> <td>   -0.720</td>\n",
       "</tr>\n",
       "<tr>\n",
       "  <th>ar.S.L24</th> <td>   -0.4733</td> <td>    0.015</td> <td>  -31.879</td> <td> 0.000</td> <td>   -0.502</td> <td>   -0.444</td>\n",
       "</tr>\n",
       "<tr>\n",
       "  <th>sigma2</th>   <td> 1311.0785</td> <td>   19.536</td> <td>   67.110</td> <td> 0.000</td> <td> 1272.788</td> <td> 1349.369</td>\n",
       "</tr>\n",
       "</table>\n",
       "<table class=\"simpletable\">\n",
       "<tr>\n",
       "  <th>Ljung-Box (L1) (Q):</th>     <td>1.53</td> <th>  Jarque-Bera (JB):  </th> <td>10361.72</td>\n",
       "</tr>\n",
       "<tr>\n",
       "  <th>Prob(Q):</th>                <td>0.22</td> <th>  Prob(JB):          </th>   <td>0.00</td>  \n",
       "</tr>\n",
       "<tr>\n",
       "  <th>Heteroskedasticity (H):</th> <td>1.06</td> <th>  Skew:              </th>   <td>-0.63</td> \n",
       "</tr>\n",
       "<tr>\n",
       "  <th>Prob(H) (two-sided):</th>    <td>0.58</td> <th>  Kurtosis:          </th>   <td>17.33</td> \n",
       "</tr>\n",
       "</table><br/><br/>Warnings:<br/>[1] Covariance matrix calculated using the outer product of gradients (complex-step)."
      ],
      "text/plain": [
       "<class 'statsmodels.iolib.summary.Summary'>\n",
       "\"\"\"\n",
       "                                     SARIMAX Results                                      \n",
       "==========================================================================================\n",
       "Dep. Variable:                                  y   No. Observations:                 1214\n",
       "Model:             SARIMAX(1, 0, 0)x(2, 1, 0, 12)   Log Likelihood               -6025.205\n",
       "Date:                            Fri, 16 Jun 2023   AIC                          12058.411\n",
       "Time:                                    23:09:58   BIC                          12078.778\n",
       "Sample:                                12-01-2017   HQIC                         12066.082\n",
       "                                     - 03-28-2021                                         \n",
       "Covariance Type:                              opg                                         \n",
       "==============================================================================\n",
       "                 coef    std err          z      P>|z|      [0.025      0.975]\n",
       "------------------------------------------------------------------------------\n",
       "ar.L1          0.9762      0.003    348.061      0.000       0.971       0.982\n",
       "ar.S.L12      -0.7425      0.011    -65.357      0.000      -0.765      -0.720\n",
       "ar.S.L24      -0.4733      0.015    -31.879      0.000      -0.502      -0.444\n",
       "sigma2      1311.0785     19.536     67.110      0.000    1272.788    1349.369\n",
       "===================================================================================\n",
       "Ljung-Box (L1) (Q):                   1.53   Jarque-Bera (JB):             10361.72\n",
       "Prob(Q):                              0.22   Prob(JB):                         0.00\n",
       "Heteroskedasticity (H):               1.06   Skew:                            -0.63\n",
       "Prob(H) (two-sided):                  0.58   Kurtosis:                        17.33\n",
       "===================================================================================\n",
       "\n",
       "Warnings:\n",
       "[1] Covariance matrix calculated using the outer product of gradients (complex-step).\n",
       "\"\"\""
      ]
     },
     "execution_count": 33,
     "metadata": {},
     "output_type": "execute_result"
    }
   ],
   "source": [
    "# SARIMAX Model\n",
    "import pmdarima as pmd\n",
    "\n",
    "SARIMAX_model = pmd.auto_arima(train_data[['Price']], \n",
    "                        exogenous=train_data[['seasonal_index']],\n",
    "                           start_p=1, start_q=1,\n",
    "                           test='adf',\n",
    "                           max_p=3, max_q=3, m=12,\n",
    "                           start_P=0, seasonal=True,\n",
    "                           d=None, D=1, trace=True,\n",
    "                           error_action='ignore',  \n",
    "                           suppress_warnings=True, \n",
    "                           stepwise=True)\n",
    "\n",
    "SARIMAX_model.summary()"
   ]
  },
  {
   "cell_type": "markdown",
   "id": "fd73245e",
   "metadata": {},
   "source": [
    "### 3.2 Evaluate on Validate data"
   ]
  },
  {
   "cell_type": "code",
   "execution_count": 34,
   "id": "d634cdd2",
   "metadata": {},
   "outputs": [],
   "source": [
    "def evaluate_sarimax_model(y_data):\n",
    "    predictions = (SARIMAX_model.predict(n_periods=len(y_data))).values\n",
    "    mse = mean_squared_error(y_data, predictions)\n",
    "    mae = mean_absolute_error(y_data, predictions)\n",
    "    mape = mean_absolute_percentage_error(y_data, predictions)\n",
    "    rmse = mean_squared_error(y_data, predictions, squared=False)\n",
    "    return predictions, mse, mae, mape, rmse"
   ]
  },
  {
   "cell_type": "code",
   "execution_count": 35,
   "id": "41bee481",
   "metadata": {},
   "outputs": [
    {
     "name": "stdout",
     "output_type": "stream",
     "text": [
      "Price predict on validate data: [1700.91716736 1649.13204672 1586.98445044 1637.27834463 1574.3139232\n",
      " 1515.56938041 1528.7696013  1473.85355568 1589.96942982 1562.76309588\n",
      " 1592.05461221 1575.10136857 1581.52696332 1613.44181883 1645.48810989\n",
      " 1707.63524372 1705.18766447 1628.84480982 1644.83732418 1581.27527122\n",
      " 1686.72243055 1677.19138724 1663.16129612 1658.98038451 1674.49965479\n",
      " 1647.67772827 1656.32264886 1684.69771144 1658.41882443 1576.13948556\n",
      " 1578.09533938 1507.5746415  1569.03797231 1613.34488241 1625.46793434\n",
      " 1608.42566009 1621.81222881 1599.94893457 1582.3253719  1631.0791214\n",
      " 1594.74514629 1526.07087618 1537.97571866 1477.54142829 1577.52142391\n",
      " 1574.27498875 1588.25054645 1575.46513482 1586.86517714 1589.8338947\n",
      " 1603.48975999 1653.7769481  1636.85387646 1561.53707716 1573.33220089\n",
      " 1509.32127663 1602.12189766 1609.29676014 1610.09589684 1600.79910533\n",
      " 1615.23286274 1597.95230526 1601.3372802  1641.35235475 1615.27342471\n",
      " 1538.93714853 1546.58060915 1480.9159907  1561.27207385 1583.65610608\n",
      " 1593.79420563 1580.31374005 1593.84633535 1580.25117193 1576.85130504\n",
      " 1624.15077101 1596.0575223  1523.98655179 1535.12067499 1472.72416017\n",
      " 1566.05775045 1572.54748095 1582.31017273 1570.60076663 1583.67479875\n",
      " 1577.22699861 1584.01951176 1631.05797302 1609.07328139 1534.59068825\n",
      " 1545.36423594 1481.58386178 1571.42467339 1582.76659725 1588.63032101\n",
      " 1577.82210023 1591.89378557 1578.6197934  1581.27487391 1625.27428785\n",
      " 1599.91651268 1525.41051438 1534.99941165 1470.89479183 1557.37757896\n",
      " 1572.82441327 1581.942206   1569.80358767 1583.52422698 1572.10499655\n",
      " 1573.17321884 1619.71345375 1594.12623389 1520.93206531 1531.72073366\n",
      " 1468.65772185 1559.42941762 1569.67087625 1578.3533622  1566.90862358\n",
      " 1580.54712446 1571.10750621 1575.43538644 1621.64755109 1597.94451628\n",
      " 1523.90200007 1534.47237201 1470.89864338 1560.18154211 1572.44962575\n",
      " 1580.0169598  1568.78583803 1582.74832727 1571.0555317  1573.80628674\n",
      " 1619.14968541 1594.24411275 1520.29655245 1530.54503019 1466.93939787\n",
      " 1555.37788288 1568.68259627 1577.36010478 1565.71627886 1579.54959943\n",
      " 1568.66380817 1571.11208775 1617.32331668 1592.48482915 1518.93254905\n",
      " 1529.58612422 1466.30715651 1556.13705709 1567.77129372 1576.20921012\n",
      " 1564.82637715 1578.6565944  1568.29093588 1571.76196891 1617.79047963\n",
      " 1593.52061789 1519.67803581 1530.23015217 1466.76960425 1556.01074188\n",
      " 1568.43850023 1576.57160158 1565.23195378 1579.16627938 1568.07218119\n",
      " 1570.96568797 1616.75699898 1592.07009586 1518.29205892 1528.76299198\n",
      " 1465.31703524 1554.37038877 1567.03224082 1575.53703152 1564.07299959\n",
      " 1577.96194696 1567.19231772 1570.05965456 1616.14190273 1591.52321881\n",
      " 1517.86164325 1528.46723156 1465.12210443 1554.61865097 1566.75565316\n",
      " 1575.15264135 1563.78389606 1577.68007594 1567.0365233  1570.2183484\n",
      " 1616.21803864 1591.76678089 1518.00839968 1528.57215897 1465.16452323\n",
      " 1554.43966031 1566.87395709 1575.1930093  1563.82987227 1577.75923696\n",
      " 1566.88518108 1569.86214685 1615.80133809 1591.20898375 1517.48250816\n",
      " 1528.02837967 1464.63386801 1553.87774813 1566.3534322  1574.79479526\n",
      " 1563.39550003 1577.30959051 1566.55951041 1569.55194483 1615.58702815\n",
      " 1591.03182143 1517.33880676 1527.92882442 1464.56495466 1553.94737589\n",
      " 1566.26192548 1574.6594024  1563.29411299 1577.2134175  1566.48971827\n",
      " 1569.57674552 1615.57816636 1591.07084893 1517.34637851 1527.92036936\n",
      " 1464.53562612 1553.83786556 1566.2601867  1574.63989186 1563.27381099\n",
      " 1577.20364453 1566.4086845  1569.42498645 1615.41269259 1590.85874763\n",
      " 1517.14815626 1527.71936122 1464.34167419 1553.64379974 1566.06812841\n",
      " 1574.48743534 1563.11135013 1577.03626846 1566.2869801  1569.31614908\n",
      " 1615.33496612 1590.7978568  1517.09660737 1527.68211335 1464.31360225\n",
      " 1553.65818817 1566.03434525 1574.43687732 1563.07271514 1577.00032195\n",
      " 1566.25477155 1569.31169033 1615.31763811 1590.79374681 1517.0825573\n",
      " 1527.66224287 1464.28697618 1553.6034039  1566.01761769 1574.4170241\n",
      " 1563.05182836 1576.98277667 1566.21577591 1569.24886975 1615.2524514\n",
      " 1590.71351233 1517.00795224 1527.58779769 1464.21574873 1553.53547362\n",
      " 1565.94665091 1574.35868376 1562.99092299 1576.92037296 1566.16973243\n",
      " 1569.2095334  1615.22306044 1590.69108729 1516.98805057 1527.57248345\n",
      " 1464.20314745 1553.53561    1565.93284662 1574.33875529 1562.9751183\n",
      " 1576.90578823 1566.1547998  1569.20250521 1615.21133819 1590.68284769\n",
      " 1516.97677013 1527.5591824  1464.18773568 1553.51057221 1565.92095687\n",
      " 1574.32676445 1562.9625748  1576.89431261 1566.13707434 1569.17694127\n",
      " 1615.18572942 1590.65250461 1516.94861183 1527.53144778 1464.1613527\n",
      " 1553.48635154 1565.89458886 1574.30436362 1562.93960282 1576.87091733\n",
      " 1566.11940892 1569.1622578  1615.17418171 1590.64368407 1516.94044761\n",
      " 1527.52474473 1464.15544491 1553.48417471 1565.88854637 1574.29616736\n",
      " 1562.93281867 1576.86465126 1566.11253828 1569.15755838 1615.16783476\n",
      " 1590.63819664 1516.93406749 1527.51769279 1464.14776184 1553.4732827\n",
      " 1565.88211188 1574.29001189 1562.92642895 1576.85860822 1566.10475082\n",
      " 1569.1472535  1615.1577632  1590.62667842 1516.92337226 1527.50726444\n",
      " 1464.13787436 1553.46445017 1565.87222642 1574.28135585 1562.91768591\n",
      " 1576.84976024 1566.09787245 1569.14159581 1615.1530819  1590.62302566\n",
      " 1516.91988339 1527.50423947 1464.13508238 1553.46272144 1565.86949008\n",
      " 1574.27788706 1562.91469763 1576.8469836  1566.09474955 1569.13904168\n",
      " 1615.14996936 1590.62010445 1516.91671497 1527.50085797 1464.13152346\n",
      " 1553.45811931 1565.86637417 1574.27496718 1562.91169056 1576.84409204\n",
      " 1566.09140064 1569.13490524 1615.1459929  1590.61570165 1516.91261585\n",
      " 1527.49689049 1464.12776583 1553.454817   1565.86262465 1574.27159397\n",
      " 1562.90832575 1576.84070828 1566.08868337 1569.13266269 1615.14405117\n",
      " 1590.61413758 1516.91109131 1527.49551355 1464.12645809 1553.45380258\n",
      " 1565.86137335]\n"
     ]
    }
   ],
   "source": [
    "x_val= np.array(val_data.index).reshape(-1, 1)\n",
    "y_val = np.array(val_data)\n",
    "y_pred_val, val_mse, val_mae, val_mape, val_rmse = evaluate_sarimax_model(y_val)\n",
    "\n",
    "print(\"Price predict on validate data:\", y_pred_val)"
   ]
  },
  {
   "cell_type": "markdown",
   "id": "d89652c4",
   "metadata": {},
   "source": [
    "### 3.3 Evaluate on Test data"
   ]
  },
  {
   "cell_type": "code",
   "execution_count": 36,
   "id": "9b081a30",
   "metadata": {},
   "outputs": [
    {
     "name": "stdout",
     "output_type": "stream",
     "text": [
      "Price predict on test data: [1700.91716736 1649.13204672 1586.98445044 1637.27834463 1574.3139232\n",
      " 1515.56938041 1528.7696013  1473.85355568 1589.96942982 1562.76309588\n",
      " 1592.05461221 1575.10136857 1581.52696332 1613.44181883 1645.48810989\n",
      " 1707.63524372 1705.18766447 1628.84480982 1644.83732418 1581.27527122\n",
      " 1686.72243055 1677.19138724 1663.16129612 1658.98038451 1674.49965479\n",
      " 1647.67772827 1656.32264886 1684.69771144 1658.41882443 1576.13948556\n",
      " 1578.09533938 1507.5746415  1569.03797231 1613.34488241 1625.46793434\n",
      " 1608.42566009 1621.81222881 1599.94893457 1582.3253719  1631.0791214\n",
      " 1594.74514629 1526.07087618 1537.97571866 1477.54142829 1577.52142391\n",
      " 1574.27498875 1588.25054645 1575.46513482 1586.86517714 1589.8338947\n",
      " 1603.48975999 1653.7769481  1636.85387646 1561.53707716 1573.33220089\n",
      " 1509.32127663 1602.12189766 1609.29676014 1610.09589684 1600.79910533\n",
      " 1615.23286274 1597.95230526 1601.3372802  1641.35235475 1615.27342471\n",
      " 1538.93714853 1546.58060915 1480.9159907  1561.27207385 1583.65610608\n",
      " 1593.79420563 1580.31374005 1593.84633535 1580.25117193 1576.85130504\n",
      " 1624.15077101 1596.0575223  1523.98655179 1535.12067499 1472.72416017\n",
      " 1566.05775045 1572.54748095 1582.31017273 1570.60076663 1583.67479875\n",
      " 1577.22699861 1584.01951176 1631.05797302 1609.07328139 1534.59068825\n",
      " 1545.36423594 1481.58386178 1571.42467339 1582.76659725 1588.63032101\n",
      " 1577.82210023 1591.89378557 1578.6197934  1581.27487391 1625.27428785\n",
      " 1599.91651268 1525.41051438 1534.99941165 1470.89479183 1557.37757896\n",
      " 1572.82441327 1581.942206   1569.80358767 1583.52422698 1572.10499655\n",
      " 1573.17321884 1619.71345375 1594.12623389 1520.93206531 1531.72073366\n",
      " 1468.65772185 1559.42941762 1569.67087625 1578.3533622  1566.90862358\n",
      " 1580.54712446 1571.10750621 1575.43538644 1621.64755109 1597.94451628\n",
      " 1523.90200007 1534.47237201 1470.89864338 1560.18154211 1572.44962575\n",
      " 1580.0169598  1568.78583803 1582.74832727 1571.0555317  1573.80628674\n",
      " 1619.14968541 1594.24411275 1520.29655245 1530.54503019 1466.93939787\n",
      " 1555.37788288 1568.68259627 1577.36010478 1565.71627886 1579.54959943\n",
      " 1568.66380817 1571.11208775 1617.32331668 1592.48482915 1518.93254905\n",
      " 1529.58612422 1466.30715651 1556.13705709 1567.77129372 1576.20921012\n",
      " 1564.82637715 1578.6565944  1568.29093588 1571.76196891 1617.79047963\n",
      " 1593.52061789 1519.67803581 1530.23015217 1466.76960425 1556.01074188\n",
      " 1568.43850023 1576.57160158 1565.23195378 1579.16627938 1568.07218119\n",
      " 1570.96568797 1616.75699898 1592.07009586 1518.29205892 1528.76299198\n",
      " 1465.31703524 1554.37038877 1567.03224082 1575.53703152 1564.07299959\n",
      " 1577.96194696 1567.19231772 1570.05965456 1616.14190273 1591.52321881\n",
      " 1517.86164325 1528.46723156 1465.12210443 1554.61865097 1566.75565316\n",
      " 1575.15264135 1563.78389606 1577.68007594 1567.0365233  1570.2183484\n",
      " 1616.21803864 1591.76678089 1518.00839968 1528.57215897 1465.16452323\n",
      " 1554.43966031 1566.87395709 1575.1930093  1563.82987227 1577.75923696\n",
      " 1566.88518108 1569.86214685 1615.80133809 1591.20898375 1517.48250816\n",
      " 1528.02837967 1464.63386801 1553.87774813 1566.3534322  1574.79479526\n",
      " 1563.39550003 1577.30959051 1566.55951041 1569.55194483 1615.58702815\n",
      " 1591.03182143 1517.33880676 1527.92882442 1464.56495466 1553.94737589\n",
      " 1566.26192548 1574.6594024  1563.29411299 1577.2134175  1566.48971827\n",
      " 1569.57674552 1615.57816636 1591.07084893 1517.34637851 1527.92036936\n",
      " 1464.53562612 1553.83786556 1566.2601867  1574.63989186 1563.27381099\n",
      " 1577.20364453 1566.4086845  1569.42498645 1615.41269259 1590.85874763\n",
      " 1517.14815626 1527.71936122 1464.34167419 1553.64379974 1566.06812841\n",
      " 1574.48743534 1563.11135013 1577.03626846 1566.2869801  1569.31614908\n",
      " 1615.33496612 1590.7978568  1517.09660737 1527.68211335 1464.31360225\n",
      " 1553.65818817 1566.03434525 1574.43687732 1563.07271514 1577.00032195\n",
      " 1566.25477155 1569.31169033 1615.31763811 1590.79374681 1517.0825573\n",
      " 1527.66224287 1464.28697618 1553.6034039  1566.01761769 1574.4170241\n",
      " 1563.05182836 1576.98277667 1566.21577591 1569.24886975 1615.2524514\n",
      " 1590.71351233 1517.00795224 1527.58779769 1464.21574873 1553.53547362\n",
      " 1565.94665091 1574.35868376 1562.99092299 1576.92037296 1566.16973243\n",
      " 1569.2095334  1615.22306044 1590.69108729 1516.98805057 1527.57248345\n",
      " 1464.20314745 1553.53561    1565.93284662 1574.33875529 1562.9751183\n",
      " 1576.90578823 1566.1547998  1569.20250521 1615.21133819 1590.68284769\n",
      " 1516.97677013 1527.5591824  1464.18773568 1553.51057221 1565.92095687\n",
      " 1574.32676445 1562.9625748  1576.89431261 1566.13707434 1569.17694127\n",
      " 1615.18572942 1590.65250461 1516.94861183 1527.53144778 1464.1613527\n",
      " 1553.48635154 1565.89458886 1574.30436362 1562.93960282 1576.87091733\n",
      " 1566.11940892 1569.1622578  1615.17418171 1590.64368407 1516.94044761\n",
      " 1527.52474473 1464.15544491 1553.48417471 1565.88854637 1574.29616736\n",
      " 1562.93281867 1576.86465126 1566.11253828 1569.15755838 1615.16783476\n",
      " 1590.63819664 1516.93406749 1527.51769279 1464.14776184 1553.4732827\n",
      " 1565.88211188 1574.29001189 1562.92642895 1576.85860822 1566.10475082\n",
      " 1569.1472535  1615.1577632  1590.62667842 1516.92337226 1527.50726444\n",
      " 1464.13787436 1553.46445017 1565.87222642 1574.28135585 1562.91768591\n",
      " 1576.84976024 1566.09787245 1569.14159581 1615.1530819  1590.62302566\n",
      " 1516.91988339 1527.50423947 1464.13508238 1553.46272144 1565.86949008\n",
      " 1574.27788706 1562.91469763 1576.8469836  1566.09474955 1569.13904168\n",
      " 1615.14996936 1590.62010445 1516.91671497 1527.50085797 1464.13152346\n",
      " 1553.45811931 1565.86637417 1574.27496718 1562.91169056 1576.84409204\n",
      " 1566.09140064 1569.13490524 1615.1459929  1590.61570165 1516.91261585\n",
      " 1527.49689049 1464.12776583 1553.454817   1565.86262465 1574.27159397\n",
      " 1562.90832575 1576.84070828 1566.08868337 1569.13266269 1615.14405117\n",
      " 1590.61413758 1516.91109131 1527.49551355 1464.12645809]\n"
     ]
    }
   ],
   "source": [
    "x_test = np.array(test_data.index).reshape(-1, 1)\n",
    "y_test = np.array(test_data)\n",
    "y_pred_test, test_mse, test_mae, test_mape, test_rmse = evaluate_sarimax_model(y_test)\n",
    "\n",
    "print(\"Price predict on test data:\", y_pred_test)"
   ]
  },
  {
   "cell_type": "markdown",
   "id": "1b737492",
   "metadata": {},
   "source": [
    "### 3.4 Predict price for the next 30 days"
   ]
  },
  {
   "cell_type": "code",
   "execution_count": 37,
   "id": "7e206009",
   "metadata": {},
   "outputs": [
    {
     "name": "stdout",
     "output_type": "stream",
     "text": [
      "Predicted closing prices for the next 30 days:\n",
      "[1700.91716736 1649.13204672 1586.98445044 1637.27834463 1574.3139232\n",
      " 1515.56938041 1528.7696013  1473.85355568 1589.96942982 1562.76309588\n",
      " 1592.05461221 1575.10136857 1581.52696332 1613.44181883 1645.48810989\n",
      " 1707.63524372 1705.18766447 1628.84480982 1644.83732418 1581.27527122\n",
      " 1686.72243055 1677.19138724 1663.16129612 1658.98038451 1674.49965479\n",
      " 1647.67772827 1656.32264886 1684.69771144 1658.41882443 1576.13948556]\n"
     ]
    }
   ],
   "source": [
    "last_index = len(df)\n",
    "date_range = pd.date_range(start=df.index[-1], periods=30, freq='D')\n",
    "\n",
    "# Create an array of 30 consecutive integers starting from last_index\n",
    "x_next_30_days = np.array(range(last_index+1, last_index+31)).reshape(-1, 1)\n",
    "\n",
    "# Predict the closing prices for the next 30 days\n",
    "y_next_30_days = (SARIMAX_model.predict(n_periods=len(x_next_30_days))).values\n",
    "\n",
    "# Print the predicted closing prices for the next 30 days\n",
    "print('Predicted closing prices for the next 30 days:')\n",
    "print(y_next_30_days)"
   ]
  },
  {
   "cell_type": "markdown",
   "id": "bbe5c0ad",
   "metadata": {},
   "source": [
    "### 4.  Evaluate accuracy validate, test data"
   ]
  },
  {
   "cell_type": "code",
   "execution_count": 38,
   "id": "1feec602",
   "metadata": {},
   "outputs": [
    {
     "name": "stdout",
     "output_type": "stream",
     "text": [
      "                   MSE          MAE      MAPE         RMSE\n",
      "Validate  8.010481e+04   237.942749  0.159915   283.027939\n",
      "Test      2.909786e+06  1539.084858  0.465962  1705.809549\n"
     ]
    }
   ],
   "source": [
    "metrics = {\n",
    "    'MSE': [val_mse, test_mse],\n",
    "    'MAE': [val_mae, test_mae],\n",
    "    'MAPE': [val_mape, test_mape],\n",
    "    'RMSE': [val_rmse, test_rmse],\n",
    "}\n",
    "\n",
    "df = pd.DataFrame(metrics, index=['Validate', 'Test'])\n",
    "\n",
    "print(df)\n"
   ]
  },
  {
   "cell_type": "code",
   "execution_count": 39,
   "id": "d6037eda",
   "metadata": {},
   "outputs": [
    {
     "data": {
      "image/png": "[encoded data removed]",
      "text/plain": [
       "<Figure size 640x480 with 1 Axes>"
      ]
     },
     "metadata": {},
     "output_type": "display_data"
    }
   ],
   "source": [
    "plt.plot(train_data.index, train_data['Price'])\n",
    "plt.plot(test_data.index, test_data['Price'])\n",
    "plt.plot(val_data.index, val_data['Price'])\n",
    "\n",
    "plt.plot(test_data.index, y_pred_test)\n",
    "plt.plot(val_data.index, y_pred_val)\n",
    "plt.plot(date_range, y_next_30_days)\n",
    "\n",
    "plt.legend(['Train', 'Test', 'Validate','PredictTestData', 'PredictValidateData','PredictNext30Day'])\n",
    "plt.show()"
   ]
  }
 ],
 "metadata": {
  "kernelspec": {
   "display_name": "Python 3 (ipykernel)",
   "language": "python",
   "name": "python3"
  },
  "language_info": {
   "codemirror_mode": {
    "name": "ipython",
    "version": 3
   },
   "file_extension": ".py",
   "mimetype": "text/x-python",
   "name": "python",
   "nbconvert_exporter": "python",
   "pygments_lexer": "ipython3",
   "version": "3.11.1"
  }
 },
 "nbformat": 4,
 "nbformat_minor": 5
}
