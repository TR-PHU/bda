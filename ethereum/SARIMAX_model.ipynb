{
 "cells": [
  {
   "cell_type": "markdown",
   "id": "96ecf88a",
   "metadata": {},
   "source": [
    "## SARIMAX Model"
   ]
  },
  {
   "cell_type": "markdown",
   "id": "2ed631c2",
   "metadata": {},
   "source": [
    "### 1. Import libraries and get data"
   ]
  },
  {
   "cell_type": "code",
   "execution_count": 12,
   "id": "50dd5f6b",
   "metadata": {},
   "outputs": [],
   "source": [
    "import numpy as np\n",
    "import pandas as pd\n",
    "import matplotlib.pyplot as plt\n",
    "import pmdarima as pmd\n",
    "\n",
    "from sklearn.metrics import mean_squared_error, mean_absolute_error, mean_absolute_percentage_error\n",
    "from statsmodels.tsa.seasonal import seasonal_decompose\n",
    "from dateutil.parser import parse\n",
    "import statsmodels.api as sm"
   ]
  },
  {
   "cell_type": "code",
   "execution_count": 13,
   "id": "1f1895fc",
   "metadata": {},
   "outputs": [
    {
     "data": {
      "text/html": [
       "<div>\n",
       "<style scoped>\n",
       "    .dataframe tbody tr th:only-of-type {\n",
       "        vertical-align: middle;\n",
       "    }\n",
       "\n",
       "    .dataframe tbody tr th {\n",
       "        vertical-align: top;\n",
       "    }\n",
       "\n",
       "    .dataframe thead th {\n",
       "        text-align: right;\n",
       "    }\n",
       "</style>\n",
       "<table border=\"1\" class=\"dataframe\">\n",
       "  <thead>\n",
       "    <tr style=\"text-align: right;\">\n",
       "      <th></th>\n",
       "      <th>Price</th>\n",
       "    </tr>\n",
       "    <tr>\n",
       "      <th>Date</th>\n",
       "      <th></th>\n",
       "    </tr>\n",
       "  </thead>\n",
       "  <tbody>\n",
       "    <tr>\n",
       "      <th>2017-05-12</th>\n",
       "      <td>86.99</td>\n",
       "    </tr>\n",
       "    <tr>\n",
       "      <th>2017-05-13</th>\n",
       "      <td>89.90</td>\n",
       "    </tr>\n",
       "    <tr>\n",
       "      <th>2017-05-14</th>\n",
       "      <td>90.37</td>\n",
       "    </tr>\n",
       "    <tr>\n",
       "      <th>2017-05-15</th>\n",
       "      <td>92.56</td>\n",
       "    </tr>\n",
       "    <tr>\n",
       "      <th>2017-05-16</th>\n",
       "      <td>88.17</td>\n",
       "    </tr>\n",
       "    <tr>\n",
       "      <th>...</th>\n",
       "      <td>...</td>\n",
       "    </tr>\n",
       "    <tr>\n",
       "      <th>2023-06-08</th>\n",
       "      <td>1845.68</td>\n",
       "    </tr>\n",
       "    <tr>\n",
       "      <th>2023-06-09</th>\n",
       "      <td>1840.41</td>\n",
       "    </tr>\n",
       "    <tr>\n",
       "      <th>2023-06-10</th>\n",
       "      <td>1751.56</td>\n",
       "    </tr>\n",
       "    <tr>\n",
       "      <th>2023-06-11</th>\n",
       "      <td>1752.80</td>\n",
       "    </tr>\n",
       "    <tr>\n",
       "      <th>2023-06-12</th>\n",
       "      <td>1736.45</td>\n",
       "    </tr>\n",
       "  </tbody>\n",
       "</table>\n",
       "<p>2223 rows × 1 columns</p>\n",
       "</div>"
      ],
      "text/plain": [
       "              Price\n",
       "Date               \n",
       "2017-05-12    86.99\n",
       "2017-05-13    89.90\n",
       "2017-05-14    90.37\n",
       "2017-05-15    92.56\n",
       "2017-05-16    88.17\n",
       "...             ...\n",
       "2023-06-08  1845.68\n",
       "2023-06-09  1840.41\n",
       "2023-06-10  1751.56\n",
       "2023-06-11  1752.80\n",
       "2023-06-12  1736.45\n",
       "\n",
       "[2223 rows x 1 columns]"
      ]
     },
     "execution_count": 13,
     "metadata": {},
     "output_type": "execute_result"
    }
   ],
   "source": [
    "# Load the dataset\n",
    "df = pd.read_csv(\"./ETH.csv\")\n",
    "\n",
    "# Drop the unnecessary columns.\n",
    "df.drop(['Open', 'High', 'Low', 'Vol.', 'Change %'], axis=1, inplace=True)\n",
    "\n",
    "# Convert the \"Date\" column to datetime format\n",
    "df['Date'] = pd.to_datetime(df['Date'], format='%d-%b-%y')\n",
    "                                    \n",
    "# Sort the DataFrame by date\n",
    "df = df.sort_values('Date')\n",
    "\n",
    "# Set Date index\n",
    "df.set_index('Date', inplace=True)\n",
    "\n",
    "df"
   ]
  },
  {
   "cell_type": "markdown",
   "id": "74e04437",
   "metadata": {},
   "source": [
    "### 2. Split the data into training, test and validate sets"
   ]
  },
  {
   "cell_type": "code",
   "execution_count": 14,
   "id": "0c144c8d",
   "metadata": {},
   "outputs": [
    {
     "name": "stdout",
     "output_type": "stream",
     "text": [
      "Train shape: (1556, 1)\n",
      "Test shape: (333, 1)\n",
      "Validate shape: (334, 1)\n"
     ]
    }
   ],
   "source": [
    "train_size = int(0.7 * len(df))\n",
    "test_size = int(0.15 * len(df))\n",
    "val_size = len(df) - train_size - test_size\n",
    "\n",
    "train_data = df[:train_size]\n",
    "test_data = df[train_size:train_size+test_size]\n",
    "val_data = df[train_size+test_size:]\n",
    "\n",
    "print(\"Train shape:\", train_data.shape)\n",
    "print(\"Test shape:\", test_data.shape)\n",
    "print(\"Validate shape:\", val_data.shape)"
   ]
  },
  {
   "cell_type": "code",
   "execution_count": 15,
   "id": "91ee204c",
   "metadata": {},
   "outputs": [
    {
     "name": "stdout",
     "output_type": "stream",
     "text": [
      "Train shape: (1333, 1)\n",
      "Test shape: (444, 1)\n",
      "Validate shape: (446, 1)\n"
     ]
    }
   ],
   "source": [
    "train_size = int(0.6 * len(df))\n",
    "test_size = int(0.2 * len(df))\n",
    "val_size = len(df) - train_size - test_size\n",
    "\n",
    "train_data = df[:train_size]\n",
    "test_data = df[train_size:train_size+test_size]\n",
    "val_data = df[train_size+test_size:]\n",
    "\n",
    "print(\"Train shape:\", train_data.shape)\n",
    "print(\"Test shape:\", test_data.shape)\n",
    "print(\"Validate shape:\", val_data.shape)"
   ]
  },
  {
   "cell_type": "code",
   "execution_count": 16,
   "id": "081876c3",
   "metadata": {},
   "outputs": [
    {
     "name": "stdout",
     "output_type": "stream",
     "text": [
      "Train shape: (1556, 1)\n",
      "Test shape: (444, 1)\n",
      "Validate shape: (223, 1)\n"
     ]
    }
   ],
   "source": [
    "train_size = int(0.7 * len(df))\n",
    "test_size = int(0.2 * len(df))\n",
    "val_size = len(df) - train_size - test_size\n",
    "\n",
    "train_data = df[:train_size]\n",
    "test_data = df[train_size:train_size+test_size]\n",
    "val_data = df[train_size+test_size:]\n",
    "\n",
    "print(\"Train shape:\", train_data.shape)\n",
    "print(\"Test shape:\", test_data.shape)\n",
    "print(\"Validate shape:\", val_data.shape)"
   ]
  },
  {
   "cell_type": "markdown",
   "id": "467a515a",
   "metadata": {},
   "source": [
    "## 3. Perform SARIMAX Model"
   ]
  },
  {
   "cell_type": "markdown",
   "id": "5bc39fc6",
   "metadata": {},
   "source": [
    "Exogenous variable"
   ]
  },
  {
   "cell_type": "code",
   "execution_count": 17,
   "id": "c1df3e63",
   "metadata": {},
   "outputs": [
    {
     "name": "stderr",
     "output_type": "stream",
     "text": [
      "C:\\Users\\PHUTRAN\\AppData\\Local\\Temp\\ipykernel_9804\\586218167.py:1: SettingWithCopyWarning: \n",
      "A value is trying to be set on a copy of a slice from a DataFrame.\n",
      "Try using .loc[row_indexer,col_indexer] = value instead\n",
      "\n",
      "See the caveats in the documentation: https://pandas.pydata.org/pandas-docs/stable/user_guide/indexing.html#returning-a-view-versus-a-copy\n",
      "  train_data['seasonal_index'] = train_data.index.day\n"
     ]
    }
   ],
   "source": [
    "train_data['seasonal_index'] = train_data.index.day"
   ]
  },
  {
   "cell_type": "markdown",
   "id": "ed3028f4",
   "metadata": {},
   "source": [
    "### 3.1 Build the best SARIMAX Model from auto_arima"
   ]
  },
  {
   "cell_type": "code",
   "execution_count": 18,
   "id": "dfd38001",
   "metadata": {},
   "outputs": [
    {
     "name": "stdout",
     "output_type": "stream",
     "text": [
      "Performing stepwise search to minimize aic\n",
      " ARIMA(1,0,1)(0,1,1)[12] intercept   : AIC=inf, Time=5.29 sec\n",
      " ARIMA(0,0,0)(0,1,0)[12] intercept   : AIC=20978.846, Time=0.09 sec\n",
      " ARIMA(1,0,0)(1,1,0)[12] intercept   : AIC=17608.774, Time=4.12 sec\n",
      " ARIMA(0,0,1)(0,1,1)[12] intercept   : AIC=19686.466, Time=2.48 sec\n",
      " ARIMA(0,0,0)(0,1,0)[12]             : AIC=20993.691, Time=0.05 sec\n",
      " ARIMA(1,0,0)(0,1,0)[12] intercept   : AIC=18157.146, Time=0.17 sec\n",
      " ARIMA(1,0,0)(2,1,0)[12] intercept   : AIC=17452.979, Time=14.57 sec\n",
      " ARIMA(1,0,0)(2,1,1)[12] intercept   : AIC=inf, Time=11.89 sec\n",
      " ARIMA(1,0,0)(1,1,1)[12] intercept   : AIC=inf, Time=5.22 sec\n",
      " ARIMA(0,0,0)(2,1,0)[12] intercept   : AIC=20937.503, Time=6.47 sec\n",
      " ARIMA(2,0,0)(2,1,0)[12] intercept   : AIC=inf, Time=12.99 sec\n",
      " ARIMA(1,0,1)(2,1,0)[12] intercept   : AIC=17442.975, Time=12.42 sec\n",
      " ARIMA(1,0,1)(1,1,0)[12] intercept   : AIC=17586.075, Time=8.32 sec\n",
      " ARIMA(1,0,1)(2,1,1)[12] intercept   : AIC=inf, Time=17.18 sec\n",
      " ARIMA(1,0,1)(1,1,1)[12] intercept   : AIC=inf, Time=5.67 sec\n",
      " ARIMA(0,0,1)(2,1,0)[12] intercept   : AIC=19683.489, Time=11.82 sec\n",
      " ARIMA(2,0,1)(2,1,0)[12] intercept   : AIC=17381.318, Time=31.27 sec\n",
      " ARIMA(2,0,1)(1,1,0)[12] intercept   : AIC=17542.020, Time=6.54 sec\n",
      " ARIMA(2,0,1)(2,1,1)[12] intercept   : AIC=inf, Time=30.77 sec\n",
      " ARIMA(2,0,1)(1,1,1)[12] intercept   : AIC=inf, Time=10.22 sec\n",
      " ARIMA(3,0,1)(2,1,0)[12] intercept   : AIC=inf, Time=26.39 sec\n",
      " ARIMA(2,0,2)(2,1,0)[12] intercept   : AIC=17399.959, Time=25.73 sec\n",
      " ARIMA(1,0,2)(2,1,0)[12] intercept   : AIC=17409.187, Time=18.38 sec\n",
      " ARIMA(3,0,0)(2,1,0)[12] intercept   : AIC=inf, Time=19.55 sec\n",
      " ARIMA(3,0,2)(2,1,0)[12] intercept   : AIC=17361.602, Time=37.89 sec\n",
      " ARIMA(3,0,2)(1,1,0)[12] intercept   : AIC=17520.914, Time=17.48 sec\n",
      " ARIMA(3,0,2)(2,1,1)[12] intercept   : AIC=inf, Time=43.91 sec\n",
      " ARIMA(3,0,2)(1,1,1)[12] intercept   : AIC=inf, Time=22.69 sec\n",
      " ARIMA(3,0,3)(2,1,0)[12] intercept   : AIC=17342.616, Time=53.39 sec\n",
      " ARIMA(3,0,3)(1,1,0)[12] intercept   : AIC=17513.813, Time=18.41 sec\n",
      " ARIMA(3,0,3)(2,1,1)[12] intercept   : AIC=inf, Time=53.37 sec\n",
      " ARIMA(3,0,3)(1,1,1)[12] intercept   : AIC=inf, Time=17.54 sec\n",
      " ARIMA(2,0,3)(2,1,0)[12] intercept   : AIC=inf, Time=36.35 sec\n",
      " ARIMA(3,0,3)(2,1,0)[12]             : AIC=inf, Time=23.66 sec\n",
      "\n",
      "Best model:  ARIMA(3,0,3)(2,1,0)[12] intercept\n",
      "Total fit time: 612.350 seconds\n"
     ]
    },
    {
     "data": {
      "text/html": [
       "<table class=\"simpletable\">\n",
       "<caption>SARIMAX Results</caption>\n",
       "<tr>\n",
       "  <th>Dep. Variable:</th>                  <td>y</td>                <th>  No. Observations:  </th>   <td>1556</td>   \n",
       "</tr>\n",
       "<tr>\n",
       "  <th>Model:</th>           <td>SARIMAX(3, 0, 3)x(2, 1, [], 12)</td> <th>  Log Likelihood     </th> <td>-8661.308</td>\n",
       "</tr>\n",
       "<tr>\n",
       "  <th>Date:</th>                   <td>Mon, 12 Jun 2023</td>         <th>  AIC                </th> <td>17342.616</td>\n",
       "</tr>\n",
       "<tr>\n",
       "  <th>Time:</th>                       <td>23:48:59</td>             <th>  BIC                </th> <td>17396.037</td>\n",
       "</tr>\n",
       "<tr>\n",
       "  <th>Sample:</th>                    <td>05-12-2017</td>            <th>  HQIC               </th> <td>17362.489</td>\n",
       "</tr>\n",
       "<tr>\n",
       "  <th></th>                          <td>- 08-14-2021</td>           <th>                     </th>     <td> </td>    \n",
       "</tr>\n",
       "<tr>\n",
       "  <th>Covariance Type:</th>               <td>opg</td>               <th>                     </th>     <td> </td>    \n",
       "</tr>\n",
       "</table>\n",
       "<table class=\"simpletable\">\n",
       "<tr>\n",
       "      <td></td>         <th>coef</th>     <th>std err</th>      <th>z</th>      <th>P>|z|</th>  <th>[0.025</th>    <th>0.975]</th>  \n",
       "</tr>\n",
       "<tr>\n",
       "  <th>intercept</th> <td>    1.4613</td> <td>    2.528</td> <td>    0.578</td> <td> 0.563</td> <td>   -3.494</td> <td>    6.416</td>\n",
       "</tr>\n",
       "<tr>\n",
       "  <th>ar.L1</th>     <td>    1.3261</td> <td>    0.015</td> <td>   88.218</td> <td> 0.000</td> <td>    1.297</td> <td>    1.356</td>\n",
       "</tr>\n",
       "<tr>\n",
       "  <th>ar.L2</th>     <td>   -1.1383</td> <td>    0.020</td> <td>  -56.470</td> <td> 0.000</td> <td>   -1.178</td> <td>   -1.099</td>\n",
       "</tr>\n",
       "<tr>\n",
       "  <th>ar.L3</th>     <td>    0.7765</td> <td>    0.012</td> <td>   67.153</td> <td> 0.000</td> <td>    0.754</td> <td>    0.799</td>\n",
       "</tr>\n",
       "<tr>\n",
       "  <th>ma.L1</th>     <td>   -0.4840</td> <td>    0.019</td> <td>  -25.751</td> <td> 0.000</td> <td>   -0.521</td> <td>   -0.447</td>\n",
       "</tr>\n",
       "<tr>\n",
       "  <th>ma.L2</th>     <td>    0.9945</td> <td>    0.008</td> <td>  124.582</td> <td> 0.000</td> <td>    0.979</td> <td>    1.010</td>\n",
       "</tr>\n",
       "<tr>\n",
       "  <th>ma.L3</th>     <td>   -0.1602</td> <td>    0.014</td> <td>  -11.722</td> <td> 0.000</td> <td>   -0.187</td> <td>   -0.133</td>\n",
       "</tr>\n",
       "<tr>\n",
       "  <th>ar.S.L12</th>  <td>   -0.7605</td> <td>    0.008</td> <td>  -94.780</td> <td> 0.000</td> <td>   -0.776</td> <td>   -0.745</td>\n",
       "</tr>\n",
       "<tr>\n",
       "  <th>ar.S.L24</th>  <td>   -0.3289</td> <td>    0.011</td> <td>  -28.828</td> <td> 0.000</td> <td>   -0.351</td> <td>   -0.307</td>\n",
       "</tr>\n",
       "<tr>\n",
       "  <th>sigma2</th>    <td> 4318.6912</td> <td>   49.279</td> <td>   87.637</td> <td> 0.000</td> <td> 4222.106</td> <td> 4415.277</td>\n",
       "</tr>\n",
       "</table>\n",
       "<table class=\"simpletable\">\n",
       "<tr>\n",
       "  <th>Ljung-Box (L1) (Q):</th>     <td>0.12</td> <th>  Jarque-Bera (JB):  </th> <td>100852.75</td>\n",
       "</tr>\n",
       "<tr>\n",
       "  <th>Prob(Q):</th>                <td>0.73</td> <th>  Prob(JB):          </th>   <td>0.00</td>   \n",
       "</tr>\n",
       "<tr>\n",
       "  <th>Heteroskedasticity (H):</th> <td>6.69</td> <th>  Skew:              </th>   <td>-1.40</td>  \n",
       "</tr>\n",
       "<tr>\n",
       "  <th>Prob(H) (two-sided):</th>    <td>0.00</td> <th>  Kurtosis:          </th>   <td>42.49</td>  \n",
       "</tr>\n",
       "</table><br/><br/>Warnings:<br/>[1] Covariance matrix calculated using the outer product of gradients (complex-step)."
      ],
      "text/plain": [
       "<class 'statsmodels.iolib.summary.Summary'>\n",
       "\"\"\"\n",
       "                                      SARIMAX Results                                      \n",
       "===========================================================================================\n",
       "Dep. Variable:                                   y   No. Observations:                 1556\n",
       "Model:             SARIMAX(3, 0, 3)x(2, 1, [], 12)   Log Likelihood               -8661.308\n",
       "Date:                             Mon, 12 Jun 2023   AIC                          17342.616\n",
       "Time:                                     23:48:59   BIC                          17396.037\n",
       "Sample:                                 05-12-2017   HQIC                         17362.489\n",
       "                                      - 08-14-2021                                         \n",
       "Covariance Type:                               opg                                         \n",
       "==============================================================================\n",
       "                 coef    std err          z      P>|z|      [0.025      0.975]\n",
       "------------------------------------------------------------------------------\n",
       "intercept      1.4613      2.528      0.578      0.563      -3.494       6.416\n",
       "ar.L1          1.3261      0.015     88.218      0.000       1.297       1.356\n",
       "ar.L2         -1.1383      0.020    -56.470      0.000      -1.178      -1.099\n",
       "ar.L3          0.7765      0.012     67.153      0.000       0.754       0.799\n",
       "ma.L1         -0.4840      0.019    -25.751      0.000      -0.521      -0.447\n",
       "ma.L2          0.9945      0.008    124.582      0.000       0.979       1.010\n",
       "ma.L3         -0.1602      0.014    -11.722      0.000      -0.187      -0.133\n",
       "ar.S.L12      -0.7605      0.008    -94.780      0.000      -0.776      -0.745\n",
       "ar.S.L24      -0.3289      0.011    -28.828      0.000      -0.351      -0.307\n",
       "sigma2      4318.6912     49.279     87.637      0.000    4222.106    4415.277\n",
       "===================================================================================\n",
       "Ljung-Box (L1) (Q):                   0.12   Jarque-Bera (JB):            100852.75\n",
       "Prob(Q):                              0.73   Prob(JB):                         0.00\n",
       "Heteroskedasticity (H):               6.69   Skew:                            -1.40\n",
       "Prob(H) (two-sided):                  0.00   Kurtosis:                        42.49\n",
       "===================================================================================\n",
       "\n",
       "Warnings:\n",
       "[1] Covariance matrix calculated using the outer product of gradients (complex-step).\n",
       "\"\"\""
      ]
     },
     "execution_count": 18,
     "metadata": {},
     "output_type": "execute_result"
    }
   ],
   "source": [
    "# SARIMAX Model\n",
    "import pmdarima as pmd\n",
    "\n",
    "SARIMAX_model = pmd.auto_arima(train_data[['Price']], \n",
    "                        exogenous=train_data[['seasonal_index']],\n",
    "                           start_p=1, start_q=1,\n",
    "                           test='adf',\n",
    "                           max_p=3, max_q=3, m=12,\n",
    "                           start_P=0, seasonal=True,\n",
    "                           d=None, D=1, trace=True,\n",
    "                           error_action='ignore',  \n",
    "                           suppress_warnings=True, \n",
    "                           stepwise=True)\n",
    "\n",
    "SARIMAX_model.summary()"
   ]
  },
  {
   "cell_type": "markdown",
   "id": "fd73245e",
   "metadata": {},
   "source": [
    "### 3.2 Evaluate on Validate data"
   ]
  },
  {
   "cell_type": "code",
   "execution_count": 19,
   "id": "d634cdd2",
   "metadata": {},
   "outputs": [],
   "source": [
    "def evaluate_sarimax_model(y_data):\n",
    "    predictions = (SARIMAX_model.predict(n_periods=len(y_data))).values\n",
    "    mse = mean_squared_error(y_data, predictions)\n",
    "    mae = mean_absolute_error(y_data, predictions)\n",
    "    mape = mean_absolute_percentage_error(y_data, predictions)\n",
    "    rmse = mean_squared_error(y_data, predictions, squared=False)\n",
    "    return predictions, mse, mae, mape, rmse"
   ]
  },
  {
   "cell_type": "code",
   "execution_count": 20,
   "id": "41bee481",
   "metadata": {},
   "outputs": [
    {
     "name": "stdout",
     "output_type": "stream",
     "text": [
      "Price predict on validate data: [3267.67204579 3375.69828223 3328.00277467 3271.14001908 3354.37901935\n",
      " 3329.43901339 3332.72391806 3325.22504905 3331.20257899 3300.90294744\n",
      " 3359.68036115 3410.22866538 3344.77288576 3478.82045892 3511.97918494\n",
      " 3522.42469487 3646.42100371 3578.31632588 3630.63292595 3634.8089328\n",
      " 3655.04750426 3598.98512168 3725.21374529 3717.85550394 3657.18348002\n",
      " 3791.38795448 3796.19264877 3781.97066649 3924.69482487 3836.63430713\n",
      " 3885.95325054 3863.56662384 3867.6527838  3790.77317025 3926.07001718\n",
      " 3915.13602315 3862.65396843 3978.33770505 3967.90578097 3939.68103245\n",
      " 4044.64465806 3976.71491691 4003.19373669 3987.91041718 3990.37409323\n",
      " 3929.13339284 4027.15949038 4029.84092928 3961.34245188 4083.08431474\n",
      " 4086.01316188 4069.23455423 4189.45673604 4105.56999972 4143.46501985\n",
      " 4124.85973732 4127.34043065 4054.5856032  4171.65756591 4159.08130321\n",
      " 4094.17118108 4211.59527106 4203.67312327 4177.26016293 4292.94348152\n",
      " 4209.34194323 4240.93303439 4217.50093914 4215.63567598 4141.76265648\n",
      " 4251.98193386 4241.99848907 4175.21374234 4289.64024636 4281.39413957\n",
      " 4254.45270877 4364.57449687 4282.11718587 4310.96302997 4288.59975044\n",
      " 4286.42374113 4213.66817225 4319.40694739 4309.1294881  4239.32776477\n",
      " 4354.26977212 4346.73601264 4320.34199523 4433.23659156 4346.93628248\n",
      " 4377.13515312 4352.81011015 4349.63189203 4273.79110161 4382.65106084\n",
      " 4369.26780772 4299.96282422 4413.14429182 4402.8782137  4374.00114055\n",
      " 4484.4319223  4398.54767498 4426.54291382 4401.33140281 4397.04105008\n",
      " 4321.25173312 4427.33246975 4414.57450387 4344.09607665 4456.70320836\n",
      " 4446.580377   4417.75322243 4527.52816294 4441.01413949 4468.70187892\n",
      " 4443.30962243 4438.73153162 4362.49087146 4468.26685165 4454.69782417\n",
      " 4383.6248136  4495.95690491 4485.36490813 4456.08877371 4565.97550748\n",
      " 4478.63580727 4506.14331705 4480.06939489 4474.99273856 4398.0219959\n",
      " 4503.91359943 4489.75089811 4418.53610309 4530.31061208 4519.09626696\n",
      " 4489.23617864 4598.36714493 4510.99795263 4537.90052642 4511.58214936\n",
      " 4506.17733126 4429.12814473 4534.26932396 4520.08098962 4448.44411655\n",
      " 4560.02558976 4548.74882124 4518.80754671 4627.82018263 4540.10494635\n",
      " 4566.9026145  4540.38557973 4534.80059639 4457.47218316 4562.58130529\n",
      " 4548.05701582 4476.25065883 4587.63852303 4576.10308257 4545.9174156\n",
      " 4654.7827456  4566.8665065  4593.48079413 4566.74453854 4560.96495609\n",
      " 4483.44601469 4588.40827943 4573.74018045 4501.80390576 4613.01470094\n",
      " 4601.31830321 4570.97634877 4679.63290458 4591.63252472 4618.07863612\n",
      " 4591.24076112 4585.34300869 4507.7434361  4612.51841396 4597.76832576\n",
      " 4525.6922109  4636.81424125 4625.04533032 4594.62954255 4703.22700172\n",
      " 4615.09699806 4641.47802075 4614.54249924 4608.55769987 4530.84715561\n",
      " 4635.58371797 4620.71980714 4548.57482274 4659.61004439 4647.7419257\n",
      " 4617.23152701 4725.74543448 4637.54939601 4663.84770613 4636.83697892\n",
      " 4630.77888217 4553.00530013 4657.66303379 4642.74720117 4570.53923189\n",
      " 4681.51230329 4669.59001131 4639.026175   4747.47709085 4659.23154914\n",
      " 4685.47533419 4658.41851718 4652.31274312 4574.49481825 4679.09953871\n",
      " 4664.13814163 4591.88126564 4702.81365177 4690.85156917 4660.248682\n",
      " 4768.66691644 4680.37534819 4706.58501883]\n"
     ]
    }
   ],
   "source": [
    "x_val= np.array(val_data.index).reshape(-1, 1)\n",
    "y_val = np.array(val_data)\n",
    "y_pred_val, val_mse, val_mae, val_mape, val_rmse = evaluate_sarimax_model(y_val)\n",
    "\n",
    "print(\"Price predict on validate data:\", y_pred_val)"
   ]
  },
  {
   "cell_type": "markdown",
   "id": "d89652c4",
   "metadata": {},
   "source": [
    "### 3.3 Evaluate on Test data"
   ]
  },
  {
   "cell_type": "code",
   "execution_count": 21,
   "id": "9b081a30",
   "metadata": {},
   "outputs": [
    {
     "name": "stdout",
     "output_type": "stream",
     "text": [
      "Price predict on test data: [3267.67204579 3375.69828223 3328.00277467 3271.14001908 3354.37901935\n",
      " 3329.43901339 3332.72391806 3325.22504905 3331.20257899 3300.90294744\n",
      " 3359.68036115 3410.22866538 3344.77288576 3478.82045892 3511.97918494\n",
      " 3522.42469487 3646.42100371 3578.31632588 3630.63292595 3634.8089328\n",
      " 3655.04750426 3598.98512168 3725.21374529 3717.85550394 3657.18348002\n",
      " 3791.38795448 3796.19264877 3781.97066649 3924.69482487 3836.63430713\n",
      " 3885.95325054 3863.56662384 3867.6527838  3790.77317025 3926.07001718\n",
      " 3915.13602315 3862.65396843 3978.33770505 3967.90578097 3939.68103245\n",
      " 4044.64465806 3976.71491691 4003.19373669 3987.91041718 3990.37409323\n",
      " 3929.13339284 4027.15949038 4029.84092928 3961.34245188 4083.08431474\n",
      " 4086.01316188 4069.23455423 4189.45673604 4105.56999972 4143.46501985\n",
      " 4124.85973732 4127.34043065 4054.5856032  4171.65756591 4159.08130321\n",
      " 4094.17118108 4211.59527106 4203.67312327 4177.26016293 4292.94348152\n",
      " 4209.34194323 4240.93303439 4217.50093914 4215.63567598 4141.76265648\n",
      " 4251.98193386 4241.99848907 4175.21374234 4289.64024636 4281.39413957\n",
      " 4254.45270877 4364.57449687 4282.11718587 4310.96302997 4288.59975044\n",
      " 4286.42374113 4213.66817225 4319.40694739 4309.1294881  4239.32776477\n",
      " 4354.26977212 4346.73601264 4320.34199523 4433.23659156 4346.93628248\n",
      " 4377.13515312 4352.81011015 4349.63189203 4273.79110161 4382.65106084\n",
      " 4369.26780772 4299.96282422 4413.14429182 4402.8782137  4374.00114055\n",
      " 4484.4319223  4398.54767498 4426.54291382 4401.33140281 4397.04105008\n",
      " 4321.25173312 4427.33246975 4414.57450387 4344.09607665 4456.70320836\n",
      " 4446.580377   4417.75322243 4527.52816294 4441.01413949 4468.70187892\n",
      " 4443.30962243 4438.73153162 4362.49087146 4468.26685165 4454.69782417\n",
      " 4383.6248136  4495.95690491 4485.36490813 4456.08877371 4565.97550748\n",
      " 4478.63580727 4506.14331705 4480.06939489 4474.99273856 4398.0219959\n",
      " 4503.91359943 4489.75089811 4418.53610309 4530.31061208 4519.09626696\n",
      " 4489.23617864 4598.36714493 4510.99795263 4537.90052642 4511.58214936\n",
      " 4506.17733126 4429.12814473 4534.26932396 4520.08098962 4448.44411655\n",
      " 4560.02558976 4548.74882124 4518.80754671 4627.82018263 4540.10494635\n",
      " 4566.9026145  4540.38557973 4534.80059639 4457.47218316 4562.58130529\n",
      " 4548.05701582 4476.25065883 4587.63852303 4576.10308257 4545.9174156\n",
      " 4654.7827456  4566.8665065  4593.48079413 4566.74453854 4560.96495609\n",
      " 4483.44601469 4588.40827943 4573.74018045 4501.80390576 4613.01470094\n",
      " 4601.31830321 4570.97634877 4679.63290458 4591.63252472 4618.07863612\n",
      " 4591.24076112 4585.34300869 4507.7434361  4612.51841396 4597.76832576\n",
      " 4525.6922109  4636.81424125 4625.04533032 4594.62954255 4703.22700172\n",
      " 4615.09699806 4641.47802075 4614.54249924 4608.55769987 4530.84715561\n",
      " 4635.58371797 4620.71980714 4548.57482274 4659.61004439 4647.7419257\n",
      " 4617.23152701 4725.74543448 4637.54939601 4663.84770613 4636.83697892\n",
      " 4630.77888217 4553.00530013 4657.66303379 4642.74720117 4570.53923189\n",
      " 4681.51230329 4669.59001131 4639.026175   4747.47709085 4659.23154914\n",
      " 4685.47533419 4658.41851718 4652.31274312 4574.49481825 4679.09953871\n",
      " 4664.13814163 4591.88126564 4702.81365177 4690.85156917 4660.248682\n",
      " 4768.66691644 4680.37534819 4706.58501883 4679.48774675 4673.34457735\n",
      " 4595.4857657  4700.0637457  4685.06339419 4612.77598794 4723.67350543\n",
      " 4711.67538412 4681.03773495 4789.42153593 4701.10322556 4727.28067774\n",
      " 4700.15511726 4693.98369102 4616.09997162 4720.64688451 4705.62400729\n",
      " 4633.31042955 4744.18399051 4732.16408812 4701.50498449 4809.86648885\n",
      " 4721.52588791 4747.68272519 4720.53704062 4714.3458193  4636.44223216\n",
      " 4740.97060124 4725.92796321 4653.59585605 4764.45182952 4752.41423985\n",
      " 4721.73792137 4830.08385575 4741.72623541 4767.86763841 4740.70588562\n",
      " 4734.49934194 4656.58036764 4761.09532593 4746.03832673 4673.6930316\n",
      " 4784.53526019 4772.48415195 4741.79469274 4850.12733619 4761.7583284\n",
      " 4787.88737077 4760.714342   4754.49659204 4676.56721129 4781.07053341\n",
      " 4766.0037122  4693.64797193 4804.48052644 4792.42024594 4761.721797\n",
      " 4870.0456337  4781.66744306 4807.78810125 4780.6066376  4774.38070607\n",
      " 4696.4430948  4800.93899615 4785.86419887 4713.50106954 4824.32631849\n",
      " 4812.25875102 4781.55321491 4889.87032615 4801.48551023 4827.59968527\n",
      " 4800.41183902 4794.17971772 4716.23608911 4820.72615027 4805.64571718\n",
      " 4733.27708006 4844.09686442 4832.02400456 4801.31330678 4909.62525532\n",
      " 4821.23565018 4847.3449831  4820.15254497 4813.91590418 4735.96793592\n",
      " 4840.45354396 4825.36896544 4752.99616596 4863.8119944  4851.73530171\n",
      " 4821.0208597  4929.32919324 4840.93589746 4867.04176857 4839.84587478\n",
      " 4833.60588369 4755.65458996 4860.13711346 4845.04935683 4772.67355249\n",
      " 4883.48640237 4871.40677348 4840.68947273 4948.99503278 4860.59907685\n",
      " 4886.70230542 4859.50385204 4853.26136314 4775.30765519 4879.78777619\n",
      " 4864.69774074 4792.31968132 4903.13033442 4891.04857864 4860.32920202\n",
      " 4968.63271449 4880.23478193 4906.33607421 4879.13574523 4872.89142179\n",
      " 4794.93592723 4899.41429014 4884.32254713 4811.94281611 4922.75185287\n",
      " 4910.66851923 4879.94760343 4988.24962757 4899.85021337 4925.95008304\n",
      " 4898.74835115 4892.50266409 4814.54583056 4919.02291534 4903.92989935\n",
      " 4831.54894236 4942.3567721  4930.27225734 4899.55019044 5007.85108984\n",
      " 4919.45059498 4945.54939653 4918.34663053 4912.09993323 4834.14212053\n",
      " 4938.61823445 4923.52428944 4851.14241669 4961.94935741 4949.86397914\n",
      " 4919.14106961 5027.44114464 4939.03984336 4965.13786189 4937.93433156\n",
      " 4931.68688865 4853.72834716 4958.20375331 4943.1091132  4870.72656484\n",
      " 4981.53284731 4969.44682571 4938.72328887 5047.02275478 4958.62085596\n",
      " 4984.71829379 4957.51419515 4951.2661987  4873.30711661 4977.7819985\n",
      " 4962.68684492 4890.30379726 5001.10959094 4989.02309253 4958.29909076\n",
      " 5066.59810207 4978.19576335 5004.29276947 4977.08825154 4970.83984569\n",
      " 4892.88036543 4997.35485578 4982.25932359 4909.87590482 5020.68133777\n",
      " 5008.59448809 4977.87014364 5086.16882076 4997.76615465 5023.86284285\n",
      " 4996.6580142  4990.40930544 4912.44952919 5016.92373234 5001.82791831\n",
      " 4929.44422561 5040.24939111 5028.16228022 4997.43768108 5105.73611018\n",
      " 5017.33320218 5043.42965431 5016.22459537 5009.97566208 4932.01566694\n",
      " 5036.48965655 5021.39363453 4949.00973889 5059.81470629 5047.72740233\n",
      " 5017.00261488 5125.30086005 5036.89777315 5062.99405049 5035.78882134\n",
      " 5029.53972197 4951.57956498 5056.05339632 5040.95722032]\n"
     ]
    }
   ],
   "source": [
    "x_test = np.array(test_data.index).reshape(-1, 1)\n",
    "y_test = np.array(test_data)\n",
    "y_pred_test, test_mse, test_mae, test_mape, test_rmse = evaluate_sarimax_model(y_test)\n",
    "\n",
    "print(\"Price predict on test data:\", y_pred_test)"
   ]
  },
  {
   "cell_type": "markdown",
   "id": "1b737492",
   "metadata": {},
   "source": [
    "### 3.4 Predict price for the next 30 days"
   ]
  },
  {
   "cell_type": "code",
   "execution_count": 22,
   "id": "7e206009",
   "metadata": {},
   "outputs": [
    {
     "name": "stdout",
     "output_type": "stream",
     "text": [
      "Predicted closing prices for the next 30 days:\n",
      "[3267.67204579 3375.69828223 3328.00277467 3271.14001908 3354.37901935\n",
      " 3329.43901339 3332.72391806 3325.22504905 3331.20257899 3300.90294744\n",
      " 3359.68036115 3410.22866538 3344.77288576 3478.82045892 3511.97918494\n",
      " 3522.42469487 3646.42100371 3578.31632588 3630.63292595 3634.8089328\n",
      " 3655.04750426 3598.98512168 3725.21374529 3717.85550394 3657.18348002\n",
      " 3791.38795448 3796.19264877 3781.97066649 3924.69482487 3836.63430713]\n"
     ]
    }
   ],
   "source": [
    "last_index = len(df)\n",
    "date_range = pd.date_range(start=df.index[-1], periods=30, freq='D')\n",
    "\n",
    "# Create an array of 30 consecutive integers starting from last_index\n",
    "x_next_30_days = np.array(range(last_index+1, last_index+31)).reshape(-1, 1)\n",
    "\n",
    "# Predict the closing prices for the next 30 days\n",
    "y_next_30_days = (SARIMAX_model.predict(n_periods=len(x_next_30_days))).values\n",
    "\n",
    "# Print the predicted closing prices for the next 30 days\n",
    "print('Predicted closing prices for the next 30 days:')\n",
    "print(y_next_30_days)"
   ]
  },
  {
   "cell_type": "markdown",
   "id": "bbe5c0ad",
   "metadata": {},
   "source": [
    "### 4.  Evaluate accuracy validate, test data"
   ]
  },
  {
   "cell_type": "code",
   "execution_count": 23,
   "id": "1feec602",
   "metadata": {},
   "outputs": [
    {
     "name": "stdout",
     "output_type": "stream",
     "text": [
      "                   MSE          MAE      MAPE         RMSE\n",
      "Validate  7.364043e+06  2702.978036  1.745206  2713.676946\n",
      "Test      5.489651e+06  1947.227134  1.129460  2343.000496\n"
     ]
    }
   ],
   "source": [
    "metrics = {\n",
    "    'MSE': [val_mse, test_mse],\n",
    "    'MAE': [val_mae, test_mae],\n",
    "    'MAPE': [val_mape, test_mape],\n",
    "    'RMSE': [val_rmse, test_rmse],\n",
    "}\n",
    "\n",
    "df = pd.DataFrame(metrics, index=['Validate', 'Test'])\n",
    "\n",
    "print(df)\n"
   ]
  },
  {
   "cell_type": "code",
   "execution_count": 24,
   "id": "d6037eda",
   "metadata": {},
   "outputs": [
    {
     "data": {
      "image/png": "[encoded data removed]",
      "text/plain": [
       "<Figure size 640x480 with 1 Axes>"
      ]
     },
     "metadata": {},
     "output_type": "display_data"
    }
   ],
   "source": [
    "plt.plot(train_data.index, train_data['Price'])\n",
    "plt.plot(test_data.index, test_data['Price'])\n",
    "plt.plot(val_data.index, val_data['Price'])\n",
    "\n",
    "plt.plot(test_data.index, y_pred_test)\n",
    "plt.plot(val_data.index, y_pred_val)\n",
    "plt.plot(date_range, y_next_30_days)\n",
    "\n",
    "plt.legend(['Train', 'Test', 'Validate','PredictTestData', 'PredictValidateData','PredictNext30Day'])\n",
    "plt.show()"
   ]
  }
 ],
 "metadata": {
  "kernelspec": {
   "display_name": "Python 3 (ipykernel)",
   "language": "python",
   "name": "python3"
  },
  "language_info": {
   "codemirror_mode": {
    "name": "ipython",
    "version": 3
   },
   "file_extension": ".py",
   "mimetype": "text/x-python",
   "name": "python",
   "nbconvert_exporter": "python",
   "pygments_lexer": "ipython3",
   "version": "3.11.1"
  }
 },
 "nbformat": 4,
 "nbformat_minor": 5
}
