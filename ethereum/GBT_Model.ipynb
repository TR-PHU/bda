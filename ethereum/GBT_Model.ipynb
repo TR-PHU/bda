{
 "cells": [
  {
   "cell_type": "markdown",
   "id": "87b481bd",
   "metadata": {},
   "source": [
    "### 1. Import libraries and get data"
   ]
  },
  {
   "cell_type": "code",
   "execution_count": 17,
   "id": "d9d80bde",
   "metadata": {},
   "outputs": [],
   "source": [
    "import numpy as np\n",
    "import pandas as pd\n",
    "import matplotlib.pyplot as plt\n",
    "\n",
    "from sklearn.metrics import mean_squared_error, mean_absolute_error, mean_absolute_percentage_error\n",
    "from sklearn.ensemble import GradientBoostingRegressor\n",
    "from sklearn.preprocessing import MinMaxScaler"
   ]
  },
  {
   "cell_type": "code",
   "execution_count": 18,
   "id": "e971cfc6",
   "metadata": {},
   "outputs": [
    {
     "data": {
      "text/plain": [
       "0       1736.45\n",
       "1       1752.80\n",
       "2       1751.56\n",
       "3       1840.41\n",
       "4       1845.68\n",
       "         ...   \n",
       "2218      88.17\n",
       "2219      92.56\n",
       "2220      90.37\n",
       "2221      89.90\n",
       "2222      86.99\n",
       "Name: Price, Length: 2223, dtype: float64"
      ]
     },
     "execution_count": 18,
     "metadata": {},
     "output_type": "execute_result"
    }
   ],
   "source": [
    "# Load the dataset\n",
    "df = pd.read_csv(\"./ETH.csv\")\n",
    "df = df.reset_index()['Price']\n",
    "df"
   ]
  },
  {
   "cell_type": "code",
   "execution_count": 19,
   "id": "af8b785e",
   "metadata": {},
   "outputs": [
    {
     "name": "stdout",
     "output_type": "stream",
     "text": [
      "(2223, 1)\n"
     ]
    }
   ],
   "source": [
    "scaler = MinMaxScaler(feature_range=(0,1))\n",
    "df = scaler.fit_transform(np.array(df).reshape(-1,1))\n",
    "print(df.shape)"
   ]
  },
  {
   "cell_type": "markdown",
   "id": "802b1c4b",
   "metadata": {},
   "source": [
    "### 2. Split the data into training, test and validate sets"
   ]
  },
  {
   "cell_type": "code",
   "execution_count": 20,
   "id": "fedb9101",
   "metadata": {},
   "outputs": [
    {
     "name": "stdout",
     "output_type": "stream",
     "text": [
      "Train shape: (1556, 1)\n",
      "Test shape: (333, 1)\n",
      "Validate shape: (334, 1)\n"
     ]
    }
   ],
   "source": [
    "train_size = int(0.7 * len(df))\n",
    "test_size = int(0.15 * len(df))\n",
    "val_size = len(df) - train_size - test_size\n",
    "\n",
    "train_data = df[:train_size]\n",
    "test_data = df[train_size:train_size+test_size]\n",
    "val_data = df[train_size+test_size:]\n",
    "\n",
    "print(\"Train shape:\", train_data.shape)\n",
    "print(\"Test shape:\", test_data.shape)\n",
    "print(\"Validate shape:\", val_data.shape)"
   ]
  },
  {
   "cell_type": "code",
   "execution_count": 21,
   "id": "170a4028",
   "metadata": {},
   "outputs": [
    {
     "name": "stdout",
     "output_type": "stream",
     "text": [
      "Train shape: (1333, 1)\n",
      "Test shape: (444, 1)\n",
      "Validate shape: (446, 1)\n"
     ]
    }
   ],
   "source": [
    "train_size = int(0.6 * len(df))\n",
    "test_size = int(0.2 * len(df))\n",
    "val_size = len(df) - train_size - test_size\n",
    "\n",
    "train_data = df[:train_size]\n",
    "test_data = df[train_size:train_size+test_size]\n",
    "val_data = df[train_size+test_size:]\n",
    "\n",
    "print(\"Train shape:\", train_data.shape)\n",
    "print(\"Test shape:\", test_data.shape)\n",
    "print(\"Validate shape:\", val_data.shape)"
   ]
  },
  {
   "cell_type": "code",
   "execution_count": 22,
   "id": "33201639",
   "metadata": {},
   "outputs": [
    {
     "name": "stdout",
     "output_type": "stream",
     "text": [
      "Train shape: (1556, 1)\n",
      "Test shape: (444, 1)\n",
      "Validate shape: (223, 1)\n"
     ]
    }
   ],
   "source": [
    "train_size = int(0.7 * len(df))\n",
    "test_size = int(0.2 * len(df))\n",
    "val_size = len(df) - train_size - test_size\n",
    "\n",
    "train_data = df[:train_size]\n",
    "test_data = df[train_size:train_size+test_size]\n",
    "val_data = df[train_size+test_size:]\n",
    "\n",
    "print(\"Train shape:\", train_data.shape)\n",
    "print(\"Test shape:\", test_data.shape)\n",
    "print(\"Validate shape:\", val_data.shape)"
   ]
  },
  {
   "cell_type": "code",
   "execution_count": 23,
   "id": "559c8e99",
   "metadata": {},
   "outputs": [],
   "source": [
    "# convert an array of values into a dataset matrix\n",
    "def create_dataset(dataset, time_step=1):\n",
    "    dataX, dataY = [], []\n",
    "    for i in range(len(dataset)-time_step-1):\n",
    "        a = dataset[i:(i+time_step), 0]   ###i=0, 0,1,2,3-----99   100 \n",
    "        dataX.append(a)\n",
    "        dataY.append(dataset[i + time_step, 0])\n",
    "    return np.array(dataX), np.array(dataY)"
   ]
  },
  {
   "cell_type": "code",
   "execution_count": 24,
   "id": "875f7740",
   "metadata": {},
   "outputs": [
    {
     "name": "stdout",
     "output_type": "stream",
     "text": [
      "X_train:  (1455, 100)\n",
      "y_train:  (1455,)\n",
      "X_val:  (122, 100)\n",
      "y_val:  (122,)\n",
      "X_test:  (343, 100)\n",
      "y_test (343,)\n"
     ]
    }
   ],
   "source": [
    "time_step = 100\n",
    "x_train, y_train = create_dataset(train_data, time_step)\n",
    "x_val, y_val = create_dataset(val_data, time_step)\n",
    "x_test, y_test = create_dataset(test_data, time_step)\n",
    "\n",
    "print(\"X_train: \", x_train.shape)\n",
    "print(\"y_train: \", y_train.shape)\n",
    "print(\"X_val: \", x_val.shape)\n",
    "print(\"y_val: \", y_val.shape)\n",
    "print(\"X_test: \", x_test.shape)\n",
    "print(\"y_test\", y_test.shape)"
   ]
  },
  {
   "cell_type": "markdown",
   "id": "7c7e5403",
   "metadata": {},
   "source": [
    "## 3. Perform GBT Model"
   ]
  },
  {
   "cell_type": "markdown",
   "id": "73d9739d",
   "metadata": {},
   "source": [
    "### 3.1 Build and fit GBT Model with train data"
   ]
  },
  {
   "cell_type": "code",
   "execution_count": 25,
   "id": "19ebf188",
   "metadata": {},
   "outputs": [
    {
     "data": {
      "text/html": [
       "<style>#sk-container-id-2 {color: black;background-color: white;}#sk-container-id-2 pre{padding: 0;}#sk-container-id-2 div.sk-toggleable {background-color: white;}#sk-container-id-2 label.sk-toggleable__label {cursor: pointer;display: block;width: 100%;margin-bottom: 0;padding: 0.3em;box-sizing: border-box;text-align: center;}#sk-container-id-2 label.sk-toggleable__label-arrow:before {content: \"▸\";float: left;margin-right: 0.25em;color: #696969;}#sk-container-id-2 label.sk-toggleable__label-arrow:hover:before {color: black;}#sk-container-id-2 div.sk-estimator:hover label.sk-toggleable__label-arrow:before {color: black;}#sk-container-id-2 div.sk-toggleable__content {max-height: 0;max-width: 0;overflow: hidden;text-align: left;background-color: #f0f8ff;}#sk-container-id-2 div.sk-toggleable__content pre {margin: 0.2em;color: black;border-radius: 0.25em;background-color: #f0f8ff;}#sk-container-id-2 input.sk-toggleable__control:checked~div.sk-toggleable__content {max-height: 200px;max-width: 100%;overflow: auto;}#sk-container-id-2 input.sk-toggleable__control:checked~label.sk-toggleable__label-arrow:before {content: \"▾\";}#sk-container-id-2 div.sk-estimator input.sk-toggleable__control:checked~label.sk-toggleable__label {background-color: #d4ebff;}#sk-container-id-2 div.sk-label input.sk-toggleable__control:checked~label.sk-toggleable__label {background-color: #d4ebff;}#sk-container-id-2 input.sk-hidden--visually {border: 0;clip: rect(1px 1px 1px 1px);clip: rect(1px, 1px, 1px, 1px);height: 1px;margin: -1px;overflow: hidden;padding: 0;position: absolute;width: 1px;}#sk-container-id-2 div.sk-estimator {font-family: monospace;background-color: #f0f8ff;border: 1px dotted black;border-radius: 0.25em;box-sizing: border-box;margin-bottom: 0.5em;}#sk-container-id-2 div.sk-estimator:hover {background-color: #d4ebff;}#sk-container-id-2 div.sk-parallel-item::after {content: \"\";width: 100%;border-bottom: 1px solid gray;flex-grow: 1;}#sk-container-id-2 div.sk-label:hover label.sk-toggleable__label {background-color: #d4ebff;}#sk-container-id-2 div.sk-serial::before {content: \"\";position: absolute;border-left: 1px solid gray;box-sizing: border-box;top: 0;bottom: 0;left: 50%;z-index: 0;}#sk-container-id-2 div.sk-serial {display: flex;flex-direction: column;align-items: center;background-color: white;padding-right: 0.2em;padding-left: 0.2em;position: relative;}#sk-container-id-2 div.sk-item {position: relative;z-index: 1;}#sk-container-id-2 div.sk-parallel {display: flex;align-items: stretch;justify-content: center;background-color: white;position: relative;}#sk-container-id-2 div.sk-item::before, #sk-container-id-2 div.sk-parallel-item::before {content: \"\";position: absolute;border-left: 1px solid gray;box-sizing: border-box;top: 0;bottom: 0;left: 50%;z-index: -1;}#sk-container-id-2 div.sk-parallel-item {display: flex;flex-direction: column;z-index: 1;position: relative;background-color: white;}#sk-container-id-2 div.sk-parallel-item:first-child::after {align-self: flex-end;width: 50%;}#sk-container-id-2 div.sk-parallel-item:last-child::after {align-self: flex-start;width: 50%;}#sk-container-id-2 div.sk-parallel-item:only-child::after {width: 0;}#sk-container-id-2 div.sk-dashed-wrapped {border: 1px dashed gray;margin: 0 0.4em 0.5em 0.4em;box-sizing: border-box;padding-bottom: 0.4em;background-color: white;}#sk-container-id-2 div.sk-label label {font-family: monospace;font-weight: bold;display: inline-block;line-height: 1.2em;}#sk-container-id-2 div.sk-label-container {text-align: center;}#sk-container-id-2 div.sk-container {/* jupyter's `normalize.less` sets `[hidden] { display: none; }` but bootstrap.min.css set `[hidden] { display: none !important; }` so we also need the `!important` here to be able to override the default hidden behavior on the sphinx rendered scikit-learn.org. See: https://github.com/scikit-learn/scikit-learn/issues/21755 */display: inline-block !important;position: relative;}#sk-container-id-2 div.sk-text-repr-fallback {display: none;}</style><div id=\"sk-container-id-2\" class=\"sk-top-container\"><div class=\"sk-text-repr-fallback\"><pre>GradientBoostingRegressor(learning_rate=0.05, loss=&#x27;huber&#x27;, max_features=&#x27;sqrt&#x27;,\n",
       "                          min_samples_leaf=15, min_samples_split=10,\n",
       "                          n_estimators=2000, random_state=42)</pre><b>In a Jupyter environment, please rerun this cell to show the HTML representation or trust the notebook. <br />On GitHub, the HTML representation is unable to render, please try loading this page with nbviewer.org.</b></div><div class=\"sk-container\" hidden><div class=\"sk-item\"><div class=\"sk-estimator sk-toggleable\"><input class=\"sk-toggleable__control sk-hidden--visually\" id=\"sk-estimator-id-2\" type=\"checkbox\" checked><label for=\"sk-estimator-id-2\" class=\"sk-toggleable__label sk-toggleable__label-arrow\">GradientBoostingRegressor</label><div class=\"sk-toggleable__content\"><pre>GradientBoostingRegressor(learning_rate=0.05, loss=&#x27;huber&#x27;, max_features=&#x27;sqrt&#x27;,\n",
       "                          min_samples_leaf=15, min_samples_split=10,\n",
       "                          n_estimators=2000, random_state=42)</pre></div></div></div></div></div>"
      ],
      "text/plain": [
       "GradientBoostingRegressor(learning_rate=0.05, loss='huber', max_features='sqrt',\n",
       "                          min_samples_leaf=15, min_samples_split=10,\n",
       "                          n_estimators=2000, random_state=42)"
      ]
     },
     "execution_count": 25,
     "metadata": {},
     "output_type": "execute_result"
    }
   ],
   "source": [
    "gbt_model = GradientBoostingRegressor(\n",
    "    n_estimators=2000,\n",
    "    learning_rate=0.05,\n",
    "    max_depth=3,\n",
    "    max_features='sqrt',\n",
    "    min_samples_leaf=15,\n",
    "    min_samples_split=10,\n",
    "    loss='huber',\n",
    "    random_state=42)\n",
    "gbt_model.fit(x_train, y_train)"
   ]
  },
  {
   "cell_type": "markdown",
   "id": "fd6548b6",
   "metadata": {},
   "source": [
    "### 3.2 Evaluate on Validate data"
   ]
  },
  {
   "cell_type": "code",
   "execution_count": 26,
   "id": "91b6ba90",
   "metadata": {},
   "outputs": [],
   "source": [
    "def evaludate_gbt_model(x_data, y_data):\n",
    "    predictions = gbt_model.predict(x_data)\n",
    "    mse = mean_squared_error(y_data, predictions)\n",
    "    mae = mean_absolute_error(y_data, predictions)\n",
    "    mape = mean_absolute_percentage_error(y_data, predictions)\n",
    "    rmse = mean_squared_error(y_data, predictions, squared=False)\n",
    "    return predictions, mse, mae, mape, rmse"
   ]
  },
  {
   "cell_type": "code",
   "execution_count": 27,
   "id": "b1649a0f",
   "metadata": {},
   "outputs": [],
   "source": [
    "y_pred_val, val_mse, val_mae, val_mape, val_rmse = evaludate_gbt_model(x_val, y_val)"
   ]
  },
  {
   "cell_type": "markdown",
   "id": "b2094850",
   "metadata": {},
   "source": [
    "### 3.3 Evaluate on Test data"
   ]
  },
  {
   "cell_type": "code",
   "execution_count": 28,
   "id": "597efaec",
   "metadata": {},
   "outputs": [],
   "source": [
    "y_pred_test, test_mse, test_mae, test_mape, test_rmse = evaludate_gbt_model(x_test, y_test)"
   ]
  },
  {
   "cell_type": "markdown",
   "id": "da7a7f8b",
   "metadata": {},
   "source": [
    "### 3.4 Predict price for the next 30 days"
   ]
  },
  {
   "cell_type": "code",
   "execution_count": 29,
   "id": "90de681a",
   "metadata": {},
   "outputs": [
    {
     "name": "stdout",
     "output_type": "stream",
     "text": [
      "1 day output [0.1143245]\n",
      "2 day output [0.10770248]\n",
      "3 day output [0.10121058]\n",
      "4 day output [0.10652131]\n",
      "5 day output [0.09661417]\n",
      "6 day output [0.09613583]\n",
      "7 day output [0.10675687]\n",
      "8 day output [0.09855584]\n",
      "9 day output [0.09882455]\n",
      "10 day output [0.09770559]\n",
      "11 day output [0.09494442]\n",
      "12 day output [0.09935145]\n",
      "13 day output [0.10233151]\n",
      "14 day output [0.09842383]\n",
      "15 day output [0.09322391]\n",
      "16 day output [0.09202947]\n",
      "17 day output [0.09152004]\n",
      "18 day output [0.09355539]\n",
      "19 day output [0.09459676]\n",
      "20 day output [0.09501723]\n",
      "21 day output [0.09199346]\n",
      "22 day output [0.09107469]\n",
      "23 day output [0.09134377]\n",
      "24 day output [0.09102127]\n",
      "25 day output [0.09045709]\n",
      "26 day output [0.09171557]\n",
      "27 day output [0.09176792]\n",
      "28 day output [0.0902997]\n",
      "29 day output [0.09006189]\n",
      "Output of predicted next days:  [0.12130328922979748, 0.11432449521823877, 0.10770247826090934, 0.1012105759383352, 0.10652130712208475, 0.09661417278264049, 0.09613582612364156, 0.10675687377872162, 0.09855583614898857, 0.09882454530187061, 0.09770558618031755, 0.09494441778149841, 0.09935144797047135, 0.1023315135632845, 0.09842382671408206, 0.09322390824138888, 0.09202946652143476, 0.09152003623067334, 0.09355539356503959, 0.09459676448033885, 0.09501723199460226, 0.09199345940551473, 0.09107468942579651, 0.09134376961798776, 0.09102126682281568, 0.09045709124460963, 0.0917155738764293, 0.0917679194886848, 0.09029970173198727, 0.09006188809051408]\n"
     ]
    }
   ],
   "source": [
    "x_input = test_data[len(test_data)-time_step:].reshape(1,-1)\n",
    "temp_input = list(x_input)\n",
    "temp_input = temp_input[0].tolist()\n",
    "\n",
    "from numpy import array\n",
    "\n",
    "lst_output = []\n",
    "n_steps = time_step\n",
    "i = 0\n",
    "pred_days = 30\n",
    "while(i < pred_days):\n",
    "    \n",
    "    if(len(temp_input) > time_step):\n",
    "        \n",
    "        x_input = np.array(temp_input[1:])\n",
    "        x_input = x_input.reshape(1,-1)\n",
    "        \n",
    "        yhat = gbt_model.predict(x_input)\n",
    "        print(\"{} day output {}\".format(i,yhat))\n",
    "        temp_input.extend(yhat.tolist())\n",
    "        temp_input=temp_input[1:]\n",
    "       \n",
    "        lst_output.extend(yhat.tolist())\n",
    "        i = i+1\n",
    "        \n",
    "    else:\n",
    "        yhat = gbt_model.predict(x_input)\n",
    "        \n",
    "        temp_input.extend(yhat.tolist())\n",
    "        lst_output.extend(yhat.tolist())\n",
    "        \n",
    "        i = i+1\n",
    "        \n",
    "print(\"Output of predicted next days: \", lst_output)"
   ]
  },
  {
   "cell_type": "code",
   "execution_count": 30,
   "id": "0162ddca",
   "metadata": {},
   "outputs": [
    {
     "name": "stdout",
     "output_type": "stream",
     "text": [
      "Test data prediction: (343, 1)\n",
      "Val data prediction: (122, 1)\n"
     ]
    }
   ],
   "source": [
    "y_pred_test = y_pred_test.reshape(-1,1)\n",
    "y_pred_val = y_pred_val.reshape(-1,1)\n",
    "y_pred_test = scaler.inverse_transform(y_pred_test)\n",
    "y_pred_val = scaler.inverse_transform(y_pred_val)\n",
    "\n",
    "print(\"Test data prediction:\", y_pred_test.shape)\n",
    "print(\"Val data prediction:\", y_pred_val.shape)"
   ]
  },
  {
   "cell_type": "code",
   "execution_count": 31,
   "id": "c5f81a9f",
   "metadata": {},
   "outputs": [
    {
     "name": "stdout",
     "output_type": "stream",
     "text": [
      "               MSE       MAE      MAPE      RMSE\n",
      "Validate  0.000052  0.005878  0.602983  0.007187\n",
      "Test      0.001803  0.029551  0.269734  0.042459\n"
     ]
    }
   ],
   "source": [
    "metrics = {\n",
    "    'MSE': [val_mse, test_mse],\n",
    "    'MAE': [val_mae, test_mae],\n",
    "    'MAPE': [val_mape, test_mape],\n",
    "    'RMSE': [val_rmse, test_rmse],\n",
    "}\n",
    "\n",
    "acc = pd.DataFrame(metrics, index=['Validate', 'Test'])\n",
    "\n",
    "print(acc)"
   ]
  },
  {
   "cell_type": "code",
   "execution_count": 32,
   "id": "ca4010f4",
   "metadata": {},
   "outputs": [
    {
     "data": {
      "image/png": "[encoded data removed]",
      "text/plain": [
       "<Figure size 640x480 with 1 Axes>"
      ]
     },
     "metadata": {},
     "output_type": "display_data"
    }
   ],
   "source": [
    "train_data_index = pd.RangeIndex(start=0, stop=train_size, step=1)\n",
    "plt.plot(scaler.inverse_transform(train_data))\n",
    "\n",
    "test_data_index = pd.RangeIndex(start=train_size, stop=train_size+test_size, step=1)\n",
    "plt.plot(test_data_index,scaler.inverse_transform(test_data))\n",
    "test_data_index = pd.RangeIndex(start=train_size+101, stop=train_size+test_size, step=1)\n",
    "plt.plot(test_data_index,y_pred_test)\n",
    "\n",
    "val_data_index = pd.RangeIndex(start=train_size+test_size, stop=train_size+test_size+val_size, step=1)\n",
    "plt.plot(val_data_index,scaler.inverse_transform(val_data))\n",
    "val_data_index = pd.RangeIndex(start=train_size+test_size+101, stop=train_size+test_size+val_size, step=1)\n",
    "plt.plot(val_data_index,y_pred_val)\n",
    "prediect_data_index = pd.RangeIndex(start=len(df)-1, stop=len(df)+29, step=1)\n",
    "\n",
    "plt.plot(prediect_data_index,scaler.inverse_transform(np.array(lst_output).reshape(-1,1)))\n",
    "plt.legend(['Train','Test','Predict','Validate','ValidatePred','Predict30days'])\n",
    "plt.show()"
   ]
  }
 ],
 "metadata": {
  "kernelspec": {
   "display_name": "Python 3 (ipykernel)",
   "language": "python",
   "name": "python3"
  },
  "language_info": {
   "codemirror_mode": {
    "name": "ipython",
    "version": 3
   },
   "file_extension": ".py",
   "mimetype": "text/x-python",
   "name": "python",
   "nbconvert_exporter": "python",
   "pygments_lexer": "ipython3",
   "version": "3.11.1"
  }
 },
 "nbformat": 4,
 "nbformat_minor": 5
}
