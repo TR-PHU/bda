{
 "cells": [
  {
   "cell_type": "markdown",
   "id": "87b481bd",
   "metadata": {},
   "source": [
    "### 1. Import libraries and get data"
   ]
  },
  {
   "cell_type": "code",
   "execution_count": 16,
   "id": "d9d80bde",
   "metadata": {},
   "outputs": [],
   "source": [
    "import numpy as np\n",
    "import pandas as pd\n",
    "import matplotlib.pyplot as plt\n",
    "\n",
    "from sklearn.metrics import mean_squared_error, mean_absolute_error, mean_absolute_percentage_error\n",
    "from sklearn.ensemble import GradientBoostingRegressor"
   ]
  },
  {
   "cell_type": "code",
   "execution_count": 17,
   "id": "e971cfc6",
   "metadata": {},
   "outputs": [
    {
     "data": {
      "text/html": [
       "<div>\n",
       "<style scoped>\n",
       "    .dataframe tbody tr th:only-of-type {\n",
       "        vertical-align: middle;\n",
       "    }\n",
       "\n",
       "    .dataframe tbody tr th {\n",
       "        vertical-align: top;\n",
       "    }\n",
       "\n",
       "    .dataframe thead th {\n",
       "        text-align: right;\n",
       "    }\n",
       "</style>\n",
       "<table border=\"1\" class=\"dataframe\">\n",
       "  <thead>\n",
       "    <tr style=\"text-align: right;\">\n",
       "      <th></th>\n",
       "      <th>Price</th>\n",
       "    </tr>\n",
       "    <tr>\n",
       "      <th>Date</th>\n",
       "      <th></th>\n",
       "    </tr>\n",
       "  </thead>\n",
       "  <tbody>\n",
       "    <tr>\n",
       "      <th>2017-05-12</th>\n",
       "      <td>86.99</td>\n",
       "    </tr>\n",
       "    <tr>\n",
       "      <th>2017-05-13</th>\n",
       "      <td>89.90</td>\n",
       "    </tr>\n",
       "    <tr>\n",
       "      <th>2017-05-14</th>\n",
       "      <td>90.37</td>\n",
       "    </tr>\n",
       "    <tr>\n",
       "      <th>2017-05-15</th>\n",
       "      <td>92.56</td>\n",
       "    </tr>\n",
       "    <tr>\n",
       "      <th>2017-05-16</th>\n",
       "      <td>88.17</td>\n",
       "    </tr>\n",
       "    <tr>\n",
       "      <th>...</th>\n",
       "      <td>...</td>\n",
       "    </tr>\n",
       "    <tr>\n",
       "      <th>2023-06-08</th>\n",
       "      <td>1845.68</td>\n",
       "    </tr>\n",
       "    <tr>\n",
       "      <th>2023-06-09</th>\n",
       "      <td>1840.41</td>\n",
       "    </tr>\n",
       "    <tr>\n",
       "      <th>2023-06-10</th>\n",
       "      <td>1751.56</td>\n",
       "    </tr>\n",
       "    <tr>\n",
       "      <th>2023-06-11</th>\n",
       "      <td>1752.80</td>\n",
       "    </tr>\n",
       "    <tr>\n",
       "      <th>2023-06-12</th>\n",
       "      <td>1736.45</td>\n",
       "    </tr>\n",
       "  </tbody>\n",
       "</table>\n",
       "<p>2223 rows × 1 columns</p>\n",
       "</div>"
      ],
      "text/plain": [
       "              Price\n",
       "Date               \n",
       "2017-05-12    86.99\n",
       "2017-05-13    89.90\n",
       "2017-05-14    90.37\n",
       "2017-05-15    92.56\n",
       "2017-05-16    88.17\n",
       "...             ...\n",
       "2023-06-08  1845.68\n",
       "2023-06-09  1840.41\n",
       "2023-06-10  1751.56\n",
       "2023-06-11  1752.80\n",
       "2023-06-12  1736.45\n",
       "\n",
       "[2223 rows x 1 columns]"
      ]
     },
     "execution_count": 17,
     "metadata": {},
     "output_type": "execute_result"
    }
   ],
   "source": [
    "# Load the dataset\n",
    "df = pd.read_csv(\"./ETH.csv\")\n",
    "\n",
    "# Drop the unnecessary columns.\n",
    "df.drop(['Open', 'High', 'Low', 'Vol.', 'Change %'], axis=1, inplace=True)\n",
    "\n",
    "# Convert the \"Date\" column to datetime format\n",
    "df['Date'] = pd.to_datetime(df['Date'], format='%d-%b-%y')\n",
    "                                    \n",
    "# Sort the DataFrame by date\n",
    "df = df.sort_values('Date')\n",
    "\n",
    "# Set Date index\n",
    "df.set_index('Date', inplace=True)\n",
    "\n",
    "df"
   ]
  },
  {
   "cell_type": "markdown",
   "id": "802b1c4b",
   "metadata": {},
   "source": [
    "### 2. Split the data into training, test and validate sets"
   ]
  },
  {
   "cell_type": "code",
   "execution_count": 18,
   "id": "fedb9101",
   "metadata": {},
   "outputs": [
    {
     "name": "stdout",
     "output_type": "stream",
     "text": [
      "Train shape: (1556, 1)\n",
      "Test shape: (333, 1)\n",
      "Validate shape: (334, 1)\n"
     ]
    }
   ],
   "source": [
    "train_size = int(0.7 * len(df))\n",
    "test_size = int(0.15 * len(df))\n",
    "val_size = len(df) - train_size - test_size\n",
    "\n",
    "train_data = df[:train_size]\n",
    "test_data = df[train_size:train_size+test_size]\n",
    "val_data = df[train_size+test_size:]\n",
    "\n",
    "print(\"Train shape:\", train_data.shape)\n",
    "print(\"Test shape:\", test_data.shape)\n",
    "print(\"Validate shape:\", val_data.shape)"
   ]
  },
  {
   "cell_type": "code",
   "execution_count": 19,
   "id": "170a4028",
   "metadata": {},
   "outputs": [
    {
     "name": "stdout",
     "output_type": "stream",
     "text": [
      "Train shape: (1333, 1)\n",
      "Test shape: (444, 1)\n",
      "Validate shape: (446, 1)\n"
     ]
    }
   ],
   "source": [
    "train_size = int(0.6 * len(df))\n",
    "test_size = int(0.2 * len(df))\n",
    "val_size = len(df) - train_size - test_size\n",
    "\n",
    "train_data = df[:train_size]\n",
    "test_data = df[train_size:train_size+test_size]\n",
    "val_data = df[train_size+test_size:]\n",
    "\n",
    "print(\"Train shape:\", train_data.shape)\n",
    "print(\"Test shape:\", test_data.shape)\n",
    "print(\"Validate shape:\", val_data.shape)"
   ]
  },
  {
   "cell_type": "code",
   "execution_count": 20,
   "id": "33201639",
   "metadata": {},
   "outputs": [
    {
     "name": "stdout",
     "output_type": "stream",
     "text": [
      "Train shape: (1556, 1)\n",
      "Test shape: (444, 1)\n",
      "Validate shape: (223, 1)\n"
     ]
    }
   ],
   "source": [
    "train_size = int(0.7 * len(df))\n",
    "test_size = int(0.2 * len(df))\n",
    "val_size = len(df) - train_size - test_size\n",
    "\n",
    "train_data = df[:train_size]\n",
    "test_data = df[train_size:train_size+test_size]\n",
    "val_data = df[train_size+test_size:]\n",
    "\n",
    "print(\"Train shape:\", train_data.shape)\n",
    "print(\"Test shape:\", test_data.shape)\n",
    "print(\"Validate shape:\", val_data.shape)"
   ]
  },
  {
   "cell_type": "markdown",
   "id": "7c7e5403",
   "metadata": {},
   "source": [
    "## 3. Perform GBT Model"
   ]
  },
  {
   "cell_type": "markdown",
   "id": "73d9739d",
   "metadata": {},
   "source": [
    "### 3.1 Build and fit GBT Model with train data"
   ]
  },
  {
   "cell_type": "code",
   "execution_count": 21,
   "id": "19ebf188",
   "metadata": {},
   "outputs": [
    {
     "data": {
      "text/html": [
       "<style>#sk-container-id-2 {color: black;background-color: white;}#sk-container-id-2 pre{padding: 0;}#sk-container-id-2 div.sk-toggleable {background-color: white;}#sk-container-id-2 label.sk-toggleable__label {cursor: pointer;display: block;width: 100%;margin-bottom: 0;padding: 0.3em;box-sizing: border-box;text-align: center;}#sk-container-id-2 label.sk-toggleable__label-arrow:before {content: \"▸\";float: left;margin-right: 0.25em;color: #696969;}#sk-container-id-2 label.sk-toggleable__label-arrow:hover:before {color: black;}#sk-container-id-2 div.sk-estimator:hover label.sk-toggleable__label-arrow:before {color: black;}#sk-container-id-2 div.sk-toggleable__content {max-height: 0;max-width: 0;overflow: hidden;text-align: left;background-color: #f0f8ff;}#sk-container-id-2 div.sk-toggleable__content pre {margin: 0.2em;color: black;border-radius: 0.25em;background-color: #f0f8ff;}#sk-container-id-2 input.sk-toggleable__control:checked~div.sk-toggleable__content {max-height: 200px;max-width: 100%;overflow: auto;}#sk-container-id-2 input.sk-toggleable__control:checked~label.sk-toggleable__label-arrow:before {content: \"▾\";}#sk-container-id-2 div.sk-estimator input.sk-toggleable__control:checked~label.sk-toggleable__label {background-color: #d4ebff;}#sk-container-id-2 div.sk-label input.sk-toggleable__control:checked~label.sk-toggleable__label {background-color: #d4ebff;}#sk-container-id-2 input.sk-hidden--visually {border: 0;clip: rect(1px 1px 1px 1px);clip: rect(1px, 1px, 1px, 1px);height: 1px;margin: -1px;overflow: hidden;padding: 0;position: absolute;width: 1px;}#sk-container-id-2 div.sk-estimator {font-family: monospace;background-color: #f0f8ff;border: 1px dotted black;border-radius: 0.25em;box-sizing: border-box;margin-bottom: 0.5em;}#sk-container-id-2 div.sk-estimator:hover {background-color: #d4ebff;}#sk-container-id-2 div.sk-parallel-item::after {content: \"\";width: 100%;border-bottom: 1px solid gray;flex-grow: 1;}#sk-container-id-2 div.sk-label:hover label.sk-toggleable__label {background-color: #d4ebff;}#sk-container-id-2 div.sk-serial::before {content: \"\";position: absolute;border-left: 1px solid gray;box-sizing: border-box;top: 0;bottom: 0;left: 50%;z-index: 0;}#sk-container-id-2 div.sk-serial {display: flex;flex-direction: column;align-items: center;background-color: white;padding-right: 0.2em;padding-left: 0.2em;position: relative;}#sk-container-id-2 div.sk-item {position: relative;z-index: 1;}#sk-container-id-2 div.sk-parallel {display: flex;align-items: stretch;justify-content: center;background-color: white;position: relative;}#sk-container-id-2 div.sk-item::before, #sk-container-id-2 div.sk-parallel-item::before {content: \"\";position: absolute;border-left: 1px solid gray;box-sizing: border-box;top: 0;bottom: 0;left: 50%;z-index: -1;}#sk-container-id-2 div.sk-parallel-item {display: flex;flex-direction: column;z-index: 1;position: relative;background-color: white;}#sk-container-id-2 div.sk-parallel-item:first-child::after {align-self: flex-end;width: 50%;}#sk-container-id-2 div.sk-parallel-item:last-child::after {align-self: flex-start;width: 50%;}#sk-container-id-2 div.sk-parallel-item:only-child::after {width: 0;}#sk-container-id-2 div.sk-dashed-wrapped {border: 1px dashed gray;margin: 0 0.4em 0.5em 0.4em;box-sizing: border-box;padding-bottom: 0.4em;background-color: white;}#sk-container-id-2 div.sk-label label {font-family: monospace;font-weight: bold;display: inline-block;line-height: 1.2em;}#sk-container-id-2 div.sk-label-container {text-align: center;}#sk-container-id-2 div.sk-container {/* jupyter's `normalize.less` sets `[hidden] { display: none; }` but bootstrap.min.css set `[hidden] { display: none !important; }` so we also need the `!important` here to be able to override the default hidden behavior on the sphinx rendered scikit-learn.org. See: https://github.com/scikit-learn/scikit-learn/issues/21755 */display: inline-block !important;position: relative;}#sk-container-id-2 div.sk-text-repr-fallback {display: none;}</style><div id=\"sk-container-id-2\" class=\"sk-top-container\"><div class=\"sk-text-repr-fallback\"><pre>GradientBoostingRegressor(learning_rate=0.01, random_state=42)</pre><b>In a Jupyter environment, please rerun this cell to show the HTML representation or trust the notebook. <br />On GitHub, the HTML representation is unable to render, please try loading this page with nbviewer.org.</b></div><div class=\"sk-container\" hidden><div class=\"sk-item\"><div class=\"sk-estimator sk-toggleable\"><input class=\"sk-toggleable__control sk-hidden--visually\" id=\"sk-estimator-id-2\" type=\"checkbox\" checked><label for=\"sk-estimator-id-2\" class=\"sk-toggleable__label sk-toggleable__label-arrow\">GradientBoostingRegressor</label><div class=\"sk-toggleable__content\"><pre>GradientBoostingRegressor(learning_rate=0.01, random_state=42)</pre></div></div></div></div></div>"
      ],
      "text/plain": [
       "GradientBoostingRegressor(learning_rate=0.01, random_state=42)"
      ]
     },
     "execution_count": 21,
     "metadata": {},
     "output_type": "execute_result"
    }
   ],
   "source": [
    "x_train = np.array(train_data.index).reshape(-1, 1)\n",
    "y_train = np.array(train_data['Price'])\n",
    "gbt_model = GradientBoostingRegressor(learning_rate=0.01, random_state=42)\n",
    "gbt_model.fit(x_train, y_train)"
   ]
  },
  {
   "cell_type": "markdown",
   "id": "fd6548b6",
   "metadata": {},
   "source": [
    "### 3.2 Evaluate on Validate data"
   ]
  },
  {
   "cell_type": "code",
   "execution_count": 22,
   "id": "91b6ba90",
   "metadata": {},
   "outputs": [],
   "source": [
    "def evaludate_gbt_model(x_data, y_data):\n",
    "    predictions = gbt_model.predict(x_data)\n",
    "    mse = mean_squared_error(y_data, predictions)\n",
    "    mae = mean_absolute_error(y_data, predictions)\n",
    "    mape = mean_absolute_percentage_error(y_data, predictions)\n",
    "    rmse = mean_squared_error(y_data, predictions, squared=False)\n",
    "    return predictions, mse, mae, mape, rmse"
   ]
  },
  {
   "cell_type": "code",
   "execution_count": 23,
   "id": "b1649a0f",
   "metadata": {},
   "outputs": [
    {
     "name": "stdout",
     "output_type": "stream",
     "text": [
      "Price predict on validate data: [1844.75357867 1844.75357867 1844.75357867 1844.75357867 1844.75357867\n",
      " 1844.75357867 1844.75357867 1844.75357867 1844.75357867 1844.75357867\n",
      " 1844.75357867 1844.75357867 1844.75357867 1844.75357867 1844.75357867\n",
      " 1844.75357867 1844.75357867 1844.75357867 1844.75357867 1844.75357867\n",
      " 1844.75357867 1844.75357867 1844.75357867 1844.75357867 1844.75357867\n",
      " 1844.75357867 1844.75357867 1844.75357867 1844.75357867 1844.75357867\n",
      " 1844.75357867 1844.75357867 1844.75357867 1844.75357867 1844.75357867\n",
      " 1844.75357867 1844.75357867 1844.75357867 1844.75357867 1844.75357867\n",
      " 1844.75357867 1844.75357867 1844.75357867 1844.75357867 1844.75357867\n",
      " 1844.75357867 1844.75357867 1844.75357867 1844.75357867 1844.75357867\n",
      " 1844.75357867 1844.75357867 1844.75357867 1844.75357867 1844.75357867\n",
      " 1844.75357867 1844.75357867 1844.75357867 1844.75357867 1844.75357867\n",
      " 1844.75357867 1844.75357867 1844.75357867 1844.75357867 1844.75357867\n",
      " 1844.75357867 1844.75357867 1844.75357867 1844.75357867 1844.75357867\n",
      " 1844.75357867 1844.75357867 1844.75357867 1844.75357867 1844.75357867\n",
      " 1844.75357867 1844.75357867 1844.75357867 1844.75357867 1844.75357867\n",
      " 1844.75357867 1844.75357867 1844.75357867 1844.75357867 1844.75357867\n",
      " 1844.75357867 1844.75357867 1844.75357867 1844.75357867 1844.75357867\n",
      " 1844.75357867 1844.75357867 1844.75357867 1844.75357867 1844.75357867\n",
      " 1844.75357867 1844.75357867 1844.75357867 1844.75357867 1844.75357867\n",
      " 1844.75357867 1844.75357867 1844.75357867 1844.75357867 1844.75357867\n",
      " 1844.75357867 1844.75357867 1844.75357867 1844.75357867 1844.75357867\n",
      " 1844.75357867 1844.75357867 1844.75357867 1844.75357867 1844.75357867\n",
      " 1844.75357867 1844.75357867 1844.75357867 1844.75357867 1844.75357867\n",
      " 1844.75357867 1844.75357867 1844.75357867 1844.75357867 1844.75357867\n",
      " 1844.75357867 1844.75357867 1844.75357867 1844.75357867 1844.75357867\n",
      " 1844.75357867 1844.75357867 1844.75357867 1844.75357867 1844.75357867\n",
      " 1844.75357867 1844.75357867 1844.75357867 1844.75357867 1844.75357867\n",
      " 1844.75357867 1844.75357867 1844.75357867 1844.75357867 1844.75357867\n",
      " 1844.75357867 1844.75357867 1844.75357867 1844.75357867 1844.75357867\n",
      " 1844.75357867 1844.75357867 1844.75357867 1844.75357867 1844.75357867\n",
      " 1844.75357867 1844.75357867 1844.75357867 1844.75357867 1844.75357867\n",
      " 1844.75357867 1844.75357867 1844.75357867 1844.75357867 1844.75357867\n",
      " 1844.75357867 1844.75357867 1844.75357867 1844.75357867 1844.75357867\n",
      " 1844.75357867 1844.75357867 1844.75357867 1844.75357867 1844.75357867\n",
      " 1844.75357867 1844.75357867 1844.75357867 1844.75357867 1844.75357867\n",
      " 1844.75357867 1844.75357867 1844.75357867 1844.75357867 1844.75357867\n",
      " 1844.75357867 1844.75357867 1844.75357867 1844.75357867 1844.75357867\n",
      " 1844.75357867 1844.75357867 1844.75357867 1844.75357867 1844.75357867\n",
      " 1844.75357867 1844.75357867 1844.75357867 1844.75357867 1844.75357867\n",
      " 1844.75357867 1844.75357867 1844.75357867 1844.75357867 1844.75357867\n",
      " 1844.75357867 1844.75357867 1844.75357867 1844.75357867 1844.75357867\n",
      " 1844.75357867 1844.75357867 1844.75357867 1844.75357867 1844.75357867\n",
      " 1844.75357867 1844.75357867 1844.75357867 1844.75357867 1844.75357867\n",
      " 1844.75357867 1844.75357867 1844.75357867]\n"
     ]
    }
   ],
   "source": [
    "x_val= np.array(val_data.index).reshape(-1, 1)\n",
    "y_val = np.array(val_data)\n",
    "y_pred_val, val_mse, val_mae, val_mape, val_rmse = evaludate_gbt_model(x_val, y_val)\n",
    "\n",
    "print(\"Price predict on validate data:\", y_pred_val)"
   ]
  },
  {
   "cell_type": "markdown",
   "id": "b2094850",
   "metadata": {},
   "source": [
    "### 3.3 Evaluate on Test data"
   ]
  },
  {
   "cell_type": "code",
   "execution_count": 24,
   "id": "597efaec",
   "metadata": {},
   "outputs": [
    {
     "name": "stdout",
     "output_type": "stream",
     "text": [
      "Price predict on test data: [1844.75357867 1844.75357867 1844.75357867 1844.75357867 1844.75357867\n",
      " 1844.75357867 1844.75357867 1844.75357867 1844.75357867 1844.75357867\n",
      " 1844.75357867 1844.75357867 1844.75357867 1844.75357867 1844.75357867\n",
      " 1844.75357867 1844.75357867 1844.75357867 1844.75357867 1844.75357867\n",
      " 1844.75357867 1844.75357867 1844.75357867 1844.75357867 1844.75357867\n",
      " 1844.75357867 1844.75357867 1844.75357867 1844.75357867 1844.75357867\n",
      " 1844.75357867 1844.75357867 1844.75357867 1844.75357867 1844.75357867\n",
      " 1844.75357867 1844.75357867 1844.75357867 1844.75357867 1844.75357867\n",
      " 1844.75357867 1844.75357867 1844.75357867 1844.75357867 1844.75357867\n",
      " 1844.75357867 1844.75357867 1844.75357867 1844.75357867 1844.75357867\n",
      " 1844.75357867 1844.75357867 1844.75357867 1844.75357867 1844.75357867\n",
      " 1844.75357867 1844.75357867 1844.75357867 1844.75357867 1844.75357867\n",
      " 1844.75357867 1844.75357867 1844.75357867 1844.75357867 1844.75357867\n",
      " 1844.75357867 1844.75357867 1844.75357867 1844.75357867 1844.75357867\n",
      " 1844.75357867 1844.75357867 1844.75357867 1844.75357867 1844.75357867\n",
      " 1844.75357867 1844.75357867 1844.75357867 1844.75357867 1844.75357867\n",
      " 1844.75357867 1844.75357867 1844.75357867 1844.75357867 1844.75357867\n",
      " 1844.75357867 1844.75357867 1844.75357867 1844.75357867 1844.75357867\n",
      " 1844.75357867 1844.75357867 1844.75357867 1844.75357867 1844.75357867\n",
      " 1844.75357867 1844.75357867 1844.75357867 1844.75357867 1844.75357867\n",
      " 1844.75357867 1844.75357867 1844.75357867 1844.75357867 1844.75357867\n",
      " 1844.75357867 1844.75357867 1844.75357867 1844.75357867 1844.75357867\n",
      " 1844.75357867 1844.75357867 1844.75357867 1844.75357867 1844.75357867\n",
      " 1844.75357867 1844.75357867 1844.75357867 1844.75357867 1844.75357867\n",
      " 1844.75357867 1844.75357867 1844.75357867 1844.75357867 1844.75357867\n",
      " 1844.75357867 1844.75357867 1844.75357867 1844.75357867 1844.75357867\n",
      " 1844.75357867 1844.75357867 1844.75357867 1844.75357867 1844.75357867\n",
      " 1844.75357867 1844.75357867 1844.75357867 1844.75357867 1844.75357867\n",
      " 1844.75357867 1844.75357867 1844.75357867 1844.75357867 1844.75357867\n",
      " 1844.75357867 1844.75357867 1844.75357867 1844.75357867 1844.75357867\n",
      " 1844.75357867 1844.75357867 1844.75357867 1844.75357867 1844.75357867\n",
      " 1844.75357867 1844.75357867 1844.75357867 1844.75357867 1844.75357867\n",
      " 1844.75357867 1844.75357867 1844.75357867 1844.75357867 1844.75357867\n",
      " 1844.75357867 1844.75357867 1844.75357867 1844.75357867 1844.75357867\n",
      " 1844.75357867 1844.75357867 1844.75357867 1844.75357867 1844.75357867\n",
      " 1844.75357867 1844.75357867 1844.75357867 1844.75357867 1844.75357867\n",
      " 1844.75357867 1844.75357867 1844.75357867 1844.75357867 1844.75357867\n",
      " 1844.75357867 1844.75357867 1844.75357867 1844.75357867 1844.75357867\n",
      " 1844.75357867 1844.75357867 1844.75357867 1844.75357867 1844.75357867\n",
      " 1844.75357867 1844.75357867 1844.75357867 1844.75357867 1844.75357867\n",
      " 1844.75357867 1844.75357867 1844.75357867 1844.75357867 1844.75357867\n",
      " 1844.75357867 1844.75357867 1844.75357867 1844.75357867 1844.75357867\n",
      " 1844.75357867 1844.75357867 1844.75357867 1844.75357867 1844.75357867\n",
      " 1844.75357867 1844.75357867 1844.75357867 1844.75357867 1844.75357867\n",
      " 1844.75357867 1844.75357867 1844.75357867 1844.75357867 1844.75357867\n",
      " 1844.75357867 1844.75357867 1844.75357867 1844.75357867 1844.75357867\n",
      " 1844.75357867 1844.75357867 1844.75357867 1844.75357867 1844.75357867\n",
      " 1844.75357867 1844.75357867 1844.75357867 1844.75357867 1844.75357867\n",
      " 1844.75357867 1844.75357867 1844.75357867 1844.75357867 1844.75357867\n",
      " 1844.75357867 1844.75357867 1844.75357867 1844.75357867 1844.75357867\n",
      " 1844.75357867 1844.75357867 1844.75357867 1844.75357867 1844.75357867\n",
      " 1844.75357867 1844.75357867 1844.75357867 1844.75357867 1844.75357867\n",
      " 1844.75357867 1844.75357867 1844.75357867 1844.75357867 1844.75357867\n",
      " 1844.75357867 1844.75357867 1844.75357867 1844.75357867 1844.75357867\n",
      " 1844.75357867 1844.75357867 1844.75357867 1844.75357867 1844.75357867\n",
      " 1844.75357867 1844.75357867 1844.75357867 1844.75357867 1844.75357867\n",
      " 1844.75357867 1844.75357867 1844.75357867 1844.75357867 1844.75357867\n",
      " 1844.75357867 1844.75357867 1844.75357867 1844.75357867 1844.75357867\n",
      " 1844.75357867 1844.75357867 1844.75357867 1844.75357867 1844.75357867\n",
      " 1844.75357867 1844.75357867 1844.75357867 1844.75357867 1844.75357867\n",
      " 1844.75357867 1844.75357867 1844.75357867 1844.75357867 1844.75357867\n",
      " 1844.75357867 1844.75357867 1844.75357867 1844.75357867 1844.75357867\n",
      " 1844.75357867 1844.75357867 1844.75357867 1844.75357867 1844.75357867\n",
      " 1844.75357867 1844.75357867 1844.75357867 1844.75357867 1844.75357867\n",
      " 1844.75357867 1844.75357867 1844.75357867 1844.75357867 1844.75357867\n",
      " 1844.75357867 1844.75357867 1844.75357867 1844.75357867 1844.75357867\n",
      " 1844.75357867 1844.75357867 1844.75357867 1844.75357867 1844.75357867\n",
      " 1844.75357867 1844.75357867 1844.75357867 1844.75357867 1844.75357867\n",
      " 1844.75357867 1844.75357867 1844.75357867 1844.75357867 1844.75357867\n",
      " 1844.75357867 1844.75357867 1844.75357867 1844.75357867 1844.75357867\n",
      " 1844.75357867 1844.75357867 1844.75357867 1844.75357867 1844.75357867\n",
      " 1844.75357867 1844.75357867 1844.75357867 1844.75357867 1844.75357867\n",
      " 1844.75357867 1844.75357867 1844.75357867 1844.75357867 1844.75357867\n",
      " 1844.75357867 1844.75357867 1844.75357867 1844.75357867 1844.75357867\n",
      " 1844.75357867 1844.75357867 1844.75357867 1844.75357867 1844.75357867\n",
      " 1844.75357867 1844.75357867 1844.75357867 1844.75357867 1844.75357867\n",
      " 1844.75357867 1844.75357867 1844.75357867 1844.75357867 1844.75357867\n",
      " 1844.75357867 1844.75357867 1844.75357867 1844.75357867 1844.75357867\n",
      " 1844.75357867 1844.75357867 1844.75357867 1844.75357867 1844.75357867\n",
      " 1844.75357867 1844.75357867 1844.75357867 1844.75357867 1844.75357867\n",
      " 1844.75357867 1844.75357867 1844.75357867 1844.75357867 1844.75357867\n",
      " 1844.75357867 1844.75357867 1844.75357867 1844.75357867 1844.75357867\n",
      " 1844.75357867 1844.75357867 1844.75357867 1844.75357867 1844.75357867\n",
      " 1844.75357867 1844.75357867 1844.75357867 1844.75357867 1844.75357867\n",
      " 1844.75357867 1844.75357867 1844.75357867 1844.75357867 1844.75357867\n",
      " 1844.75357867 1844.75357867 1844.75357867 1844.75357867 1844.75357867\n",
      " 1844.75357867 1844.75357867 1844.75357867 1844.75357867 1844.75357867\n",
      " 1844.75357867 1844.75357867 1844.75357867 1844.75357867 1844.75357867\n",
      " 1844.75357867 1844.75357867 1844.75357867 1844.75357867]\n"
     ]
    }
   ],
   "source": [
    "x_test= np.array(test_data.index).reshape(-1, 1)\n",
    "y_test = np.array(test_data)\n",
    "y_pred_test, test_mse, test_mae, test_mape, test_rmse = evaludate_gbt_model(x_test, y_test)\n",
    "\n",
    "print(\"Price predict on test data:\", y_pred_test)"
   ]
  },
  {
   "cell_type": "markdown",
   "id": "da7a7f8b",
   "metadata": {},
   "source": [
    "### 3.4 Predict price for the next 30 days"
   ]
  },
  {
   "cell_type": "code",
   "execution_count": 25,
   "id": "90de681a",
   "metadata": {},
   "outputs": [
    {
     "name": "stdout",
     "output_type": "stream",
     "text": [
      "Predicted closing prices for the next 30 days:\n",
      "[449.36105305 449.36105305 449.36105305 449.36105305 449.36105305\n",
      " 449.36105305 449.36105305 449.36105305 449.36105305 449.36105305\n",
      " 449.36105305 449.36105305 449.36105305 449.36105305 449.36105305\n",
      " 449.36105305 449.36105305 449.36105305 449.36105305 449.36105305\n",
      " 449.36105305 449.36105305 449.36105305 449.36105305 449.36105305\n",
      " 449.36105305 449.36105305 449.36105305 449.36105305 449.36105305]\n"
     ]
    }
   ],
   "source": [
    "last_index = len(df)\n",
    "date_range = pd.date_range(start=df.index[-1], periods=30, freq='D')\n",
    "\n",
    "# Create an array of 30 consecutive integers starting from last_index\n",
    "x_next_30_days = np.array(range(last_index+1, last_index+31)).reshape(-1, 1)\n",
    "\n",
    "# Predict the closing prices for the next 30 days\n",
    "y_next_30_days = gbt_model.predict(x_next_30_days)\n",
    "\n",
    "# Print the predicted closing prices for the next 30 days\n",
    "print('Predicted closing prices for the next 30 days:')\n",
    "print(y_next_30_days)"
   ]
  },
  {
   "cell_type": "code",
   "execution_count": 26,
   "id": "c5f81a9f",
   "metadata": {},
   "outputs": [
    {
     "name": "stdout",
     "output_type": "stream",
     "text": [
      "                   MSE          MAE      MAPE         RMSE\n",
      "Validate  1.331109e+05   279.201238  0.206871   364.843716\n",
      "Test      1.770997e+06  1086.125625  0.375039  1330.787969\n"
     ]
    }
   ],
   "source": [
    "metrics = {\n",
    "    'MSE': [val_mse, test_mse],\n",
    "    'MAE': [val_mae, test_mae],\n",
    "    'MAPE': [val_mape, test_mape],\n",
    "    'RMSE': [val_rmse, test_rmse],\n",
    "}\n",
    "\n",
    "df = pd.DataFrame(metrics, index=['Validate', 'Test'])\n",
    "\n",
    "print(df)"
   ]
  },
  {
   "cell_type": "code",
   "execution_count": 27,
   "id": "f3787695",
   "metadata": {},
   "outputs": [
    {
     "data": {
      "image/png": "[encoded data removed]",
      "text/plain": [
       "<Figure size 640x480 with 1 Axes>"
      ]
     },
     "metadata": {},
     "output_type": "display_data"
    }
   ],
   "source": [
    "plt.plot(train_data.index, train_data['Price'])\n",
    "plt.plot(test_data.index, test_data['Price'])\n",
    "plt.plot(val_data.index, val_data['Price'])\n",
    "\n",
    "plt.plot(test_data.index, y_pred_test)\n",
    "plt.plot(val_data.index, y_pred_val)\n",
    "plt.plot(date_range, y_next_30_days)\n",
    "\n",
    "plt.legend(['Train', 'Test', 'Validate','PredictTestData', 'PredictValidateData','PredictNext30Day'])\n",
    "plt.show()"
   ]
  }
 ],
 "metadata": {
  "kernelspec": {
   "display_name": "Python 3 (ipykernel)",
   "language": "python",
   "name": "python3"
  },
  "language_info": {
   "codemirror_mode": {
    "name": "ipython",
    "version": 3
   },
   "file_extension": ".py",
   "mimetype": "text/x-python",
   "name": "python",
   "nbconvert_exporter": "python",
   "pygments_lexer": "ipython3",
   "version": "3.11.1"
  }
 },
 "nbformat": 4,
 "nbformat_minor": 5
}
