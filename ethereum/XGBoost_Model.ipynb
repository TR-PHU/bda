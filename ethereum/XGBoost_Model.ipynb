{
 "cells": [
  {
   "cell_type": "markdown",
   "id": "a06675ab",
   "metadata": {},
   "source": [
    "### 1. Import libraries and get data"
   ]
  },
  {
   "cell_type": "code",
   "execution_count": 2,
   "id": "8ce980f2",
   "metadata": {},
   "outputs": [],
   "source": [
    "import numpy as np\n",
    "import pandas as pd\n",
    "import matplotlib.pyplot as plt\n",
    "\n",
    "from sklearn.metrics import mean_squared_error, mean_absolute_error, mean_absolute_percentage_error\n",
    "from xgboost import XGBRegressor"
   ]
  },
  {
   "cell_type": "code",
   "execution_count": 3,
   "id": "f220def1",
   "metadata": {},
   "outputs": [
    {
     "data": {
      "text/html": [
       "<div>\n",
       "<style scoped>\n",
       "    .dataframe tbody tr th:only-of-type {\n",
       "        vertical-align: middle;\n",
       "    }\n",
       "\n",
       "    .dataframe tbody tr th {\n",
       "        vertical-align: top;\n",
       "    }\n",
       "\n",
       "    .dataframe thead th {\n",
       "        text-align: right;\n",
       "    }\n",
       "</style>\n",
       "<table border=\"1\" class=\"dataframe\">\n",
       "  <thead>\n",
       "    <tr style=\"text-align: right;\">\n",
       "      <th></th>\n",
       "      <th>Price</th>\n",
       "    </tr>\n",
       "    <tr>\n",
       "      <th>Date</th>\n",
       "      <th></th>\n",
       "    </tr>\n",
       "  </thead>\n",
       "  <tbody>\n",
       "    <tr>\n",
       "      <th>2017-05-12</th>\n",
       "      <td>86.99</td>\n",
       "    </tr>\n",
       "    <tr>\n",
       "      <th>2017-05-13</th>\n",
       "      <td>89.90</td>\n",
       "    </tr>\n",
       "    <tr>\n",
       "      <th>2017-05-14</th>\n",
       "      <td>90.37</td>\n",
       "    </tr>\n",
       "    <tr>\n",
       "      <th>2017-05-15</th>\n",
       "      <td>92.56</td>\n",
       "    </tr>\n",
       "    <tr>\n",
       "      <th>2017-05-16</th>\n",
       "      <td>88.17</td>\n",
       "    </tr>\n",
       "    <tr>\n",
       "      <th>...</th>\n",
       "      <td>...</td>\n",
       "    </tr>\n",
       "    <tr>\n",
       "      <th>2023-06-08</th>\n",
       "      <td>1845.68</td>\n",
       "    </tr>\n",
       "    <tr>\n",
       "      <th>2023-06-09</th>\n",
       "      <td>1840.41</td>\n",
       "    </tr>\n",
       "    <tr>\n",
       "      <th>2023-06-10</th>\n",
       "      <td>1751.56</td>\n",
       "    </tr>\n",
       "    <tr>\n",
       "      <th>2023-06-11</th>\n",
       "      <td>1752.80</td>\n",
       "    </tr>\n",
       "    <tr>\n",
       "      <th>2023-06-12</th>\n",
       "      <td>1736.45</td>\n",
       "    </tr>\n",
       "  </tbody>\n",
       "</table>\n",
       "<p>2223 rows × 1 columns</p>\n",
       "</div>"
      ],
      "text/plain": [
       "              Price\n",
       "Date               \n",
       "2017-05-12    86.99\n",
       "2017-05-13    89.90\n",
       "2017-05-14    90.37\n",
       "2017-05-15    92.56\n",
       "2017-05-16    88.17\n",
       "...             ...\n",
       "2023-06-08  1845.68\n",
       "2023-06-09  1840.41\n",
       "2023-06-10  1751.56\n",
       "2023-06-11  1752.80\n",
       "2023-06-12  1736.45\n",
       "\n",
       "[2223 rows x 1 columns]"
      ]
     },
     "execution_count": 3,
     "metadata": {},
     "output_type": "execute_result"
    }
   ],
   "source": [
    "# Load the dataset\n",
    "df = pd.read_csv(\"./ETH.csv\")\n",
    "\n",
    "# Drop the unnecessary columns.\n",
    "df.drop(['Open', 'High', 'Low', 'Vol.', 'Change %'], axis=1, inplace=True)\n",
    "\n",
    "# Convert the \"Date\" column to datetime format\n",
    "df['Date'] = pd.to_datetime(df['Date'], format='%d-%b-%y')\n",
    "                                    \n",
    "# Sort the DataFrame by date\n",
    "df = df.sort_values('Date')\n",
    "\n",
    "# Set Date index\n",
    "df.set_index('Date', inplace=True)\n",
    "\n",
    "df"
   ]
  },
  {
   "cell_type": "markdown",
   "id": "053acacc",
   "metadata": {},
   "source": [
    "Forecasting Horizon Explained"
   ]
  },
  {
   "cell_type": "code",
   "execution_count": 4,
   "id": "612a7e03",
   "metadata": {},
   "outputs": [],
   "source": [
    "def create_features(df):\n",
    "    \"\"\"\n",
    "    Create time series features based on time series index.\n",
    "    \"\"\"\n",
    "    df = df.copy()\n",
    "    df['hour'] = df.index.hour\n",
    "    df['dayofweek'] = df.index.dayofweek\n",
    "    df['quarter'] = df.index.quarter\n",
    "    df['month'] = df.index.month\n",
    "    df['year'] = df.index.year\n",
    "    df['dayofyear'] = df.index.dayofyear\n",
    "    df['dayofmonth'] = df.index.day\n",
    "    df['weekofyear'] = df.index.isocalendar().week\n",
    "    return df\n",
    "\n",
    "df = create_features(df)"
   ]
  },
  {
   "cell_type": "markdown",
   "id": "65942131",
   "metadata": {},
   "source": [
    "Lag features"
   ]
  },
  {
   "cell_type": "code",
   "execution_count": 5,
   "id": "96e712d9",
   "metadata": {},
   "outputs": [],
   "source": [
    "def add_lags(df):\n",
    "    target_map = df['Price'].to_dict()\n",
    "    df['lag1'] = (df.index - pd.Timedelta('364 days')).map(target_map)\n",
    "    df['lag2'] = (df.index - pd.Timedelta('728 days')).map(target_map)\n",
    "    df['lag3'] = (df.index - pd.Timedelta('1092 days')).map(target_map)\n",
    "    return df\n",
    "\n",
    "df = add_lags(df)"
   ]
  },
  {
   "cell_type": "markdown",
   "id": "104d6d19",
   "metadata": {},
   "source": [
    "### 2. Split the data into training, test and validate sets"
   ]
  },
  {
   "cell_type": "code",
   "execution_count": 6,
   "id": "d89ec53c",
   "metadata": {},
   "outputs": [
    {
     "name": "stdout",
     "output_type": "stream",
     "text": [
      "Train shape: (1556, 12)\n",
      "Test shape: (333, 12)\n",
      "Validate shape: (334, 12)\n"
     ]
    }
   ],
   "source": [
    "train_size = int(0.7 * len(df))\n",
    "test_size = int(0.15 * len(df))\n",
    "val_size = len(df) - train_size - test_size\n",
    "\n",
    "train_data = df[:train_size]\n",
    "test_data = df[train_size:train_size+test_size]\n",
    "val_data = df[train_size+test_size:]\n",
    "\n",
    "print(\"Train shape:\", train_data.shape)\n",
    "print(\"Test shape:\", test_data.shape)\n",
    "print(\"Validate shape:\", val_data.shape)"
   ]
  },
  {
   "cell_type": "code",
   "execution_count": 7,
   "id": "ee5099da",
   "metadata": {},
   "outputs": [
    {
     "name": "stdout",
     "output_type": "stream",
     "text": [
      "Train shape: (1333, 12)\n",
      "Test shape: (444, 12)\n",
      "Validate shape: (446, 12)\n"
     ]
    }
   ],
   "source": [
    "train_size = int(0.6 * len(df))\n",
    "test_size = int(0.2 * len(df))\n",
    "val_size = len(df) - train_size - test_size\n",
    "\n",
    "train_data = df[:train_size]\n",
    "test_data = df[train_size:train_size+test_size]\n",
    "val_data = df[train_size+test_size:]\n",
    "\n",
    "print(\"Train shape:\", train_data.shape)\n",
    "print(\"Test shape:\", test_data.shape)\n",
    "print(\"Validate shape:\", val_data.shape)"
   ]
  },
  {
   "cell_type": "code",
   "execution_count": 8,
   "id": "cbaa0a3b",
   "metadata": {},
   "outputs": [
    {
     "name": "stdout",
     "output_type": "stream",
     "text": [
      "Train shape: (1556, 12)\n",
      "Test shape: (444, 12)\n",
      "Validate shape: (223, 12)\n"
     ]
    }
   ],
   "source": [
    "train_size = int(0.7 * len(df))\n",
    "test_size = int(0.2 * len(df))\n",
    "val_size = len(df) - train_size - test_size\n",
    "\n",
    "train_data = df[:train_size]\n",
    "test_data = df[train_size:train_size+test_size]\n",
    "val_data = df[train_size+test_size:]\n",
    "\n",
    "print(\"Train shape:\", train_data.shape)\n",
    "print(\"Test shape:\", test_data.shape)\n",
    "print(\"Validate shape:\", val_data.shape)\n",
    "\n",
    "train_data = create_features(train_data)\n",
    "val_data = create_features(val_data)\n",
    "test_data = create_features(test_data)"
   ]
  },
  {
   "cell_type": "markdown",
   "id": "115e364e",
   "metadata": {},
   "source": [
    "## 3. Perform XGBoost Model"
   ]
  },
  {
   "cell_type": "markdown",
   "id": "ee69b186",
   "metadata": {},
   "source": [
    "### 3.1 Build and fit XGBoost Model with train data"
   ]
  },
  {
   "cell_type": "code",
   "execution_count": 9,
   "id": "ec8bfb2f",
   "metadata": {},
   "outputs": [
    {
     "name": "stdout",
     "output_type": "stream",
     "text": [
      "[01:29:51] WARNING: C:/Jenkins/workspace/xgboost-win64_release_0.90/src/objective/regression_obj.cu:152: reg:linear is now deprecated in favor of reg:squarederror.\n"
     ]
    },
    {
     "data": {
      "text/html": [
       "<style>#sk-container-id-1 {color: black;background-color: white;}#sk-container-id-1 pre{padding: 0;}#sk-container-id-1 div.sk-toggleable {background-color: white;}#sk-container-id-1 label.sk-toggleable__label {cursor: pointer;display: block;width: 100%;margin-bottom: 0;padding: 0.3em;box-sizing: border-box;text-align: center;}#sk-container-id-1 label.sk-toggleable__label-arrow:before {content: \"▸\";float: left;margin-right: 0.25em;color: #696969;}#sk-container-id-1 label.sk-toggleable__label-arrow:hover:before {color: black;}#sk-container-id-1 div.sk-estimator:hover label.sk-toggleable__label-arrow:before {color: black;}#sk-container-id-1 div.sk-toggleable__content {max-height: 0;max-width: 0;overflow: hidden;text-align: left;background-color: #f0f8ff;}#sk-container-id-1 div.sk-toggleable__content pre {margin: 0.2em;color: black;border-radius: 0.25em;background-color: #f0f8ff;}#sk-container-id-1 input.sk-toggleable__control:checked~div.sk-toggleable__content {max-height: 200px;max-width: 100%;overflow: auto;}#sk-container-id-1 input.sk-toggleable__control:checked~label.sk-toggleable__label-arrow:before {content: \"▾\";}#sk-container-id-1 div.sk-estimator input.sk-toggleable__control:checked~label.sk-toggleable__label {background-color: #d4ebff;}#sk-container-id-1 div.sk-label input.sk-toggleable__control:checked~label.sk-toggleable__label {background-color: #d4ebff;}#sk-container-id-1 input.sk-hidden--visually {border: 0;clip: rect(1px 1px 1px 1px);clip: rect(1px, 1px, 1px, 1px);height: 1px;margin: -1px;overflow: hidden;padding: 0;position: absolute;width: 1px;}#sk-container-id-1 div.sk-estimator {font-family: monospace;background-color: #f0f8ff;border: 1px dotted black;border-radius: 0.25em;box-sizing: border-box;margin-bottom: 0.5em;}#sk-container-id-1 div.sk-estimator:hover {background-color: #d4ebff;}#sk-container-id-1 div.sk-parallel-item::after {content: \"\";width: 100%;border-bottom: 1px solid gray;flex-grow: 1;}#sk-container-id-1 div.sk-label:hover label.sk-toggleable__label {background-color: #d4ebff;}#sk-container-id-1 div.sk-serial::before {content: \"\";position: absolute;border-left: 1px solid gray;box-sizing: border-box;top: 0;bottom: 0;left: 50%;z-index: 0;}#sk-container-id-1 div.sk-serial {display: flex;flex-direction: column;align-items: center;background-color: white;padding-right: 0.2em;padding-left: 0.2em;position: relative;}#sk-container-id-1 div.sk-item {position: relative;z-index: 1;}#sk-container-id-1 div.sk-parallel {display: flex;align-items: stretch;justify-content: center;background-color: white;position: relative;}#sk-container-id-1 div.sk-item::before, #sk-container-id-1 div.sk-parallel-item::before {content: \"\";position: absolute;border-left: 1px solid gray;box-sizing: border-box;top: 0;bottom: 0;left: 50%;z-index: -1;}#sk-container-id-1 div.sk-parallel-item {display: flex;flex-direction: column;z-index: 1;position: relative;background-color: white;}#sk-container-id-1 div.sk-parallel-item:first-child::after {align-self: flex-end;width: 50%;}#sk-container-id-1 div.sk-parallel-item:last-child::after {align-self: flex-start;width: 50%;}#sk-container-id-1 div.sk-parallel-item:only-child::after {width: 0;}#sk-container-id-1 div.sk-dashed-wrapped {border: 1px dashed gray;margin: 0 0.4em 0.5em 0.4em;box-sizing: border-box;padding-bottom: 0.4em;background-color: white;}#sk-container-id-1 div.sk-label label {font-family: monospace;font-weight: bold;display: inline-block;line-height: 1.2em;}#sk-container-id-1 div.sk-label-container {text-align: center;}#sk-container-id-1 div.sk-container {/* jupyter's `normalize.less` sets `[hidden] { display: none; }` but bootstrap.min.css set `[hidden] { display: none !important; }` so we also need the `!important` here to be able to override the default hidden behavior on the sphinx rendered scikit-learn.org. See: https://github.com/scikit-learn/scikit-learn/issues/21755 */display: inline-block !important;position: relative;}#sk-container-id-1 div.sk-text-repr-fallback {display: none;}</style><div id=\"sk-container-id-1\" class=\"sk-top-container\"><div class=\"sk-text-repr-fallback\"><pre>XGBRegressor(early_stopping_rounds=50, learning_rate=0.01, n_estimators=1000)</pre><b>In a Jupyter environment, please rerun this cell to show the HTML representation or trust the notebook. <br />On GitHub, the HTML representation is unable to render, please try loading this page with nbviewer.org.</b></div><div class=\"sk-container\" hidden><div class=\"sk-item\"><div class=\"sk-estimator sk-toggleable\"><input class=\"sk-toggleable__control sk-hidden--visually\" id=\"sk-estimator-id-1\" type=\"checkbox\" checked><label for=\"sk-estimator-id-1\" class=\"sk-toggleable__label sk-toggleable__label-arrow\">XGBRegressor</label><div class=\"sk-toggleable__content\"><pre>XGBRegressor(early_stopping_rounds=50, learning_rate=0.01, n_estimators=1000)</pre></div></div></div></div></div>"
      ],
      "text/plain": [
       "XGBRegressor(early_stopping_rounds=50, learning_rate=0.01, n_estimators=1000)"
      ]
     },
     "execution_count": 9,
     "metadata": {},
     "output_type": "execute_result"
    }
   ],
   "source": [
    "features = ['dayofyear', 'hour', 'dayofweek', 'quarter', 'month','year', 'lag1','lag2','lag3']\n",
    "target = 'Price'\n",
    "\n",
    "x_train = train_data[features]\n",
    "y_train = train_data[target]\n",
    "\n",
    "x_val = val_data[features]\n",
    "y_val = val_data[target]\n",
    "\n",
    "x_test = test_data[features]\n",
    "y_test = test_data[target]\n",
    "\n",
    "xgb_model = XGBRegressor(base_score=0.5,\n",
    "                       booster='gbtree',    \n",
    "                       n_estimators=1000,\n",
    "                       early_stopping_rounds=50,\n",
    "                       objective='reg:linear',\n",
    "                       max_depth=3,\n",
    "                       learning_rate=0.01)\n",
    "\n",
    "xgb_model.fit(x_train, y_train, eval_set=[(df[features], df[target])], early_stopping_rounds=50, verbose=False)"
   ]
  },
  {
   "cell_type": "markdown",
   "id": "b187f022",
   "metadata": {},
   "source": [
    "### 3.2 Evaluate on Validate data"
   ]
  },
  {
   "cell_type": "code",
   "execution_count": 10,
   "id": "799986d3",
   "metadata": {},
   "outputs": [],
   "source": [
    "def evaludate_xgb_model(x_data, y_data):\n",
    "    predictions = xgb_model.predict(x_data)\n",
    "    mse = mean_squared_error(y_data, predictions)\n",
    "    mae = mean_absolute_error(y_data, predictions)\n",
    "    mape = mean_absolute_percentage_error(y_data, predictions)\n",
    "    rmse = mean_squared_error(y_data, predictions, squared=False)\n",
    "    return predictions, mse, mae, mape, rmse"
   ]
  },
  {
   "cell_type": "code",
   "execution_count": 11,
   "id": "0087f1f8",
   "metadata": {},
   "outputs": [
    {
     "name": "stdout",
     "output_type": "stream",
     "text": [
      "Price predict on validate data: [2728.806  2728.806  2728.284  2728.284  2728.284  2728.284  2728.284\n",
      " 2728.284  2728.284  2726.7092 2728.284  2728.284  2728.284  2726.7092\n",
      " 2726.7092 2728.284  2726.7092 2726.7092 2726.7092 2726.7092 2726.7092\n",
      " 2726.7092 2726.7092 2726.7092 2726.7092 2726.7092 2726.7092 2726.7092\n",
      " 2726.7092 2726.7092 2726.7092 2726.7092 2726.7092 2726.7092 2726.7092\n",
      " 2726.7092 2726.7092 2726.7092 2726.7092 2726.7092 2726.7092 2726.7092\n",
      " 2726.7092 2726.7092 2726.7092 2726.7092 2726.7092 2726.7092 2726.7092\n",
      " 2726.7092 2726.7092 2726.7092 2726.7092 2726.7092 2726.7092 2726.7092\n",
      " 2726.7092 2726.7092 2726.7092 2726.7092 1431.012  1431.012  1431.012\n",
      " 1438.7749 1465.8687 1485.7957 1485.7957 1485.7957 1485.7957 1485.7957\n",
      " 1485.7957 1485.7957 1485.7957 1485.7957 1485.7957 1506.2274 1508.1595\n",
      " 1519.0598 1522.1107 1522.1107 1522.1107 1522.1107 1522.1107 1572.1752\n",
      " 1572.1752 1572.1752 1572.1752 1572.1752 1587.1245 1587.5858 1587.5858\n",
      " 1597.0663 1733.335  1848.8541 1848.8541 1886.9974 1886.9974 1886.9974\n",
      " 1894.6198 1894.6198 1889.427  1894.6198 1894.6198 1894.6198 1889.427\n",
      " 1894.6198 1894.6198 1894.6198 1894.6198 1889.427  1894.6198 1894.6198\n",
      " 1894.6198 1894.6198 1894.6198 1894.6198 1894.6198 1894.6198 1894.6198\n",
      " 1894.6198 1894.6198 1894.6198 1894.6198 1894.6198 1894.6198 1895.9501\n",
      " 1920.2554 1920.2554 1920.2554 1920.2554 1920.2554 1920.2554 1920.2554\n",
      " 1920.2554 1920.2554 1920.2554 1920.2554 1920.2554 1920.2554 1920.2554\n",
      " 1920.2554 1920.2554 1920.2554 1920.2554 1920.2554 1920.2554 1920.2554\n",
      " 1924.3373 1924.3373 1981.8016 2030.3147 2119.4077 2119.4077 2119.4077\n",
      " 2119.4077 2119.4077 2119.4077 2119.4077 2119.4077 2175.5303 2184.4956\n",
      " 2184.4956 2249.5945 2249.5945 2249.5945 2249.5945 2249.5945 2249.5945\n",
      " 2249.5945 2249.5945 2249.5945 2249.5945 2249.5945 2249.5945 2249.5945\n",
      " 2259.271  2268.43   2288.8838 2288.8838 2297.3918 2445.2407 2452.5674\n",
      " 2668.2087 2668.2087 2668.2087 2668.2087 2668.2087 2668.2087 2668.2087\n",
      " 2668.2087 2668.2087 2668.2087 2668.2087 2668.2087 2668.2087 2668.2087\n",
      " 2668.2087 2668.2087 2366.8528 2366.8528 2366.8528 2366.8528 2366.8528\n",
      " 2366.8528 2366.8528 2366.8528 2366.8528 2366.8528 2366.8528 2366.8528\n",
      " 2366.8528 2366.8528 2366.8528 2366.8528 2366.8528 2366.8528 2366.8528\n",
      " 2366.8528 2366.8528 2366.8528 2357.6194 2357.6194 2357.6194]\n"
     ]
    }
   ],
   "source": [
    "y_pred_val, val_mse, val_mae, val_mape, val_rmse = evaludate_xgb_model(x_val, y_val)\n",
    "\n",
    "print(\"Price predict on validate data:\", y_pred_val)"
   ]
  },
  {
   "cell_type": "markdown",
   "id": "2225f62f",
   "metadata": {},
   "source": [
    "### 3.3 Evaluate on Test data"
   ]
  },
  {
   "cell_type": "code",
   "execution_count": 12,
   "id": "2473094f",
   "metadata": {},
   "outputs": [
    {
     "name": "stdout",
     "output_type": "stream",
     "text": [
      "Price predict on test data: [2879.1223 2879.1223 2879.1223 2879.1223 2879.1223 2879.1223 2879.1223\n",
      " 2879.1223 2879.1223 2879.1223 2879.1223 2871.3718 2871.3718 2879.1223\n",
      " 2871.3718 2879.1223 2878.6226 2879.1223 2879.1223 2871.3718 2690.2385\n",
      " 2762.8262 2762.8262 2688.637  2762.8262 2778.9739 2778.9739 2846.2932\n",
      " 2778.9739 2846.2932 2778.9739 2778.9739 2846.2932 2846.2932 2846.2932\n",
      " 2778.9739 2688.637  2755.0757 2646.4785 2755.0757 2762.8262 2762.8262\n",
      " 2755.0757 2762.8262 2778.9739 2778.9739 2762.8262 2762.8262 2762.8262\n",
      " 2762.8262 2762.8262 2688.637  2688.637  2762.8262 2778.9739 2778.9739\n",
      " 2778.9739 2846.2932 2846.2932 2846.2932 2846.2932 2778.9739 2778.9739\n",
      " 2846.2932 2846.2932 2778.9739 2838.5427 2838.5427 2846.2932 2846.2932\n",
      " 2846.2932 2846.2932 2846.2932 2846.2932 2846.2932 2846.2932 2846.2932\n",
      " 2846.2932 2846.2932 2846.2932 2846.2932 2846.2932 2845.7935 2846.2932\n",
      " 2845.7935 2845.7935 2845.7935 2845.7935 2845.7935 2845.7935 2845.7935\n",
      " 2845.7935 2845.7935 2845.7935 2845.7935 2838.043  2723.1782 2723.1782\n",
      " 2723.1782 2723.1782 2723.1782 2723.1782 2723.1782 2723.1782 2723.1782\n",
      " 2723.1782 2723.1782 2723.1782 2723.1782 2723.1782 2723.1782 2723.1782\n",
      " 2723.1782 2723.1782 2723.1782 2723.1782 2723.1782 2723.1782 2723.1782\n",
      " 2723.1782 2723.1782 2723.1782 2719.3835 2719.3835 2719.3835 2719.3835\n",
      " 2719.3835 2723.1782 2719.3835 2723.1782 2723.1782 2719.3835 2719.3835\n",
      " 2719.3835 2719.3835 2719.3835 2719.3835 2719.3835 2719.3835 1317.1543\n",
      " 1317.1543 1317.1543 1345.2441 1391.5115 1443.9001 1443.9001 1443.9001\n",
      " 1443.9001 1443.9001 1567.4188 1567.4188 1567.4188 1567.4188 1576.6216\n",
      " 1589.3029 1591.235  1602.1353 1605.1862 1605.1862 1605.1862 1605.1862\n",
      " 1605.1862 1655.2506 1663.0011 1663.0011 1663.0011 1663.0011 1677.9504\n",
      " 1677.9504 1677.9504 1686.9583 1817.6879 1933.207  1933.207  1971.3503\n",
      " 1971.3503 1971.3503 1978.9727 1978.9727 1978.9727 1978.9727 1978.9727\n",
      " 1978.9727 1978.9727 1978.9727 1978.9727 1978.9727 1978.9727 1978.9727\n",
      " 1978.9727 1978.9727 1978.9727 1978.9727 1978.9727 1978.9727 1978.9727\n",
      " 1978.9727 1978.9727 1978.9727 1978.9727 1978.9727 1978.9727 1978.9727\n",
      " 1978.9727 1980.303  2004.6083 2004.6083 1906.1526 1906.1526 1906.1526\n",
      " 1906.1526 1906.1526 1906.1526 1906.1526 1906.1526 1906.1526 1906.1526\n",
      " 1906.1526 1906.1526 1906.1526 1906.1526 1906.1526 1906.1526 1906.1526\n",
      " 1906.1526 1906.1526 1910.2345 1910.2345 1967.6985 2016.2118 2105.3047\n",
      " 2105.3047 2203.7605 2196.0103 2203.7605 2196.0103 2150.031  2150.031\n",
      " 2206.1533 2215.1187 2215.1187 2269.226  2367.6821 2367.6821 2367.6821\n",
      " 2367.6821 2367.6821 2367.6821 2367.6821 2367.6821 2367.6821 2367.6821\n",
      " 2367.6821 2367.6821 2377.3586 2386.5176 2406.972  2406.972  2415.48\n",
      " 2563.3286 2570.6555 2786.2966 2786.2966 2786.2966 2786.2966 2786.2966\n",
      " 2786.2966 2786.2966 2786.2966 2786.2966 2786.2966 2786.2966 2786.2966\n",
      " 2786.2966 2786.2966 2786.2966 2786.2966 2484.9412 2484.9412 2484.9412\n",
      " 2484.9412 2484.9412 2484.9412 2484.9412 2484.9412 2484.9412 2484.9412\n",
      " 2484.9412 2484.9412 2484.9412 2484.9412 2484.9412 2484.9412 2484.9412\n",
      " 2484.9412 2484.9412 2484.9412 2484.9412 2484.9412 2475.7078 2475.7078\n",
      " 2475.7078 2475.7078 2475.7078 2475.7078 2462.4768 2462.4768 2437.741\n",
      " 2415.2976 2415.2976 2356.5205 2317.8032 2356.5205 2356.5205 2317.8032\n",
      " 2356.5205 2356.5205 2356.5205 2356.5205 2356.5205 2356.5205 2356.5205\n",
      " 2356.5205 2356.5205 2356.5205 2356.5205 2356.5205 2356.5205 2356.5205\n",
      " 2356.5205 2356.5205 2356.5205 2356.5205 2356.5205 2356.5205 2356.5205\n",
      " 2356.5205 2356.5205 2356.5205 2356.5205 2322.7844 2322.7844 2242.263\n",
      " 2243.1274 2243.1274 2243.1274 2243.1274 2243.1274 2249.0637 2326.5813\n",
      " 2393.0571 2406.6719 2406.6719 2406.6719 2561.9312 2645.1702 2671.515\n",
      " 2763.5923 2763.5923 2763.5923 2763.5923 2763.0703 2763.0703 2763.0703\n",
      " 2763.0703 2763.0703 2763.0703 2763.5923 2763.5923 2763.5923 2763.5923\n",
      " 2763.5923 2763.5923 2763.5923 2763.5923 2763.5923 2763.5923 2763.5923\n",
      " 2763.0703 2763.0703 2761.4956 2761.113  2761.635  2761.635  2761.4353\n",
      " 2730.2078 2728.6062 2728.6062 2728.6062 2728.6062 2728.6062 2728.806\n",
      " 2728.6062 2728.6062 2728.6062 2728.6062 2728.806  2728.806  2728.806\n",
      " 2728.6062 2728.6062 2728.6062 2728.6062 2728.6062 2728.6062 2728.6062\n",
      " 2728.6062 2728.6062 2728.6062 2728.6062 2728.6062 2728.6062 2728.6062\n",
      " 2728.6062 2728.6062 2728.6062 2728.6062 2728.6062 2728.6062 2728.6062\n",
      " 2728.6062 2728.806  2728.806  2728.806  2728.6062 2728.6062 2728.6062\n",
      " 2728.6062 2728.806  2728.6062 2728.806  2728.806  2728.806  2728.806\n",
      " 2728.806  2728.806  2728.806  2728.806  2728.806  2728.806  2728.806\n",
      " 2728.806  2728.806  2728.806 ]\n"
     ]
    }
   ],
   "source": [
    "y_pred_test, test_mse, test_mae, test_mape, test_rmse = evaludate_xgb_model(x_test, y_test)\n",
    "\n",
    "print(\"Price predict on test data:\", y_pred_test)"
   ]
  },
  {
   "cell_type": "markdown",
   "id": "f9b8e333",
   "metadata": {},
   "source": [
    "### 3.4 Predict price for the next 30 days"
   ]
  },
  {
   "cell_type": "code",
   "execution_count": 13,
   "id": "e7dd379d",
   "metadata": {},
   "outputs": [
    {
     "name": "stdout",
     "output_type": "stream",
     "text": [
      "Predicted closing prices for the next 30 days:\n",
      "[2357.6194 2357.6194 2357.6194 2357.6194 2344.3884 2344.3884 2319.6528\n",
      " 2297.2097 2297.2097 2238.4321 2238.4321 2238.4321 2238.4321 2238.4321\n",
      " 2238.4321 2238.4321 2238.4321 2238.4321 2238.4321 2238.4321 2238.4321\n",
      " 2238.4321 2238.4321 2238.4321 2238.4321 2238.4321 2238.4321 2238.4321\n",
      " 2238.4321 2238.4321]\n"
     ]
    }
   ],
   "source": [
    "future_range = pd.date_range(start=df.index[-1], periods=30, freq='D')\n",
    "future_df = pd.DataFrame(index=future_range)\n",
    "future_df['isFuture'] = True\n",
    "df['isFuture'] = False\n",
    "df_and_future = pd.concat([df, future_df])\n",
    "df_and_future = create_features(df_and_future)\n",
    "df_and_future = add_lags(df_and_future)\n",
    "\n",
    "future_w_features = df_and_future.query('isFuture').copy()\n",
    "\n",
    "\n",
    "# Predict the closing prices for the next 30 days\n",
    "y_next_30_days = xgb_model.predict(future_w_features[features])\n",
    "\n",
    "# Print the predicted closing prices for the next 30 days\n",
    "print('Predicted closing prices for the next 30 days:')\n",
    "print(y_next_30_days)"
   ]
  },
  {
   "cell_type": "code",
   "execution_count": 14,
   "id": "95dfb36e",
   "metadata": {},
   "outputs": [
    {
     "name": "stdout",
     "output_type": "stream",
     "text": [
      "                   MSE          MAE      MAPE         RMSE\n",
      "Validate  6.982188e+05   636.610225  0.455880   835.594884\n",
      "Test      1.259524e+06  1033.967314  0.473388  1122.285095\n"
     ]
    }
   ],
   "source": [
    "metrics = {\n",
    "    'MSE': [val_mse, test_mse],\n",
    "    'MAE': [val_mae, test_mae],\n",
    "    'MAPE': [val_mape, test_mape],\n",
    "    'RMSE': [val_rmse, test_rmse],\n",
    "}\n",
    "\n",
    "acc = pd.DataFrame(metrics, index=['Validate', 'Test'])\n",
    "\n",
    "print(acc)"
   ]
  },
  {
   "cell_type": "code",
   "execution_count": 16,
   "id": "37018b05",
   "metadata": {},
   "outputs": [
    {
     "data": {
      "image/png": "[encoded data removed]",
      "text/plain": [
       "<Figure size 640x480 with 1 Axes>"
      ]
     },
     "metadata": {},
     "output_type": "display_data"
    }
   ],
   "source": [
    "plt.plot(train_data.index, train_data['Price'])\n",
    "plt.plot(test_data.index, test_data['Price'])\n",
    "plt.plot(val_data.index, val_data['Price'])\n",
    "\n",
    "plt.plot(test_data.index, y_pred_test)\n",
    "plt.plot(val_data.index, y_pred_val)\n",
    "plt.plot(future_range, y_next_30_days)\n",
    "\n",
    "plt.legend(['Train', 'Test', 'Validate','PredictTestData', 'PredictValidateData','PredictNext30Day'])\n",
    "plt.show()"
   ]
  },
  {
   "cell_type": "code",
   "execution_count": null,
   "id": "b5294425",
   "metadata": {},
   "outputs": [],
   "source": []
  }
 ],
 "metadata": {
  "kernelspec": {
   "display_name": "Python 3 (ipykernel)",
   "language": "python",
   "name": "python3"
  },
  "language_info": {
   "codemirror_mode": {
    "name": "ipython",
    "version": 3
   },
   "file_extension": ".py",
   "mimetype": "text/x-python",
   "name": "python",
   "nbconvert_exporter": "python",
   "pygments_lexer": "ipython3",
   "version": "3.11.1"
  }
 },
 "nbformat": 4,
 "nbformat_minor": 5
}
