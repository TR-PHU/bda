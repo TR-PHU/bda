{
 "cells": [
  {
   "cell_type": "markdown",
   "id": "f8047eaf",
   "metadata": {
    "id": "f8047eaf"
   },
   "source": [
    "### Import libraries and get data"
   ]
  },
  {
   "cell_type": "code",
   "execution_count": 66,
   "id": "253f387d",
   "metadata": {
    "id": "253f387d"
   },
   "outputs": [],
   "source": [
    "import numpy as np\n",
    "import pandas as pd\n",
    "import matplotlib.pyplot as plt\n",
    "import pmdarima as pmd\n",
    "\n",
    "from sklearn.metrics import mean_squared_error, mean_absolute_error, mean_absolute_percentage_error\n",
    "\n",
    "from statsmodels.tsa.seasonal import seasonal_decompose\n",
    "from dateutil.parser import parse\n",
    "from statsmodels.tsa.arima.model import ARIMA"
   ]
  },
  {
   "cell_type": "markdown",
   "id": "58ee460a",
   "metadata": {},
   "source": [
    "## Load the dataset"
   ]
  },
  {
   "cell_type": "code",
   "execution_count": 67,
   "id": "38e633bd",
   "metadata": {
    "colab": {
     "base_uri": "https://localhost:8080/"
    },
    "id": "38e633bd",
    "outputId": "6070a0bb-a462-4f73-c27f-61cd8291913b"
   },
   "outputs": [
    {
     "data": {
      "text/html": [
       "<div>\n",
       "<style scoped>\n",
       "    .dataframe tbody tr th:only-of-type {\n",
       "        vertical-align: middle;\n",
       "    }\n",
       "\n",
       "    .dataframe tbody tr th {\n",
       "        vertical-align: top;\n",
       "    }\n",
       "\n",
       "    .dataframe thead th {\n",
       "        text-align: right;\n",
       "    }\n",
       "</style>\n",
       "<table border=\"1\" class=\"dataframe\">\n",
       "  <thead>\n",
       "    <tr style=\"text-align: right;\">\n",
       "      <th></th>\n",
       "      <th>Price</th>\n",
       "    </tr>\n",
       "    <tr>\n",
       "      <th>Date</th>\n",
       "      <th></th>\n",
       "    </tr>\n",
       "  </thead>\n",
       "  <tbody>\n",
       "    <tr>\n",
       "      <th>2017-12-01</th>\n",
       "      <td>460.67</td>\n",
       "    </tr>\n",
       "    <tr>\n",
       "      <th>2017-12-02</th>\n",
       "      <td>455.51</td>\n",
       "    </tr>\n",
       "    <tr>\n",
       "      <th>2017-12-03</th>\n",
       "      <td>459.49</td>\n",
       "    </tr>\n",
       "    <tr>\n",
       "      <th>2017-12-04</th>\n",
       "      <td>465.00</td>\n",
       "    </tr>\n",
       "    <tr>\n",
       "      <th>2017-12-05</th>\n",
       "      <td>451.87</td>\n",
       "    </tr>\n",
       "    <tr>\n",
       "      <th>...</th>\n",
       "      <td>...</td>\n",
       "    </tr>\n",
       "    <tr>\n",
       "      <th>2023-06-12</th>\n",
       "      <td>1742.60</td>\n",
       "    </tr>\n",
       "    <tr>\n",
       "      <th>2023-06-13</th>\n",
       "      <td>1739.60</td>\n",
       "    </tr>\n",
       "    <tr>\n",
       "      <th>2023-06-14</th>\n",
       "      <td>1650.96</td>\n",
       "    </tr>\n",
       "    <tr>\n",
       "      <th>2023-06-15</th>\n",
       "      <td>1666.96</td>\n",
       "    </tr>\n",
       "    <tr>\n",
       "      <th>2023-06-16</th>\n",
       "      <td>1675.16</td>\n",
       "    </tr>\n",
       "  </tbody>\n",
       "</table>\n",
       "<p>2024 rows × 1 columns</p>\n",
       "</div>"
      ],
      "text/plain": [
       "              Price\n",
       "Date               \n",
       "2017-12-01   460.67\n",
       "2017-12-02   455.51\n",
       "2017-12-03   459.49\n",
       "2017-12-04   465.00\n",
       "2017-12-05   451.87\n",
       "...             ...\n",
       "2023-06-12  1742.60\n",
       "2023-06-13  1739.60\n",
       "2023-06-14  1650.96\n",
       "2023-06-15  1666.96\n",
       "2023-06-16  1675.16\n",
       "\n",
       "[2024 rows x 1 columns]"
      ]
     },
     "execution_count": 67,
     "metadata": {},
     "output_type": "execute_result"
    }
   ],
   "source": [
    "# Load the dataset\n",
    "df = pd.read_csv(\"./ETH.csv\")\n",
    "\n",
    "# Drop the unnecessary columns.\n",
    "df.drop(['Open', 'High', 'Low', 'Vol.', 'Change %'], axis=1, inplace=True)\n",
    "\n",
    "# Convert the \"Date\" column to datetime format\n",
    "df['Date'] = pd.to_datetime(df['Date'], format='%d-%b-%y')\n",
    "                                    \n",
    "# Sort the DataFrame by date\n",
    "df = df.sort_values('Date')\n",
    "\n",
    "# Set Date index\n",
    "df.set_index('Date', inplace=True)\n",
    "\n",
    "df"
   ]
  },
  {
   "cell_type": "markdown",
   "id": "0c4050e5",
   "metadata": {},
   "source": [
    "### Split the data into training, test and validate sets"
   ]
  },
  {
   "cell_type": "code",
   "execution_count": 68,
   "id": "f2b6b53f",
   "metadata": {},
   "outputs": [
    {
     "name": "stdout",
     "output_type": "stream",
     "text": [
      "Train shape: (1214, 1)\n",
      "Test shape: (607, 1)\n",
      "Validate shape: (203, 1)\n"
     ]
    }
   ],
   "source": [
    "train_size = int(0.6 * len(df))\n",
    "test_size = int(0.3 * len(df))\n",
    "val_size = len(df) - train_size - test_size\n",
    "\n",
    "train_data = df[:train_size]\n",
    "test_data = df[train_size:train_size+test_size]\n",
    "val_data = df[train_size+test_size:]\n",
    "\n",
    "print(\"Train shape:\", train_data.shape)\n",
    "print(\"Test shape:\", test_data.shape)\n",
    "print(\"Validate shape:\", val_data.shape)"
   ]
  },
  {
   "cell_type": "code",
   "execution_count": 69,
   "id": "1a5272e2",
   "metadata": {
    "colab": {
     "base_uri": "https://localhost:8080/"
    },
    "id": "1a5272e2",
    "outputId": "72f841c6-8b62-496f-db00-dd0a911d40c7"
   },
   "outputs": [
    {
     "name": "stdout",
     "output_type": "stream",
     "text": [
      "Train shape: (1416, 1)\n",
      "Test shape: (404, 1)\n",
      "Validate shape: (204, 1)\n"
     ]
    }
   ],
   "source": [
    "train_size = int(0.7 * len(df))\n",
    "test_size = int(0.2 * len(df))\n",
    "val_size = len(df) - train_size - test_size\n",
    "\n",
    "train_data = df[:train_size]\n",
    "test_data = df[train_size:train_size+test_size]\n",
    "val_data = df[train_size+test_size:]\n",
    "\n",
    "print(\"Train shape:\", train_data.shape)\n",
    "print(\"Test shape:\", test_data.shape)\n",
    "print(\"Validate shape:\", val_data.shape)"
   ]
  },
  {
   "cell_type": "code",
   "execution_count": 70,
   "id": "f3e50554",
   "metadata": {},
   "outputs": [
    {
     "name": "stdout",
     "output_type": "stream",
     "text": [
      "Train shape: (1214, 1)\n",
      "Test shape: (404, 1)\n",
      "Validate shape: (406, 1)\n"
     ]
    }
   ],
   "source": [
    "train_size = int(0.6 * len(df))\n",
    "test_size = int(0.2 * len(df))\n",
    "val_size = len(df) - train_size - test_size\n",
    "\n",
    "train_data = df[:train_size]\n",
    "test_data = df[train_size:train_size+test_size]\n",
    "val_data = df[train_size+test_size:]\n",
    "\n",
    "print(\"Train shape:\", train_data.shape)\n",
    "print(\"Test shape:\", test_data.shape)\n",
    "print(\"Validate shape:\", val_data.shape)"
   ]
  },
  {
   "cell_type": "markdown",
   "id": "CDT4u80EuyHT",
   "metadata": {
    "id": "CDT4u80EuyHT"
   },
   "source": [
    "## ARIMA Model"
   ]
  },
  {
   "cell_type": "markdown",
   "id": "aZhec0PShHNJ",
   "metadata": {
    "id": "aZhec0PShHNJ"
   },
   "source": [
    "### 3. Perfom ARIMA Model "
   ]
  },
  {
   "cell_type": "code",
   "execution_count": 71,
   "id": "xluIDn_CVZil",
   "metadata": {
    "colab": {
     "base_uri": "https://localhost:8080/"
    },
    "id": "xluIDn_CVZil",
    "outputId": "b9f31564-f0f5-4586-d1fe-08efea1ab71b"
   },
   "outputs": [
    {
     "name": "stdout",
     "output_type": "stream",
     "text": [
      "Requirement already satisfied: pmdarima in c:\\users\\phutran\\appdata\\local\\programs\\python\\python311\\lib\\site-packages (2.0.3)\n",
      "Requirement already satisfied: joblib>=0.11 in c:\\users\\phutran\\appdata\\local\\programs\\python\\python311\\lib\\site-packages (from pmdarima) (1.2.0)\n",
      "Requirement already satisfied: Cython!=0.29.18,!=0.29.31,>=0.29 in c:\\users\\phutran\\appdata\\local\\programs\\python\\python311\\lib\\site-packages (from pmdarima) (0.29.34)\n",
      "Requirement already satisfied: numpy>=1.21.2 in c:\\users\\phutran\\appdata\\local\\programs\\python\\python311\\lib\\site-packages (from pmdarima) (1.23.5)\n",
      "Requirement already satisfied: pandas>=0.19 in c:\\users\\phutran\\appdata\\local\\programs\\python\\python311\\lib\\site-packages (from pmdarima) (1.5.3)\n",
      "Requirement already satisfied: scikit-learn>=0.22 in c:\\users\\phutran\\appdata\\local\\programs\\python\\python311\\lib\\site-packages (from pmdarima) (1.2.2)\n",
      "Requirement already satisfied: scipy>=1.3.2 in c:\\users\\phutran\\appdata\\local\\programs\\python\\python311\\lib\\site-packages (from pmdarima) (1.10.1)\n",
      "Requirement already satisfied: statsmodels>=0.13.2 in c:\\users\\phutran\\appdata\\local\\programs\\python\\python311\\lib\\site-packages (from pmdarima) (0.13.5)\n",
      "Requirement already satisfied: urllib3 in c:\\users\\phutran\\appdata\\local\\programs\\python\\python311\\lib\\site-packages (from pmdarima) (1.26.5)\n",
      "Requirement already satisfied: setuptools!=50.0.0,>=38.6.0 in c:\\users\\phutran\\appdata\\local\\programs\\python\\python311\\lib\\site-packages (from pmdarima) (65.5.0)\n",
      "Requirement already satisfied: python-dateutil>=2.8.1 in c:\\users\\phutran\\appdata\\local\\programs\\python\\python311\\lib\\site-packages (from pandas>=0.19->pmdarima) (2.8.1)\n",
      "Requirement already satisfied: pytz>=2020.1 in c:\\users\\phutran\\appdata\\local\\programs\\python\\python311\\lib\\site-packages (from pandas>=0.19->pmdarima) (2022.7.1)\n",
      "Requirement already satisfied: threadpoolctl>=2.0.0 in c:\\users\\phutran\\appdata\\local\\programs\\python\\python311\\lib\\site-packages (from scikit-learn>=0.22->pmdarima) (3.1.0)\n",
      "Requirement already satisfied: patsy>=0.5.2 in c:\\users\\phutran\\appdata\\local\\programs\\python\\python311\\lib\\site-packages (from statsmodels>=0.13.2->pmdarima) (0.5.3)\n",
      "Requirement already satisfied: packaging>=21.3 in c:\\users\\phutran\\appdata\\local\\programs\\python\\python311\\lib\\site-packages (from statsmodels>=0.13.2->pmdarima) (23.0)\n",
      "Requirement already satisfied: six in c:\\users\\phutran\\appdata\\local\\programs\\python\\python311\\lib\\site-packages (from patsy>=0.5.2->statsmodels>=0.13.2->pmdarima) (1.16.0)\n"
     ]
    }
   ],
   "source": [
    "!pip install pmdarima"
   ]
  },
  {
   "cell_type": "code",
   "execution_count": 72,
   "id": "b0235031",
   "metadata": {},
   "outputs": [],
   "source": [
    "x_train = np.array(train_data.index).reshape(-1, 1)\n",
    "y_train = np.array(train_data['Price'])"
   ]
  },
  {
   "cell_type": "markdown",
   "id": "c4e5a807",
   "metadata": {},
   "source": [
    "### 3.1 Build the best ARIMA Model using p,d,q from auto_arima"
   ]
  },
  {
   "cell_type": "code",
   "execution_count": 73,
   "id": "7AiUw0UsU_iT",
   "metadata": {
    "colab": {
     "base_uri": "https://localhost:8080/"
    },
    "id": "7AiUw0UsU_iT",
    "outputId": "bc9e0412-0e81-4954-c761-de3f42841501"
   },
   "outputs": [
    {
     "name": "stdout",
     "output_type": "stream",
     "text": [
      "Performing stepwise search to minimize aic\n"
     ]
    },
    {
     "name": "stderr",
     "output_type": "stream",
     "text": [
      "C:\\Users\\PHUTRAN\\AppData\\Local\\Programs\\Python\\Python311\\Lib\\site-packages\\pmdarima\\arima\\_validation.py:62: UserWarning: m (12) set for non-seasonal fit. Setting to 0\n",
      "  warnings.warn(\"m (%i) set for non-seasonal fit. Setting to 0\" % m)\n"
     ]
    },
    {
     "name": "stdout",
     "output_type": "stream",
     "text": [
      " ARIMA(1,1,1)(0,0,0)[0] intercept   : AIC=11917.210, Time=0.71 sec\n",
      " ARIMA(0,1,0)(0,0,0)[0] intercept   : AIC=11913.436, Time=0.05 sec\n",
      " ARIMA(1,1,0)(0,0,0)[0] intercept   : AIC=11915.436, Time=0.09 sec\n",
      " ARIMA(0,1,1)(0,0,0)[0] intercept   : AIC=11915.436, Time=0.28 sec\n",
      " ARIMA(0,1,0)(0,0,0)[0]             : AIC=11912.588, Time=0.02 sec\n",
      "\n",
      "Best model:  ARIMA(0,1,0)(0,0,0)[0]          \n",
      "Total fit time: 1.177 seconds\n"
     ]
    }
   ],
   "source": [
    "arima_model = pmd.auto_arima(y_train, start_p=1, start_q=1,\n",
    "                         test='adf',\n",
    "                         max_p=3, max_q=3, m=12,\n",
    "                         start_P=0, seasonal=False,\n",
    "                         d=None, D=0, trace=True,\n",
    "                         error_action='ignore',  \n",
    "                         suppress_warnings=True, \n",
    "                         stepwise=True)"
   ]
  },
  {
   "cell_type": "code",
   "execution_count": 74,
   "id": "f8b5f93f",
   "metadata": {},
   "outputs": [
    {
     "name": "stdout",
     "output_type": "stream",
     "text": [
      "(0, 1, 0)\n"
     ]
    }
   ],
   "source": [
    "order = (arima_model.order[0], arima_model.order[1], arima_model.order[2])\n",
    "print(order)"
   ]
  },
  {
   "cell_type": "code",
   "execution_count": 75,
   "id": "12490ece",
   "metadata": {},
   "outputs": [],
   "source": [
    "def evaluate_ariama_model(x_data, y_data, order):\n",
    "    y_preds = list()\n",
    "    history = [x for x in y_train]\n",
    "    for t in range(len(y_data)):\n",
    "        model = ARIMA(history, order=order)\n",
    "        model_fit = model.fit()\n",
    "        output = model_fit.forecast()\n",
    "        yhat = output[0]\n",
    "        y_preds.append(yhat)\n",
    "        obs = y_data[t]\n",
    "        history.append(obs)\n",
    "    mse = mean_squared_error(y_data, y_preds)\n",
    "    mae = mean_absolute_error(y_data, y_preds)\n",
    "    mape = mean_absolute_percentage_error(y_data, y_preds)\n",
    "    rmse = mean_squared_error(y_data, y_preds, squared=False)\n",
    "    return y_preds, mse, mae, mape, rmse"
   ]
  },
  {
   "cell_type": "markdown",
   "id": "bbd93e27",
   "metadata": {},
   "source": [
    "### 3.2 Evaluate on Validate data"
   ]
  },
  {
   "cell_type": "code",
   "execution_count": 76,
   "id": "d07d09d3",
   "metadata": {},
   "outputs": [
    {
     "name": "stdout",
     "output_type": "stream",
     "text": [
      "Price predict on validate data: [1686.8, 2636.0299999999997, 2519.98, 2229.1000000000004, 2342.3, 2080.79, 1955.36, 2009.53, 2056.3, 2145.86, 2022.9300000000003, 2091.14, 1912.12, 2019.34, 1959.85, 1975.12, 2043.19, 1972.93, 1979.35, 1942.91, 1793.42, 1724.3, 1792.68, 1813.56, 1998.46, 1941.79, 1818.07, 1834.64, 1775.29, 1804.37, 1806.71, 1859.99, 1813.72, 1793.0, 1788.06, 1663.02, 1531.42, 1435.46, 1206.67, 1210.84, 1237.92, 1068.49, 1086.47, 995.6099999999999, 1128.39, 1128.32, 1125.96, 1049.02, 1144.19, 1225.03, 1241.76, 1198.03, 1190.84, 1143.97, 1099.51, 1069.05, 1058.94, 1066.6, 1074.08, 1151.19, 1133.9, 1186.45, 1238.15, 1216.33, 1216.94, 1167.35, 1096.43, 1038.56, 1115.83, 1192.75, 1231.03, 1356.08, 1337.85, 1584.77, 1543.5, 1520.64, 1575.68, 1534.85, 1549.61, 1598.19, 1438.52, 1450.7, 1636.01, 1726.01, 1720.77, 1695.97, 1680.0, 1630.1, 1631.48, 1618.08, 1606.94, 1737.71, 1690.27, 1700.29, 1778.42, 1702.8, 1853.46, 1880.28, 1957.63, 1983.5, 1935.1, 1900.25, 1876.7, 1834.18, 1846.51, 1609.48, 1575.6, 1618.25, 1626.75, 1664.89, 1656.64, 1695.37, 1508.08, 1490.83, 1426.25, 1552.6, 1523.34, 1555.12, 1585.48, 1575.34, 1557.55, 1578.89, 1617.07, 1557.85, 1629.51, 1634.85, 1718.81, 1774.38, 1766.93, 1716.42, 1574.47, 1637.92, 1472.64, 1434.01, 1468.79, 1335.01, 1376.0, 1323.33, 1247.74, 1326.44, 1327.96, 1317.0, 1294.26, 1337.06, 1328.23, 1337.37, 1336.08, 1328.73, 1311.8, 1275.74, 1323.41, 1361.48, 1352.07, 1352.27, 1330.99, 1315.05, 1323.41, 1290.04, 1279.97, 1294.57, 1287.34, 1296.74, 1274.57, 1305.95, 1331.12, 1310.81, 1285.32, 1282.87, 1299.76, 1313.64, 1363.92, 1343.88, 1459.6, 1566.16, 1514.19, 1554.47, 1619.69, 1590.47, 1572.89, 1579.64, 1519.04, 1531.08, 1645.01, 1627.07, 1570.86, 1567.57, 1335.25, 1100.84, 1299.15, 1288.63, 1256.29, 1221.47, 1242.64, 1253.45, 1206.16, 1205.17, 1207.31, 1217.65, 1142.88, 1107.46, 1139.74, 1185.79, 1203.77, 1198.12, 1205.15, 1193.38, 1167.73, 1216.55, 1294.41, 1276.05, 1295.69, 1240.46, 1279.74, 1259.56, 1271.26, 1231.04, 1280.29, 1262.86, 1266.62, 1263.42, 1275.02, 1320.76, 1307.3, 1266.32, 1166.7, 1187.18, 1182.7, 1167.8, 1217.2, 1213.85, 1217.57, 1220.03, 1220.46, 1218.69, 1227.65, 1211.6, 1189.98, 1200.84, 1199.8, 1195.67, 1200.52, 1213.93, 1214.57, 1256.92, 1250.95, 1269.14, 1263.9, 1288.38, 1320.51, 1335.13, 1389.84, 1416.08, 1450.86, 1550.02, 1552.69, 1576.94, 1564.67, 1511.31, 1551.62, 1659.98, 1625.53, 1627.03, 1626.53, 1556.15, 1611.2, 1602.55, 1597.6, 1573.07, 1645.9699999999998, 1566.5, 1585.27, 1642.1, 1641.71, 1663.79, 1666.9, 1629.44, 1613.72, 1671.4, 1650.99, 1545.35, 1513.82, 1538.34, 1515.44, 1505.84, 1555.46, 1675.43, 1640.66, 1693.96, 1691.62, 1681.52, 1703.27, 1659.41, 1643.39, 1650.52, 1608.24, 1594.66, 1641.6, 1633.66, 1604.69, 1666.09, 1647.38, 1568.89, 1566.73, 1564.37, 1565.84, 1561.78, 1533.04, 1438.5, 1426.75, 1471.15, 1580.24, 1673.93, 1700.15, 1649.65, 1673.85, 1789.38, 1758.7, 1779.47, 1732.31, 1803.54, 1734.48, 1814.08, 1749.26, 1742.34, 1774.06, 1714.65, 1772.63, 1793.27, 1793.59, 1821.62, 1820.78, 1795.01, 1810.77, 1870.52, 1908.96, 1872.35, 1863.46, 1848.93, 1858.9, 1910.36, 1889.86, 1916.58, 2012.11, 2099.98, 2090.59, 2119.29, 2074.74, 2103.34, 1935.97, 1942.72, 1849.81, 1873.95, 1862.05, 1841.88, 1865.95, 1866.05, 1908.81, 1891.14, 1907.8, 1868.88, 1830.75, 1869.74, 1904.74, 1877.06, 1993.33, 1896.48, 1870.99, 1847.48, 1846.56, 1840.92, 1794.71, 1807.31, 1794.95, 1799.36, 1817.11, 1823.98, 1821.73, 1800.99, 1812.32, 1819.68, 1804.89, 1817.19, 1854.08, 1799.91, 1805.69, 1827.8, 1829.91, 1908.35, 1892.61, 1900.59, 1873.63, 1861.77, 1907.1, 1892.0500000000002, 1890.04, 1811.2, 1884.17, 1832.1, 1845.68, 1840.41, 1751.56, 1752.8, 1742.6, 1739.6, 1650.96, 1666.96]\n"
     ]
    }
   ],
   "source": [
    "x_val= np.array(val_data.index).reshape(-1, 1)\n",
    "y_val = np.array(val_data['Price'])\n",
    "y_pred_val, val_mse, val_mae, val_mape, val_rmse = evaluate_ariama_model(x_val, y_val, order)\n",
    "\n",
    "print(\"Price predict on validate data:\", y_pred_val)"
   ]
  },
  {
   "cell_type": "markdown",
   "id": "F1b6EiskiVot",
   "metadata": {
    "id": "F1b6EiskiVot"
   },
   "source": [
    "### 3.3 Evaluate on Test data"
   ]
  },
  {
   "cell_type": "code",
   "execution_count": 77,
   "id": "461adc13",
   "metadata": {
    "colab": {
     "base_uri": "https://localhost:8080/",
     "height": 785
    },
    "id": "461adc13",
    "outputId": "4fb808c0-096c-42fd-d60c-bca34cb18791"
   },
   "outputs": [
    {
     "name": "stdout",
     "output_type": "stream",
     "text": [
      "Price predict on test data: [1686.8, 1816.69, 1841.01, 1917.99, 1967.96, 2134.55, 2008.59, 2075.94, 2106.41, 2111.53, 1961.46, 2079.92, 2066.93, 2133.79, 2151.42, 2137.81, 2299.93, 2431.56, 2514.22, 2423.18, 2318.33, 2237.17, 2160.63, 2332.14, 2360.81, 2401.1, 2367.31, 2215.93, 2316.48, 2533.12, 2665.24, 2746.54, 2757.36, 2772.78, 2944.66, 2950.33, 3429.37, 3286.71, 3522.76, 3489.52, 3481.22, 3905.55, 3922.23, 3947.9, 4167.78, 3811.77, 3719.62, 4075.38, 3641.65, 3582.12, 3279.68, 3377.55, 2435.69, 2777.55, 2433.1100000000006, 2291.6, 2101.34, 2646.79, 2705.09, 2884.66, 2735.88, 2414.29, 2276.07, 2386.1, 2708.47, 2633.67, 2706.1, 2853.35, 2686.5, 2628.98, 2713.66, 2592.63, 2510.65, 2606.23, 2469.97, 2351.45, 2368.47, 2508.27, 2581.48, 2543.83, 2367.28, 2371.62, 2229.53, 2166.91, 2243.86, 1891.18, 1876.66, 1968.39, 1989.14, 1810.5699999999997, 1830.62, 1979.88, 2083.09, 2158.71, 2273.84, 2109.11, 2154.78, 2224.7, 2323.22, 2196.16, 2322.72, 2316.57, 2120.22, 2145.89, 2111.12, 2139.35, 2035.09, 1940.72, 1994.64, 1917.21, 1878.2, 1897.98, 1892.42, 1818.07, 1786.07, 1994.49, 2024.58, 2123.61, 2151.85, 2189.79, 2229.53, 2300.22, 2299.11, 2380.93, 2460.95, 2532.19, 2556.23, 2608.04, 2506.65, 2725.29, 2827.21, 2889.43, 3158.0, 3012.07, 3162.93, 3140.71, 3163.66, 3043.61, 3322.43, 3264.69, 3308.87, 3147.65, 3014.58, 3016.91, 3184.82, 3284.21, 3223.96, 3238.7000000000003, 3319.49, 3173.26, 3228.15, 3093.54, 3273.58, 3243.9, 3222.16, 3225.67, 3430.74, 3832.73, 3786.19, 3936.29, 3884.97, 3950.62, 3927.21, 3423.12, 3495.1, 3423.51, 3207.27, 3267.33, 3408.28, 3284.52, 3428.87, 3611.9, 3569.43, 3398.65, 3435.97, 3329.12, 2976.05, 2761.52, 3077.78, 3152.92, 2928.57, 2922.55, 3063.51, 2926.24, 2807.28, 2851.5, 3000.59, 3309.13, 3388.97, 3417.34, 3382.9, 3517.26, 3575.41, 3586.0, 3559.42, 3574.2, 3415.03, 3545.06, 3489.9, 3607.28, 3790.41, 3866.9, 3827.55, 3845.47, 3747.6, 3876.78, 4159.89, 4054.16, 3970.94, 4168.85, 4082.8, 4219.92, 4129.51, 3921.9300000000003, 4284.9, 4413.7, 4320.65, 4287.56, 4320.85, 4586.06, 4602.21, 4535.11, 4475.0, 4517.36, 4612.06, 4808.38, 4731.83, 4634.03, 4720.87, 4667.31, 4644.61, 4625.59, 4562.98, 4208.16, 4290.88, 4001.8700000000003, 4295.43, 4408.85, 4268.08, 4086.9500000000003, 4340.23, 4273.54, 4520.3, 4034.53, 4094.8, 4296.98, 4443.22, 4628.9, 4583.28, 4512.9, 4219.3, 4123.46, 4194.8, 4353.31, 4307.08, 4435.74, 4107.69, 3903.48, 4075.66, 4131.78, 3781.9400000000005, 3861.55, 4019.24, 3956.62, 3878.29, 3959.83, 3925.34, 3938.8, 4016.59, 3979.54, 4110.14, 4043.3900000000003, 4093.14, 4061.27, 4036.24, 3791.69, 3627.93, 3709.57, 3677.85, 3765.67, 3830.67, 3764.24, 3789.52, 3535.86, 3407.77, 3195.31, 3080.02, 3150.3, 3085.43, 3237.89, 3370.89, 3238.03, 3307.9, 3327.74, 3346.59, 3209.35, 3160.1499999999996, 3083.6500000000005, 3004.72, 2571.29, 2412.52, 2540.81, 2441.01, 2458.07, 2461.41, 2424.66, 2545.95, 2600.02, 2602.77, 2686.82, 2787.16, 2681.0, 2692.8, 2994.99, 3013.81, 3056.2, 3140.18, 3115.88, 3243.62, 3071.83, 2927.63, 2917.1, 2870.25, 2929.31, 3182.27, 3118.9, 2894.03, 2779.56, 2763.81, 2619.32, 2569.87, 2636.13, 2578.15, 2596.52, 2767.53, 2776.96, 2616.34, 2922.5, 2975.81, 2947.14, 2834.91, 2622.15, 2665.42, 2549.4, 2492.53, 2577.21, 2726.94, 2606.5, 2556.96, 2569.8, 2516.75, 2589.3, 2617.43, 2773.94, 2812.29, 2939.7600000000007, 2949.92, 2861.69, 2891.63, 2969.64, 3036.12, 3109.25, 3103.51, 3146.01, 3297.04, 3329.38, 3401.89, 3385.64, 3282.35, 3456.18, 3442.34, 3521.1, 3520.41, 3406.78, 3169.58, 3228.84, 3193.93, 3259.35, 3201.84, 2978.29, 3027.25, 3116.92, 3021.93, 3042.01, 3058.96, 2989.05, 3055.64, 3102.01, 3076.38, 2983.95, 2963.0, 2931.9, 2922.03, 3006.04, 2810.42, 2888.99, 2937.01, 2816.66, 2727.18, 2825.8, 2856.01, 2781.47, 2940.7, 2747.46]\n"
     ]
    }
   ],
   "source": [
    "x_test = np.array(test_data.index).reshape(-1, 1)\n",
    "y_test = np.array(test_data['Price'])\n",
    "y_pred_test, test_mse, test_mae, test_mape, test_rmse = evaluate_ariama_model(x_test, y_test, order)\n",
    "\n",
    "print(\"Price predict on test data:\", y_pred_test)"
   ]
  },
  {
   "cell_type": "markdown",
   "id": "T-klU1u3iRGA",
   "metadata": {
    "id": "T-klU1u3iRGA"
   },
   "source": [
    "### 3.4 Predict price for the next 30 days"
   ]
  },
  {
   "cell_type": "code",
   "execution_count": 78,
   "id": "R4r5BckljBBe",
   "metadata": {
    "colab": {
     "base_uri": "https://localhost:8080/"
    },
    "id": "R4r5BckljBBe",
    "outputId": "502ae446-ae4d-435e-8edf-962a4ec8535e"
   },
   "outputs": [
    {
     "name": "stdout",
     "output_type": "stream",
     "text": [
      "Predicted closing prices for the next 30 days:\n",
      "[1675.16, 2636.03, 2519.98, 2229.1, 2342.3, 2080.79, 1955.3599999999997, 2009.53, 2056.3, 2145.86, 2022.93, 2091.14, 1912.1199999999997, 2019.34, 1959.85, 1975.12, 2043.19, 1972.93, 1979.35, 1942.91, 1793.42, 1724.3000000000002, 1792.68, 1813.56, 1998.46, 1941.79, 1818.07, 1834.64, 1775.29, 1804.37]\n"
     ]
    }
   ],
   "source": [
    "last_index = len(df)\n",
    "\n",
    "date_range = pd.date_range(start=df.index[-1], periods=30, freq='D')\n",
    "\n",
    "# Create an array of 30 consecutive integers starting from last_index\n",
    "x_next_30_days = np.array(range(last_index+1, last_index+31)).reshape(-1, 1)\n",
    "\n",
    "# Predict the closing prices for the next 30 days\n",
    "y_next_30_days = list()\n",
    "history = [x for x in y_val]\n",
    "for t in range(len(x_next_30_days)):\n",
    "    model = ARIMA(history, order=order)\n",
    "    model_fit = model.fit()\n",
    "    output = model_fit.forecast()\n",
    "    yhat = output[0]\n",
    "    y_next_30_days.append(yhat)\n",
    "    obs = y_val[t]\n",
    "    history.append(obs)\n",
    "    \n",
    "# Print the predicted closing prices for the next 30 days\n",
    "print('Predicted closing prices for the next 30 days:')\n",
    "print(y_next_30_days)"
   ]
  },
  {
   "cell_type": "markdown",
   "id": "uLQMBilbWM0b",
   "metadata": {
    "id": "uLQMBilbWM0b"
   },
   "source": [
    "### 4.  Evaluate accuracy validate, test data"
   ]
  },
  {
   "cell_type": "code",
   "execution_count": 79,
   "id": "9701c7a8",
   "metadata": {},
   "outputs": [
    {
     "name": "stdout",
     "output_type": "stream",
     "text": [
      "                   MSE         MAE      MAPE       RMSE\n",
      "Validate   6364.932971   46.082069  0.029127   79.78053\n",
      "Test      23145.822079  111.974356  0.037153  152.13751\n"
     ]
    }
   ],
   "source": [
    "metrics = {\n",
    "    'MSE': [val_mse, test_mse],\n",
    "    'MAE': [val_mae, test_mae],\n",
    "    'MAPE': [val_mape, test_mape],\n",
    "    'RMSE': [val_rmse, test_rmse],\n",
    "}\n",
    "\n",
    "acc = pd.DataFrame(metrics, index=['Validate', 'Test'])\n",
    "\n",
    "print(acc)"
   ]
  },
  {
   "cell_type": "code",
   "execution_count": 80,
   "id": "8461f167",
   "metadata": {},
   "outputs": [
    {
     "data": {
      "image/png": "[encoded data removed]",
      "text/plain": [
       "<Figure size 640x480 with 1 Axes>"
      ]
     },
     "metadata": {},
     "output_type": "display_data"
    }
   ],
   "source": [
    "plt.plot(train_data.index, train_data['Price'])\n",
    "plt.plot(test_data.index, test_data['Price'])\n",
    "plt.plot(val_data.index, val_data['Price'])\n",
    "\n",
    "plt.plot(test_data.index, y_pred_test)\n",
    "plt.plot(val_data.index, y_pred_val)\n",
    "plt.plot(date_range, y_next_30_days)\n",
    "\n",
    "plt.legend(['Train', 'Test', 'Validate','PredictTestData', 'PredictValidateData','PredictNext30Day'])\n",
    "plt.show()"
   ]
  }
 ],
 "metadata": {
  "colab": {
   "collapsed_sections": [
    "d1f40c31",
    "41ca6858"
   ],
   "provenance": []
  },
  "kernelspec": {
   "display_name": "Python 3 (ipykernel)",
   "language": "python",
   "name": "python3"
  },
  "language_info": {
   "codemirror_mode": {
    "name": "ipython",
    "version": 3
   },
   "file_extension": ".py",
   "mimetype": "text/x-python",
   "name": "python",
   "nbconvert_exporter": "python",
   "pygments_lexer": "ipython3",
   "version": "3.11.1"
  }
 },
 "nbformat": 4,
 "nbformat_minor": 5
}
